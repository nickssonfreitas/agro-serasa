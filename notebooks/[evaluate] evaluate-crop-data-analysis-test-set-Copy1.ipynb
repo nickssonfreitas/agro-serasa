{
 "cells": [
  {
   "cell_type": "code",
   "execution_count": 1,
   "id": "e2ff6ea7-e78d-44bd-9abd-247bb60c4630",
   "metadata": {
    "tags": []
   },
   "outputs": [],
   "source": [
    "### Load the auto reload extension to automatically reload modules when files on disk are updated\n",
    "%load_ext autoreload\n",
    "# it will automatically be reloaded without the need to restart the kernel.\n",
    "%autoreload 2"
   ]
  },
  {
   "cell_type": "code",
   "execution_count": 2,
   "id": "1c61e6ae-6dda-4ae0-9c75-7b71295d9aaf",
   "metadata": {
    "tags": []
   },
   "outputs": [],
   "source": [
    "import sys\n",
    "sys.path.append(\"../agrilearn/submodules/commons/\")\n",
    "sys.path.append(\"../agrilearn/submodules/crop_rnn/\")\n",
    "sys.path.append(\"../agrilearn/\")"
   ]
  },
  {
   "cell_type": "code",
   "execution_count": 3,
   "id": "13c7456c-9fb4-41b8-b528-9a481cbfa926",
   "metadata": {
    "tags": []
   },
   "outputs": [],
   "source": [
    "import boto3\n",
    "import os\n",
    "import geopandas as gpd\n",
    "import pandas as pd\n",
    "import folium\n",
    "import numpy as np\n",
    "from folium import GeoJson\n",
    "from io import BytesIO\n",
    "from tqdm import tqdm\n",
    "from eolearn.core import EOPatch\n",
    "from glob import glob"
   ]
  },
  {
   "cell_type": "code",
   "execution_count": 4,
   "id": "9a5c4767-cb01-4969-8549-630c4ab903e4",
   "metadata": {
    "tags": []
   },
   "outputs": [
    {
     "ename": "ModuleNotFoundError",
     "evalue": "No module named 's2cloudless'",
     "output_type": "error",
     "traceback": [
      "\u001b[0;31m---------------------------------------------------------------------------\u001b[0m",
      "\u001b[0;31mModuleNotFoundError\u001b[0m                       Traceback (most recent call last)",
      "\u001b[0;32m/tmp/ipykernel_26415/691563729.py\u001b[0m in \u001b[0;36m<module>\u001b[0;34m\u001b[0m\n\u001b[0;32m----> 1\u001b[0;31m \u001b[0;32mfrom\u001b[0m \u001b[0magrilearn\u001b[0m\u001b[0;34m.\u001b[0m\u001b[0mcrop_classification\u001b[0m \u001b[0;32mimport\u001b[0m \u001b[0myaml_utils\u001b[0m\u001b[0;34m,\u001b[0m \u001b[0mprocessing\u001b[0m\u001b[0;34m\u001b[0m\u001b[0;34m\u001b[0m\u001b[0m\n\u001b[0m",
      "\u001b[0;32m~/efs/agrilearn/submodules/crop_rnn/agrilearn/crop_classification/__init__.py\u001b[0m in \u001b[0;36m<module>\u001b[0;34m\u001b[0m\n\u001b[1;32m      1\u001b[0m \u001b[0;34m\"\"\"Init imports\"\"\"\u001b[0m\u001b[0;34m\u001b[0m\u001b[0;34m\u001b[0m\u001b[0m\n\u001b[0;32m----> 2\u001b[0;31m \u001b[0;32mfrom\u001b[0m \u001b[0;34m.\u001b[0m\u001b[0mcropclassifier\u001b[0m \u001b[0;32mimport\u001b[0m \u001b[0mCropClassifier\u001b[0m\u001b[0;34m\u001b[0m\u001b[0;34m\u001b[0m\u001b[0m\n\u001b[0m",
      "\u001b[0;32m~/efs/agrilearn/submodules/crop_rnn/agrilearn/crop_classification/cropclassifier.py\u001b[0m in \u001b[0;36m<module>\u001b[0;34m\u001b[0m\n\u001b[1;32m     23\u001b[0m \u001b[0;32mfrom\u001b[0m \u001b[0mgeopandas\u001b[0m \u001b[0;32mimport\u001b[0m \u001b[0mGeoDataFrame\u001b[0m\u001b[0;34m\u001b[0m\u001b[0;34m\u001b[0m\u001b[0m\n\u001b[1;32m     24\u001b[0m \u001b[0;34m\u001b[0m\u001b[0m\n\u001b[0;32m---> 25\u001b[0;31m \u001b[0;32mfrom\u001b[0m \u001b[0magrilearn\u001b[0m\u001b[0;34m.\u001b[0m\u001b[0mcrop_classification\u001b[0m \u001b[0;32mimport\u001b[0m \u001b[0mconfig\u001b[0m\u001b[0;34m\u001b[0m\u001b[0;34m\u001b[0m\u001b[0m\n\u001b[0m\u001b[1;32m     26\u001b[0m \u001b[0;32mfrom\u001b[0m \u001b[0magrilearn\u001b[0m\u001b[0;34m.\u001b[0m\u001b[0mcrop_classification\u001b[0m\u001b[0;34m.\u001b[0m\u001b[0mgeom_utils\u001b[0m \u001b[0;32mimport\u001b[0m \u001b[0mget_valid_mask\u001b[0m\u001b[0;34m\u001b[0m\u001b[0;34m\u001b[0m\u001b[0m\n\u001b[1;32m     27\u001b[0m \u001b[0;32mfrom\u001b[0m \u001b[0magrilearn\u001b[0m\u001b[0;34m.\u001b[0m\u001b[0mcrop_classification\u001b[0m\u001b[0;34m.\u001b[0m\u001b[0mRNNModel\u001b[0m \u001b[0;32mimport\u001b[0m \u001b[0mGRUModel\u001b[0m\u001b[0;34m\u001b[0m\u001b[0;34m\u001b[0m\u001b[0m\n",
      "\u001b[0;32m~/efs/agrilearn/submodules/crop_rnn/agrilearn/crop_classification/config.py\u001b[0m in \u001b[0;36m<module>\u001b[0;34m\u001b[0m\n\u001b[1;32m      5\u001b[0m \u001b[0;32mfrom\u001b[0m \u001b[0meolearn\u001b[0m\u001b[0;34m.\u001b[0m\u001b[0mcore\u001b[0m \u001b[0;32mimport\u001b[0m \u001b[0mFeatureType\u001b[0m\u001b[0;34m\u001b[0m\u001b[0;34m\u001b[0m\u001b[0m\n\u001b[1;32m      6\u001b[0m \u001b[0;34m\u001b[0m\u001b[0m\n\u001b[0;32m----> 7\u001b[0;31m from agrilearn.commons.eopatch_tasks import (\n\u001b[0m\u001b[1;32m      8\u001b[0m     \u001b[0mAdaptativeLinearInterpolationTask\u001b[0m\u001b[0;34m,\u001b[0m\u001b[0;34m\u001b[0m\u001b[0;34m\u001b[0m\u001b[0m\n\u001b[1;32m      9\u001b[0m     \u001b[0mCalculateIndexBasedOnBands\u001b[0m\u001b[0;34m,\u001b[0m\u001b[0;34m\u001b[0m\u001b[0;34m\u001b[0m\u001b[0m\n",
      "\u001b[0;32m~/efs/agrilearn/submodules/commons/agrilearn/commons/eopatch_tasks/__init__.py\u001b[0m in \u001b[0;36m<module>\u001b[0;34m\u001b[0m\n\u001b[1;32m     10\u001b[0m \u001b[0;32mfrom\u001b[0m \u001b[0;34m.\u001b[0m\u001b[0mexport_tasks\u001b[0m \u001b[0;32mimport\u001b[0m \u001b[0mZipTiffExportTask\u001b[0m\u001b[0;34m\u001b[0m\u001b[0;34m\u001b[0m\u001b[0m\n\u001b[1;32m     11\u001b[0m \u001b[0;32mfrom\u001b[0m \u001b[0;34m.\u001b[0m\u001b[0mfarmplot_tasks\u001b[0m \u001b[0;32mimport\u001b[0m \u001b[0mAddVectorAnnotationData\u001b[0m\u001b[0;34m\u001b[0m\u001b[0;34m\u001b[0m\u001b[0m\n\u001b[0;32m---> 12\u001b[0;31m from .post_download_tasks import (AdaptativeLinearInterpolationTask,\n\u001b[0m\u001b[1;32m     13\u001b[0m                                   \u001b[0mConcatenateData\u001b[0m\u001b[0;34m,\u001b[0m \u001b[0mCreateMeanStdFromEOPBands\u001b[0m\u001b[0;34m,\u001b[0m\u001b[0;34m\u001b[0m\u001b[0;34m\u001b[0m\u001b[0m\n\u001b[1;32m     14\u001b[0m                                   \u001b[0mCreateS2CloudlessMask\u001b[0m\u001b[0;34m,\u001b[0m\u001b[0;34m\u001b[0m\u001b[0;34m\u001b[0m\u001b[0m\n",
      "\u001b[0;32m~/efs/agrilearn/submodules/commons/agrilearn/commons/eopatch_tasks/post_download_tasks.py\u001b[0m in \u001b[0;36m<module>\u001b[0;34m\u001b[0m\n\u001b[1;32m    129\u001b[0m \u001b[0;32mfrom\u001b[0m \u001b[0mgeopandas\u001b[0m \u001b[0;32mimport\u001b[0m \u001b[0mGeoDataFrame\u001b[0m\u001b[0;34m\u001b[0m\u001b[0;34m\u001b[0m\u001b[0m\n\u001b[1;32m    130\u001b[0m \u001b[0;32mfrom\u001b[0m \u001b[0mrasterio\u001b[0m\u001b[0;34m.\u001b[0m\u001b[0mfeatures\u001b[0m \u001b[0;32mimport\u001b[0m \u001b[0mgeometry_mask\u001b[0m\u001b[0;34m\u001b[0m\u001b[0;34m\u001b[0m\u001b[0m\n\u001b[0;32m--> 131\u001b[0;31m \u001b[0;32mfrom\u001b[0m \u001b[0ms2cloudless\u001b[0m \u001b[0;32mimport\u001b[0m \u001b[0mS2PixelCloudDetector\u001b[0m\u001b[0;34m\u001b[0m\u001b[0;34m\u001b[0m\u001b[0m\n\u001b[0m\u001b[1;32m    132\u001b[0m \u001b[0;32mfrom\u001b[0m \u001b[0mshapely\u001b[0m \u001b[0;32mimport\u001b[0m \u001b[0mgeometry\u001b[0m\u001b[0;34m\u001b[0m\u001b[0;34m\u001b[0m\u001b[0m\n\u001b[1;32m    133\u001b[0m \u001b[0;34m\u001b[0m\u001b[0m\n",
      "\u001b[0;31mModuleNotFoundError\u001b[0m: No module named 's2cloudless'"
     ]
    }
   ],
   "source": [
    "from agrilearn.crop_classification import yaml_utils, processing"
   ]
  },
  {
   "cell_type": "markdown",
   "id": "6c7cc194-d9bd-479b-bac2-1071d374026d",
   "metadata": {},
   "source": [
    "### Global Variables"
   ]
  },
  {
   "cell_type": "code",
   "execution_count": null,
   "id": "95a2d001-8e77-4c6c-969b-87a2ef379f50",
   "metadata": {},
   "outputs": [],
   "source": [
    "config = yaml_utils.load_config(\"/agrilearn_app/output/config/experiment_12.yaml\")"
   ]
  },
  {
   "cell_type": "code",
   "execution_count": null,
   "id": "6e6bfd36-0954-4f74-81f7-1303291e67f3",
   "metadata": {},
   "outputs": [],
   "source": [
    "index=0\n",
    "DATASET_NAME = config['evaluate'][index]['dataset_name']\n",
    "GEOPACKAGE_PATH = config['evaluate'][index]['geopackage_test_data_path']\n",
    "EOPATCH_PATH = config['evaluate'][index]['eopatch_folder']\n",
    "LABEL_MONITORING_CLASS = config['evaluate'][index]['label_true']\n",
    "LABEL_EOPATCH_LOCATION = config['evaluate'][index]['label_eopatch_location']\n",
    "DATASET_NAME"
   ]
  },
  {
   "cell_type": "markdown",
   "id": "a6a06923-5119-4456-ba5b-ac0c9fca3ab9",
   "metadata": {},
   "source": [
    "# 1. Read Datasets"
   ]
  },
  {
   "cell_type": "code",
   "execution_count": null,
   "id": "591f9002-d3c5-4d2e-985f-dc38afe49bb8",
   "metadata": {},
   "outputs": [],
   "source": [
    "df = gpd.read_file(GEOPACKAGE_PATH)"
   ]
  },
  {
   "cell_type": "code",
   "execution_count": null,
   "id": "298e7b49-1597-4d95-9330-eb8875ffdf25",
   "metadata": {},
   "outputs": [],
   "source": [
    "df['dataset_part'].value_counts()"
   ]
  },
  {
   "cell_type": "code",
   "execution_count": null,
   "id": "0e486978-a9eb-4a1a-a104-9acdeea0c0a1",
   "metadata": {},
   "outputs": [],
   "source": [
    "eval_util.get_dataset_distribution(df)"
   ]
  },
  {
   "cell_type": "code",
   "execution_count": null,
   "id": "54b1c455",
   "metadata": {},
   "outputs": [],
   "source": [
    "print(f\"There are {df.shape[0]} rows and {df.shape[1]} columns\")"
   ]
  },
  {
   "cell_type": "markdown",
   "id": "9db8fc3a-4ee0-4396-b19c-2c2cc5ee3b0f",
   "metadata": {},
   "source": [
    "# 2. Create Omission df and processing"
   ]
  },
  {
   "cell_type": "code",
   "execution_count": null,
   "id": "5bf10811-1cd1-4343-8dbd-b67be0585aa1",
   "metadata": {},
   "outputs": [],
   "source": [
    "report_inclusion_and_omission = eval_util.calculate_omission_inclusion(df, \n",
    "                                                label_true=label_monitoring_class, \n",
    "                                                label_pred=label_pred)"
   ]
  },
  {
   "cell_type": "code",
   "execution_count": null,
   "id": "1009fb66-87da-43f7-88c4-d47d6ccccd90",
   "metadata": {},
   "outputs": [],
   "source": [
    "report_inclusion_and_omission"
   ]
  },
  {
   "cell_type": "markdown",
   "id": "8867f3bc-0592-47e6-922e-5064b2c735ab",
   "metadata": {},
   "source": [
    "## 2.1 Check the Data formatation"
   ]
  },
  {
   "cell_type": "markdown",
   "id": "0c146545-9334-4654-a8d7-c7c6704a382c",
   "metadata": {},
   "source": [
    "### 2.2.1 Datetime variables"
   ]
  },
  {
   "cell_type": "code",
   "execution_count": null,
   "id": "3a713c8d-6597-49f2-a1cf-ac43e1f84b38",
   "metadata": {},
   "outputs": [],
   "source": [
    "datetime_columns = ['start_season', \n",
    "                    'end_season', \n",
    "                    'peak_start', \n",
    "                    'peak_end']\n",
    "\n",
    "df[datetime_columns].info()"
   ]
  },
  {
   "cell_type": "code",
   "execution_count": null,
   "id": "0c72cd43-c10d-4327-9324-5bf101a05bcb",
   "metadata": {},
   "outputs": [],
   "source": [
    "for col in datetime_columns:\n",
    "    print(col)\n",
    "    df[col] = pd.to_datetime(df[col])"
   ]
  },
  {
   "cell_type": "markdown",
   "id": "770ddc04-8233-44ef-80f1-b6fb61adda94",
   "metadata": {},
   "source": [
    "#### 2.2.2 Integer variables"
   ]
  },
  {
   "cell_type": "code",
   "execution_count": null,
   "id": "421455c1-b956-4b6f-a830-2a3d45a929b3",
   "metadata": {},
   "outputs": [],
   "source": [
    "df.info()"
   ]
  },
  {
   "cell_type": "markdown",
   "id": "4573114f-a587-403b-89cc-246e3021d79e",
   "metadata": {},
   "source": [
    "# 3. Análise das OMISSÕES de Soja"
   ]
  },
  {
   "cell_type": "code",
   "execution_count": null,
   "id": "7ca42878-5f0f-43d2-9b4c-9d887d827fab",
   "metadata": {},
   "outputs": [],
   "source": [
    "report_inclusion_and_omission"
   ]
  },
  {
   "cell_type": "code",
   "execution_count": null,
   "id": "fff44a8b-0552-4383-b857-a779736622f6",
   "metadata": {},
   "outputs": [],
   "source": [
    "cls = 'SOYBEAN'\n",
    "omission_soybean = f'omission_{cls}'\n",
    "df[omission_soybean] = np.NaN\n",
    "\n",
    "df.loc[df[\n",
    "        (df[label_pred] != cls) & \n",
    "        (df[label_monitoring_class] == cls)].index, omission_soybean] = True\n",
    "\n",
    "df.loc[df[\n",
    "    (df[label_pred] == cls) &\n",
    "    (df[label_monitoring_class] == cls)].index, omission_soybean] = False"
   ]
  },
  {
   "cell_type": "code",
   "execution_count": null,
   "id": "30c29dfb",
   "metadata": {},
   "outputs": [],
   "source": [
    "df_soja = df.dropna(subset=[omission_soybean])\n",
    "df_soja.shape"
   ]
  },
  {
   "cell_type": "code",
   "execution_count": null,
   "id": "9b1ea5f9-5ba2-40f8-a58a-7431796dc915",
   "metadata": {},
   "outputs": [],
   "source": [
    "pd.concat([df_soja[omission_soybean].value_counts(),\n",
    "          df_soja[omission_soybean].value_counts(normalize=True)*100], axis=1)"
   ]
  },
  {
   "cell_type": "code",
   "execution_count": null,
   "id": "5345871a-6201-4420-b239-1cecd4321a4e",
   "metadata": {},
   "outputs": [],
   "source": [
    "df_soja[df_soja[omission_soybean]][label_pred].value_counts()"
   ]
  },
  {
   "cell_type": "markdown",
   "id": "c813e25b-6872-4d10-8eca-6e7e43958253",
   "metadata": {},
   "source": [
    "### Questão 01: Por que todas as omissões de soja são em períodos de transição anual, por exemplo, 2000/2001?\n",
    "\n",
    "R: Todos os dados de soja são safras"
   ]
  },
  {
   "cell_type": "code",
   "execution_count": null,
   "id": "1bb0e764-ea9e-4dbc-a4df-aded671dc5c5",
   "metadata": {},
   "outputs": [],
   "source": [
    "period_df = pd.concat([\n",
    "    df_soja[df_soja[omission_soybean]==True].groupby(\n",
    "        'period').agg(omission_count=('geometry', 'count')),\n",
    "    df_soja.groupby(\n",
    "        'period').agg(total=('geometry', 'count'))\n",
    "], axis=1)\n",
    "\n",
    "period_df['omission_perc'] = period_df['omission_count'] / period_df['total'] * 100\n",
    "period_df.sort_values('total', ascending=False)"
   ]
  },
  {
   "cell_type": "markdown",
   "id": "4edbe1ba-fa79-4a02-ad9b-d707373992d8",
   "metadata": {},
   "source": [
    "### Questão 02: Existem diferenças entre o plantio de SOJA da região NORTE do Brasil em relação as demais regiões?\n",
    "\n",
    "R: A Região norte está acima do linha de equador, logo o período do plantio é diferente. O tempo do período das safras são diferentes entre regiões."
   ]
  },
  {
   "cell_type": "code",
   "execution_count": null,
   "id": "51c086a5",
   "metadata": {},
   "outputs": [],
   "source": [
    "df_soja['monitoring_class'].value_counts()"
   ]
  },
  {
   "cell_type": "code",
   "execution_count": null,
   "id": "cc9dab95-2ed1-4b47-a5b6-cd3b39e5ff9b",
   "metadata": {},
   "outputs": [],
   "source": [
    "state_df = pd.concat([\n",
    "    df_soja[df_soja[omission_soybean]==True].groupby('state').agg(\n",
    "        omission_count=('geometry', 'count')),\n",
    "    df_soja.groupby(\n",
    "        'state').agg(total=('geometry', 'count'))\n",
    "], axis=1)\n",
    "\n",
    "state_df['omission_perc'] = state_df['omission_count'] / state_df['total'] * 100\n",
    "state_df.sort_values('total', ascending=False)\n",
    "state_df.fillna(0)"
   ]
  },
  {
   "cell_type": "markdown",
   "id": "f5dbac7e-a1d5-49a5-8672-2672d4cab2ce",
   "metadata": {},
   "source": [
    "### Questão 03: Existem erros que são influenciados por ``emergence_sensor``?"
   ]
  },
  {
   "cell_type": "code",
   "execution_count": null,
   "id": "a92b75c2",
   "metadata": {},
   "outputs": [],
   "source": [
    "df_soja[df_soja[omission_soybean] == True]['emergence_sensor'].value_counts()"
   ]
  },
  {
   "cell_type": "code",
   "execution_count": null,
   "id": "b0f084d0-0a38-4800-8e6f-fbac26caad26",
   "metadata": {},
   "outputs": [],
   "source": [
    "emergence_sensor_df = pd.concat([\n",
    "    df_soja[df_soja[omission_soybean]].groupby(\n",
    "        'emergence_sensor').agg(omission_count=('geometry', 'count')),\n",
    "    df_soja.groupby(\n",
    "        'emergence_sensor').agg(total=('geometry', 'count'))\n",
    "], axis=1)\n",
    "\n",
    "emergence_sensor_df['omission_perc'] = emergence_sensor_df['omission_count'] / emergence_sensor_df['total'] * 100\n",
    "emergence_sensor_df.sort_values('total', ascending=False)\n",
    "emergence_sensor_df.fillna(0)"
   ]
  },
  {
   "cell_type": "markdown",
   "id": "8b6dd6e6-8bb4-424e-a88f-14a46f81641a",
   "metadata": {},
   "source": [
    "### Questão 04: Existem erros que são influenciados pelo tamanho do ciclo completo em dias ``LOS``?\n",
    "- culture_cycles = {\n",
    "    'COTTON': (140, 220), \n",
    "    'CORN': (105, 160), \n",
    "    'SOYBEAN': (90, 160), \n",
    "    'WHEAT': (100, 160),\n",
    "    'RICE': (100, 150), \n",
    "    'BEAN': (60, 100), \n",
    "    'SUGAR_CANE': (300, 570)\n",
    "}"
   ]
  },
  {
   "cell_type": "code",
   "execution_count": null,
   "id": "c4c8d7d0-6679-401a-b715-ce50df6d6d9e",
   "metadata": {},
   "outputs": [],
   "source": [
    "LOS_df = pd.concat([\n",
    "    df_soja[df_soja[omission_soybean]==True].groupby(\n",
    "        'LOS').agg(omission_count=('geometry', 'count')),\n",
    "    df_soja.groupby(\n",
    "        'LOS').agg(total=('geometry', 'count'))\n",
    "], axis=1)\n",
    "\n",
    "LOS_df['omission_perc'] = LOS_df['omission_count'] / LOS_df['total'] * 100\n",
    "LOS_df.sort_values('omission_count', ascending=False)\n",
    "LOS_df.fillna(0)"
   ]
  },
  {
   "cell_type": "markdown",
   "id": "b00bdbdf-3c20-404e-ae2a-925a07fa1d70",
   "metadata": {},
   "source": [
    "### Questão 05: O tamanho do talhão influencia os erros do modelo?"
   ]
  },
  {
   "cell_type": "code",
   "execution_count": null,
   "id": "57f3a41b-0873-4b86-91ca-99c0b0e76260",
   "metadata": {},
   "outputs": [],
   "source": [
    "# discretização ()\n",
    "df_soja['area_ha_cat'] = pd.cut(df_soja['area_ha'], bins=[0, 10, 100, np.inf], labels=[\n",
    "                                'pequena', \"média\", \"grande\"])"
   ]
  },
  {
   "cell_type": "code",
   "execution_count": null,
   "id": "4b44901f-d55c-4498-a067-140c4d39a223",
   "metadata": {},
   "outputs": [],
   "source": [
    "area_ha_df = pd.concat([\n",
    "    df_soja[df_soja[omission_soybean]==True].groupby('area_ha_cat').agg(\n",
    "        omission_count=('geometry', 'count')),\n",
    "    df_soja.groupby(\n",
    "        'area_ha_cat').agg(total=('geometry', 'count'))\n",
    "], axis=1)\n",
    "\n",
    "area_ha_df['omission_perc'] = area_ha_df['omission_count'] / area_ha_df['total'] * 100\n",
    "area_ha_df.sort_values('omission_count', ascending=False)"
   ]
  },
  {
   "cell_type": "code",
   "execution_count": null,
   "id": "ae66c0ac-a8f9-4c65-988f-bb5f6bc03358",
   "metadata": {},
   "outputs": [],
   "source": []
  },
  {
   "cell_type": "markdown",
   "id": "35e28f90-450d-4433-9e5a-7cae319294d1",
   "metadata": {},
   "source": [
    "# 4. Análise das omissões de Milho"
   ]
  },
  {
   "cell_type": "code",
   "execution_count": null,
   "id": "6e985da4-b0c9-49ce-9afa-86b267f5fcc6",
   "metadata": {},
   "outputs": [],
   "source": [
    "cls = 'CORN'\n",
    "omission_corn = f'omission_{cls}'\n",
    "df[omission_corn] = np.NaN\n",
    "df.loc[df[\n",
    "        (df[label_pred] != cls) & \n",
    "        (df[label_monitoring_class] == cls)].index, omission_corn] = True\n",
    "\n",
    "df.loc[df[\n",
    "    (df[label_pred] == cls) &\n",
    "    (df[label_monitoring_class] == cls)].index, omission_corn] = False"
   ]
  },
  {
   "cell_type": "code",
   "execution_count": null,
   "id": "b6241fa1",
   "metadata": {},
   "outputs": [],
   "source": [
    "df_corn = df.dropna(subset=[omission_corn])"
   ]
  },
  {
   "cell_type": "code",
   "execution_count": null,
   "id": "610054ce-8b49-4954-ae2a-5ec1e25d708d",
   "metadata": {},
   "outputs": [],
   "source": [
    "pd.concat([df_corn[omission_corn].value_counts(),\n",
    "          df_corn[omission_corn].value_counts(normalize=True)*100], axis=1)"
   ]
  },
  {
   "cell_type": "markdown",
   "id": "be5869c0-e243-40df-b01b-52dd1415899e",
   "metadata": {},
   "source": [
    "### Questão 01: Avaliar as omissões de milho"
   ]
  },
  {
   "cell_type": "code",
   "execution_count": null,
   "id": "e9b359ac-462a-4b16-8e85-b674782cf149",
   "metadata": {},
   "outputs": [],
   "source": [
    "period_df = pd.concat([\n",
    "    df_corn[df_corn[omission_corn] == True].groupby('period').agg(\n",
    "        omission_count=('geometry', 'count')),\n",
    "    df_corn.groupby(\n",
    "        'period').agg(total=('geometry', 'count'))\n",
    "], axis=1)\n",
    "\n",
    "period_df['omission_perc'] = period_df['omission_count'] / period_df['total'] * 100\n",
    "period_df.sort_values('total', ascending=False)\n",
    "period_df.fillna(0)"
   ]
  },
  {
   "cell_type": "markdown",
   "id": "8c0fbeb5-7ac8-4cad-81e7-6dc167ef9710",
   "metadata": {},
   "source": [
    "### Questão 02: Existem diferenças entre o plantio de MILHO em diferentes regiões do Brasil?"
   ]
  },
  {
   "cell_type": "code",
   "execution_count": null,
   "id": "bc4a573a-46e9-4c90-9a8a-f005470ff337",
   "metadata": {},
   "outputs": [],
   "source": [
    "state_df = pd.concat([\n",
    "    df_corn[df_corn[omission_corn] == True].groupby(\n",
    "        'state').agg(omission_count=('geometry', 'count')),\n",
    "    df_corn.groupby(\n",
    "        'state').agg(total=('geometry', 'count'))\n",
    "], axis=1)\n",
    "\n",
    "state_df['omission_perc'] = state_df['omission_count'] / state_df['total'] * 100\n",
    "state_df.sort_values('omission_count', ascending=False)\n",
    "state_df.fillna(0)"
   ]
  },
  {
   "cell_type": "markdown",
   "id": "18625171-f3c7-4c9f-9df6-bdc110d9d463",
   "metadata": {},
   "source": [
    "### Questão 03: Existem erros que são influenciados por ``emergence_sensor``?"
   ]
  },
  {
   "cell_type": "code",
   "execution_count": null,
   "id": "322d6bef",
   "metadata": {},
   "outputs": [],
   "source": [
    "df_corn[df_corn['emergence_sensor'].isna()==False].shape"
   ]
  },
  {
   "cell_type": "code",
   "execution_count": null,
   "id": "6bcf52c2-f8ed-46f5-a433-d168d2caba94",
   "metadata": {},
   "outputs": [],
   "source": [
    "emergence_sensor_df = pd.concat([\n",
    "    df_corn[df_corn[omission_corn] == True].groupby(\n",
    "        'emergence_sensor').agg(omission_count=('geometry', 'count')),\n",
    "    df_corn.groupby(\n",
    "        'emergence_sensor').agg(total=('geometry', 'count'))\n",
    "], axis=1)\n",
    "\n",
    "emergence_sensor_df['omission_perc'] = emergence_sensor_df['omission_count'] / emergence_sensor_df['total'] * 100\n",
    "emergence_sensor_df.sort_values('total', ascending=False)\n",
    "emergence_sensor_df.fillna(0)"
   ]
  },
  {
   "cell_type": "markdown",
   "id": "693a128e-187f-41e0-afe8-9cba028739ed",
   "metadata": {},
   "source": [
    "### Questão 04: Existem erros de MILHO que são influenciados pelo tamanho do ciclo completo em dias ``LOS``?\n",
    "- culture_cycles = {\n",
    "    'COTTON': (140, 220), \n",
    "    'CORN': (105, 160), \n",
    "    'SOYBEAN': (90, 160), \n",
    "    'WHEAT': (100, 160),\n",
    "    'RICE': (100, 150), \n",
    "    'BEAN': (60, 100), \n",
    "    'SUGAR_CANE': (300, 570)\n",
    "}"
   ]
  },
  {
   "cell_type": "code",
   "execution_count": null,
   "id": "1157c058-e11b-48ec-8530-528bf50d30be",
   "metadata": {},
   "outputs": [],
   "source": [
    "LOS_df = pd.concat([\n",
    "    df_corn[df_corn[omission_corn] == True].groupby(\n",
    "        'LOS').agg(omission_count=('geometry', 'count')),\n",
    "    df_corn.groupby(\n",
    "        'LOS').agg(total=('geometry', 'count'))\n",
    "], axis=1)\n",
    "\n",
    "LOS_df['omission_perc'] = LOS_df['omission_count'] / LOS_df['total'] * 100\n",
    "LOS_df.sort_values('omission_count', ascending=False)\n",
    "LOS_df.fillna(0)"
   ]
  },
  {
   "cell_type": "markdown",
   "id": "3391921b-c2b9-4b9d-baeb-81066373d934",
   "metadata": {},
   "source": [
    "### Questão 05: O tamanho do talhão influencia os erros do modelo?"
   ]
  },
  {
   "cell_type": "code",
   "execution_count": null,
   "id": "2f3e414b",
   "metadata": {},
   "outputs": [],
   "source": [
    "# discretização ()\n",
    "df_corn['area_ha_cat'] = pd.cut(df_corn['area_ha'], bins=[0, 10, 100, np.inf], labels=[\n",
    "                                'pequena', \"média\", \"grande\"])"
   ]
  },
  {
   "cell_type": "code",
   "execution_count": null,
   "id": "0aa67804-b6d2-4a9c-b3ba-e11e8f43c038",
   "metadata": {},
   "outputs": [],
   "source": [
    "area_ha_df = pd.concat([\n",
    "    df_corn[df_corn[omission_corn]].groupby(\n",
    "        'area_ha_cat').agg(omission_count=('geometry', 'count')),\n",
    "    df_corn.groupby(\n",
    "        'area_ha_cat').agg(total=('geometry', 'count'))\n",
    "], axis=1)\n",
    "\n",
    "area_ha_df['omission_perc'] = area_ha_df['omission_count'] / area_ha_df['total'] * 100\n",
    "area_ha_df.sort_values('omission_count', ascending=False)"
   ]
  },
  {
   "cell_type": "code",
   "execution_count": null,
   "id": "2e8d8b6d-0dc9-49a3-a7ab-dbefa5e3d5b3",
   "metadata": {},
   "outputs": [],
   "source": []
  }
 ],
 "metadata": {
  "kernelspec": {
   "display_name": "Python 3 (ipykernel)",
   "language": "python",
   "name": "python3"
  },
  "language_info": {
   "codemirror_mode": {
    "name": "ipython",
    "version": 3
   },
   "file_extension": ".py",
   "mimetype": "text/x-python",
   "name": "python",
   "nbconvert_exporter": "python",
   "pygments_lexer": "ipython3",
   "version": "3.7.16"
  }
 },
 "nbformat": 4,
 "nbformat_minor": 5
}
