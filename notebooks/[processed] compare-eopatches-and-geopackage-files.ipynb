{
 "cells": [
  {
   "cell_type": "markdown",
   "id": "e0b5937f-df70-47c1-a979-6edbcc4e4a8c",
   "metadata": {},
   "source": [
    "# Checked Eopatch based on Geopackage\n",
    "\n",
    "## Esse notebook serve para validar se os dados dos Eopatches em disco tem a mesma quantidade dos dados dentro do Geopackage"
   ]
  },
  {
   "cell_type": "code",
   "execution_count": 1,
   "id": "68a251a7-8ff8-4ae7-8e9c-e19009fff8bf",
   "metadata": {},
   "outputs": [],
   "source": [
    "# Load the auto reload extension to automatically reload modules when files on disk are updated\n",
    "%load_ext autoreload\n",
    "# it will automatically be reloaded without the need to restart the kernel.\n",
    "%autoreload 2"
   ]
  },
  {
   "cell_type": "markdown",
   "id": "e283de27-738f-44bc-90bb-a2035aec8903",
   "metadata": {},
   "source": [
    "### Imports"
   ]
  },
  {
   "cell_type": "code",
   "execution_count": 2,
   "id": "4b0b5400-7bae-4575-afeb-473d684b481f",
   "metadata": {},
   "outputs": [
    {
     "ename": "ImportError",
     "evalue": "cannot import name 's3_utils' from 'agrilearn.utils' (unknown location)",
     "output_type": "error",
     "traceback": [
      "\u001b[0;31m---------------------------------------------------------------------------\u001b[0m",
      "\u001b[0;31mImportError\u001b[0m                               Traceback (most recent call last)",
      "Cell \u001b[0;32mIn[2], line 13\u001b[0m\n\u001b[1;32m     11\u001b[0m \u001b[38;5;28;01mimport\u001b[39;00m\u001b[38;5;250m \u001b[39m\u001b[38;5;21;01msys\u001b[39;00m\n\u001b[1;32m     12\u001b[0m sys\u001b[38;5;241m.\u001b[39mpath\u001b[38;5;241m.\u001b[39mappend(\u001b[38;5;124m\"\u001b[39m\u001b[38;5;124m/agrilearn_app/agrilearn/\u001b[39m\u001b[38;5;124m\"\u001b[39m)\n\u001b[0;32m---> 13\u001b[0m \u001b[38;5;28;01mfrom\u001b[39;00m\u001b[38;5;250m \u001b[39m\u001b[38;5;21;01magrilearn\u001b[39;00m\u001b[38;5;21;01m.\u001b[39;00m\u001b[38;5;21;01mutils\u001b[39;00m\u001b[38;5;250m \u001b[39m\u001b[38;5;28;01mimport\u001b[39;00m s3_utils, str_utils, eopatch_utils\n",
      "\u001b[0;31mImportError\u001b[0m: cannot import name 's3_utils' from 'agrilearn.utils' (unknown location)"
     ]
    }
   ],
   "source": [
    "import boto3\n",
    "import geopandas as gpd\n",
    "from io import BytesIO\n",
    "import pandas as pd\n",
    "from folium import GeoJson\n",
    "import folium\n",
    "import numpy as np\n",
    "from tqdm import tqdm\n",
    "from glob import glob\n",
    "#import local modules\n",
    "import sys\n",
    "sys.path.append(\"/agrilearn_app/agrilearn/\")\n",
    "from agrilearn.utils import s3_utils, str_utils, eopatch_utils"
   ]
  },
  {
   "cell_type": "markdown",
   "id": "6c7cc194-d9bd-479b-bac2-1071d374026d",
   "metadata": {},
   "source": [
    "### Global Variables"
   ]
  },
  {
   "cell_type": "code",
   "execution_count": 3,
   "id": "6e6bfd36-0954-4f74-81f7-1303291e67f3",
   "metadata": {},
   "outputs": [],
   "source": [
    "DATASET_PATH_LOCAL =  \"/agrilearn_app/datasets/teste_pre_safra_2024_2025/geopackage/processed/data_merged_crop_120_06_08_2024_input_mvp_processing.gpkg\""
   ]
  },
  {
   "cell_type": "markdown",
   "id": "8563d700-cae1-426f-8a30-ccf700a0bd47",
   "metadata": {},
   "source": [
    "# 1. Read Geopackage from Local Disck\n",
    "\n",
    "## 1.1 Open Dataset"
   ]
  },
  {
   "cell_type": "code",
   "execution_count": 4,
   "id": "581f63a5-87d3-4389-ad0d-6ff9f3a24906",
   "metadata": {},
   "outputs": [],
   "source": [
    "df = gpd.read_file(DATASET_PATH_LOCAL)"
   ]
  },
  {
   "cell_type": "code",
   "execution_count": 5,
   "id": "922431f4-fb4e-456a-9b08-5f1e5414aa12",
   "metadata": {},
   "outputs": [
    {
     "data": {
      "text/html": [
       "<div>\n",
       "<style scoped>\n",
       "    .dataframe tbody tr th:only-of-type {\n",
       "        vertical-align: middle;\n",
       "    }\n",
       "\n",
       "    .dataframe tbody tr th {\n",
       "        vertical-align: top;\n",
       "    }\n",
       "\n",
       "    .dataframe thead th {\n",
       "        text-align: right;\n",
       "    }\n",
       "</style>\n",
       "<table border=\"1\" class=\"dataframe\">\n",
       "  <thead>\n",
       "    <tr style=\"text-align: right;\">\n",
       "      <th></th>\n",
       "      <th>interest_area_id</th>\n",
       "      <th>period</th>\n",
       "      <th>start_season</th>\n",
       "      <th>no_till_farming</th>\n",
       "      <th>emergence_date</th>\n",
       "      <th>emergence_sensor</th>\n",
       "      <th>gt_class</th>\n",
       "      <th>senescence_date</th>\n",
       "      <th>senescence_sensor</th>\n",
       "      <th>harvest_date</th>\n",
       "      <th>...</th>\n",
       "      <th>start_of_season</th>\n",
       "      <th>end_of_season</th>\n",
       "      <th>peaks</th>\n",
       "      <th>length_of_season</th>\n",
       "      <th>progress_status</th>\n",
       "      <th>uf</th>\n",
       "      <th>uuid</th>\n",
       "      <th>peak_date</th>\n",
       "      <th>dataset_part</th>\n",
       "      <th>geometry</th>\n",
       "    </tr>\n",
       "  </thead>\n",
       "  <tbody>\n",
       "    <tr>\n",
       "      <th>0</th>\n",
       "      <td>0</td>\n",
       "      <td>2023/2024</td>\n",
       "      <td>2023-10-01</td>\n",
       "      <td>None</td>\n",
       "      <td>2024-01-12</td>\n",
       "      <td>MSI / Sentinel 2</td>\n",
       "      <td>SOYBEAN</td>\n",
       "      <td>2024-03-04</td>\n",
       "      <td>MSI / Sentinel 2</td>\n",
       "      <td>None</td>\n",
       "      <td>...</td>\n",
       "      <td>NaT</td>\n",
       "      <td>NaT</td>\n",
       "      <td>None</td>\n",
       "      <td>None</td>\n",
       "      <td>None</td>\n",
       "      <td>None</td>\n",
       "      <td>None</td>\n",
       "      <td>None</td>\n",
       "      <td>test</td>\n",
       "      <td>MULTIPOLYGON (((-49.87426 -17.49841, -49.87428...</td>\n",
       "    </tr>\n",
       "    <tr>\n",
       "      <th>1</th>\n",
       "      <td>1</td>\n",
       "      <td>2023/2024</td>\n",
       "      <td>2023-10-01</td>\n",
       "      <td>None</td>\n",
       "      <td>2024-01-12</td>\n",
       "      <td>MSI / Sentinel 2</td>\n",
       "      <td>SOYBEAN</td>\n",
       "      <td>2024-03-04</td>\n",
       "      <td>MSI / Sentinel 2</td>\n",
       "      <td>None</td>\n",
       "      <td>...</td>\n",
       "      <td>NaT</td>\n",
       "      <td>NaT</td>\n",
       "      <td>None</td>\n",
       "      <td>None</td>\n",
       "      <td>None</td>\n",
       "      <td>None</td>\n",
       "      <td>None</td>\n",
       "      <td>None</td>\n",
       "      <td>test</td>\n",
       "      <td>MULTIPOLYGON (((-49.87649 -17.50258, -49.88479...</td>\n",
       "    </tr>\n",
       "    <tr>\n",
       "      <th>2</th>\n",
       "      <td>2</td>\n",
       "      <td>2023/2024</td>\n",
       "      <td>2023-10-01</td>\n",
       "      <td>None</td>\n",
       "      <td>2023-12-06</td>\n",
       "      <td>OLI / Landsat 9</td>\n",
       "      <td>SOYBEAN</td>\n",
       "      <td>2024-02-24</td>\n",
       "      <td>OLI / Landsat 9</td>\n",
       "      <td>2024-03-05</td>\n",
       "      <td>...</td>\n",
       "      <td>NaT</td>\n",
       "      <td>NaT</td>\n",
       "      <td>None</td>\n",
       "      <td>None</td>\n",
       "      <td>None</td>\n",
       "      <td>None</td>\n",
       "      <td>None</td>\n",
       "      <td>None</td>\n",
       "      <td>test</td>\n",
       "      <td>MULTIPOLYGON (((-48.5898 -4.8188, -48.58982 -4...</td>\n",
       "    </tr>\n",
       "    <tr>\n",
       "      <th>3</th>\n",
       "      <td>3</td>\n",
       "      <td>2023/2024</td>\n",
       "      <td>2023-10-01</td>\n",
       "      <td>None</td>\n",
       "      <td>2024-01-17</td>\n",
       "      <td>OLI / Landsat 8</td>\n",
       "      <td>SOYBEAN</td>\n",
       "      <td>2024-03-14</td>\n",
       "      <td>MSI / Sentinel 2</td>\n",
       "      <td>None</td>\n",
       "      <td>...</td>\n",
       "      <td>NaT</td>\n",
       "      <td>NaT</td>\n",
       "      <td>None</td>\n",
       "      <td>None</td>\n",
       "      <td>None</td>\n",
       "      <td>None</td>\n",
       "      <td>None</td>\n",
       "      <td>None</td>\n",
       "      <td>test</td>\n",
       "      <td>MULTIPOLYGON (((-47.92268 -17.87173, -47.92267...</td>\n",
       "    </tr>\n",
       "    <tr>\n",
       "      <th>4</th>\n",
       "      <td>4</td>\n",
       "      <td>2023/2024</td>\n",
       "      <td>2023-10-01</td>\n",
       "      <td>None</td>\n",
       "      <td>2024-01-17</td>\n",
       "      <td>OLI / Landsat 8</td>\n",
       "      <td>SOYBEAN</td>\n",
       "      <td>2024-03-13</td>\n",
       "      <td>OLI / Landsat 9</td>\n",
       "      <td>None</td>\n",
       "      <td>...</td>\n",
       "      <td>NaT</td>\n",
       "      <td>NaT</td>\n",
       "      <td>None</td>\n",
       "      <td>None</td>\n",
       "      <td>None</td>\n",
       "      <td>None</td>\n",
       "      <td>None</td>\n",
       "      <td>None</td>\n",
       "      <td>test</td>\n",
       "      <td>MULTIPOLYGON (((-47.92267 -17.87151, -47.92268...</td>\n",
       "    </tr>\n",
       "  </tbody>\n",
       "</table>\n",
       "<p>5 rows × 75 columns</p>\n",
       "</div>"
      ],
      "text/plain": [
       "   interest_area_id     period start_season no_till_farming emergence_date  \\\n",
       "0                 0  2023/2024   2023-10-01            None     2024-01-12   \n",
       "1                 1  2023/2024   2023-10-01            None     2024-01-12   \n",
       "2                 2  2023/2024   2023-10-01            None     2023-12-06   \n",
       "3                 3  2023/2024   2023-10-01            None     2024-01-17   \n",
       "4                 4  2023/2024   2023-10-01            None     2024-01-17   \n",
       "\n",
       "   emergence_sensor gt_class senescence_date senescence_sensor harvest_date  \\\n",
       "0  MSI / Sentinel 2  SOYBEAN      2024-03-04  MSI / Sentinel 2         None   \n",
       "1  MSI / Sentinel 2  SOYBEAN      2024-03-04  MSI / Sentinel 2         None   \n",
       "2   OLI / Landsat 9  SOYBEAN      2024-02-24   OLI / Landsat 9   2024-03-05   \n",
       "3   OLI / Landsat 8  SOYBEAN      2024-03-14  MSI / Sentinel 2         None   \n",
       "4   OLI / Landsat 8  SOYBEAN      2024-03-13   OLI / Landsat 9         None   \n",
       "\n",
       "   ... start_of_season end_of_season peaks length_of_season progress_status  \\\n",
       "0  ...             NaT           NaT  None             None            None   \n",
       "1  ...             NaT           NaT  None             None            None   \n",
       "2  ...             NaT           NaT  None             None            None   \n",
       "3  ...             NaT           NaT  None             None            None   \n",
       "4  ...             NaT           NaT  None             None            None   \n",
       "\n",
       "     uf  uuid peak_date dataset_part  \\\n",
       "0  None  None      None         test   \n",
       "1  None  None      None         test   \n",
       "2  None  None      None         test   \n",
       "3  None  None      None         test   \n",
       "4  None  None      None         test   \n",
       "\n",
       "                                            geometry  \n",
       "0  MULTIPOLYGON (((-49.87426 -17.49841, -49.87428...  \n",
       "1  MULTIPOLYGON (((-49.87649 -17.50258, -49.88479...  \n",
       "2  MULTIPOLYGON (((-48.5898 -4.8188, -48.58982 -4...  \n",
       "3  MULTIPOLYGON (((-47.92268 -17.87173, -47.92267...  \n",
       "4  MULTIPOLYGON (((-47.92267 -17.87151, -47.92268...  \n",
       "\n",
       "[5 rows x 75 columns]"
      ]
     },
     "execution_count": 5,
     "metadata": {},
     "output_type": "execute_result"
    }
   ],
   "source": [
    "df.head()"
   ]
  },
  {
   "cell_type": "code",
   "execution_count": 6,
   "id": "19dac8b9-b584-4d79-a20e-2969838ab1c4",
   "metadata": {},
   "outputs": [
    {
     "data": {
      "text/plain": [
       "dataset_part\n",
       "test    100.0\n",
       "Name: proportion, dtype: float64"
      ]
     },
     "execution_count": 6,
     "metadata": {},
     "output_type": "execute_result"
    }
   ],
   "source": [
    "df['dataset_part'].value_counts(normalize=True)*100"
   ]
  },
  {
   "cell_type": "code",
   "execution_count": 7,
   "id": "2e201081-806d-4b64-90ad-f865690da36a",
   "metadata": {},
   "outputs": [
    {
     "data": {
      "text/html": [
       "<div>\n",
       "<style scoped>\n",
       "    .dataframe tbody tr th:only-of-type {\n",
       "        vertical-align: middle;\n",
       "    }\n",
       "\n",
       "    .dataframe tbody tr th {\n",
       "        vertical-align: top;\n",
       "    }\n",
       "\n",
       "    .dataframe thead th {\n",
       "        text-align: right;\n",
       "    }\n",
       "</style>\n",
       "<table border=\"1\" class=\"dataframe\">\n",
       "  <thead>\n",
       "    <tr style=\"text-align: right;\">\n",
       "      <th></th>\n",
       "      <th>gt_class</th>\n",
       "      <th>dataset_part</th>\n",
       "      <th>count</th>\n",
       "    </tr>\n",
       "  </thead>\n",
       "  <tbody>\n",
       "    <tr>\n",
       "      <th>0</th>\n",
       "      <td>WHEAT</td>\n",
       "      <td>test</td>\n",
       "      <td>50</td>\n",
       "    </tr>\n",
       "    <tr>\n",
       "      <th>1</th>\n",
       "      <td>SUGAR_CANE</td>\n",
       "      <td>test</td>\n",
       "      <td>50</td>\n",
       "    </tr>\n",
       "    <tr>\n",
       "      <th>2</th>\n",
       "      <td>SOYBEAN</td>\n",
       "      <td>test</td>\n",
       "      <td>7283</td>\n",
       "    </tr>\n",
       "    <tr>\n",
       "      <th>3</th>\n",
       "      <td>RICE</td>\n",
       "      <td>test</td>\n",
       "      <td>81</td>\n",
       "    </tr>\n",
       "    <tr>\n",
       "      <th>4</th>\n",
       "      <td>PASTURE</td>\n",
       "      <td>test</td>\n",
       "      <td>50</td>\n",
       "    </tr>\n",
       "    <tr>\n",
       "      <th>5</th>\n",
       "      <td>COTTON</td>\n",
       "      <td>test</td>\n",
       "      <td>267</td>\n",
       "    </tr>\n",
       "    <tr>\n",
       "      <th>6</th>\n",
       "      <td>CORN</td>\n",
       "      <td>test</td>\n",
       "      <td>579</td>\n",
       "    </tr>\n",
       "  </tbody>\n",
       "</table>\n",
       "</div>"
      ],
      "text/plain": [
       "     gt_class dataset_part  count\n",
       "0       WHEAT         test     50\n",
       "1  SUGAR_CANE         test     50\n",
       "2     SOYBEAN         test   7283\n",
       "3        RICE         test     81\n",
       "4     PASTURE         test     50\n",
       "5      COTTON         test    267\n",
       "6        CORN         test    579"
      ]
     },
     "execution_count": 7,
     "metadata": {},
     "output_type": "execute_result"
    }
   ],
   "source": [
    "report_geopackage = df.groupby(['gt_class', 'dataset_part'], as_index=False)\\\n",
    "                            .agg(count=('state','count'))\\\n",
    "                            .sort_values(['gt_class', 'count'], ascending=[False, False]).reset_index(drop=True)\n",
    "report_geopackage"
   ]
  },
  {
   "cell_type": "markdown",
   "id": "82e11a64-c1b8-4cac-b156-06da62909827",
   "metadata": {},
   "source": [
    "# 2. Read eopatch files from Local disk\n",
    "\n",
    "## 2.1 Open files"
   ]
  },
  {
   "cell_type": "code",
   "execution_count": 8,
   "id": "f12e1c37-8942-452a-bc10-0f86e88ef631",
   "metadata": {},
   "outputs": [],
   "source": [
    "OUTPUT_DATASETS_PATH_LOCAL = \"/agrilearn_app/datasets/teste_pre_safra_2024_2025/eopatch/processed/**\"\n",
    "df_eopatch_files = eopatch_utils.get_local_path_from_eopatch(OUTPUT_DATASETS_PATH_LOCAL,\n",
    "                                                             new_label='path')"
   ]
  },
  {
   "cell_type": "code",
   "execution_count": 9,
   "id": "efd39204",
   "metadata": {},
   "outputs": [
    {
     "data": {
      "text/plain": [
       "(12864,)"
      ]
     },
     "execution_count": 9,
     "metadata": {},
     "output_type": "execute_result"
    }
   ],
   "source": [
    "df_eopatch_files['path'].shape"
   ]
  },
  {
   "cell_type": "code",
   "execution_count": 10,
   "id": "13a93418-a3a0-48f6-8d52-fb54288429c1",
   "metadata": {},
   "outputs": [
    {
     "data": {
      "text/html": [
       "<div>\n",
       "<style scoped>\n",
       "    .dataframe tbody tr th:only-of-type {\n",
       "        vertical-align: middle;\n",
       "    }\n",
       "\n",
       "    .dataframe tbody tr th {\n",
       "        vertical-align: top;\n",
       "    }\n",
       "\n",
       "    .dataframe thead th {\n",
       "        text-align: right;\n",
       "    }\n",
       "</style>\n",
       "<table border=\"1\" class=\"dataframe\">\n",
       "  <thead>\n",
       "    <tr style=\"text-align: right;\">\n",
       "      <th></th>\n",
       "      <th>path</th>\n",
       "    </tr>\n",
       "  </thead>\n",
       "  <tbody>\n",
       "    <tr>\n",
       "      <th>0</th>\n",
       "      <td>/agrilearn_app/datasets/teste_pre_safra_2024_2...</td>\n",
       "    </tr>\n",
       "    <tr>\n",
       "      <th>1</th>\n",
       "      <td>/agrilearn_app/datasets/teste_pre_safra_2024_2...</td>\n",
       "    </tr>\n",
       "    <tr>\n",
       "      <th>2</th>\n",
       "      <td>/agrilearn_app/datasets/teste_pre_safra_2024_2...</td>\n",
       "    </tr>\n",
       "    <tr>\n",
       "      <th>3</th>\n",
       "      <td>/agrilearn_app/datasets/teste_pre_safra_2024_2...</td>\n",
       "    </tr>\n",
       "    <tr>\n",
       "      <th>4</th>\n",
       "      <td>/agrilearn_app/datasets/teste_pre_safra_2024_2...</td>\n",
       "    </tr>\n",
       "  </tbody>\n",
       "</table>\n",
       "</div>"
      ],
      "text/plain": [
       "                                                path\n",
       "0  /agrilearn_app/datasets/teste_pre_safra_2024_2...\n",
       "1  /agrilearn_app/datasets/teste_pre_safra_2024_2...\n",
       "2  /agrilearn_app/datasets/teste_pre_safra_2024_2...\n",
       "3  /agrilearn_app/datasets/teste_pre_safra_2024_2...\n",
       "4  /agrilearn_app/datasets/teste_pre_safra_2024_2..."
      ]
     },
     "execution_count": 10,
     "metadata": {},
     "output_type": "execute_result"
    }
   ],
   "source": [
    "df_eopatch_files.head()"
   ]
  },
  {
   "cell_type": "markdown",
   "id": "787ba100-2ef8-4558-887d-a1af4419c35e",
   "metadata": {},
   "source": [
    "## 2.2 Create new Features"
   ]
  },
  {
   "cell_type": "code",
   "execution_count": 26,
   "id": "90d4f70b-058f-4384-8952-ae56e1d375b3",
   "metadata": {},
   "outputs": [],
   "source": [
    "df_eopatch_files['dataset_part'] = 'test' #str_utils.get_series_from_string_list(df_eopatch_files['path'], categories=['train', 'val', 'test'])\n",
    "df_eopatch_files['monitoring_class'] = str_utils.get_series_from_string_list(\n",
    "    df_eopatch_files['path'], categories=[\"CORN\", \"SOYBEAN\", \"COTTON\", \"RICE\", \"SUGAR_CANE\", \"PASTURE\", \"WHEAT\"])"
   ]
  },
  {
   "cell_type": "code",
   "execution_count": 27,
   "id": "15488dbf",
   "metadata": {},
   "outputs": [
    {
     "data": {
      "text/html": [
       "<div>\n",
       "<style scoped>\n",
       "    .dataframe tbody tr th:only-of-type {\n",
       "        vertical-align: middle;\n",
       "    }\n",
       "\n",
       "    .dataframe tbody tr th {\n",
       "        vertical-align: top;\n",
       "    }\n",
       "\n",
       "    .dataframe thead th {\n",
       "        text-align: right;\n",
       "    }\n",
       "</style>\n",
       "<table border=\"1\" class=\"dataframe\">\n",
       "  <thead>\n",
       "    <tr style=\"text-align: right;\">\n",
       "      <th></th>\n",
       "      <th>gt_class</th>\n",
       "      <th>dataset_part</th>\n",
       "      <th>count</th>\n",
       "    </tr>\n",
       "  </thead>\n",
       "  <tbody>\n",
       "    <tr>\n",
       "      <th>0</th>\n",
       "      <td>WHEAT</td>\n",
       "      <td>test</td>\n",
       "      <td>50</td>\n",
       "    </tr>\n",
       "    <tr>\n",
       "      <th>1</th>\n",
       "      <td>SUGAR_CANE</td>\n",
       "      <td>test</td>\n",
       "      <td>50</td>\n",
       "    </tr>\n",
       "    <tr>\n",
       "      <th>2</th>\n",
       "      <td>SOYBEAN</td>\n",
       "      <td>test</td>\n",
       "      <td>7283</td>\n",
       "    </tr>\n",
       "    <tr>\n",
       "      <th>3</th>\n",
       "      <td>RICE</td>\n",
       "      <td>test</td>\n",
       "      <td>81</td>\n",
       "    </tr>\n",
       "    <tr>\n",
       "      <th>4</th>\n",
       "      <td>PASTURE</td>\n",
       "      <td>test</td>\n",
       "      <td>50</td>\n",
       "    </tr>\n",
       "    <tr>\n",
       "      <th>5</th>\n",
       "      <td>COTTON</td>\n",
       "      <td>test</td>\n",
       "      <td>267</td>\n",
       "    </tr>\n",
       "    <tr>\n",
       "      <th>6</th>\n",
       "      <td>CORN</td>\n",
       "      <td>test</td>\n",
       "      <td>579</td>\n",
       "    </tr>\n",
       "  </tbody>\n",
       "</table>\n",
       "</div>"
      ],
      "text/plain": [
       "     gt_class dataset_part  count\n",
       "0       WHEAT         test     50\n",
       "1  SUGAR_CANE         test     50\n",
       "2     SOYBEAN         test   7283\n",
       "3        RICE         test     81\n",
       "4     PASTURE         test     50\n",
       "5      COTTON         test    267\n",
       "6        CORN         test    579"
      ]
     },
     "execution_count": 27,
     "metadata": {},
     "output_type": "execute_result"
    }
   ],
   "source": [
    "report_geopackage"
   ]
  },
  {
   "cell_type": "code",
   "execution_count": 28,
   "id": "554b6780-31d8-4555-bd45-1480f1f194c8",
   "metadata": {},
   "outputs": [
    {
     "data": {
      "text/plain": [
       "monitoring_class\n",
       "SOYBEAN       9760\n",
       "CORN          2701\n",
       "COTTON         232\n",
       "RICE            81\n",
       "WHEAT           50\n",
       "SUGAR_CANE      40\n",
       "Name: count, dtype: int64"
      ]
     },
     "execution_count": 28,
     "metadata": {},
     "output_type": "execute_result"
    }
   ],
   "source": [
    "df_eopatch_files['monitoring_class'].value_counts()"
   ]
  },
  {
   "cell_type": "code",
   "execution_count": 34,
   "id": "08adf4fc",
   "metadata": {},
   "outputs": [
    {
     "data": {
      "text/plain": [
       "'/agrilearn_app/datasets/teste_pre_safra_2024_2025/eopatch/processed/start_2017-09-01_end_2018-06-01_monitoring_class_RICE_epsg4326_minxymaxxy_-53dot295526525023355_-23dot223792263775564_-53dot27749190858382_-23dot210148771468873_7_20/eopatch_0_col-0_row-0'"
      ]
     },
     "execution_count": 34,
     "metadata": {},
     "output_type": "execute_result"
    }
   ],
   "source": [
    "df_eopatch_files['path'].iloc[0]"
   ]
  },
  {
   "cell_type": "markdown",
   "id": "efdfa19f-05f0-4dc2-a74c-13585268f2a8",
   "metadata": {},
   "source": [
    "## 2.3 Report Generation"
   ]
  },
  {
   "cell_type": "code",
   "execution_count": 31,
   "id": "9cf6376c-db42-49dc-96bd-b2c669c18b13",
   "metadata": {},
   "outputs": [
    {
     "data": {
      "text/html": [
       "<div>\n",
       "<style scoped>\n",
       "    .dataframe tbody tr th:only-of-type {\n",
       "        vertical-align: middle;\n",
       "    }\n",
       "\n",
       "    .dataframe tbody tr th {\n",
       "        vertical-align: top;\n",
       "    }\n",
       "\n",
       "    .dataframe thead th {\n",
       "        text-align: right;\n",
       "    }\n",
       "</style>\n",
       "<table border=\"1\" class=\"dataframe\">\n",
       "  <thead>\n",
       "    <tr style=\"text-align: right;\">\n",
       "      <th></th>\n",
       "      <th>monitoring_class</th>\n",
       "      <th>dataset_part</th>\n",
       "      <th>count</th>\n",
       "    </tr>\n",
       "  </thead>\n",
       "  <tbody>\n",
       "    <tr>\n",
       "      <th>0</th>\n",
       "      <td>WHEAT</td>\n",
       "      <td>test</td>\n",
       "      <td>50</td>\n",
       "    </tr>\n",
       "    <tr>\n",
       "      <th>1</th>\n",
       "      <td>SUGAR_CANE</td>\n",
       "      <td>test</td>\n",
       "      <td>40</td>\n",
       "    </tr>\n",
       "    <tr>\n",
       "      <th>2</th>\n",
       "      <td>SOYBEAN</td>\n",
       "      <td>test</td>\n",
       "      <td>9760</td>\n",
       "    </tr>\n",
       "    <tr>\n",
       "      <th>3</th>\n",
       "      <td>RICE</td>\n",
       "      <td>test</td>\n",
       "      <td>81</td>\n",
       "    </tr>\n",
       "    <tr>\n",
       "      <th>4</th>\n",
       "      <td>COTTON</td>\n",
       "      <td>test</td>\n",
       "      <td>232</td>\n",
       "    </tr>\n",
       "    <tr>\n",
       "      <th>5</th>\n",
       "      <td>CORN</td>\n",
       "      <td>test</td>\n",
       "      <td>2701</td>\n",
       "    </tr>\n",
       "  </tbody>\n",
       "</table>\n",
       "</div>"
      ],
      "text/plain": [
       "  monitoring_class dataset_part  count\n",
       "0            WHEAT         test     50\n",
       "1       SUGAR_CANE         test     40\n",
       "2          SOYBEAN         test   9760\n",
       "3             RICE         test     81\n",
       "4           COTTON         test    232\n",
       "5             CORN         test   2701"
      ]
     },
     "execution_count": 31,
     "metadata": {},
     "output_type": "execute_result"
    }
   ],
   "source": [
    "report_eopatch = df_eopatch_files.groupby(['monitoring_class', 'dataset_part'], as_index=False)\\\n",
    "                                        .agg(count=('path','count'))\\\n",
    "                                        .sort_values(['monitoring_class', 'count'], ascending=[False, False]).reset_index(drop=True)\n",
    "report_eopatch"
   ]
  },
  {
   "cell_type": "markdown",
   "id": "96cbad7a-1e12-4a9f-8fc1-a62a9e5930ed",
   "metadata": {},
   "source": [
    "# 3. Compare files between Geopackage and Eopatch"
   ]
  },
  {
   "cell_type": "code",
   "execution_count": 32,
   "id": "1e0fcf12-a4c0-4ca5-8f20-b70442a14cbc",
   "metadata": {},
   "outputs": [
    {
     "data": {
      "text/html": [
       "<div>\n",
       "<style scoped>\n",
       "    .dataframe tbody tr th:only-of-type {\n",
       "        vertical-align: middle;\n",
       "    }\n",
       "\n",
       "    .dataframe tbody tr th {\n",
       "        vertical-align: top;\n",
       "    }\n",
       "\n",
       "    .dataframe thead th {\n",
       "        text-align: right;\n",
       "    }\n",
       "</style>\n",
       "<table border=\"1\" class=\"dataframe\">\n",
       "  <thead>\n",
       "    <tr style=\"text-align: right;\">\n",
       "      <th></th>\n",
       "      <th>monitoring_class</th>\n",
       "      <th>dataset_part</th>\n",
       "      <th>count</th>\n",
       "      <th>gt_class</th>\n",
       "    </tr>\n",
       "  </thead>\n",
       "  <tbody>\n",
       "    <tr>\n",
       "      <th>0</th>\n",
       "      <td>WHEAT</td>\n",
       "      <td>test</td>\n",
       "      <td>50</td>\n",
       "      <td>NaN</td>\n",
       "    </tr>\n",
       "    <tr>\n",
       "      <th>1</th>\n",
       "      <td>SUGAR_CANE</td>\n",
       "      <td>test</td>\n",
       "      <td>40</td>\n",
       "      <td>NaN</td>\n",
       "    </tr>\n",
       "    <tr>\n",
       "      <th>2</th>\n",
       "      <td>SOYBEAN</td>\n",
       "      <td>test</td>\n",
       "      <td>9760</td>\n",
       "      <td>NaN</td>\n",
       "    </tr>\n",
       "    <tr>\n",
       "      <th>3</th>\n",
       "      <td>RICE</td>\n",
       "      <td>test</td>\n",
       "      <td>81</td>\n",
       "      <td>NaN</td>\n",
       "    </tr>\n",
       "    <tr>\n",
       "      <th>4</th>\n",
       "      <td>COTTON</td>\n",
       "      <td>test</td>\n",
       "      <td>232</td>\n",
       "      <td>NaN</td>\n",
       "    </tr>\n",
       "    <tr>\n",
       "      <th>5</th>\n",
       "      <td>CORN</td>\n",
       "      <td>test</td>\n",
       "      <td>2701</td>\n",
       "      <td>NaN</td>\n",
       "    </tr>\n",
       "    <tr>\n",
       "      <th>0</th>\n",
       "      <td>NaN</td>\n",
       "      <td>test</td>\n",
       "      <td>50</td>\n",
       "      <td>WHEAT</td>\n",
       "    </tr>\n",
       "    <tr>\n",
       "      <th>1</th>\n",
       "      <td>NaN</td>\n",
       "      <td>test</td>\n",
       "      <td>50</td>\n",
       "      <td>SUGAR_CANE</td>\n",
       "    </tr>\n",
       "    <tr>\n",
       "      <th>2</th>\n",
       "      <td>NaN</td>\n",
       "      <td>test</td>\n",
       "      <td>7283</td>\n",
       "      <td>SOYBEAN</td>\n",
       "    </tr>\n",
       "    <tr>\n",
       "      <th>3</th>\n",
       "      <td>NaN</td>\n",
       "      <td>test</td>\n",
       "      <td>81</td>\n",
       "      <td>RICE</td>\n",
       "    </tr>\n",
       "    <tr>\n",
       "      <th>4</th>\n",
       "      <td>NaN</td>\n",
       "      <td>test</td>\n",
       "      <td>50</td>\n",
       "      <td>PASTURE</td>\n",
       "    </tr>\n",
       "    <tr>\n",
       "      <th>5</th>\n",
       "      <td>NaN</td>\n",
       "      <td>test</td>\n",
       "      <td>267</td>\n",
       "      <td>COTTON</td>\n",
       "    </tr>\n",
       "    <tr>\n",
       "      <th>6</th>\n",
       "      <td>NaN</td>\n",
       "      <td>test</td>\n",
       "      <td>579</td>\n",
       "      <td>CORN</td>\n",
       "    </tr>\n",
       "  </tbody>\n",
       "</table>\n",
       "</div>"
      ],
      "text/plain": [
       "  monitoring_class dataset_part  count    gt_class\n",
       "0            WHEAT         test     50         NaN\n",
       "1       SUGAR_CANE         test     40         NaN\n",
       "2          SOYBEAN         test   9760         NaN\n",
       "3             RICE         test     81         NaN\n",
       "4           COTTON         test    232         NaN\n",
       "5             CORN         test   2701         NaN\n",
       "0              NaN         test     50       WHEAT\n",
       "1              NaN         test     50  SUGAR_CANE\n",
       "2              NaN         test   7283     SOYBEAN\n",
       "3              NaN         test     81        RICE\n",
       "4              NaN         test     50     PASTURE\n",
       "5              NaN         test    267      COTTON\n",
       "6              NaN         test    579        CORN"
      ]
     },
     "execution_count": 32,
     "metadata": {},
     "output_type": "execute_result"
    }
   ],
   "source": [
    "pd.concat([report_eopatch, report_geopackage])"
   ]
  },
  {
   "cell_type": "code",
   "execution_count": 20,
   "id": "f3b51e99-7987-44b0-9997-2dacfd68783c",
   "metadata": {},
   "outputs": [
    {
     "name": "stdout",
     "output_type": "stream",
     "text": [
      "Se True então os reports são iguais e todas as imagens foram baixadas\n"
     ]
    }
   ],
   "source": [
    "print('Se True então os reports são iguais e todas as imagens foram baixadas')"
   ]
  },
  {
   "cell_type": "code",
   "execution_count": 21,
   "id": "064259fe-cfb1-4528-90ed-a8910474b8ab",
   "metadata": {},
   "outputs": [
    {
     "data": {
      "text/plain": [
       "False"
      ]
     },
     "execution_count": 21,
     "metadata": {},
     "output_type": "execute_result"
    }
   ],
   "source": [
    "report_eopatch.equals(report_geopackage)"
   ]
  },
  {
   "cell_type": "code",
   "execution_count": null,
   "id": "cc4c276b-24fc-4041-8e9c-bbe7cfb79a44",
   "metadata": {},
   "outputs": [],
   "source": []
  }
 ],
 "metadata": {
  "kernelspec": {
   "display_name": "Python 3 (ipykernel)",
   "language": "python",
   "name": "python3"
  },
  "language_info": {
   "codemirror_mode": {
    "name": "ipython",
    "version": 3
   },
   "file_extension": ".py",
   "mimetype": "text/x-python",
   "name": "python",
   "nbconvert_exporter": "python",
   "pygments_lexer": "ipython3",
   "version": "3.7.16"
  }
 },
 "nbformat": 4,
 "nbformat_minor": 5
}
