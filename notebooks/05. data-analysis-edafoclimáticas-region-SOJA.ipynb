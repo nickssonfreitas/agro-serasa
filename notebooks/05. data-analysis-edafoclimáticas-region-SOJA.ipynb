{
 "cells": [
  {
   "cell_type": "code",
   "execution_count": 26,
   "id": "d3bc1e49-2acd-44fe-97a1-252e954b3064",
   "metadata": {},
   "outputs": [],
   "source": [
    "import boto3\n",
    "import geopandas as gpd\n",
    "import pandas as pd\n",
    "import folium\n",
    "import numpy as np\n",
    "from folium import GeoJson\n",
    "from io import BytesIO"
   ]
  },
  {
   "cell_type": "code",
   "execution_count": 27,
   "id": "65ae16ec-cac7-49d7-bcce-b58ca76a8c09",
   "metadata": {},
   "outputs": [],
   "source": [
    "import sys\n",
    "sys.path.append(\"/agrilearn_app/agrilearn/submodules/commons/\")"
   ]
  },
  {
   "cell_type": "code",
   "execution_count": 28,
   "id": "37c3088a-d8f5-4bf2-876a-5bd55441c92d",
   "metadata": {},
   "outputs": [],
   "source": [
    "from agrilearn.crop_classification import evalutate_utils\n",
    "from agrilearn.crop_classification import yaml_utils\n",
    "from agrilearn.commons.s3 import s3_utils"
   ]
  },
  {
   "cell_type": "markdown",
   "id": "bf39f9f0-8476-4418-912b-1de7fbed1be7",
   "metadata": {},
   "source": [
    "## 1. Read EDF datasets"
   ]
  },
  {
   "cell_type": "code",
   "execution_count": 29,
   "id": "1fde28c9-42aa-40bb-95de-fe3a4e57de73",
   "metadata": {},
   "outputs": [],
   "source": [
    "GEOPACKAGE_PATH = [\"/agrilearn_app/datasets/meso-soja/ref_edf_soja 1.gpkg\"]"
   ]
  },
  {
   "cell_type": "code",
   "execution_count": 30,
   "id": "b11d0968-9e29-474b-9583-8b8a3fc9ff53",
   "metadata": {},
   "outputs": [
    {
     "name": "stdout",
     "output_type": "stream",
     "text": [
      "Dataset final possui 5570 linhas\n"
     ]
    }
   ],
   "source": [
    "gdfs = []\n",
    "\n",
    "# Lê cada Geopackage e adiciona o GeoDataFrame à lista\n",
    "for path in GEOPACKAGE_PATH:\n",
    "    gdf = gpd.read_file(path)\n",
    "    gdf['dataset_source'] = path  # Adiciona a coluna de origem\n",
    "    gdfs.append(gdf)\n",
    "\n",
    "# Concatena todos os GeoDataFrames em um único GeoDataFrame\n",
    "if gdfs:\n",
    "    df = gpd.GeoDataFrame(pd.concat(gdfs, ignore_index=True))\n",
    "    print(f\"Dataset final possui {df.shape[0]} linhas\")\n",
    "    df.head()\n",
    "else:\n",
    "    print(\"Nenhum GeoDataFrame válido encontrado.\")"
   ]
  },
  {
   "cell_type": "code",
   "execution_count": 31,
   "id": "c69954b7-f509-4cc9-94b8-46c06ef42d4b",
   "metadata": {},
   "outputs": [
    {
     "data": {
      "text/html": [
       "<div>\n",
       "<style scoped>\n",
       "    .dataframe tbody tr th:only-of-type {\n",
       "        vertical-align: middle;\n",
       "    }\n",
       "\n",
       "    .dataframe tbody tr th {\n",
       "        vertical-align: top;\n",
       "    }\n",
       "\n",
       "    .dataframe thead th {\n",
       "        text-align: right;\n",
       "    }\n",
       "</style>\n",
       "<table border=\"1\" class=\"dataframe\">\n",
       "  <thead>\n",
       "    <tr style=\"text-align: right;\">\n",
       "      <th></th>\n",
       "      <th>name</th>\n",
       "      <th>uf</th>\n",
       "      <th>macro_edf</th>\n",
       "      <th>edf</th>\n",
       "      <th>geometry</th>\n",
       "      <th>dataset_source</th>\n",
       "    </tr>\n",
       "  </thead>\n",
       "  <tbody>\n",
       "    <tr>\n",
       "      <th>0</th>\n",
       "      <td>Alta Floresta D'Oeste</td>\n",
       "      <td>RO</td>\n",
       "      <td>4</td>\n",
       "      <td>402</td>\n",
       "      <td>MULTIPOLYGON (((-62.19465 -11.82746, -62.19332...</td>\n",
       "      <td>/agrilearn_app/datasets/meso-soja/ref_edf_soja...</td>\n",
       "    </tr>\n",
       "    <tr>\n",
       "      <th>1</th>\n",
       "      <td>Ariquemes</td>\n",
       "      <td>RO</td>\n",
       "      <td>4</td>\n",
       "      <td>402</td>\n",
       "      <td>MULTIPOLYGON (((-62.53648 -9.73222, -62.52765 ...</td>\n",
       "      <td>/agrilearn_app/datasets/meso-soja/ref_edf_soja...</td>\n",
       "    </tr>\n",
       "    <tr>\n",
       "      <th>2</th>\n",
       "      <td>Cabixi</td>\n",
       "      <td>RO</td>\n",
       "      <td>4</td>\n",
       "      <td>402</td>\n",
       "      <td>MULTIPOLYGON (((-60.37119 -13.36655, -60.37134...</td>\n",
       "      <td>/agrilearn_app/datasets/meso-soja/ref_edf_soja...</td>\n",
       "    </tr>\n",
       "    <tr>\n",
       "      <th>3</th>\n",
       "      <td>Cacoal</td>\n",
       "      <td>RO</td>\n",
       "      <td>4</td>\n",
       "      <td>402</td>\n",
       "      <td>MULTIPOLYGON (((-61.0008 -11.29737, -61.00103 ...</td>\n",
       "      <td>/agrilearn_app/datasets/meso-soja/ref_edf_soja...</td>\n",
       "    </tr>\n",
       "    <tr>\n",
       "      <th>4</th>\n",
       "      <td>Cerejeiras</td>\n",
       "      <td>RO</td>\n",
       "      <td>4</td>\n",
       "      <td>402</td>\n",
       "      <td>MULTIPOLYGON (((-61.49976 -13.00525, -61.49809...</td>\n",
       "      <td>/agrilearn_app/datasets/meso-soja/ref_edf_soja...</td>\n",
       "    </tr>\n",
       "  </tbody>\n",
       "</table>\n",
       "</div>"
      ],
      "text/plain": [
       "                    name  uf macro_edf  edf  \\\n",
       "0  Alta Floresta D'Oeste  RO         4  402   \n",
       "1              Ariquemes  RO         4  402   \n",
       "2                 Cabixi  RO         4  402   \n",
       "3                 Cacoal  RO         4  402   \n",
       "4             Cerejeiras  RO         4  402   \n",
       "\n",
       "                                            geometry  \\\n",
       "0  MULTIPOLYGON (((-62.19465 -11.82746, -62.19332...   \n",
       "1  MULTIPOLYGON (((-62.53648 -9.73222, -62.52765 ...   \n",
       "2  MULTIPOLYGON (((-60.37119 -13.36655, -60.37134...   \n",
       "3  MULTIPOLYGON (((-61.0008 -11.29737, -61.00103 ...   \n",
       "4  MULTIPOLYGON (((-61.49976 -13.00525, -61.49809...   \n",
       "\n",
       "                                      dataset_source  \n",
       "0  /agrilearn_app/datasets/meso-soja/ref_edf_soja...  \n",
       "1  /agrilearn_app/datasets/meso-soja/ref_edf_soja...  \n",
       "2  /agrilearn_app/datasets/meso-soja/ref_edf_soja...  \n",
       "3  /agrilearn_app/datasets/meso-soja/ref_edf_soja...  \n",
       "4  /agrilearn_app/datasets/meso-soja/ref_edf_soja...  "
      ]
     },
     "execution_count": 31,
     "metadata": {},
     "output_type": "execute_result"
    }
   ],
   "source": [
    "df.head()"
   ]
  },
  {
   "cell_type": "code",
   "execution_count": 32,
   "id": "4b6c8861-0cee-4d68-932c-f055feda2cda",
   "metadata": {},
   "outputs": [
    {
     "name": "stdout",
     "output_type": "stream",
     "text": [
      "<class 'geopandas.geodataframe.GeoDataFrame'>\n",
      "RangeIndex: 5570 entries, 0 to 5569\n",
      "Data columns (total 6 columns):\n",
      " #   Column          Non-Null Count  Dtype   \n",
      "---  ------          --------------  -----   \n",
      " 0   name            5570 non-null   object  \n",
      " 1   uf              5570 non-null   object  \n",
      " 2   macro_edf       5570 non-null   object  \n",
      " 3   edf             5570 non-null   object  \n",
      " 4   geometry        5570 non-null   geometry\n",
      " 5   dataset_source  5570 non-null   object  \n",
      "dtypes: geometry(1), object(5)\n",
      "memory usage: 261.2+ KB\n"
     ]
    }
   ],
   "source": [
    "df.info()"
   ]
  },
  {
   "cell_type": "markdown",
   "id": "499c587b-a41f-4ca5-8b2a-83330859f7e0",
   "metadata": {},
   "source": [
    "## 2. Improving the Data Quality"
   ]
  },
  {
   "cell_type": "markdown",
   "id": "5d92d727-5ccb-4276-a1ac-e1d14983336d",
   "metadata": {},
   "source": [
    "### 2.1 Check and Drop NaN Columns"
   ]
  },
  {
   "cell_type": "code",
   "execution_count": 33,
   "id": "68e734db-95b9-46da-bbce-87898a38c1f0",
   "metadata": {},
   "outputs": [
    {
     "name": "stdout",
     "output_type": "stream",
     "text": [
      "Removed Columns: 0, Percentage: 0.00%\n"
     ]
    }
   ],
   "source": [
    "shape_before = df.shape[1]\n",
    "df.dropna(axis=1, how='all', inplace=True)\n",
    "print(f\"Removed Columns: {shape_before - df.shape[1]}, Percentage: {(shape_before - df.shape[1]) / shape_before * 100:.2f}%\")"
   ]
  },
  {
   "cell_type": "markdown",
   "id": "135d6918-48d3-4a7e-a4bb-2e9b25a12f33",
   "metadata": {},
   "source": [
    "### 2.2 Check NaN Values"
   ]
  },
  {
   "cell_type": "code",
   "execution_count": 34,
   "id": "386d0670-3181-43df-82cd-b89504a688bf",
   "metadata": {},
   "outputs": [
    {
     "data": {
      "text/html": [
       "<div>\n",
       "<style scoped>\n",
       "    .dataframe tbody tr th:only-of-type {\n",
       "        vertical-align: middle;\n",
       "    }\n",
       "\n",
       "    .dataframe tbody tr th {\n",
       "        vertical-align: top;\n",
       "    }\n",
       "\n",
       "    .dataframe thead th {\n",
       "        text-align: right;\n",
       "    }\n",
       "</style>\n",
       "<table border=\"1\" class=\"dataframe\">\n",
       "  <thead>\n",
       "    <tr style=\"text-align: right;\">\n",
       "      <th></th>\n",
       "      <th>Null Count</th>\n",
       "      <th>NaN percentage</th>\n",
       "    </tr>\n",
       "  </thead>\n",
       "  <tbody>\n",
       "    <tr>\n",
       "      <th>name</th>\n",
       "      <td>0</td>\n",
       "      <td>0.0</td>\n",
       "    </tr>\n",
       "    <tr>\n",
       "      <th>uf</th>\n",
       "      <td>0</td>\n",
       "      <td>0.0</td>\n",
       "    </tr>\n",
       "    <tr>\n",
       "      <th>macro_edf</th>\n",
       "      <td>0</td>\n",
       "      <td>0.0</td>\n",
       "    </tr>\n",
       "    <tr>\n",
       "      <th>edf</th>\n",
       "      <td>0</td>\n",
       "      <td>0.0</td>\n",
       "    </tr>\n",
       "    <tr>\n",
       "      <th>geometry</th>\n",
       "      <td>0</td>\n",
       "      <td>0.0</td>\n",
       "    </tr>\n",
       "    <tr>\n",
       "      <th>dataset_source</th>\n",
       "      <td>0</td>\n",
       "      <td>0.0</td>\n",
       "    </tr>\n",
       "  </tbody>\n",
       "</table>\n",
       "</div>"
      ],
      "text/plain": [
       "                Null Count  NaN percentage\n",
       "name                     0             0.0\n",
       "uf                       0             0.0\n",
       "macro_edf                0             0.0\n",
       "edf                      0             0.0\n",
       "geometry                 0             0.0\n",
       "dataset_source           0             0.0"
      ]
     },
     "execution_count": 34,
     "metadata": {},
     "output_type": "execute_result"
    }
   ],
   "source": [
    "# Calcula a quantidade de registros nulos e a porcentagem de registros nulos\n",
    "df_check_NaN = pd.concat([df.isna().sum(), df.isna().sum() / df.shape[0] * 100], axis=1)\n",
    "df_check_NaN.columns = ['Null Count', 'NaN percentage']\n",
    "df_check_NaN.sort_values('NaN percentage', ascending=False)\n",
    "df_check_NaN"
   ]
  },
  {
   "cell_type": "markdown",
   "id": "5982ee47-cfc2-42b8-8488-291ce9eaafdc",
   "metadata": {},
   "source": [
    "### 2.3 Check duplicated Values"
   ]
  },
  {
   "cell_type": "code",
   "execution_count": 35,
   "id": "d89e29cd-c9f6-4c8a-89b8-c69d79f84735",
   "metadata": {},
   "outputs": [
    {
     "data": {
      "text/html": [
       "<div>\n",
       "<style scoped>\n",
       "    .dataframe tbody tr th:only-of-type {\n",
       "        vertical-align: middle;\n",
       "    }\n",
       "\n",
       "    .dataframe tbody tr th {\n",
       "        vertical-align: top;\n",
       "    }\n",
       "\n",
       "    .dataframe thead th {\n",
       "        text-align: right;\n",
       "    }\n",
       "</style>\n",
       "<table border=\"1\" class=\"dataframe\">\n",
       "  <thead>\n",
       "    <tr style=\"text-align: right;\">\n",
       "      <th></th>\n",
       "      <th>name</th>\n",
       "      <th>uf</th>\n",
       "      <th>macro_edf</th>\n",
       "      <th>edf</th>\n",
       "      <th>geometry</th>\n",
       "      <th>dataset_source</th>\n",
       "      <th>id_duplicado</th>\n",
       "    </tr>\n",
       "  </thead>\n",
       "  <tbody>\n",
       "  </tbody>\n",
       "</table>\n",
       "</div>"
      ],
      "text/plain": [
       "Empty GeoDataFrame\n",
       "Columns: [name, uf, macro_edf, edf, geometry, dataset_source, id_duplicado]\n",
       "Index: []"
      ]
     },
     "execution_count": 35,
     "metadata": {},
     "output_type": "execute_result"
    }
   ],
   "source": [
    "subset=['name', 'uf', 'edf', 'macro_edf']\n",
    "df_check_duplicated = df[df.duplicated(subset=subset, keep=False)].copy()\n",
    "df_check_duplicated['id_duplicado'] = (df_check_duplicated.groupby(subset).ngroup() + 1)\n",
    "df_check_duplicated.sort_values('id_duplicado', inplace=True)\n",
    "df_check_duplicated"
   ]
  },
  {
   "cell_type": "markdown",
   "id": "bc2e9282-6c8c-4043-b378-d86c9fbf3c9d",
   "metadata": {},
   "source": [
    "## 3. Univariate Data Analysis"
   ]
  },
  {
   "cell_type": "markdown",
   "id": "3d5f5b73-466d-4a60-b41e-a7d43da94cc1",
   "metadata": {},
   "source": [
    "### 3.1 ``edf``"
   ]
  },
  {
   "cell_type": "code",
   "execution_count": 36,
   "id": "08a0aeb8-b1e2-412c-b79b-651828e3bc37",
   "metadata": {},
   "outputs": [
    {
     "data": {
      "text/plain": [
       "Null Count        0.0\n",
       "NaN percentage    0.0\n",
       "Name: edf, dtype: float64"
      ]
     },
     "execution_count": 36,
     "metadata": {},
     "output_type": "execute_result"
    }
   ],
   "source": [
    "df_check_NaN.loc['edf']"
   ]
  },
  {
   "cell_type": "code",
   "execution_count": 37,
   "id": "96361a49-bb63-488d-abc6-f6d17a31120c",
   "metadata": {},
   "outputs": [
    {
     "data": {
      "text/plain": [
       "21"
      ]
     },
     "execution_count": 37,
     "metadata": {},
     "output_type": "execute_result"
    }
   ],
   "source": [
    "df['edf'].nunique()"
   ]
  },
  {
   "cell_type": "code",
   "execution_count": 38,
   "id": "8ef1d4d6-f08f-47e1-8d12-b96baf2cc956",
   "metadata": {},
   "outputs": [
    {
     "data": {
      "text/html": [
       "<div>\n",
       "<style scoped>\n",
       "    .dataframe tbody tr th:only-of-type {\n",
       "        vertical-align: middle;\n",
       "    }\n",
       "\n",
       "    .dataframe tbody tr th {\n",
       "        vertical-align: top;\n",
       "    }\n",
       "\n",
       "    .dataframe thead th {\n",
       "        text-align: right;\n",
       "    }\n",
       "</style>\n",
       "<table border=\"1\" class=\"dataframe\">\n",
       "  <thead>\n",
       "    <tr style=\"text-align: right;\">\n",
       "      <th></th>\n",
       "      <th>count</th>\n",
       "      <th>proportion</th>\n",
       "    </tr>\n",
       "    <tr>\n",
       "      <th>edf</th>\n",
       "      <th></th>\n",
       "      <th></th>\n",
       "    </tr>\n",
       "  </thead>\n",
       "  <tbody>\n",
       "    <tr>\n",
       "      <th>NULL</th>\n",
       "      <td>1378</td>\n",
       "      <td>24.739677</td>\n",
       "    </tr>\n",
       "    <tr>\n",
       "      <th>501</th>\n",
       "      <td>622</td>\n",
       "      <td>11.166966</td>\n",
       "    </tr>\n",
       "    <tr>\n",
       "      <th>303</th>\n",
       "      <td>536</td>\n",
       "      <td>9.622980</td>\n",
       "    </tr>\n",
       "    <tr>\n",
       "      <th>203</th>\n",
       "      <td>408</td>\n",
       "      <td>7.324955</td>\n",
       "    </tr>\n",
       "    <tr>\n",
       "      <th>102</th>\n",
       "      <td>402</td>\n",
       "      <td>7.217235</td>\n",
       "    </tr>\n",
       "    <tr>\n",
       "      <th>302</th>\n",
       "      <td>353</td>\n",
       "      <td>6.337522</td>\n",
       "    </tr>\n",
       "    <tr>\n",
       "      <th>502</th>\n",
       "      <td>245</td>\n",
       "      <td>4.398564</td>\n",
       "    </tr>\n",
       "    <tr>\n",
       "      <th>304</th>\n",
       "      <td>236</td>\n",
       "      <td>4.236984</td>\n",
       "    </tr>\n",
       "    <tr>\n",
       "      <th>103</th>\n",
       "      <td>214</td>\n",
       "      <td>3.842011</td>\n",
       "    </tr>\n",
       "    <tr>\n",
       "      <th>101</th>\n",
       "      <td>203</td>\n",
       "      <td>3.644524</td>\n",
       "    </tr>\n",
       "    <tr>\n",
       "      <th>201</th>\n",
       "      <td>198</td>\n",
       "      <td>3.554758</td>\n",
       "    </tr>\n",
       "    <tr>\n",
       "      <th>401</th>\n",
       "      <td>156</td>\n",
       "      <td>2.800718</td>\n",
       "    </tr>\n",
       "    <tr>\n",
       "      <th>104</th>\n",
       "      <td>151</td>\n",
       "      <td>2.710952</td>\n",
       "    </tr>\n",
       "    <tr>\n",
       "      <th>402</th>\n",
       "      <td>134</td>\n",
       "      <td>2.405745</td>\n",
       "    </tr>\n",
       "    <tr>\n",
       "      <th>202</th>\n",
       "      <td>112</td>\n",
       "      <td>2.010772</td>\n",
       "    </tr>\n",
       "    <tr>\n",
       "      <th>404</th>\n",
       "      <td>65</td>\n",
       "      <td>1.166966</td>\n",
       "    </tr>\n",
       "    <tr>\n",
       "      <th>301</th>\n",
       "      <td>41</td>\n",
       "      <td>0.736086</td>\n",
       "    </tr>\n",
       "    <tr>\n",
       "      <th>204</th>\n",
       "      <td>33</td>\n",
       "      <td>0.592460</td>\n",
       "    </tr>\n",
       "    <tr>\n",
       "      <th>503</th>\n",
       "      <td>31</td>\n",
       "      <td>0.556553</td>\n",
       "    </tr>\n",
       "    <tr>\n",
       "      <th>405</th>\n",
       "      <td>27</td>\n",
       "      <td>0.484740</td>\n",
       "    </tr>\n",
       "    <tr>\n",
       "      <th>403</th>\n",
       "      <td>25</td>\n",
       "      <td>0.448833</td>\n",
       "    </tr>\n",
       "  </tbody>\n",
       "</table>\n",
       "</div>"
      ],
      "text/plain": [
       "      count  proportion\n",
       "edf                    \n",
       "NULL   1378   24.739677\n",
       "501     622   11.166966\n",
       "303     536    9.622980\n",
       "203     408    7.324955\n",
       "102     402    7.217235\n",
       "302     353    6.337522\n",
       "502     245    4.398564\n",
       "304     236    4.236984\n",
       "103     214    3.842011\n",
       "101     203    3.644524\n",
       "201     198    3.554758\n",
       "401     156    2.800718\n",
       "104     151    2.710952\n",
       "402     134    2.405745\n",
       "202     112    2.010772\n",
       "404      65    1.166966\n",
       "301      41    0.736086\n",
       "204      33    0.592460\n",
       "503      31    0.556553\n",
       "405      27    0.484740\n",
       "403      25    0.448833"
      ]
     },
     "execution_count": 38,
     "metadata": {},
     "output_type": "execute_result"
    }
   ],
   "source": [
    "pd.concat([df['edf'].value_counts(),\n",
    "          df['edf'].value_counts(normalize=True)*100], axis=1)"
   ]
  },
  {
   "cell_type": "code",
   "execution_count": 39,
   "id": "f77fd001-cc04-4e3b-b259-135154e3f9f7",
   "metadata": {},
   "outputs": [],
   "source": [
    "df['edf'] = df['edf'].replace('NULL', 9999).astype(int)"
   ]
  },
  {
   "cell_type": "markdown",
   "id": "2a753626-2143-4088-b633-d38caccdc3cb",
   "metadata": {},
   "source": [
    "### 3.2 ``macro_edf``"
   ]
  },
  {
   "cell_type": "code",
   "execution_count": 40,
   "id": "7565958e-3610-4ceb-8885-f64670816e8a",
   "metadata": {},
   "outputs": [
    {
     "data": {
      "text/plain": [
       "Null Count        0.0\n",
       "NaN percentage    0.0\n",
       "Name: macro_edf, dtype: float64"
      ]
     },
     "execution_count": 40,
     "metadata": {},
     "output_type": "execute_result"
    }
   ],
   "source": [
    "df_check_NaN.loc['macro_edf']"
   ]
  },
  {
   "cell_type": "code",
   "execution_count": 41,
   "id": "4d59d4a2-ae0a-41ac-ba69-887dfe20b6c4",
   "metadata": {},
   "outputs": [
    {
     "data": {
      "text/plain": [
       "6"
      ]
     },
     "execution_count": 41,
     "metadata": {},
     "output_type": "execute_result"
    }
   ],
   "source": [
    "df['macro_edf'].nunique()"
   ]
  },
  {
   "cell_type": "code",
   "execution_count": 42,
   "id": "0734d351-c199-49ba-b976-d7f27a7002ce",
   "metadata": {},
   "outputs": [
    {
     "data": {
      "text/html": [
       "<div>\n",
       "<style scoped>\n",
       "    .dataframe tbody tr th:only-of-type {\n",
       "        vertical-align: middle;\n",
       "    }\n",
       "\n",
       "    .dataframe tbody tr th {\n",
       "        vertical-align: top;\n",
       "    }\n",
       "\n",
       "    .dataframe thead th {\n",
       "        text-align: right;\n",
       "    }\n",
       "</style>\n",
       "<table border=\"1\" class=\"dataframe\">\n",
       "  <thead>\n",
       "    <tr style=\"text-align: right;\">\n",
       "      <th></th>\n",
       "      <th>count</th>\n",
       "      <th>proportion</th>\n",
       "    </tr>\n",
       "    <tr>\n",
       "      <th>macro_edf</th>\n",
       "      <th></th>\n",
       "      <th></th>\n",
       "    </tr>\n",
       "  </thead>\n",
       "  <tbody>\n",
       "    <tr>\n",
       "      <th>NULL</th>\n",
       "      <td>1378</td>\n",
       "      <td>24.739677</td>\n",
       "    </tr>\n",
       "    <tr>\n",
       "      <th>3</th>\n",
       "      <td>1166</td>\n",
       "      <td>20.933573</td>\n",
       "    </tr>\n",
       "    <tr>\n",
       "      <th>1</th>\n",
       "      <td>970</td>\n",
       "      <td>17.414722</td>\n",
       "    </tr>\n",
       "    <tr>\n",
       "      <th>5</th>\n",
       "      <td>898</td>\n",
       "      <td>16.122083</td>\n",
       "    </tr>\n",
       "    <tr>\n",
       "      <th>2</th>\n",
       "      <td>751</td>\n",
       "      <td>13.482944</td>\n",
       "    </tr>\n",
       "    <tr>\n",
       "      <th>4</th>\n",
       "      <td>407</td>\n",
       "      <td>7.307002</td>\n",
       "    </tr>\n",
       "  </tbody>\n",
       "</table>\n",
       "</div>"
      ],
      "text/plain": [
       "           count  proportion\n",
       "macro_edf                   \n",
       "NULL        1378   24.739677\n",
       "3           1166   20.933573\n",
       "1            970   17.414722\n",
       "5            898   16.122083\n",
       "2            751   13.482944\n",
       "4            407    7.307002"
      ]
     },
     "execution_count": 42,
     "metadata": {},
     "output_type": "execute_result"
    }
   ],
   "source": [
    "pd.concat([df['macro_edf'].value_counts(),\n",
    "          df['macro_edf'].value_counts(normalize=True)*100], axis=1)"
   ]
  },
  {
   "cell_type": "code",
   "execution_count": 43,
   "id": "a134b3cd-e9f4-4073-a9af-940256ad5cc8",
   "metadata": {},
   "outputs": [],
   "source": [
    "df['macro_edf'] = df['macro_edf'].replace('NULL', 9999).astype(int)"
   ]
  },
  {
   "cell_type": "markdown",
   "id": "adcedadf-f314-4f5b-85b5-98209a7ab570",
   "metadata": {},
   "source": [
    "### 3.3 ``macro_edf``"
   ]
  },
  {
   "cell_type": "code",
   "execution_count": 44,
   "id": "164ae43e-3d34-4a0b-a313-48cd5406f0ba",
   "metadata": {},
   "outputs": [
    {
     "data": {
      "text/plain": [
       "Null Count        0.0\n",
       "NaN percentage    0.0\n",
       "Name: name, dtype: float64"
      ]
     },
     "execution_count": 44,
     "metadata": {},
     "output_type": "execute_result"
    }
   ],
   "source": [
    "df_check_NaN.loc['name']"
   ]
  },
  {
   "cell_type": "code",
   "execution_count": 45,
   "id": "3c100d55-8bf5-459a-8dbb-12152b1d8292",
   "metadata": {},
   "outputs": [
    {
     "data": {
      "text/plain": [
       "5297"
      ]
     },
     "execution_count": 45,
     "metadata": {},
     "output_type": "execute_result"
    }
   ],
   "source": [
    "df['name'].nunique()"
   ]
  },
  {
   "cell_type": "code",
   "execution_count": 46,
   "id": "116689de-7e88-4db6-add2-e8c347eb8da6",
   "metadata": {},
   "outputs": [
    {
     "data": {
      "text/html": [
       "<div>\n",
       "<style scoped>\n",
       "    .dataframe tbody tr th:only-of-type {\n",
       "        vertical-align: middle;\n",
       "    }\n",
       "\n",
       "    .dataframe tbody tr th {\n",
       "        vertical-align: top;\n",
       "    }\n",
       "\n",
       "    .dataframe thead th {\n",
       "        text-align: right;\n",
       "    }\n",
       "</style>\n",
       "<table border=\"1\" class=\"dataframe\">\n",
       "  <thead>\n",
       "    <tr style=\"text-align: right;\">\n",
       "      <th></th>\n",
       "      <th>count</th>\n",
       "      <th>proportion</th>\n",
       "    </tr>\n",
       "    <tr>\n",
       "      <th>name</th>\n",
       "      <th></th>\n",
       "      <th></th>\n",
       "    </tr>\n",
       "  </thead>\n",
       "  <tbody>\n",
       "    <tr>\n",
       "      <th>São Domingos</th>\n",
       "      <td>5</td>\n",
       "      <td>0.089767</td>\n",
       "    </tr>\n",
       "    <tr>\n",
       "      <th>Bom Jesus</th>\n",
       "      <td>5</td>\n",
       "      <td>0.089767</td>\n",
       "    </tr>\n",
       "    <tr>\n",
       "      <th>Santa Terezinha</th>\n",
       "      <td>4</td>\n",
       "      <td>0.071813</td>\n",
       "    </tr>\n",
       "    <tr>\n",
       "      <th>Vera Cruz</th>\n",
       "      <td>4</td>\n",
       "      <td>0.071813</td>\n",
       "    </tr>\n",
       "    <tr>\n",
       "      <th>Santa Luzia</th>\n",
       "      <td>4</td>\n",
       "      <td>0.071813</td>\n",
       "    </tr>\n",
       "    <tr>\n",
       "      <th>...</th>\n",
       "      <td>...</td>\n",
       "      <td>...</td>\n",
       "    </tr>\n",
       "    <tr>\n",
       "      <th>Conceição da Feira</th>\n",
       "      <td>1</td>\n",
       "      <td>0.017953</td>\n",
       "    </tr>\n",
       "    <tr>\n",
       "      <th>Cocos</th>\n",
       "      <td>1</td>\n",
       "      <td>0.017953</td>\n",
       "    </tr>\n",
       "    <tr>\n",
       "      <th>Coaraci</th>\n",
       "      <td>1</td>\n",
       "      <td>0.017953</td>\n",
       "    </tr>\n",
       "    <tr>\n",
       "      <th>Cipó</th>\n",
       "      <td>1</td>\n",
       "      <td>0.017953</td>\n",
       "    </tr>\n",
       "    <tr>\n",
       "      <th>Coração de Maria</th>\n",
       "      <td>1</td>\n",
       "      <td>0.017953</td>\n",
       "    </tr>\n",
       "  </tbody>\n",
       "</table>\n",
       "<p>5297 rows × 2 columns</p>\n",
       "</div>"
      ],
      "text/plain": [
       "                    count  proportion\n",
       "name                                 \n",
       "São Domingos            5    0.089767\n",
       "Bom Jesus               5    0.089767\n",
       "Santa Terezinha         4    0.071813\n",
       "Vera Cruz               4    0.071813\n",
       "Santa Luzia             4    0.071813\n",
       "...                   ...         ...\n",
       "Conceição da Feira      1    0.017953\n",
       "Cocos                   1    0.017953\n",
       "Coaraci                 1    0.017953\n",
       "Cipó                    1    0.017953\n",
       "Coração de Maria        1    0.017953\n",
       "\n",
       "[5297 rows x 2 columns]"
      ]
     },
     "execution_count": 46,
     "metadata": {},
     "output_type": "execute_result"
    }
   ],
   "source": [
    "pd.concat([df['name'].value_counts(),\n",
    "          df['name'].value_counts(normalize=True)*100], axis=1)"
   ]
  },
  {
   "cell_type": "markdown",
   "id": "b6dd5095-7462-48b7-9e30-6fc49f69a05c",
   "metadata": {},
   "source": [
    "### 3.4 ``uf``"
   ]
  },
  {
   "cell_type": "code",
   "execution_count": 47,
   "id": "0abacf66-fd1b-42c0-b9b4-4787e11e55e2",
   "metadata": {},
   "outputs": [
    {
     "data": {
      "text/plain": [
       "Null Count        0.0\n",
       "NaN percentage    0.0\n",
       "Name: uf, dtype: float64"
      ]
     },
     "execution_count": 47,
     "metadata": {},
     "output_type": "execute_result"
    }
   ],
   "source": [
    "df_check_NaN.loc['uf']"
   ]
  },
  {
   "cell_type": "code",
   "execution_count": 48,
   "id": "44894f0b-4e2a-46fe-8c16-10e837acec6a",
   "metadata": {},
   "outputs": [
    {
     "data": {
      "text/plain": [
       "27"
      ]
     },
     "execution_count": 48,
     "metadata": {},
     "output_type": "execute_result"
    }
   ],
   "source": [
    "df['uf'].nunique()"
   ]
  },
  {
   "cell_type": "code",
   "execution_count": 49,
   "id": "1799ba4d-24fd-48d1-a7c6-287ddfcc1030",
   "metadata": {},
   "outputs": [
    {
     "data": {
      "text/html": [
       "<div>\n",
       "<style scoped>\n",
       "    .dataframe tbody tr th:only-of-type {\n",
       "        vertical-align: middle;\n",
       "    }\n",
       "\n",
       "    .dataframe tbody tr th {\n",
       "        vertical-align: top;\n",
       "    }\n",
       "\n",
       "    .dataframe thead th {\n",
       "        text-align: right;\n",
       "    }\n",
       "</style>\n",
       "<table border=\"1\" class=\"dataframe\">\n",
       "  <thead>\n",
       "    <tr style=\"text-align: right;\">\n",
       "      <th></th>\n",
       "      <th>count</th>\n",
       "      <th>proportion</th>\n",
       "    </tr>\n",
       "    <tr>\n",
       "      <th>uf</th>\n",
       "      <th></th>\n",
       "      <th></th>\n",
       "    </tr>\n",
       "  </thead>\n",
       "  <tbody>\n",
       "    <tr>\n",
       "      <th>MG</th>\n",
       "      <td>853</td>\n",
       "      <td>15.314183</td>\n",
       "    </tr>\n",
       "    <tr>\n",
       "      <th>SP</th>\n",
       "      <td>645</td>\n",
       "      <td>11.579892</td>\n",
       "    </tr>\n",
       "    <tr>\n",
       "      <th>RS</th>\n",
       "      <td>497</td>\n",
       "      <td>8.922801</td>\n",
       "    </tr>\n",
       "    <tr>\n",
       "      <th>BA</th>\n",
       "      <td>417</td>\n",
       "      <td>7.486535</td>\n",
       "    </tr>\n",
       "    <tr>\n",
       "      <th>PR</th>\n",
       "      <td>399</td>\n",
       "      <td>7.163375</td>\n",
       "    </tr>\n",
       "    <tr>\n",
       "      <th>SC</th>\n",
       "      <td>295</td>\n",
       "      <td>5.296230</td>\n",
       "    </tr>\n",
       "    <tr>\n",
       "      <th>GO</th>\n",
       "      <td>246</td>\n",
       "      <td>4.416517</td>\n",
       "    </tr>\n",
       "    <tr>\n",
       "      <th>PI</th>\n",
       "      <td>224</td>\n",
       "      <td>4.021544</td>\n",
       "    </tr>\n",
       "    <tr>\n",
       "      <th>PB</th>\n",
       "      <td>223</td>\n",
       "      <td>4.003591</td>\n",
       "    </tr>\n",
       "    <tr>\n",
       "      <th>MA</th>\n",
       "      <td>217</td>\n",
       "      <td>3.895871</td>\n",
       "    </tr>\n",
       "    <tr>\n",
       "      <th>PE</th>\n",
       "      <td>185</td>\n",
       "      <td>3.321364</td>\n",
       "    </tr>\n",
       "    <tr>\n",
       "      <th>CE</th>\n",
       "      <td>184</td>\n",
       "      <td>3.303411</td>\n",
       "    </tr>\n",
       "    <tr>\n",
       "      <th>RN</th>\n",
       "      <td>167</td>\n",
       "      <td>2.998205</td>\n",
       "    </tr>\n",
       "    <tr>\n",
       "      <th>PA</th>\n",
       "      <td>144</td>\n",
       "      <td>2.585278</td>\n",
       "    </tr>\n",
       "    <tr>\n",
       "      <th>MT</th>\n",
       "      <td>141</td>\n",
       "      <td>2.531418</td>\n",
       "    </tr>\n",
       "    <tr>\n",
       "      <th>TO</th>\n",
       "      <td>139</td>\n",
       "      <td>2.495512</td>\n",
       "    </tr>\n",
       "    <tr>\n",
       "      <th>AL</th>\n",
       "      <td>102</td>\n",
       "      <td>1.831239</td>\n",
       "    </tr>\n",
       "    <tr>\n",
       "      <th>RJ</th>\n",
       "      <td>92</td>\n",
       "      <td>1.651706</td>\n",
       "    </tr>\n",
       "    <tr>\n",
       "      <th>MS</th>\n",
       "      <td>79</td>\n",
       "      <td>1.418312</td>\n",
       "    </tr>\n",
       "    <tr>\n",
       "      <th>ES</th>\n",
       "      <td>78</td>\n",
       "      <td>1.400359</td>\n",
       "    </tr>\n",
       "    <tr>\n",
       "      <th>SE</th>\n",
       "      <td>75</td>\n",
       "      <td>1.346499</td>\n",
       "    </tr>\n",
       "    <tr>\n",
       "      <th>AM</th>\n",
       "      <td>62</td>\n",
       "      <td>1.113106</td>\n",
       "    </tr>\n",
       "    <tr>\n",
       "      <th>RO</th>\n",
       "      <td>52</td>\n",
       "      <td>0.933573</td>\n",
       "    </tr>\n",
       "    <tr>\n",
       "      <th>AC</th>\n",
       "      <td>22</td>\n",
       "      <td>0.394973</td>\n",
       "    </tr>\n",
       "    <tr>\n",
       "      <th>AP</th>\n",
       "      <td>16</td>\n",
       "      <td>0.287253</td>\n",
       "    </tr>\n",
       "    <tr>\n",
       "      <th>RR</th>\n",
       "      <td>15</td>\n",
       "      <td>0.269300</td>\n",
       "    </tr>\n",
       "    <tr>\n",
       "      <th>DF</th>\n",
       "      <td>1</td>\n",
       "      <td>0.017953</td>\n",
       "    </tr>\n",
       "  </tbody>\n",
       "</table>\n",
       "</div>"
      ],
      "text/plain": [
       "    count  proportion\n",
       "uf                   \n",
       "MG    853   15.314183\n",
       "SP    645   11.579892\n",
       "RS    497    8.922801\n",
       "BA    417    7.486535\n",
       "PR    399    7.163375\n",
       "SC    295    5.296230\n",
       "GO    246    4.416517\n",
       "PI    224    4.021544\n",
       "PB    223    4.003591\n",
       "MA    217    3.895871\n",
       "PE    185    3.321364\n",
       "CE    184    3.303411\n",
       "RN    167    2.998205\n",
       "PA    144    2.585278\n",
       "MT    141    2.531418\n",
       "TO    139    2.495512\n",
       "AL    102    1.831239\n",
       "RJ     92    1.651706\n",
       "MS     79    1.418312\n",
       "ES     78    1.400359\n",
       "SE     75    1.346499\n",
       "AM     62    1.113106\n",
       "RO     52    0.933573\n",
       "AC     22    0.394973\n",
       "AP     16    0.287253\n",
       "RR     15    0.269300\n",
       "DF      1    0.017953"
      ]
     },
     "execution_count": 49,
     "metadata": {},
     "output_type": "execute_result"
    }
   ],
   "source": [
    "pd.concat([df['uf'].value_counts(),\n",
    "          df['uf'].value_counts(normalize=True)*100], axis=1)"
   ]
  },
  {
   "cell_type": "markdown",
   "id": "9c1e14a2-ad78-4cb7-9c75-1b7f648bcd96",
   "metadata": {},
   "source": [
    "## 04. Save New Processed File"
   ]
  },
  {
   "cell_type": "code",
   "execution_count": 50,
   "id": "86611a02-f54e-42e7-bc33-76e16daab496",
   "metadata": {},
   "outputs": [],
   "source": [
    "df.to_file(f\"/agrilearn_app/datasets/meso-soja/ref_edf_soja_processed.gpkg\", driver='GPKG', engine='fiona')"
   ]
  },
  {
   "cell_type": "code",
   "execution_count": null,
   "id": "f78c151c-0644-468c-b0cb-763d68339cdf",
   "metadata": {},
   "outputs": [],
   "source": []
  },
  {
   "cell_type": "code",
   "execution_count": null,
   "id": "0a71789a-c966-4463-bb7e-520778c15806",
   "metadata": {},
   "outputs": [],
   "source": []
  },
  {
   "cell_type": "code",
   "execution_count": null,
   "id": "f264bccb-2de0-4e5a-9114-4c34f4c7584c",
   "metadata": {},
   "outputs": [],
   "source": []
  },
  {
   "cell_type": "code",
   "execution_count": null,
   "id": "4b727bb1-a37d-4d94-8eb5-663eb8f430df",
   "metadata": {},
   "outputs": [],
   "source": []
  },
  {
   "cell_type": "code",
   "execution_count": null,
   "id": "8c668453-869b-4e17-8bb1-3c606f57c0a0",
   "metadata": {},
   "outputs": [],
   "source": []
  },
  {
   "cell_type": "code",
   "execution_count": null,
   "id": "d94fbd27-e988-4fab-91bf-ba1546a1f64c",
   "metadata": {},
   "outputs": [],
   "source": []
  },
  {
   "cell_type": "code",
   "execution_count": null,
   "id": "34e8f79e-bad0-4778-8b40-cbae36c84029",
   "metadata": {},
   "outputs": [],
   "source": []
  }
 ],
 "metadata": {
  "kernelspec": {
   "display_name": "Python 3 (ipykernel)",
   "language": "python",
   "name": "python3"
  },
  "language_info": {
   "codemirror_mode": {
    "name": "ipython",
    "version": 3
   },
   "file_extension": ".py",
   "mimetype": "text/x-python",
   "name": "python",
   "nbconvert_exporter": "python",
   "pygments_lexer": "ipython3",
   "version": "3.10.12"
  }
 },
 "nbformat": 4,
 "nbformat_minor": 5
}
