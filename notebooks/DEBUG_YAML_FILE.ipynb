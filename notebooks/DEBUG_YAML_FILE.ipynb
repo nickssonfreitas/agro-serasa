{
 "cells": [
  {
   "cell_type": "code",
   "execution_count": null,
   "id": "6c01525f-1142-431e-a653-91d388053abd",
   "metadata": {},
   "outputs": [],
   "source": [
    "import boto3\n",
    "import geopandas as gpd\n",
    "import pandas as pd\n",
    "import folium\n",
    "import numpy as np\n",
    "from folium import GeoJson\n",
    "from io import BytesIO\n",
    "from shapely.geometry import Polygon, MultiPolygon"
   ]
  },
  {
   "cell_type": "code",
   "execution_count": null,
   "id": "a6b4a832-c7ef-4afa-b502-58517e601732",
   "metadata": {},
   "outputs": [],
   "source": [
    "import sys\n",
    "sys.path.append(\"/agrilearn_app/agrilearn/submodules/commons/\")"
   ]
  },
  {
   "cell_type": "code",
   "execution_count": null,
   "id": "9a5c4767-cb01-4969-8549-630c4ab903e4",
   "metadata": {},
   "outputs": [],
   "source": [
    "from agrilearn.crop_classification import evalutate_utils\n",
    "from agrilearn.crop_classification import yaml_utils\n",
    "from agrilearn.commons.s3 import s3_utils"
   ]
  },
  {
   "cell_type": "markdown",
   "id": "c02139fb-b81c-4310-b83a-22fad4fb4a9f",
   "metadata": {},
   "source": [
    "### Resumo da análise"
   ]
  },
  {
   "cell_type": "markdown",
   "id": "9b4a847e-018c-4cef-abd5-c1796bb30190",
   "metadata": {},
   "source": [
    "- Existem colunas duplicadas que representam a mesma variável [``start_season``, ``start_of_season``], além de [``end_season``, ``end_of_season``], [``peak_of_season``, ``peak_season``]\n",
    "- Existem dados duplicados considerando o ``eopatch_location``\n",
    "- Não existe mais a coluna ``id_talhao``?"
   ]
  },
  {
   "cell_type": "markdown",
   "id": "6c7cc194-d9bd-479b-bac2-1071d374026d",
   "metadata": {},
   "source": [
    "### Global Variables"
   ]
  },
  {
   "cell_type": "code",
   "execution_count": null,
   "id": "6e6bfd36-0954-4f74-81f7-1303291e67f3",
   "metadata": {},
   "outputs": [],
   "source": [
    "config = yaml_utils.load_config(\"/agrilearn_app/output/config/experiment_12.yaml\")"
   ]
  },
  {
   "cell_type": "code",
   "execution_count": null,
   "id": "6e9d8781-16f4-4a6c-9367-87fb2e6253f5",
   "metadata": {},
   "outputs": [],
   "source": [
    "datasets = config['evaluate']"
   ]
  },
  {
   "cell_type": "code",
   "execution_count": null,
   "id": "8210c3fd-bed3-4582-80fe-68e22ae94b48",
   "metadata": {},
   "outputs": [],
   "source": [
    "report_datasets = evaluate_datasets(datasets)"
   ]
  },
  {
   "cell_type": "code",
   "execution_count": null,
   "id": "8a3bcb7d-71af-4606-92e2-d3d85a3d98c0",
   "metadata": {},
   "outputs": [],
   "source": [
    "config[\"evaluate\"][1]"
   ]
  },
  {
   "cell_type": "code",
   "execution_count": null,
   "id": "3819d5ef-49cf-48c8-938e-be1ae87d5977",
   "metadata": {},
   "outputs": [],
   "source": [
    "import os\n",
    "import geopandas as gpd\n",
    "\n",
    "def evaluate_all_datasets(datasets):\n",
    "    \"\"\"\n",
    "    Avalia uma lista de datasets realizando as seguintes operações:\n",
    "    - Lê o geopackage_test_data_path e conta o tamanho dos dados.\n",
    "    - Verifica e conta a quantidade de arquivos na pasta eopatch_folder.\n",
    "    - Verifica se as colunas label_true e label_eopatch_location existem no geopackage_test_data_path.\n",
    "    \n",
    "    Args:\n",
    "        datasets (list): Lista de dicionários contendo informações dos datasets.\n",
    "        \n",
    "    Returns:\n",
    "        pd.DataFrame: DataFrame contendo o relatório final por dataset.\n",
    "    \"\"\"\n",
    "    results = []\n",
    "    \n",
    "    for dataset in datasets:\n",
    "        result = {}\n",
    "        result['dataset_name'] = dataset['dataset_name']\n",
    "        \n",
    "        # Lê o arquivo geopackage e conta o tamanho dos dados\n",
    "        try:\n",
    "            gdf = gpd.read_file(dataset['geopackage_test_data_path'])\n",
    "            result['data_size'] = len(gdf)\n",
    "        except Exception as e:\n",
    "            result['data_size'] = f\"Error: {e}\"\n",
    "        \n",
    "        # Conta a quantidade de arquivos na pasta eopatch\n",
    "        try:\n",
    "            result['eopatch_file_count'] = len(os.listdir(dataset['eopatch_folder']))\n",
    "        except Exception as e:\n",
    "            result['eopatch_file_count'] = f\"Error: {e}\"\n",
    "        \n",
    "        # Verifica se as colunas label_true e label_eopatch_location existem no arquivo geopackage\n",
    "        try:\n",
    "            result['label_true_exists'] = dataset['label_true'] in gdf.columns\n",
    "            result['label_eopatch_location_exists'] = dataset['label_eopatch_location'] in gdf.columns\n",
    "        except Exception as e:\n",
    "            result['label_true_exists'] = f\"Error: {e}\"\n",
    "            result['label_eopatch_location_exists'] = f\"Error: {e}\"\n",
    "        \n",
    "        results.append(result)\n",
    "    \n",
    "    # Cria um DataFrame com os resultados\n",
    "    df_results = pd.DataFrame(results)\n",
    "    \n",
    "    return df_results"
   ]
  },
  {
   "cell_type": "code",
   "execution_count": null,
   "id": "4f3b990d-250f-4403-8a89-02e011127aa0",
   "metadata": {},
   "outputs": [],
   "source": []
  },
  {
   "cell_type": "code",
   "execution_count": null,
   "id": "8b3ef35d-d4b7-4fa0-a69f-b5fd1fda667f",
   "metadata": {},
   "outputs": [],
   "source": []
  },
  {
   "cell_type": "markdown",
   "id": "a6a06923-5119-4456-ba5b-ac0c9fca3ab9",
   "metadata": {},
   "source": [
    "# 1. Read Datasets\n",
    "\n",
    "### Data description\n",
    "- monitoring_class: é o ``conjunto`` que representa a cultura de interesse do cliente ou da amostra de treinamento (SOYBEAN, CORN)\n",
    "- period: é o ``texto`` que representa a safra agricola (2023/2024, 2024/2025)\n",
    "- fonte: é o ``texto`` da origem dos dados (mapas temáticos, banco de dados)\n",
    "- state: é o ``texto`` do estado do polígono\n",
    "- area: é o ``ponto flutuante`` da área em métros\n",
    "- micro: é o ``inteiro`` que representa a micro região\n",
    "- start_season: é o ``timestamp`` que inicia a safra pra determinada cultura (monitoring_class) e safra (period)\n",
    "- end_season: é o  ``timestamp`` que termina a safra pra determinada cultura (monitoring_class) e safra (period)\n",
    "- peak_start: é o ``timestamp`` que inicia o período em que pode ocorrer o pico pra determinada cultura (monitoring_class) e safra (period)\n",
    "- peak_end: é o ``timestamp`` que termina o período em que pode ocorrer o pico pra determinada cultura (monitoring_class) e safra (period) (Obs: temos um calendário pra isso, um arquivo yaml)\n",
    "- eopath_location: é o ``texto`` que representa o caminho onde o eopatch está salvo (imagens p/ inferência)\n",
    "- start_of_season: é o ``timestamp`` da data da emergencia da cultura\n",
    "- peak_of_season: é o ``timestamp`` da data do pico vegetativo da cultura\n",
    "- end_of_season: é o ``timestamp`` da data da colheita da cultura\n",
    "- length_of_season: é o ``inteiro`` com a duração do cultivo em dias\n",
    "- is_valid_metrics:\n",
    "- sos_valid:\n",
    "- pos_valid:\n",
    "- eos_valid:\n",
    "- los_valid:\n",
    "- planting_start: é o ``timestamp`` da data do inicio do plantio.\n",
    "- planting_end: é o ``timestamp`` da data do fim do plantio.\n",
    "- start_of_cycle: é o ``timestamp`` da data do inio do cultivo segundo o calendário agrícola\n",
    "- end_of_cycle: é o ``timestamp`` da data do fim do caledário de cultivo segundo calendário agrícola\n",
    "- length_of_cycle: é o ``inteiro`` que representa o tamanho do ciclo em dias\n",
    "- is_valid:\n",
    "- is_valid_POS:\n",
    "- is_valid_LOS:\n",
    "- set_type: é o ``conjunto`` que representar a divisão do dado entre treino, validação e teste\n",
    "- sampled_date: é o ``texto`` com a data do sample em mês e ano\n",
    "- cultura_2:\n",
    "- geometry: é a ``geometria`` do polígono "
   ]
  },
  {
   "cell_type": "code",
   "execution_count": null,
   "id": "af873c60-bb37-4253-9554-6749307e434e",
   "metadata": {},
   "outputs": [],
   "source": [
    "gdfs = []\n",
    "\n",
    "# Lê cada Geopackage e adiciona o GeoDataFrame à lista\n",
    "for path in GEOPACKAGE_PATH:\n",
    "    gdf = gpd.read_file(path)\n",
    "    gdf['dataset_source'] = path  # Adiciona a coluna de origem\n",
    "    gdfs.append(gdf)\n",
    "\n",
    "# Concatena todos os GeoDataFrames em um único GeoDataFrame\n",
    "if gdfs:\n",
    "    df = gpd.GeoDataFrame(pd.concat(gdfs, ignore_index=True))\n",
    "    print(f\"Dataset final possui {df.shape[0]} linhas\")\n",
    "    df.head()\n",
    "else:\n",
    "    print(\"Nenhum GeoDataFrame válido encontrado.\")"
   ]
  },
  {
   "cell_type": "code",
   "execution_count": null,
   "id": "d996224c-0b52-40ae-b8e8-c38b26b7610f",
   "metadata": {},
   "outputs": [],
   "source": [
    "df['dataset_source'].value_counts()"
   ]
  },
  {
   "cell_type": "code",
   "execution_count": null,
   "id": "e47281b0",
   "metadata": {},
   "outputs": [],
   "source": [
    "df['monitoring_class'].value_counts()"
   ]
  },
  {
   "cell_type": "code",
   "execution_count": null,
   "id": "374aa7ab-49c0-47b4-b663-b390eb2c67cd",
   "metadata": {},
   "outputs": [],
   "source": [
    "df.head()"
   ]
  },
  {
   "cell_type": "code",
   "execution_count": null,
   "id": "32955c38",
   "metadata": {},
   "outputs": [],
   "source": [
    "df['class'].value_counts()"
   ]
  },
  {
   "cell_type": "code",
   "execution_count": null,
   "id": "ff44a524",
   "metadata": {},
   "outputs": [],
   "source": [
    "df['eopath_location'].value_counts()"
   ]
  },
  {
   "cell_type": "code",
   "execution_count": null,
   "id": "d70f32f5",
   "metadata": {},
   "outputs": [],
   "source": [
    "df.columns"
   ]
  },
  {
   "cell_type": "code",
   "execution_count": null,
   "id": "40eca610-2367-47bb-8cbd-c425206b6013",
   "metadata": {},
   "outputs": [],
   "source": [
    "df['start_of_season'].sample()"
   ]
  },
  {
   "cell_type": "code",
   "execution_count": null,
   "id": "929d7f5c-20c7-4cf4-af2c-593b8b1b946e",
   "metadata": {},
   "outputs": [],
   "source": [
    "datetime_columns = ['start_season', \n",
    "                    'end_season', \n",
    "                    'peak_start', \n",
    "                    'peak_end',\n",
    "                    'start_of_season',\n",
    "                    'peak_of_season',\n",
    "                    'end_of_season',\n",
    "                    'planting_start',\n",
    "                    'planting_end',\n",
    "                    'start_of_cycle',\n",
    "                    'end_of_cycle'                  \n",
    "                   ]\n",
    "\n",
    "    # Verifica se a coluna existe, se existir formata, senão printa mensagem\n",
    "for col in datetime_columns:\n",
    "    if col in df.columns:\n",
    "        try:\n",
    "            df[col] = pd.to_datetime(df[col])\n",
    "        except Exception as e:\n",
    "            print(f\"Erro ao formatar a coluna {col}: {e}\")\n",
    "    else:\n",
    "        print(f\"A coluna '{col}' não existe no DataFrame.\")\n",
    "\n",
    "# Exibe informações das colunas datetime\n",
    "df[datetime_columns].info()"
   ]
  },
  {
   "cell_type": "code",
   "execution_count": null,
   "id": "5217474e-a3f0-4301-9bd4-99ebaab7ac79",
   "metadata": {},
   "outputs": [],
   "source": [
    "df['monitoring_class'].value_counts()"
   ]
  },
  {
   "cell_type": "code",
   "execution_count": null,
   "id": "3deaac7b",
   "metadata": {},
   "outputs": [],
   "source": [
    "df['state'].value_counts()"
   ]
  },
  {
   "cell_type": "code",
   "execution_count": null,
   "id": "f7a80423-c580-4de0-84f5-19b016803dc8",
   "metadata": {},
   "outputs": [],
   "source": [
    "print(f\"There are {df.shape[0]} rows and {df.shape[1]} columns\")"
   ]
  },
  {
   "cell_type": "code",
   "execution_count": null,
   "id": "0849d90d-89f4-48b8-8b82-849d8c569dbe",
   "metadata": {},
   "outputs": [],
   "source": [
    "df[datetime_columns].info()"
   ]
  },
  {
   "cell_type": "code",
   "execution_count": null,
   "id": "d3d1733f-7341-4967-a0a8-c49fe3420ea1",
   "metadata": {},
   "outputs": [],
   "source": [
    "print(f\"Dados de {df['start_season'].min()} a {df['end_season'].max()}\")"
   ]
  },
  {
   "cell_type": "code",
   "execution_count": null,
   "id": "e0956b8a-b054-4784-9d32-9431ee3bd731",
   "metadata": {},
   "outputs": [],
   "source": [
    "list(df.columns)"
   ]
  },
  {
   "cell_type": "markdown",
   "id": "1c46801e-0ce6-47cf-958f-863aefbe2c02",
   "metadata": {},
   "source": [
    "# 02. Data Integration in columns"
   ]
  },
  {
   "cell_type": "code",
   "execution_count": null,
   "id": "214f2c3f-ddfb-4a55-9c9a-a349a051abe7",
   "metadata": {},
   "outputs": [],
   "source": [
    "df[['start_season', 'start_of_season']].sample(10)"
   ]
  },
  {
   "cell_type": "code",
   "execution_count": null,
   "id": "23124ace-4db1-4ee7-9c9c-9c620e2d12e7",
   "metadata": {},
   "outputs": [],
   "source": [
    "df[['length_of_season', 'LOS']].sample(10)"
   ]
  },
  {
   "cell_type": "code",
   "execution_count": null,
   "id": "10ef558e-78a6-46a1-be32-877b461ebaa1",
   "metadata": {},
   "outputs": [],
   "source": [
    "df[['end_season', 'end_of_season']].sample(10)"
   ]
  },
  {
   "cell_type": "code",
   "execution_count": null,
   "id": "fd03f1b4-873d-4f0a-a0cc-df7d8ec079de",
   "metadata": {},
   "outputs": [],
   "source": [
    "df[['eopath_location', 'sentinel_eopatch_current']].sample(10)"
   ]
  },
  {
   "cell_type": "code",
   "execution_count": null,
   "id": "7b8f0278-d299-49cd-819e-3ceab8d7142b",
   "metadata": {},
   "outputs": [],
   "source": [
    "# # Atribui a coluna principal que são nulas os dados da coluna que tem nome diferente no dataset\n",
    "# df['length_of_season'] = df['length_of_season'].fillna(df['LOS'])\n",
    "# df['start_season'] = df['start_season'].fillna(df['start_of_season'])\n",
    "# df['end_season'] = df['end_season'].fillna(df['end_of_season'])\n",
    "# df['eopath_location'] = df['eopath_location'].fillna(df['sentinel_eopatch_current'])"
   ]
  },
  {
   "cell_type": "markdown",
   "id": "b8aea6c8-f90a-4b2a-875e-92884d0b73a4",
   "metadata": {},
   "source": [
    "# 03. Check Data Quality"
   ]
  },
  {
   "cell_type": "markdown",
   "id": "d33c4775-e345-428c-b256-c9a217acc5bc",
   "metadata": {},
   "source": [
    "## 3.1 Drop Columns NaN"
   ]
  },
  {
   "cell_type": "code",
   "execution_count": null,
   "id": "5de57e7c-ee24-461f-b60b-d2dbb8230ce3",
   "metadata": {},
   "outputs": [],
   "source": [
    "shape_before = df.shape[1]\n",
    "df.dropna(axis=1, how='all', inplace=True)\n",
    "print(f\"Removed Columns: {shape_before - df.shape[1]}, Percentage: {(shape_before - df.shape[1]) / shape_before * 100:.2f}%\")"
   ]
  },
  {
   "cell_type": "markdown",
   "id": "1f15bf98-39b3-4bc2-8200-45afa3de7c2d",
   "metadata": {},
   "source": [
    "## 3.2 Check NaN Values"
   ]
  },
  {
   "cell_type": "code",
   "execution_count": null,
   "id": "cb5f1de4-f666-46b0-b72a-f99ef9b58d21",
   "metadata": {},
   "outputs": [],
   "source": [
    "# Calcula a quantidade de registros nulos e a porcentagem de registros nulos\n",
    "df_check_NaN = pd.concat([df.isna().sum(), df.isna().sum() / df.shape[0] * 100], axis=1)\n",
    "df_check_NaN.columns = ['Null Count', 'NaN percentage']\n",
    "df_check_NaN.sort_values('NaN percentage', ascending=False, inplace=True)"
   ]
  },
  {
   "cell_type": "code",
   "execution_count": null,
   "id": "9fe097be-1ca4-400e-8fda-2f8017c916a0",
   "metadata": {},
   "outputs": [],
   "source": [
    "columns_to_delete = list(df_check_NaN[df_check_NaN['NaN percentage'] > 50].index)\n",
    "df.drop(columns=columns_to_delete, inplace=True)"
   ]
  },
  {
   "cell_type": "markdown",
   "id": "e2337046-407c-4c18-8262-db3e7c417799",
   "metadata": {},
   "source": [
    "## 3.3 Transform all Geometry to Multipolygon"
   ]
  },
  {
   "cell_type": "code",
   "execution_count": null,
   "id": "e4107705-a3c3-4bc5-86b4-45f9d3c79b86",
   "metadata": {},
   "outputs": [],
   "source": [
    "df['geometry_type'] = df['geometry'].apply(lambda geom: 'Polygon' if isinstance(geom, Polygon) else 'MultiPolygon')\n",
    "df['geometry_type'].value_counts()"
   ]
  },
  {
   "cell_type": "code",
   "execution_count": null,
   "id": "0f7cf172-030a-49d6-8887-32758f690f64",
   "metadata": {},
   "outputs": [],
   "source": [
    "df['geometry'] = df['geometry'].apply(lambda geom: MultiPolygon([geom]) if isinstance(geom, Polygon) else geom)"
   ]
  },
  {
   "cell_type": "code",
   "execution_count": null,
   "id": "85be702f-d9b3-414a-8593-0cdd795f0c0f",
   "metadata": {},
   "outputs": [],
   "source": [
    "df['geometry_type'] = df['geometry'].apply(lambda geom: 'Polygon' if isinstance(geom, Polygon) else 'MultiPolygon')\n",
    "df['geometry_type'].value_counts()"
   ]
  },
  {
   "cell_type": "markdown",
   "id": "39b1596f-0a95-4caf-8565-6afb05f5dae6",
   "metadata": {},
   "source": [
    "## 3.4 Check Duplicated"
   ]
  },
  {
   "cell_type": "code",
   "execution_count": null,
   "id": "ecf40c23-d387-4d46-a027-ad1905f600c0",
   "metadata": {},
   "outputs": [],
   "source": [
    "df_check_duplicated = df[df.duplicated(subset=['geometry', 'period'], keep=False)].copy()\n",
    "df_check_duplicated['id_duplicado'] = (df_check_duplicated.groupby(['geometry', 'period']).ngroup() + 1)\n",
    "df_check_duplicated.sort_values('id_duplicado', inplace=True)\n",
    "df_check_duplicated"
   ]
  },
  {
   "cell_type": "code",
   "execution_count": null,
   "id": "a660a5cf-af3e-4dfb-aafc-7a33599f58b9",
   "metadata": {},
   "outputs": [],
   "source": [
    "# df_check_duplicated.to_csv('/agrilearn_app/datasets/base/reports/base_all_06-03-2024.csv',\n",
    "#                            sep=';',\n",
    "#                            decimal=',',\n",
    "#                            float_format='%.4f')"
   ]
  },
  {
   "cell_type": "code",
   "execution_count": null,
   "id": "f8a1d081-cf84-4372-89c1-df11f4535431",
   "metadata": {},
   "outputs": [],
   "source": [
    "df['dataset_source'].value_counts()"
   ]
  },
  {
   "cell_type": "code",
   "execution_count": null,
   "id": "9015e7ed-c71c-4cd9-9b1d-90c37b70d2c7",
   "metadata": {},
   "outputs": [],
   "source": [
    "shape_before = df.shape[0]\n",
    "df.drop_duplicates(subset=['geometry', 'period'], inplace=True)\n",
    "print(f\"Removed records: {shape_before - df.shape[0]}, Percentage: {(shape_before - df.shape[0]) / shape_before * 100:.2f}%\")"
   ]
  },
  {
   "cell_type": "code",
   "execution_count": null,
   "id": "33aca373-bcd5-46b2-9959-e23e1b1d2cd4",
   "metadata": {},
   "outputs": [],
   "source": []
  },
  {
   "cell_type": "markdown",
   "id": "783c8fe4-d068-454d-86b3-18caeb77edbb",
   "metadata": {},
   "source": [
    "### Update NaN after DROP"
   ]
  },
  {
   "cell_type": "code",
   "execution_count": null,
   "id": "00d2a59a-e6cd-4e56-a4d9-2df15e0f6bf3",
   "metadata": {},
   "outputs": [],
   "source": [
    "# Update NaN values\n",
    "df_check_NaN = pd.concat([df.isna().sum(), df.isna().sum() / df.shape[0] * 100], axis=1)\n",
    "df_check_NaN.columns = ['Null Count', 'NaN percentage']\n",
    "df_check_NaN.sort_values('NaN percentage', ascending=False, inplace=True)"
   ]
  },
  {
   "cell_type": "markdown",
   "id": "f3e6a89a-5ea8-4688-a730-031ec4406355",
   "metadata": {},
   "source": [
    "# 04. Feature Engineering"
   ]
  },
  {
   "cell_type": "code",
   "execution_count": null,
   "id": "2a2e3352-c95d-4bc6-a382-5881179f40ba",
   "metadata": {},
   "outputs": [],
   "source": [
    "df['safra'] = df['period'].apply(lambda x: 'safrinha' if x.split('/')[0] == x.split('/')[1] else 'safra')"
   ]
  },
  {
   "cell_type": "code",
   "execution_count": null,
   "id": "860b26d3-a8c6-4110-ab2b-957594e626a3",
   "metadata": {},
   "outputs": [],
   "source": []
  },
  {
   "cell_type": "markdown",
   "id": "12013ad4-de1e-425a-ac18-b98466d25d40",
   "metadata": {},
   "source": [
    "# 05. Univariate Data Analysis"
   ]
  },
  {
   "cell_type": "markdown",
   "id": "e563f751-e706-418e-92fb-e4fe188518f0",
   "metadata": {},
   "source": [
    "### 5.1 Analysing Target y ``monitoring_class``"
   ]
  },
  {
   "cell_type": "code",
   "execution_count": null,
   "id": "0ca30bb6-2079-436d-b42d-0c1770cd7efe",
   "metadata": {},
   "outputs": [],
   "source": [
    "df_check_NaN.loc['monitoring_class']"
   ]
  },
  {
   "cell_type": "code",
   "execution_count": null,
   "id": "c0df43e2-9dab-4f12-94a3-5496db0cb25f",
   "metadata": {},
   "outputs": [],
   "source": [
    "df['monitoring_class'].nunique()"
   ]
  },
  {
   "cell_type": "code",
   "execution_count": null,
   "id": "b4155328-4040-44be-9e27-64a220c9094f",
   "metadata": {},
   "outputs": [],
   "source": [
    "pd.concat([df['monitoring_class'].value_counts(),\n",
    "          df['monitoring_class'].value_counts(normalize=True)*100], axis=1)"
   ]
  },
  {
   "cell_type": "markdown",
   "id": "747031d9-7fce-42b1-ae31-1c405cd01f84",
   "metadata": {},
   "source": [
    "### 5.2 Analysing dados por ``estado``"
   ]
  },
  {
   "cell_type": "code",
   "execution_count": null,
   "id": "8868b480-c31d-460d-827b-7d754c3d4852",
   "metadata": {},
   "outputs": [],
   "source": [
    "df_check_NaN.loc['state']"
   ]
  },
  {
   "cell_type": "code",
   "execution_count": null,
   "id": "72d0e51e-bf55-43c2-9321-60f98ffdc03c",
   "metadata": {},
   "outputs": [],
   "source": [
    "df['state'].nunique()"
   ]
  },
  {
   "cell_type": "code",
   "execution_count": null,
   "id": "43441d1b-10db-4101-9ff7-858316a0fddb",
   "metadata": {},
   "outputs": [],
   "source": [
    "pd.concat([df['state'].value_counts(),\n",
    "          df['state'].value_counts(normalize=True)*100], axis=1)"
   ]
  },
  {
   "cell_type": "markdown",
   "id": "747f64bb-8380-4ace-9591-f426df77ac1e",
   "metadata": {},
   "source": [
    "### 5.3 Analysis ``period``"
   ]
  },
  {
   "cell_type": "code",
   "execution_count": null,
   "id": "1d585b69-c397-4658-97eb-2753ce50c619",
   "metadata": {},
   "outputs": [],
   "source": [
    "df_check_NaN.loc['period']"
   ]
  },
  {
   "cell_type": "code",
   "execution_count": null,
   "id": "31b7c42e-2324-4284-8489-3883abd47a14",
   "metadata": {},
   "outputs": [],
   "source": [
    "df['period'].nunique()"
   ]
  },
  {
   "cell_type": "code",
   "execution_count": null,
   "id": "00619ac3-4d1c-4b1c-b73f-5a115a2f501f",
   "metadata": {},
   "outputs": [],
   "source": [
    "pd.concat([df['period'].value_counts(),\n",
    "          df['period'].value_counts(normalize=True)*100], axis=1)"
   ]
  },
  {
   "cell_type": "markdown",
   "id": "773295e4-7101-481b-87a4-7357974ddc8e",
   "metadata": {},
   "source": [
    "### 5.4 Analysis ``micro``"
   ]
  },
  {
   "cell_type": "code",
   "execution_count": null,
   "id": "dcaf9ec1-0175-471b-b267-9751ba7c1458",
   "metadata": {},
   "outputs": [],
   "source": [
    "df_check_NaN.loc['micro']"
   ]
  },
  {
   "cell_type": "code",
   "execution_count": null,
   "id": "56d41f78-ae31-4f62-aff0-29973a8547da",
   "metadata": {},
   "outputs": [],
   "source": [
    "df['micro'].nunique()"
   ]
  },
  {
   "cell_type": "code",
   "execution_count": null,
   "id": "5c27fd0e-5f1d-4302-b250-50b3920e49d8",
   "metadata": {},
   "outputs": [],
   "source": [
    "pd.concat([df['micro'].value_counts(),\n",
    "          df['micro'].value_counts(normalize=True)*100], axis=1)"
   ]
  },
  {
   "cell_type": "markdown",
   "id": "a389ca6c-55e1-4caf-8a8c-022d3d6845d7",
   "metadata": {},
   "source": [
    "### 5.5 Analysis ``sampled_date``"
   ]
  },
  {
   "cell_type": "code",
   "execution_count": null,
   "id": "aef4cbc7-4be4-4fb8-aa26-fa0faaa554a1",
   "metadata": {},
   "outputs": [],
   "source": [
    "df_check_NaN.loc['sampled_date']"
   ]
  },
  {
   "cell_type": "code",
   "execution_count": null,
   "id": "9fe2216a-3b04-4976-bd2f-dd43a216d6b1",
   "metadata": {},
   "outputs": [],
   "source": [
    "df['sampled_date'].nunique()"
   ]
  },
  {
   "cell_type": "code",
   "execution_count": null,
   "id": "fb1ad1f2-b06c-4ac5-ae4d-53f72c303e54",
   "metadata": {},
   "outputs": [],
   "source": [
    "pd.concat([df['sampled_date'].value_counts(),\n",
    "          df['sampled_date'].value_counts(normalize=True)*100], axis=1)"
   ]
  },
  {
   "cell_type": "markdown",
   "id": "d9f73f00-c3a0-495b-b1ed-8c9fc989ded2",
   "metadata": {},
   "source": [
    "### 5.6 Analysis ``set_type``"
   ]
  },
  {
   "cell_type": "code",
   "execution_count": null,
   "id": "ede47b63-f087-4c22-8a56-0ac4dacd6732",
   "metadata": {},
   "outputs": [],
   "source": [
    "df_check_NaN.loc['set_type']"
   ]
  },
  {
   "cell_type": "code",
   "execution_count": null,
   "id": "76bf468f-3ab0-409d-bee2-bc5be03790b9",
   "metadata": {},
   "outputs": [],
   "source": [
    "pd.concat([df['set_type'].value_counts(),\n",
    "          df['set_type'].value_counts(normalize=True)*100], axis=1)"
   ]
  },
  {
   "cell_type": "markdown",
   "id": "1ecf5eaf-1377-4ad5-8a56-ffab93eb93cc",
   "metadata": {},
   "source": [
    "### 5.7 Analysis of ``length_of_season (LOS)``"
   ]
  },
  {
   "cell_type": "code",
   "execution_count": null,
   "id": "ef121fba-a949-495d-9f11-ae6abe7f6776",
   "metadata": {},
   "outputs": [],
   "source": [
    "df_check_NaN.loc['length_of_season']"
   ]
  },
  {
   "cell_type": "code",
   "execution_count": null,
   "id": "2abece50-82ff-49fd-bee7-930089f9355f",
   "metadata": {},
   "outputs": [],
   "source": [
    "df['length_of_season'] = df['length_of_season'].astype(float)"
   ]
  },
  {
   "cell_type": "code",
   "execution_count": null,
   "id": "f9b799a8-3ee0-4dd4-9a4a-82e8d8df2e8e",
   "metadata": {},
   "outputs": [],
   "source": [
    "df['length_of_season'].describe()"
   ]
  },
  {
   "cell_type": "code",
   "execution_count": null,
   "id": "cbbb4eeb-ce2c-4880-b129-93fafe5fcbc7",
   "metadata": {},
   "outputs": [],
   "source": [
    "pd.concat([df['length_of_season'].value_counts(),\n",
    "          df['length_of_season'].value_counts(normalize=True)*100], axis=1)"
   ]
  },
  {
   "cell_type": "code",
   "execution_count": null,
   "id": "ec38602b-17c2-418a-8fbc-4d17f5b55ae0",
   "metadata": {},
   "outputs": [],
   "source": [
    "df[df['length_of_season'] < 100]"
   ]
  },
  {
   "cell_type": "markdown",
   "id": "2afd610f-ac8d-4813-9d5d-d14f460cf89d",
   "metadata": {},
   "source": [
    "### 5.8 Analysis of ``area``"
   ]
  },
  {
   "cell_type": "code",
   "execution_count": null,
   "id": "6c3e109a-de7e-47ee-87b7-a09f67ae12eb",
   "metadata": {},
   "outputs": [],
   "source": [
    "df_check_NaN.loc['area']"
   ]
  },
  {
   "cell_type": "code",
   "execution_count": null,
   "id": "ee11d6d7-19ed-49b8-85ef-8f759653efb0",
   "metadata": {},
   "outputs": [],
   "source": [
    "pd.concat([df['area'].value_counts(),\n",
    "          df['area'].value_counts(normalize=True)*100], axis=1)"
   ]
  },
  {
   "cell_type": "markdown",
   "id": "25f951c2-0e6f-4004-97e2-8134d9de6cf2",
   "metadata": {},
   "source": [
    "### 5.9 Analysis of ``length_of_cycle (LOC)``"
   ]
  },
  {
   "cell_type": "code",
   "execution_count": null,
   "id": "258e14cf-ef22-413c-bbe5-7ecb70c4cd26",
   "metadata": {},
   "outputs": [],
   "source": [
    "df_check_NaN.loc['length_of_cycle']"
   ]
  },
  {
   "cell_type": "code",
   "execution_count": null,
   "id": "03a870ab-9136-4544-94c0-454718afcc76",
   "metadata": {},
   "outputs": [],
   "source": [
    "df['length_of_cycle'] = df['length_of_cycle'].astype(float)"
   ]
  },
  {
   "cell_type": "code",
   "execution_count": null,
   "id": "51b28b84-ba5b-4ca0-987c-3f8e6d609f4e",
   "metadata": {},
   "outputs": [],
   "source": [
    "df['length_of_cycle'].describe()"
   ]
  },
  {
   "cell_type": "code",
   "execution_count": null,
   "id": "82228074-dc0f-44ef-8bd5-7867ab4550f0",
   "metadata": {},
   "outputs": [],
   "source": [
    "pd.concat([df['length_of_cycle'].value_counts(),\n",
    "          df['length_of_cycle'].value_counts(normalize=True)*100], axis=1)"
   ]
  },
  {
   "cell_type": "markdown",
   "id": "b63bbeb9-142e-45b8-ba9d-666ccbf89385",
   "metadata": {},
   "source": [
    "### 5.10 Analysis of ``fonte``"
   ]
  },
  {
   "cell_type": "code",
   "execution_count": null,
   "id": "59c84b78-4ee6-429a-a4b2-106cd2308ca2",
   "metadata": {},
   "outputs": [],
   "source": [
    "df_check_NaN.loc['fonte']"
   ]
  },
  {
   "cell_type": "code",
   "execution_count": null,
   "id": "45c24be9-6d99-4690-986a-6b1f6afe86e5",
   "metadata": {},
   "outputs": [],
   "source": [
    "pd.concat([df['fonte'].value_counts(),\n",
    "          df['fonte'].value_counts(normalize=True)*100], axis=1)"
   ]
  },
  {
   "cell_type": "code",
   "execution_count": null,
   "id": "1593aa07-1e34-4411-9eca-51d82d91947d",
   "metadata": {},
   "outputs": [],
   "source": [
    "### 5.11 Analysis of ``eopath_location``"
   ]
  },
  {
   "cell_type": "code",
   "execution_count": null,
   "id": "348f1cc7-e599-46ff-aad8-f5fcd344aa95",
   "metadata": {},
   "outputs": [],
   "source": [
    "df_check_NaN.loc['eopath_location']"
   ]
  },
  {
   "cell_type": "code",
   "execution_count": null,
   "id": "f8a86c23-d7fa-4b76-a30f-211ef87e86f0",
   "metadata": {},
   "outputs": [],
   "source": [
    "df['eopath_location'].nunique()"
   ]
  },
  {
   "cell_type": "code",
   "execution_count": null,
   "id": "7901bce5-3d94-476e-a3f1-288a8f8c93bc",
   "metadata": {},
   "outputs": [],
   "source": [
    "df.shape[0]"
   ]
  },
  {
   "cell_type": "code",
   "execution_count": null,
   "id": "6c61e22b-eceb-4015-b6ee-452bdd9f7efc",
   "metadata": {},
   "outputs": [],
   "source": [
    "df_check_duplicated = df[df.duplicated(subset=[label_eopatch_path], keep=False)].copy()\n",
    "df_check_duplicated['id_duplicado'] = (df_check_duplicated.groupby([label_eopatch_path]).ngroup() + 1)\n",
    "df_check_duplicated.sort_values('id_duplicado', inplace=True)\n",
    "df_check_duplicated"
   ]
  },
  {
   "cell_type": "code",
   "execution_count": null,
   "id": "859d16c6-cd08-48d6-9e86-42902721a464",
   "metadata": {},
   "outputs": [],
   "source": [
    "# df_check_duplicated.to_csv('/agrilearn_app/datasets/base/reports/base_all_by_eopatch_location_11-03-2024.csv',\n",
    "#                            sep=';',\n",
    "#                            decimal=',',\n",
    "#                            float_format='%.4f')"
   ]
  },
  {
   "cell_type": "code",
   "execution_count": null,
   "id": "f4e61f77-cbd8-4c6c-b35d-4876aa14b988",
   "metadata": {},
   "outputs": [],
   "source": [
    "# Verifica se há duplicatas na coluna especificada\n",
    "duplicates = df['eopath_location'].duplicated(keep=False)\n",
    "\n",
    "# Calcula a quantidade de dados duplicados e o percentual em relação ao dataset final\n",
    "total_rows = len(df)\n",
    "duplicate_count = duplicates.sum()\n",
    "duplicate_percentage = (duplicate_count / total_rows) * 100\n",
    "\n",
    "print(f\"Quantidade de dados duplicados: {duplicate_count}\")\n",
    "print(f\"Percentual de dados duplicados: {duplicate_percentage:.2f}%\")"
   ]
  },
  {
   "cell_type": "markdown",
   "id": "a8d20295-5ea6-44f4-81ce-c538c2d00b50",
   "metadata": {},
   "source": [
    "* **Question**: O mesmo geopackage está apontando par ao mesmo eopatch_location? *"
   ]
  },
  {
   "cell_type": "markdown",
   "id": "7e194267-43e7-42b5-8b94-678566a1bc61",
   "metadata": {},
   "source": [
    "### 5.12 Check ``start_season`` and ``end_season``"
   ]
  },
  {
   "cell_type": "code",
   "execution_count": null,
   "id": "b455d8a9-8bba-4096-9604-990eb4011196",
   "metadata": {},
   "outputs": [],
   "source": [
    "df_check_NaN.loc[['start_season', 'end_season']]"
   ]
  },
  {
   "cell_type": "code",
   "execution_count": null,
   "id": "40c8aaba-a38c-4cff-903e-083ed3b1058a",
   "metadata": {},
   "outputs": [],
   "source": [
    "df[['start_season', 'end_season']].describe()"
   ]
  },
  {
   "cell_type": "code",
   "execution_count": null,
   "id": "01a497f4-504c-4db1-8857-e9e835a25247",
   "metadata": {},
   "outputs": [],
   "source": [
    "df.groupby(df['start_season'].dt.year).agg(count=(label_monitoring_class, 'count'))"
   ]
  },
  {
   "cell_type": "code",
   "execution_count": null,
   "id": "0a64e510-a151-46f9-ac98-0b9802eab907",
   "metadata": {},
   "outputs": [],
   "source": [
    "df.groupby(df['end_season'].dt.year).agg(count=(label_monitoring_class, 'count'))"
   ]
  },
  {
   "cell_type": "code",
   "execution_count": null,
   "id": "0471b393-858a-4b0c-9cdb-897ff9cd35ef",
   "metadata": {},
   "outputs": [],
   "source": [
    "df[df['start_season'] == df['end_season']]"
   ]
  },
  {
   "cell_type": "markdown",
   "id": "1b643f9e-4f79-426b-9007-f10f4443322c",
   "metadata": {},
   "source": [
    "### 5.13 Check ``start_season`` and ``end_season``"
   ]
  },
  {
   "cell_type": "code",
   "execution_count": null,
   "id": "711d8bce-9c82-432e-967d-5fb2bdacdddf",
   "metadata": {},
   "outputs": [],
   "source": [
    "df_check_NaN.loc[['peak_start', 'peak_end']]"
   ]
  },
  {
   "cell_type": "code",
   "execution_count": null,
   "id": "11072a8b-7bc5-4e62-b8cc-50f51c1382a5",
   "metadata": {},
   "outputs": [],
   "source": [
    "df[['peak_start', 'peak_end']].describe()"
   ]
  },
  {
   "cell_type": "code",
   "execution_count": null,
   "id": "3f8e267a-90e9-42e0-8ea7-192f7d3a8d0b",
   "metadata": {},
   "outputs": [],
   "source": [
    "df[['peak_start', 'peak_end']].describe()"
   ]
  },
  {
   "cell_type": "code",
   "execution_count": null,
   "id": "739a634e-8d7c-4093-be34-486bcb2a93c7",
   "metadata": {},
   "outputs": [],
   "source": [
    "df.groupby(df['peak_start'].dt.year).agg(count=(label_monitoring_class, 'count'))"
   ]
  },
  {
   "cell_type": "code",
   "execution_count": null,
   "id": "b8a643dc-f593-4b50-8d70-7a4044cf4b77",
   "metadata": {},
   "outputs": [],
   "source": [
    "df.groupby(df['peak_end'].dt.year).agg(count=(label_monitoring_class, 'count'))"
   ]
  },
  {
   "cell_type": "code",
   "execution_count": null,
   "id": "a40d5ac9-2836-46b2-90e6-21c4a8b73a39",
   "metadata": {},
   "outputs": [],
   "source": [
    "df[df['peak_start'] == df['peak_end']]"
   ]
  },
  {
   "cell_type": "code",
   "execution_count": null,
   "id": "6458e3b9-dd11-4230-a60a-1d08b1212094",
   "metadata": {},
   "outputs": [],
   "source": [
    "df['peak_start'].dt.year.unique()"
   ]
  },
  {
   "cell_type": "code",
   "execution_count": null,
   "id": "ee9d10a6-9342-4e44-ac17-e45f1244f485",
   "metadata": {},
   "outputs": [],
   "source": [
    "df['peak_end'].dt.year.unique()"
   ]
  },
  {
   "cell_type": "code",
   "execution_count": null,
   "id": "dcda2fc1-72a6-45fa-b885-891cee4626e6",
   "metadata": {},
   "outputs": [],
   "source": [
    "df.groupby(df['peak_start'].dt.year).agg(count=(label_monitoring_class, 'count'))"
   ]
  },
  {
   "cell_type": "markdown",
   "id": "b976b948-2fcf-4c0c-9a0f-6fec1cea356f",
   "metadata": {},
   "source": [
    "### 5.14 Check ``planting_start`` and ``planting_end``"
   ]
  },
  {
   "cell_type": "code",
   "execution_count": null,
   "id": "fca80e24-2e23-4f66-9e8b-6cc1b3210eaf",
   "metadata": {},
   "outputs": [],
   "source": [
    "df_check_NaN.loc[['planting_start', 'planting_end']]"
   ]
  },
  {
   "cell_type": "code",
   "execution_count": null,
   "id": "5fb16c31-aab6-4c51-90dc-51047495c209",
   "metadata": {},
   "outputs": [],
   "source": [
    "df[['planting_start', 'planting_end']].describe()"
   ]
  },
  {
   "cell_type": "code",
   "execution_count": null,
   "id": "50f9386f-8d84-4670-ac0a-c2f84890b569",
   "metadata": {},
   "outputs": [],
   "source": [
    "df.groupby(df['planting_start'].dt.year).agg(count=(label_monitoring_class, 'count'))"
   ]
  },
  {
   "cell_type": "code",
   "execution_count": null,
   "id": "3c975116-9e30-466f-a2df-c1f6f5f0a657",
   "metadata": {},
   "outputs": [],
   "source": [
    "df.groupby(df['planting_start'].dt.year).agg(count=(label_monitoring_class, 'count'))"
   ]
  },
  {
   "cell_type": "code",
   "execution_count": null,
   "id": "465785f4-c6e3-48a9-b462-9e3b12842518",
   "metadata": {},
   "outputs": [],
   "source": [
    "df[df['planting_start'] == df['planting_end']]"
   ]
  },
  {
   "cell_type": "code",
   "execution_count": null,
   "id": "160d0bb9-d8a4-44c3-b26b-7d609bd8f492",
   "metadata": {},
   "outputs": [],
   "source": [
    "df['planting_start'].dt.year.unique()"
   ]
  },
  {
   "cell_type": "code",
   "execution_count": null,
   "id": "61e1d53a-2997-449b-ae1a-d44c7ef39245",
   "metadata": {},
   "outputs": [],
   "source": [
    "df['planting_end'].dt.year.unique()"
   ]
  },
  {
   "cell_type": "markdown",
   "id": "feb203d2-0e65-46fc-b8ad-36d1939503e1",
   "metadata": {},
   "source": [
    "# 6. Multivariate Analysis"
   ]
  },
  {
   "cell_type": "code",
   "execution_count": null,
   "id": "932c1c1f-12d4-47e3-966b-762d6a0e3033",
   "metadata": {},
   "outputs": [],
   "source": [
    "columns_to_group = ['safra', 'state', 'monitoring_class']\n",
    "report_distribuition = df.groupby(columns_to_group).agg(count=(label_eopatch_path, 'count')).reset_index()\n",
    "\n",
    "# Calcula o percentual em relação ao total\n",
    "total_count = len(df)\n",
    "report_distribuition['percentage'] = (report_distribuition['count'] / total_count) * 100"
   ]
  },
  {
   "cell_type": "code",
   "execution_count": null,
   "id": "5a8d029c-ef77-4390-8f79-c94ec6d74d08",
   "metadata": {},
   "outputs": [],
   "source": [
    "report_distribuition"
   ]
  },
  {
   "cell_type": "code",
   "execution_count": null,
   "id": "4a559a63-03b1-49dd-8143-2cb74cb2ba81",
   "metadata": {},
   "outputs": [],
   "source": [
    "result_string = '_'.join([f\"{cls}_{count}\" for cls, count in df['monitoring_class'].value_counts().items()])\n",
    "filename=f'/agrilearn_app/datasets/base/reports/check_distribuition_by_class_and_state_{result_string}.csv'"
   ]
  },
  {
   "cell_type": "code",
   "execution_count": null,
   "id": "160d525a-3ad0-481d-9d02-f18e66bba5d7",
   "metadata": {},
   "outputs": [],
   "source": [
    "report_distribuition.to_csv(filename,\n",
    "    sep=';',\n",
    "    decimal=',',\n",
    "    float_format='%.4f',\n",
    ")\n",
    "filename"
   ]
  },
  {
   "cell_type": "code",
   "execution_count": null,
   "id": "65b81e88-c376-460a-818b-de8da439dbd1",
   "metadata": {},
   "outputs": [],
   "source": []
  },
  {
   "cell_type": "markdown",
   "id": "d6e81f19-e9ed-4946-9ca0-086dc59f9779",
   "metadata": {},
   "source": [
    "# 7. Data Integration to Endafoclimatiocas region"
   ]
  },
  {
   "cell_type": "code",
   "execution_count": null,
   "id": "449981aa-80ff-4c2f-b250-b80e59caca2a",
   "metadata": {},
   "outputs": [],
   "source": [
    "from agrilearn.crop_classification import geom_utils"
   ]
  },
  {
   "cell_type": "code",
   "execution_count": null,
   "id": "7afd0500-dbb4-4f3c-9509-66e84976b485",
   "metadata": {},
   "outputs": [],
   "source": [
    "GEOPACKAGE_ENDO_SOJA = [\"/agrilearn_app/datasets/other/meso-soja/ref_edf_soja_processed.gpkg\"]"
   ]
  },
  {
   "cell_type": "code",
   "execution_count": null,
   "id": "143fa753-59e1-461f-8f29-477f5a99b149",
   "metadata": {},
   "outputs": [],
   "source": [
    "gdfs_edf = []\n",
    "\n",
    "# Lê cada Geopackage e adiciona o GeoDataFrame à lista\n",
    "for path in GEOPACKAGE_ENDO_SOJA:\n",
    "    gdf = gpd.read_file(path)\n",
    "    gdf['dataset_source'] = path  # Adiciona a coluna de origem\n",
    "    gdfs_edf.append(gdf)\n",
    "\n",
    "# Concatena todos os GeoDataFrames em um único GeoDataFrame\n",
    "if gdfs:\n",
    "    df_edf = gpd.GeoDataFrame(pd.concat(gdfs_edf, ignore_index=True))\n",
    "    print(f\"Dataset final possui {df_edf.shape[0]} linhas\")\n",
    "    df_edf.head()\n",
    "else:\n",
    "    print(\"Nenhum GeoDataFrame válido encontrado.\")"
   ]
  },
  {
   "cell_type": "code",
   "execution_count": null,
   "id": "d4582fb5-5641-4d42-b5a3-75ed601aabe7",
   "metadata": {},
   "outputs": [],
   "source": [
    "df = geom_utils.add_edf_feature(df_target=df,\n",
    "                                df_edf=df_edf, \n",
    "                                label_edf=\"edf\")"
   ]
  },
  {
   "cell_type": "code",
   "execution_count": null,
   "id": "2beb49a3-e4c6-4ed1-8a98-93c95c9975c4",
   "metadata": {},
   "outputs": [],
   "source": [
    "columns_to_group = ['safra', 'edf', 'monitoring_class']\n",
    "report_distribuition = df.groupby(columns_to_group).agg(count=(label_eopatch_path, 'count')).reset_index()\n",
    "\n",
    "# Calcula o percentual em relação ao total\n",
    "total_count = len(df)\n",
    "report_distribuition['percentage'] = (report_distribuition['count'] / total_count) * 100"
   ]
  },
  {
   "cell_type": "code",
   "execution_count": null,
   "id": "7ac68fd2-6896-467b-9f13-dfbfbc946799",
   "metadata": {},
   "outputs": [],
   "source": [
    "result_string = '_'.join([f\"{cls}_{count}\" for cls, count in df['monitoring_class'].value_counts().items()])\n",
    "result_string"
   ]
  },
  {
   "cell_type": "code",
   "execution_count": null,
   "id": "06551ee1-472e-457a-a2cd-23946227afd5",
   "metadata": {},
   "outputs": [],
   "source": [
    "# report_distribuition.to_csv(f'/agrilearn_app/datasets/base/reports/check_distribuition_by_class_and_edf_{result_string}.csv',\n",
    "#     sep=';',\n",
    "#     decimal=',',\n",
    "#     float_format='%.4f',\n",
    "# )"
   ]
  },
  {
   "cell_type": "code",
   "execution_count": null,
   "id": "fcf527e1-b035-4f8e-8e4e-19157f2a2599",
   "metadata": {},
   "outputs": [],
   "source": [
    "result_string"
   ]
  },
  {
   "cell_type": "markdown",
   "id": "00f0edf0-baaf-4cfb-8460-3868a53c0a11",
   "metadata": {},
   "source": [
    "# 8. Train and Test Split"
   ]
  },
  {
   "cell_type": "code",
   "execution_count": null,
   "id": "1068f8de-2c14-4345-a023-8750c35192e1",
   "metadata": {},
   "outputs": [],
   "source": [
    "from agrilearn.crop_classification.training_utils import split_dataset_by_state_and_strafity, split_dataset_with_sample_restriction"
   ]
  },
  {
   "cell_type": "code",
   "execution_count": null,
   "id": "06134873-0dda-4751-b161-c73f0b9f0ae2",
   "metadata": {},
   "outputs": [],
   "source": [
    "stratify_labels=['safra', 'edf', 'monitoring_class']"
   ]
  },
  {
   "cell_type": "code",
   "execution_count": null,
   "id": "30a7799c-48c8-40d7-8351-c9adf35e9fa7",
   "metadata": {},
   "outputs": [],
   "source": [
    "train_set, test_set = split_dataset_with_sample_restriction(df,\n",
    "                                                            stratify_labels,\n",
    "                                                            threshold=1000,\n",
    "                                                            small_sample_train_size=0.5,\n",
    "                                                            large_sample_train_size=0.5)"
   ]
  },
  {
   "cell_type": "code",
   "execution_count": null,
   "id": "d9fc6510-e30b-42a1-a154-8135e1e4b45c",
   "metadata": {},
   "outputs": [],
   "source": [
    "train_set['monitoring_class'].value_counts()"
   ]
  },
  {
   "cell_type": "code",
   "execution_count": null,
   "id": "f7b8e343-4d6c-4bcc-bd1f-872f90fe52da",
   "metadata": {},
   "outputs": [],
   "source": [
    "test_set['monitoring_class'].value_counts()"
   ]
  },
  {
   "cell_type": "code",
   "execution_count": null,
   "id": "603720d8-3772-46a7-b722-315d224eef69",
   "metadata": {},
   "outputs": [],
   "source": [
    "test_set.groupby(stratify_labels).agg(count=('period', 'count')).query(\"count > 500\").shape"
   ]
  },
  {
   "cell_type": "code",
   "execution_count": null,
   "id": "cba3ac7b-ded7-4764-bc6a-6287c9a6f0be",
   "metadata": {},
   "outputs": [],
   "source": [
    "test_set.groupby(stratify_labels).agg(count=('period', 'count'))"
   ]
  },
  {
   "cell_type": "code",
   "execution_count": null,
   "id": "c1976f72-00df-4c37-9682-228cab7e85d4",
   "metadata": {},
   "outputs": [],
   "source": [
    "test_set.groupby(stratify_labels).agg(count=('period', 'count'))"
   ]
  },
  {
   "cell_type": "code",
   "execution_count": null,
   "id": "f4df2bdc-efcf-4617-a9bf-749b97d00db8",
   "metadata": {},
   "outputs": [],
   "source": [
    "test_set.groupby(stratify_labels).agg(count=('period', 'count')).query(\"count > 1000\").shape"
   ]
  },
  {
   "cell_type": "code",
   "execution_count": null,
   "id": "6a34c2e5-e730-4eae-955d-d6cfd3dd00b7",
   "metadata": {},
   "outputs": [],
   "source": [
    "test_set.groupby(stratify_labels).agg(count=('period', 'count')).query(\"count > 500\").shape"
   ]
  },
  {
   "cell_type": "code",
   "execution_count": null,
   "id": "8d21888c-25a4-4ac2-93f0-ee04c5477c57",
   "metadata": {},
   "outputs": [],
   "source": [
    "result_string = '_'.join([f\"{cls}_{count}\" for cls, count in train_set['monitoring_class'].value_counts().items()])\n",
    "filename_train=f\"{OUTPUT_DIR}/{result_string}_train.gpkg\"\n",
    "filename_train"
   ]
  },
  {
   "cell_type": "code",
   "execution_count": null,
   "id": "99c43ea0-ce66-4379-a817-3536e39a5457",
   "metadata": {},
   "outputs": [],
   "source": [
    "train_set['dataset_part']='train'\n",
    "train_set.to_file(filename_train, driver='GPKG', engine='fiona')\n",
    "filename_train"
   ]
  },
  {
   "cell_type": "code",
   "execution_count": null,
   "id": "0aacb4a0-b09f-4156-a08a-ccc87a33cd28",
   "metadata": {},
   "outputs": [],
   "source": [
    "result_string = '_'.join([f\"{cls}_{count}\" for cls, count in test_set['monitoring_class'].value_counts().items()])\n",
    "filename_test= f\"{OUTPUT_DIR}/{result_string}_test.gpkg\"\n",
    "filename_test"
   ]
  },
  {
   "cell_type": "code",
   "execution_count": null,
   "id": "863327c5-faa2-4ec9-bcde-f38718c8c087",
   "metadata": {},
   "outputs": [],
   "source": [
    "test_set['dataset_part']='test'\n",
    "test_set.to_file(filename_test, driver='GPKG', engine='fiona')\n",
    "filename_test"
   ]
  },
  {
   "cell_type": "code",
   "execution_count": null,
   "id": "eb8bf42c-1dad-427e-8ba5-a67ded0c184e",
   "metadata": {},
   "outputs": [],
   "source": [
    "from sklearn.model_selection import train_test_split"
   ]
  },
  {
   "cell_type": "code",
   "execution_count": null,
   "id": "a82b6f21-7a2a-4057-9833-1f1b565a6c34",
   "metadata": {},
   "outputs": [],
   "source": [
    "def split_stratifield_train_test_split(df_, stratify_columns, train_size=0.7, min_instances=2, random_state=42):\n",
    "    \"\"\"\n",
    "    Split the dataset into training and testing sets using stratification.\n",
    "\n",
    "    Parameters\n",
    "    ----------\n",
    "    df_ : pd.DataFrame\n",
    "        DataFrame containing the data.\n",
    "    stratify_labels : list\n",
    "        List of columns to be used for stratification.\n",
    "    train_size : float, optional\n",
    "        Proportion of the dataset to be used for training (default is 0.7).\n",
    "    random_state : int, optional\n",
    "        Random state for reproducibility (default is 42).\n",
    "\n",
    "    Returns\n",
    "    -------\n",
    "    tuple\n",
    "        DataFrames for training and testing.\n",
    "    \"\"\"\n",
    "    df_train_list = []\n",
    "    df_test_list = []\n",
    "    \n",
    "    for category, group in df_.groupby(stratify_labels):\n",
    "        if len(group) < min_instances:\n",
    "            df_train_list.append(group)\n",
    "            df_test_list.append(group)\n",
    "        else:\n",
    "            train, test = train_test_split(group,\n",
    "                                           train_size=train_size, \n",
    "                                           random_state=random_state,\n",
    "                                           stratify=group[stratify_labels])\n",
    "            df_train_list.append(train)\n",
    "            df_test_list.append(test)\n",
    "    df_train = pd.concat(df_train_list).reset_index(drop=True)\n",
    "    df_test = pd.concat(df_test_list).reset_index(drop=True)\n",
    "                                           \n",
    "\n",
    "    return df_train, df_test"
   ]
  },
  {
   "cell_type": "code",
   "execution_count": null,
   "id": "9eb6bd02-a236-4b11-b611-c4f8eb43afce",
   "metadata": {},
   "outputs": [],
   "source": [
    "df_train, df_val = split_stratifield_train_test_split(train_set,\n",
    "                            stratify_labels,\n",
    "                            train_size=0.8,\n",
    "                            random_state=42)"
   ]
  },
  {
   "cell_type": "code",
   "execution_count": null,
   "id": "3d15e7af-0702-4396-99f1-970dbdad8b23",
   "metadata": {},
   "outputs": [],
   "source": [
    "df['monitoring_class'].value_counts()"
   ]
  },
  {
   "cell_type": "code",
   "execution_count": null,
   "id": "9669fe09-d76a-4214-b8ae-07a7dcea6963",
   "metadata": {},
   "outputs": [],
   "source": [
    "df_train['monitoring_class'].value_counts()"
   ]
  },
  {
   "cell_type": "code",
   "execution_count": null,
   "id": "3e5e710a-c56b-4c55-b403-c1207bdffdaf",
   "metadata": {},
   "outputs": [],
   "source": [
    "df_val['monitoring_class'].value_counts()"
   ]
  },
  {
   "cell_type": "code",
   "execution_count": null,
   "id": "007def59-0c01-465f-b45a-64c1fcbd591f",
   "metadata": {},
   "outputs": [],
   "source": [
    "result_string = '_'.join([f\"{cls}_{count}\" for cls, count in df_val['monitoring_class'].value_counts().items()])\n",
    "filename_val= f\"{OUTPUT_DIR}/{result_string}_val.gpkg\"\n",
    "filename_val"
   ]
  },
  {
   "cell_type": "code",
   "execution_count": null,
   "id": "a78b5003-0d90-48c8-a14d-afcb4ab48324",
   "metadata": {},
   "outputs": [],
   "source": [
    "df_val['dataset_part']='val'\n",
    "df_val.to_file(filename_val, driver='GPKG', engine='fiona')\n",
    "filename_val"
   ]
  },
  {
   "cell_type": "code",
   "execution_count": null,
   "id": "3feaae3f-1c2e-4996-9d91-cae5b660379f",
   "metadata": {},
   "outputs": [],
   "source": []
  },
  {
   "cell_type": "code",
   "execution_count": null,
   "id": "cc31757b-6d09-4274-b4aa-07e73153c329",
   "metadata": {},
   "outputs": [],
   "source": []
  }
 ],
 "metadata": {
  "kernelspec": {
   "display_name": "Python 3 (ipykernel)",
   "language": "python",
   "name": "python3"
  },
  "language_info": {
   "codemirror_mode": {
    "name": "ipython",
    "version": 3
   },
   "file_extension": ".py",
   "mimetype": "text/x-python",
   "name": "python",
   "nbconvert_exporter": "python",
   "pygments_lexer": "ipython3",
   "version": "3.10.12"
  }
 },
 "nbformat": 4,
 "nbformat_minor": 5
}
