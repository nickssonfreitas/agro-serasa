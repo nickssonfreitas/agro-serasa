{
 "cells": [
  {
   "cell_type": "code",
   "execution_count": 1,
   "id": "576fd74f-2e60-4afc-813e-14c723b6f8e3",
   "metadata": {},
   "outputs": [
    {
     "name": "stderr",
     "output_type": "stream",
     "text": [
      "2025-04-17 20:48:22.434326: I tensorflow/core/util/port.cc:153] oneDNN custom operations are on. You may see slightly different numerical results due to floating-point round-off errors from different computation orders. To turn them off, set the environment variable `TF_ENABLE_ONEDNN_OPTS=0`.\n",
      "2025-04-17 20:48:22.449802: E external/local_xla/xla/stream_executor/cuda/cuda_fft.cc:477] Unable to register cuFFT factory: Attempting to register factory for plugin cuFFT when one has already been registered\n",
      "WARNING: All log messages before absl::InitializeLog() is called are written to STDERR\n",
      "E0000 00:00:1744922902.469118  325975 cuda_dnn.cc:8310] Unable to register cuDNN factory: Attempting to register factory for plugin cuDNN when one has already been registered\n",
      "E0000 00:00:1744922902.474968  325975 cuda_blas.cc:1418] Unable to register cuBLAS factory: Attempting to register factory for plugin cuBLAS when one has already been registered\n",
      "2025-04-17 20:48:22.494620: I tensorflow/core/platform/cpu_feature_guard.cc:210] This TensorFlow binary is optimized to use available CPU instructions in performance-critical operations.\n",
      "To enable the following instructions: AVX2 AVX512F AVX512_VNNI FMA, in other operations, rebuild TensorFlow with the appropriate compiler flags.\n"
     ]
    }
   ],
   "source": [
    "import sys\n",
    "sys.path.append(\"../agrilearn/submodules/commons/\")\n",
    "from agrilearn.commons.s3 import s3_utils\n",
    "from agrilearn.crop_classification import evaluate_utils, yaml_utils, processing\n",
    "import geopandas as gpd\n",
    "import os\n",
    "import pandas as pd"
   ]
  },
  {
   "cell_type": "code",
   "execution_count": 6,
   "id": "3cb1a861-8864-461d-bc0f-4ab1b945c52b",
   "metadata": {},
   "outputs": [],
   "source": [
    "#config = yaml_utils.load_config(\"/agrilearn_app/output/config/experiment_12.yaml\")"
   ]
  },
  {
   "cell_type": "code",
   "execution_count": 2,
   "id": "18f53df5-37bd-4df7-bb4a-69f6bd5b9df3",
   "metadata": {},
   "outputs": [],
   "source": [
    "MAIN_PATH = \"/agrilearn_app/datasets/CORN/2023_2023/\"\n",
    "GEOPACKAGE_FILE_PATH = os.path.join(MAIN_PATH, \"geopackage/processed/CORN_33026.gpkg\")\n",
    "NEW_EOPATCH_PATH = os.path.join(MAIN_PATH, \"eopatch/processed/\")\n",
    "REPORT_PATH = os.path.join(MAIN_PATH, \"reports/\")\n",
    "OLD_EOPATCH_PATH = \"/agrilearn_app/datasets/CORN/eopatch/processed/\"\n",
    "\n",
    "LABEL_EOPATCH_LOCATION = \"eopath_location\" "
   ]
  },
  {
   "cell_type": "code",
   "execution_count": 3,
   "id": "82a9b3d8-eb41-4165-8efc-a62e70d02910",
   "metadata": {},
   "outputs": [],
   "source": [
    "df = gpd.read_file(GEOPACKAGE_FILE_PATH)"
   ]
  },
  {
   "cell_type": "code",
   "execution_count": 4,
   "id": "eec6a003-3bfd-4f12-91c6-6f0c435579f3",
   "metadata": {},
   "outputs": [
    {
     "data": {
      "text/plain": [
       "(33026, 73)"
      ]
     },
     "execution_count": 4,
     "metadata": {},
     "output_type": "execute_result"
    }
   ],
   "source": [
    "df.shape"
   ]
  },
  {
   "cell_type": "code",
   "execution_count": 5,
   "id": "4436b014-847d-4738-880b-4d7cda9ec072",
   "metadata": {},
   "outputs": [
    {
     "data": {
      "text/html": [
       "<div>\n",
       "<style scoped>\n",
       "    .dataframe tbody tr th:only-of-type {\n",
       "        vertical-align: middle;\n",
       "    }\n",
       "\n",
       "    .dataframe tbody tr th {\n",
       "        vertical-align: top;\n",
       "    }\n",
       "\n",
       "    .dataframe thead th {\n",
       "        text-align: right;\n",
       "    }\n",
       "</style>\n",
       "<table border=\"1\" class=\"dataframe\">\n",
       "  <thead>\n",
       "    <tr style=\"text-align: right;\">\n",
       "      <th></th>\n",
       "      <th>monitoring_class</th>\n",
       "      <th>period</th>\n",
       "      <th>fonte</th>\n",
       "      <th>state</th>\n",
       "      <th>area</th>\n",
       "      <th>micro</th>\n",
       "      <th>eopath_location</th>\n",
       "      <th>start_season</th>\n",
       "      <th>end_season</th>\n",
       "      <th>peak_start</th>\n",
       "      <th>...</th>\n",
       "      <th>obs_emergence</th>\n",
       "      <th>obs_senescence</th>\n",
       "      <th>obs_harvest</th>\n",
       "      <th>created_by</th>\n",
       "      <th>area_id</th>\n",
       "      <th>last_date_crop_rnn</th>\n",
       "      <th>crop_distance_score_sits</th>\n",
       "      <th>crop_confidence_maha_sits</th>\n",
       "      <th>set</th>\n",
       "      <th>geometry</th>\n",
       "    </tr>\n",
       "  </thead>\n",
       "  <tbody>\n",
       "    <tr>\n",
       "      <th>0</th>\n",
       "      <td>CORN</td>\n",
       "      <td>2023/2023</td>\n",
       "      <td>Agrosatélite - Grãos 2022/2023</td>\n",
       "      <td>RO</td>\n",
       "      <td>None</td>\n",
       "      <td>0.0</td>\n",
       "      <td>start_2023-01-01_end_2023-09-01_monitoring_cla...</td>\n",
       "      <td>2023-01-01</td>\n",
       "      <td>2023-09-01</td>\n",
       "      <td>2023-03-01</td>\n",
       "      <td>...</td>\n",
       "      <td>None</td>\n",
       "      <td>None</td>\n",
       "      <td>None</td>\n",
       "      <td>None</td>\n",
       "      <td>None</td>\n",
       "      <td>None</td>\n",
       "      <td>None</td>\n",
       "      <td>None</td>\n",
       "      <td>None</td>\n",
       "      <td>MULTIPOLYGON (((-63.43957 -9.29016, -63.43957 ...</td>\n",
       "    </tr>\n",
       "    <tr>\n",
       "      <th>1</th>\n",
       "      <td>CORN</td>\n",
       "      <td>2023/2023</td>\n",
       "      <td>Agrosatélite - Grãos 2022/2023</td>\n",
       "      <td>RO</td>\n",
       "      <td>871451.0441404884</td>\n",
       "      <td>0.0</td>\n",
       "      <td>start_2023-01-01_end_2023-09-01_monitoring_cla...</td>\n",
       "      <td>2023-01-01</td>\n",
       "      <td>2023-09-01</td>\n",
       "      <td>2023-03-01</td>\n",
       "      <td>...</td>\n",
       "      <td>None</td>\n",
       "      <td>None</td>\n",
       "      <td>None</td>\n",
       "      <td>None</td>\n",
       "      <td>None</td>\n",
       "      <td>None</td>\n",
       "      <td>None</td>\n",
       "      <td>None</td>\n",
       "      <td>None</td>\n",
       "      <td>MULTIPOLYGON (((-63.42025 -9.27824, -63.42025 ...</td>\n",
       "    </tr>\n",
       "    <tr>\n",
       "      <th>2</th>\n",
       "      <td>CORN</td>\n",
       "      <td>2023/2023</td>\n",
       "      <td>Agrosatélite - Grãos 2022/2023</td>\n",
       "      <td>RO</td>\n",
       "      <td>1604076.711068449</td>\n",
       "      <td>0.0</td>\n",
       "      <td>start_2023-01-01_end_2023-09-01_monitoring_cla...</td>\n",
       "      <td>2023-01-01</td>\n",
       "      <td>2023-09-01</td>\n",
       "      <td>2023-03-01</td>\n",
       "      <td>...</td>\n",
       "      <td>None</td>\n",
       "      <td>None</td>\n",
       "      <td>None</td>\n",
       "      <td>None</td>\n",
       "      <td>None</td>\n",
       "      <td>None</td>\n",
       "      <td>None</td>\n",
       "      <td>None</td>\n",
       "      <td>None</td>\n",
       "      <td>MULTIPOLYGON (((-63.41611 -9.27407, -63.41611 ...</td>\n",
       "    </tr>\n",
       "    <tr>\n",
       "      <th>3</th>\n",
       "      <td>CORN</td>\n",
       "      <td>2023/2023</td>\n",
       "      <td>Agrosatélite - Grãos 2022/2023</td>\n",
       "      <td>RO</td>\n",
       "      <td>1496776.078012722</td>\n",
       "      <td>0.0</td>\n",
       "      <td>start_2023-01-01_end_2023-09-01_monitoring_cla...</td>\n",
       "      <td>2023-01-01</td>\n",
       "      <td>2023-09-01</td>\n",
       "      <td>2023-03-01</td>\n",
       "      <td>...</td>\n",
       "      <td>None</td>\n",
       "      <td>None</td>\n",
       "      <td>None</td>\n",
       "      <td>None</td>\n",
       "      <td>None</td>\n",
       "      <td>None</td>\n",
       "      <td>None</td>\n",
       "      <td>None</td>\n",
       "      <td>None</td>\n",
       "      <td>MULTIPOLYGON (((-63.4313 -9.29645, -63.4317 -9...</td>\n",
       "    </tr>\n",
       "    <tr>\n",
       "      <th>4</th>\n",
       "      <td>CORN</td>\n",
       "      <td>2023/2023</td>\n",
       "      <td>Agrosatélite - Grãos 2022/2023</td>\n",
       "      <td>RO</td>\n",
       "      <td>1486526.409996468</td>\n",
       "      <td>0.0</td>\n",
       "      <td>start_2023-01-01_end_2023-09-01_monitoring_cla...</td>\n",
       "      <td>2023-01-01</td>\n",
       "      <td>2023-09-01</td>\n",
       "      <td>2023-03-01</td>\n",
       "      <td>...</td>\n",
       "      <td>None</td>\n",
       "      <td>None</td>\n",
       "      <td>None</td>\n",
       "      <td>None</td>\n",
       "      <td>None</td>\n",
       "      <td>None</td>\n",
       "      <td>None</td>\n",
       "      <td>None</td>\n",
       "      <td>None</td>\n",
       "      <td>MULTIPOLYGON (((-63.40514 -9.29191, -63.40515 ...</td>\n",
       "    </tr>\n",
       "  </tbody>\n",
       "</table>\n",
       "<p>5 rows × 73 columns</p>\n",
       "</div>"
      ],
      "text/plain": [
       "  monitoring_class     period                           fonte state  \\\n",
       "0             CORN  2023/2023  Agrosatélite - Grãos 2022/2023    RO   \n",
       "1             CORN  2023/2023  Agrosatélite - Grãos 2022/2023    RO   \n",
       "2             CORN  2023/2023  Agrosatélite - Grãos 2022/2023    RO   \n",
       "3             CORN  2023/2023  Agrosatélite - Grãos 2022/2023    RO   \n",
       "4             CORN  2023/2023  Agrosatélite - Grãos 2022/2023    RO   \n",
       "\n",
       "                area  micro  \\\n",
       "0               None    0.0   \n",
       "1  871451.0441404884    0.0   \n",
       "2  1604076.711068449    0.0   \n",
       "3  1496776.078012722    0.0   \n",
       "4  1486526.409996468    0.0   \n",
       "\n",
       "                                     eopath_location start_season end_season  \\\n",
       "0  start_2023-01-01_end_2023-09-01_monitoring_cla...   2023-01-01 2023-09-01   \n",
       "1  start_2023-01-01_end_2023-09-01_monitoring_cla...   2023-01-01 2023-09-01   \n",
       "2  start_2023-01-01_end_2023-09-01_monitoring_cla...   2023-01-01 2023-09-01   \n",
       "3  start_2023-01-01_end_2023-09-01_monitoring_cla...   2023-01-01 2023-09-01   \n",
       "4  start_2023-01-01_end_2023-09-01_monitoring_cla...   2023-01-01 2023-09-01   \n",
       "\n",
       "  peak_start  ... obs_emergence obs_senescence obs_harvest created_by area_id  \\\n",
       "0 2023-03-01  ...          None           None        None       None    None   \n",
       "1 2023-03-01  ...          None           None        None       None    None   \n",
       "2 2023-03-01  ...          None           None        None       None    None   \n",
       "3 2023-03-01  ...          None           None        None       None    None   \n",
       "4 2023-03-01  ...          None           None        None       None    None   \n",
       "\n",
       "  last_date_crop_rnn crop_distance_score_sits crop_confidence_maha_sits   set  \\\n",
       "0               None                     None                      None  None   \n",
       "1               None                     None                      None  None   \n",
       "2               None                     None                      None  None   \n",
       "3               None                     None                      None  None   \n",
       "4               None                     None                      None  None   \n",
       "\n",
       "                                            geometry  \n",
       "0  MULTIPOLYGON (((-63.43957 -9.29016, -63.43957 ...  \n",
       "1  MULTIPOLYGON (((-63.42025 -9.27824, -63.42025 ...  \n",
       "2  MULTIPOLYGON (((-63.41611 -9.27407, -63.41611 ...  \n",
       "3  MULTIPOLYGON (((-63.4313 -9.29645, -63.4317 -9...  \n",
       "4  MULTIPOLYGON (((-63.40514 -9.29191, -63.40515 ...  \n",
       "\n",
       "[5 rows x 73 columns]"
      ]
     },
     "execution_count": 5,
     "metadata": {},
     "output_type": "execute_result"
    }
   ],
   "source": [
    "df.head()"
   ]
  },
  {
   "cell_type": "code",
   "execution_count": 6,
   "id": "234a640f-6bb2-42e5-b72f-769cc9b70dee",
   "metadata": {},
   "outputs": [
    {
     "data": {
      "application/vnd.jupyter.widget-view+json": {
       "model_id": "6a7ec58653e9401ebac4e879a25856ce",
       "version_major": 2,
       "version_minor": 0
      },
      "text/plain": [
       "  0%|          | 0/33026 [00:00<?, ?it/s]"
      ]
     },
     "metadata": {},
     "output_type": "display_data"
    }
   ],
   "source": [
    "df_results = processing.check_load_eopatch_and_change_eopatch_dir(df,\n",
    "                                        eopatch_path=OLD_EOPATCH_PATH,\n",
    "                                        new_eopatch_path=NEW_EOPATCH_PATH,\n",
    "                                        label_monitoring_class='monitoring_class',\n",
    "                                        label_eopatch_path='eopath_location')"
   ]
  },
  {
   "cell_type": "code",
   "execution_count": null,
   "id": "fa4cc701-4d60-459f-af24-7ec11ae016a7",
   "metadata": {},
   "outputs": [],
   "source": []
  },
  {
   "cell_type": "markdown",
   "id": "db436b65-8415-41d2-8f82-ea7fe81f5024",
   "metadata": {},
   "source": [
    "## Check eopatch"
   ]
  },
  {
   "cell_type": "code",
   "execution_count": 7,
   "id": "2b34e0cb-568d-4fc3-a275-6eaab5483621",
   "metadata": {},
   "outputs": [
    {
     "data": {
      "application/vnd.jupyter.widget-view+json": {
       "model_id": "f70f7dd39d5c4db89301974f8e57c32e",
       "version_major": 2,
       "version_minor": 0
      },
      "text/plain": [
       "  0%|          | 0/33026 [00:00<?, ?it/s]"
      ]
     },
     "metadata": {},
     "output_type": "display_data"
    }
   ],
   "source": [
    "df_processed, df_overview_processed = processing.check_processed_eopatches_features_based_geopackage(df, \n",
    "                                                                                         eopatch_path=NEW_EOPATCH_PATH,\n",
    "                                                                                         label_eopatch_path=LABEL_EOPATCH_LOCATION)"
   ]
  },
  {
   "cell_type": "code",
   "execution_count": 8,
   "id": "cda3881a-2368-4ca9-b2d4-84be291aa9cf",
   "metadata": {},
   "outputs": [
    {
     "data": {
      "text/html": [
       "<div>\n",
       "<style scoped>\n",
       "    .dataframe tbody tr th:only-of-type {\n",
       "        vertical-align: middle;\n",
       "    }\n",
       "\n",
       "    .dataframe tbody tr th {\n",
       "        vertical-align: top;\n",
       "    }\n",
       "\n",
       "    .dataframe thead th {\n",
       "        text-align: right;\n",
       "    }\n",
       "</style>\n",
       "<table border=\"1\" class=\"dataframe\">\n",
       "  <thead>\n",
       "    <tr style=\"text-align: right;\">\n",
       "      <th></th>\n",
       "      <th>eopatch_location_id</th>\n",
       "      <th>eopatch_processed_exists</th>\n",
       "      <th>len_data</th>\n",
       "      <th>len_bands</th>\n",
       "      <th>len_time_interval</th>\n",
       "      <th>len_timestamp</th>\n",
       "      <th>error_processed</th>\n",
       "    </tr>\n",
       "  </thead>\n",
       "  <tbody>\n",
       "  </tbody>\n",
       "</table>\n",
       "</div>"
      ],
      "text/plain": [
       "Empty DataFrame\n",
       "Columns: [eopatch_location_id, eopatch_processed_exists, len_data, len_bands, len_time_interval, len_timestamp, error_processed]\n",
       "Index: []"
      ]
     },
     "execution_count": 8,
     "metadata": {},
     "output_type": "execute_result"
    }
   ],
   "source": [
    "df_processed[df_processed['eopatch_processed_exists']==False]"
   ]
  },
  {
   "cell_type": "markdown",
   "id": "93505652-d253-4a01-9adf-cc385e8aad3a",
   "metadata": {},
   "source": [
    "## Merge Data"
   ]
  },
  {
   "cell_type": "code",
   "execution_count": null,
   "id": "ba9d3e05-de43-40c3-92f4-f1e8260bb443",
   "metadata": {},
   "outputs": [],
   "source": [
    "df['eopath_location'].loc[0]"
   ]
  },
  {
   "cell_type": "code",
   "execution_count": null,
   "id": "4b0de9fa-8641-42b8-a083-3f39bcacf8ec",
   "metadata": {},
   "outputs": [],
   "source": [
    "df_processed['eopatch_location_id'].loc[0]"
   ]
  },
  {
   "cell_type": "code",
   "execution_count": null,
   "id": "f43317a9-dad4-4c89-8a3b-6e015c410b67",
   "metadata": {},
   "outputs": [],
   "source": [
    "# Supondo que df e df_processed já estejam definidos\n",
    "df_full = pd.merge(df, \n",
    "                   df_processed,\n",
    "                   left_on='eopath_location',\n",
    "                   right_on='eopatch_location_id',\n",
    "                   how='left')"
   ]
  },
  {
   "cell_type": "code",
   "execution_count": null,
   "id": "5da8647a-ee3b-4412-88b2-9a9be6a25a87",
   "metadata": {},
   "outputs": [],
   "source": [
    "duplicacoes = df_full[df_full.duplicated(subset=['eopath_location'], keep=False)]"
   ]
  },
  {
   "cell_type": "code",
   "execution_count": null,
   "id": "79d28f70-57c9-44cb-9204-0fc09249fd46",
   "metadata": {},
   "outputs": [],
   "source": [
    "df_full['eopath_location'].nunique()"
   ]
  },
  {
   "cell_type": "markdown",
   "id": "77d90d29-07d4-434b-b294-cc95d097b4bb",
   "metadata": {},
   "source": [
    "## Save data"
   ]
  },
  {
   "cell_type": "code",
   "execution_count": null,
   "id": "76671d19-219b-45d3-a2b6-556029764e36",
   "metadata": {},
   "outputs": [],
   "source": [
    "result_string= '_'.join([f\"{cls}_{count}\" for cls, count in df_full['monitoring_class'].value_counts().items()])\n",
    "result_string"
   ]
  },
  {
   "cell_type": "code",
   "execution_count": null,
   "id": "b0208633-e25b-4c55-85ec-372408f6a76c",
   "metadata": {},
   "outputs": [],
   "source": [
    "os.makedirs(REPORT_PATH, exist_ok=True)\n",
    "df_full.to_csv(f\"{REPORT_PATH}/overview_{result_string}.csv\")"
   ]
  },
  {
   "cell_type": "code",
   "execution_count": null,
   "id": "b8a8ef25-e875-4d72-8f1b-e0297c1a0339",
   "metadata": {},
   "outputs": [],
   "source": []
  },
  {
   "cell_type": "code",
   "execution_count": null,
   "id": "2612d562-f8ff-48f0-a738-1262f19e81b0",
   "metadata": {},
   "outputs": [],
   "source": [
    "df_full.to_file(GEOPACKAGE_FILE_PATH, \n",
    "                driver='GPKG', \n",
    "                engine='fiona')"
   ]
  },
  {
   "cell_type": "code",
   "execution_count": null,
   "id": "1d7c9931-7b74-4773-89bd-65a5878dee06",
   "metadata": {},
   "outputs": [],
   "source": [
    "# GEOPACKAGE_PATH = \"/agrilearn_app/datasets/baselines/testes_de_concordancia/geopackage/SOYBEAN_216_CORN_127.gpkg\"\n",
    "# EOPATCH_PATH = \"/agrilearn_app/datasets/baselines/teste_pre_safra_2024_2025/eopatch/processed/\"\n",
    "# NEW_EOPATCH_PATH = \"/agrilearn_app/datasets/baselines/testes_de_concordancia/eopatch/processed/\""
   ]
  },
  {
   "cell_type": "code",
   "execution_count": null,
   "id": "4439dff7-c909-4988-a42a-c953d278756b",
   "metadata": {},
   "outputs": [],
   "source": [
    "# df = gpd.read_file(GEOPACKAGE_PATH)"
   ]
  },
  {
   "cell_type": "code",
   "execution_count": null,
   "id": "1acc1ed2-94d8-4ffc-8d0b-00e7f4183866",
   "metadata": {},
   "outputs": [],
   "source": [
    "# df"
   ]
  },
  {
   "cell_type": "code",
   "execution_count": null,
   "id": "3496a336-058c-444b-91ce-b25223c945a1",
   "metadata": {},
   "outputs": [],
   "source": [
    "# df_results_v2 = processing.check_load_eopatch_and_change_eopatch_dir(df,\n",
    "#                                         eopatch_path=EOPATCH_PATH,\n",
    "#                                         new_eopatch_path=NEW_EOPATCH_PATH,\n",
    "#                                         label_monitoring_class='monitoring_class',\n",
    "#                                         label_eopatch_path='eopath_location')"
   ]
  },
  {
   "cell_type": "code",
   "execution_count": null,
   "id": "a0e9c9cc-9f7b-4ce2-b2e7-ac4fa35e1bf4",
   "metadata": {},
   "outputs": [],
   "source": []
  }
 ],
 "metadata": {
  "kernelspec": {
   "display_name": "Python 3 (ipykernel)",
   "language": "python",
   "name": "python3"
  },
  "language_info": {
   "codemirror_mode": {
    "name": "ipython",
    "version": 3
   },
   "file_extension": ".py",
   "mimetype": "text/x-python",
   "name": "python",
   "nbconvert_exporter": "python",
   "pygments_lexer": "ipython3",
   "version": "3.10.12"
  }
 },
 "nbformat": 4,
 "nbformat_minor": 5
}
