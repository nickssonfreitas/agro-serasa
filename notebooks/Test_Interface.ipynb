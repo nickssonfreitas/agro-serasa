{
 "cells": [
  {
   "cell_type": "code",
   "execution_count": 1,
   "id": "ed21bcda-819f-4432-9caa-ebd3f15a8370",
   "metadata": {},
   "outputs": [],
   "source": [
    "# Load the auto reload extension to automatically reload modules when files on disk are updated\n",
    "%load_ext autoreload\n",
    "# it will automatically be reloaded without the need to restart the kernel.\n",
    "%autoreload 2"
   ]
  },
  {
   "cell_type": "code",
   "execution_count": 2,
   "id": "99021b69-5dff-4484-8eae-75d0ec3d4854",
   "metadata": {},
   "outputs": [],
   "source": [
    "import sys\n",
    "sys.path.append(\"/agrilearn_app/agrilearn/\")"
   ]
  },
  {
   "cell_type": "code",
   "execution_count": 3,
   "id": "540f1ca1-23e2-452f-9ab3-de9d546eb17d",
   "metadata": {},
   "outputs": [
    {
     "ename": "ModuleNotFoundError",
     "evalue": "No module named 'agrilearn.commons'",
     "output_type": "error",
     "traceback": [
      "\u001b[0;31m---------------------------------------------------------------------------\u001b[0m",
      "\u001b[0;31mModuleNotFoundError\u001b[0m                       Traceback (most recent call last)",
      "\u001b[0;32m/tmp/ipykernel_10254/1652263238.py\u001b[0m in \u001b[0;36m<cell line: 1>\u001b[0;34m()\u001b[0m\n\u001b[0;32m----> 1\u001b[0;31m \u001b[0;32mfrom\u001b[0m \u001b[0magrilearn\u001b[0m\u001b[0;34m.\u001b[0m\u001b[0mcontourdetection\u001b[0m \u001b[0;32mimport\u001b[0m \u001b[0mconfig\u001b[0m\u001b[0;34m\u001b[0m\u001b[0;34m\u001b[0m\u001b[0m\n\u001b[0m",
      "\u001b[0;32m/agrilearn_app/agrilearn/submodules/contour/agrilearn/contourdetection/config.py\u001b[0m in \u001b[0;36m<module>\u001b[0;34m\u001b[0m\n\u001b[1;32m      6\u001b[0m \u001b[0;34m\u001b[0m\u001b[0m\n\u001b[1;32m      7\u001b[0m \u001b[0;32mfrom\u001b[0m \u001b[0meolearn\u001b[0m\u001b[0;34m.\u001b[0m\u001b[0mcore\u001b[0m \u001b[0;32mimport\u001b[0m \u001b[0mFeatureType\u001b[0m\u001b[0;34m\u001b[0m\u001b[0;34m\u001b[0m\u001b[0m\n\u001b[0;32m----> 8\u001b[0;31m \u001b[0;32mfrom\u001b[0m \u001b[0magrilearn\u001b[0m\u001b[0;34m.\u001b[0m\u001b[0mcommons\u001b[0m\u001b[0;34m.\u001b[0m\u001b[0mmodels\u001b[0m\u001b[0;34m.\u001b[0m\u001b[0mdata_requirements\u001b[0m \u001b[0;32mimport\u001b[0m \u001b[0mDataRequirements\u001b[0m\u001b[0;34m\u001b[0m\u001b[0;34m\u001b[0m\u001b[0m\n\u001b[0m\u001b[1;32m      9\u001b[0m \u001b[0;32mfrom\u001b[0m \u001b[0magrilearn\u001b[0m\u001b[0;34m.\u001b[0m\u001b[0mcommons\u001b[0m\u001b[0;34m.\u001b[0m\u001b[0mutils\u001b[0m\u001b[0;34m.\u001b[0m\u001b[0menv_utils\u001b[0m \u001b[0;32mimport\u001b[0m \u001b[0mload_agrilearn_dotenv_model_config\u001b[0m\u001b[0;34m\u001b[0m\u001b[0;34m\u001b[0m\u001b[0m\n\u001b[1;32m     10\u001b[0m from agrilearn.commons.eopatch_tasks import (\n",
      "\u001b[0;31mModuleNotFoundError\u001b[0m: No module named 'agrilearn.commons'"
     ]
    }
   ],
   "source": [
    "from agrilearn.contourdetection import config"
   ]
  },
  {
   "cell_type": "code",
   "execution_count": null,
   "id": "659e171f-175d-40e9-a573-56a54237505d",
   "metadata": {},
   "outputs": [],
   "source": [
    "#from agrilearn.crop_classification import interface\n",
    "from agrilearn.crop_classification import yaml_utils\n",
    "import geopandas as gpd"
   ]
  },
  {
   "cell_type": "markdown",
   "id": "a08b89e6-b804-404c-8508-c9cd28b3d986",
   "metadata": {},
   "source": [
    "## 1. Create Model Interface from YAML"
   ]
  },
  {
   "cell_type": "code",
   "execution_count": null,
   "id": "53f9e314-88f8-4c02-aa19-b381362b9c8f",
   "metadata": {},
   "outputs": [],
   "source": [
    "crop = interface.CropClassificationInterface(yaml_config_path=yaml_config_path)"
   ]
  },
  {
   "cell_type": "markdown",
   "id": "cbd92ca2-9eb2-48f8-9f3e-a0422e4ee04a",
   "metadata": {},
   "source": [
    "## 2. Test to Predict using Interface"
   ]
  },
  {
   "cell_type": "code",
   "execution_count": null,
   "id": "9613c02d-ec98-4a58-b51d-38ae9e7a9dbb",
   "metadata": {},
   "outputs": [],
   "source": [
    "config = yaml_utils.load_config(yaml_config_path)\n",
    "eopatch_path = config['evaluate']['eopatch_folder']\n",
    "label_eopatch_location = config['evaluate']['label_eopatch_location']\n",
    "label_monitoring_class = config['evaluate']['label_true']\n",
    "GEOPACKAGE_PATH = config[\"evaluate\"][\"geopackage_test_data_path\"]"
   ]
  },
  {
   "cell_type": "code",
   "execution_count": null,
   "id": "1a2694a8-e2c1-4614-ad45-45c72093b0cd",
   "metadata": {},
   "outputs": [],
   "source": [
    "gdf = gpd.read_file(GEOPACKAGE_PATH)"
   ]
  },
  {
   "cell_type": "code",
   "execution_count": null,
   "id": "ea26af1f-2874-4bda-9661-d87078c7965a",
   "metadata": {},
   "outputs": [],
   "source": []
  }
 ],
 "metadata": {
  "kernelspec": {
   "display_name": "Python 3 (ipykernel)",
   "language": "python",
   "name": "python3"
  },
  "language_info": {
   "codemirror_mode": {
    "name": "ipython",
    "version": 3
   },
   "file_extension": ".py",
   "mimetype": "text/x-python",
   "name": "python",
   "nbconvert_exporter": "python",
   "pygments_lexer": "ipython3",
   "version": "3.10.12"
  }
 },
 "nbformat": 4,
 "nbformat_minor": 5
}
