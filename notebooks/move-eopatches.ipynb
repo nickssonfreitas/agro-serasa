{
 "cells": [
  {
   "cell_type": "code",
   "execution_count": 5,
   "id": "576fd74f-2e60-4afc-813e-14c723b6f8e3",
   "metadata": {},
   "outputs": [],
   "source": [
    "import sys\n",
    "sys.path.append(\"../agrilearn/submodules/commons/\")\n",
    "from agrilearn.commons.s3 import s3_utils\n",
    "from agrilearn.crop_classification import evaluate_utils, yaml_utils, processing\n",
    "import geopandas as gpd\n",
    "import os\n",
    "import pandas as pd"
   ]
  },
  {
   "cell_type": "code",
   "execution_count": 6,
   "id": "3cb1a861-8864-461d-bc0f-4ab1b945c52b",
   "metadata": {},
   "outputs": [],
   "source": [
    "#config = yaml_utils.load_config(\"/agrilearn_app/output/config/experiment_12.yaml\")"
   ]
  },
  {
   "cell_type": "code",
   "execution_count": 7,
   "id": "18f53df5-37bd-4df7-bb4a-69f6bd5b9df3",
   "metadata": {},
   "outputs": [],
   "source": [
    "MAIN_PATH = \"/agrilearn_app/datasets/CORN/2021_2022/\"\n",
    "GEOPACKAGE_FILE_PATH = os.path.join(MAIN_PATH, \"geopackage/processed/CORN_9467.gpkg\")\n",
    "NEW_EOPATCH_PATH = os.path.join(MAIN_PATH, \"eopatch/processed/\")\n",
    "REPORT_PATH = os.path.join(MAIN_PATH, \"reports/\")\n",
    "OLD_EOPATCH_PATH = \"/agrilearn_app/datasets/CORN/eopatch/processed/\"\n",
    "\n",
    "LABEL_EOPATCH_LOCATION = \"eopath_location\" "
   ]
  },
  {
   "cell_type": "code",
   "execution_count": 8,
   "id": "82a9b3d8-eb41-4165-8efc-a62e70d02910",
   "metadata": {},
   "outputs": [],
   "source": [
    "df = gpd.read_file(GEOPACKAGE_FILE_PATH)"
   ]
  },
  {
   "cell_type": "code",
   "execution_count": 9,
   "id": "eec6a003-3bfd-4f12-91c6-6f0c435579f3",
   "metadata": {},
   "outputs": [
    {
     "data": {
      "text/plain": [
       "(9467, 73)"
      ]
     },
     "execution_count": 9,
     "metadata": {},
     "output_type": "execute_result"
    }
   ],
   "source": [
    "df.shape"
   ]
  },
  {
   "cell_type": "code",
   "execution_count": 10,
   "id": "4436b014-847d-4738-880b-4d7cda9ec072",
   "metadata": {},
   "outputs": [
    {
     "data": {
      "text/html": [
       "<div>\n",
       "<style scoped>\n",
       "    .dataframe tbody tr th:only-of-type {\n",
       "        vertical-align: middle;\n",
       "    }\n",
       "\n",
       "    .dataframe tbody tr th {\n",
       "        vertical-align: top;\n",
       "    }\n",
       "\n",
       "    .dataframe thead th {\n",
       "        text-align: right;\n",
       "    }\n",
       "</style>\n",
       "<table border=\"1\" class=\"dataframe\">\n",
       "  <thead>\n",
       "    <tr style=\"text-align: right;\">\n",
       "      <th></th>\n",
       "      <th>monitoring_class</th>\n",
       "      <th>period</th>\n",
       "      <th>fonte</th>\n",
       "      <th>state</th>\n",
       "      <th>area</th>\n",
       "      <th>micro</th>\n",
       "      <th>eopath_location</th>\n",
       "      <th>start_season</th>\n",
       "      <th>end_season</th>\n",
       "      <th>peak_start</th>\n",
       "      <th>...</th>\n",
       "      <th>obs_emergence</th>\n",
       "      <th>obs_senescence</th>\n",
       "      <th>obs_harvest</th>\n",
       "      <th>created_by</th>\n",
       "      <th>area_id</th>\n",
       "      <th>last_date_crop_rnn</th>\n",
       "      <th>crop_distance_score_sits</th>\n",
       "      <th>crop_confidence_maha_sits</th>\n",
       "      <th>set</th>\n",
       "      <th>geometry</th>\n",
       "    </tr>\n",
       "  </thead>\n",
       "  <tbody>\n",
       "    <tr>\n",
       "      <th>0</th>\n",
       "      <td>CORN</td>\n",
       "      <td>2021/2022</td>\n",
       "      <td>Agrosatélite - Grãos Brasil 2021/2022</td>\n",
       "      <td>RO</td>\n",
       "      <td>None</td>\n",
       "      <td>NaN</td>\n",
       "      <td>start_2021-09-01_end_2022-06-01_monitoring_cla...</td>\n",
       "      <td>2021-09-01</td>\n",
       "      <td>2022-06-01</td>\n",
       "      <td>2021-11-01</td>\n",
       "      <td>...</td>\n",
       "      <td>None</td>\n",
       "      <td>None</td>\n",
       "      <td>None</td>\n",
       "      <td>None</td>\n",
       "      <td>None</td>\n",
       "      <td>None</td>\n",
       "      <td>None</td>\n",
       "      <td>None</td>\n",
       "      <td>None</td>\n",
       "      <td>MULTIPOLYGON (((-63.72032 -10.18348, -63.72032...</td>\n",
       "    </tr>\n",
       "    <tr>\n",
       "      <th>1</th>\n",
       "      <td>CORN</td>\n",
       "      <td>2021/2022</td>\n",
       "      <td>Agrosatélite - Grãos Brasil 2021/2022</td>\n",
       "      <td>RO</td>\n",
       "      <td>None</td>\n",
       "      <td>NaN</td>\n",
       "      <td>start_2021-09-01_end_2022-06-01_monitoring_cla...</td>\n",
       "      <td>2021-09-01</td>\n",
       "      <td>2022-06-01</td>\n",
       "      <td>2021-11-01</td>\n",
       "      <td>...</td>\n",
       "      <td>None</td>\n",
       "      <td>None</td>\n",
       "      <td>None</td>\n",
       "      <td>None</td>\n",
       "      <td>None</td>\n",
       "      <td>None</td>\n",
       "      <td>None</td>\n",
       "      <td>None</td>\n",
       "      <td>None</td>\n",
       "      <td>MULTIPOLYGON (((-61.15743 -11.93242, -61.15755...</td>\n",
       "    </tr>\n",
       "    <tr>\n",
       "      <th>2</th>\n",
       "      <td>CORN</td>\n",
       "      <td>2021/2022</td>\n",
       "      <td>Agrosatélite - Grãos Brasil 2021/2022</td>\n",
       "      <td>RO</td>\n",
       "      <td>None</td>\n",
       "      <td>NaN</td>\n",
       "      <td>start_2021-09-01_end_2022-06-01_monitoring_cla...</td>\n",
       "      <td>2021-09-01</td>\n",
       "      <td>2022-06-01</td>\n",
       "      <td>2021-11-01</td>\n",
       "      <td>...</td>\n",
       "      <td>None</td>\n",
       "      <td>None</td>\n",
       "      <td>None</td>\n",
       "      <td>None</td>\n",
       "      <td>None</td>\n",
       "      <td>None</td>\n",
       "      <td>None</td>\n",
       "      <td>None</td>\n",
       "      <td>None</td>\n",
       "      <td>MULTIPOLYGON (((-61.07564 -12.36307, -61.07521...</td>\n",
       "    </tr>\n",
       "    <tr>\n",
       "      <th>3</th>\n",
       "      <td>CORN</td>\n",
       "      <td>2021/2022</td>\n",
       "      <td>Agrosatélite - Grãos Brasil 2021/2022</td>\n",
       "      <td>PA</td>\n",
       "      <td>None</td>\n",
       "      <td>NaN</td>\n",
       "      <td>start_2021-10-01_end_2022-07-01_monitoring_cla...</td>\n",
       "      <td>2021-10-01</td>\n",
       "      <td>2022-07-01</td>\n",
       "      <td>2021-12-01</td>\n",
       "      <td>...</td>\n",
       "      <td>None</td>\n",
       "      <td>None</td>\n",
       "      <td>None</td>\n",
       "      <td>None</td>\n",
       "      <td>None</td>\n",
       "      <td>None</td>\n",
       "      <td>None</td>\n",
       "      <td>None</td>\n",
       "      <td>None</td>\n",
       "      <td>MULTIPOLYGON (((-49.52225 -6.21956, -49.52147 ...</td>\n",
       "    </tr>\n",
       "    <tr>\n",
       "      <th>4</th>\n",
       "      <td>CORN</td>\n",
       "      <td>2021/2022</td>\n",
       "      <td>Agrosatélite - Grãos Brasil 2021/2022</td>\n",
       "      <td>PA</td>\n",
       "      <td>None</td>\n",
       "      <td>NaN</td>\n",
       "      <td>start_2021-10-01_end_2022-07-01_monitoring_cla...</td>\n",
       "      <td>2021-10-01</td>\n",
       "      <td>2022-07-01</td>\n",
       "      <td>2021-12-01</td>\n",
       "      <td>...</td>\n",
       "      <td>None</td>\n",
       "      <td>None</td>\n",
       "      <td>None</td>\n",
       "      <td>None</td>\n",
       "      <td>None</td>\n",
       "      <td>None</td>\n",
       "      <td>None</td>\n",
       "      <td>None</td>\n",
       "      <td>None</td>\n",
       "      <td>MULTIPOLYGON (((-48.19879 -5.6021, -48.19862 -...</td>\n",
       "    </tr>\n",
       "  </tbody>\n",
       "</table>\n",
       "<p>5 rows × 73 columns</p>\n",
       "</div>"
      ],
      "text/plain": [
       "  monitoring_class     period                                  fonte state  \\\n",
       "0             CORN  2021/2022  Agrosatélite - Grãos Brasil 2021/2022    RO   \n",
       "1             CORN  2021/2022  Agrosatélite - Grãos Brasil 2021/2022    RO   \n",
       "2             CORN  2021/2022  Agrosatélite - Grãos Brasil 2021/2022    RO   \n",
       "3             CORN  2021/2022  Agrosatélite - Grãos Brasil 2021/2022    PA   \n",
       "4             CORN  2021/2022  Agrosatélite - Grãos Brasil 2021/2022    PA   \n",
       "\n",
       "   area  micro                                    eopath_location  \\\n",
       "0  None    NaN  start_2021-09-01_end_2022-06-01_monitoring_cla...   \n",
       "1  None    NaN  start_2021-09-01_end_2022-06-01_monitoring_cla...   \n",
       "2  None    NaN  start_2021-09-01_end_2022-06-01_monitoring_cla...   \n",
       "3  None    NaN  start_2021-10-01_end_2022-07-01_monitoring_cla...   \n",
       "4  None    NaN  start_2021-10-01_end_2022-07-01_monitoring_cla...   \n",
       "\n",
       "  start_season end_season peak_start  ... obs_emergence obs_senescence  \\\n",
       "0   2021-09-01 2022-06-01 2021-11-01  ...          None           None   \n",
       "1   2021-09-01 2022-06-01 2021-11-01  ...          None           None   \n",
       "2   2021-09-01 2022-06-01 2021-11-01  ...          None           None   \n",
       "3   2021-10-01 2022-07-01 2021-12-01  ...          None           None   \n",
       "4   2021-10-01 2022-07-01 2021-12-01  ...          None           None   \n",
       "\n",
       "  obs_harvest created_by area_id last_date_crop_rnn crop_distance_score_sits  \\\n",
       "0        None       None    None               None                     None   \n",
       "1        None       None    None               None                     None   \n",
       "2        None       None    None               None                     None   \n",
       "3        None       None    None               None                     None   \n",
       "4        None       None    None               None                     None   \n",
       "\n",
       "  crop_confidence_maha_sits   set  \\\n",
       "0                      None  None   \n",
       "1                      None  None   \n",
       "2                      None  None   \n",
       "3                      None  None   \n",
       "4                      None  None   \n",
       "\n",
       "                                            geometry  \n",
       "0  MULTIPOLYGON (((-63.72032 -10.18348, -63.72032...  \n",
       "1  MULTIPOLYGON (((-61.15743 -11.93242, -61.15755...  \n",
       "2  MULTIPOLYGON (((-61.07564 -12.36307, -61.07521...  \n",
       "3  MULTIPOLYGON (((-49.52225 -6.21956, -49.52147 ...  \n",
       "4  MULTIPOLYGON (((-48.19879 -5.6021, -48.19862 -...  \n",
       "\n",
       "[5 rows x 73 columns]"
      ]
     },
     "execution_count": 10,
     "metadata": {},
     "output_type": "execute_result"
    }
   ],
   "source": [
    "df.head()"
   ]
  },
  {
   "cell_type": "code",
   "execution_count": 11,
   "id": "234a640f-6bb2-42e5-b72f-769cc9b70dee",
   "metadata": {},
   "outputs": [
    {
     "data": {
      "application/vnd.jupyter.widget-view+json": {
       "model_id": "f62f53e722864cc79293d2e44e97c241",
       "version_major": 2,
       "version_minor": 0
      },
      "text/plain": [
       "  0%|          | 0/9467 [00:00<?, ?it/s]"
      ]
     },
     "metadata": {},
     "output_type": "display_data"
    }
   ],
   "source": [
    "df_results = processing.check_load_eopatch_and_change_eopatch_dir(df,\n",
    "                                        eopatch_path=OLD_EOPATCH_PATH,\n",
    "                                        new_eopatch_path=NEW_EOPATCH_PATH,\n",
    "                                        label_monitoring_class='monitoring_class',\n",
    "                                        label_eopatch_path='eopath_location')"
   ]
  },
  {
   "cell_type": "code",
   "execution_count": null,
   "id": "fa4cc701-4d60-459f-af24-7ec11ae016a7",
   "metadata": {},
   "outputs": [],
   "source": []
  },
  {
   "cell_type": "markdown",
   "id": "db436b65-8415-41d2-8f82-ea7fe81f5024",
   "metadata": {},
   "source": [
    "## Check eopatch"
   ]
  },
  {
   "cell_type": "code",
   "execution_count": 12,
   "id": "2b34e0cb-568d-4fc3-a275-6eaab5483621",
   "metadata": {},
   "outputs": [
    {
     "data": {
      "application/vnd.jupyter.widget-view+json": {
       "model_id": "2bb33beafa0444a4a53a9d2ab5c60684",
       "version_major": 2,
       "version_minor": 0
      },
      "text/plain": [
       "  0%|          | 0/9467 [00:00<?, ?it/s]"
      ]
     },
     "metadata": {},
     "output_type": "display_data"
    }
   ],
   "source": [
    "df_processed, df_overview_processed = processing.check_processed_eopatches_features_based_geopackage(df, \n",
    "                                                                                         eopatch_path=NEW_EOPATCH_PATH,\n",
    "                                                                                         label_eopatch_path=LABEL_EOPATCH_LOCATION)"
   ]
  },
  {
   "cell_type": "code",
   "execution_count": 14,
   "id": "cda3881a-2368-4ca9-b2d4-84be291aa9cf",
   "metadata": {},
   "outputs": [
    {
     "data": {
      "text/html": [
       "<div>\n",
       "<style scoped>\n",
       "    .dataframe tbody tr th:only-of-type {\n",
       "        vertical-align: middle;\n",
       "    }\n",
       "\n",
       "    .dataframe tbody tr th {\n",
       "        vertical-align: top;\n",
       "    }\n",
       "\n",
       "    .dataframe thead th {\n",
       "        text-align: right;\n",
       "    }\n",
       "</style>\n",
       "<table border=\"1\" class=\"dataframe\">\n",
       "  <thead>\n",
       "    <tr style=\"text-align: right;\">\n",
       "      <th></th>\n",
       "      <th>eopatch_location_id</th>\n",
       "      <th>eopatch_processed_exists</th>\n",
       "      <th>len_data</th>\n",
       "      <th>len_bands</th>\n",
       "      <th>len_time_interval</th>\n",
       "      <th>len_timestamp</th>\n",
       "      <th>error_processed</th>\n",
       "    </tr>\n",
       "  </thead>\n",
       "  <tbody>\n",
       "    <tr>\n",
       "      <th>0</th>\n",
       "      <td>start_2021-09-01_end_2022-06-01_monitoring_cla...</td>\n",
       "      <td>True</td>\n",
       "      <td>2</td>\n",
       "      <td>10</td>\n",
       "      <td>2</td>\n",
       "      <td>29</td>\n",
       "      <td>None</td>\n",
       "    </tr>\n",
       "    <tr>\n",
       "      <th>1</th>\n",
       "      <td>start_2021-09-01_end_2022-06-01_monitoring_cla...</td>\n",
       "      <td>True</td>\n",
       "      <td>2</td>\n",
       "      <td>10</td>\n",
       "      <td>2</td>\n",
       "      <td>23</td>\n",
       "      <td>None</td>\n",
       "    </tr>\n",
       "    <tr>\n",
       "      <th>2</th>\n",
       "      <td>start_2021-09-01_end_2022-06-01_monitoring_cla...</td>\n",
       "      <td>True</td>\n",
       "      <td>2</td>\n",
       "      <td>10</td>\n",
       "      <td>2</td>\n",
       "      <td>28</td>\n",
       "      <td>None</td>\n",
       "    </tr>\n",
       "    <tr>\n",
       "      <th>3</th>\n",
       "      <td>start_2021-10-01_end_2022-07-01_monitoring_cla...</td>\n",
       "      <td>True</td>\n",
       "      <td>2</td>\n",
       "      <td>10</td>\n",
       "      <td>2</td>\n",
       "      <td>22</td>\n",
       "      <td>None</td>\n",
       "    </tr>\n",
       "    <tr>\n",
       "      <th>4</th>\n",
       "      <td>start_2021-10-01_end_2022-07-01_monitoring_cla...</td>\n",
       "      <td>True</td>\n",
       "      <td>2</td>\n",
       "      <td>10</td>\n",
       "      <td>2</td>\n",
       "      <td>26</td>\n",
       "      <td>None</td>\n",
       "    </tr>\n",
       "    <tr>\n",
       "      <th>...</th>\n",
       "      <td>...</td>\n",
       "      <td>...</td>\n",
       "      <td>...</td>\n",
       "      <td>...</td>\n",
       "      <td>...</td>\n",
       "      <td>...</td>\n",
       "      <td>...</td>\n",
       "    </tr>\n",
       "    <tr>\n",
       "      <th>9462</th>\n",
       "      <td>start_2021-09-01_end_2022-07-01_monitoring_cla...</td>\n",
       "      <td>True</td>\n",
       "      <td>2</td>\n",
       "      <td>10</td>\n",
       "      <td>2</td>\n",
       "      <td>29</td>\n",
       "      <td>None</td>\n",
       "    </tr>\n",
       "    <tr>\n",
       "      <th>9463</th>\n",
       "      <td>start_2021-09-01_end_2022-07-01_monitoring_cla...</td>\n",
       "      <td>True</td>\n",
       "      <td>2</td>\n",
       "      <td>10</td>\n",
       "      <td>2</td>\n",
       "      <td>42</td>\n",
       "      <td>None</td>\n",
       "    </tr>\n",
       "    <tr>\n",
       "      <th>9464</th>\n",
       "      <td>start_2021-09-01_end_2022-07-01_monitoring_cla...</td>\n",
       "      <td>True</td>\n",
       "      <td>2</td>\n",
       "      <td>10</td>\n",
       "      <td>2</td>\n",
       "      <td>41</td>\n",
       "      <td>None</td>\n",
       "    </tr>\n",
       "    <tr>\n",
       "      <th>9465</th>\n",
       "      <td>start_2021-09-01_end_2022-07-01_monitoring_cla...</td>\n",
       "      <td>True</td>\n",
       "      <td>2</td>\n",
       "      <td>10</td>\n",
       "      <td>2</td>\n",
       "      <td>25</td>\n",
       "      <td>None</td>\n",
       "    </tr>\n",
       "    <tr>\n",
       "      <th>9466</th>\n",
       "      <td>start_2021-09-01_end_2022-05-01_monitoring_cla...</td>\n",
       "      <td>True</td>\n",
       "      <td>2</td>\n",
       "      <td>10</td>\n",
       "      <td>2</td>\n",
       "      <td>37</td>\n",
       "      <td>None</td>\n",
       "    </tr>\n",
       "  </tbody>\n",
       "</table>\n",
       "<p>9467 rows × 7 columns</p>\n",
       "</div>"
      ],
      "text/plain": [
       "                                    eopatch_location_id  \\\n",
       "0     start_2021-09-01_end_2022-06-01_monitoring_cla...   \n",
       "1     start_2021-09-01_end_2022-06-01_monitoring_cla...   \n",
       "2     start_2021-09-01_end_2022-06-01_monitoring_cla...   \n",
       "3     start_2021-10-01_end_2022-07-01_monitoring_cla...   \n",
       "4     start_2021-10-01_end_2022-07-01_monitoring_cla...   \n",
       "...                                                 ...   \n",
       "9462  start_2021-09-01_end_2022-07-01_monitoring_cla...   \n",
       "9463  start_2021-09-01_end_2022-07-01_monitoring_cla...   \n",
       "9464  start_2021-09-01_end_2022-07-01_monitoring_cla...   \n",
       "9465  start_2021-09-01_end_2022-07-01_monitoring_cla...   \n",
       "9466  start_2021-09-01_end_2022-05-01_monitoring_cla...   \n",
       "\n",
       "      eopatch_processed_exists  len_data  len_bands  len_time_interval  \\\n",
       "0                         True         2         10                  2   \n",
       "1                         True         2         10                  2   \n",
       "2                         True         2         10                  2   \n",
       "3                         True         2         10                  2   \n",
       "4                         True         2         10                  2   \n",
       "...                        ...       ...        ...                ...   \n",
       "9462                      True         2         10                  2   \n",
       "9463                      True         2         10                  2   \n",
       "9464                      True         2         10                  2   \n",
       "9465                      True         2         10                  2   \n",
       "9466                      True         2         10                  2   \n",
       "\n",
       "      len_timestamp error_processed  \n",
       "0                29            None  \n",
       "1                23            None  \n",
       "2                28            None  \n",
       "3                22            None  \n",
       "4                26            None  \n",
       "...             ...             ...  \n",
       "9462             29            None  \n",
       "9463             42            None  \n",
       "9464             41            None  \n",
       "9465             25            None  \n",
       "9466             37            None  \n",
       "\n",
       "[9467 rows x 7 columns]"
      ]
     },
     "execution_count": 14,
     "metadata": {},
     "output_type": "execute_result"
    }
   ],
   "source": [
    "df_processed[df_processed['eopatch_processed_exists']==True]"
   ]
  },
  {
   "cell_type": "markdown",
   "id": "93505652-d253-4a01-9adf-cc385e8aad3a",
   "metadata": {},
   "source": [
    "## Merge Data"
   ]
  },
  {
   "cell_type": "code",
   "execution_count": 15,
   "id": "ba9d3e05-de43-40c3-92f4-f1e8260bb443",
   "metadata": {},
   "outputs": [
    {
     "data": {
      "text/plain": [
       "'start_2021-09-01_end_2022-06-01_monitoring_class_CORN_epsg4326_minxymaxxy_-63dot725036837380124_-10dot18913150801262_-63dot72027784274821_-10dot171379764064795_503_1'"
      ]
     },
     "execution_count": 15,
     "metadata": {},
     "output_type": "execute_result"
    }
   ],
   "source": [
    "df['eopath_location'].loc[0]"
   ]
  },
  {
   "cell_type": "code",
   "execution_count": 16,
   "id": "4b0de9fa-8641-42b8-a083-3f39bcacf8ec",
   "metadata": {},
   "outputs": [
    {
     "data": {
      "text/plain": [
       "'start_2021-09-01_end_2022-06-01_monitoring_class_CORN_epsg4326_minxymaxxy_-63dot725036837380124_-10dot18913150801262_-63dot72027784274821_-10dot171379764064795_503_1'"
      ]
     },
     "execution_count": 16,
     "metadata": {},
     "output_type": "execute_result"
    }
   ],
   "source": [
    "df_processed['eopatch_location_id'].loc[0]"
   ]
  },
  {
   "cell_type": "code",
   "execution_count": 17,
   "id": "f43317a9-dad4-4c89-8a3b-6e015c410b67",
   "metadata": {},
   "outputs": [],
   "source": [
    "# Supondo que df e df_processed já estejam definidos\n",
    "df_full = pd.merge(df, \n",
    "                   df_processed,\n",
    "                   left_on='eopath_location',\n",
    "                   right_on='eopatch_location_id',\n",
    "                   how='left')"
   ]
  },
  {
   "cell_type": "code",
   "execution_count": 19,
   "id": "ad8ba3f7-7990-4086-ab15-4bc92f5a36cf",
   "metadata": {},
   "outputs": [
    {
     "data": {
      "text/plain": [
       "(28913, 80)"
      ]
     },
     "execution_count": 19,
     "metadata": {},
     "output_type": "execute_result"
    }
   ],
   "source": [
    "df_full.shape"
   ]
  },
  {
   "cell_type": "code",
   "execution_count": null,
   "id": "5da8647a-ee3b-4412-88b2-9a9be6a25a87",
   "metadata": {},
   "outputs": [],
   "source": [
    "duplicacoes = df_full[df_full.duplicated(subset=['eopath_location'], keep=False)]"
   ]
  },
  {
   "cell_type": "code",
   "execution_count": null,
   "id": "51173ce7-80a9-4c0a-9397-1c8390bcd74d",
   "metadata": {},
   "outputs": [],
   "source": []
  },
  {
   "cell_type": "code",
   "execution_count": null,
   "id": "79d28f70-57c9-44cb-9204-0fc09249fd46",
   "metadata": {},
   "outputs": [],
   "source": [
    "df_full['eopath_location'].nunique()"
   ]
  },
  {
   "cell_type": "markdown",
   "id": "77d90d29-07d4-434b-b294-cc95d097b4bb",
   "metadata": {},
   "source": [
    "## Save data"
   ]
  },
  {
   "cell_type": "code",
   "execution_count": null,
   "id": "76671d19-219b-45d3-a2b6-556029764e36",
   "metadata": {},
   "outputs": [],
   "source": [
    "result_string= '_'.join([f\"{cls}_{count}\" for cls, count in df_full['monitoring_class'].value_counts().items()])\n",
    "result_string"
   ]
  },
  {
   "cell_type": "code",
   "execution_count": null,
   "id": "b0208633-e25b-4c55-85ec-372408f6a76c",
   "metadata": {},
   "outputs": [],
   "source": [
    "os.makedirs(REPORT_PATH, exist_ok=True)\n",
    "df_full.to_csv(f\"{REPORT_PATH}/overview_{result_string}.csv\")"
   ]
  },
  {
   "cell_type": "code",
   "execution_count": null,
   "id": "b8a8ef25-e875-4d72-8f1b-e0297c1a0339",
   "metadata": {},
   "outputs": [],
   "source": []
  },
  {
   "cell_type": "code",
   "execution_count": null,
   "id": "2612d562-f8ff-48f0-a738-1262f19e81b0",
   "metadata": {},
   "outputs": [],
   "source": [
    "df_full.to_file(GEOPACKAGE_FILE_PATH, \n",
    "                driver='GPKG', \n",
    "                engine='fiona')"
   ]
  },
  {
   "cell_type": "code",
   "execution_count": null,
   "id": "1d7c9931-7b74-4773-89bd-65a5878dee06",
   "metadata": {},
   "outputs": [],
   "source": [
    "# GEOPACKAGE_PATH = \"/agrilearn_app/datasets/baselines/testes_de_concordancia/geopackage/SOYBEAN_216_CORN_127.gpkg\"\n",
    "# EOPATCH_PATH = \"/agrilearn_app/datasets/baselines/teste_pre_safra_2024_2025/eopatch/processed/\"\n",
    "# NEW_EOPATCH_PATH = \"/agrilearn_app/datasets/baselines/testes_de_concordancia/eopatch/processed/\""
   ]
  },
  {
   "cell_type": "code",
   "execution_count": null,
   "id": "4439dff7-c909-4988-a42a-c953d278756b",
   "metadata": {},
   "outputs": [],
   "source": [
    "# df = gpd.read_file(GEOPACKAGE_PATH)"
   ]
  },
  {
   "cell_type": "code",
   "execution_count": null,
   "id": "1acc1ed2-94d8-4ffc-8d0b-00e7f4183866",
   "metadata": {},
   "outputs": [],
   "source": [
    "# df"
   ]
  },
  {
   "cell_type": "code",
   "execution_count": null,
   "id": "3496a336-058c-444b-91ce-b25223c945a1",
   "metadata": {},
   "outputs": [],
   "source": [
    "# df_results_v2 = processing.check_load_eopatch_and_change_eopatch_dir(df,\n",
    "#                                         eopatch_path=EOPATCH_PATH,\n",
    "#                                         new_eopatch_path=NEW_EOPATCH_PATH,\n",
    "#                                         label_monitoring_class='monitoring_class',\n",
    "#                                         label_eopatch_path='eopath_location')"
   ]
  },
  {
   "cell_type": "code",
   "execution_count": null,
   "id": "a0e9c9cc-9f7b-4ce2-b2e7-ac4fa35e1bf4",
   "metadata": {},
   "outputs": [],
   "source": []
  }
 ],
 "metadata": {
  "kernelspec": {
   "display_name": "Python 3 (ipykernel)",
   "language": "python",
   "name": "python3"
  },
  "language_info": {
   "codemirror_mode": {
    "name": "ipython",
    "version": 3
   },
   "file_extension": ".py",
   "mimetype": "text/x-python",
   "name": "python",
   "nbconvert_exporter": "python",
   "pygments_lexer": "ipython3",
   "version": "3.10.12"
  }
 },
 "nbformat": 4,
 "nbformat_minor": 5
}
