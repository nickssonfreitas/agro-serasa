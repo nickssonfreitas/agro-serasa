{
 "cells": [
  {
   "cell_type": "code",
   "execution_count": null,
   "metadata": {
    "vscode": {
     "languageId": "plaintext"
    }
   },
   "outputs": [],
   "source": [
    "\"\"\"This script can be used for training a crop classification model\"\"\"\n",
    "\n",
    "import os\n",
    "import geopandas as gpd\n",
    "from agrilearn.crop_classification.cropclassifier import CropClassifier\n"
   ]
  },
  {
   "cell_type": "code",
   "execution_count": null,
   "metadata": {
    "vscode": {
     "languageId": "plaintext"
    }
   },
   "outputs": [],
   "source": [
    "\n",
    "EOPATCH_FOLDER = (\"/agrilearn_app/datasets/culture_v02_rnn_model/eopatches\")\n",
    "\n",
    "MODEL_PATH = \"/agrilearn_app/agrilearn/TASKS/altedata-1895_retrain_sits_bert\"\n",
    "checkpoint_path = os.path.join(MODEL_PATH, \"checkpoints\")\n",
    "\n",
    "if not os.path.isdir(checkpoint_path):\n",
    "    os.makedirs(checkpoint_path)\n",
    "\n",
    "BASE_PATH = \"/agrilearn_app/datasets/culture_v02_rnn_model/\"\n",
    "TRAIN_FILE = \"train_all_cultures_v2.gpkg\"\n",
    "VAL_FILE = \"val_all_cultures_v2.gpkg\"\n",
    "TEST_FILE = \"test_all_cultures_v2.gpkg\""
   ]
  },
  {
   "cell_type": "code",
   "execution_count": null,
   "metadata": {
    "vscode": {
     "languageId": "plaintext"
    }
   },
   "outputs": [],
   "source": [
    "train_gdf = gpd.read_file(BASE_PATH + TRAIN_FILE)\n",
    "val_gdf = gpd.read_file(BASE_PATH + VAL_FILE)\n",
    "test_gdf = gpd.read_file(BASE_PATH + TEST_FILE)"
   ]
  },
  {
   "cell_type": "code",
   "execution_count": null,
   "metadata": {
    "vscode": {
     "languageId": "plaintext"
    }
   },
   "outputs": [],
   "source": [
    "# train_gdf = train_gdf.sample(frac = 1).reset_index(drop=True).iloc[:1000]"
   ]
  },
  {
   "cell_type": "code",
   "execution_count": null,
   "metadata": {
    "vscode": {
     "languageId": "plaintext"
    }
   },
   "outputs": [],
   "source": [
    "crop_classifier = CropClassifier(\n",
    "    eopatch_folder=EOPATCH_FOLDER,\n",
    "    model_path=MODEL_PATH,\n",
    "    checkpoint_path=checkpoint_path,\n",
    ")"
   ]
  },
  {
   "cell_type": "code",
   "execution_count": null,
   "metadata": {
    "vscode": {
     "languageId": "plaintext"
    }
   },
   "outputs": [],
   "source": [
    "\n",
    "crop_classifier.train(\n",
    "    train_df=train_gdf,\n",
    "    val_df=val_gdf,\n",
    "    test_df=test_gdf,\n",
    "    train_batch_size=8,\n",
    "    val_batch_size=1,\n",
    ")"
   ]
  }
 ],
 "metadata": {
  "kernelspec": {
   "display_name": "Python 3 (ipykernel)",
   "language": "python",
   "name": "python3"
  },
  "language_info": {
   "codemirror_mode": {
    "name": "ipython",
    "version": 3
   },
   "file_extension": ".py",
   "mimetype": "text/x-python",
   "name": "python",
   "nbconvert_exporter": "python",
   "pygments_lexer": "ipython3",
   "version": "3.10.12"
  }
 },
 "nbformat": 4,
 "nbformat_minor": 4
}
