{
 "cells": [
  {
   "cell_type": "code",
   "execution_count": 1,
   "metadata": {
    "vscode": {
     "languageId": "plaintext"
    }
   },
   "outputs": [
    {
     "name": "stderr",
     "output_type": "stream",
     "text": [
      "2024-11-19 17:32:32.469183: I tensorflow/core/platform/cpu_feature_guard.cc:210] This TensorFlow binary is optimized to use available CPU instructions in performance-critical operations.\n",
      "To enable the following instructions: AVX2 AVX512F FMA, in other operations, rebuild TensorFlow with the appropriate compiler flags.\n",
      "2024-11-19 17:32:33.521802: W tensorflow/compiler/tf2tensorrt/utils/py_utils.cc:38] TF-TRT Warning: Could not find TensorRT\n"
     ]
    }
   ],
   "source": [
    "import os\n",
    "from glob import glob\n",
    "\n",
    "import geopandas as gpd\n",
    "\n",
    "from agrilearn.crop_classification.config import DATA_REQUIREMENTS\n",
    "from agrilearn.crop_classification.populate_eopatch_with_training_data import (\n",
    "    PopulateEoPatchWithTrainingData,\n",
    ")"
   ]
  },
  {
   "cell_type": "code",
   "execution_count": 2,
   "metadata": {
    "vscode": {
     "languageId": "plaintext"
    }
   },
   "outputs": [],
   "source": [
    "DATASET_PATH = \"/agrilearn_app/datasets/culture_v02\"\n",
    "\n",
    "NEW_DATASET_PATH = \"/agrilearn_app/datasets/culture_v02_rnn_model\"\n",
    "\n",
    "CROPS = [\"corn\", \"cotton\", \"rice\", \"soybean\"]\n",
    "SETS = [\"train\", \"val\", \"test\"]"
   ]
  },
  {
   "cell_type": "code",
   "execution_count": null,
   "metadata": {
    "vscode": {
     "languageId": "plaintext"
    }
   },
   "outputs": [],
   "source": [
    "\n",
    "for crop in CROPS:\n",
    "    for set_ in SETS:\n",
    "        \n",
    "        print(f\"processing {crop} - {set_}\")\n",
    "        eopatch_folder = os.path.join(DATASET_PATH, crop, set_)\n",
    "        eopatch_new_folder = os.path.join(NEW_DATASET_PATH, crop, set_)\n",
    "\n",
    "        if not os.path.isdir(eopatch_new_folder):\n",
    "            os.makedirs(eopatch_new_folder)\n",
    "\n",
    "\n",
    "        gpkg_path = os.path.join(DATASET_PATH, f'{crop}_{set_}_v2.gpkg')\n",
    "        # um gpkg for test, train, val\n",
    "        gpkg = gpd.read_file(gpkg_path)\n",
    "\n",
    "        gpkg.rename(columns={\"monitoring_class\": \"crop_class\"}, inplace=True)\n",
    "        gpkg.crop_class = crop\n",
    "\n",
    "        # gpkg_crop = gpkg_crop.iloc[:100]\n",
    "\n",
    "        populate_eopatch = PopulateEoPatchWithTrainingData(\n",
    "            eopatch_folder,\n",
    "            DATA_REQUIREMENTS.TIMESTAMP_SEQ_SIZE,\n",
    "            eopatch_new_folder,\n",
    "            DATA_REQUIREMENTS.INTERP_DAY_RANGE,\n",
    "        )\n",
    "\n",
    "        _ = populate_eopatch.populate(\n",
    "            gpkg, workers=8, save_report=True, remove_failed_samples=True\n",
    "        )"
   ]
  }
 ],
 "metadata": {
  "kernelspec": {
   "display_name": "Python 3 (ipykernel)",
   "language": "python",
   "name": "python3"
  },
  "language_info": {
   "codemirror_mode": {
    "name": "ipython",
    "version": 3
   },
   "file_extension": ".py",
   "mimetype": "text/x-python",
   "name": "python",
   "nbconvert_exporter": "python",
   "pygments_lexer": "ipython3",
   "version": "3.10.12"
  }
 },
 "nbformat": 4,
 "nbformat_minor": 4
}
