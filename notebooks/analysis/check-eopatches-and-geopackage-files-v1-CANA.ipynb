{
 "cells": [
  {
   "cell_type": "code",
   "execution_count": 7,
   "id": "6c01525f-1142-431e-a653-91d388053abd",
   "metadata": {},
   "outputs": [
    {
     "name": "stdout",
     "output_type": "stream",
     "text": [
      "The autoreload extension is already loaded. To reload it, use:\n",
      "  %reload_ext autoreload\n"
     ]
    }
   ],
   "source": [
    "# Load the auto reload extension to automatically reload modules when files on disk are updated\n",
    "%load_ext autoreload\n",
    "# it will automatically be reloaded without the need to restart the kernel.\n",
    "%autoreload 2"
   ]
  },
  {
   "cell_type": "markdown",
   "id": "e283de27-738f-44bc-90bb-a2035aec8903",
   "metadata": {},
   "source": [
    "### Imports"
   ]
  },
  {
   "cell_type": "code",
   "execution_count": 8,
   "id": "4b0b5400-7bae-4575-afeb-473d684b481f",
   "metadata": {},
   "outputs": [],
   "source": [
    "import boto3\n",
    "import geopandas as gpd\n",
    "from io import BytesIO\n",
    "import pandas as pd\n",
    "from folium import GeoJson\n",
    "import folium\n",
    "import numpy as np\n",
    "from tqdm import tqdm\n",
    "from glob import glob\n",
    "#import local modules\n",
    "import sys\n",
    "sys.path.append(\"/agrilearn_app/agrilearn/\")\n",
    "from agrilearn.utils import s3_utils, str_utils, eopatch_utils"
   ]
  },
  {
   "cell_type": "markdown",
   "id": "6c7cc194-d9bd-479b-bac2-1071d374026d",
   "metadata": {},
   "source": [
    "### Global Variables"
   ]
  },
  {
   "cell_type": "code",
   "execution_count": 9,
   "id": "6e6bfd36-0954-4f74-81f7-1303291e67f3",
   "metadata": {},
   "outputs": [],
   "source": [
    "DATASET_PATH_LOCAL = \"/agrilearn_app/datasets/v1/geopackage/cana_fields_filtered.gpkg\""
   ]
  },
  {
   "cell_type": "markdown",
   "id": "8563d700-cae1-426f-8a30-ccf700a0bd47",
   "metadata": {},
   "source": [
    "# 1. Read Geopackage from Local Disck\n",
    "\n",
    "## 1.1 Open Dataset"
   ]
  },
  {
   "cell_type": "code",
   "execution_count": 10,
   "id": "581f63a5-87d3-4389-ad0d-6ff9f3a24906",
   "metadata": {},
   "outputs": [],
   "source": [
    "df = gpd.read_file(DATASET_PATH_LOCAL)"
   ]
  },
  {
   "cell_type": "code",
   "execution_count": 11,
   "id": "922431f4-fb4e-456a-9b08-5f1e5414aa12",
   "metadata": {},
   "outputs": [
    {
     "data": {
      "text/html": [
       "<div>\n",
       "<style scoped>\n",
       "    .dataframe tbody tr th:only-of-type {\n",
       "        vertical-align: middle;\n",
       "    }\n",
       "\n",
       "    .dataframe tbody tr th {\n",
       "        vertical-align: top;\n",
       "    }\n",
       "\n",
       "    .dataframe thead th {\n",
       "        text-align: right;\n",
       "    }\n",
       "</style>\n",
       "<table border=\"1\" class=\"dataframe\">\n",
       "  <thead>\n",
       "    <tr style=\"text-align: right;\">\n",
       "      <th></th>\n",
       "      <th>monitoring_class</th>\n",
       "      <th>period</th>\n",
       "      <th>fonte</th>\n",
       "      <th>cultura_2</th>\n",
       "      <th>state</th>\n",
       "      <th>area</th>\n",
       "      <th>meso</th>\n",
       "      <th>obs_extra</th>\n",
       "      <th>eopath_location</th>\n",
       "      <th>start_season</th>\n",
       "      <th>end_season</th>\n",
       "      <th>peak_start</th>\n",
       "      <th>peak_end</th>\n",
       "      <th>sentinel_eopatch_current</th>\n",
       "      <th>contour_score</th>\n",
       "      <th>contour_selected_timestamp</th>\n",
       "      <th>field_id</th>\n",
       "      <th>compac_index</th>\n",
       "      <th>dataset_part</th>\n",
       "      <th>geometry</th>\n",
       "    </tr>\n",
       "  </thead>\n",
       "  <tbody>\n",
       "    <tr>\n",
       "      <th>0</th>\n",
       "      <td>SUGAR_CANE</td>\n",
       "      <td>2020/2021</td>\n",
       "      <td>Agrosatélite - Canasat 2021/2022</td>\n",
       "      <td>cana_soca</td>\n",
       "      <td>TO</td>\n",
       "      <td>3603383.0</td>\n",
       "      <td>58</td>\n",
       "      <td></td>\n",
       "      <td>start_2020-04-01_end_2021-04-01_monitoring_cla...</td>\n",
       "      <td>2020-04-01</td>\n",
       "      <td>2021-04-01</td>\n",
       "      <td>2020-04-01</td>\n",
       "      <td>2021-04-01</td>\n",
       "      <td>start_2020-04-01_end_2021-04-01_monitoring_cla...</td>\n",
       "      <td>1.0</td>\n",
       "      <td>2020-04-27</td>\n",
       "      <td>0_2</td>\n",
       "      <td>1.433508</td>\n",
       "      <td>train</td>\n",
       "      <td>POLYGON ((-48.34483 -8.91348, -48.34412 -8.913...</td>\n",
       "    </tr>\n",
       "    <tr>\n",
       "      <th>1</th>\n",
       "      <td>SUGAR_CANE</td>\n",
       "      <td>2020/2021</td>\n",
       "      <td>Agrosatélite - Canasat 2021/2022</td>\n",
       "      <td>cana_soca</td>\n",
       "      <td>TO</td>\n",
       "      <td>3603383.0</td>\n",
       "      <td>58</td>\n",
       "      <td></td>\n",
       "      <td>start_2020-04-01_end_2021-04-01_monitoring_cla...</td>\n",
       "      <td>2020-04-01</td>\n",
       "      <td>2021-04-01</td>\n",
       "      <td>2020-04-01</td>\n",
       "      <td>2021-04-01</td>\n",
       "      <td>start_2020-04-01_end_2021-04-01_monitoring_cla...</td>\n",
       "      <td>1.0</td>\n",
       "      <td>2020-04-27</td>\n",
       "      <td>0_3</td>\n",
       "      <td>1.705125</td>\n",
       "      <td>train</td>\n",
       "      <td>POLYGON ((-48.35083 -8.91933, -48.35008 -8.917...</td>\n",
       "    </tr>\n",
       "    <tr>\n",
       "      <th>2</th>\n",
       "      <td>SUGAR_CANE</td>\n",
       "      <td>2020/2021</td>\n",
       "      <td>Agrosatélite - Canasat 2021/2022</td>\n",
       "      <td>cana_soca</td>\n",
       "      <td>TO</td>\n",
       "      <td>3603383.0</td>\n",
       "      <td>58</td>\n",
       "      <td></td>\n",
       "      <td>start_2020-04-01_end_2021-04-01_monitoring_cla...</td>\n",
       "      <td>2020-04-01</td>\n",
       "      <td>2021-04-01</td>\n",
       "      <td>2020-04-01</td>\n",
       "      <td>2021-04-01</td>\n",
       "      <td>start_2020-04-01_end_2021-04-01_monitoring_cla...</td>\n",
       "      <td>1.0</td>\n",
       "      <td>2020-04-27</td>\n",
       "      <td>0_5</td>\n",
       "      <td>1.501758</td>\n",
       "      <td>train</td>\n",
       "      <td>POLYGON ((-48.343 -8.91709, -48.34291 -8.91718...</td>\n",
       "    </tr>\n",
       "    <tr>\n",
       "      <th>3</th>\n",
       "      <td>SUGAR_CANE</td>\n",
       "      <td>2020/2021</td>\n",
       "      <td>Agrosatélite - Canasat 2021/2022</td>\n",
       "      <td>cana_soca</td>\n",
       "      <td>TO</td>\n",
       "      <td>3603383.0</td>\n",
       "      <td>58</td>\n",
       "      <td></td>\n",
       "      <td>start_2020-04-01_end_2021-04-01_monitoring_cla...</td>\n",
       "      <td>2020-04-01</td>\n",
       "      <td>2021-04-01</td>\n",
       "      <td>2020-04-01</td>\n",
       "      <td>2021-04-01</td>\n",
       "      <td>start_2020-04-01_end_2021-04-01_monitoring_cla...</td>\n",
       "      <td>1.0</td>\n",
       "      <td>2020-04-27</td>\n",
       "      <td>0_6</td>\n",
       "      <td>1.493624</td>\n",
       "      <td>train</td>\n",
       "      <td>POLYGON ((-48.34644 -8.9189, -48.34626 -8.9190...</td>\n",
       "    </tr>\n",
       "    <tr>\n",
       "      <th>4</th>\n",
       "      <td>SUGAR_CANE</td>\n",
       "      <td>2020/2021</td>\n",
       "      <td>Agrosatélite - Canasat 2021/2022</td>\n",
       "      <td>cana_soca</td>\n",
       "      <td>TO</td>\n",
       "      <td>3603383.0</td>\n",
       "      <td>58</td>\n",
       "      <td></td>\n",
       "      <td>start_2020-04-01_end_2021-04-01_monitoring_cla...</td>\n",
       "      <td>2020-04-01</td>\n",
       "      <td>2021-04-01</td>\n",
       "      <td>2020-04-01</td>\n",
       "      <td>2021-04-01</td>\n",
       "      <td>start_2020-04-01_end_2021-04-01_monitoring_cla...</td>\n",
       "      <td>1.0</td>\n",
       "      <td>2020-04-27</td>\n",
       "      <td>0_7</td>\n",
       "      <td>1.746982</td>\n",
       "      <td>train</td>\n",
       "      <td>POLYGON ((-48.34119 -8.91971, -48.34119 -8.919...</td>\n",
       "    </tr>\n",
       "  </tbody>\n",
       "</table>\n",
       "</div>"
      ],
      "text/plain": [
       "  monitoring_class     period                             fonte  cultura_2  \\\n",
       "0       SUGAR_CANE  2020/2021  Agrosatélite - Canasat 2021/2022  cana_soca   \n",
       "1       SUGAR_CANE  2020/2021  Agrosatélite - Canasat 2021/2022  cana_soca   \n",
       "2       SUGAR_CANE  2020/2021  Agrosatélite - Canasat 2021/2022  cana_soca   \n",
       "3       SUGAR_CANE  2020/2021  Agrosatélite - Canasat 2021/2022  cana_soca   \n",
       "4       SUGAR_CANE  2020/2021  Agrosatélite - Canasat 2021/2022  cana_soca   \n",
       "\n",
       "  state       area  meso obs_extra  \\\n",
       "0    TO  3603383.0    58             \n",
       "1    TO  3603383.0    58             \n",
       "2    TO  3603383.0    58             \n",
       "3    TO  3603383.0    58             \n",
       "4    TO  3603383.0    58             \n",
       "\n",
       "                                     eopath_location start_season  end_season  \\\n",
       "0  start_2020-04-01_end_2021-04-01_monitoring_cla...   2020-04-01  2021-04-01   \n",
       "1  start_2020-04-01_end_2021-04-01_monitoring_cla...   2020-04-01  2021-04-01   \n",
       "2  start_2020-04-01_end_2021-04-01_monitoring_cla...   2020-04-01  2021-04-01   \n",
       "3  start_2020-04-01_end_2021-04-01_monitoring_cla...   2020-04-01  2021-04-01   \n",
       "4  start_2020-04-01_end_2021-04-01_monitoring_cla...   2020-04-01  2021-04-01   \n",
       "\n",
       "   peak_start    peak_end                           sentinel_eopatch_current  \\\n",
       "0  2020-04-01  2021-04-01  start_2020-04-01_end_2021-04-01_monitoring_cla...   \n",
       "1  2020-04-01  2021-04-01  start_2020-04-01_end_2021-04-01_monitoring_cla...   \n",
       "2  2020-04-01  2021-04-01  start_2020-04-01_end_2021-04-01_monitoring_cla...   \n",
       "3  2020-04-01  2021-04-01  start_2020-04-01_end_2021-04-01_monitoring_cla...   \n",
       "4  2020-04-01  2021-04-01  start_2020-04-01_end_2021-04-01_monitoring_cla...   \n",
       "\n",
       "   contour_score contour_selected_timestamp field_id  compac_index  \\\n",
       "0            1.0                 2020-04-27      0_2      1.433508   \n",
       "1            1.0                 2020-04-27      0_3      1.705125   \n",
       "2            1.0                 2020-04-27      0_5      1.501758   \n",
       "3            1.0                 2020-04-27      0_6      1.493624   \n",
       "4            1.0                 2020-04-27      0_7      1.746982   \n",
       "\n",
       "  dataset_part                                           geometry  \n",
       "0        train  POLYGON ((-48.34483 -8.91348, -48.34412 -8.913...  \n",
       "1        train  POLYGON ((-48.35083 -8.91933, -48.35008 -8.917...  \n",
       "2        train  POLYGON ((-48.343 -8.91709, -48.34291 -8.91718...  \n",
       "3        train  POLYGON ((-48.34644 -8.9189, -48.34626 -8.9190...  \n",
       "4        train  POLYGON ((-48.34119 -8.91971, -48.34119 -8.919...  "
      ]
     },
     "execution_count": 11,
     "metadata": {},
     "output_type": "execute_result"
    }
   ],
   "source": [
    "df.head()"
   ]
  },
  {
   "cell_type": "code",
   "execution_count": 12,
   "id": "19dac8b9-b584-4d79-a20e-2969838ab1c4",
   "metadata": {},
   "outputs": [
    {
     "data": {
      "text/plain": [
       "dataset_part\n",
       "train    91.362399\n",
       "test      4.510149\n",
       "val       4.127452\n",
       "Name: proportion, dtype: float64"
      ]
     },
     "execution_count": 12,
     "metadata": {},
     "output_type": "execute_result"
    }
   ],
   "source": [
    "df['dataset_part'].value_counts(normalize=True)*100"
   ]
  },
  {
   "cell_type": "code",
   "execution_count": 13,
   "id": "2e201081-806d-4b64-90ad-f865690da36a",
   "metadata": {},
   "outputs": [
    {
     "data": {
      "text/html": [
       "<div>\n",
       "<style scoped>\n",
       "    .dataframe tbody tr th:only-of-type {\n",
       "        vertical-align: middle;\n",
       "    }\n",
       "\n",
       "    .dataframe tbody tr th {\n",
       "        vertical-align: top;\n",
       "    }\n",
       "\n",
       "    .dataframe thead th {\n",
       "        text-align: right;\n",
       "    }\n",
       "</style>\n",
       "<table border=\"1\" class=\"dataframe\">\n",
       "  <thead>\n",
       "    <tr style=\"text-align: right;\">\n",
       "      <th></th>\n",
       "      <th>monitoring_class</th>\n",
       "      <th>dataset_part</th>\n",
       "      <th>count</th>\n",
       "    </tr>\n",
       "  </thead>\n",
       "  <tbody>\n",
       "    <tr>\n",
       "      <th>0</th>\n",
       "      <td>SUGAR_CANE</td>\n",
       "      <td>train</td>\n",
       "      <td>32229</td>\n",
       "    </tr>\n",
       "    <tr>\n",
       "      <th>1</th>\n",
       "      <td>SUGAR_CANE</td>\n",
       "      <td>test</td>\n",
       "      <td>1591</td>\n",
       "    </tr>\n",
       "    <tr>\n",
       "      <th>2</th>\n",
       "      <td>SUGAR_CANE</td>\n",
       "      <td>val</td>\n",
       "      <td>1456</td>\n",
       "    </tr>\n",
       "  </tbody>\n",
       "</table>\n",
       "</div>"
      ],
      "text/plain": [
       "  monitoring_class dataset_part  count\n",
       "0       SUGAR_CANE        train  32229\n",
       "1       SUGAR_CANE         test   1591\n",
       "2       SUGAR_CANE          val   1456"
      ]
     },
     "execution_count": 13,
     "metadata": {},
     "output_type": "execute_result"
    }
   ],
   "source": [
    "report_geopackage = df.groupby(['monitoring_class', 'dataset_part'], as_index=False)\\\n",
    "                            .agg(count=('state','count'))\\\n",
    "                            .sort_values(['monitoring_class', 'count'], ascending=[False, False]).reset_index(drop=True)\n",
    "report_geopackage"
   ]
  },
  {
   "cell_type": "markdown",
   "id": "82e11a64-c1b8-4cac-b156-06da62909827",
   "metadata": {},
   "source": [
    "# 2. Read eopatch files from Local disk\n",
    "\n",
    "## 2.1 Open files"
   ]
  },
  {
   "cell_type": "code",
   "execution_count": 14,
   "id": "f12e1c37-8942-452a-bc10-0f86e88ef631",
   "metadata": {},
   "outputs": [],
   "source": [
    "OUTPUT_DATASETS_PATH_LOCAL =\"/agrilearn_app/datasets/eopatchs/processed/cana/**\"\n",
    "df_eopatch_files = eopatch_utils.get_local_path_from_eopatch(OUTPUT_DATASETS_PATH_LOCAL,\n",
    "                                                             new_label='path')"
   ]
  },
  {
   "cell_type": "code",
   "execution_count": 15,
   "id": "13a93418-a3a0-48f6-8d52-fb54288429c1",
   "metadata": {},
   "outputs": [
    {
     "data": {
      "text/html": [
       "<div>\n",
       "<style scoped>\n",
       "    .dataframe tbody tr th:only-of-type {\n",
       "        vertical-align: middle;\n",
       "    }\n",
       "\n",
       "    .dataframe tbody tr th {\n",
       "        vertical-align: top;\n",
       "    }\n",
       "\n",
       "    .dataframe thead th {\n",
       "        text-align: right;\n",
       "    }\n",
       "</style>\n",
       "<table border=\"1\" class=\"dataframe\">\n",
       "  <thead>\n",
       "    <tr style=\"text-align: right;\">\n",
       "      <th></th>\n",
       "      <th>path</th>\n",
       "    </tr>\n",
       "  </thead>\n",
       "  <tbody>\n",
       "    <tr>\n",
       "      <th>0</th>\n",
       "      <td>/agrilearn_app/datasets/eopatchs/processed/can...</td>\n",
       "    </tr>\n",
       "    <tr>\n",
       "      <th>1</th>\n",
       "      <td>/agrilearn_app/datasets/eopatchs/processed/can...</td>\n",
       "    </tr>\n",
       "    <tr>\n",
       "      <th>2</th>\n",
       "      <td>/agrilearn_app/datasets/eopatchs/processed/can...</td>\n",
       "    </tr>\n",
       "    <tr>\n",
       "      <th>3</th>\n",
       "      <td>/agrilearn_app/datasets/eopatchs/processed/can...</td>\n",
       "    </tr>\n",
       "    <tr>\n",
       "      <th>4</th>\n",
       "      <td>/agrilearn_app/datasets/eopatchs/processed/can...</td>\n",
       "    </tr>\n",
       "  </tbody>\n",
       "</table>\n",
       "</div>"
      ],
      "text/plain": [
       "                                                path\n",
       "0  /agrilearn_app/datasets/eopatchs/processed/can...\n",
       "1  /agrilearn_app/datasets/eopatchs/processed/can...\n",
       "2  /agrilearn_app/datasets/eopatchs/processed/can...\n",
       "3  /agrilearn_app/datasets/eopatchs/processed/can...\n",
       "4  /agrilearn_app/datasets/eopatchs/processed/can..."
      ]
     },
     "execution_count": 15,
     "metadata": {},
     "output_type": "execute_result"
    }
   ],
   "source": [
    "df_eopatch_files.head()"
   ]
  },
  {
   "cell_type": "markdown",
   "id": "787ba100-2ef8-4558-887d-a1af4419c35e",
   "metadata": {},
   "source": [
    "## 2.2 Create new Features"
   ]
  },
  {
   "cell_type": "code",
   "execution_count": 16,
   "id": "90d4f70b-058f-4384-8952-ae56e1d375b3",
   "metadata": {},
   "outputs": [],
   "source": [
    "df_eopatch_files['dataset_part'] = str_utils.get_series_from_string_list(df_eopatch_files['path'], categories=['train', 'val', 'test'])\n",
    "df_eopatch_files['monitoring_class'] = str_utils.get_series_from_string_list(df_eopatch_files['path'], categories=['cana'])"
   ]
  },
  {
   "cell_type": "code",
   "execution_count": 17,
   "id": "554b6780-31d8-4555-bd45-1480f1f194c8",
   "metadata": {},
   "outputs": [
    {
     "data": {
      "text/plain": [
       "dataset_part\n",
       "train    32229\n",
       "test      1591\n",
       "val       1456\n",
       "Name: count, dtype: int64"
      ]
     },
     "execution_count": 17,
     "metadata": {},
     "output_type": "execute_result"
    }
   ],
   "source": [
    "df_eopatch_files['dataset_part'].value_counts()"
   ]
  },
  {
   "cell_type": "markdown",
   "id": "efdfa19f-05f0-4dc2-a74c-13585268f2a8",
   "metadata": {},
   "source": [
    "## 2.3 Report Generation"
   ]
  },
  {
   "cell_type": "code",
   "execution_count": 18,
   "id": "9cf6376c-db42-49dc-96bd-b2c669c18b13",
   "metadata": {},
   "outputs": [
    {
     "data": {
      "text/html": [
       "<div>\n",
       "<style scoped>\n",
       "    .dataframe tbody tr th:only-of-type {\n",
       "        vertical-align: middle;\n",
       "    }\n",
       "\n",
       "    .dataframe tbody tr th {\n",
       "        vertical-align: top;\n",
       "    }\n",
       "\n",
       "    .dataframe thead th {\n",
       "        text-align: right;\n",
       "    }\n",
       "</style>\n",
       "<table border=\"1\" class=\"dataframe\">\n",
       "  <thead>\n",
       "    <tr style=\"text-align: right;\">\n",
       "      <th></th>\n",
       "      <th>monitoring_class</th>\n",
       "      <th>dataset_part</th>\n",
       "      <th>count</th>\n",
       "    </tr>\n",
       "  </thead>\n",
       "  <tbody>\n",
       "    <tr>\n",
       "      <th>0</th>\n",
       "      <td>cana</td>\n",
       "      <td>train</td>\n",
       "      <td>32229</td>\n",
       "    </tr>\n",
       "    <tr>\n",
       "      <th>1</th>\n",
       "      <td>cana</td>\n",
       "      <td>test</td>\n",
       "      <td>1591</td>\n",
       "    </tr>\n",
       "    <tr>\n",
       "      <th>2</th>\n",
       "      <td>cana</td>\n",
       "      <td>val</td>\n",
       "      <td>1456</td>\n",
       "    </tr>\n",
       "  </tbody>\n",
       "</table>\n",
       "</div>"
      ],
      "text/plain": [
       "  monitoring_class dataset_part  count\n",
       "0             cana        train  32229\n",
       "1             cana         test   1591\n",
       "2             cana          val   1456"
      ]
     },
     "execution_count": 18,
     "metadata": {},
     "output_type": "execute_result"
    }
   ],
   "source": [
    "report_eopatch = df_eopatch_files.groupby(['monitoring_class', 'dataset_part'], as_index=False)\\\n",
    "                                        .agg(count=('path','count'))\\\n",
    "                                        .sort_values(['monitoring_class', 'count'], ascending=[False, False]).reset_index(drop=True)\n",
    "report_eopatch"
   ]
  },
  {
   "cell_type": "markdown",
   "id": "96cbad7a-1e12-4a9f-8fc1-a62a9e5930ed",
   "metadata": {},
   "source": [
    "# 3. Compare files between Geopackage and Eopatch"
   ]
  },
  {
   "cell_type": "code",
   "execution_count": 19,
   "id": "1e0fcf12-a4c0-4ca5-8f20-b70442a14cbc",
   "metadata": {},
   "outputs": [
    {
     "data": {
      "text/html": [
       "<div>\n",
       "<style scoped>\n",
       "    .dataframe tbody tr th:only-of-type {\n",
       "        vertical-align: middle;\n",
       "    }\n",
       "\n",
       "    .dataframe tbody tr th {\n",
       "        vertical-align: top;\n",
       "    }\n",
       "\n",
       "    .dataframe thead th {\n",
       "        text-align: right;\n",
       "    }\n",
       "</style>\n",
       "<table border=\"1\" class=\"dataframe\">\n",
       "  <thead>\n",
       "    <tr style=\"text-align: right;\">\n",
       "      <th></th>\n",
       "      <th>monitoring_class</th>\n",
       "      <th>dataset_part</th>\n",
       "      <th>count</th>\n",
       "    </tr>\n",
       "  </thead>\n",
       "  <tbody>\n",
       "    <tr>\n",
       "      <th>0</th>\n",
       "      <td>cana</td>\n",
       "      <td>train</td>\n",
       "      <td>32229</td>\n",
       "    </tr>\n",
       "    <tr>\n",
       "      <th>1</th>\n",
       "      <td>cana</td>\n",
       "      <td>test</td>\n",
       "      <td>1591</td>\n",
       "    </tr>\n",
       "    <tr>\n",
       "      <th>2</th>\n",
       "      <td>cana</td>\n",
       "      <td>val</td>\n",
       "      <td>1456</td>\n",
       "    </tr>\n",
       "    <tr>\n",
       "      <th>0</th>\n",
       "      <td>SUGAR_CANE</td>\n",
       "      <td>train</td>\n",
       "      <td>32229</td>\n",
       "    </tr>\n",
       "    <tr>\n",
       "      <th>1</th>\n",
       "      <td>SUGAR_CANE</td>\n",
       "      <td>test</td>\n",
       "      <td>1591</td>\n",
       "    </tr>\n",
       "    <tr>\n",
       "      <th>2</th>\n",
       "      <td>SUGAR_CANE</td>\n",
       "      <td>val</td>\n",
       "      <td>1456</td>\n",
       "    </tr>\n",
       "  </tbody>\n",
       "</table>\n",
       "</div>"
      ],
      "text/plain": [
       "  monitoring_class dataset_part  count\n",
       "0             cana        train  32229\n",
       "1             cana         test   1591\n",
       "2             cana          val   1456\n",
       "0       SUGAR_CANE        train  32229\n",
       "1       SUGAR_CANE         test   1591\n",
       "2       SUGAR_CANE          val   1456"
      ]
     },
     "execution_count": 19,
     "metadata": {},
     "output_type": "execute_result"
    }
   ],
   "source": [
    "pd.concat([report_eopatch, report_geopackage])"
   ]
  },
  {
   "cell_type": "code",
   "execution_count": 20,
   "id": "f3b51e99-7987-44b0-9997-2dacfd68783c",
   "metadata": {},
   "outputs": [
    {
     "name": "stdout",
     "output_type": "stream",
     "text": [
      "Se True então os reports são iguais e todas as imagens foram baixadas\n"
     ]
    }
   ],
   "source": [
    "print('Se True então os reports são iguais e todas as imagens foram baixadas')"
   ]
  },
  {
   "cell_type": "code",
   "execution_count": 21,
   "id": "064259fe-cfb1-4528-90ed-a8910474b8ab",
   "metadata": {},
   "outputs": [
    {
     "data": {
      "text/plain": [
       "False"
      ]
     },
     "execution_count": 21,
     "metadata": {},
     "output_type": "execute_result"
    }
   ],
   "source": [
    "report_eopatch.equals(report_geopackage)"
   ]
  },
  {
   "cell_type": "code",
   "execution_count": null,
   "id": "cc4c276b-24fc-4041-8e9c-bbe7cfb79a44",
   "metadata": {},
   "outputs": [],
   "source": []
  }
 ],
 "metadata": {
  "kernelspec": {
   "display_name": "Python 3 (ipykernel)",
   "language": "python",
   "name": "python3"
  },
  "language_info": {
   "codemirror_mode": {
    "name": "ipython",
    "version": 3
   },
   "file_extension": ".py",
   "mimetype": "text/x-python",
   "name": "python",
   "nbconvert_exporter": "python",
   "pygments_lexer": "ipython3",
   "version": "3.10.12"
  }
 },
 "nbformat": 4,
 "nbformat_minor": 5
}
