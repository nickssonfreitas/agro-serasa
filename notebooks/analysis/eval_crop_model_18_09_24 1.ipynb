{
 "cells": [
  {
   "cell_type": "code",
   "execution_count": 1,
   "metadata": {},
   "outputs": [],
   "source": [
    "# Load the auto reload extension to automatically reload modules when files on disk are updated\n",
    "%load_ext autoreload\n",
    "# it will automatically be reloaded without the need to restart the kernel.\n",
    "%autoreload 2"
   ]
  },
  {
   "cell_type": "code",
   "execution_count": 6,
   "metadata": {},
   "outputs": [],
   "source": [
    "import pandas as pd\n",
    "import geopandas as gpd\n",
    "import matplotlib.pyplot as plt\n",
    "import numpy as np\n",
    "import os\n",
    "from tqdm import tqdm\n",
    "from glob import glob\n",
    "from agrilearn.crop_classification import evaluate_utils as eval_util"
   ]
  },
  {
   "cell_type": "code",
   "execution_count": 7,
   "metadata": {},
   "outputs": [],
   "source": [
    "# Models and checkpoint path\n",
    "DATASET_NAME = \"teste_pre_safra_2024_2025\"\n",
    "GEOPACKAGE_PATH = \"/agrilearn_app/datasets/teste_pre_safra_2024_2025/geopackage/processed/data_merged_crop_120_06_08_2024_input_mvp_processing.gpkg\"\n",
    "\n",
    "EOPATCH_PATH = f\"/agrilearn_app/datasets/{DATASET_NAME}/eopatch/input_train/\"\n",
    "OUTPUT_PREDICTIONS = f\"/agrilearn_app/output/experiment_01/predictions/{DATASET_NAME}\"\n",
    "OUTPUT_RESULTS = f\"/agrilearn_app/output/experiment_01/results/{DATASET_NAME}\""
   ]
  },
  {
   "cell_type": "code",
   "execution_count": null,
   "metadata": {},
   "outputs": [],
   "source": [
    "## 1. Read Dataset"
   ]
  },
  {
   "cell_type": "code",
   "execution_count": 5,
   "metadata": {},
   "outputs": [
    {
     "name": "stdout",
     "output_type": "stream",
     "text": [
      "There are 8340 files to read\n"
     ]
    },
    {
     "name": "stderr",
     "output_type": "stream",
     "text": [
      "Reading files:: 100%|██████████████████████████| 8340/8340 [00:34<00:00, 238.61it/s]\n"
     ]
    }
   ],
   "source": [
    "df = evaluate_utils.read_multiplies_files_from_path(OUTPUT_PREDICTIONS)"
   ]
  },
  {
   "cell_type": "code",
   "execution_count": null,
   "metadata": {},
   "outputs": [],
   "source": [
    "df.head()"
   ]
  },
  {
   "cell_type": "code",
   "execution_count": null,
   "metadata": {},
   "outputs": [],
   "source": []
  },
  {
   "cell_type": "code",
   "execution_count": null,
   "metadata": {},
   "outputs": [],
   "source": []
  },
  {
   "cell_type": "code",
   "execution_count": null,
   "metadata": {},
   "outputs": [],
   "source": [
    "import plotly.graph_objects as go\n",
    "\n",
    "fig_html = create_sankey_figure_html(df_=df,\n",
    "                                     label_true='monitoring_class',\n",
    "                                     label_pred='crop_class_rnn')"
   ]
  },
  {
   "cell_type": "code",
   "execution_count": null,
   "metadata": {},
   "outputs": [],
   "source": [
    "fig_html"
   ]
  },
  {
   "cell_type": "code",
   "execution_count": null,
   "metadata": {},
   "outputs": [],
   "source": [
    "source_target = prepate_data_to_sankey(df_=df,\n",
    "                                       label_true='monitoring_class',\n",
    "                                       label_pred='crop_class_rnn')\n"
   ]
  },
  {
   "cell_type": "code",
   "execution_count": null,
   "metadata": {},
   "outputs": [],
   "source": [
    "source_target"
   ]
  },
  {
   "cell_type": "code",
   "execution_count": null,
   "metadata": {},
   "outputs": [],
   "source": [
    "source_target['target']"
   ]
  },
  {
   "cell_type": "code",
   "execution_count": null,
   "metadata": {},
   "outputs": [],
   "source": []
  },
  {
   "cell_type": "code",
   "execution_count": null,
   "metadata": {},
   "outputs": [],
   "source": []
  },
  {
   "cell_type": "code",
   "execution_count": null,
   "metadata": {},
   "outputs": [],
   "source": [
    "fig_html"
   ]
  },
  {
   "cell_type": "code",
   "execution_count": null,
   "metadata": {},
   "outputs": [],
   "source": []
  },
  {
   "cell_type": "code",
   "execution_count": null,
   "metadata": {},
   "outputs": [],
   "source": []
  },
  {
   "cell_type": "code",
   "execution_count": null,
   "metadata": {},
   "outputs": [],
   "source": []
  },
  {
   "cell_type": "code",
   "execution_count": null,
   "metadata": {},
   "outputs": [],
   "source": []
  },
  {
   "cell_type": "code",
   "execution_count": null,
   "metadata": {},
   "outputs": [],
   "source": []
  },
  {
   "cell_type": "code",
   "execution_count": null,
   "metadata": {},
   "outputs": [],
   "source": [
    "# Identificar todas as classes únicas (real e predito)\n",
    "unique_classes = pd.Index(\n",
    "    pd.concat([source_target[label_true], source_target[label_pred]]).unique())\n",
    "unique_classes"
   ]
  },
  {
   "cell_type": "code",
   "execution_count": null,
   "metadata": {},
   "outputs": [],
   "source": [
    "classes_index = {name: idx for idx, name in enumerate(unique_classes)}\n",
    "classes_index"
   ]
  },
  {
   "cell_type": "code",
   "execution_count": null,
   "metadata": {},
   "outputs": [],
   "source": [
    "# Mapear as classes para índices numéricos\n",
    "source_target['source'] = source_target[label_true].map(classes_index)\n",
    "source_target['target'] = source_target[label_pred].map(classes_index)"
   ]
  },
  {
   "cell_type": "code",
   "execution_count": null,
   "metadata": {},
   "outputs": [],
   "source": [
    "source_target"
   ]
  },
  {
   "cell_type": "code",
   "execution_count": null,
   "metadata": {},
   "outputs": [],
   "source": [
    "colorDict={\n",
    "                         'SOYBEAN': '#f71b1b',\n",
    "                         'CORN': '#1b7ef7',\n",
    "                         'COTTON': '#f3f71b',\n",
    "                         'RICE': '#12e23f',\n",
    "                         'SUGAR_CANE': '#f78c1b',\n",
    "                         'WHEAT': '#1bf7e2',\n",
    "                         'PASTURE': '#1bf7e2'\n",
    "                     }"
   ]
  },
  {
   "cell_type": "code",
   "execution_count": null,
   "metadata": {},
   "outputs": [],
   "source": [
    "class_colors = [colorDict[cls] for cls in source_target[label_true].unique(\n",
    ")] + [colorDict[cls] for cls in source_target[label_pred].unique()]\n",
    "class_colors"
   ]
  },
  {
   "cell_type": "code",
   "execution_count": null,
   "metadata": {},
   "outputs": [],
   "source": [
    "unique_classes.tolist()"
   ]
  },
  {
   "cell_type": "code",
   "execution_count": null,
   "metadata": {},
   "outputs": [],
   "source": [
    "# Criar o gráfico Sankey\n",
    "import plotly.graph_objects as go\n",
    "\n",
    "fig = go.Figure(data=[go.Sankey(\n",
    "    node=dict(\n",
    "        pad=15,\n",
    "        thickness=20,\n",
    "        line=dict(color=\"black\", width=0.5),\n",
    "        label=unique_classes.tolist(),\n",
    "        color='blue'\n",
    "    ),\n",
    "    link=dict(\n",
    "        source=source_target['source'],\n",
    "        target=source_target['target'],\n",
    "        value=source_target['count'],\n",
    "        hovercolor=[\"midnightblue\", \"lightskyblue\", \"gold\", \"mediumturquoise\", \"lightgreen\", \"cyan\"]\n",
    "    )\n",
    ")])\n",
    "fig"
   ]
  },
  {
   "cell_type": "code",
   "execution_count": null,
   "metadata": {},
   "outputs": [],
   "source": [
    "source_target"
   ]
  },
  {
   "cell_type": "code",
   "execution_count": null,
   "metadata": {},
   "outputs": [],
   "source": [
    "# Layout do gráfico\n",
    "fig.update_layout(\n",
    "    title_text=\"Gráfico Sankey: Relação entre Real e Predito\",\n",
    "    font_size=12,\n",
    "    width=700,\n",
    "    height=800)\n",
    "\n",
    "fig"
   ]
  },
  {
   "cell_type": "code",
   "execution_count": null,
   "metadata": {},
   "outputs": [],
   "source": [
    "from pysankey import sankey"
   ]
  },
  {
   "cell_type": "code",
   "execution_count": null,
   "metadata": {},
   "outputs": [],
   "source": [
    "gdf[label_true].values[1:]"
   ]
  },
  {
   "cell_type": "code",
   "execution_count": null,
   "metadata": {},
   "outputs": [],
   "source": []
  },
  {
   "cell_type": "code",
   "execution_count": null,
   "metadata": {},
   "outputs": [],
   "source": [
    "ax = sankey(\n",
    "    left=source_target[label_true], \n",
    "    right=source_target[label_pred],\n",
    "    leftWeight=source_target['source'],\n",
    "    rightWeight=source_target['target'],\n",
    "    colorDict=colorDict,\n",
    "    fontsize=12,\n",
    "    aspect=20,\n",
    "    color_gradient=True\n",
    ")"
   ]
  },
  {
   "cell_type": "code",
   "execution_count": null,
   "metadata": {},
   "outputs": [],
   "source": [
    "OUTPUT_RESULTS"
   ]
  },
  {
   "cell_type": "code",
   "execution_count": null,
   "metadata": {},
   "outputs": [],
   "source": [
    "ax.figure.savefig('/agrilearn_app/output/experiment_01/results/teste_pre_safra_2024_2025/sankey.png')"
   ]
  },
  {
   "cell_type": "code",
   "execution_count": null,
   "metadata": {},
   "outputs": [],
   "source": []
  },
  {
   "cell_type": "code",
   "execution_count": null,
   "metadata": {},
   "outputs": [],
   "source": []
  },
  {
   "cell_type": "code",
   "execution_count": null,
   "metadata": {},
   "outputs": [],
   "source": []
  },
  {
   "cell_type": "code",
   "execution_count": null,
   "metadata": {},
   "outputs": [],
   "source": []
  },
  {
   "cell_type": "code",
   "execution_count": null,
   "metadata": {},
   "outputs": [],
   "source": [
    "# gdf.period.unique()\n",
    "\n",
    "# # select only the ones of first season\n",
    "# gdf = gdf[gdf.period.isin(['2021/2022', '2020/2021', '2019/2020', '2023/2024',\n",
    "#                                               '2017/2018', '2018/2019', '2022/2023'])]"
   ]
  },
  {
   "cell_type": "code",
   "execution_count": null,
   "metadata": {},
   "outputs": [],
   "source": [
    "# gdf[(gdf[\"gt_class\"] == \"SUGAR_CANE\")].crop_class_rnn.value_counts().to_frame()"
   ]
  },
  {
   "cell_type": "code",
   "execution_count": null,
   "metadata": {},
   "outputs": [],
   "source": [
    "# gdf_valid = gdf[['crop_class_gt', 'crop_class_rnn']].dropna()\n",
    "# gdf_valid = gdf_valid[~gdf_valid.crop_class_gt.isin([\"WHEAT\",\"SUGAR_CANE\"])] "
   ]
  },
  {
   "cell_type": "code",
   "execution_count": null,
   "metadata": {},
   "outputs": [],
   "source": [
    "# gdf_valid.crop_class_rnn.value_counts()"
   ]
  },
  {
   "cell_type": "code",
   "execution_count": null,
   "metadata": {},
   "outputs": [],
   "source": [
    "# colorDict"
   ]
  },
  {
   "cell_type": "code",
   "execution_count": null,
   "metadata": {},
   "outputs": [],
   "source": [
    "# gdf_valid.crop_class_gt.value_counts()"
   ]
  },
  {
   "cell_type": "code",
   "execution_count": null,
   "metadata": {},
   "outputs": [],
   "source": [
    "# Calculate the percentage of each combination of class_gt and class_pred\n",
    "combination_counts = gdf_valid.groupby(['crop_class_gt', 'crop_class_rnn']).size().reset_index(name='count')\n",
    "total_counts = gdf_valid['crop_class_gt'].value_counts().reset_index()\n",
    "total_counts.columns = ['crop_class_gt', 'total_count']\n",
    "\n",
    "# Merge the counts to calculate the percentage\n",
    "merged_counts = combination_counts.merge(total_counts, on='crop_class_gt')\n",
    "merged_counts['value'] = (merged_counts['count'] / merged_counts['total_count']) * 100\n",
    "\n",
    "# Create the final dataframe\n",
    "final_df = merged_counts[['crop_class_gt', 'crop_class_rnn', 'value']]\n",
    "final_df.columns = ['class_gt', 'class_pred', 'value']\n",
    "\n",
    "print(final_df)"
   ]
  },
  {
   "cell_type": "code",
   "execution_count": null,
   "metadata": {},
   "outputs": [],
   "source": [
    "# Prepare data for Sankey diagram\n",
    "label_list = list(colorDict.keys())\n",
    "# source_indices = final_df['class_gt'].apply(lambda x: label_list.index(x)).tolist()\n",
    "# target_indices = final_df['class_pred'].apply(lambda x: label_list.index(x) + len(colorDict)).tolist()\n",
    "values = final_df['value'].tolist()"
   ]
  },
  {
   "cell_type": "code",
   "execution_count": null,
   "metadata": {},
   "outputs": [],
   "source": [
    "index_to_class = {cls: idx for idx, cls in enumerate(final_df['class_gt'].unique())}"
   ]
  },
  {
   "cell_type": "code",
   "execution_count": null,
   "metadata": {
    "vscode": {
     "languageId": "ruby"
    }
   },
   "outputs": [],
   "source": [
    "source_indices = final_df['class_gt'].map(index_to_class).tolist()\n",
    "target_indices = final_df['class_pred'].map(index_to_class).tolist()\n",
    "target_indices = [x + 4 for x in target_indices]"
   ]
  },
  {
   "cell_type": "code",
   "execution_count": null,
   "metadata": {},
   "outputs": [],
   "source": [
    "import plotly.graph_objects as go\n",
    "\n",
    "\n",
    "# Create a color for each class\n",
    "class_colors = [colorDict[cls] for cls in final_df['class_gt'].unique()] + [colorDict[cls] for cls in final_df['class_pred'].unique()]\n",
    "\n",
    "fig = go.Figure(data=[go.Sankey(\n",
    "  node = dict(\n",
    "    pad = 15,\n",
    "    thickness = 20,\n",
    "    line = dict(color = \"black\", width = 0.5),\n",
    "    label = final_df['class_gt'].unique().tolist() + final_df['class_pred'].unique().tolist(),\n",
    "    color = class_colors\n",
    "  ),\n",
    "  link = dict(\n",
    "    source = source_indices,\n",
    "    target = target_indices,\n",
    "    value = values,\n",
    "    color=[        class_colors[src] if final_df.iloc[i]['class_gt'] != final_df.iloc[i]['class_pred'] \n",
    "        else f\"rgba({int(class_colors[src][1:3], 16)}, {int(class_colors[src][3:5], 16)}, {int(class_colors[src][5:7], 16)}, 0.4)\"\n",
    "        for i, src in enumerate(source_indices)],\n",
    "  ))])\n",
    "\n",
    "fig.update_layout(width=700, height=800)\n",
    "# fig.update_layout(title_text=\"Basic Sankey Diagram\", font_size=10)\n",
    "fig.show()\n",
    "\n",
    "# fix the plot"
   ]
  },
  {
   "cell_type": "code",
   "execution_count": null,
   "metadata": {},
   "outputs": [],
   "source": [
    "gdf.period.unique()"
   ]
  },
  {
   "cell_type": "code",
   "execution_count": null,
   "metadata": {},
   "outputs": [],
   "source": [
    "# Reset matplotlib settings to default\n",
    "plt.rcdefaults()\n",
    "\n",
    "gdf_not_null = gdf[gdf.crop_class_rnn.notnull()]\n",
    "\n",
    "# Define the true labels and predicted labels\n",
    "true_labels = gdf_not_null['crop_class_gt']\n",
    "predicted_labels = gdf_not_null['crop_class_rnn']\n",
    "\n",
    "labels = list(set(np.concatenate((gdf_not_null['crop_class_gt'].unique(), gdf_not_null['crop_class_rnn'].unique())).tolist()))\n",
    "\n",
    "# Create the confusion matrix\n",
    "cm = confusion_matrix(true_labels, predicted_labels, labels=labels)\n",
    "\n",
    "# Display the confusion matrix\n",
    "disp = ConfusionMatrixDisplay(confusion_matrix=cm, display_labels=labels)\n",
    "disp.plot(cmap=\"Reds\",text_kw={'size': 14})\n",
    "plt.xticks(fontsize=8)\n",
    "plt.yticks(fontsize=8)\n",
    "\n",
    "plt.title(\"Confusion matrix considering all samples\", fontdict={'fontsize': 10})\n",
    "\n",
    "plt.show()"
   ]
  },
  {
   "cell_type": "code",
   "execution_count": null,
   "metadata": {},
   "outputs": [],
   "source": [
    "# Reset matplotlib settings to default\n",
    "plt.rcdefaults()\n",
    "\n",
    "gdf_not_null_score = gdf_not_null[pd.to_numeric(gdf_not_null['crop_score_rnn']) > 0.6]  \n",
    "\n",
    "# Define the true labels and predicted labels\n",
    "true_labels = gdf_not_null_score['crop_class_gt']\n",
    "predicted_labels = gdf_not_null_score['crop_class_rnn']\n",
    "\n",
    "labels = list(set(np.concatenate((gdf_not_null_score['crop_class_gt'].unique(), gdf_not_null_score['crop_class_rnn'].unique())).tolist()))\n",
    "\n",
    "# Create the confusion matrix\n",
    "cm_score = confusion_matrix(true_labels, predicted_labels, labels=labels)\n",
    "\n",
    "# Display the confusion matrix\n",
    "disp = ConfusionMatrixDisplay(confusion_matrix=cm_score, display_labels=labels)\n",
    "disp.plot(cmap=\"Reds\",text_kw={'size': 14})\n",
    "plt.xticks(fontsize=8)\n",
    "plt.yticks(fontsize=8)\n",
    "\n",
    "plt.title(\"Confusion matrix considering samples with score above 0.6 (HIGH)\", fontdict={'fontsize': 10})\n",
    "\n",
    "plt.show()"
   ]
  },
  {
   "cell_type": "code",
   "execution_count": null,
   "metadata": {},
   "outputs": [],
   "source": [
    "# Calculate the difference between the two confusion matrices\n",
    "cm_diff = cm_score - cm\n",
    "\n",
    "# Calculate the difference in percentage\n",
    "cm_diff_percentage = (cm_diff / cm) * 100\n",
    "cm_diff_percentage = np.nan_to_num(cm_diff_percentage)  # Replace NaN with 0\n",
    "\n",
    "# Display the difference in percentage confusion matrix\n",
    "disp_diff_percentage = ConfusionMatrixDisplay(confusion_matrix=cm_diff_percentage, display_labels=labels)\n",
    "disp_diff_percentage.plot(cmap=\"Blues_r\", text_kw={'size': 14})\n",
    "plt.xticks(fontsize=8)\n",
    "plt.yticks(fontsize=8)\n",
    "\n",
    "plt.title(\"Relative difference between confusion matrices \\n(all samples - samples with score > 0.6)\", fontdict={'fontsize': 10})\n",
    "\n",
    "\n",
    "plt.show()"
   ]
  },
  {
   "cell_type": "code",
   "execution_count": null,
   "metadata": {},
   "outputs": [],
   "source": [
    "# get percentage of nulls in column crop_class_rnn in gdf \n",
    "gdf['crop_class_rnn'].isnull().sum() / gdf.shape[0] *100"
   ]
  },
  {
   "cell_type": "code",
   "execution_count": null,
   "metadata": {},
   "outputs": [],
   "source": [
    "gdf.shape[0]"
   ]
  },
  {
   "cell_type": "code",
   "execution_count": null,
   "metadata": {},
   "outputs": [],
   "source": [
    "gdf['crop_class_rnn'].isnull().sum()"
   ]
  },
  {
   "cell_type": "code",
   "execution_count": null,
   "metadata": {},
   "outputs": [],
   "source": [
    "gdf[[\"crop_class_gt\"]].value_counts().to_frame()\n",
    "#"
   ]
  },
  {
   "cell_type": "code",
   "execution_count": null,
   "metadata": {},
   "outputs": [],
   "source": [
    "gdf_high = gdf[pd.to_numeric(gdf.crop_score_rnn) >= 0.6]\n",
    "gdf_medium = gdf[(pd.to_numeric(gdf.crop_score_rnn) < 0.6) & (pd.to_numeric(gdf.crop_score_rnn) >= 0.5)]\n",
    "gdf_low = gdf[pd.to_numeric(gdf.crop_score_rnn) < 0.5]"
   ]
  },
  {
   "cell_type": "code",
   "execution_count": null,
   "metadata": {},
   "outputs": [],
   "source": [
    "len(gdf_high)/len(gdf) * 100, len(gdf_medium)/len(gdf) * 100, len(gdf_low)/len(gdf) * 100"
   ]
  },
  {
   "cell_type": "code",
   "execution_count": null,
   "metadata": {},
   "outputs": [],
   "source": [
    "gdf_high[(gdf_high[\"crop_class_gt\"] == \"SOYBEAN\")].crop_class_rnn.value_counts().to_frame()"
   ]
  },
  {
   "cell_type": "code",
   "execution_count": null,
   "metadata": {
    "vscode": {
     "languageId": "ruby"
    }
   },
   "outputs": [],
   "source": [
    "# calculate the total omission for each class in bucket HIGH\n",
    "\n",
    "interest_class = \"RICE\"\n",
    "\n",
    "# Filter the dataframe for the specific crop_class_gt\n",
    "filtered_df = gdf_high[gdf_high[\"crop_class_gt\"] == interest_class]\n",
    "\n",
    "# Calculate the sum of values where crop_class_rnn is different from crop_class_gt\n",
    "sum_diff = filtered_df[filtered_df[\"crop_class_rnn\"] != interest_class][\"crop_class_rnn\"].value_counts().sum()\n",
    "\n",
    "# Calculate the total sum of values\n",
    "total_sum = filtered_df[\"crop_class_rnn\"].value_counts().sum()\n",
    "\n",
    "# Calculate the ratio\n",
    "ratio = sum_diff / total_sum * 100\n",
    "\n",
    "print(f\"Ratio of different crop_class_rnn to total: {ratio}\")"
   ]
  },
  {
   "cell_type": "code",
   "execution_count": null,
   "metadata": {
    "vscode": {
     "languageId": "ruby"
    }
   },
   "outputs": [],
   "source": []
  }
 ],
 "metadata": {
  "kernelspec": {
   "display_name": "Python 3 (ipykernel)",
   "language": "python",
   "name": "python3"
  },
  "language_info": {
   "codemirror_mode": {
    "name": "ipython",
    "version": 3
   },
   "file_extension": ".py",
   "mimetype": "text/x-python",
   "name": "python",
   "nbconvert_exporter": "python",
   "pygments_lexer": "ipython3",
   "version": "3.10.12"
  }
 },
 "nbformat": 4,
 "nbformat_minor": 4
}
