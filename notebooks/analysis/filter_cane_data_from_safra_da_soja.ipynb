{
 "cells": [
  {
   "cell_type": "code",
   "execution_count": 1,
   "id": "5885c057-e8e2-4a38-b6a7-5c45d78569b3",
   "metadata": {},
   "outputs": [],
   "source": [
    "# Load the auto reload extension to automatically reload modules when files on disk are updated\n",
    "%load_ext autoreload\n",
    "# it will automatically be reloaded without the need to restart the kernel.\n",
    "%autoreload 2"
   ]
  },
  {
   "cell_type": "code",
   "execution_count": 2,
   "id": "88292bea-f53b-4327-9a4c-070d082f1e3c",
   "metadata": {},
   "outputs": [],
   "source": [
    "import boto3\n",
    "import geopandas as gpd\n",
    "from io import BytesIO\n",
    "import pandas as pd\n",
    "from folium import GeoJson\n",
    "import folium\n",
    "import numpy as np\n",
    "from tqdm import tqdm\n",
    "from glob import glob\n",
    "#import local modules\n",
    "import sys\n",
    "from eolearn.core import EOPatch\n",
    "\n",
    "sys.path.append(\"/agrilearn_app/agrilearn/\")\n",
    "from agrilearn.utils import s3_utils, str_utils, eopatch_utils\n",
    "from agrilearn.mvp import gpkg_utils\n",
    "from agrilearn.commons.crop_calendar import (CropCalendar)"
   ]
  },
  {
   "cell_type": "markdown",
   "id": "ae633dbe-1f48-4b49-a2c1-96d6d2d60d1f",
   "metadata": {},
   "source": [
    "## Global variables"
   ]
  },
  {
   "cell_type": "code",
   "execution_count": 3,
   "id": "6b880f6f-1a8c-4f61-9155-75b374d2b12b",
   "metadata": {},
   "outputs": [],
   "source": [
    "DATASET_PATH = \"/agrilearn_app/datasets/v1/geopackage/cana_fields_filtered.gpkg\""
   ]
  },
  {
   "cell_type": "markdown",
   "id": "3794c2ca-0318-4598-adff-30127003ab66",
   "metadata": {},
   "source": [
    "## 1. Read Dataset"
   ]
  },
  {
   "cell_type": "code",
   "execution_count": 4,
   "id": "60eb9a42-dee5-4bb5-bb9d-2a64050e84af",
   "metadata": {},
   "outputs": [],
   "source": [
    "df = gpd.read_file(DATASET_PATH)"
   ]
  },
  {
   "cell_type": "code",
   "execution_count": 10,
   "id": "06e08b8b-d906-475b-9012-e9e6ab370263",
   "metadata": {},
   "outputs": [
    {
     "data": {
      "text/plain": [
       "'/agrilearn_app/datasets/eopatchs/processed/cana/train/start_2020-04-01_end_2021-04-01_monitoring_class_SUGAR_CANE_epsg4326_minxymaxxy_-43dot83885372741753_-15dot203426503430366_-43dot826164362595186_-15dot189424413505838_312_4/eopatch_0_col-0_row-0'"
      ]
     },
     "execution_count": 10,
     "metadata": {},
     "output_type": "execute_result"
    }
   ],
   "source": [
    "df.iloc[40]['local_eopatch_path']"
   ]
  },
  {
   "cell_type": "code",
   "execution_count": 11,
   "id": "3276015a-ac8e-49ab-9f31-8c4a8a1bcbdd",
   "metadata": {},
   "outputs": [
    {
     "data": {
      "text/plain": [
       "'start_2021-04-01_end_2022-04-01_monitoring_class_SUGAR_CANE_epsg4326_minxymaxxy_-48dot18671389792802_-9dot180442023714908_-48dot157245744321386_-9dot148276254728453_3_12'"
      ]
     },
     "execution_count": 11,
     "metadata": {},
     "output_type": "execute_result"
    }
   ],
   "source": [
    "df.iloc[40]['eopath_location']"
   ]
  },
  {
   "cell_type": "markdown",
   "id": "592bfb30-9e42-4ea5-91aa-4e2697c5a8fa",
   "metadata": {},
   "source": [
    "## 2. Read Eopatch"
   ]
  },
  {
   "cell_type": "code",
   "execution_count": null,
   "id": "e20e9d1a-a032-43ea-8780-b7eeb1ce3fcb",
   "metadata": {},
   "outputs": [],
   "source": [
    "crop_calendar = CropCalendar()\n",
    "columns = ['local_eopatch_path', 'state', 'period']\n",
    "df['local_eopatch_path'] = df['local_eopatch_path'].replace('/cana/', '/cana_raw/', regex=True)"
   ]
  },
  {
   "cell_type": "code",
   "execution_count": null,
   "id": "1fd87037-6ba9-4338-8f87-a2512ef5610e",
   "metadata": {},
   "outputs": [],
   "source": [
    "# for index, row in tqdm(df[columns].iterrows(), total=len(df)):\n",
    "    \n",
    "#     eopatch = EOPatch.load(row['local_eopatch_path'], \n",
    "#                            lazy_loading=True)\n",
    "\n",
    "#     eopatch_filter = eopatch_utils.filter_eopatch_based_crop_caledar(eopatch=eopatch, \n",
    "#                                                                      crop_calendar=crop_calendar,\n",
    "#                                                                      crop='SOYBEAN',\n",
    "#                                                                      period=row['period'],\n",
    "#                                                                      state=row['state'])\n",
    "\n",
    "#     #new_path = str(row['local_eopatch_path']).replace('/cana/', '/cana_filter/')\n",
    "    \n",
    "#     #eopatch_filter.save(new_path, overwrite_permission=True)"
   ]
  },
  {
   "cell_type": "code",
   "execution_count": null,
   "id": "1f5e1cca-fa69-432a-8e4b-8581b247d7a4",
   "metadata": {},
   "outputs": [],
   "source": []
  },
  {
   "cell_type": "code",
   "execution_count": null,
   "id": "efd6a694-3fff-4ca9-9337-cc4433f252bb",
   "metadata": {},
   "outputs": [],
   "source": []
  },
  {
   "cell_type": "code",
   "execution_count": null,
   "id": "c7852218-2aba-4550-b804-f927677c7725",
   "metadata": {},
   "outputs": [],
   "source": [
    "eopatch['mask']['SCL'].shape"
   ]
  },
  {
   "cell_type": "code",
   "execution_count": null,
   "id": "d5514dc6-396c-4677-a671-af732e867460",
   "metadata": {},
   "outputs": [],
   "source": [
    "eopatch_filter['mask']['SCL'].shape"
   ]
  },
  {
   "cell_type": "code",
   "execution_count": null,
   "id": "64a03a56-e440-4313-95fe-7ae42273e7d2",
   "metadata": {},
   "outputs": [],
   "source": [
    "df['local_eopatch_path'] =  \"/agrilearn_app/datasets/eopatchs/processed/cana_raw/train/\" + df['eopath_location'] + \"/eopatch_0_col-0_row-0\""
   ]
  },
  {
   "cell_type": "markdown",
   "id": "4b3dd79a-2b08-496d-b697-0b00d063f4a4",
   "metadata": {},
   "source": [
    "## DEBUG"
   ]
  },
  {
   "cell_type": "markdown",
   "id": "51e3d016-0f5d-46fd-a6fc-9726c8c46b19",
   "metadata": {},
   "source": [
    "path_com_problema\n",
    "- '/agrilearn_app/datasets/eopatchs/processed/cana_raw/train/start_2020-04-01_end_2021-04-01_monitoring_class_SUGAR_CANE_epsg4326_minxymaxxy_-43dot83885372741753_-15dot203426503430366_-43dot826164362595186_-15dot189424413505838_312_4/eopatch_0_col-0_row-0'"
   ]
  },
  {
   "cell_type": "code",
   "execution_count": null,
   "id": "f00a0f42-8914-4702-8b4c-ff1cc96a3dd5",
   "metadata": {},
   "outputs": [],
   "source": [
    "df.iloc[40:41]"
   ]
  },
  {
   "cell_type": "code",
   "execution_count": null,
   "id": "46d44e76-219c-4fe2-b077-8f34e5f6de68",
   "metadata": {},
   "outputs": [],
   "source": []
  },
  {
   "cell_type": "code",
   "execution_count": null,
   "id": "52ec9a2f-64d1-4f31-b0c7-5f3220fd0d09",
   "metadata": {},
   "outputs": [],
   "source": [
    "df_it = df.iloc[40]\n",
    "print(\"local_eopatch_path:\", df_it['local_eopatch_path'])\n",
    "print(\"eopath_location:\", df_it['eopath_location'])\n",
    "print(\"periodo:\", df_it['period'])\n",
    "print(\"estado:\", df_it['state'])"
   ]
  },
  {
   "cell_type": "code",
   "execution_count": null,
   "id": "df21bc5d-7494-42d8-a97d-618d606f15ca",
   "metadata": {},
   "outputs": [],
   "source": [
    "df_it"
   ]
  },
  {
   "cell_type": "code",
   "execution_count": null,
   "id": "bb80a0c5-875c-4779-beb6-88b1a5721f1c",
   "metadata": {},
   "outputs": [],
   "source": [
    "start_date, end_date = crop_calendar.get_crop_period(crop='SOYBEAN',\n",
    "                                                     period=df_it['period'],\n",
    "                                                     state=df_it['state'])\n",
    "print(f\"start_date: {start_date} - end_date: {end_date}\")"
   ]
  },
  {
   "cell_type": "code",
   "execution_count": null,
   "id": "516bf650-9976-42b6-8cfa-98f98dc7ba41",
   "metadata": {},
   "outputs": [],
   "source": [
    "eopatch = EOPatch.load(df_it['local_eopatch_path'], \n",
    "                           lazy_loading=True)\n",
    "\n",
    "eopatch_filter = eopatch_utils.filter_eopatch_based_crop_caledar(eopatch=eopatch, \n",
    "                                                                 crop_calendar=crop_calendar,\n",
    "                                                                 crop='SOYBEAN',\n",
    "                                                                 period=df_it['period'],\n",
    "                                                                 state=df_it['state'])"
   ]
  },
  {
   "cell_type": "code",
   "execution_count": null,
   "id": "ace4fbda-c03b-4f29-93aa-7a7f1905b616",
   "metadata": {},
   "outputs": [],
   "source": [
    "eopatch['timestamp']"
   ]
  },
  {
   "cell_type": "code",
   "execution_count": null,
   "id": "8804cdbb-9b6c-4fa7-b350-10182f925e6e",
   "metadata": {},
   "outputs": [],
   "source": [
    "print(f\"shape antes do filtro: {eopatch.mask['SCL'].shape}\")\n",
    "print(f\"shape depois do filtro: {eopatch_filter['mask']['SCL'].shape}\")"
   ]
  },
  {
   "cell_type": "code",
   "execution_count": null,
   "id": "490a104c-5193-411e-bbf5-87b7b653f488",
   "metadata": {},
   "outputs": [],
   "source": [
    "df"
   ]
  },
  {
   "cell_type": "code",
   "execution_count": null,
   "id": "d4b7d4df-47c6-44ac-bcdd-030540ce1350",
   "metadata": {},
   "outputs": [],
   "source": [
    "eopath = EOPatch.load(df['local_eopatch_path'].iloc[1], \n",
    "             lazy_loading=True)"
   ]
  },
  {
   "cell_type": "code",
   "execution_count": null,
   "id": "2f65b50a-33c6-4353-95e8-566da87c6337",
   "metadata": {},
   "outputs": [],
   "source": [
    "eopath.mask['SCL'].shape[0]"
   ]
  },
  {
   "cell_type": "code",
   "execution_count": null,
   "id": "37fae2e7-f0f8-4495-a6a3-800e2c46be64",
   "metadata": {},
   "outputs": [],
   "source": [
    "eopath = EOPatch.load(df['local_eopatch_path'].iloc[40], \n",
    "             lazy_loading=True)"
   ]
  },
  {
   "cell_type": "code",
   "execution_count": null,
   "id": "53f16886-28e8-4ad8-bca3-53a8f7fec740",
   "metadata": {},
   "outputs": [],
   "source": [
    "df[df['local_eopatch_path']=='/agrilearn_app/datasets/eopatchs/processed/cana_raw/train/start_2020-04-01_end_2021-04-01_monitoring_class_SUGAR_CANE_epsg4326_minxymaxxy_-43dot83885372741753_-15dot203426503430366_-43dot826164362595186_-15dot189424413505838_312_4/eopatch_0_col-0_row-0']"
   ]
  },
  {
   "cell_type": "code",
   "execution_count": null,
   "id": "b7239460-195a-46fe-928a-7aca24677127",
   "metadata": {},
   "outputs": [],
   "source": []
  },
  {
   "cell_type": "code",
   "execution_count": null,
   "id": "9f5c32e8-4545-4c7f-80f4-8cf904bb6eef",
   "metadata": {},
   "outputs": [],
   "source": []
  },
  {
   "cell_type": "code",
   "execution_count": null,
   "id": "07377b64-bb23-40e2-bea3-a84d25ba31f2",
   "metadata": {},
   "outputs": [],
   "source": [
    "df['local_eopatch_path'] = df['local_eopatch_path'].replace('/cana/', '/cana_raw/', regex=True)"
   ]
  },
  {
   "cell_type": "code",
   "execution_count": null,
   "id": "cc4421e6-650f-404b-adb1-3fde85f3b9db",
   "metadata": {},
   "outputs": [],
   "source": [
    "df['local_eopatch_path'].iloc[0]"
   ]
  },
  {
   "cell_type": "code",
   "execution_count": null,
   "id": "ea29fe63-e5cb-4d6a-95b3-8cfe9f5ac45e",
   "metadata": {},
   "outputs": [],
   "source": [
    "path_id = {}\n",
    "for index, row in tqdm(df[columns].iterrows(), total=len(df)):\n",
    "    \n",
    "    eopatch = EOPatch.load(row['local_eopatch_path'], \n",
    "                           lazy_loading=True)\n",
    "\n",
    "    path_id[row['local_eopatch_path']] = eopatch.mask['SCL'].shape[0]\n",
    "    \n",
    "df_checked = pd.DataFrame(list(path_id.items()), columns=['path', \"shape\"])"
   ]
  },
  {
   "cell_type": "code",
   "execution_count": null,
   "id": "acd4801a-e9d6-4a29-ac84-e13ff106177e",
   "metadata": {},
   "outputs": [],
   "source": [
    "df_checked['path'].iloc[0]"
   ]
  },
  {
   "cell_type": "code",
   "execution_count": null,
   "id": "794b35b6-9f09-493d-b36a-20bd18fb5a03",
   "metadata": {},
   "outputs": [],
   "source": [
    "df_checked = pd.DataFrame(list(path_id.items()), columns=['path', \"shape\"])"
   ]
  },
  {
   "cell_type": "code",
   "execution_count": null,
   "id": "6fb867bb-ce33-4618-93bd-a094ee03401c",
   "metadata": {},
   "outputs": [],
   "source": [
    "df_checked['shape'].describe()"
   ]
  },
  {
   "cell_type": "code",
   "execution_count": null,
   "id": "40919d80-41b0-41e7-a9f0-a8b0b7cb177a",
   "metadata": {},
   "outputs": [],
   "source": []
  },
  {
   "cell_type": "code",
   "execution_count": null,
   "id": "6d5cf3fe-cb49-4fa1-8fd4-e6890aa4b4b5",
   "metadata": {},
   "outputs": [],
   "source": []
  }
 ],
 "metadata": {
  "kernelspec": {
   "display_name": "Python 3 (ipykernel)",
   "language": "python",
   "name": "python3"
  },
  "language_info": {
   "codemirror_mode": {
    "name": "ipython",
    "version": 3
   },
   "file_extension": ".py",
   "mimetype": "text/x-python",
   "name": "python",
   "nbconvert_exporter": "python",
   "pygments_lexer": "ipython3",
   "version": "3.10.12"
  }
 },
 "nbformat": 4,
 "nbformat_minor": 5
}
