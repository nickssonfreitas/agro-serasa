{
 "cells": [
  {
   "cell_type": "code",
   "execution_count": null,
   "id": "8d827ee2-766a-49a1-9c8a-e98f713f91f8",
   "metadata": {},
   "outputs": [],
   "source": [
    "\"\"\"\n",
    "This script downloads raw EOPatches following the crop data_requirements.\n",
    "By default, it uses S3BucketInputTask. To run it, please set the data\n",
    "folders accordingly.\n",
    "\"\"\"\n",
    "\n",
    "import logging\n",
    "import os\n",
    "import time\n",
    "\n",
    "import geopandas as gpd\n",
    "\n",
    "\n",
    "import sys\n",
    "sys.path.append(\"/agrilearn_app/agrilearn/\")\n",
    "\n",
    "from agrilearn.commons.downloader import EoPatchDownloader\n",
    "from agrilearn.commons.utils.env_utils import load_agrilearn_dotenv\n",
    "from agrilearn.mvp.gpkg_utils import (\n",
    "    convert_gpkg_period_to_start_end_dates,\n",
    "    get_gpkg_state_information,\n",
    ")\n",
    "from agrilearn.crop_classification import config as crop_config"
   ]
  },
  {
   "cell_type": "code",
   "execution_count": null,
   "id": "ac090ae3-73e4-4881-bb3b-8c71db496cef",
   "metadata": {},
   "outputs": [],
   "source": [
    "load_agrilearn_dotenv()\n",
    "\n",
    "WORKERS = 2\n",
    "\n",
    "BASE_PATH = \"/agrilearn_app/datasets\"\n",
    "DATASET_PATH = \"/agrilearn_app/datasets/cana-v1/geopackage/cana_train_fields_filtered.gpkg\"\n",
    "\n",
    "EOPATCHES_FOLDER = BASE_PATH + \"/eopatchs/processed/SUGAR_CANE/train/\"\n",
    "LOGS_FOLDER = BASE_PATH + \"/logs\"\n",
    "OUTPUT_FOLDER = BASE_PATH + \"/output\"\n",
    "\n",
    "os.makedirs(EOPATCHES_FOLDER, exist_ok=True)\n",
    "os.makedirs(LOGS_FOLDER, exist_ok=True)\n",
    "os.makedirs(OUTPUT_FOLDER, exist_ok=True)"
   ]
  },
  {
   "cell_type": "code",
   "execution_count": null,
   "id": "135ea7b4-6f2d-4a1c-85a5-0a4d9a3a28fb",
   "metadata": {},
   "outputs": [],
   "source": [
    "gdf = gpd.read_file(DATASET_PATH)"
   ]
  },
  {
   "cell_type": "code",
   "execution_count": null,
   "id": "ee9e5f27-c767-4ebc-b6f9-3d8d8af6c280",
   "metadata": {},
   "outputs": [],
   "source": [
    "gdf.head()"
   ]
  },
  {
   "cell_type": "code",
   "execution_count": null,
   "id": "60a7f9f0-42f6-4f2d-b8d8-202288773c26",
   "metadata": {},
   "outputs": [],
   "source": [
    "gdf.shape"
   ]
  },
  {
   "cell_type": "code",
   "execution_count": null,
   "id": "c5a0f7a5-9a94-4d05-93b6-00234717d410",
   "metadata": {},
   "outputs": [],
   "source": [
    "gdf[gdf.duplicated('eopath_location')]"
   ]
  },
  {
   "cell_type": "code",
   "execution_count": null,
   "id": "c5d10d5e-ac78-4112-97c6-7cdc4e47b13f",
   "metadata": {},
   "outputs": [],
   "source": [
    "gdf['state'].value_counts()"
   ]
  },
  {
   "cell_type": "code",
   "execution_count": null,
   "id": "1c6c7177-94ef-421d-8701-9543b1de9d68",
   "metadata": {},
   "outputs": [],
   "source": [
    "download_samples = convert_gpkg_period_to_start_end_dates(gdf)"
   ]
  },
  {
   "cell_type": "code",
   "execution_count": null,
   "id": "ca616f94-604c-4075-96f3-bdef8980f1f8",
   "metadata": {},
   "outputs": [],
   "source": [
    "# separate error geometries\n",
    "error_gdf = download_samples[\n",
    "    (download_samples[\"start_season\"].values == None)\n",
    "    | (download_samples[\"end_season\"].values == None)\n",
    "]\n",
    "error_gdf.shape"
   ]
  },
  {
   "cell_type": "code",
   "execution_count": null,
   "id": "1bcfd70a-a76b-49ae-9d16-20e55252a737",
   "metadata": {},
   "outputs": [],
   "source": [
    "download_samples = download_samples[~download_samples.index.isin(error_gdf.index)]\n",
    "download_samples.shape"
   ]
  },
  {
   "cell_type": "code",
   "execution_count": null,
   "id": "84b3d63c-027c-4bbb-892a-8af1aec659a4",
   "metadata": {},
   "outputs": [],
   "source": [
    "# Create logger to measure download time\n",
    "logger = logging.getLogger(\"download_logger\")\n",
    "logger.setLevel(level=logging.INFO)\n",
    "fh = logging.FileHandler(os.path.join(LOGS_FOLDER, \"log_download.log\"))\n",
    "fh_formatter = logging.Formatter(\n",
    "    \"%(asctime)s %(levelname)s %(lineno)d:%(filename)s(%(process)d) - %(message)s\"\n",
    ")\n",
    "fh.setFormatter(fh_formatter)\n",
    "logger.addHandler(fh)\n",
    "\n",
    "\n",
    "start_time = time.time()\n",
    "logger.info(\"Starting download.\")\n",
    "\n",
    "downloader = EoPatchDownloader(\n",
    "    EOPATCHES_FOLDER,\n",
    "    crop_config.DATA_REQUIREMENTS,\n",
    "    provider_name=\"element84\",\n",
    "    cache_folder=os.environ.get(\"SENTINEL_CACHE_FOLDER\"),\n",
    ")\n",
    "\n",
    "final_gdf = downloader.download(\n",
    "    download_samples,\n",
    "    remove_failed_samples=True,\n",
    "    eopatch_path_collumn_name=\"eopath_location\",\n",
    "    workers=WORKERS,\n",
    "    logs_folder=LOGS_FOLDER,\n",
    "    skip_if_eopatch_exists=True,\n",
    "    save_report=True,\n",
    "    save_logs=True,\n",
    ")\n",
    "\n",
    "end_time = time.time() - start_time\n",
    "\n",
    "logger.info(\"Downloaded finished.\")\n",
    "logger.info(\"Time of execution (seconds): %.2f\", end_time)\n",
    "\n",
    "final_gdf.to_file(os.path.join(OUTPUT_FOLDER, \"final_valid_crops.gpkg\"))\n",
    "\n",
    "if len(error_gdf) > 0:\n",
    "    error_gdf.to_file(os.path.join(OUTPUT_FOLDER, \"error_valid_crops.gpkg\"))\n"
   ]
  },
  {
   "cell_type": "code",
   "execution_count": null,
   "id": "8c0df13f-865e-486b-8efd-1d77a7d36abf",
   "metadata": {},
   "outputs": [],
   "source": []
  },
  {
   "cell_type": "code",
   "execution_count": null,
   "id": "562dcfb0-cfab-4462-a7d5-f6f5ad403f13",
   "metadata": {},
   "outputs": [],
   "source": []
  }
 ],
 "metadata": {
  "kernelspec": {
   "display_name": "Python 3 (ipykernel)",
   "language": "python",
   "name": "python3"
  },
  "language_info": {
   "codemirror_mode": {
    "name": "ipython",
    "version": 3
   },
   "file_extension": ".py",
   "mimetype": "text/x-python",
   "name": "python",
   "nbconvert_exporter": "python",
   "pygments_lexer": "ipython3",
   "version": "3.10.12"
  }
 },
 "nbformat": 4,
 "nbformat_minor": 5
}
