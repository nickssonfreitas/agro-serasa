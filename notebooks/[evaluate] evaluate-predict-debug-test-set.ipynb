{
 "cells": [
  {
   "cell_type": "code",
   "execution_count": 1,
   "id": "e2ff6ea7-e78d-44bd-9abd-247bb60c4630",
   "metadata": {},
   "outputs": [],
   "source": [
    "### Load the auto reload extension to automatically reload modules when files on disk are updated\n",
    "%load_ext autoreload\n",
    "# it will automatically be reloaded without the need to restart the kernel.\n",
    "%autoreload 2"
   ]
  },
  {
   "cell_type": "code",
   "execution_count": 2,
   "id": "1c61e6ae-6dda-4ae0-9c75-7b71295d9aaf",
   "metadata": {},
   "outputs": [],
   "source": [
    "import sys\n",
    "sys.path.append(\"/agrilearn_app/agrilearn/submodules/commons/\")"
   ]
  },
  {
   "cell_type": "code",
   "execution_count": 28,
   "id": "13c7456c-9fb4-41b8-b528-9a481cbfa926",
   "metadata": {},
   "outputs": [],
   "source": [
    "import boto3\n",
    "import os\n",
    "import geopandas as gpd\n",
    "import pandas as pd\n",
    "import folium\n",
    "import numpy as np\n",
    "from folium import GeoJson\n",
    "from io import BytesIO\n",
    "from tqdm import tqdm\n",
    "from eolearn.core import EOPatch\n",
    "from glob import glob\n",
    "from agrilearn.crop_classification import evaluate_utils as eval_util\n",
    "from agrilearn.commons.io.read_transform import read_multiplies_files_from_path, transform_pandas_to_geopandas"
   ]
  },
  {
   "cell_type": "code",
   "execution_count": 5,
   "id": "9a5c4767-cb01-4969-8549-630c4ab903e4",
   "metadata": {},
   "outputs": [],
   "source": [
    "from agrilearn.crop_classification import yaml_utils, processing\n",
    "from agrilearn.crop_classification.cropclassifier import CropClassifier"
   ]
  },
  {
   "cell_type": "markdown",
   "id": "6c7cc194-d9bd-479b-bac2-1071d374026d",
   "metadata": {},
   "source": [
    "### Global Variables"
   ]
  },
  {
   "cell_type": "code",
   "execution_count": 11,
   "id": "95a2d001-8e77-4c6c-969b-87a2ef379f50",
   "metadata": {},
   "outputs": [],
   "source": [
    "YAML_CONFIG_PATH = \"/agrilearn_app/output/config/experiment_12.yaml\"\n",
    "config = yaml_utils.load_config(YAML_CONFIG_PATH)"
   ]
  },
  {
   "cell_type": "code",
   "execution_count": 12,
   "id": "6e6bfd36-0954-4f74-81f7-1303291e67f3",
   "metadata": {},
   "outputs": [
    {
     "name": "stdout",
     "output_type": "stream",
     "text": [
      "Index: 0\n",
      "DATASET_NAME: banco_do_brasil\n",
      "GEOPACKAGE_PATH: /agrilearn_app/datasets/baselines/banco_do_brasil/geopackage/SOYBEAN_5973.gpkg\n",
      "EOPATCH_PATH: /agrilearn_app/datasets/baselines/banco_do_brasil/eopatch/processed/\n",
      "LABEL_MONITORING_CLASS: monitoring_class\n",
      "LABEL_EOPATCH_LOCATION: eopath_location\n"
     ]
    }
   ],
   "source": [
    "index = 0\n",
    "DATASET_NAME = config['evaluate'][index]['dataset_name']\n",
    "GEOPACKAGE_PATH = config['evaluate'][index]['geopackage_test_data_path']\n",
    "EOPATCH_PATH = config['evaluate'][index]['eopatch_folder']\n",
    "LABEL_MONITORING_CLASS = config['evaluate'][index]['label_true']\n",
    "LABEL_EOPATCH_LOCATION = config['evaluate'][index]['label_eopatch_location']\n",
    "EXPERIMENT_PATH = config[\"data\"][\"experiment_path\"]\n",
    "\n",
    "# Adicionando prints para depuração\n",
    "print(f\"Index: {index}\")\n",
    "print(f\"DATASET_NAME: {DATASET_NAME}\")\n",
    "print(f\"GEOPACKAGE_PATH: {GEOPACKAGE_PATH}\")\n",
    "print(f\"EOPATCH_PATH: {EOPATCH_PATH}\")\n",
    "print(f\"LABEL_MONITORING_CLASS: {LABEL_MONITORING_CLASS}\")\n",
    "print(f\"LABEL_EOPATCH_LOCATION: {LABEL_EOPATCH_LOCATION}\")\n"
   ]
  },
  {
   "cell_type": "markdown",
   "id": "a6a06923-5119-4456-ba5b-ac0c9fca3ab9",
   "metadata": {},
   "source": [
    "# 1. Read Datasets"
   ]
  },
  {
   "cell_type": "code",
   "execution_count": 13,
   "id": "591f9002-d3c5-4d2e-985f-dc38afe49bb8",
   "metadata": {},
   "outputs": [],
   "source": [
    "gdf = gpd.read_file(GEOPACKAGE_PATH)"
   ]
  },
  {
   "cell_type": "code",
   "execution_count": 14,
   "id": "0e486978-a9eb-4a1a-a104-9acdeea0c0a1",
   "metadata": {},
   "outputs": [
    {
     "data": {
      "text/html": [
       "<div>\n",
       "<style scoped>\n",
       "    .dataframe tbody tr th:only-of-type {\n",
       "        vertical-align: middle;\n",
       "    }\n",
       "\n",
       "    .dataframe tbody tr th {\n",
       "        vertical-align: top;\n",
       "    }\n",
       "\n",
       "    .dataframe thead th {\n",
       "        text-align: right;\n",
       "    }\n",
       "</style>\n",
       "<table border=\"1\" class=\"dataframe\">\n",
       "  <thead>\n",
       "    <tr style=\"text-align: right;\">\n",
       "      <th></th>\n",
       "      <th>count</th>\n",
       "      <th>proportion</th>\n",
       "    </tr>\n",
       "    <tr>\n",
       "      <th>monitoring_class</th>\n",
       "      <th></th>\n",
       "      <th></th>\n",
       "    </tr>\n",
       "  </thead>\n",
       "  <tbody>\n",
       "    <tr>\n",
       "      <th>SOYBEAN</th>\n",
       "      <td>5973</td>\n",
       "      <td>1.0</td>\n",
       "    </tr>\n",
       "  </tbody>\n",
       "</table>\n",
       "</div>"
      ],
      "text/plain": [
       "                  count  proportion\n",
       "monitoring_class                   \n",
       "SOYBEAN            5973         1.0"
      ]
     },
     "execution_count": 14,
     "metadata": {},
     "output_type": "execute_result"
    }
   ],
   "source": [
    "eval_util.get_dataset_distribution(gdf)"
   ]
  },
  {
   "cell_type": "code",
   "execution_count": 15,
   "id": "54b1c455",
   "metadata": {},
   "outputs": [
    {
     "name": "stdout",
     "output_type": "stream",
     "text": [
      "There are 5973 rows and 36 columns\n"
     ]
    }
   ],
   "source": [
    "print(f\"There are {gdf.shape[0]} rows and {gdf.shape[1]} columns\")"
   ]
  },
  {
   "cell_type": "markdown",
   "id": "9db8fc3a-4ee0-4396-b19c-2c2cc5ee3b0f",
   "metadata": {},
   "source": [
    "# 2. Predict DEBUG"
   ]
  },
  {
   "cell_type": "code",
   "execution_count": null,
   "id": "a5c7d5cf-8ef6-468a-ad56-00929ce6df65",
   "metadata": {},
   "outputs": [],
   "source": []
  },
  {
   "cell_type": "code",
   "execution_count": 19,
   "id": "5bf10811-1cd1-4343-8dbd-b67be0585aa1",
   "metadata": {},
   "outputs": [
    {
     "name": "stdout",
     "output_type": "stream",
     "text": [
      "Creating and checking prediction path: /agrilearn_app/output/experiment_12/predictions/banco_do_brasil\n",
      "Creating and checking results path: /agrilearn_app/output/experiment_12/results/banco_do_brasil\n"
     ]
    }
   ],
   "source": [
    "OUTPUT_PREDICTIONS = os.path.join(EXPERIMENT_PATH, \"predictions\")\n",
    "OUTPUT_RESULTS = os.path.join(EXPERIMENT_PATH, \"results\")\n",
    "OUTPUT_PREDICTIONS_DATASET = os.path.join(OUTPUT_PREDICTIONS, DATASET_NAME)\n",
    "OUTPUT_RESULTS_DATASET = os.path.join(OUTPUT_RESULTS, DATASET_NAME)\n",
    "print(f\"Creating and checking prediction path: {OUTPUT_PREDICTIONS_DATASET}\")\n",
    "os.makedirs(OUTPUT_PREDICTIONS_DATASET, exist_ok=True)\n",
    "print(f\"Creating and checking results path: {OUTPUT_RESULTS_DATASET}\")\n",
    "os.makedirs(OUTPUT_RESULTS_DATASET, exist_ok=True)"
   ]
  },
  {
   "cell_type": "code",
   "execution_count": 21,
   "id": "0e8ba775-58bf-4200-bad3-a2b1a64c4701",
   "metadata": {},
   "outputs": [],
   "source": [
    "config = yaml_utils.load_config(YAML_CONFIG_PATH)\n",
    "\n",
    "crop_classifer = CropClassifier(YAML_CONFIG_PATH)"
   ]
  },
  {
   "cell_type": "code",
   "execution_count": 24,
   "id": "1009fb66-87da-43f7-88c4-d47d6ccccd90",
   "metadata": {},
   "outputs": [
    {
     "name": "stdout",
     "output_type": "stream",
     "text": [
      "There are 5952 files to read in path: /agrilearn_app/output/experiment_12/predictions/banco_do_brasil\n"
     ]
    },
    {
     "name": "stderr",
     "output_type": "stream",
     "text": [
      "Reading files:: 100%|██████████| 5952/5952 [00:31<00:00, 189.73it/s]\n"
     ]
    }
   ],
   "source": [
    "df_prediction = read_multiplies_files_from_path(OUTPUT_PREDICTIONS_DATASET, \n",
    "                                                sep=\",\")"
   ]
  },
  {
   "cell_type": "code",
   "execution_count": 32,
   "id": "ac624ffa-1d19-45a2-8a93-d103ad492990",
   "metadata": {},
   "outputs": [
    {
     "data": {
      "text/plain": [
       "\"NoneError in crop classification: name 'parser' is not defined; \""
      ]
     },
     "execution_count": 32,
     "metadata": {},
     "output_type": "execute_result"
    }
   ],
   "source": [
    "df_prediction['obs_crop_rnn'].iloc[0]"
   ]
  },
  {
   "cell_type": "code",
   "execution_count": null,
   "id": "b42bb000-0d1b-462a-bd3f-320e50f52cc7",
   "metadata": {},
   "outputs": [],
   "source": []
  },
  {
   "cell_type": "code",
   "execution_count": null,
   "id": "a5affc88-e157-4ba9-a6db-51bcfa186769",
   "metadata": {},
   "outputs": [],
   "source": []
  },
  {
   "cell_type": "code",
   "execution_count": null,
   "id": "5f43d3a1-2a7e-4561-a722-af5e7298f8cd",
   "metadata": {},
   "outputs": [],
   "source": []
  },
  {
   "cell_type": "code",
   "execution_count": 26,
   "id": "19985d76-cb5a-451e-a023-8ee0667a5473",
   "metadata": {},
   "outputs": [],
   "source": [
    "# for i in tqdm(range(len(gdf.sample(2))), desc='Processing:'):\n",
    "#     try:\n",
    "#         row = gdf.loc[[i]]  # Select the row as a GeoDataFrame\n",
    "#         location_id = row.loc[i, LABEL_EOPATCH_LOCATION]\n",
    "\n",
    "#         final_path = os.path.join(OUTPUT_PREDICTIONS, LABEL_EOPATCH_LOCATION)\n",
    "\n",
    "#         if os.path.exists(final_path):\n",
    "#             if debug:\n",
    "#                 print(f\"skipped prediction path: {final_path}\")\n",
    "#             continue\n",
    "#         else:\n",
    "#             eopath_id_path = os.path.join(\n",
    "#                 EOPATCH_PATH,\n",
    "#                 location_id,\n",
    "#                 \"eopatch_0_col-0_row-0\")\n",
    "#             eopatch = EOPatch.load(eopath_id_path, lazy_loading=True)\n",
    "\n",
    "#             if eopatch is None:\n",
    "#                 raise ValueError(f\"EOPatch is null for path: {eopath_id_path}\")\n",
    "\n",
    "#             result = crop_classifer.predict(eop=eopatch,\n",
    "#                                             input_gdf=row)\n",
    "\n",
    "#             result.to_csv(final_path, index=False)\n",
    "#     except Exception as e:\n",
    "#         print(f\"Failed: {e}\")"
   ]
  },
  {
   "cell_type": "code",
   "execution_count": 21,
   "id": "d6db177e-ad74-4f8b-a774-8fa7386de6c3",
   "metadata": {},
   "outputs": [
    {
     "ename": "NameError",
     "evalue": "name 'location_id' is not defined",
     "output_type": "error",
     "traceback": [
      "\u001b[0;31m---------------------------------------------------------------------------\u001b[0m",
      "\u001b[0;31mNameError\u001b[0m                                 Traceback (most recent call last)",
      "\u001b[0;32m/tmp/ipykernel_23549/2600308643.py\u001b[0m in \u001b[0;36m<cell line: 1>\u001b[0;34m()\u001b[0m\n\u001b[0;32m----> 1\u001b[0;31m \u001b[0mlocation_id\u001b[0m\u001b[0;34m\u001b[0m\u001b[0;34m\u001b[0m\u001b[0m\n\u001b[0m",
      "\u001b[0;31mNameError\u001b[0m: name 'location_id' is not defined"
     ]
    }
   ],
   "source": [
    "location_id"
   ]
  },
  {
   "cell_type": "code",
   "execution_count": null,
   "id": "4fa20790-1e9d-48ed-8c60-c57afc6e1bb5",
   "metadata": {},
   "outputs": [],
   "source": [
    "row"
   ]
  },
  {
   "cell_type": "code",
   "execution_count": null,
   "id": "ce5fa410-4b44-4364-a5ca-38f06674041d",
   "metadata": {},
   "outputs": [],
   "source": [
    "\"start_2022-08-01_end_2023-07-01_monitoring_class_CORN_epsg4326_minxymaxxy_-52dot754283709825316_-29dot76146485746487_-52dot750590619481365_-29dot757761764799973\""
   ]
  },
  {
   "cell_type": "code",
   "execution_count": null,
   "id": "075d172e-b794-44ef-a04c-03fa34aedc8a",
   "metadata": {},
   "outputs": [],
   "source": [
    "row['eopath_location'].values"
   ]
  },
  {
   "cell_type": "code",
   "execution_count": null,
   "id": "2ca6e8a8-e7f9-41e0-9ee7-9eae8beca64f",
   "metadata": {},
   "outputs": [],
   "source": [
    "bands_npy = eopatch.data[\"BANDS\"]"
   ]
  },
  {
   "cell_type": "code",
   "execution_count": null,
   "id": "1d682a97-459a-431a-9b32-d2728652b61a",
   "metadata": {},
   "outputs": [],
   "source": [
    "cloud_mask = eopatch.mask[\"S2_CLOUDLESS\"].squeeze().astype(bool)"
   ]
  },
  {
   "cell_type": "code",
   "execution_count": null,
   "id": "e72710c6-d707-40d0-8aa4-adef8cbc1be4",
   "metadata": {},
   "outputs": [],
   "source": [
    "aoi_mask = eopatch.mask_timeless[\"AOI_MASK\"].squeeze().astype(bool)"
   ]
  },
  {
   "cell_type": "code",
   "execution_count": null,
   "id": "06b4de72-4185-4d25-bd59-ab3a55b10d11",
   "metadata": {},
   "outputs": [],
   "source": [
    "eopatch.mask['S2_CLOUDLESS']"
   ]
  },
  {
   "cell_type": "code",
   "execution_count": null,
   "id": "f1bfc535-9a44-4629-8ecd-8fff3e991152",
   "metadata": {},
   "outputs": [],
   "source": [
    "eopatch.data[\"NDVI\"].shape"
   ]
  },
  {
   "cell_type": "code",
   "execution_count": null,
   "id": "b98f0816-11bd-494e-8141-2329a093cafd",
   "metadata": {},
   "outputs": [],
   "source": [
    "import rasterio\n",
    "from rasterio.features import geometry_mask"
   ]
  },
  {
   "cell_type": "code",
   "execution_count": null,
   "id": "a6d19e56-02f8-4fcd-9ed8-4a6384d1a31b",
   "metadata": {},
   "outputs": [],
   "source": [
    "eop_shape = eopatch.data[\"NDVI\"].shape\n",
    "\n",
    "transform = rasterio.transform.from_bounds(*eopatch.bbox, \n",
    "                               eop_shape[2], \n",
    "                               eop_shape[1])"
   ]
  },
  {
   "cell_type": "code",
   "execution_count": null,
   "id": "f9385e77-6001-4a0a-baaa-605d1a3ae31c",
   "metadata": {},
   "outputs": [],
   "source": [
    "geo = row.geometry.iloc[0]"
   ]
  },
  {
   "cell_type": "code",
   "execution_count": null,
   "id": "3fcdd6d8-7ba8-41af-91f5-cf89b0443c93",
   "metadata": {},
   "outputs": [],
   "source": [
    "geo"
   ]
  },
  {
   "cell_type": "code",
   "execution_count": null,
   "id": "4e7657b5-3497-4749-b2f6-d858cb74e5a0",
   "metadata": {},
   "outputs": [],
   "source": [
    "mask = geometry_mask(\n",
    "        [geo], eop_shape[1:3], transform, all_touched=True, invert=True\n",
    "    )"
   ]
  },
  {
   "cell_type": "code",
   "execution_count": null,
   "id": "87589274-e68a-4f78-ae9a-24633040d416",
   "metadata": {},
   "outputs": [],
   "source": [
    "mask = mask[:, :, None].astype(bool)"
   ]
  },
  {
   "cell_type": "code",
   "execution_count": null,
   "id": "3b2598b4-6502-43ff-8e3e-5cd4c047eca4",
   "metadata": {},
   "outputs": [],
   "source": [
    "eopatch.mask_timeless[\"AOI_MASK\"] = mask"
   ]
  },
  {
   "cell_type": "code",
   "execution_count": null,
   "id": "247ab5a7-f1a1-49c4-a1f6-b5025b2351ad",
   "metadata": {},
   "outputs": [],
   "source": [
    "mask = eopatch.mask_timeless[\"AOI_MASK\"]\n",
    "mask"
   ]
  },
  {
   "cell_type": "code",
   "execution_count": null,
   "id": "8a1a0093-2571-42ed-b562-a8de9c64622e",
   "metadata": {},
   "outputs": [],
   "source": [
    "ask = np.tile(mask, (len(eopatch.mask[\"S2_CLOUDLESS\"]), 1, 1, 1))"
   ]
  },
  {
   "cell_type": "code",
   "execution_count": null,
   "id": "b563fab6-9284-4662-bab3-8b5881f22115",
   "metadata": {},
   "outputs": [],
   "source": [
    "eopatch.mask[\"S2_CLOUDLESS\"] = eopatch.mask[\"S2_CLOUDLESS\"] * mask\n",
    "eopatch.mask[\"S2_CLOUDLESS\"] = eopatch.mask[\"S2_CLOUDLESS\"].astype(bool)"
   ]
  },
  {
   "cell_type": "code",
   "execution_count": null,
   "id": "95df68c9-f1a9-43b8-a6c9-97d85b19ba61",
   "metadata": {},
   "outputs": [],
   "source": []
  },
  {
   "cell_type": "code",
   "execution_count": null,
   "id": "b3570d74-b369-4725-a508-cd5fd2ca1d08",
   "metadata": {},
   "outputs": [],
   "source": []
  },
  {
   "cell_type": "code",
   "execution_count": null,
   "id": "3159501c-e4f7-4e7d-a792-753c6775b529",
   "metadata": {},
   "outputs": [],
   "source": []
  },
  {
   "cell_type": "code",
   "execution_count": null,
   "id": "2665fcf9-be60-4df4-8017-5e7f0d492688",
   "metadata": {},
   "outputs": [],
   "source": []
  },
  {
   "cell_type": "code",
   "execution_count": null,
   "id": "2d340242-6ef4-4295-85a5-42e047fe9eab",
   "metadata": {},
   "outputs": [],
   "source": []
  },
  {
   "cell_type": "code",
   "execution_count": null,
   "id": "fe3b4686-bfa6-4e78-83d5-eb9330cb833c",
   "metadata": {},
   "outputs": [],
   "source": []
  },
  {
   "cell_type": "code",
   "execution_count": null,
   "id": "2eca94b7-d108-436e-8801-63302a13f408",
   "metadata": {},
   "outputs": [],
   "source": [
    "from agrilearn.commons.series_utils.smoothing_filters import NdviTimeSeriesSavitzkyGolayFilter"
   ]
  },
  {
   "cell_type": "code",
   "execution_count": null,
   "id": "5384f1e2-567f-409f-9950-ecf73df88c96",
   "metadata": {},
   "outputs": [],
   "source": [
    "golayfilter = NdviTimeSeriesSavitzkyGolayFilter()"
   ]
  },
  {
   "cell_type": "code",
   "execution_count": null,
   "id": "55e296a1-a5e3-4ffa-8cf1-2ea37ea16ab1",
   "metadata": {},
   "outputs": [],
   "source": [
    "series_s2cloud_with_mask_task = NDVIEOpatchToPandasSeries(\"S2_CLOUDLESS\")"
   ]
  },
  {
   "cell_type": "code",
   "execution_count": null,
   "id": "bab0c8ad-bee5-4484-bfaa-6392f1b32b24",
   "metadata": {},
   "outputs": [],
   "source": [
    "result = crop_classifer.predict(eop=eopatch,\n",
    "                                input_gdf=row)"
   ]
  },
  {
   "cell_type": "code",
   "execution_count": null,
   "id": "eb552ed8-479a-4886-b136-d39d21c8a71a",
   "metadata": {},
   "outputs": [],
   "source": [
    "bands_npy = eopatch.data[\"BANDS\"]"
   ]
  },
  {
   "cell_type": "code",
   "execution_count": null,
   "id": "ca234f9d-e4da-4280-a41d-d218b07f46f7",
   "metadata": {},
   "outputs": [],
   "source": [
    "bands_npy"
   ]
  },
  {
   "cell_type": "code",
   "execution_count": null,
   "id": "f6aefc88-d2a0-4681-9034-16deeaf5d185",
   "metadata": {},
   "outputs": [],
   "source": []
  },
  {
   "cell_type": "code",
   "execution_count": null,
   "id": "e0d35ec7-c87d-4756-8fa0-86ef0d0a0255",
   "metadata": {},
   "outputs": [],
   "source": []
  },
  {
   "cell_type": "code",
   "execution_count": null,
   "id": "40bfb3d1-0f03-4eab-8151-94ea0bca3cdb",
   "metadata": {},
   "outputs": [],
   "source": []
  },
  {
   "cell_type": "code",
   "execution_count": null,
   "id": "a383b868-0072-4548-b9ec-c662f70d5c99",
   "metadata": {},
   "outputs": [],
   "source": []
  },
  {
   "cell_type": "code",
   "execution_count": null,
   "id": "724b6037-d1cc-460a-a4cd-828700155823",
   "metadata": {},
   "outputs": [],
   "source": []
  }
 ],
 "metadata": {
  "kernelspec": {
   "display_name": "Python 3 (ipykernel)",
   "language": "python",
   "name": "python3"
  },
  "language_info": {
   "codemirror_mode": {
    "name": "ipython",
    "version": 3
   },
   "file_extension": ".py",
   "mimetype": "text/x-python",
   "name": "python",
   "nbconvert_exporter": "python",
   "pygments_lexer": "ipython3",
   "version": "3.10.12"
  }
 },
 "nbformat": 4,
 "nbformat_minor": 5
}
