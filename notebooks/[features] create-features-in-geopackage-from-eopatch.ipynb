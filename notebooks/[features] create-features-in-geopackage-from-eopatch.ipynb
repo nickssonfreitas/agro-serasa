{
 "cells": [
  {
   "cell_type": "code",
   "execution_count": 1,
   "id": "c1fce953-c9e7-4446-989c-056675bebd2b",
   "metadata": {},
   "outputs": [],
   "source": [
    "# Load the auto reload extension to automatically reload modules when files on disk are updated\n",
    "%load_ext autoreload\n",
    "# it will automatically be reloaded without the need to restart the kernel.\n",
    "%autoreload 2"
   ]
  },
  {
   "cell_type": "code",
   "execution_count": 2,
   "id": "c00efae0-91f3-472c-8482-b7847a725b79",
   "metadata": {},
   "outputs": [],
   "source": [
    "import boto3\n",
    "import os\n",
    "import geopandas as gpd\n",
    "import pandas as pd\n",
    "import folium\n",
    "import numpy as np\n",
    "from folium import GeoJson\n",
    "from io import BytesIO\n",
    "from shapely.geometry import Polygon, MultiPolygon"
   ]
  },
  {
   "cell_type": "code",
   "execution_count": 3,
   "id": "a6b4a832-c7ef-4afa-b502-58517e601732",
   "metadata": {
    "tags": []
   },
   "outputs": [],
   "source": [
    "import sys\n",
    "sys.path.append(\"../agrilearn/submodules/commons/\")"
   ]
  },
  {
   "cell_type": "code",
   "execution_count": 4,
   "id": "9a5c4767-cb01-4969-8549-630c4ab903e4",
   "metadata": {
    "tags": []
   },
   "outputs": [
    {
     "name": "stderr",
     "output_type": "stream",
     "text": [
      "2025-04-17 13:12:13.492379: I tensorflow/core/util/port.cc:153] oneDNN custom operations are on. You may see slightly different numerical results due to floating-point round-off errors from different computation orders. To turn them off, set the environment variable `TF_ENABLE_ONEDNN_OPTS=0`.\n",
      "2025-04-17 13:12:14.144545: E external/local_xla/xla/stream_executor/cuda/cuda_fft.cc:477] Unable to register cuFFT factory: Attempting to register factory for plugin cuFFT when one has already been registered\n",
      "WARNING: All log messages before absl::InitializeLog() is called are written to STDERR\n",
      "E0000 00:00:1744895534.385922  652153 cuda_dnn.cc:8310] Unable to register cuDNN factory: Attempting to register factory for plugin cuDNN when one has already been registered\n",
      "E0000 00:00:1744895534.451767  652153 cuda_blas.cc:1418] Unable to register cuBLAS factory: Attempting to register factory for plugin cuBLAS when one has already been registered\n",
      "2025-04-17 13:12:15.067547: I tensorflow/core/platform/cpu_feature_guard.cc:210] This TensorFlow binary is optimized to use available CPU instructions in performance-critical operations.\n",
      "To enable the following instructions: AVX2 AVX512F AVX512_VNNI FMA, in other operations, rebuild TensorFlow with the appropriate compiler flags.\n"
     ]
    }
   ],
   "source": [
    "from agrilearn.commons.s3 import s3_utils\n",
    "from agrilearn.crop_classification import evaluate_utils, yaml_utils, processing"
   ]
  },
  {
   "cell_type": "markdown",
   "id": "c02139fb-b81c-4310-b83a-22fad4fb4a9f",
   "metadata": {},
   "source": [
    "### Resumo da análise"
   ]
  },
  {
   "cell_type": "markdown",
   "id": "9b4a847e-018c-4cef-abd5-c1796bb30190",
   "metadata": {},
   "source": [
    "- Existem colunas duplicadas que representam a mesma variável [``start_season``, ``start_of_season``], além de [``end_season``, ``end_of_season``], [``peak_of_season``, ``peak_season``]\n",
    "- Existem dados duplicados considerando o ``eopatch_location``\n",
    "- Não existe mais a coluna ``id_talhao``?"
   ]
  },
  {
   "cell_type": "markdown",
   "id": "6c7cc194-d9bd-479b-bac2-1071d374026d",
   "metadata": {},
   "source": [
    "### Global Variables"
   ]
  },
  {
   "cell_type": "code",
   "execution_count": 6,
   "id": "81c1735b-87c7-4fca-9bd8-c111082a1aff",
   "metadata": {},
   "outputs": [],
   "source": [
    "#GEOPACKAGE_PATH = [\"/agrilearn_app/output/experiment_12/data/geopackage/processed/SOYBEAN_96505_CORN_67593_SUGAR_CANE_35276_COTTON_6344_RICE_1842_processed.gpkg\"]\n",
    "\n",
    "GEOPACKAGE_PATH = [\"/agrilearn_app/datasets/COTTON/2023_2023/geopackage/processed/COTTON_2980.gpkg\"]\n",
    "\n",
    "\n",
    "LABEL_MONITORING_CLASS = 'monitoring_class'\n",
    "LABEL_EOPATCH_LOCATION = \"eopath_location\" # 'sentinel_eopatch_current' #eopath_location\n",
    "\n",
    "EOPATCH_PATH_PROCESSED = [\"/agrilearn_app/datasets/COTTON/eopatch/processed/\"]\n",
    "EOPATCH_PATH_INPUT_MODEL = [\"/agrilearn_app/datasets/COTTON/eopatch/input_model/\"]\n",
    "\n",
    "OUTPUT_PATH = [\"/agrilearn_app/datasets/COTTON/2023_2023/reports\"]  "
   ]
  },
  {
   "cell_type": "code",
   "execution_count": 7,
   "id": "b6e597e1-fc58-425f-a8cd-211f05945014",
   "metadata": {},
   "outputs": [],
   "source": [
    "index = 0\n",
    "geopackage = GEOPACKAGE_PATH[index]\n",
    "eopatch_path = EOPATCH_PATH_PROCESSED[index]\n",
    "eopatch_input_model = EOPATCH_PATH_INPUT_MODEL[index]\n",
    "output_path = OUTPUT_PATH[index]\n",
    "df = gpd.read_file(geopackage)"
   ]
  },
  {
   "cell_type": "code",
   "execution_count": 8,
   "id": "2ab49aa9-6756-42c9-afaa-85dba552254a",
   "metadata": {
    "scrolled": true
   },
   "outputs": [
    {
     "data": {
      "text/plain": [
       "['monitoring_class',\n",
       " 'period',\n",
       " 'fonte',\n",
       " 'state',\n",
       " 'area',\n",
       " 'micro',\n",
       " 'eopath_location',\n",
       " 'start_season',\n",
       " 'end_season',\n",
       " 'peak_start',\n",
       " 'peak_end',\n",
       " 'start_of_season',\n",
       " 'peak_of_season',\n",
       " 'end_of_season',\n",
       " 'length_of_season',\n",
       " 'start_of_cycle',\n",
       " 'end_of_cycle',\n",
       " 'length_of_cycle',\n",
       " 'dataset_source',\n",
       " 'meso',\n",
       " 'field_id',\n",
       " 'planting_start',\n",
       " 'planting_end',\n",
       " 'cycle_start',\n",
       " 'cycle_end',\n",
       " 'LOS',\n",
       " 'is_valid',\n",
       " 'is_valid_cvt',\n",
       " 'peaks',\n",
       " 'set_type',\n",
       " 'sampled_date',\n",
       " 'is_valid_metrics',\n",
       " 'sos_valid',\n",
       " 'pos_valid',\n",
       " 'eos_valid',\n",
       " 'los_valid',\n",
       " 'is_valid_POS',\n",
       " 'is_valid_LOS',\n",
       " 'dataset_part',\n",
       " 'cultura_2',\n",
       " 'obs_extra',\n",
       " 'sentinel_eopatch_current',\n",
       " 'contour_score',\n",
       " 'contour_selected_timestamp',\n",
       " 'compac_index',\n",
       " 'key_bucket',\n",
       " 'local_eopatch_path',\n",
       " 'total_imagens_do_intervalo',\n",
       " 'total_de_imagem',\n",
       " 'status_missing_images',\n",
       " 'days_gap',\n",
       " 'dates_diff',\n",
       " 'mean_dates_diff',\n",
       " 'status_series_missing',\n",
       " 'monitoring_class_path',\n",
       " 'interest_area_id',\n",
       " 'emergence_date',\n",
       " 'gt_class',\n",
       " 'obs_contour',\n",
       " 'obs_contour_score',\n",
       " 'agricultural_area',\n",
       " 'obs_farm_plot',\n",
       " 'emergence_score',\n",
       " 'obs_emergence',\n",
       " 'obs_senescence',\n",
       " 'obs_harvest',\n",
       " 'created_by',\n",
       " 'area_id',\n",
       " 'last_date_crop_rnn',\n",
       " 'crop_distance_score_sits',\n",
       " 'crop_confidence_maha_sits',\n",
       " 'set',\n",
       " 'geometry']"
      ]
     },
     "execution_count": 8,
     "metadata": {},
     "output_type": "execute_result"
    }
   ],
   "source": [
    "list(df.columns)"
   ]
  },
  {
   "cell_type": "code",
   "execution_count": 9,
   "id": "59402816-61e3-4c17-8d69-208806054720",
   "metadata": {},
   "outputs": [
    {
     "data": {
      "text/plain": [
       "monitoring_class\n",
       "COTTON    2980\n",
       "Name: count, dtype: int64"
      ]
     },
     "execution_count": 9,
     "metadata": {},
     "output_type": "execute_result"
    }
   ],
   "source": [
    "df[LABEL_MONITORING_CLASS].value_counts()"
   ]
  },
  {
   "cell_type": "code",
   "execution_count": 11,
   "id": "0a8b29ed-b5f2-4b2e-a3f5-ee170e4ec949",
   "metadata": {},
   "outputs": [
    {
     "name": "stderr",
     "output_type": "stream",
     "text": [
      "100%|██████████| 2980/2980 [06:56<00:00,  7.16it/s]\n"
     ]
    }
   ],
   "source": [
    "df_processed, df_overview_processed = processing.check_processed_eopatches_features_based_geopackage(df, \n",
    "                                                                                         eopatch_path=eopatch_path,\n",
    "                                                                                         label_eopatch_path=LABEL_EOPATCH_LOCATION)"
   ]
  },
  {
   "cell_type": "code",
   "execution_count": null,
   "id": "e765cb88-21bd-4664-a842-2d2729e4084a",
   "metadata": {},
   "outputs": [],
   "source": [
    "df_overview_processed"
   ]
  },
  {
   "cell_type": "code",
   "execution_count": 13,
   "id": "07ddd8b1-3353-4e13-909c-1bd7378370a0",
   "metadata": {},
   "outputs": [],
   "source": [
    "os.makedirs(output_path, exist_ok=True)\n",
    "df_overview_processed.to_csv(f\"{output_path}/overview_eopatch.csv\")"
   ]
  },
  {
   "cell_type": "code",
   "execution_count": 14,
   "id": "ff9c12a2-610c-4dfc-9afc-c8e8951a1a68",
   "metadata": {},
   "outputs": [],
   "source": [
    "df_processed = pd.merge(df, \n",
    "                   df_processed,\n",
    "                   left_on=LABEL_EOPATCH_LOCATION,\n",
    "                   right_on='geopackage')"
   ]
  },
  {
   "cell_type": "code",
   "execution_count": 15,
   "id": "27cf8c38-7e7e-4689-938c-5ee18c5f13a7",
   "metadata": {},
   "outputs": [
    {
     "data": {
      "text/html": [
       "<div>\n",
       "<style scoped>\n",
       "    .dataframe tbody tr th:only-of-type {\n",
       "        vertical-align: middle;\n",
       "    }\n",
       "\n",
       "    .dataframe tbody tr th {\n",
       "        vertical-align: top;\n",
       "    }\n",
       "\n",
       "    .dataframe thead th {\n",
       "        text-align: right;\n",
       "    }\n",
       "</style>\n",
       "<table border=\"1\" class=\"dataframe\">\n",
       "  <thead>\n",
       "    <tr style=\"text-align: right;\">\n",
       "      <th></th>\n",
       "      <th>monitoring_class</th>\n",
       "      <th>period</th>\n",
       "      <th>fonte</th>\n",
       "      <th>state</th>\n",
       "      <th>area</th>\n",
       "      <th>micro</th>\n",
       "      <th>eopath_location</th>\n",
       "      <th>start_season</th>\n",
       "      <th>end_season</th>\n",
       "      <th>peak_start</th>\n",
       "      <th>...</th>\n",
       "      <th>set</th>\n",
       "      <th>geometry</th>\n",
       "      <th>geopackage</th>\n",
       "      <th>geopackage_class</th>\n",
       "      <th>eopatch_processed_exists</th>\n",
       "      <th>len_data</th>\n",
       "      <th>len_bands</th>\n",
       "      <th>len_time_interval</th>\n",
       "      <th>len_timestamp</th>\n",
       "      <th>error_processed</th>\n",
       "    </tr>\n",
       "  </thead>\n",
       "  <tbody>\n",
       "    <tr>\n",
       "      <th>0</th>\n",
       "      <td>COTTON</td>\n",
       "      <td>2023/2023</td>\n",
       "      <td>Agrosatélite - Grãos 2022/2023</td>\n",
       "      <td>RO</td>\n",
       "      <td>None</td>\n",
       "      <td>6.0</td>\n",
       "      <td>start_2023-01-01_end_2023-09-01_monitoring_cla...</td>\n",
       "      <td>2023-01-01</td>\n",
       "      <td>2023-09-01</td>\n",
       "      <td>2023-02-01</td>\n",
       "      <td>...</td>\n",
       "      <td>None</td>\n",
       "      <td>MULTIPOLYGON (((-60.09317 -12.68038, -60.09279...</td>\n",
       "      <td>start_2023-01-01_end_2023-09-01_monitoring_cla...</td>\n",
       "      <td>COTTON</td>\n",
       "      <td>False</td>\n",
       "      <td>NaN</td>\n",
       "      <td>NaN</td>\n",
       "      <td>NaN</td>\n",
       "      <td>NaN</td>\n",
       "      <td>'bands'</td>\n",
       "    </tr>\n",
       "    <tr>\n",
       "      <th>1</th>\n",
       "      <td>COTTON</td>\n",
       "      <td>2023/2023</td>\n",
       "      <td>Agrosatélite - Grãos 2022/2023</td>\n",
       "      <td>MT</td>\n",
       "      <td>1342.74499544682</td>\n",
       "      <td>6.0</td>\n",
       "      <td>start_2022-12-01_end_2023-10-01_monitoring_cla...</td>\n",
       "      <td>2022-12-01</td>\n",
       "      <td>2023-10-01</td>\n",
       "      <td>2023-02-01</td>\n",
       "      <td>...</td>\n",
       "      <td>None</td>\n",
       "      <td>MULTIPOLYGON (((-60.08045 -12.7151, -60.08176 ...</td>\n",
       "      <td>start_2022-12-01_end_2023-10-01_monitoring_cla...</td>\n",
       "      <td>COTTON</td>\n",
       "      <td>True</td>\n",
       "      <td>4.0</td>\n",
       "      <td>10.0</td>\n",
       "      <td>2.0</td>\n",
       "      <td>30.0</td>\n",
       "      <td>None</td>\n",
       "    </tr>\n",
       "    <tr>\n",
       "      <th>2</th>\n",
       "      <td>COTTON</td>\n",
       "      <td>2023/2023</td>\n",
       "      <td>Agrosatélite - Grãos 2022/2023</td>\n",
       "      <td>RO</td>\n",
       "      <td>2464683.315293218</td>\n",
       "      <td>6.0</td>\n",
       "      <td>start_2023-01-01_end_2023-09-01_monitoring_cla...</td>\n",
       "      <td>2023-01-01</td>\n",
       "      <td>2023-09-01</td>\n",
       "      <td>2023-02-01</td>\n",
       "      <td>...</td>\n",
       "      <td>None</td>\n",
       "      <td>MULTIPOLYGON (((-60.08677 -12.68559, -60.08677...</td>\n",
       "      <td>start_2023-01-01_end_2023-09-01_monitoring_cla...</td>\n",
       "      <td>COTTON</td>\n",
       "      <td>False</td>\n",
       "      <td>NaN</td>\n",
       "      <td>NaN</td>\n",
       "      <td>NaN</td>\n",
       "      <td>NaN</td>\n",
       "      <td>'bands'</td>\n",
       "    </tr>\n",
       "    <tr>\n",
       "      <th>3</th>\n",
       "      <td>COTTON</td>\n",
       "      <td>2023/2023</td>\n",
       "      <td>Agrosatélite - Grãos 2022/2023</td>\n",
       "      <td>RO</td>\n",
       "      <td>2587796.098465558</td>\n",
       "      <td>6.0</td>\n",
       "      <td>start_2023-01-01_end_2023-09-01_monitoring_cla...</td>\n",
       "      <td>2023-01-01</td>\n",
       "      <td>2023-09-01</td>\n",
       "      <td>2023-02-01</td>\n",
       "      <td>...</td>\n",
       "      <td>None</td>\n",
       "      <td>MULTIPOLYGON (((-60.09277 -12.68095, -60.09225...</td>\n",
       "      <td>start_2023-01-01_end_2023-09-01_monitoring_cla...</td>\n",
       "      <td>COTTON</td>\n",
       "      <td>False</td>\n",
       "      <td>NaN</td>\n",
       "      <td>NaN</td>\n",
       "      <td>NaN</td>\n",
       "      <td>NaN</td>\n",
       "      <td>'bands'</td>\n",
       "    </tr>\n",
       "    <tr>\n",
       "      <th>4</th>\n",
       "      <td>COTTON</td>\n",
       "      <td>2023/2023</td>\n",
       "      <td>Agrosatélite - Grãos 2022/2023</td>\n",
       "      <td>RO</td>\n",
       "      <td>1905122.280322101</td>\n",
       "      <td>6.0</td>\n",
       "      <td>start_2023-01-01_end_2023-09-01_monitoring_cla...</td>\n",
       "      <td>2023-01-01</td>\n",
       "      <td>2023-09-01</td>\n",
       "      <td>2023-02-01</td>\n",
       "      <td>...</td>\n",
       "      <td>None</td>\n",
       "      <td>MULTIPOLYGON (((-60.10734 -12.71187, -60.10736...</td>\n",
       "      <td>start_2023-01-01_end_2023-09-01_monitoring_cla...</td>\n",
       "      <td>COTTON</td>\n",
       "      <td>False</td>\n",
       "      <td>NaN</td>\n",
       "      <td>NaN</td>\n",
       "      <td>NaN</td>\n",
       "      <td>NaN</td>\n",
       "      <td>'bands'</td>\n",
       "    </tr>\n",
       "  </tbody>\n",
       "</table>\n",
       "<p>5 rows × 81 columns</p>\n",
       "</div>"
      ],
      "text/plain": [
       "  monitoring_class     period                           fonte state  \\\n",
       "0           COTTON  2023/2023  Agrosatélite - Grãos 2022/2023    RO   \n",
       "1           COTTON  2023/2023  Agrosatélite - Grãos 2022/2023    MT   \n",
       "2           COTTON  2023/2023  Agrosatélite - Grãos 2022/2023    RO   \n",
       "3           COTTON  2023/2023  Agrosatélite - Grãos 2022/2023    RO   \n",
       "4           COTTON  2023/2023  Agrosatélite - Grãos 2022/2023    RO   \n",
       "\n",
       "                area  micro  \\\n",
       "0               None    6.0   \n",
       "1   1342.74499544682    6.0   \n",
       "2  2464683.315293218    6.0   \n",
       "3  2587796.098465558    6.0   \n",
       "4  1905122.280322101    6.0   \n",
       "\n",
       "                                     eopath_location start_season end_season  \\\n",
       "0  start_2023-01-01_end_2023-09-01_monitoring_cla...   2023-01-01 2023-09-01   \n",
       "1  start_2022-12-01_end_2023-10-01_monitoring_cla...   2022-12-01 2023-10-01   \n",
       "2  start_2023-01-01_end_2023-09-01_monitoring_cla...   2023-01-01 2023-09-01   \n",
       "3  start_2023-01-01_end_2023-09-01_monitoring_cla...   2023-01-01 2023-09-01   \n",
       "4  start_2023-01-01_end_2023-09-01_monitoring_cla...   2023-01-01 2023-09-01   \n",
       "\n",
       "  peak_start  ...   set                                           geometry  \\\n",
       "0 2023-02-01  ...  None  MULTIPOLYGON (((-60.09317 -12.68038, -60.09279...   \n",
       "1 2023-02-01  ...  None  MULTIPOLYGON (((-60.08045 -12.7151, -60.08176 ...   \n",
       "2 2023-02-01  ...  None  MULTIPOLYGON (((-60.08677 -12.68559, -60.08677...   \n",
       "3 2023-02-01  ...  None  MULTIPOLYGON (((-60.09277 -12.68095, -60.09225...   \n",
       "4 2023-02-01  ...  None  MULTIPOLYGON (((-60.10734 -12.71187, -60.10736...   \n",
       "\n",
       "                                          geopackage geopackage_class  \\\n",
       "0  start_2023-01-01_end_2023-09-01_monitoring_cla...           COTTON   \n",
       "1  start_2022-12-01_end_2023-10-01_monitoring_cla...           COTTON   \n",
       "2  start_2023-01-01_end_2023-09-01_monitoring_cla...           COTTON   \n",
       "3  start_2023-01-01_end_2023-09-01_monitoring_cla...           COTTON   \n",
       "4  start_2023-01-01_end_2023-09-01_monitoring_cla...           COTTON   \n",
       "\n",
       "  eopatch_processed_exists len_data len_bands len_time_interval len_timestamp  \\\n",
       "0                    False      NaN       NaN               NaN           NaN   \n",
       "1                     True      4.0      10.0               2.0          30.0   \n",
       "2                    False      NaN       NaN               NaN           NaN   \n",
       "3                    False      NaN       NaN               NaN           NaN   \n",
       "4                    False      NaN       NaN               NaN           NaN   \n",
       "\n",
       "  error_processed  \n",
       "0         'bands'  \n",
       "1            None  \n",
       "2         'bands'  \n",
       "3         'bands'  \n",
       "4         'bands'  \n",
       "\n",
       "[5 rows x 81 columns]"
      ]
     },
     "execution_count": 15,
     "metadata": {},
     "output_type": "execute_result"
    }
   ],
   "source": [
    "df_processed.head()"
   ]
  },
  {
   "cell_type": "code",
   "execution_count": 19,
   "id": "f476ffe4-9ed6-4e37-a850-6e523926c75e",
   "metadata": {},
   "outputs": [
    {
     "data": {
      "text/plain": [
       "error_processed\n",
       "'bands'    96\n",
       "Name: count, dtype: int64"
      ]
     },
     "execution_count": 19,
     "metadata": {},
     "output_type": "execute_result"
    }
   ],
   "source": [
    "df_processed[df_processed['eopatch_processed_exists']==False]['error_processed'].value_counts()"
   ]
  },
  {
   "cell_type": "code",
   "execution_count": 20,
   "id": "292c0d69-5a9f-4dba-a7d9-558ff8140e4f",
   "metadata": {},
   "outputs": [
    {
     "data": {
      "text/plain": [
       "monitoring_class\n",
       "COTTON    102\n",
       "Name: count, dtype: int64"
      ]
     },
     "execution_count": 20,
     "metadata": {},
     "output_type": "execute_result"
    }
   ],
   "source": [
    "df_processed[df_processed['eopatch_processed_exists']==False]['monitoring_class'].value_counts()"
   ]
  },
  {
   "cell_type": "code",
   "execution_count": 18,
   "id": "5a713ffa-ab0e-4284-be4c-1af70bb51ce5",
   "metadata": {},
   "outputs": [
    {
     "data": {
      "text/plain": [
       "dataset_source\n",
       "/home/ec2-user/datasets/algodao_2022_2023_2023_2023/geopackage/raw/algodao_jan_4751.gpkg    102\n",
       "Name: count, dtype: int64"
      ]
     },
     "execution_count": 18,
     "metadata": {},
     "output_type": "execute_result"
    }
   ],
   "source": [
    "df_processed[df_processed['eopatch_processed_exists']==False]['dataset_source'].value_counts()"
   ]
  },
  {
   "cell_type": "code",
   "execution_count": null,
   "id": "372a89bf-9118-400c-8713-3f1564560cdb",
   "metadata": {},
   "outputs": [],
   "source": [
    "# result_string= '_'.join([f\"{cls}_{count}\" for cls, count in df_join['monitoring_class'].value_counts().items()])\n",
    "# filename= f\"/agrilearn_app/output/experiment_12/data/geopackage/processed/{result_string}_processed.gpkg\"\n",
    "# filename"
   ]
  },
  {
   "cell_type": "code",
   "execution_count": null,
   "id": "55385bb8-9680-4f0e-93f7-5abaa6dd293f",
   "metadata": {},
   "outputs": [],
   "source": [
    "# df_processed.to_file(filename, driver='GPKG', engine='fiona')"
   ]
  },
  {
   "cell_type": "code",
   "execution_count": null,
   "id": "a8a0b2d1-8adf-453d-bc00-52d8cc6249c9",
   "metadata": {},
   "outputs": [],
   "source": [
    "# GEOPACKAGE_PATH = [\"SOYBEAN_96505_CORN_67593_SUGAR_CANE_35276_COTTON_6344_RICE_1842.gpkg\"]"
   ]
  },
  {
   "cell_type": "code",
   "execution_count": null,
   "id": "a5f59013-3dd8-45af-86f8-7e2de78b21db",
   "metadata": {},
   "outputs": [],
   "source": [
    "df_input_model, df_overview_input_model = processing.check_input_model_eopatches_features_based_geopackage(df_processed, \n",
    "                                                                                                           eopatch_path=eopatch_input_model,\n",
    "                                                                                                           label_eopatch_path=LABEL_EOPATCH_LOCATION)"
   ]
  },
  {
   "cell_type": "code",
   "execution_count": null,
   "id": "7e15b4bf-6841-49b5-a4ee-c9d9712b24bf",
   "metadata": {},
   "outputs": [],
   "source": [
    "df_input_model = pd.merge(df_processed, \n",
    "                   df_input_model,\n",
    "                   right_on='geopackage', \n",
    "                   left_on=LABEL_EOPATCH_LOCATION)"
   ]
  },
  {
   "cell_type": "code",
   "execution_count": null,
   "id": "d4e770d0-e63d-4a8a-9e89-bfe4efb52091",
   "metadata": {},
   "outputs": [],
   "source": [
    "df_input_model.columns"
   ]
  },
  {
   "cell_type": "code",
   "execution_count": null,
   "id": "6230b893-05b9-4c56-9bcc-ace0e3e584a5",
   "metadata": {},
   "outputs": [],
   "source": []
  },
  {
   "cell_type": "code",
   "execution_count": null,
   "id": "9ea59f52-9ad3-49af-b584-5a8bc28c38e7",
   "metadata": {},
   "outputs": [],
   "source": []
  },
  {
   "cell_type": "code",
   "execution_count": null,
   "id": "2fa31b1f-0c53-4818-bc32-0daddde92f49",
   "metadata": {},
   "outputs": [],
   "source": [
    "df_input_model.to_file(\"/agrilearn_app/output/experiment_12/data/geopackage/processed/SOYBEAN_96505_CORN_67593_SUGAR_CANE_35276_COTTON_6344_RICE_1842_processed_and_input.gpkg\", driver='GPKG', engine='fiona')"
   ]
  },
  {
   "cell_type": "code",
   "execution_count": null,
   "id": "6e6bfd36-0954-4f74-81f7-1303291e67f3",
   "metadata": {
    "tags": []
   },
   "outputs": [],
   "source": [
    "# result_string= '_'.join([f\"{cls}_{count}\" for cls, count in df_join['monitoring_class'].value_counts().items()])\n",
    "# filename= f\"/agrilearn_app/output/experiment_12/data/geopackage/processed/{result_string}_processed.gpkg\"\n",
    "# filename"
   ]
  },
  {
   "cell_type": "code",
   "execution_count": null,
   "id": "8c3c2aa2-06ca-4256-8a2c-70f80076a114",
   "metadata": {},
   "outputs": [],
   "source": [
    "# df_overview_processed"
   ]
  },
  {
   "cell_type": "code",
   "execution_count": null,
   "id": "d059a66b-2b14-497f-bab7-394038682a97",
   "metadata": {},
   "outputs": [],
   "source": [
    "# df_overview_input_model"
   ]
  },
  {
   "cell_type": "code",
   "execution_count": null,
   "id": "23124ace-4db1-4ee7-9c9c-9c620e2d12e7",
   "metadata": {
    "tags": []
   },
   "outputs": [],
   "source": [
    "# df_full.to_file(path.replace('.gpkg', '_features.gpkg'),\n",
    "#                 driver='GPKG', \n",
    "#                 engine='fiona')"
   ]
  },
  {
   "cell_type": "code",
   "execution_count": null,
   "id": "3feaae3f-1c2e-4996-9d91-cae5b660379f",
   "metadata": {},
   "outputs": [],
   "source": []
  },
  {
   "cell_type": "code",
   "execution_count": null,
   "id": "cc31757b-6d09-4274-b4aa-07e73153c329",
   "metadata": {},
   "outputs": [],
   "source": [
    "# for path in GEOPACKAGE_PATH:\n",
    "#     print(f'... reading {path}')\n",
    "#     df = gpd.read_file(path)\n",
    "\n",
    "#     print(f'... processing {path}')\n",
    "#     df_results, df_overview = processing.check_processed_eopatches_features_based_geopackage(df, \n",
    "#                                                                                              eopatch_path=EOPATCH_PATH_PROCESSED,\n",
    "#                                                                                              label_eopatch_path=LABEL_EOPATCH_LOCATION)\n",
    "#     print(f'... merge data with processed features {}')\n",
    "#     df = pd.merge(df_results, \n",
    "#                   df, \n",
    "#                   left_on='geopackage', \n",
    "#                   right_on=LABEL_EOPATCH_LOCATION)\n",
    "\n",
    "#     print(f'... processing {path}')\n",
    "#     df_results, df_overview = processing.check_input_model_eopatches_features_based_geopackage(df, \n",
    "#                                                                                                eopatch_path=EOPATCH_PATH_INPUT_MODEL,\n",
    "#                                                                                                label_eopatch_path=LABEL_EOPATCH_LOCATION)\n",
    "\n",
    "#     print(f'... merge data with input_model features')\n",
    "#     df = pd.merge(df_results, \n",
    "#                   df, \n",
    "#                   left_on='geopackage', \n",
    "#                   right_on=LABEL_EOPATCH_LOCATION)\n",
    "\n",
    "    \n",
    "#     # print('... savind new file')\n",
    "#     # df.to_file(path, driver='GPKG', engine='fiona')"
   ]
  }
 ],
 "metadata": {
  "kernelspec": {
   "display_name": "Python 3 (ipykernel)",
   "language": "python",
   "name": "python3"
  },
  "language_info": {
   "codemirror_mode": {
    "name": "ipython",
    "version": 3
   },
   "file_extension": ".py",
   "mimetype": "text/x-python",
   "name": "python",
   "nbconvert_exporter": "python",
   "pygments_lexer": "ipython3",
   "version": "3.10.12"
  }
 },
 "nbformat": 4,
 "nbformat_minor": 5
}
