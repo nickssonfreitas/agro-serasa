{
 "cells": [
  {
   "cell_type": "code",
   "execution_count": 5,
   "id": "576fd74f-2e60-4afc-813e-14c723b6f8e3",
   "metadata": {},
   "outputs": [],
   "source": [
    "import sys\n",
    "sys.path.append(\"../agrilearn/submodules/commons/\")\n",
    "from agrilearn.commons.s3 import s3_utils\n",
    "from agrilearn.crop_classification import evaluate_utils, yaml_utils, processing\n",
    "import geopandas as gpd\n",
    "import os\n",
    "import pandas as pd"
   ]
  },
  {
   "cell_type": "markdown",
   "id": "85e6f0ff-bf66-404a-ace7-fe1d5f5722d0",
   "metadata": {},
   "source": [
    "## 1. Define Variables and Read Data"
   ]
  },
  {
   "cell_type": "code",
   "execution_count": 6,
   "id": "18f53df5-37bd-4df7-bb4a-69f6bd5b9df3",
   "metadata": {},
   "outputs": [],
   "source": [
    "MAIN_PATH = \"/agrilearn_app/datasets/SOYBEAN/2020_2021/\"\n",
    "GEOPACKAGE_RAW_PATH = os.path.join(MAIN_PATH, \"geopackage/raw/SOYBEAN_29250.gpkg\")\n",
    "\n",
    "NEW_EOPATCH_PATH_PROCESSED = os.path.join(MAIN_PATH, \"eopatch/processed/\")\n",
    "NEW_EOPATCH_PATH_INPUT_MODEL = os.path.join(MAIN_PATH, \"eopatch/input_model/\")\n",
    "\n",
    "OLD_EOPATCH_PATH_PROCESSED = \"/agrilearn_app/datasets/SOYBEAN/eopatch/processed/\"\n",
    "OLD_EOPATCH_PATH_INPUT_MODEL = \"/agrilearn_app/datasets/SOYBEAN/eopatch/input_model/\"\n",
    "\n",
    "REPORT_PATH = os.path.join(MAIN_PATH, \"reports\")\n",
    "\n",
    "\n",
    "LABEL_EOPATCH_LOCATION = \"eopath_location\" "
   ]
  },
  {
   "cell_type": "code",
   "execution_count": 7,
   "id": "82a9b3d8-eb41-4165-8efc-a62e70d02910",
   "metadata": {},
   "outputs": [],
   "source": [
    "df = gpd.read_file(GEOPACKAGE_RAW_PATH)"
   ]
  },
  {
   "cell_type": "code",
   "execution_count": 8,
   "id": "eec6a003-3bfd-4f12-91c6-6f0c435579f3",
   "metadata": {},
   "outputs": [
    {
     "data": {
      "text/plain": [
       "(29250, 73)"
      ]
     },
     "execution_count": 8,
     "metadata": {},
     "output_type": "execute_result"
    }
   ],
   "source": [
    "df.shape"
   ]
  },
  {
   "cell_type": "code",
   "execution_count": 9,
   "id": "4436b014-847d-4738-880b-4d7cda9ec072",
   "metadata": {},
   "outputs": [
    {
     "data": {
      "text/html": [
       "<div>\n",
       "<style scoped>\n",
       "    .dataframe tbody tr th:only-of-type {\n",
       "        vertical-align: middle;\n",
       "    }\n",
       "\n",
       "    .dataframe tbody tr th {\n",
       "        vertical-align: top;\n",
       "    }\n",
       "\n",
       "    .dataframe thead th {\n",
       "        text-align: right;\n",
       "    }\n",
       "</style>\n",
       "<table border=\"1\" class=\"dataframe\">\n",
       "  <thead>\n",
       "    <tr style=\"text-align: right;\">\n",
       "      <th></th>\n",
       "      <th>monitoring_class</th>\n",
       "      <th>period</th>\n",
       "      <th>fonte</th>\n",
       "      <th>state</th>\n",
       "      <th>area</th>\n",
       "      <th>micro</th>\n",
       "      <th>eopath_location</th>\n",
       "      <th>start_season</th>\n",
       "      <th>end_season</th>\n",
       "      <th>peak_start</th>\n",
       "      <th>...</th>\n",
       "      <th>obs_emergence</th>\n",
       "      <th>obs_senescence</th>\n",
       "      <th>obs_harvest</th>\n",
       "      <th>created_by</th>\n",
       "      <th>area_id</th>\n",
       "      <th>last_date_crop_rnn</th>\n",
       "      <th>crop_distance_score_sits</th>\n",
       "      <th>crop_confidence_maha_sits</th>\n",
       "      <th>set</th>\n",
       "      <th>geometry</th>\n",
       "    </tr>\n",
       "  </thead>\n",
       "  <tbody>\n",
       "    <tr>\n",
       "      <th>0</th>\n",
       "      <td>SOYBEAN</td>\n",
       "      <td>2020/2021</td>\n",
       "      <td>Agrosatélite - Grãos Brasil 2020/2021</td>\n",
       "      <td>MA</td>\n",
       "      <td>None</td>\n",
       "      <td>NaN</td>\n",
       "      <td>start_2020-10-01_end_2021-07-01_monitoring_cla...</td>\n",
       "      <td>2020-10-01</td>\n",
       "      <td>2021-07-01</td>\n",
       "      <td>2020-12-01</td>\n",
       "      <td>...</td>\n",
       "      <td>None</td>\n",
       "      <td>None</td>\n",
       "      <td>None</td>\n",
       "      <td>None</td>\n",
       "      <td>None</td>\n",
       "      <td>None</td>\n",
       "      <td>None</td>\n",
       "      <td>None</td>\n",
       "      <td>None</td>\n",
       "      <td>POLYGON ((-43.42963 -5.56194, -43.4298 -5.5633...</td>\n",
       "    </tr>\n",
       "    <tr>\n",
       "      <th>1</th>\n",
       "      <td>SOYBEAN</td>\n",
       "      <td>2020/2021</td>\n",
       "      <td>Agrosatélite - Grãos Brasil 2020/2021</td>\n",
       "      <td>SP</td>\n",
       "      <td>11126104</td>\n",
       "      <td>NaN</td>\n",
       "      <td>start_2020-09-01_end_2021-05-01_monitoring_cla...</td>\n",
       "      <td>2020-09-01</td>\n",
       "      <td>2021-06-01</td>\n",
       "      <td>2020-11-01</td>\n",
       "      <td>...</td>\n",
       "      <td>None</td>\n",
       "      <td>None</td>\n",
       "      <td>None</td>\n",
       "      <td>None</td>\n",
       "      <td>None</td>\n",
       "      <td>None</td>\n",
       "      <td>None</td>\n",
       "      <td>None</td>\n",
       "      <td>None</td>\n",
       "      <td>MULTIPOLYGON (((-48.41515 -23.58491, -48.41567...</td>\n",
       "    </tr>\n",
       "    <tr>\n",
       "      <th>2</th>\n",
       "      <td>SOYBEAN</td>\n",
       "      <td>2020/2021</td>\n",
       "      <td>Agrosatélite - Grãos Brasil 2020/2021</td>\n",
       "      <td>SP</td>\n",
       "      <td>11126104</td>\n",
       "      <td>NaN</td>\n",
       "      <td>start_2020-09-01_end_2021-05-01_monitoring_cla...</td>\n",
       "      <td>2020-09-01</td>\n",
       "      <td>2021-06-01</td>\n",
       "      <td>2020-11-01</td>\n",
       "      <td>...</td>\n",
       "      <td>None</td>\n",
       "      <td>None</td>\n",
       "      <td>None</td>\n",
       "      <td>None</td>\n",
       "      <td>None</td>\n",
       "      <td>None</td>\n",
       "      <td>None</td>\n",
       "      <td>None</td>\n",
       "      <td>None</td>\n",
       "      <td>POLYGON ((-48.40032 -23.57863, -48.40037 -23.5...</td>\n",
       "    </tr>\n",
       "    <tr>\n",
       "      <th>3</th>\n",
       "      <td>SOYBEAN</td>\n",
       "      <td>2020/2021</td>\n",
       "      <td>Agrosatélite - Grãos Brasil 2020/2021</td>\n",
       "      <td>SP</td>\n",
       "      <td>11126104</td>\n",
       "      <td>NaN</td>\n",
       "      <td>start_2020-09-01_end_2021-05-01_monitoring_cla...</td>\n",
       "      <td>2020-09-01</td>\n",
       "      <td>2021-06-01</td>\n",
       "      <td>2020-11-01</td>\n",
       "      <td>...</td>\n",
       "      <td>None</td>\n",
       "      <td>None</td>\n",
       "      <td>None</td>\n",
       "      <td>None</td>\n",
       "      <td>None</td>\n",
       "      <td>None</td>\n",
       "      <td>None</td>\n",
       "      <td>None</td>\n",
       "      <td>None</td>\n",
       "      <td>POLYGON ((-48.40597 -23.5784, -48.40597 -23.57...</td>\n",
       "    </tr>\n",
       "    <tr>\n",
       "      <th>4</th>\n",
       "      <td>SOYBEAN</td>\n",
       "      <td>2020/2021</td>\n",
       "      <td>Agrosatélite - Grãos Brasil 2020/2021</td>\n",
       "      <td>SP</td>\n",
       "      <td>11126104</td>\n",
       "      <td>NaN</td>\n",
       "      <td>start_2020-09-01_end_2021-05-01_monitoring_cla...</td>\n",
       "      <td>2020-09-01</td>\n",
       "      <td>2021-06-01</td>\n",
       "      <td>2020-11-01</td>\n",
       "      <td>...</td>\n",
       "      <td>None</td>\n",
       "      <td>None</td>\n",
       "      <td>None</td>\n",
       "      <td>None</td>\n",
       "      <td>None</td>\n",
       "      <td>None</td>\n",
       "      <td>None</td>\n",
       "      <td>None</td>\n",
       "      <td>None</td>\n",
       "      <td>POLYGON ((-48.42565 -23.59011, -48.42561 -23.5...</td>\n",
       "    </tr>\n",
       "  </tbody>\n",
       "</table>\n",
       "<p>5 rows × 73 columns</p>\n",
       "</div>"
      ],
      "text/plain": [
       "  monitoring_class     period                                  fonte state  \\\n",
       "0          SOYBEAN  2020/2021  Agrosatélite - Grãos Brasil 2020/2021    MA   \n",
       "1          SOYBEAN  2020/2021  Agrosatélite - Grãos Brasil 2020/2021    SP   \n",
       "2          SOYBEAN  2020/2021  Agrosatélite - Grãos Brasil 2020/2021    SP   \n",
       "3          SOYBEAN  2020/2021  Agrosatélite - Grãos Brasil 2020/2021    SP   \n",
       "4          SOYBEAN  2020/2021  Agrosatélite - Grãos Brasil 2020/2021    SP   \n",
       "\n",
       "       area  micro                                    eopath_location  \\\n",
       "0      None    NaN  start_2020-10-01_end_2021-07-01_monitoring_cla...   \n",
       "1  11126104    NaN  start_2020-09-01_end_2021-05-01_monitoring_cla...   \n",
       "2  11126104    NaN  start_2020-09-01_end_2021-05-01_monitoring_cla...   \n",
       "3  11126104    NaN  start_2020-09-01_end_2021-05-01_monitoring_cla...   \n",
       "4  11126104    NaN  start_2020-09-01_end_2021-05-01_monitoring_cla...   \n",
       "\n",
       "  start_season end_season peak_start  ... obs_emergence obs_senescence  \\\n",
       "0   2020-10-01 2021-07-01 2020-12-01  ...          None           None   \n",
       "1   2020-09-01 2021-06-01 2020-11-01  ...          None           None   \n",
       "2   2020-09-01 2021-06-01 2020-11-01  ...          None           None   \n",
       "3   2020-09-01 2021-06-01 2020-11-01  ...          None           None   \n",
       "4   2020-09-01 2021-06-01 2020-11-01  ...          None           None   \n",
       "\n",
       "  obs_harvest created_by area_id last_date_crop_rnn crop_distance_score_sits  \\\n",
       "0        None       None    None               None                     None   \n",
       "1        None       None    None               None                     None   \n",
       "2        None       None    None               None                     None   \n",
       "3        None       None    None               None                     None   \n",
       "4        None       None    None               None                     None   \n",
       "\n",
       "  crop_confidence_maha_sits   set  \\\n",
       "0                      None  None   \n",
       "1                      None  None   \n",
       "2                      None  None   \n",
       "3                      None  None   \n",
       "4                      None  None   \n",
       "\n",
       "                                            geometry  \n",
       "0  POLYGON ((-43.42963 -5.56194, -43.4298 -5.5633...  \n",
       "1  MULTIPOLYGON (((-48.41515 -23.58491, -48.41567...  \n",
       "2  POLYGON ((-48.40032 -23.57863, -48.40037 -23.5...  \n",
       "3  POLYGON ((-48.40597 -23.5784, -48.40597 -23.57...  \n",
       "4  POLYGON ((-48.42565 -23.59011, -48.42561 -23.5...  \n",
       "\n",
       "[5 rows x 73 columns]"
      ]
     },
     "execution_count": 9,
     "metadata": {},
     "output_type": "execute_result"
    }
   ],
   "source": [
    "df.head()"
   ]
  },
  {
   "cell_type": "markdown",
   "id": "6548aba5-8d69-4c76-bc94-fa812572fe92",
   "metadata": {},
   "source": [
    "## 2. Processing Geopackage"
   ]
  },
  {
   "cell_type": "markdown",
   "id": "a4dcc555-4a93-4bba-9434-89bdd5705c4c",
   "metadata": {},
   "source": [
    "### 2.1 Drop Columns NaN"
   ]
  },
  {
   "cell_type": "code",
   "execution_count": 10,
   "id": "6dc7f806-31a0-4911-afa6-0bc3655a38cb",
   "metadata": {},
   "outputs": [
    {
     "name": "stdout",
     "output_type": "stream",
     "text": [
      "Removed Columns: 17, Percentage: 23.29%\n"
     ]
    }
   ],
   "source": [
    "shape_before = df.shape[1]\n",
    "df.dropna(axis=1, how='all', inplace=True)\n",
    "print(f\"Removed Columns: {shape_before - df.shape[1]}, Percentage: {(shape_before - df.shape[1]) / shape_before * 100:.2f}%\")"
   ]
  },
  {
   "cell_type": "markdown",
   "id": "8d64c9d3-82cf-480e-9880-7a3651edb678",
   "metadata": {},
   "source": [
    "### 2.2 Check NaN values"
   ]
  },
  {
   "cell_type": "code",
   "execution_count": 11,
   "id": "9e2b6e1d-4cf0-4372-a938-36526e0f53ed",
   "metadata": {},
   "outputs": [
    {
     "data": {
      "text/html": [
       "<div>\n",
       "<style scoped>\n",
       "    .dataframe tbody tr th:only-of-type {\n",
       "        vertical-align: middle;\n",
       "    }\n",
       "\n",
       "    .dataframe tbody tr th {\n",
       "        vertical-align: top;\n",
       "    }\n",
       "\n",
       "    .dataframe thead th {\n",
       "        text-align: right;\n",
       "    }\n",
       "</style>\n",
       "<table border=\"1\" class=\"dataframe\">\n",
       "  <thead>\n",
       "    <tr style=\"text-align: right;\">\n",
       "      <th></th>\n",
       "      <th>Null Count</th>\n",
       "      <th>NaN percentage</th>\n",
       "    </tr>\n",
       "  </thead>\n",
       "  <tbody>\n",
       "    <tr>\n",
       "      <th>last_date_crop_rnn</th>\n",
       "      <td>28622</td>\n",
       "      <td>97.852991</td>\n",
       "    </tr>\n",
       "    <tr>\n",
       "      <th>crop_distance_score_sits</th>\n",
       "      <td>28621</td>\n",
       "      <td>97.849573</td>\n",
       "    </tr>\n",
       "    <tr>\n",
       "      <th>crop_confidence_maha_sits</th>\n",
       "      <td>28621</td>\n",
       "      <td>97.849573</td>\n",
       "    </tr>\n",
       "    <tr>\n",
       "      <th>emergence_date</th>\n",
       "      <td>28620</td>\n",
       "      <td>97.846154</td>\n",
       "    </tr>\n",
       "    <tr>\n",
       "      <th>emergence_score</th>\n",
       "      <td>28620</td>\n",
       "      <td>97.846154</td>\n",
       "    </tr>\n",
       "  </tbody>\n",
       "</table>\n",
       "</div>"
      ],
      "text/plain": [
       "                           Null Count  NaN percentage\n",
       "last_date_crop_rnn              28622       97.852991\n",
       "crop_distance_score_sits        28621       97.849573\n",
       "crop_confidence_maha_sits       28621       97.849573\n",
       "emergence_date                  28620       97.846154\n",
       "emergence_score                 28620       97.846154"
      ]
     },
     "execution_count": 11,
     "metadata": {},
     "output_type": "execute_result"
    }
   ],
   "source": [
    "# Calcula a quantidade de registros nulos e a porcentagem de registros nulos\n",
    "df_check_NaN = pd.concat([df.isna().sum(), df.isna().sum() / df.shape[0] * 100], axis=1)\n",
    "df_check_NaN.columns = ['Null Count', 'NaN percentage']\n",
    "df_check_NaN.sort_values('NaN percentage', ascending=False, inplace=True)\n",
    "df_check_NaN.head()"
   ]
  },
  {
   "cell_type": "markdown",
   "id": "20e67071-edba-4f5a-b5d3-7057b0b6e434",
   "metadata": {},
   "source": [
    "### 2.3 Transform all Geometry to Multipolygon"
   ]
  },
  {
   "cell_type": "code",
   "execution_count": 12,
   "id": "69609852-765d-40dd-aa04-39f7fd852eec",
   "metadata": {},
   "outputs": [],
   "source": [
    "from shapely.geometry import Polygon, MultiPolygon"
   ]
  },
  {
   "cell_type": "code",
   "execution_count": 13,
   "id": "743737cd-fb15-4fe2-b338-7ad6eabac18e",
   "metadata": {},
   "outputs": [],
   "source": [
    "df['geometry'] = df['geometry'].apply(lambda geom: MultiPolygon([geom]) if isinstance(geom, Polygon) else geom)"
   ]
  },
  {
   "cell_type": "markdown",
   "id": "3ca10c52-2354-4e49-b819-260231448975",
   "metadata": {},
   "source": [
    "### 2.4 Check Duplicates"
   ]
  },
  {
   "cell_type": "code",
   "execution_count": 14,
   "id": "41edc734-fe66-4488-a1d4-1ec185d3f382",
   "metadata": {},
   "outputs": [],
   "source": [
    "df['duplicates_id'] = None\n",
    "duplicados = df[df.duplicated(subset='eopath_location', keep=False)]\n",
    "# Adicione um identificador para os duplicados\n",
    "duplicados['duplicates_id'] = duplicados.groupby('eopath_location').ngroup()\n",
    "# Combine os dados duplicados com o DataFrame original\n",
    "df.update(duplicados)\n",
    "df.sort_values('duplicates_id', inplace=True)"
   ]
  },
  {
   "cell_type": "code",
   "execution_count": 15,
   "id": "8450fe80-2dd1-4616-bbf4-81c670947505",
   "metadata": {},
   "outputs": [
    {
     "data": {
      "text/plain": [
       "(29250, 57)"
      ]
     },
     "execution_count": 15,
     "metadata": {},
     "output_type": "execute_result"
    }
   ],
   "source": [
    "duplicados.shape"
   ]
  },
  {
   "cell_type": "code",
   "execution_count": 16,
   "id": "f62be976-aa0e-405a-8796-f2b652daabfc",
   "metadata": {},
   "outputs": [
    {
     "data": {
      "text/html": [
       "<div>\n",
       "<style scoped>\n",
       "    .dataframe tbody tr th:only-of-type {\n",
       "        vertical-align: middle;\n",
       "    }\n",
       "\n",
       "    .dataframe tbody tr th {\n",
       "        vertical-align: top;\n",
       "    }\n",
       "\n",
       "    .dataframe thead th {\n",
       "        text-align: right;\n",
       "    }\n",
       "</style>\n",
       "<table border=\"1\" class=\"dataframe\">\n",
       "  <thead>\n",
       "    <tr style=\"text-align: right;\">\n",
       "      <th></th>\n",
       "      <th>monitoring_class</th>\n",
       "      <th>period</th>\n",
       "      <th>fonte</th>\n",
       "      <th>state</th>\n",
       "      <th>area</th>\n",
       "      <th>eopath_location</th>\n",
       "      <th>start_season</th>\n",
       "      <th>end_season</th>\n",
       "      <th>peak_start</th>\n",
       "      <th>peak_end</th>\n",
       "      <th>...</th>\n",
       "      <th>obs_senescence</th>\n",
       "      <th>obs_harvest</th>\n",
       "      <th>created_by</th>\n",
       "      <th>area_id</th>\n",
       "      <th>last_date_crop_rnn</th>\n",
       "      <th>crop_distance_score_sits</th>\n",
       "      <th>crop_confidence_maha_sits</th>\n",
       "      <th>set</th>\n",
       "      <th>geometry</th>\n",
       "      <th>duplicates_id</th>\n",
       "    </tr>\n",
       "  </thead>\n",
       "  <tbody>\n",
       "    <tr>\n",
       "      <th>21090</th>\n",
       "      <td>SOYBEAN</td>\n",
       "      <td>2020/2021</td>\n",
       "      <td>Agrosatélite - Grãos Brasil 2020/2021</td>\n",
       "      <td>SP</td>\n",
       "      <td>698856</td>\n",
       "      <td>start_2020-09-01_end_2021-05-01_monitoring_cla...</td>\n",
       "      <td>2020-09-01</td>\n",
       "      <td>2021-06-01</td>\n",
       "      <td>2020-11-01</td>\n",
       "      <td>2021-03-01</td>\n",
       "      <td>...</td>\n",
       "      <td>None</td>\n",
       "      <td>None</td>\n",
       "      <td>None</td>\n",
       "      <td>None</td>\n",
       "      <td>None</td>\n",
       "      <td>None</td>\n",
       "      <td>None</td>\n",
       "      <td>None</td>\n",
       "      <td>MULTIPOLYGON (((-45.29003 -22.87902, -45.29003...</td>\n",
       "      <td>0</td>\n",
       "    </tr>\n",
       "    <tr>\n",
       "      <th>6781</th>\n",
       "      <td>SOYBEAN</td>\n",
       "      <td>2020/2021</td>\n",
       "      <td>Agrosatélite - Grãos Brasil 2020/2021</td>\n",
       "      <td>SP</td>\n",
       "      <td>698856</td>\n",
       "      <td>start_2020-09-01_end_2021-05-01_monitoring_cla...</td>\n",
       "      <td>2020-09-01</td>\n",
       "      <td>2021-06-01</td>\n",
       "      <td>2020-11-01</td>\n",
       "      <td>2021-03-01</td>\n",
       "      <td>...</td>\n",
       "      <td>None</td>\n",
       "      <td>None</td>\n",
       "      <td>None</td>\n",
       "      <td>None</td>\n",
       "      <td>None</td>\n",
       "      <td>None</td>\n",
       "      <td>None</td>\n",
       "      <td>None</td>\n",
       "      <td>MULTIPOLYGON (((-45.29003 -22.87902, -45.29003...</td>\n",
       "      <td>0</td>\n",
       "    </tr>\n",
       "  </tbody>\n",
       "</table>\n",
       "<p>2 rows × 57 columns</p>\n",
       "</div>"
      ],
      "text/plain": [
       "      monitoring_class     period                                  fonte  \\\n",
       "21090          SOYBEAN  2020/2021  Agrosatélite - Grãos Brasil 2020/2021   \n",
       "6781           SOYBEAN  2020/2021  Agrosatélite - Grãos Brasil 2020/2021   \n",
       "\n",
       "      state    area                                    eopath_location  \\\n",
       "21090    SP  698856  start_2020-09-01_end_2021-05-01_monitoring_cla...   \n",
       "6781     SP  698856  start_2020-09-01_end_2021-05-01_monitoring_cla...   \n",
       "\n",
       "      start_season end_season peak_start   peak_end  ... obs_senescence  \\\n",
       "21090   2020-09-01 2021-06-01 2020-11-01 2021-03-01  ...           None   \n",
       "6781    2020-09-01 2021-06-01 2020-11-01 2021-03-01  ...           None   \n",
       "\n",
       "      obs_harvest created_by area_id last_date_crop_rnn  \\\n",
       "21090        None       None    None               None   \n",
       "6781         None       None    None               None   \n",
       "\n",
       "      crop_distance_score_sits crop_confidence_maha_sits   set  \\\n",
       "21090                     None                      None  None   \n",
       "6781                      None                      None  None   \n",
       "\n",
       "                                                geometry duplicates_id  \n",
       "21090  MULTIPOLYGON (((-45.29003 -22.87902, -45.29003...             0  \n",
       "6781   MULTIPOLYGON (((-45.29003 -22.87902, -45.29003...             0  \n",
       "\n",
       "[2 rows x 57 columns]"
      ]
     },
     "execution_count": 16,
     "metadata": {},
     "output_type": "execute_result"
    }
   ],
   "source": [
    "df[df['duplicates_id']==0]"
   ]
  },
  {
   "cell_type": "code",
   "execution_count": 17,
   "id": "087476aa-f0aa-47a2-9db9-a955b0e50ef0",
   "metadata": {},
   "outputs": [
    {
     "name": "stdout",
     "output_type": "stream",
     "text": [
      "Removed records: 14941, Percentage: 51.08%\n"
     ]
    }
   ],
   "source": [
    "shape_before = df.shape[0]\n",
    "df.drop_duplicates(subset=['geometry', 'period'], inplace=True)\n",
    "print(f\"Removed records: {shape_before - df.shape[0]}, Percentage: {(shape_before - df.shape[0]) / shape_before * 100:.2f}%\")"
   ]
  },
  {
   "cell_type": "markdown",
   "id": "5f5611ac-de51-47b7-b41a-0ab55eb7c676",
   "metadata": {},
   "source": [
    "### 2.5 feature engineering"
   ]
  },
  {
   "cell_type": "code",
   "execution_count": 18,
   "id": "527dbe7f-0ae7-4c67-b8f5-52ff4749fb76",
   "metadata": {},
   "outputs": [],
   "source": [
    "df['safra'] = df['period'].apply(lambda x: 'safrinha' if x.split('/')[0] == x.split('/')[1] else 'safra')"
   ]
  },
  {
   "cell_type": "code",
   "execution_count": 19,
   "id": "35cde317-adab-413a-bf94-842cc7f5933d",
   "metadata": {},
   "outputs": [
    {
     "data": {
      "text/plain": [
       "safra\n",
       "safra    14309\n",
       "Name: count, dtype: int64"
      ]
     },
     "execution_count": 19,
     "metadata": {},
     "output_type": "execute_result"
    }
   ],
   "source": [
    "df['safra'].value_counts()"
   ]
  },
  {
   "cell_type": "markdown",
   "id": "aba321ba-2579-45be-95bd-6bd1475710c0",
   "metadata": {},
   "source": [
    "## 3. Move eopatch to other"
   ]
  },
  {
   "cell_type": "markdown",
   "id": "33cfdde7-e234-4c07-95b9-3792d19b0028",
   "metadata": {},
   "source": [
    "#### A) PROCESSED"
   ]
  },
  {
   "cell_type": "code",
   "execution_count": 20,
   "id": "234a640f-6bb2-42e5-b72f-769cc9b70dee",
   "metadata": {},
   "outputs": [
    {
     "name": "stderr",
     "output_type": "stream",
     "text": [
      "2025-04-19 00:45:18,789 - INFO - Iniciando a execução da função 'check_load_eopatch_and_change_eopatch_dir'\n"
     ]
    },
    {
     "data": {
      "application/vnd.jupyter.widget-view+json": {
       "model_id": "7d92e8815a5b48efbf6433168adc11d3",
       "version_major": 2,
       "version_minor": 0
      },
      "text/plain": [
       "  0%|          | 0/14309 [00:00<?, ?it/s]"
      ]
     },
     "metadata": {},
     "output_type": "display_data"
    },
    {
     "name": "stderr",
     "output_type": "stream",
     "text": [
      "2025-04-19 01:22:29,698 - INFO - Tempo de execução da função 'check_load_eopatch_and_change_eopatch_dir': 2230.91 segundos\n"
     ]
    }
   ],
   "source": [
    "df_results_processed = processing.check_load_eopatch_and_change_eopatch_dir(df,\n",
    "                                        eopatch_path=OLD_EOPATCH_PATH_PROCESSED,\n",
    "                                        new_eopatch_path=NEW_EOPATCH_PATH_PROCESSED,\n",
    "                                        label_monitoring_class='monitoring_class',\n",
    "                                        label_eopatch_path='eopath_location')"
   ]
  },
  {
   "cell_type": "code",
   "execution_count": 21,
   "id": "fa4cc701-4d60-459f-af24-7ec11ae016a7",
   "metadata": {},
   "outputs": [
    {
     "data": {
      "text/html": [
       "<div>\n",
       "<style scoped>\n",
       "    .dataframe tbody tr th:only-of-type {\n",
       "        vertical-align: middle;\n",
       "    }\n",
       "\n",
       "    .dataframe tbody tr th {\n",
       "        vertical-align: top;\n",
       "    }\n",
       "\n",
       "    .dataframe thead th {\n",
       "        text-align: right;\n",
       "    }\n",
       "</style>\n",
       "<table border=\"1\" class=\"dataframe\">\n",
       "  <thead>\n",
       "    <tr style=\"text-align: right;\">\n",
       "      <th></th>\n",
       "      <th>miss_geopackage</th>\n",
       "      <th>error_processed</th>\n",
       "      <th>rsync_output</th>\n",
       "    </tr>\n",
       "  </thead>\n",
       "  <tbody>\n",
       "    <tr>\n",
       "      <th>0</th>\n",
       "      <td>start_2020-09-01_end_2021-05-01_monitoring_cla...</td>\n",
       "      <td>None</td>\n",
       "      <td></td>\n",
       "    </tr>\n",
       "    <tr>\n",
       "      <th>1</th>\n",
       "      <td>start_2020-09-01_end_2021-05-01_monitoring_cla...</td>\n",
       "      <td>None</td>\n",
       "      <td></td>\n",
       "    </tr>\n",
       "    <tr>\n",
       "      <th>2</th>\n",
       "      <td>start_2020-09-01_end_2021-05-01_monitoring_cla...</td>\n",
       "      <td>None</td>\n",
       "      <td></td>\n",
       "    </tr>\n",
       "    <tr>\n",
       "      <th>3</th>\n",
       "      <td>start_2020-09-01_end_2021-05-01_monitoring_cla...</td>\n",
       "      <td>None</td>\n",
       "      <td></td>\n",
       "    </tr>\n",
       "    <tr>\n",
       "      <th>4</th>\n",
       "      <td>start_2020-09-01_end_2021-05-01_monitoring_cla...</td>\n",
       "      <td>None</td>\n",
       "      <td></td>\n",
       "    </tr>\n",
       "    <tr>\n",
       "      <th>...</th>\n",
       "      <td>...</td>\n",
       "      <td>...</td>\n",
       "      <td>...</td>\n",
       "    </tr>\n",
       "    <tr>\n",
       "      <th>14304</th>\n",
       "      <td>start_2021-04-01_end_2021-11-01_monitoring_cla...</td>\n",
       "      <td>None</td>\n",
       "      <td></td>\n",
       "    </tr>\n",
       "    <tr>\n",
       "      <th>14305</th>\n",
       "      <td>start_2021-04-01_end_2021-11-01_monitoring_cla...</td>\n",
       "      <td>None</td>\n",
       "      <td></td>\n",
       "    </tr>\n",
       "    <tr>\n",
       "      <th>14306</th>\n",
       "      <td>start_2021-04-01_end_2021-11-01_monitoring_cla...</td>\n",
       "      <td>None</td>\n",
       "      <td></td>\n",
       "    </tr>\n",
       "    <tr>\n",
       "      <th>14307</th>\n",
       "      <td>start_2021-04-01_end_2021-11-01_monitoring_cla...</td>\n",
       "      <td>None</td>\n",
       "      <td></td>\n",
       "    </tr>\n",
       "    <tr>\n",
       "      <th>14308</th>\n",
       "      <td>start_2021-04-01_end_2021-11-01_monitoring_cla...</td>\n",
       "      <td>None</td>\n",
       "      <td></td>\n",
       "    </tr>\n",
       "  </tbody>\n",
       "</table>\n",
       "<p>14309 rows × 3 columns</p>\n",
       "</div>"
      ],
      "text/plain": [
       "                                         miss_geopackage error_processed  \\\n",
       "0      start_2020-09-01_end_2021-05-01_monitoring_cla...            None   \n",
       "1      start_2020-09-01_end_2021-05-01_monitoring_cla...            None   \n",
       "2      start_2020-09-01_end_2021-05-01_monitoring_cla...            None   \n",
       "3      start_2020-09-01_end_2021-05-01_monitoring_cla...            None   \n",
       "4      start_2020-09-01_end_2021-05-01_monitoring_cla...            None   \n",
       "...                                                  ...             ...   \n",
       "14304  start_2021-04-01_end_2021-11-01_monitoring_cla...            None   \n",
       "14305  start_2021-04-01_end_2021-11-01_monitoring_cla...            None   \n",
       "14306  start_2021-04-01_end_2021-11-01_monitoring_cla...            None   \n",
       "14307  start_2021-04-01_end_2021-11-01_monitoring_cla...            None   \n",
       "14308  start_2021-04-01_end_2021-11-01_monitoring_cla...            None   \n",
       "\n",
       "      rsync_output  \n",
       "0                   \n",
       "1                   \n",
       "2                   \n",
       "3                   \n",
       "4                   \n",
       "...            ...  \n",
       "14304               \n",
       "14305               \n",
       "14306               \n",
       "14307               \n",
       "14308               \n",
       "\n",
       "[14309 rows x 3 columns]"
      ]
     },
     "execution_count": 21,
     "metadata": {},
     "output_type": "execute_result"
    }
   ],
   "source": [
    "df_results_processed"
   ]
  },
  {
   "cell_type": "markdown",
   "id": "37c40296-5ab1-4d0f-8eff-ae2ad54a8e96",
   "metadata": {},
   "source": [
    "#### B) INPUT_MODEL"
   ]
  },
  {
   "cell_type": "code",
   "execution_count": 22,
   "id": "73654355-4a9e-4684-999c-c964e0c052fc",
   "metadata": {},
   "outputs": [
    {
     "name": "stderr",
     "output_type": "stream",
     "text": [
      "2025-04-19 01:22:29,727 - INFO - Iniciando a execução da função 'check_load_eopatch_and_change_eopatch_dir'\n"
     ]
    },
    {
     "data": {
      "application/vnd.jupyter.widget-view+json": {
       "model_id": "2cfe57650f2f451fa1416bcca2c80885",
       "version_major": 2,
       "version_minor": 0
      },
      "text/plain": [
       "  0%|          | 0/14309 [00:00<?, ?it/s]"
      ]
     },
     "metadata": {},
     "output_type": "display_data"
    },
    {
     "name": "stderr",
     "output_type": "stream",
     "text": [
      "2025-04-19 01:36:32,089 - INFO - Tempo de execução da função 'check_load_eopatch_and_change_eopatch_dir': 842.36 segundos\n"
     ]
    }
   ],
   "source": [
    "df_results_input = processing.check_load_eopatch_and_change_eopatch_dir(df,\n",
    "                                        eopatch_path=OLD_EOPATCH_PATH_INPUT_MODEL,\n",
    "                                        new_eopatch_path=NEW_EOPATCH_PATH_INPUT_MODEL,\n",
    "                                        label_monitoring_class='monitoring_class',\n",
    "                                        label_eopatch_path='eopath_location')"
   ]
  },
  {
   "cell_type": "code",
   "execution_count": 23,
   "id": "47c9beef-09ce-4bae-841e-a6bda531fd01",
   "metadata": {},
   "outputs": [
    {
     "data": {
      "text/html": [
       "<div>\n",
       "<style scoped>\n",
       "    .dataframe tbody tr th:only-of-type {\n",
       "        vertical-align: middle;\n",
       "    }\n",
       "\n",
       "    .dataframe tbody tr th {\n",
       "        vertical-align: top;\n",
       "    }\n",
       "\n",
       "    .dataframe thead th {\n",
       "        text-align: right;\n",
       "    }\n",
       "</style>\n",
       "<table border=\"1\" class=\"dataframe\">\n",
       "  <thead>\n",
       "    <tr style=\"text-align: right;\">\n",
       "      <th></th>\n",
       "      <th>miss_geopackage</th>\n",
       "      <th>error_processed</th>\n",
       "      <th>rsync_output</th>\n",
       "    </tr>\n",
       "  </thead>\n",
       "  <tbody>\n",
       "    <tr>\n",
       "      <th>0</th>\n",
       "      <td>start_2020-09-01_end_2021-05-01_monitoring_cla...</td>\n",
       "      <td>None</td>\n",
       "      <td></td>\n",
       "    </tr>\n",
       "    <tr>\n",
       "      <th>1</th>\n",
       "      <td>start_2020-09-01_end_2021-05-01_monitoring_cla...</td>\n",
       "      <td>None</td>\n",
       "      <td></td>\n",
       "    </tr>\n",
       "    <tr>\n",
       "      <th>2</th>\n",
       "      <td>start_2020-09-01_end_2021-05-01_monitoring_cla...</td>\n",
       "      <td>None</td>\n",
       "      <td></td>\n",
       "    </tr>\n",
       "    <tr>\n",
       "      <th>3</th>\n",
       "      <td>start_2020-09-01_end_2021-05-01_monitoring_cla...</td>\n",
       "      <td>None</td>\n",
       "      <td></td>\n",
       "    </tr>\n",
       "    <tr>\n",
       "      <th>4</th>\n",
       "      <td>start_2020-09-01_end_2021-05-01_monitoring_cla...</td>\n",
       "      <td>None</td>\n",
       "      <td></td>\n",
       "    </tr>\n",
       "    <tr>\n",
       "      <th>...</th>\n",
       "      <td>...</td>\n",
       "      <td>...</td>\n",
       "      <td>...</td>\n",
       "    </tr>\n",
       "    <tr>\n",
       "      <th>14304</th>\n",
       "      <td>start_2021-04-01_end_2021-11-01_monitoring_cla...</td>\n",
       "      <td>None</td>\n",
       "      <td></td>\n",
       "    </tr>\n",
       "    <tr>\n",
       "      <th>14305</th>\n",
       "      <td>start_2021-04-01_end_2021-11-01_monitoring_cla...</td>\n",
       "      <td>None</td>\n",
       "      <td></td>\n",
       "    </tr>\n",
       "    <tr>\n",
       "      <th>14306</th>\n",
       "      <td>start_2021-04-01_end_2021-11-01_monitoring_cla...</td>\n",
       "      <td>None</td>\n",
       "      <td></td>\n",
       "    </tr>\n",
       "    <tr>\n",
       "      <th>14307</th>\n",
       "      <td>start_2021-04-01_end_2021-11-01_monitoring_cla...</td>\n",
       "      <td>None</td>\n",
       "      <td></td>\n",
       "    </tr>\n",
       "    <tr>\n",
       "      <th>14308</th>\n",
       "      <td>start_2021-04-01_end_2021-11-01_monitoring_cla...</td>\n",
       "      <td>None</td>\n",
       "      <td></td>\n",
       "    </tr>\n",
       "  </tbody>\n",
       "</table>\n",
       "<p>14309 rows × 3 columns</p>\n",
       "</div>"
      ],
      "text/plain": [
       "                                         miss_geopackage error_processed  \\\n",
       "0      start_2020-09-01_end_2021-05-01_monitoring_cla...            None   \n",
       "1      start_2020-09-01_end_2021-05-01_monitoring_cla...            None   \n",
       "2      start_2020-09-01_end_2021-05-01_monitoring_cla...            None   \n",
       "3      start_2020-09-01_end_2021-05-01_monitoring_cla...            None   \n",
       "4      start_2020-09-01_end_2021-05-01_monitoring_cla...            None   \n",
       "...                                                  ...             ...   \n",
       "14304  start_2021-04-01_end_2021-11-01_monitoring_cla...            None   \n",
       "14305  start_2021-04-01_end_2021-11-01_monitoring_cla...            None   \n",
       "14306  start_2021-04-01_end_2021-11-01_monitoring_cla...            None   \n",
       "14307  start_2021-04-01_end_2021-11-01_monitoring_cla...            None   \n",
       "14308  start_2021-04-01_end_2021-11-01_monitoring_cla...            None   \n",
       "\n",
       "      rsync_output  \n",
       "0                   \n",
       "1                   \n",
       "2                   \n",
       "3                   \n",
       "4                   \n",
       "...            ...  \n",
       "14304               \n",
       "14305               \n",
       "14306               \n",
       "14307               \n",
       "14308               \n",
       "\n",
       "[14309 rows x 3 columns]"
      ]
     },
     "execution_count": 23,
     "metadata": {},
     "output_type": "execute_result"
    }
   ],
   "source": [
    "df_results_input"
   ]
  },
  {
   "cell_type": "code",
   "execution_count": 24,
   "id": "8f130b30-06dc-49c8-b601-9332c705899f",
   "metadata": {},
   "outputs": [
    {
     "data": {
      "text/plain": [
       "14309"
      ]
     },
     "execution_count": 24,
     "metadata": {},
     "output_type": "execute_result"
    }
   ],
   "source": [
    "df_results_input['miss_geopackage'].nunique()"
   ]
  },
  {
   "cell_type": "code",
   "execution_count": 25,
   "id": "950b1a17-81e8-4d21-9e51-9698d8a52e8e",
   "metadata": {},
   "outputs": [
    {
     "data": {
      "text/plain": [
       "error_processed\n",
       "EOPatch not found    4\n",
       "Name: count, dtype: int64"
      ]
     },
     "execution_count": 25,
     "metadata": {},
     "output_type": "execute_result"
    }
   ],
   "source": [
    "df_results_input['error_processed'].value_counts()"
   ]
  },
  {
   "cell_type": "markdown",
   "id": "db436b65-8415-41d2-8f82-ea7fe81f5024",
   "metadata": {},
   "source": [
    "## 4. Check processed eopatch"
   ]
  },
  {
   "cell_type": "code",
   "execution_count": 26,
   "id": "9622f2ca-a00d-42e7-8308-5178f16b7a12",
   "metadata": {},
   "outputs": [
    {
     "data": {
      "text/plain": [
       "'SOYBEAN_14309'"
      ]
     },
     "execution_count": 26,
     "metadata": {},
     "output_type": "execute_result"
    }
   ],
   "source": [
    "string_name = processing.get_geopackage_name(df)\n",
    "string_name"
   ]
  },
  {
   "cell_type": "markdown",
   "id": "f451415c-7e9b-4693-a24e-dc5c1dd8d7cc",
   "metadata": {},
   "source": [
    "#### A) PROCESSED"
   ]
  },
  {
   "cell_type": "code",
   "execution_count": 27,
   "id": "2b34e0cb-568d-4fc3-a275-6eaab5483621",
   "metadata": {},
   "outputs": [
    {
     "name": "stderr",
     "output_type": "stream",
     "text": [
      "2025-04-19 01:36:32,145 - INFO - Iniciando a execução da função 'check_processed_eopatches_features_based_geopackage'\n"
     ]
    },
    {
     "data": {
      "application/vnd.jupyter.widget-view+json": {
       "model_id": "efd9605da5ce4864a51b68e16f8fef58",
       "version_major": 2,
       "version_minor": 0
      },
      "text/plain": [
       "  0%|          | 0/14309 [00:00<?, ?it/s]"
      ]
     },
     "metadata": {},
     "output_type": "display_data"
    },
    {
     "name": "stderr",
     "output_type": "stream",
     "text": [
      "2025-04-19 02:06:39,610 - INFO - Tempo de execução da função 'check_processed_eopatches_features_based_geopackage': 1807.47 segundos\n"
     ]
    }
   ],
   "source": [
    "df_processed, df_overview_processed = processing.check_processed_eopatches_features_based_geopackage(df, \n",
    "                                                                                         eopatch_path=NEW_EOPATCH_PATH_PROCESSED,\n",
    "                                                                                         label_eopatch_path=LABEL_EOPATCH_LOCATION)"
   ]
  },
  {
   "cell_type": "code",
   "execution_count": 28,
   "id": "38a797c8-c675-4944-adb4-a394fb369ff2",
   "metadata": {},
   "outputs": [
    {
     "data": {
      "text/html": [
       "<div>\n",
       "<style scoped>\n",
       "    .dataframe tbody tr th:only-of-type {\n",
       "        vertical-align: middle;\n",
       "    }\n",
       "\n",
       "    .dataframe tbody tr th {\n",
       "        vertical-align: top;\n",
       "    }\n",
       "\n",
       "    .dataframe thead th {\n",
       "        text-align: right;\n",
       "    }\n",
       "</style>\n",
       "<table border=\"1\" class=\"dataframe\">\n",
       "  <thead>\n",
       "    <tr style=\"text-align: right;\">\n",
       "      <th></th>\n",
       "      <th>0</th>\n",
       "    </tr>\n",
       "  </thead>\n",
       "  <tbody>\n",
       "    <tr>\n",
       "      <th>total_eopatches</th>\n",
       "      <td>14309.0</td>\n",
       "    </tr>\n",
       "    <tr>\n",
       "      <th>eopatch_processed_exists</th>\n",
       "      <td>14309.0</td>\n",
       "    </tr>\n",
       "    <tr>\n",
       "      <th>eopatches_not_exist</th>\n",
       "      <td>0.0</td>\n",
       "    </tr>\n",
       "    <tr>\n",
       "      <th>percentage_eopatches_not_exist</th>\n",
       "      <td>0.0</td>\n",
       "    </tr>\n",
       "    <tr>\n",
       "      <th>len_data_exist</th>\n",
       "      <td>14309.0</td>\n",
       "    </tr>\n",
       "    <tr>\n",
       "      <th>percentage_len_data_exist</th>\n",
       "      <td>100.0</td>\n",
       "    </tr>\n",
       "    <tr>\n",
       "      <th>len_bands_exist</th>\n",
       "      <td>14309.0</td>\n",
       "    </tr>\n",
       "    <tr>\n",
       "      <th>percentage_len_bands_exist</th>\n",
       "      <td>100.0</td>\n",
       "    </tr>\n",
       "    <tr>\n",
       "      <th>len_time_interval_exist</th>\n",
       "      <td>14309.0</td>\n",
       "    </tr>\n",
       "    <tr>\n",
       "      <th>percentage_len_time_interval_exist</th>\n",
       "      <td>100.0</td>\n",
       "    </tr>\n",
       "    <tr>\n",
       "      <th>len_timestamp_exist</th>\n",
       "      <td>14309.0</td>\n",
       "    </tr>\n",
       "    <tr>\n",
       "      <th>percentage_len_timestamp_exist</th>\n",
       "      <td>100.0</td>\n",
       "    </tr>\n",
       "  </tbody>\n",
       "</table>\n",
       "</div>"
      ],
      "text/plain": [
       "                                          0\n",
       "total_eopatches                     14309.0\n",
       "eopatch_processed_exists            14309.0\n",
       "eopatches_not_exist                     0.0\n",
       "percentage_eopatches_not_exist          0.0\n",
       "len_data_exist                      14309.0\n",
       "percentage_len_data_exist             100.0\n",
       "len_bands_exist                     14309.0\n",
       "percentage_len_bands_exist            100.0\n",
       "len_time_interval_exist             14309.0\n",
       "percentage_len_time_interval_exist    100.0\n",
       "len_timestamp_exist                 14309.0\n",
       "percentage_len_timestamp_exist        100.0"
      ]
     },
     "execution_count": 28,
     "metadata": {},
     "output_type": "execute_result"
    }
   ],
   "source": [
    "df_overview_processed"
   ]
  },
  {
   "cell_type": "code",
   "execution_count": 29,
   "id": "32da76cb-9c6c-4e3c-a415-5eb1abda2579",
   "metadata": {},
   "outputs": [
    {
     "data": {
      "text/plain": [
       "'/agrilearn_app/datasets/SOYBEAN/2020_2021/reports/overview_SOYBEAN_14309_processed.csv'"
      ]
     },
     "execution_count": 29,
     "metadata": {},
     "output_type": "execute_result"
    }
   ],
   "source": [
    "os.makedirs(REPORT_PATH, exist_ok=True)\n",
    "final_processed_report_name = f\"{REPORT_PATH}/overview_{string_name}_processed.csv\"\n",
    "df_overview_processed.to_csv(final_processed_report_name)\n",
    "final_processed_report_name"
   ]
  },
  {
   "cell_type": "code",
   "execution_count": 30,
   "id": "cda3881a-2368-4ca9-b2d4-84be291aa9cf",
   "metadata": {},
   "outputs": [
    {
     "data": {
      "text/html": [
       "<div>\n",
       "<style scoped>\n",
       "    .dataframe tbody tr th:only-of-type {\n",
       "        vertical-align: middle;\n",
       "    }\n",
       "\n",
       "    .dataframe tbody tr th {\n",
       "        vertical-align: top;\n",
       "    }\n",
       "\n",
       "    .dataframe thead th {\n",
       "        text-align: right;\n",
       "    }\n",
       "</style>\n",
       "<table border=\"1\" class=\"dataframe\">\n",
       "  <thead>\n",
       "    <tr style=\"text-align: right;\">\n",
       "      <th></th>\n",
       "      <th>eopatch_location_id</th>\n",
       "      <th>eopatch_processed_exists</th>\n",
       "      <th>len_data</th>\n",
       "      <th>len_bands</th>\n",
       "      <th>len_time_interval</th>\n",
       "      <th>len_timestamp</th>\n",
       "      <th>error_processed</th>\n",
       "    </tr>\n",
       "  </thead>\n",
       "  <tbody>\n",
       "  </tbody>\n",
       "</table>\n",
       "</div>"
      ],
      "text/plain": [
       "Empty DataFrame\n",
       "Columns: [eopatch_location_id, eopatch_processed_exists, len_data, len_bands, len_time_interval, len_timestamp, error_processed]\n",
       "Index: []"
      ]
     },
     "execution_count": 30,
     "metadata": {},
     "output_type": "execute_result"
    }
   ],
   "source": [
    "df_processed[df_processed['eopatch_processed_exists']==False]"
   ]
  },
  {
   "cell_type": "code",
   "execution_count": 31,
   "id": "75151e3a-3330-48cc-ba7c-53edeeb24f46",
   "metadata": {},
   "outputs": [
    {
     "data": {
      "text/html": [
       "<div>\n",
       "<style scoped>\n",
       "    .dataframe tbody tr th:only-of-type {\n",
       "        vertical-align: middle;\n",
       "    }\n",
       "\n",
       "    .dataframe tbody tr th {\n",
       "        vertical-align: top;\n",
       "    }\n",
       "\n",
       "    .dataframe thead th {\n",
       "        text-align: right;\n",
       "    }\n",
       "</style>\n",
       "<table border=\"1\" class=\"dataframe\">\n",
       "  <thead>\n",
       "    <tr style=\"text-align: right;\">\n",
       "      <th></th>\n",
       "      <th>eopatch_location_id</th>\n",
       "      <th>eopatch_processed_exists</th>\n",
       "      <th>len_data</th>\n",
       "      <th>len_bands</th>\n",
       "      <th>len_time_interval</th>\n",
       "      <th>len_timestamp</th>\n",
       "      <th>error_processed</th>\n",
       "    </tr>\n",
       "  </thead>\n",
       "  <tbody>\n",
       "    <tr>\n",
       "      <th>0</th>\n",
       "      <td>start_2020-09-01_end_2021-05-01_monitoring_cla...</td>\n",
       "      <td>True</td>\n",
       "      <td>2</td>\n",
       "      <td>10</td>\n",
       "      <td>2</td>\n",
       "      <td>30</td>\n",
       "      <td>None</td>\n",
       "    </tr>\n",
       "    <tr>\n",
       "      <th>1</th>\n",
       "      <td>start_2020-09-01_end_2021-05-01_monitoring_cla...</td>\n",
       "      <td>True</td>\n",
       "      <td>2</td>\n",
       "      <td>10</td>\n",
       "      <td>2</td>\n",
       "      <td>34</td>\n",
       "      <td>None</td>\n",
       "    </tr>\n",
       "    <tr>\n",
       "      <th>2</th>\n",
       "      <td>start_2020-09-01_end_2021-05-01_monitoring_cla...</td>\n",
       "      <td>True</td>\n",
       "      <td>2</td>\n",
       "      <td>10</td>\n",
       "      <td>2</td>\n",
       "      <td>28</td>\n",
       "      <td>None</td>\n",
       "    </tr>\n",
       "    <tr>\n",
       "      <th>3</th>\n",
       "      <td>start_2020-09-01_end_2021-05-01_monitoring_cla...</td>\n",
       "      <td>True</td>\n",
       "      <td>2</td>\n",
       "      <td>10</td>\n",
       "      <td>2</td>\n",
       "      <td>28</td>\n",
       "      <td>None</td>\n",
       "    </tr>\n",
       "    <tr>\n",
       "      <th>4</th>\n",
       "      <td>start_2020-09-01_end_2021-05-01_monitoring_cla...</td>\n",
       "      <td>True</td>\n",
       "      <td>2</td>\n",
       "      <td>10</td>\n",
       "      <td>2</td>\n",
       "      <td>31</td>\n",
       "      <td>None</td>\n",
       "    </tr>\n",
       "    <tr>\n",
       "      <th>...</th>\n",
       "      <td>...</td>\n",
       "      <td>...</td>\n",
       "      <td>...</td>\n",
       "      <td>...</td>\n",
       "      <td>...</td>\n",
       "      <td>...</td>\n",
       "      <td>...</td>\n",
       "    </tr>\n",
       "    <tr>\n",
       "      <th>14304</th>\n",
       "      <td>start_2021-04-01_end_2021-11-01_monitoring_cla...</td>\n",
       "      <td>True</td>\n",
       "      <td>2</td>\n",
       "      <td>10</td>\n",
       "      <td>2</td>\n",
       "      <td>29</td>\n",
       "      <td>None</td>\n",
       "    </tr>\n",
       "    <tr>\n",
       "      <th>14305</th>\n",
       "      <td>start_2021-04-01_end_2021-11-01_monitoring_cla...</td>\n",
       "      <td>True</td>\n",
       "      <td>2</td>\n",
       "      <td>10</td>\n",
       "      <td>2</td>\n",
       "      <td>51</td>\n",
       "      <td>None</td>\n",
       "    </tr>\n",
       "    <tr>\n",
       "      <th>14306</th>\n",
       "      <td>start_2021-04-01_end_2021-11-01_monitoring_cla...</td>\n",
       "      <td>True</td>\n",
       "      <td>2</td>\n",
       "      <td>10</td>\n",
       "      <td>2</td>\n",
       "      <td>59</td>\n",
       "      <td>None</td>\n",
       "    </tr>\n",
       "    <tr>\n",
       "      <th>14307</th>\n",
       "      <td>start_2021-04-01_end_2021-11-01_monitoring_cla...</td>\n",
       "      <td>True</td>\n",
       "      <td>2</td>\n",
       "      <td>10</td>\n",
       "      <td>2</td>\n",
       "      <td>57</td>\n",
       "      <td>None</td>\n",
       "    </tr>\n",
       "    <tr>\n",
       "      <th>14308</th>\n",
       "      <td>start_2021-04-01_end_2021-11-01_monitoring_cla...</td>\n",
       "      <td>True</td>\n",
       "      <td>2</td>\n",
       "      <td>10</td>\n",
       "      <td>2</td>\n",
       "      <td>54</td>\n",
       "      <td>None</td>\n",
       "    </tr>\n",
       "  </tbody>\n",
       "</table>\n",
       "<p>14309 rows × 7 columns</p>\n",
       "</div>"
      ],
      "text/plain": [
       "                                     eopatch_location_id  \\\n",
       "0      start_2020-09-01_end_2021-05-01_monitoring_cla...   \n",
       "1      start_2020-09-01_end_2021-05-01_monitoring_cla...   \n",
       "2      start_2020-09-01_end_2021-05-01_monitoring_cla...   \n",
       "3      start_2020-09-01_end_2021-05-01_monitoring_cla...   \n",
       "4      start_2020-09-01_end_2021-05-01_monitoring_cla...   \n",
       "...                                                  ...   \n",
       "14304  start_2021-04-01_end_2021-11-01_monitoring_cla...   \n",
       "14305  start_2021-04-01_end_2021-11-01_monitoring_cla...   \n",
       "14306  start_2021-04-01_end_2021-11-01_monitoring_cla...   \n",
       "14307  start_2021-04-01_end_2021-11-01_monitoring_cla...   \n",
       "14308  start_2021-04-01_end_2021-11-01_monitoring_cla...   \n",
       "\n",
       "       eopatch_processed_exists  len_data  len_bands  len_time_interval  \\\n",
       "0                          True         2         10                  2   \n",
       "1                          True         2         10                  2   \n",
       "2                          True         2         10                  2   \n",
       "3                          True         2         10                  2   \n",
       "4                          True         2         10                  2   \n",
       "...                         ...       ...        ...                ...   \n",
       "14304                      True         2         10                  2   \n",
       "14305                      True         2         10                  2   \n",
       "14306                      True         2         10                  2   \n",
       "14307                      True         2         10                  2   \n",
       "14308                      True         2         10                  2   \n",
       "\n",
       "       len_timestamp error_processed  \n",
       "0                 30            None  \n",
       "1                 34            None  \n",
       "2                 28            None  \n",
       "3                 28            None  \n",
       "4                 31            None  \n",
       "...              ...             ...  \n",
       "14304             29            None  \n",
       "14305             51            None  \n",
       "14306             59            None  \n",
       "14307             57            None  \n",
       "14308             54            None  \n",
       "\n",
       "[14309 rows x 7 columns]"
      ]
     },
     "execution_count": 31,
     "metadata": {},
     "output_type": "execute_result"
    }
   ],
   "source": [
    "df_processed[df_processed['eopatch_processed_exists']==True]"
   ]
  },
  {
   "cell_type": "markdown",
   "id": "66810c38-98b7-4498-a05c-c420571626c1",
   "metadata": {},
   "source": [
    "#### B) INPUT_MODEL"
   ]
  },
  {
   "cell_type": "code",
   "execution_count": 32,
   "id": "688d5628-5c84-484a-aa03-89e10e325779",
   "metadata": {},
   "outputs": [
    {
     "name": "stderr",
     "output_type": "stream",
     "text": [
      "2025-04-19 02:06:39,693 - INFO - Iniciando a execução da função 'check_input_model_eopatches_features_based_geopackage'\n"
     ]
    },
    {
     "data": {
      "application/vnd.jupyter.widget-view+json": {
       "model_id": "41ff2bee2bce4f58bc8929d5d253e6e2",
       "version_major": 2,
       "version_minor": 0
      },
      "text/plain": [
       "  0%|          | 0/14309 [00:00<?, ?it/s]"
      ]
     },
     "metadata": {},
     "output_type": "display_data"
    },
    {
     "name": "stderr",
     "output_type": "stream",
     "text": [
      "2025-04-19 02:08:07,539 - INFO - Tempo de execução da função 'check_input_model_eopatches_features_based_geopackage': 87.85 segundos\n"
     ]
    }
   ],
   "source": [
    "df_input_model, df_overview_input = processing.check_input_model_eopatches_features_based_geopackage(df, \n",
    "                                                                                                     eopatch_path=NEW_EOPATCH_PATH_INPUT_MODEL,\n",
    "                                                                                                     label_eopatch_path=LABEL_EOPATCH_LOCATION)"
   ]
  },
  {
   "cell_type": "code",
   "execution_count": 33,
   "id": "9f2704de-fc6c-4735-834f-2ba68e01001d",
   "metadata": {},
   "outputs": [
    {
     "data": {
      "text/html": [
       "<div>\n",
       "<style scoped>\n",
       "    .dataframe tbody tr th:only-of-type {\n",
       "        vertical-align: middle;\n",
       "    }\n",
       "\n",
       "    .dataframe tbody tr th {\n",
       "        vertical-align: top;\n",
       "    }\n",
       "\n",
       "    .dataframe thead th {\n",
       "        text-align: right;\n",
       "    }\n",
       "</style>\n",
       "<table border=\"1\" class=\"dataframe\">\n",
       "  <thead>\n",
       "    <tr style=\"text-align: right;\">\n",
       "      <th></th>\n",
       "      <th>0</th>\n",
       "    </tr>\n",
       "  </thead>\n",
       "  <tbody>\n",
       "    <tr>\n",
       "      <th>total_eopatches</th>\n",
       "      <td>14309.00000</td>\n",
       "    </tr>\n",
       "    <tr>\n",
       "      <th>eopatch_input_model_exists</th>\n",
       "      <td>13741.00000</td>\n",
       "    </tr>\n",
       "    <tr>\n",
       "      <th>eopatches_not_exist</th>\n",
       "      <td>568.00000</td>\n",
       "    </tr>\n",
       "    <tr>\n",
       "      <th>percentage_eopatches_not_exist</th>\n",
       "      <td>3.96953</td>\n",
       "    </tr>\n",
       "    <tr>\n",
       "      <th>classes_equivalent</th>\n",
       "      <td>13741.00000</td>\n",
       "    </tr>\n",
       "    <tr>\n",
       "      <th>classes_not_equivalent</th>\n",
       "      <td>568.00000</td>\n",
       "    </tr>\n",
       "    <tr>\n",
       "      <th>percentage_classes_equivalent</th>\n",
       "      <td>96.03047</td>\n",
       "    </tr>\n",
       "    <tr>\n",
       "      <th>percentage_classes_not_equivalent</th>\n",
       "      <td>3.96953</td>\n",
       "    </tr>\n",
       "  </tbody>\n",
       "</table>\n",
       "</div>"
      ],
      "text/plain": [
       "                                             0\n",
       "total_eopatches                    14309.00000\n",
       "eopatch_input_model_exists         13741.00000\n",
       "eopatches_not_exist                  568.00000\n",
       "percentage_eopatches_not_exist         3.96953\n",
       "classes_equivalent                 13741.00000\n",
       "classes_not_equivalent               568.00000\n",
       "percentage_classes_equivalent         96.03047\n",
       "percentage_classes_not_equivalent      3.96953"
      ]
     },
     "execution_count": 33,
     "metadata": {},
     "output_type": "execute_result"
    }
   ],
   "source": [
    "df_overview_input"
   ]
  },
  {
   "cell_type": "code",
   "execution_count": 34,
   "id": "c8427554-01dd-4e38-98b8-3f33bafc077e",
   "metadata": {},
   "outputs": [
    {
     "data": {
      "text/html": [
       "<div>\n",
       "<style scoped>\n",
       "    .dataframe tbody tr th:only-of-type {\n",
       "        vertical-align: middle;\n",
       "    }\n",
       "\n",
       "    .dataframe tbody tr th {\n",
       "        vertical-align: top;\n",
       "    }\n",
       "\n",
       "    .dataframe thead th {\n",
       "        text-align: right;\n",
       "    }\n",
       "</style>\n",
       "<table border=\"1\" class=\"dataframe\">\n",
       "  <thead>\n",
       "    <tr style=\"text-align: right;\">\n",
       "      <th></th>\n",
       "      <th>eopatch_location_id</th>\n",
       "      <th>geopackage_class</th>\n",
       "      <th>eopatch_input_model_exists</th>\n",
       "      <th>shape_X_data</th>\n",
       "      <th>label_unique</th>\n",
       "      <th>shape_labels</th>\n",
       "      <th>shape_timestamp</th>\n",
       "      <th>error_input_model</th>\n",
       "    </tr>\n",
       "  </thead>\n",
       "  <tbody>\n",
       "  </tbody>\n",
       "</table>\n",
       "</div>"
      ],
      "text/plain": [
       "Empty DataFrame\n",
       "Columns: [eopatch_location_id, geopackage_class, eopatch_input_model_exists, shape_X_data, label_unique, shape_labels, shape_timestamp, error_input_model]\n",
       "Index: []"
      ]
     },
     "execution_count": 34,
     "metadata": {},
     "output_type": "execute_result"
    }
   ],
   "source": [
    "df_input_model[(df_input_model['label_unique'].notna()) & \n",
    "                (df_input_model['geopackage_class'] != df_input_model['label_unique'])]"
   ]
  },
  {
   "cell_type": "code",
   "execution_count": 35,
   "id": "aa8360cd-8956-4fef-b499-5960cf8d2a6a",
   "metadata": {},
   "outputs": [
    {
     "data": {
      "text/plain": [
       "'/agrilearn_app/datasets/SOYBEAN/2020_2021/reports/overview_SOYBEAN_14309_input_model.csv'"
      ]
     },
     "execution_count": 35,
     "metadata": {},
     "output_type": "execute_result"
    }
   ],
   "source": [
    "os.makedirs(REPORT_PATH, exist_ok=True)\n",
    "final_processed_report_name = f\"{REPORT_PATH}/overview_{string_name}_input_model.csv\"\n",
    "df_overview_input.to_csv(final_processed_report_name)\n",
    "final_processed_report_name"
   ]
  },
  {
   "cell_type": "markdown",
   "id": "93505652-d253-4a01-9adf-cc385e8aad3a",
   "metadata": {},
   "source": [
    "## 5. Merge Data"
   ]
  },
  {
   "cell_type": "code",
   "execution_count": 36,
   "id": "ba9d3e05-de43-40c3-92f4-f1e8260bb443",
   "metadata": {},
   "outputs": [
    {
     "data": {
      "text/html": [
       "<div>\n",
       "<style scoped>\n",
       "    .dataframe tbody tr th:only-of-type {\n",
       "        vertical-align: middle;\n",
       "    }\n",
       "\n",
       "    .dataframe tbody tr th {\n",
       "        vertical-align: top;\n",
       "    }\n",
       "\n",
       "    .dataframe thead th {\n",
       "        text-align: right;\n",
       "    }\n",
       "</style>\n",
       "<table border=\"1\" class=\"dataframe\">\n",
       "  <thead>\n",
       "    <tr style=\"text-align: right;\">\n",
       "      <th></th>\n",
       "      <th>0</th>\n",
       "    </tr>\n",
       "  </thead>\n",
       "  <tbody>\n",
       "    <tr>\n",
       "      <th>total_eopatches</th>\n",
       "      <td>14309.00000</td>\n",
       "    </tr>\n",
       "    <tr>\n",
       "      <th>eopatch_input_model_exists</th>\n",
       "      <td>13741.00000</td>\n",
       "    </tr>\n",
       "    <tr>\n",
       "      <th>eopatches_not_exist</th>\n",
       "      <td>568.00000</td>\n",
       "    </tr>\n",
       "    <tr>\n",
       "      <th>percentage_eopatches_not_exist</th>\n",
       "      <td>3.96953</td>\n",
       "    </tr>\n",
       "    <tr>\n",
       "      <th>classes_equivalent</th>\n",
       "      <td>13741.00000</td>\n",
       "    </tr>\n",
       "    <tr>\n",
       "      <th>classes_not_equivalent</th>\n",
       "      <td>568.00000</td>\n",
       "    </tr>\n",
       "    <tr>\n",
       "      <th>percentage_classes_equivalent</th>\n",
       "      <td>96.03047</td>\n",
       "    </tr>\n",
       "    <tr>\n",
       "      <th>percentage_classes_not_equivalent</th>\n",
       "      <td>3.96953</td>\n",
       "    </tr>\n",
       "  </tbody>\n",
       "</table>\n",
       "</div>"
      ],
      "text/plain": [
       "                                             0\n",
       "total_eopatches                    14309.00000\n",
       "eopatch_input_model_exists         13741.00000\n",
       "eopatches_not_exist                  568.00000\n",
       "percentage_eopatches_not_exist         3.96953\n",
       "classes_equivalent                 13741.00000\n",
       "classes_not_equivalent               568.00000\n",
       "percentage_classes_equivalent         96.03047\n",
       "percentage_classes_not_equivalent      3.96953"
      ]
     },
     "execution_count": 36,
     "metadata": {},
     "output_type": "execute_result"
    }
   ],
   "source": [
    "df_overview_input"
   ]
  },
  {
   "cell_type": "code",
   "execution_count": 37,
   "id": "4b0de9fa-8641-42b8-a083-3f39bcacf8ec",
   "metadata": {},
   "outputs": [
    {
     "data": {
      "text/plain": [
       "(14309, 7)"
      ]
     },
     "execution_count": 37,
     "metadata": {},
     "output_type": "execute_result"
    }
   ],
   "source": [
    "df_processed.shape"
   ]
  },
  {
   "cell_type": "code",
   "execution_count": 38,
   "id": "c309e17e-1c6a-48ff-ad2f-5f45be028a99",
   "metadata": {},
   "outputs": [
    {
     "data": {
      "text/plain": [
       "(14309, 8)"
      ]
     },
     "execution_count": 38,
     "metadata": {},
     "output_type": "execute_result"
    }
   ],
   "source": [
    "df_input_model.shape"
   ]
  },
  {
   "cell_type": "code",
   "execution_count": 39,
   "id": "f43317a9-dad4-4c89-8a3b-6e015c410b67",
   "metadata": {},
   "outputs": [
    {
     "data": {
      "text/plain": [
       "(14309, 65)"
      ]
     },
     "execution_count": 39,
     "metadata": {},
     "output_type": "execute_result"
    }
   ],
   "source": [
    "# Usando pd.merge para juntar os DataFrames\n",
    "df_merged = pd.merge(df, df_processed, left_on='eopath_location', right_on='eopatch_location_id', how='left')\n",
    "df_merged.shape"
   ]
  },
  {
   "cell_type": "code",
   "execution_count": 40,
   "id": "79d28f70-57c9-44cb-9204-0fc09249fd46",
   "metadata": {},
   "outputs": [
    {
     "data": {
      "text/plain": [
       "(14309, 73)"
      ]
     },
     "execution_count": 40,
     "metadata": {},
     "output_type": "execute_result"
    }
   ],
   "source": [
    "df_full = pd.merge(df_merged, df_input_model, left_on='eopath_location', right_on='eopatch_location_id', how='left')\n",
    "df_full.shape"
   ]
  },
  {
   "cell_type": "markdown",
   "id": "77d90d29-07d4-434b-b294-cc95d097b4bb",
   "metadata": {},
   "source": [
    "## 6. Save data"
   ]
  },
  {
   "cell_type": "code",
   "execution_count": 41,
   "id": "76671d19-219b-45d3-a2b6-556029764e36",
   "metadata": {},
   "outputs": [
    {
     "data": {
      "text/plain": [
       "'/agrilearn_app/datasets/SOYBEAN/2020_2021/geopackage/processed/SOYBEAN_14309.gpkg'"
      ]
     },
     "execution_count": 41,
     "metadata": {},
     "output_type": "execute_result"
    }
   ],
   "source": [
    "result_string = processing.get_geopackage_name(df_full, label_monitoring_class='monitoring_class')\n",
    "GEOPACKAGE_PROCESSED_PATH = os.path.join(GEOPACKAGE_RAW_PATH.split('/raw/')[0]+\"/\", \"processed\", result_string+ \".gpkg\")\n",
    "GEOPACKAGE_PROCESSED_PATH"
   ]
  },
  {
   "cell_type": "code",
   "execution_count": 42,
   "id": "2612d562-f8ff-48f0-a738-1262f19e81b0",
   "metadata": {},
   "outputs": [
    {
     "name": "stderr",
     "output_type": "stream",
     "text": [
      "2025-04-19 02:08:08,676 - WARNING - Skipping field because of invalid value: key='duplicates_id', value=0\n",
      "2025-04-19 02:08:08,677 - WARNING - Skipping field because of invalid value: key='shape_X_data', value=(5, 50, 3, 13)\n",
      "2025-04-19 02:08:08,678 - WARNING - Skipping field because of invalid value: key='shape_labels', value=(5, 50)\n",
      "2025-04-19 02:08:08,683 - WARNING - Skipping field because of invalid value: key='shape_X_data', value=(4, 50, 3, 13)\n",
      "2025-04-19 02:08:08,683 - WARNING - Skipping field because of invalid value: key='shape_labels', value=(4, 50)\n",
      "2025-04-19 02:08:08,685 - WARNING - Skipping field because of invalid value: key='shape_X_data', value=(3, 50, 3, 13)\n",
      "2025-04-19 02:08:08,686 - WARNING - Skipping field because of invalid value: key='shape_labels', value=(3, 50)\n",
      "2025-04-19 02:08:08,687 - WARNING - Skipping field because of invalid value: key='shape_X_data', value=(6, 50, 3, 13)\n",
      "2025-04-19 02:08:08,687 - WARNING - Skipping field because of invalid value: key='shape_labels', value=(6, 50)\n",
      "2025-04-19 02:08:08,691 - WARNING - Skipping field because of invalid value: key='shape_X_data', value=(2, 50, 3, 13)\n",
      "2025-04-19 02:08:08,691 - WARNING - Skipping field because of invalid value: key='shape_labels', value=(2, 50)\n",
      "2025-04-19 02:08:08,698 - WARNING - Skipping field because of invalid value: key='shape_X_data', value=(8, 50, 3, 13)\n",
      "2025-04-19 02:08:08,699 - WARNING - Skipping field because of invalid value: key='shape_labels', value=(8, 50)\n",
      "2025-04-19 02:08:08,702 - WARNING - Skipping field because of invalid value: key='shape_X_data', value=(7, 50, 3, 13)\n",
      "2025-04-19 02:08:08,703 - WARNING - Skipping field because of invalid value: key='shape_labels', value=(7, 50)\n",
      "2025-04-19 02:08:08,821 - WARNING - Skipping field because of invalid value: key='shape_X_data', value=(1, 50, 3, 13)\n",
      "2025-04-19 02:08:08,822 - WARNING - Skipping field because of invalid value: key='shape_labels', value=(1, 50)\n",
      "2025-04-19 02:08:08,947 - WARNING - Skipping field because of invalid value: key='shape_X_data', value=(9, 50, 3, 13)\n",
      "2025-04-19 02:08:08,948 - WARNING - Skipping field because of invalid value: key='shape_labels', value=(9, 50)\n",
      "2025-04-19 02:08:09,103 - WARNING - Skipping field because of invalid value: key='shape_X_data', value=(10, 50, 3, 13)\n",
      "2025-04-19 02:08:09,104 - WARNING - Skipping field because of invalid value: key='shape_labels', value=(10, 50)\n",
      "2025-04-19 02:08:09,993 - WARNING - Skipping field because of invalid value: key='shape_X_data', value=(11, 50, 3, 13)\n",
      "2025-04-19 02:08:09,994 - WARNING - Skipping field because of invalid value: key='shape_labels', value=(11, 50)\n"
     ]
    }
   ],
   "source": [
    "df_full.to_file(GEOPACKAGE_PROCESSED_PATH, \n",
    "                driver='GPKG', \n",
    "                engine='fiona')"
   ]
  },
  {
   "cell_type": "code",
   "execution_count": null,
   "id": "a0e9c9cc-9f7b-4ce2-b2e7-ac4fa35e1bf4",
   "metadata": {},
   "outputs": [],
   "source": []
  },
  {
   "cell_type": "code",
   "execution_count": null,
   "id": "45074a65-b537-45c6-9e82-93e5725aec6c",
   "metadata": {},
   "outputs": [],
   "source": []
  }
 ],
 "metadata": {
  "kernelspec": {
   "display_name": "Python 3 (ipykernel)",
   "language": "python",
   "name": "python3"
  },
  "language_info": {
   "codemirror_mode": {
    "name": "ipython",
    "version": 3
   },
   "file_extension": ".py",
   "mimetype": "text/x-python",
   "name": "python",
   "nbconvert_exporter": "python",
   "pygments_lexer": "ipython3",
   "version": "3.10.12"
  }
 },
 "nbformat": 4,
 "nbformat_minor": 5
}
