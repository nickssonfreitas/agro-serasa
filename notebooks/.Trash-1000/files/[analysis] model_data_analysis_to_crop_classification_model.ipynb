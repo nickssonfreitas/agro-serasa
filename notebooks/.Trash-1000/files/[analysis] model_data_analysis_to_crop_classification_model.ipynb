{
 "cells": [
  {
   "cell_type": "code",
   "execution_count": null,
   "id": "ca3b5d2e-2a7b-4b0c-8c8e-9e36aca12b0f",
   "metadata": {},
   "outputs": [],
   "source": [
    "# Load the auto reload extension to automatically reload modules when files on disk are updated\n",
    "%load_ext autoreload\n",
    "# it will automatically be reloaded without the need to restart the kernel.\n",
    "%autoreload 2"
   ]
  },
  {
   "cell_type": "code",
   "execution_count": null,
   "id": "a5babb24-c879-492c-85b4-520b69126cb3",
   "metadata": {},
   "outputs": [],
   "source": [
    "import boto3\n",
    "import geopandas as gpd\n",
    "from io import BytesIO\n",
    "import pandas as pd\n",
    "from folium import GeoJson\n",
    "import folium\n",
    "import numpy as np\n",
    "from tqdm import tqdm\n",
    "from glob import glob\n",
    "#import local modules\n",
    "import sys\n",
    "sys.path.append(\"/agrilearn_app/agrilearn/\")\n",
    "from agrilearn.utils import s3_utils, str_utils, eopatch_utils\n",
    "import os"
   ]
  },
  {
   "cell_type": "markdown",
   "id": "b320ee86-b873-4b8c-bb77-cdc5d6e9334a",
   "metadata": {},
   "source": [
    "### Define PATHs"
   ]
  },
  {
   "cell_type": "code",
   "execution_count": null,
   "id": "cdfe3fb1-9321-4aed-9dd2-b50779e31688",
   "metadata": {},
   "outputs": [],
   "source": [
    "OUTPUT_PREDICTIONS_VAL = \"/agrilearn_app/output/experiment_01/predictions/val/\"\n",
    "OUTPUT_PREDICTIONS_TEST = \"/agrilearn_app/output/experiment_01/predictions/test/\""
   ]
  },
  {
   "cell_type": "code",
   "execution_count": null,
   "id": "92b35d1f-fee9-4bbd-b992-3cdb4e24dbe5",
   "metadata": {},
   "outputs": [],
   "source": [
    "def read_multiplies_files_from_path(path, sep=','):\n",
    "    files = glob(os.path.join(path, \"**\"))\n",
    "    print(f'There are {len(files)} files to read')\n",
    "    \n",
    "    array_df=[]\n",
    "    for x in tqdm(files, desc=f'Reading files:'):\n",
    "        temp_df = pd.read_csv(x,  sep=sep)\n",
    "        array_df.append(temp_df)\n",
    "    df_ = pd.concat(array_df, ignore_index=True)\n",
    "\n",
    "    return df_"
   ]
  },
  {
   "cell_type": "code",
   "execution_count": null,
   "id": "a21c0813-6f97-4a25-a731-5ccfc23de26a",
   "metadata": {},
   "outputs": [],
   "source": [
    "df_prediction_test = read_multiplies_files_from_path(OUTPUT_PREDICTIONS_VAL)"
   ]
  },
  {
   "cell_type": "code",
   "execution_count": null,
   "id": "54687e5a-bf41-4679-b704-992b96666ed6",
   "metadata": {},
   "outputs": [],
   "source": [
    "filter_= (df_prediction_test['crop_class_rnn'].isna() == False) & (df_prediction_test['monitoring_class'].isna() == False)\n",
    "df_prediction_test = df_prediction_test[filter_]"
   ]
  },
  {
   "cell_type": "code",
   "execution_count": null,
   "id": "c1cfa92a-0360-4778-843c-76c44718c77f",
   "metadata": {},
   "outputs": [],
   "source": []
  },
  {
   "cell_type": "code",
   "execution_count": null,
   "id": "abff361a-23d6-43c2-8fc4-f9858cd6d553",
   "metadata": {},
   "outputs": [],
   "source": [
    "df_prediction_test['monitoring_class'].value_counts().index"
   ]
  },
  {
   "cell_type": "code",
   "execution_count": null,
   "id": "71b5ac4b-7b4e-4380-818c-3f9250ad33f8",
   "metadata": {},
   "outputs": [],
   "source": [
    "report_test = classification_report(y_true=df_prediction_test['monitoring_class'], \n",
    "                                    y_pred=df_prediction_test['crop_class_rnn'],\n",
    "                                    target_names=list(df_prediction_test['monitoring_class'].value_counts().index),\n",
    "                                    output_dict=True\n",
    "                                   )"
   ]
  },
  {
   "cell_type": "code",
   "execution_count": null,
   "id": "38adb2cb-a818-4b12-a374-e9d4f37bbcc4",
   "metadata": {},
   "outputs": [],
   "source": [
    "pd.DataFrame(report_test)"
   ]
  },
  {
   "cell_type": "markdown",
   "id": "1162e379-c321-4e2f-ba2c-cadb24e43a31",
   "metadata": {},
   "source": [
    "### 1. Read Datasets"
   ]
  },
  {
   "cell_type": "code",
   "execution_count": null,
   "id": "1d710856-1bec-49c7-aefd-b2b53464a855",
   "metadata": {},
   "outputs": [],
   "source": [
    "df_val = gpd.read_file(DATASET_PATH_VAL)\n",
    "df_test = gpd.read_file(DATASET_PATH_TEST)"
   ]
  },
  {
   "cell_type": "code",
   "execution_count": null,
   "id": "b13c638a-b4bf-45ff-969e-83db1080e56e",
   "metadata": {},
   "outputs": [],
   "source": [
    "df_train['dataset_part'] = 'train'\n",
    "df_val['dataset_part'] = 'val'\n",
    "df_test['dataset_part'] =  'test'"
   ]
  },
  {
   "cell_type": "code",
   "execution_count": null,
   "id": "221f8b13-38b8-40f3-949b-3e1855b96939",
   "metadata": {},
   "outputs": [],
   "source": [
    "df = pd.concat([df_train, df_val, df_test])"
   ]
  },
  {
   "cell_type": "code",
   "execution_count": null,
   "id": "90a384dc-ce07-4668-a2bf-90cbfab67dc9",
   "metadata": {},
   "outputs": [],
   "source": [
    "df.shape"
   ]
  },
  {
   "cell_type": "code",
   "execution_count": null,
   "id": "909c77fa-f9d0-4ad1-89c9-287ffa95c026",
   "metadata": {},
   "outputs": [],
   "source": [
    "df.info()"
   ]
  },
  {
   "cell_type": "markdown",
   "id": "3339c3f0-62ad-4dbb-91dc-3d5b58d5c03d",
   "metadata": {},
   "source": [
    "## 2. Data Analysis"
   ]
  },
  {
   "cell_type": "code",
   "execution_count": null,
   "id": "d9855f33-9fc7-42a1-b0e9-c3dd7c53dad2",
   "metadata": {},
   "outputs": [],
   "source": [
    "print(f\"Dados de {df['start_season'].min()} a {df['end_season'].max()}\")"
   ]
  },
  {
   "cell_type": "code",
   "execution_count": null,
   "id": "7d5a88bd-1508-4b81-87d1-78c5dc6520ff",
   "metadata": {},
   "outputs": [],
   "source": []
  },
  {
   "cell_type": "code",
   "execution_count": null,
   "id": "601eeda5-41e6-47f6-b7ae-77ff2d79302f",
   "metadata": {},
   "outputs": [],
   "source": [
    "## Apenas 16 dados não pa\n",
    "df[(df['crop_class_rnn'].isna() == True) | (df['monitoring_class'].isna() == True)][['crop_class_rnn', 'monitoring_class', 'obs_crop_rnn', 'dataset_part']]"
   ]
  },
  {
   "cell_type": "code",
   "execution_count": null,
   "id": "550eb406-9e1b-4ae0-bb6d-6e262cd30acc",
   "metadata": {},
   "outputs": [],
   "source": [
    "df_train = df[(df['dataset_part']=='train') & (df['crop_class_rnn'].isna() == False) & (df['monitoring_class'].isna() == False)]\n",
    "df_val = df[(df['dataset_part']=='val') & (df['crop_class_rnn'].isna() == False) & (df['monitoring_class'].isna() == False)]\n",
    "df_test = df[(df['dataset_part']=='test') & (df['crop_class_rnn'].isna() == False) & (df['monitoring_class'].isna() == False)]"
   ]
  },
  {
   "cell_type": "code",
   "execution_count": null,
   "id": "5428b649-0246-4e40-b890-806085e5b85d",
   "metadata": {},
   "outputs": [],
   "source": [
    "df_train.shape"
   ]
  },
  {
   "cell_type": "code",
   "execution_count": null,
   "id": "4155ece9-7210-4587-93e9-1cbb8ab39b27",
   "metadata": {},
   "outputs": [],
   "source": [
    "df_val.shape"
   ]
  },
  {
   "cell_type": "code",
   "execution_count": null,
   "id": "6ce5039e-f53d-490e-9e28-a2490db30e14",
   "metadata": {},
   "outputs": [],
   "source": [
    "df_test = df[(df['dataset_part']=='test') & (df['crop_class_rnn'].isna() == False) & (df['monitoring_class'].isna() == False)]"
   ]
  },
  {
   "cell_type": "markdown",
   "id": "0e24db97-0986-4642-a05c-9c1a74b967f7",
   "metadata": {},
   "source": [
    "## 3. Evaluate classification report"
   ]
  },
  {
   "cell_type": "code",
   "execution_count": null,
   "id": "d45b03e0-1102-47f4-a4e9-430becc55c91",
   "metadata": {},
   "outputs": [],
   "source": [
    "from sklearn.metrics import classification_report\n",
    "from sklearn.metrics import balanced_accuracy_score"
   ]
  },
  {
   "cell_type": "markdown",
   "id": "aa96dd51-24a1-4723-8b09-fdd5de201829",
   "metadata": {},
   "source": [
    "### 3.1 Test Set evaluation"
   ]
  },
  {
   "cell_type": "code",
   "execution_count": null,
   "id": "a1264fad-7275-4ba9-8e4f-d6ac88af6ea2",
   "metadata": {},
   "outputs": [],
   "source": [
    "df_test['crop_class_rnn'].value_counts(normalize=True)*100"
   ]
  },
  {
   "cell_type": "code",
   "execution_count": null,
   "id": "cd22a6df-c1b1-4f6f-a6ec-16c8836d692d",
   "metadata": {},
   "outputs": [],
   "source": [
    "report_test = classification_report(df_test['monitoring_class'], \n",
    "                                    df_test['crop_class_rnn'],\n",
    "                                    target_names=list(df_test['monitoring_class'].value_counts().index))"
   ]
  },
  {
   "cell_type": "code",
   "execution_count": null,
   "id": "78e62f42-6e4a-4a96-8b71-f9e77be1f866",
   "metadata": {},
   "outputs": [],
   "source": [
    "print(report_test)"
   ]
  },
  {
   "cell_type": "code",
   "execution_count": null,
   "id": "3b475151-4294-494f-9752-ff96769e09e5",
   "metadata": {},
   "outputs": [],
   "source": [
    "balanced_accuracy_score(df_test['monitoring_class'],\n",
    "                        df_test['crop_class_rnn'])\n"
   ]
  },
  {
   "cell_type": "markdown",
   "id": "f4a77b71-03a4-4e74-ac0e-ff228b98f313",
   "metadata": {},
   "source": [
    "### 3.2 Validation Set evaluation"
   ]
  },
  {
   "cell_type": "code",
   "execution_count": null,
   "id": "71c4663c-b6f1-4e77-8983-542c01bd0f0a",
   "metadata": {},
   "outputs": [],
   "source": [
    "df_val['crop_class_rnn'].value_counts(normalize=True)*100"
   ]
  },
  {
   "cell_type": "code",
   "execution_count": null,
   "id": "0cbfc17f-2c02-488e-ae2e-91744da8746e",
   "metadata": {},
   "outputs": [],
   "source": [
    "report_val = classification_report(df_val['monitoring_class'], \n",
    "                                   df_val['crop_class_rnn'],\n",
    "                                   target_names=list(df_val['monitoring_class'].value_counts().index))"
   ]
  },
  {
   "cell_type": "code",
   "execution_count": null,
   "id": "dbcf8549-bc8c-4459-bd27-505521808f11",
   "metadata": {},
   "outputs": [],
   "source": [
    "print(report_val)"
   ]
  },
  {
   "cell_type": "code",
   "execution_count": null,
   "id": "477073b3-e21b-4aee-a2d0-1fe10898d04b",
   "metadata": {},
   "outputs": [],
   "source": []
  },
  {
   "cell_type": "markdown",
   "id": "c7903a06-3d95-41d7-a040-6af10493f2dc",
   "metadata": {},
   "source": [
    "### 3.3 Train Set evaluation"
   ]
  },
  {
   "cell_type": "code",
   "execution_count": null,
   "id": "86428556-7a45-49e1-afb2-1eab53f59799",
   "metadata": {},
   "outputs": [],
   "source": [
    "df_train['crop_class_rnn'].value_counts(normalize=True)*100"
   ]
  },
  {
   "cell_type": "code",
   "execution_count": null,
   "id": "015cb82c-381d-4f74-b150-e7c6c2493016",
   "metadata": {},
   "outputs": [],
   "source": [
    "report_train = classification_report(df_train['monitoring_class'], \n",
    "                                     df_train['crop_class_rnn'],\n",
    "                                     target_names=list(df_train['monitoring_class'].value_counts().index))"
   ]
  },
  {
   "cell_type": "code",
   "execution_count": null,
   "id": "6a4a4c15-453c-4223-b1cb-9ec91671d0be",
   "metadata": {},
   "outputs": [],
   "source": [
    "print(report_train)"
   ]
  },
  {
   "cell_type": "code",
   "execution_count": null,
   "id": "9be834be-8429-4e06-b3db-f6326fad881f",
   "metadata": {},
   "outputs": [],
   "source": []
  },
  {
   "cell_type": "markdown",
   "id": "e0551c6f-aa0f-49f8-ac5b-49fa1048565e",
   "metadata": {},
   "source": [
    "## 4. Evaluation errors"
   ]
  },
  {
   "cell_type": "code",
   "execution_count": null,
   "id": "cde5d444-7f94-4f86-bb3f-01c191e0ffa1",
   "metadata": {},
   "outputs": [],
   "source": [
    "df['total_de_imagem'] = df['total_de_imagem'].astype(float)"
   ]
  },
  {
   "cell_type": "markdown",
   "id": "30e8a5f1-1639-48e8-ae35-3d27a3cebf61",
   "metadata": {},
   "source": [
    "## 4.1 Diff Day (gap)"
   ]
  },
  {
   "cell_type": "code",
   "execution_count": null,
   "id": "879befdb-fb89-4c4e-ba62-3743386a61a8",
   "metadata": {},
   "outputs": [],
   "source": [
    "df[df['monitoring_class'] != df['crop_class_rnn']]['mean_dates_diff'].mean()"
   ]
  },
  {
   "cell_type": "code",
   "execution_count": null,
   "id": "f5adb908-8ed7-4d45-9296-3cf516213794",
   "metadata": {},
   "outputs": [],
   "source": [
    "df[df['monitoring_class'] == df['crop_class_rnn']]['mean_dates_diff'].mean()"
   ]
  },
  {
   "cell_type": "code",
   "execution_count": null,
   "id": "8f8e62f7-1b99-48ff-b072-71c5c1d5245f",
   "metadata": {},
   "outputs": [],
   "source": []
  },
  {
   "cell_type": "markdown",
   "id": "cec72fe6-91a9-4e67-af6b-fd967ba8458e",
   "metadata": {},
   "source": [
    "## 4.2 Missing values"
   ]
  },
  {
   "cell_type": "code",
   "execution_count": null,
   "id": "ebbce147-abe5-44f2-aa1a-8c8875a2cc94",
   "metadata": {},
   "outputs": [],
   "source": [
    "df[df['monitoring_class'] != df['crop_class_rnn']]['total_de_imagem'].mean()"
   ]
  },
  {
   "cell_type": "code",
   "execution_count": null,
   "id": "9aa91d4a-8398-482b-a8e6-3ec287be1ea4",
   "metadata": {},
   "outputs": [],
   "source": [
    "df[df['monitoring_class'] == df['crop_class_rnn']]['total_de_imagem'].mean()"
   ]
  },
  {
   "cell_type": "code",
   "execution_count": null,
   "id": "90d5ccf4-02e7-416e-a4a9-3e65ca29802b",
   "metadata": {},
   "outputs": [],
   "source": [
    "df[df['monitoring_class'] != df['crop_class_rnn']].iloc[:,-12:]"
   ]
  },
  {
   "cell_type": "code",
   "execution_count": null,
   "id": "4f4c91d8-8400-4162-b146-9324cc6d31f4",
   "metadata": {},
   "outputs": [],
   "source": [
    "df.iloc[:,-13:]"
   ]
  },
  {
   "cell_type": "code",
   "execution_count": null,
   "id": "755013ac-9985-4154-b457-546694a7c7f2",
   "metadata": {},
   "outputs": [],
   "source": []
  }
 ],
 "metadata": {
  "kernelspec": {
   "display_name": "Python 3 (ipykernel)",
   "language": "python",
   "name": "python3"
  },
  "language_info": {
   "codemirror_mode": {
    "name": "ipython",
    "version": 3
   },
   "file_extension": ".py",
   "mimetype": "text/x-python",
   "name": "python",
   "nbconvert_exporter": "python",
   "pygments_lexer": "ipython3",
   "version": "3.10.12"
  }
 },
 "nbformat": 4,
 "nbformat_minor": 5
}
