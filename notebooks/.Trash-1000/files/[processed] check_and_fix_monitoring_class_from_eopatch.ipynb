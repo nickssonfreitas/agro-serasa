{
 "cells": [
  {
   "cell_type": "code",
   "execution_count": null,
   "id": "7e8b631b-58f5-408c-b23f-3284d4e65c1e",
   "metadata": {},
   "outputs": [],
   "source": [
    "# Load the auto reload extension to automatically reload modules when files on disk are updated\n",
    "%load_ext autoreload\n",
    "# it will automatically be reloaded without the need to restart the kernel.\n",
    "%autoreload "
   ]
  },
  {
   "cell_type": "code",
   "execution_count": 7,
   "id": "114a265f-069d-40e2-ab45-49520a8dbfbe",
   "metadata": {
    "tags": []
   },
   "outputs": [],
   "source": [
    "import sys\n",
    "sys.path.append(\"../agrilearn/submodules/commons/\")\n",
    "sys.path.append(\"../agrilearn/submodules/crop_rnn/\")\n",
    "sys.path.append(\"../agrilearn/\")\n",
    "\n",
    "import boto3\n",
    "import geopandas as gpd\n",
    "import os\n",
    "from io import BytesIO\n",
    "import pandas as pd\n",
    "from folium import GeoJson\n",
    "import folium\n",
    "import numpy as np\n",
    "from tqdm import tqdm\n",
    "from glob import glob\n",
    "#import local modules\n",
    "import sys\n",
    "from eolearn.core import EOPatch\n",
    "\n",
    "#from agrilearn.commons.s3 import s3_utils\n",
    "#from agrilearn.crop_classification import evalutate_utils\n",
    "#from agrilearn.crop_classification import yaml_utils\n",
    "#from agrilearn.crop_classification.processing import check_input_model_eopatches_features_based_geopackage, check_processed_eopatches_features_based_geopackage"
   ]
  },
  {
   "cell_type": "code",
   "execution_count": null,
   "id": "21cd9d39-40e6-491e-ae17-4e5752f52c8d",
   "metadata": {
    "tags": []
   },
   "outputs": [],
   "source": []
  },
  {
   "cell_type": "code",
   "execution_count": null,
   "id": "85f428a8-9008-4573-a692-fdd52317f91f",
   "metadata": {},
   "outputs": [],
   "source": [
    "config = yaml_utils.load_config(\"/agrilearn_app/output/config/experiment_12.yaml\")"
   ]
  },
  {
   "cell_type": "code",
   "execution_count": null,
   "id": "6dd01620-d340-4a06-bcca-19754776b78d",
   "metadata": {},
   "outputs": [],
   "source": [
    "index=0\n",
    "DATASET_NAME = config['evaluate'][index]['dataset_name']\n",
    "GEOPACKAGE_PATH = config['evaluate'][index]['geopackage_test_data_path']\n",
    "EOPATCH_PATH = config['evaluate'][index]['eopatch_folder']\n",
    "LABEL_MONITORING_CLASS = config['evaluate'][index]['label_true']\n",
    "LABEL_EOPATCH_LOCATION = config['evaluate'][index]['label_eopatch_location']"
   ]
  },
  {
   "cell_type": "code",
   "execution_count": null,
   "id": "f03b1e50-7cad-4136-80f3-9e5808be1cb2",
   "metadata": {},
   "outputs": [],
   "source": [
    "DATASET_NAME"
   ]
  },
  {
   "cell_type": "code",
   "execution_count": null,
   "id": "75468ce9-d47c-461e-9fb9-bfb16f410e1a",
   "metadata": {},
   "outputs": [],
   "source": [
    "EOPATCH_PATH"
   ]
  },
  {
   "cell_type": "markdown",
   "id": "815311cc-f630-4973-9c84-1b31e56fa144",
   "metadata": {},
   "source": [
    "## 1. Read Geopackage"
   ]
  },
  {
   "cell_type": "code",
   "execution_count": null,
   "id": "50ec31fe-b520-4a05-a672-c434ddb3244f",
   "metadata": {},
   "outputs": [],
   "source": [
    "GEOPACKAGE_PATH=\"../../nicksson-datasets/base/\""
   ]
  },
  {
   "cell_type": "code",
   "execution_count": null,
   "id": "053ae5ff-d87e-4dc5-a9ed-26e49bc88048",
   "metadata": {},
   "outputs": [],
   "source": [
    "#CORN_73080_SOYBEAN_29670_COTTON_1632_RICE_1172.gpkg\n",
    "# GEOPACKAGE_PATH = \"/agrilearn_app/datasets/experiment_12/geopackage/SOYBEAN_48257_CORN_33809_SUGAR_CANE_17640_WHEAT_4226_COTTON_3178_RICE_925_test.gpkg\"\n",
    "# EOPATCH_PATH = \"/agrilearn_app/datasets/experiment_12/eopatch/input_model\"\n",
    "\n",
    "\n",
    "# GEOPACKAGE_PATH = \"/agrilearn_app/datasets/soja_2022_2023/geopackage/raw/soja_mar_66835.gpkg\"\n",
    "# EOPATCH_PATH =  \"/agrilearn_app/datasets/soja_2022_2023/eopatch/processed/\"\n",
    "\n",
    "# LABEL_MONITORING_CLASS = 'monitoring_class'\n",
    "# LABEL_EOPATCH_LOCATION = \"eopath_location\" # 'sentinel_eopatch_current' #eopath_location"
   ]
  },
  {
   "cell_type": "code",
   "execution_count": null,
   "id": "f9117bb1-d104-4dd3-96a9-2042f4850571",
   "metadata": {},
   "outputs": [],
   "source": [
    "df = gpd.read_file(GEOPACKAGE_PATH)"
   ]
  },
  {
   "cell_type": "code",
   "execution_count": null,
   "id": "d33165cf-e902-4c4e-9831-d943c8125468",
   "metadata": {},
   "outputs": [],
   "source": [
    "df[LABEL_MONITORING_CLASS].value_counts()"
   ]
  },
  {
   "cell_type": "markdown",
   "id": "dc185ff2-6c4a-4223-bd9d-8718c01185b6",
   "metadata": {},
   "source": [
    "## 2. Check Class in eopatch path"
   ]
  },
  {
   "cell_type": "code",
   "execution_count": null,
   "id": "bed99ea5-ea30-4771-9e4e-9dd247bd0003",
   "metadata": {},
   "outputs": [],
   "source": [
    "df_results, df_overview = check_processed_eopatches_features_based_geopackage(df, \n",
    "                                                          eopatch_path=EOPATCH_PATH,\n",
    "                                                          label_eopatch_path=LABEL_EOPATCH_LOCATION)"
   ]
  },
  {
   "cell_type": "code",
   "execution_count": null,
   "id": "c316a640-46e3-466b-8597-33a585d8c400",
   "metadata": {},
   "outputs": [],
   "source": [
    "full_df_processed = pd.merge(df_results, \n",
    "                   df, \n",
    "                   left_on='geopackage', \n",
    "                   right_on=LABEL_EOPATCH_LOCATION)"
   ]
  },
  {
   "cell_type": "code",
   "execution_count": null,
   "id": "3e0d9cab-4223-47fd-9add-7bfc9cb16d8a",
   "metadata": {},
   "outputs": [],
   "source": [
    "full_df_processed['eopatch_exists'].value_counts()"
   ]
  },
  {
   "cell_type": "code",
   "execution_count": null,
   "id": "723b0fde-8332-47fc-a1e5-73d3b6df6021",
   "metadata": {},
   "outputs": [],
   "source": [
    "full_df_processed[full_df_processed['eopatch_exists']==True].shape"
   ]
  },
  {
   "cell_type": "code",
   "execution_count": null,
   "id": "b1baf9a8-c1d3-4d55-b2a0-33553532f890",
   "metadata": {},
   "outputs": [],
   "source": [
    "full_df_processed[full_df_processed['eopatch_exists']==False].shape"
   ]
  },
  {
   "cell_type": "code",
   "execution_count": null,
   "id": "2eb618bc-617e-4d79-aec0-1129eae4c963",
   "metadata": {},
   "outputs": [],
   "source": [
    "full_df_processed.to_csv(os.path.join(config['data']['experiment_path'], f'processed_eopatch_{DATASET_NAME}.csv'))\n",
    "df_overview.to_csv(os.path.join(config['data']['experiment_path'], f'processed_eopatch_overview_{DATASET_NAME}.csv'))"
   ]
  },
  {
   "cell_type": "code",
   "execution_count": null,
   "id": "a47ddfb5-48ff-4643-aaaa-c0f3b8f05aab",
   "metadata": {},
   "outputs": [],
   "source": []
  },
  {
   "cell_type": "code",
   "execution_count": null,
   "id": "7d7ae368-9ea5-4be4-b105-29861bd77ca0",
   "metadata": {},
   "outputs": [],
   "source": [
    "EOPATCH_PATH =  \"/agrilearn_app/datasets/soja_2022_2023/eopatch/input_model/\""
   ]
  },
  {
   "cell_type": "code",
   "execution_count": null,
   "id": "06c288e8-3f3e-4ef6-b95b-1935099182c6",
   "metadata": {},
   "outputs": [],
   "source": [
    "#check_input_model_eopatches_features_based_geopackage\n",
    "df_results, df_overview = check_input_model_eopatches_features_based_geopackage(df, \n",
    "                                                          eopatch_path=EOPATCH_PATH,\n",
    "                                                          label_eopatch_path=LABEL_EOPATCH_LOCATION)"
   ]
  },
  {
   "cell_type": "code",
   "execution_count": null,
   "id": "7472a82f-8f3b-48dc-871b-ccb25bdc52bc",
   "metadata": {},
   "outputs": [],
   "source": [
    "full_df_input_model = pd.merge(df_results, \n",
    "                   df, \n",
    "                   left_on='geopackage', \n",
    "                   right_on=LABEL_EOPATCH_LOCATION)"
   ]
  },
  {
   "cell_type": "code",
   "execution_count": null,
   "id": "fd7598a8-e003-47ee-af4f-b9c2458231d2",
   "metadata": {},
   "outputs": [],
   "source": [
    "full_df_input_model['eopatch_exists'].value_counts()"
   ]
  },
  {
   "cell_type": "code",
   "execution_count": null,
   "id": "665de613-c570-4927-9618-f49487272aae",
   "metadata": {},
   "outputs": [],
   "source": [
    "full_df_input_model[full_df_input_model['eopatch_exists']==True].shape"
   ]
  },
  {
   "cell_type": "code",
   "execution_count": null,
   "id": "f4149cd7-8196-4d2e-a3dd-c46ef2b4c7b7",
   "metadata": {},
   "outputs": [],
   "source": [
    "full_df_input_model[full_df_input_model['eopatch_exists']==False].shape"
   ]
  },
  {
   "cell_type": "code",
   "execution_count": null,
   "id": "e116ce3b-2aeb-4cc2-a027-4a87972ca906",
   "metadata": {},
   "outputs": [],
   "source": [
    "full_df_input_model[full_df_input_model['eopatch_exists']==False].shape"
   ]
  },
  {
   "cell_type": "code",
   "execution_count": null,
   "id": "276477dd-0039-4364-9cda-7e3412f9eee0",
   "metadata": {},
   "outputs": [],
   "source": [
    "full_df_input_model.to_csv(os.path.join(config['data']['experiment_path'], f'input_model_{DATASET_NAME}.csv'))\n",
    "df_overview.to_csv(os.path.join(config['data']['experiment_path'], f'input_model_overview_{DATASET_NAME}.csv'))"
   ]
  },
  {
   "cell_type": "code",
   "execution_count": null,
   "id": "76bd325b-e231-41b5-bba1-0a538a8a268f",
   "metadata": {},
   "outputs": [],
   "source": []
  },
  {
   "cell_type": "code",
   "execution_count": null,
   "id": "dcd2946f",
   "metadata": {},
   "outputs": [],
   "source": [
    "# def update_eopatch_labels_based_string_eopatch_dir(base_path):\n",
    "#     dic_erros = {}\n",
    "#     list_monitoring_class_before = {}\n",
    "#     list_monitoring_class_after = {}\n",
    "\n",
    "#     # Iterar sobre cada subdiretório no diretório base_path\n",
    "#     for root, dirs, files in os.walk(base_path):\n",
    "#         for dir_name in tqdm(dirs, desc=\"Processando diretórios\"):\n",
    "#             print(dir_name)\n",
    "\n",
    "#     #         if \"monitoring_class_\" in file and \"_epsg4326\" in file:\n",
    "#     #             try:\n",
    "#     #                 # Extrair a string entre monitoring_class_ e _epsg4326\n",
    "#     #                 match = re.search(r'monitoring_class_(.*?)_epsg4326', file)\n",
    "#     #                 if match:\n",
    "#     #                     monitoring_class = match.group(1)\n",
    "\n",
    "#     #                     # Construir o caminho completo do eopatch\n",
    "#     #                     final_eopatch_path = os.path.join(root, file)\n",
    "#     #                     eopatch = EOPatch.load(final_eopatch_path)\n",
    "\n",
    "#     #                     # Salvar a classe de monitoramento antes da substituição\n",
    "#     #                     lista = np.array(eopatch['meta_info']['LABELS'])\n",
    "#     #                     list_monitoring_class_before[final_eopatch_path] = np.unique(lista)[0]\n",
    "\n",
    "#     #                     # Atribuir a string extraída ao dado do eopatch\n",
    "#     #                     eopatch['meta_info']['LABELS'] = [monitoring_class]\n",
    "\n",
    "#     #                     # Salvar o EOPatch no disco\n",
    "#     #                     eopatch.save(final_eopatch_path, overwrite_permission=OverwritePermission.OVERWRITE_FEATURES)\n",
    "\n",
    "#     #                     # Salvar a classe de monitoramento após a substituição\n",
    "#     #                     lista = np.array(eopatch['meta_info']['LABELS'])\n",
    "#     #                     list_monitoring_class_after[final_eopatch_path] = np.unique(lista)[0]\n",
    "\n",
    "#     #                     print(f\"EOPatch salvo em: {final_eopatch_path}\")\n",
    "\n",
    "#     #                 else:\n",
    "#     #                     print(f\"Formato de arquivo inesperado: {file}\")\n",
    "\n",
    "#     #             except Exception as e:\n",
    "#     #                 dic_erros[final_eopatch_path] = e\n",
    "\n",
    "#     # # Criar DataFrames para os resultados\n",
    "#     # df_erros = pd.DataFrame(list(dic_erros.items()), columns=['eopatch_location', 'error'])\n",
    "#     # df_eopatch_before = pd.DataFrame(list(list_monitoring_class_before.items()), columns=['eopatch_location', 'monitoring_class_before'])\n",
    "#     # df_eopatch_after = pd.DataFrame(list(list_monitoring_class_after.items()), columns=['eopatch_location', 'monitoring_class_after'])\n",
    "\n",
    "#     # return df_erros, df_eopatch_before, df_eopatch_after\n",
    "\n",
    "\n",
    "# # df_erros, df_eopatch_before, df_eopatch_after = update_eopatch_labels(base_path)"
   ]
  },
  {
   "cell_type": "code",
   "execution_count": null,
   "id": "bb78dc11",
   "metadata": {},
   "outputs": [],
   "source": [
    "# base_path = \"/agrilearn_app/datasets/experiment_12/eopatch/input_model/\"\n",
    "# update_eopatch_labels_based_string_eopatch_dir(base_path)"
   ]
  },
  {
   "cell_type": "code",
   "execution_count": null,
   "id": "25be4500",
   "metadata": {},
   "outputs": [],
   "source": []
  },
  {
   "cell_type": "code",
   "execution_count": null,
   "id": "b62da915",
   "metadata": {},
   "outputs": [],
   "source": []
  },
  {
   "cell_type": "code",
   "execution_count": null,
   "id": "71b16a1f-f874-4a85-8ebe-026b15d3d72a",
   "metadata": {},
   "outputs": [],
   "source": [
    "# df_eopatch, df_erros = check_eopaches_based_geopackage(df.iloc[:100], eopatch_path=EOPATCH_PATH)"
   ]
  },
  {
   "cell_type": "code",
   "execution_count": null,
   "id": "76067807-cfe8-4800-8d76-0e4d42cd4d99",
   "metadata": {},
   "outputs": [],
   "source": [
    "# if len(df_eopatch.columns) == 4:\n",
    "#     df_eopatch.columns = ['eopatch_location', 'dataset_source', 'monitoring_class_eopatch', 'monitoring_class_geopackage']\n",
    "\n",
    "# if len(df_erros.columns) == 4:\n",
    "#     df_erros.columns = ['eopatch_location', 'dataset_source', 'error', 'monitoring_class_geopackage']"
   ]
  },
  {
   "cell_type": "code",
   "execution_count": null,
   "id": "b2642945",
   "metadata": {},
   "outputs": [],
   "source": [
    "\n",
    "# df_eopatch['culture_based_path']"
   ]
  },
  {
   "cell_type": "code",
   "execution_count": null,
   "id": "52a17c5c",
   "metadata": {},
   "outputs": [],
   "source": []
  },
  {
   "cell_type": "code",
   "execution_count": null,
   "id": "aeb85f95",
   "metadata": {},
   "outputs": [],
   "source": []
  },
  {
   "cell_type": "code",
   "execution_count": null,
   "id": "e5beb178-4840-4c39-90cf-151e039e2f23",
   "metadata": {},
   "outputs": [],
   "source": [
    "# dic_erros = {}\n",
    "# list_monitoring_class_before = {}\n",
    "# list_monitoring_class_after = {}\n",
    "\n",
    "# # Dicionário de substituição\n",
    "# dic_replace = {\n",
    "#     'soybean': 'SOYBEAN', \n",
    "#     'soja': 'SOYBEAN',\n",
    "#     'corn': 'CORN',\n",
    "#     'milho': 'CORN',\n",
    "#     'cotton': 'COTTON',\n",
    "#     'algodao': 'COTTON',\n",
    "#     'sugar_cane': 'SUGAR_CANE',\n",
    "#     'cana': 'SUGAR_CANE',\n",
    "#     'rice': 'RICE',\n",
    "#     'arroz': 'RICE'\n",
    "# }\n",
    "\n",
    "# # Iterar sobre cada linha do DataFrame\n",
    "# for index, row in tqdm(df.iterrows(), total=df.shape[0]):\n",
    "#     try:\n",
    "#         eopatch_location_id = row[label_eopatch_path]\n",
    "#         final_eopatch_path = os.path.join(EOPATCH_PATH,\n",
    "#                                           eopatch_location_id,\n",
    "#                                           \"eopatch_0_col-0_row-0\")\n",
    "\n",
    "#         eopatch = EOPatch.load(final_eopatch_path)\n",
    "\n",
    "#         lista = np.array(eopatch['meta_info']['LABELS'])\n",
    "#         list_monitoring_class_before[eopatch_location_id] = np.unique(lista)[0]\n",
    "\n",
    "#         # # Substituir os valores conforme o dicionário dic_replace\n",
    "#         # matriz = np.array(eopatch['meta_info']['LABELS'])\n",
    "#         # for key, value in dic_replace.items():\n",
    "#         #     matriz = np.where(matriz == key, value, matriz)\n",
    "#         # eopatch['meta_info']['LABELS'] = matriz.tolist()\n",
    "\n",
    "#         # # Salvar o EOPatch no disco\n",
    "#         # final_eopatch_path = final_eopatch_path.replace('input_model-v2', 'input_model')\n",
    "#         # eopatch.save(final_eopatch_path, overwrite_permission=OverwritePermission.OVERWRITE_FEATURES)\n",
    "\n",
    "#         # lista = np.array(eopatch['meta_info']['LABELS'])\n",
    "#         # list_monitoring_class_after[eopatch_location_id] = np.unique(lista)[0]\n",
    "        \n",
    "#         #print(f\"EOPatch salvo em: {final_eopatch_path}\")\n",
    "\n",
    "#     except Exception as e:\n",
    "#         dic_erros[final_eopatch_path] = e\n",
    "\n",
    "# df_erros = pd.DataFrame(list(dic_erros.items()), columns=['Chave', 'Valor'])\n",
    "# df_eopatch_before = pd.DataFrame(list(list_monitoring_class_before.items()), columns=['eopatch_location_id', 'monitoring_class'])\n",
    "# df_eopatch_after = pd.DataFrame(list(list_monitoring_class_after.items()), columns=['eopatch_location_id', 'monitoring_class'])"
   ]
  },
  {
   "cell_type": "code",
   "execution_count": null,
   "id": "14b58dc3",
   "metadata": {},
   "outputs": [],
   "source": [
    "# dic_erros = {}\n",
    "# list_monitoring_class = {}\n",
    "\n",
    "# eopatch_locations = df['eopath_location'].unique()\n",
    "# len(eopatch_locations)\n",
    "\n",
    "# for eopatch_location_id in tqdm(eopatch_locations):\n",
    "#     try:\n",
    "\n",
    "#         final_eopatch_path = os.path.join(EOPATCH_PATH,\n",
    "#                                           eopatch_location_id,\n",
    "#                                           \"eopatch_0_col-0_row-0\")\n",
    "\n",
    "#         eopatch = EOPatch.load(final_eopatch_path)\n",
    "\n",
    "#         lista = np.array(eopatch['meta_info']['LABELS'])\n",
    "#         list_monitoring_class[eopatch_location_id] = np.unique(lista)[0]\n",
    "\n",
    "\n",
    "#         # # #Replace Eopatch class name and Save\n",
    "#         # matriz = np.array(eopatch['meta_info']['LABELS'])\n",
    "#         # nova_list = np.where(matriz == \"algodao\", \"COTTON\", matriz).tolist()\n",
    "#         # eopatch['meta_info']['LABELS'] = nova_list\n",
    "\n",
    "\n",
    "#         # # # Salve o EOPatch no disco\n",
    "#         # final_eopatch_path = final_eopatch_path.replace('input_model-v2', 'input_model')\n",
    "#         # eopatch.save(final_eopatch_path, overwrite_permission=OverwritePermission.OVERWRITE_PATCH)\n",
    "#         # # print(f\"EOPatch salvo em: {final_eopatch_path}\")\n",
    "        \n",
    "#     except Exception as e:\n",
    "#         dic_erros[final_eopatch_path] = e\n",
    "\n",
    "# df_erros = pd.DataFrame(list(dic_erros.items()), columns=['Chave', 'Valor'])\n",
    "# df_eopatch = pd.DataFrame(list(list_monitoring_class.items()), columns=['eopatch_location_id', 'monitoring_class'])"
   ]
  },
  {
   "cell_type": "code",
   "execution_count": null,
   "id": "ab02652b-e220-4826-8d69-f8ae99d3f9de",
   "metadata": {},
   "outputs": [],
   "source": []
  },
  {
   "cell_type": "code",
   "execution_count": null,
   "id": "e52cb4db-358e-4b7e-9caa-f9f44c4afd38",
   "metadata": {},
   "outputs": [],
   "source": [
    "final_eopatch_path"
   ]
  },
  {
   "cell_type": "code",
   "execution_count": null,
   "id": "9426828b-9aaa-488b-9900-42564d714a0f",
   "metadata": {},
   "outputs": [],
   "source": []
  },
  {
   "cell_type": "code",
   "execution_count": null,
   "id": "aeb4a15c-f60e-4f44-95d5-722e9a25cb94",
   "metadata": {},
   "outputs": [],
   "source": []
  },
  {
   "cell_type": "code",
   "execution_count": null,
   "id": "9550461f-0e33-48ca-9b4f-b881e5e4af58",
   "metadata": {},
   "outputs": [],
   "source": []
  },
  {
   "cell_type": "code",
   "execution_count": null,
   "id": "d50fb533-026b-4a85-8364-31000edcf598",
   "metadata": {},
   "outputs": [],
   "source": [
    "#df_erros.to_csv('eopatch_erros_soja_mar_66835.csv')"
   ]
  },
  {
   "cell_type": "code",
   "execution_count": null,
   "id": "e3528e1c-0fd8-42fb-aaff-75973077200c",
   "metadata": {},
   "outputs": [],
   "source": []
  },
  {
   "cell_type": "code",
   "execution_count": null,
   "id": "a4ce4a82-6b61-4e30-a4e0-afc579b8e87b",
   "metadata": {},
   "outputs": [],
   "source": []
  },
  {
   "cell_type": "code",
   "execution_count": null,
   "id": "f6f6e254-eaab-4d8f-8c61-cadd0067188a",
   "metadata": {},
   "outputs": [],
   "source": []
  },
  {
   "cell_type": "code",
   "execution_count": null,
   "id": "3dc363b8-b879-4bdf-83b1-63b47e18d4da",
   "metadata": {},
   "outputs": [],
   "source": [
    "# replacement_dict = {\n",
    "#     'SUGAR_CANE': 'cana',\n",
    "# }\n",
    "\n",
    "# df['monitoring_class'] = df['monitoring_class'].replace(replacement_dict)"
   ]
  },
  {
   "cell_type": "code",
   "execution_count": null,
   "id": "924f444f-7785-44dc-b2d6-5393bddc6c20",
   "metadata": {},
   "outputs": [],
   "source": [
    "# eopatch_utils.create_local_eopatch_path(df, \n",
    "#                           path_local=\"/agrilearn_app/datasets/eopatchs/modeling/experiment_01/\",\n",
    "#                           label_monitoring_class='monitoring_class',\n",
    "#                           label_dataset_part='dataset_part',\n",
    "#                           label_eopatch_location='eopath_location',\n",
    "#                           )"
   ]
  },
  {
   "cell_type": "code",
   "execution_count": null,
   "id": "572d7ce5-5fab-41ba-aa6e-c5509008eba0",
   "metadata": {},
   "outputs": [],
   "source": [
    "# path_id = {}\n",
    "# failed = {}\n",
    "\n",
    "# for index, row in tqdm(df.iterrows(), total=len(df)):\n",
    "\n",
    "#     try:\n",
    "    \n",
    "#         eopatch = EOPatch.load(row['local_eopatch_path'], \n",
    "#                                lazy_loading=True)\n",
    "    \n",
    "#         path_id[row['local_eopatch_path']] = eopatch.mask['SCL'].shape[0]\n",
    "#     except Exception as e:\n",
    "#         failed[row['local_eopatch_path']] = e\n",
    "    \n",
    "# df_checked = pd.DataFrame(list(path_id.items()), columns=['path', \"shape\"])\n",
    "# df_failed = pd.DataFrame(list(failed.items()), columns=['path', \"shape\"])"
   ]
  },
  {
   "cell_type": "code",
   "execution_count": null,
   "id": "27e39d92-6fea-4fbe-b3d3-bf1a310d0108",
   "metadata": {},
   "outputs": [],
   "source": []
  },
  {
   "cell_type": "code",
   "execution_count": null,
   "id": "7b35a3f5-3983-4c52-8182-92153a64557f",
   "metadata": {},
   "outputs": [],
   "source": []
  },
  {
   "cell_type": "code",
   "execution_count": null,
   "id": "fffc33ac-98f3-47c0-9b75-4d71724fe151",
   "metadata": {},
   "outputs": [],
   "source": []
  },
  {
   "cell_type": "code",
   "execution_count": null,
   "id": "47409112-dd4c-4b6a-88ab-e188e962d7ff",
   "metadata": {},
   "outputs": [],
   "source": []
  }
 ],
 "metadata": {
  "kernelspec": {
   "display_name": "Python 3 (ipykernel)",
   "language": "python",
   "name": "python3"
  },
  "language_info": {
   "codemirror_mode": {
    "name": "ipython",
    "version": 3
   },
   "file_extension": ".py",
   "mimetype": "text/x-python",
   "name": "python",
   "nbconvert_exporter": "python",
   "pygments_lexer": "ipython3",
   "version": "3.10.12"
  }
 },
 "nbformat": 4,
 "nbformat_minor": 5
}
