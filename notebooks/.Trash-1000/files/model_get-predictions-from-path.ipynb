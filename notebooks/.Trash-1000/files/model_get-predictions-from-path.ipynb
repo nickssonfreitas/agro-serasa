{
 "cells": [
  {
   "cell_type": "raw",
   "id": "1a86e654-f710-4302-a5b7-322fb71236e3",
   "metadata": {},
   "source": [
    "# Load the auto reload extension to automatically reload modules when files on disk are updated\n",
    "%load_ext autoreload\n",
    "# it will automatically be reloaded without the need to restart the kernel.\n",
    "%autoreload 2"
   ]
  },
  {
   "cell_type": "code",
   "execution_count": 1,
   "id": "25be4507-0aec-4131-8bb1-8786e3978499",
   "metadata": {},
   "outputs": [
    {
     "name": "stderr",
     "output_type": "stream",
     "text": [
      "2025-01-16 16:59:04.380615: I tensorflow/core/util/port.cc:153] oneDNN custom operations are on. You may see slightly different numerical results due to floating-point round-off errors from different computation orders. To turn them off, set the environment variable `TF_ENABLE_ONEDNN_OPTS=0`.\n",
      "2025-01-16 16:59:04.398354: E external/local_xla/xla/stream_executor/cuda/cuda_fft.cc:477] Unable to register cuFFT factory: Attempting to register factory for plugin cuFFT when one has already been registered\n",
      "WARNING: All log messages before absl::InitializeLog() is called are written to STDERR\n",
      "E0000 00:00:1737046744.418924   16606 cuda_dnn.cc:8310] Unable to register cuDNN factory: Attempting to register factory for plugin cuDNN when one has already been registered\n",
      "E0000 00:00:1737046744.425182   16606 cuda_blas.cc:1418] Unable to register cuBLAS factory: Attempting to register factory for plugin cuBLAS when one has already been registered\n",
      "2025-01-16 16:59:04.445407: I tensorflow/core/platform/cpu_feature_guard.cc:210] This TensorFlow binary is optimized to use available CPU instructions in performance-critical operations.\n",
      "To enable the following instructions: AVX2 AVX512F AVX512_VNNI FMA, in other operations, rebuild TensorFlow with the appropriate compiler flags.\n",
      "W0000 00:00:1737046746.880061   16606 gpu_device.cc:2344] Cannot dlopen some GPU libraries. Please make sure the missing libraries mentioned above are installed properly if you would like to use GPU. Follow the guide at https://www.tensorflow.org/install/gpu for how to download and setup the required libraries for your platform.\n",
      "Skipping registering GPU devices...\n"
     ]
    }
   ],
   "source": [
    "import sys\n",
    "sys.path.append(\"/agrilearn_app/agrilearn/\")\n",
    "from agrilearn.crop_classification import s3_utils, str_utils\n",
    "import boto3"
   ]
  },
  {
   "cell_type": "code",
   "execution_count": 2,
   "id": "ba41882d-5c89-4db6-a3a6-01c34f361166",
   "metadata": {},
   "outputs": [],
   "source": [
    "\"\"\"This script can be used for training a crop classification model\"\"\"\n",
    "import os\n",
    "import pandas as pd\n",
    "import numpy as np\n",
    "import geopandas as gpd\n",
    "from glob import glob\n",
    "from geopandas import GeoDataFrame\n",
    "from tqdm import tqdm\n",
    "from eolearn.core import EOPatch\n",
    "import warnings\n",
    "warnings.filterwarnings(\"ignore\") # Suprimindo todos os avisos\n",
    "import pyogrio\n",
    "pyogrio.core._register_drivers()\n",
    "from agrilearn.crop_classification.cropclassifier import CropClassifier\n",
    "from agrilearn.crop_classification.interface import CropClassificationInterface\n",
    "from agrilearn.crop_classification import yaml_utils, processing"
   ]
  },
  {
   "cell_type": "markdown",
   "id": "13ca20f3-e991-4b09-983d-77a4765075c6",
   "metadata": {},
   "source": [
    "## Define PATHs"
   ]
  },
  {
   "cell_type": "code",
   "execution_count": 3,
   "id": "45e6e1b8-cbb2-49cb-9fb4-9a2498c3d1f7",
   "metadata": {},
   "outputs": [],
   "source": [
    "config = yaml_utils.load_config(\"/agrilearn_app/output/experiment/experiment_02.yaml\")"
   ]
  },
  {
   "cell_type": "markdown",
   "id": "145be5d0-9741-4ab8-88af-a528101e6532",
   "metadata": {},
   "source": [
    "### 1. Read Datasets\n",
    "\n",
    "Os valores dessa documentação não batem\n",
    "- https://pages.experian.local/pages/viewpage.action?pageId=1389466162"
   ]
  },
  {
   "cell_type": "code",
   "execution_count": 7,
   "id": "903ee7d2-f711-430d-afc3-0ff9d2e12ab1",
   "metadata": {},
   "outputs": [],
   "source": [
    "df = gpd.read_file(config['data']['geopackage_train_data_path'])"
   ]
  },
  {
   "cell_type": "code",
   "execution_count": 8,
   "id": "2296ba33-f514-412a-8c30-8054aa3ce802",
   "metadata": {},
   "outputs": [
    {
     "data": {
      "text/plain": [
       "(38192, 40)"
      ]
     },
     "execution_count": 8,
     "metadata": {},
     "output_type": "execute_result"
    }
   ],
   "source": [
    "df.shape"
   ]
  },
  {
   "cell_type": "code",
   "execution_count": 9,
   "id": "a436e34f-dd84-4e4c-867f-a241b7bee820",
   "metadata": {},
   "outputs": [
    {
     "name": "stdout",
     "output_type": "stream",
     "text": [
      "<class 'geopandas.geodataframe.GeoDataFrame'>\n",
      "RangeIndex: 38192 entries, 0 to 38191\n",
      "Data columns (total 40 columns):\n",
      " #   Column                      Non-Null Count  Dtype         \n",
      "---  ------                      --------------  -----         \n",
      " 0   monitoring_class            38192 non-null  object        \n",
      " 1   period                      38192 non-null  object        \n",
      " 2   fonte                       38192 non-null  object        \n",
      " 3   cultura_2                   0 non-null      object        \n",
      " 4   state                       38192 non-null  object        \n",
      " 5   area                        38192 non-null  float64       \n",
      " 6   meso                        38192 non-null  int64         \n",
      " 7   obs_extra                   38192 non-null  object        \n",
      " 8   eopath_location             38192 non-null  object        \n",
      " 9   start_season                38192 non-null  object        \n",
      " 10  end_season                  38192 non-null  object        \n",
      " 11  peak_start                  38192 non-null  object        \n",
      " 12  peak_end                    38192 non-null  object        \n",
      " 13  sentinel_eopatch_current    38192 non-null  object        \n",
      " 14  contour_score               37018 non-null  float64       \n",
      " 15  contour_selected_timestamp  38192 non-null  object        \n",
      " 16  field_id                    38192 non-null  object        \n",
      " 17  compac_index                38192 non-null  float64       \n",
      " 18  planting_start              38192 non-null  object        \n",
      " 19  planting_end                38192 non-null  object        \n",
      " 20  cycle_start                 38192 non-null  datetime64[ms]\n",
      " 21  cycle_end                   38192 non-null  datetime64[ms]\n",
      " 22  LOS                         38192 non-null  object        \n",
      " 23  is_valid                    38192 non-null  object        \n",
      " 24  is_valid_cvt                38192 non-null  bool          \n",
      " 25  start_of_season             38192 non-null  datetime64[ms]\n",
      " 26  end_of_season               38192 non-null  datetime64[ms]\n",
      " 27  peaks                       38192 non-null  object        \n",
      " 28  length_of_season            38192 non-null  object        \n",
      " 29  key_bucket                  38192 non-null  object        \n",
      " 30  dataset_part                38192 non-null  object        \n",
      " 31  local_eopatch_path          38192 non-null  object        \n",
      " 32  total_imagens_do_intervalo  38192 non-null  object        \n",
      " 33  total_de_imagem             38192 non-null  object        \n",
      " 34  status_missing_images       38192 non-null  object        \n",
      " 35  days_gap                    0 non-null      object        \n",
      " 36  dates_diff                  0 non-null      object        \n",
      " 37  mean_dates_diff             38192 non-null  float64       \n",
      " 38  status_series_missing       38192 non-null  object        \n",
      " 39  geometry                    38192 non-null  geometry      \n",
      "dtypes: bool(1), datetime64[ms](4), float64(4), geometry(1), int64(1), object(29)\n",
      "memory usage: 11.4+ MB\n"
     ]
    }
   ],
   "source": [
    "df.info()"
   ]
  },
  {
   "cell_type": "markdown",
   "id": "d1f04aa9-9dbc-46e2-8b9e-8e605f999b25",
   "metadata": {},
   "source": [
    "### 2. Evaluate Geopackage\n",
    "#### 2.1 Train, val, and test sets distribution"
   ]
  },
  {
   "cell_type": "code",
   "execution_count": 10,
   "id": "cb3492cc-d54d-419a-a0db-5faf34a5ea2e",
   "metadata": {},
   "outputs": [
    {
     "data": {
      "text/plain": [
       "dataset_part\n",
       "train    69.978006\n",
       "test     15.021470\n",
       "val      15.000524\n",
       "Name: proportion, dtype: float64"
      ]
     },
     "execution_count": 10,
     "metadata": {},
     "output_type": "execute_result"
    }
   ],
   "source": [
    "df['dataset_part'].value_counts(normalize=True)*100"
   ]
  },
  {
   "cell_type": "markdown",
   "id": "98900271-f077-4b47-818a-2bcf9354f9e3",
   "metadata": {},
   "source": [
    "#### 2.2 Monitoring class distribution"
   ]
  },
  {
   "cell_type": "code",
   "execution_count": 11,
   "id": "3ce68fb9-6ba2-4f80-bf2e-de66c5d1c5a9",
   "metadata": {},
   "outputs": [
    {
     "data": {
      "text/plain": [
       "monitoring_class\n",
       "SOYBEAN    77.686426\n",
       "CORN       14.950775\n",
       "COTTON      4.291475\n",
       "RICE        3.071324\n",
       "Name: proportion, dtype: float64"
      ]
     },
     "execution_count": 11,
     "metadata": {},
     "output_type": "execute_result"
    }
   ],
   "source": [
    "df['monitoring_class'].value_counts(normalize=True)*100"
   ]
  },
  {
   "cell_type": "code",
   "execution_count": 12,
   "id": "bf09862f-32f0-4fee-859c-6e0caafb6c24",
   "metadata": {},
   "outputs": [
    {
     "data": {
      "text/html": [
       "<div>\n",
       "<style scoped>\n",
       "    .dataframe tbody tr th:only-of-type {\n",
       "        vertical-align: middle;\n",
       "    }\n",
       "\n",
       "    .dataframe tbody tr th {\n",
       "        vertical-align: top;\n",
       "    }\n",
       "\n",
       "    .dataframe thead th {\n",
       "        text-align: right;\n",
       "    }\n",
       "</style>\n",
       "<table border=\"1\" class=\"dataframe\">\n",
       "  <thead>\n",
       "    <tr style=\"text-align: right;\">\n",
       "      <th></th>\n",
       "      <th>monitoring_class</th>\n",
       "      <th>dataset_part</th>\n",
       "      <th>length_of_season</th>\n",
       "    </tr>\n",
       "  </thead>\n",
       "  <tbody>\n",
       "    <tr>\n",
       "      <th>10</th>\n",
       "      <td>SOYBEAN</td>\n",
       "      <td>train</td>\n",
       "      <td>20763</td>\n",
       "    </tr>\n",
       "    <tr>\n",
       "      <th>9</th>\n",
       "      <td>SOYBEAN</td>\n",
       "      <td>test</td>\n",
       "      <td>4457</td>\n",
       "    </tr>\n",
       "    <tr>\n",
       "      <th>11</th>\n",
       "      <td>SOYBEAN</td>\n",
       "      <td>val</td>\n",
       "      <td>4450</td>\n",
       "    </tr>\n",
       "    <tr>\n",
       "      <th>7</th>\n",
       "      <td>RICE</td>\n",
       "      <td>train</td>\n",
       "      <td>820</td>\n",
       "    </tr>\n",
       "    <tr>\n",
       "      <th>6</th>\n",
       "      <td>RICE</td>\n",
       "      <td>test</td>\n",
       "      <td>178</td>\n",
       "    </tr>\n",
       "    <tr>\n",
       "      <th>8</th>\n",
       "      <td>RICE</td>\n",
       "      <td>val</td>\n",
       "      <td>175</td>\n",
       "    </tr>\n",
       "    <tr>\n",
       "      <th>4</th>\n",
       "      <td>COTTON</td>\n",
       "      <td>train</td>\n",
       "      <td>1146</td>\n",
       "    </tr>\n",
       "    <tr>\n",
       "      <th>5</th>\n",
       "      <td>COTTON</td>\n",
       "      <td>val</td>\n",
       "      <td>248</td>\n",
       "    </tr>\n",
       "    <tr>\n",
       "      <th>3</th>\n",
       "      <td>COTTON</td>\n",
       "      <td>test</td>\n",
       "      <td>245</td>\n",
       "    </tr>\n",
       "    <tr>\n",
       "      <th>1</th>\n",
       "      <td>CORN</td>\n",
       "      <td>train</td>\n",
       "      <td>3997</td>\n",
       "    </tr>\n",
       "    <tr>\n",
       "      <th>0</th>\n",
       "      <td>CORN</td>\n",
       "      <td>test</td>\n",
       "      <td>857</td>\n",
       "    </tr>\n",
       "    <tr>\n",
       "      <th>2</th>\n",
       "      <td>CORN</td>\n",
       "      <td>val</td>\n",
       "      <td>856</td>\n",
       "    </tr>\n",
       "  </tbody>\n",
       "</table>\n",
       "</div>"
      ],
      "text/plain": [
       "   monitoring_class dataset_part  length_of_season\n",
       "10          SOYBEAN        train             20763\n",
       "9           SOYBEAN         test              4457\n",
       "11          SOYBEAN          val              4450\n",
       "7              RICE        train               820\n",
       "6              RICE         test               178\n",
       "8              RICE          val               175\n",
       "4            COTTON        train              1146\n",
       "5            COTTON          val               248\n",
       "3            COTTON         test               245\n",
       "1              CORN        train              3997\n",
       "0              CORN         test               857\n",
       "2              CORN          val               856"
      ]
     },
     "execution_count": 12,
     "metadata": {},
     "output_type": "execute_result"
    }
   ],
   "source": [
    "report_train_val_test = df.groupby(['monitoring_class', 'dataset_part'], as_index=False)\\\n",
    "                            .agg({'length_of_season':'count'})\\\n",
    "                            .sort_values(['monitoring_class', 'length_of_season'], ascending=[False, False])\n",
    "report_train_val_test"
   ]
  },
  {
   "cell_type": "markdown",
   "id": "a6d06ba7-b621-43d4-b597-8eb2c3650c10",
   "metadata": {},
   "source": [
    "### 3. Evaluate Eopatch \n",
    "\n",
    "#### 3.1 Check predictions files to TEST Set"
   ]
  },
  {
   "cell_type": "code",
   "execution_count": null,
   "id": "4301aab7-7229-41cf-b894-a1d0dad9869e",
   "metadata": {},
   "outputs": [],
   "source": []
  },
  {
   "cell_type": "code",
   "execution_count": null,
   "id": "dc177e96-38af-48eb-84e1-801e7254b892",
   "metadata": {},
   "outputs": [],
   "source": []
  }
 ],
 "metadata": {
  "kernelspec": {
   "display_name": "Python 3 (ipykernel)",
   "language": "python",
   "name": "python3"
  },
  "language_info": {
   "codemirror_mode": {
    "name": "ipython",
    "version": 3
   },
   "file_extension": ".py",
   "mimetype": "text/x-python",
   "name": "python",
   "nbconvert_exporter": "python",
   "pygments_lexer": "ipython3",
   "version": "3.10.12"
  }
 },
 "nbformat": 4,
 "nbformat_minor": 5
}
