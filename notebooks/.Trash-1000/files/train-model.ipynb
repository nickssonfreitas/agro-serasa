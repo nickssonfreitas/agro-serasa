{
 "cells": [
  {
   "cell_type": "code",
   "execution_count": 1,
   "id": "25be4507-0aec-4131-8bb1-8786e3978499",
   "metadata": {},
   "outputs": [],
   "source": [
    "import sys\n",
    "sys.path.append(\"/agrilearn_app/agrilearn_app/agrilearn/\")"
   ]
  },
  {
   "cell_type": "code",
   "execution_count": 2,
   "id": "ba41882d-5c89-4db6-a3a6-01c34f361166",
   "metadata": {},
   "outputs": [
    {
     "name": "stderr",
     "output_type": "stream",
     "text": [
      "2024-12-05 15:17:15.852718: I tensorflow/core/util/port.cc:153] oneDNN custom operations are on. You may see slightly different numerical results due to floating-point round-off errors from different computation orders. To turn them off, set the environment variable `TF_ENABLE_ONEDNN_OPTS=0`.\n",
      "2024-12-05 15:17:15.871402: E external/local_xla/xla/stream_executor/cuda/cuda_fft.cc:477] Unable to register cuFFT factory: Attempting to register factory for plugin cuFFT when one has already been registered\n",
      "WARNING: All log messages before absl::InitializeLog() is called are written to STDERR\n",
      "E0000 00:00:1733411835.895067   31545 cuda_dnn.cc:8310] Unable to register cuDNN factory: Attempting to register factory for plugin cuDNN when one has already been registered\n",
      "E0000 00:00:1733411835.900963   31545 cuda_blas.cc:1418] Unable to register cuBLAS factory: Attempting to register factory for plugin cuBLAS when one has already been registered\n",
      "2024-12-05 15:17:15.920802: I tensorflow/core/platform/cpu_feature_guard.cc:210] This TensorFlow binary is optimized to use available CPU instructions in performance-critical operations.\n",
      "To enable the following instructions: AVX2 AVX512F AVX512_VNNI FMA, in other operations, rebuild TensorFlow with the appropriate compiler flags.\n"
     ]
    }
   ],
   "source": [
    "\"\"\"This script can be used for training a crop classification model\"\"\"\n",
    "import os\n",
    "import geopandas as gpd\n",
    "from geopandas import GeoDataFrame\n",
    "from tqdm import tqdm\n",
    "from glob import glob\n",
    "from eolearn.core import EOPatch\n",
    "from agrilearn.crop_classification.cropclassifier import CropClassifier\n",
    "from agrilearn.crop_classification.interface import CropClassificationInterface\n",
    "from agrilearn.mvp.gpkg_utils import concat_geopackages"
   ]
  },
  {
   "cell_type": "code",
   "execution_count": 3,
   "id": "1c1d2486-0738-4e09-9bf1-2afeb9b4d897",
   "metadata": {},
   "outputs": [
    {
     "name": "stdout",
     "output_type": "stream",
     "text": [
      "Device atual:  [name: \"/device:CPU:0\"\n",
      "device_type: \"CPU\"\n",
      "memory_limit: 268435456\n",
      "locality {\n",
      "}\n",
      "incarnation: 18421647159556962308\n",
      "xla_global_id: -1\n",
      ", name: \"/device:GPU:0\"\n",
      "device_type: \"GPU\"\n",
      "memory_limit: 14514520064\n",
      "locality {\n",
      "  bus_id: 1\n",
      "  links {\n",
      "  }\n",
      "}\n",
      "incarnation: 17003843051090084571\n",
      "physical_device_desc: \"device: 0, name: Tesla T4, pci bus id: 0000:00:1e.0, compute capability: 7.5\"\n",
      "xla_global_id: 416903419\n",
      "]\n",
      "Num GPUs Available:  [PhysicalDevice(name='/physical_device:GPU:0', device_type='GPU')]\n"
     ]
    },
    {
     "name": "stderr",
     "output_type": "stream",
     "text": [
      "I0000 00:00:1733411838.185921   31545 gpu_device.cc:2022] Created device /device:GPU:0 with 13842 MB memory:  -> device: 0, name: Tesla T4, pci bus id: 0000:00:1e.0, compute capability: 7.5\n"
     ]
    }
   ],
   "source": [
    "# export TF_USE_LEGACY_KERAS=True\n",
    "import tensorflow as tf\n",
    "from tensorflow.python.client import device_lib\n",
    "# print(tf.config.list_physical_devices('GPU'))\n",
    "print(\"Device atual: \", device_lib.list_local_devices())\n",
    "print(\"Num GPUs Available: \", tf.config.list_physical_devices('GPU'))"
   ]
  },
  {
   "cell_type": "markdown",
   "id": "13ca20f3-e991-4b09-983d-77a4765075c6",
   "metadata": {},
   "source": [
    "## Define PATHs"
   ]
  },
  {
   "cell_type": "code",
   "execution_count": 11,
   "id": "45e6e1b8-cbb2-49cb-9fb4-9a2498c3d1f7",
   "metadata": {},
   "outputs": [],
   "source": [
    "EXPERIMENT_NAME = \"experiment_02\"\n",
    "GEOPACKAGE_PATH = \"/agrilearn_app/datasets/base/geopackage/raw/crop_classification_raw-checked-v2.gpkg\"\n",
    "EOPATCH_FOLDER = f\"/agrilearn_app/datasets/eopatchs/modeling/{EXPERIMENT_NAME}\"\n",
    "\n",
    "# Models and checkpoint path\n",
    "OUTPUT_CHECKPOINT_PATH = f\"/agrilearn_app/output/{EXPERIMENT_NAME}/checkpoints\"\n",
    "OUTPUT_MODEL_PATH = f\"/agrilearn_app/output/{EXPERIMENT_NAME}/model\"\n",
    "OUTPUT_PREDICTIONS = f\"/agrilearn_app/output/{EXPERIMENT_NAME}/predictions\""
   ]
  },
  {
   "cell_type": "code",
   "execution_count": 12,
   "id": "d07bd357-6480-4de2-ade6-60503d77b815",
   "metadata": {},
   "outputs": [],
   "source": [
    "#os.makedirs(OUTPUT_CHECKPOINT_PATH, exist_ok=True)"
   ]
  },
  {
   "cell_type": "code",
   "execution_count": 13,
   "id": "e95c24a2-f6a0-4486-91f9-c2f081438fb5",
   "metadata": {},
   "outputs": [],
   "source": [
    "eopatch_files = glob(EOPATCH_FOLDER+\"/**\", recursive=True)"
   ]
  },
  {
   "cell_type": "markdown",
   "id": "145be5d0-9741-4ab8-88af-a528101e6532",
   "metadata": {},
   "source": [
    "### 1. Read Datasets\n",
    "\n",
    "Os valores dessa documentação não batem\n",
    "- https://pages.experian.local/pages/viewpage.action?pageId=1389466162"
   ]
  },
  {
   "cell_type": "code",
   "execution_count": 14,
   "id": "cce9d61a-431f-49af-9517-7e9913368e30",
   "metadata": {},
   "outputs": [],
   "source": [
    "df = gpd.read_file(GEOPACKAGE_PATH)"
   ]
  },
  {
   "cell_type": "code",
   "execution_count": 15,
   "id": "da2c656c-9d68-4d5d-82b4-43cf27403434",
   "metadata": {},
   "outputs": [
    {
     "data": {
      "text/plain": [
       "(38192, 40)"
      ]
     },
     "execution_count": 15,
     "metadata": {},
     "output_type": "execute_result"
    }
   ],
   "source": [
    "df.shape"
   ]
  },
  {
   "cell_type": "code",
   "execution_count": 19,
   "id": "e8d6eb6b-c5f6-4545-a70b-41be853ef9e2",
   "metadata": {},
   "outputs": [
    {
     "data": {
      "text/html": [
       "<div>\n",
       "<style scoped>\n",
       "    .dataframe tbody tr th:only-of-type {\n",
       "        vertical-align: middle;\n",
       "    }\n",
       "\n",
       "    .dataframe tbody tr th {\n",
       "        vertical-align: top;\n",
       "    }\n",
       "\n",
       "    .dataframe thead th {\n",
       "        text-align: right;\n",
       "    }\n",
       "</style>\n",
       "<table border=\"1\" class=\"dataframe\">\n",
       "  <thead>\n",
       "    <tr style=\"text-align: right;\">\n",
       "      <th></th>\n",
       "      <th></th>\n",
       "      <th>monitoring_class</th>\n",
       "      <th>fonte</th>\n",
       "      <th>cultura_2</th>\n",
       "      <th>state</th>\n",
       "      <th>area</th>\n",
       "      <th>meso</th>\n",
       "      <th>obs_extra</th>\n",
       "      <th>eopath_location</th>\n",
       "      <th>start_season</th>\n",
       "      <th>end_season</th>\n",
       "      <th>...</th>\n",
       "      <th>key_bucket</th>\n",
       "      <th>local_eopatch_path</th>\n",
       "      <th>total_imagens_do_intervalo</th>\n",
       "      <th>total_de_imagem</th>\n",
       "      <th>status_missing_images</th>\n",
       "      <th>days_gap</th>\n",
       "      <th>dates_diff</th>\n",
       "      <th>mean_dates_diff</th>\n",
       "      <th>status_series_missing</th>\n",
       "      <th>geometry</th>\n",
       "    </tr>\n",
       "    <tr>\n",
       "      <th>dataset_part</th>\n",
       "      <th>period</th>\n",
       "      <th></th>\n",
       "      <th></th>\n",
       "      <th></th>\n",
       "      <th></th>\n",
       "      <th></th>\n",
       "      <th></th>\n",
       "      <th></th>\n",
       "      <th></th>\n",
       "      <th></th>\n",
       "      <th></th>\n",
       "      <th></th>\n",
       "      <th></th>\n",
       "      <th></th>\n",
       "      <th></th>\n",
       "      <th></th>\n",
       "      <th></th>\n",
       "      <th></th>\n",
       "      <th></th>\n",
       "      <th></th>\n",
       "      <th></th>\n",
       "      <th></th>\n",
       "    </tr>\n",
       "  </thead>\n",
       "  <tbody>\n",
       "    <tr>\n",
       "      <th rowspan=\"5\" valign=\"top\">test</th>\n",
       "      <th>2017/2018</th>\n",
       "      <td>8</td>\n",
       "      <td>8</td>\n",
       "      <td>0</td>\n",
       "      <td>8</td>\n",
       "      <td>8</td>\n",
       "      <td>8</td>\n",
       "      <td>8</td>\n",
       "      <td>8</td>\n",
       "      <td>8</td>\n",
       "      <td>8</td>\n",
       "      <td>...</td>\n",
       "      <td>8</td>\n",
       "      <td>8</td>\n",
       "      <td>8</td>\n",
       "      <td>8</td>\n",
       "      <td>8</td>\n",
       "      <td>0</td>\n",
       "      <td>0</td>\n",
       "      <td>8</td>\n",
       "      <td>8</td>\n",
       "      <td>8</td>\n",
       "    </tr>\n",
       "    <tr>\n",
       "      <th>2018/2019</th>\n",
       "      <td>24</td>\n",
       "      <td>24</td>\n",
       "      <td>0</td>\n",
       "      <td>24</td>\n",
       "      <td>24</td>\n",
       "      <td>24</td>\n",
       "      <td>24</td>\n",
       "      <td>24</td>\n",
       "      <td>24</td>\n",
       "      <td>24</td>\n",
       "      <td>...</td>\n",
       "      <td>24</td>\n",
       "      <td>24</td>\n",
       "      <td>24</td>\n",
       "      <td>24</td>\n",
       "      <td>24</td>\n",
       "      <td>0</td>\n",
       "      <td>0</td>\n",
       "      <td>24</td>\n",
       "      <td>24</td>\n",
       "      <td>24</td>\n",
       "    </tr>\n",
       "    <tr>\n",
       "      <th>2019/2020</th>\n",
       "      <td>28</td>\n",
       "      <td>28</td>\n",
       "      <td>0</td>\n",
       "      <td>28</td>\n",
       "      <td>28</td>\n",
       "      <td>28</td>\n",
       "      <td>28</td>\n",
       "      <td>28</td>\n",
       "      <td>28</td>\n",
       "      <td>28</td>\n",
       "      <td>...</td>\n",
       "      <td>28</td>\n",
       "      <td>28</td>\n",
       "      <td>28</td>\n",
       "      <td>28</td>\n",
       "      <td>28</td>\n",
       "      <td>0</td>\n",
       "      <td>0</td>\n",
       "      <td>28</td>\n",
       "      <td>28</td>\n",
       "      <td>28</td>\n",
       "    </tr>\n",
       "    <tr>\n",
       "      <th>2020/2021</th>\n",
       "      <td>970</td>\n",
       "      <td>970</td>\n",
       "      <td>0</td>\n",
       "      <td>970</td>\n",
       "      <td>970</td>\n",
       "      <td>970</td>\n",
       "      <td>970</td>\n",
       "      <td>970</td>\n",
       "      <td>970</td>\n",
       "      <td>970</td>\n",
       "      <td>...</td>\n",
       "      <td>970</td>\n",
       "      <td>970</td>\n",
       "      <td>970</td>\n",
       "      <td>970</td>\n",
       "      <td>970</td>\n",
       "      <td>0</td>\n",
       "      <td>0</td>\n",
       "      <td>970</td>\n",
       "      <td>970</td>\n",
       "      <td>970</td>\n",
       "    </tr>\n",
       "    <tr>\n",
       "      <th>2021/2022</th>\n",
       "      <td>1015</td>\n",
       "      <td>1015</td>\n",
       "      <td>0</td>\n",
       "      <td>1015</td>\n",
       "      <td>1015</td>\n",
       "      <td>1015</td>\n",
       "      <td>1015</td>\n",
       "      <td>1015</td>\n",
       "      <td>1015</td>\n",
       "      <td>1015</td>\n",
       "      <td>...</td>\n",
       "      <td>1015</td>\n",
       "      <td>1015</td>\n",
       "      <td>1015</td>\n",
       "      <td>1015</td>\n",
       "      <td>1015</td>\n",
       "      <td>0</td>\n",
       "      <td>0</td>\n",
       "      <td>1015</td>\n",
       "      <td>1015</td>\n",
       "      <td>1015</td>\n",
       "    </tr>\n",
       "    <tr>\n",
       "      <th rowspan=\"5\" valign=\"top\">train</th>\n",
       "      <th>2017/2018</th>\n",
       "      <td>190</td>\n",
       "      <td>190</td>\n",
       "      <td>0</td>\n",
       "      <td>190</td>\n",
       "      <td>190</td>\n",
       "      <td>190</td>\n",
       "      <td>190</td>\n",
       "      <td>190</td>\n",
       "      <td>190</td>\n",
       "      <td>190</td>\n",
       "      <td>...</td>\n",
       "      <td>190</td>\n",
       "      <td>190</td>\n",
       "      <td>190</td>\n",
       "      <td>190</td>\n",
       "      <td>190</td>\n",
       "      <td>0</td>\n",
       "      <td>0</td>\n",
       "      <td>190</td>\n",
       "      <td>190</td>\n",
       "      <td>190</td>\n",
       "    </tr>\n",
       "    <tr>\n",
       "      <th>2018/2019</th>\n",
       "      <td>296</td>\n",
       "      <td>296</td>\n",
       "      <td>0</td>\n",
       "      <td>296</td>\n",
       "      <td>296</td>\n",
       "      <td>296</td>\n",
       "      <td>296</td>\n",
       "      <td>296</td>\n",
       "      <td>296</td>\n",
       "      <td>296</td>\n",
       "      <td>...</td>\n",
       "      <td>296</td>\n",
       "      <td>296</td>\n",
       "      <td>296</td>\n",
       "      <td>296</td>\n",
       "      <td>296</td>\n",
       "      <td>0</td>\n",
       "      <td>0</td>\n",
       "      <td>296</td>\n",
       "      <td>296</td>\n",
       "      <td>296</td>\n",
       "    </tr>\n",
       "    <tr>\n",
       "      <th>2019/2020</th>\n",
       "      <td>531</td>\n",
       "      <td>531</td>\n",
       "      <td>0</td>\n",
       "      <td>531</td>\n",
       "      <td>531</td>\n",
       "      <td>531</td>\n",
       "      <td>531</td>\n",
       "      <td>531</td>\n",
       "      <td>531</td>\n",
       "      <td>531</td>\n",
       "      <td>...</td>\n",
       "      <td>531</td>\n",
       "      <td>531</td>\n",
       "      <td>531</td>\n",
       "      <td>531</td>\n",
       "      <td>531</td>\n",
       "      <td>0</td>\n",
       "      <td>0</td>\n",
       "      <td>531</td>\n",
       "      <td>531</td>\n",
       "      <td>531</td>\n",
       "    </tr>\n",
       "    <tr>\n",
       "      <th>2020/2021</th>\n",
       "      <td>16035</td>\n",
       "      <td>16035</td>\n",
       "      <td>0</td>\n",
       "      <td>16035</td>\n",
       "      <td>16035</td>\n",
       "      <td>16035</td>\n",
       "      <td>16035</td>\n",
       "      <td>16035</td>\n",
       "      <td>16035</td>\n",
       "      <td>16035</td>\n",
       "      <td>...</td>\n",
       "      <td>16035</td>\n",
       "      <td>16035</td>\n",
       "      <td>16035</td>\n",
       "      <td>16035</td>\n",
       "      <td>16035</td>\n",
       "      <td>0</td>\n",
       "      <td>0</td>\n",
       "      <td>16035</td>\n",
       "      <td>16035</td>\n",
       "      <td>16035</td>\n",
       "    </tr>\n",
       "    <tr>\n",
       "      <th>2021/2022</th>\n",
       "      <td>17126</td>\n",
       "      <td>17126</td>\n",
       "      <td>0</td>\n",
       "      <td>17126</td>\n",
       "      <td>17126</td>\n",
       "      <td>17126</td>\n",
       "      <td>17126</td>\n",
       "      <td>17126</td>\n",
       "      <td>17126</td>\n",
       "      <td>17126</td>\n",
       "      <td>...</td>\n",
       "      <td>17126</td>\n",
       "      <td>17126</td>\n",
       "      <td>17126</td>\n",
       "      <td>17126</td>\n",
       "      <td>17126</td>\n",
       "      <td>0</td>\n",
       "      <td>0</td>\n",
       "      <td>17126</td>\n",
       "      <td>17126</td>\n",
       "      <td>17126</td>\n",
       "    </tr>\n",
       "    <tr>\n",
       "      <th rowspan=\"5\" valign=\"top\">val</th>\n",
       "      <th>2017/2018</th>\n",
       "      <td>8</td>\n",
       "      <td>8</td>\n",
       "      <td>0</td>\n",
       "      <td>8</td>\n",
       "      <td>8</td>\n",
       "      <td>8</td>\n",
       "      <td>8</td>\n",
       "      <td>8</td>\n",
       "      <td>8</td>\n",
       "      <td>8</td>\n",
       "      <td>...</td>\n",
       "      <td>8</td>\n",
       "      <td>8</td>\n",
       "      <td>8</td>\n",
       "      <td>8</td>\n",
       "      <td>8</td>\n",
       "      <td>0</td>\n",
       "      <td>0</td>\n",
       "      <td>8</td>\n",
       "      <td>8</td>\n",
       "      <td>8</td>\n",
       "    </tr>\n",
       "    <tr>\n",
       "      <th>2018/2019</th>\n",
       "      <td>21</td>\n",
       "      <td>21</td>\n",
       "      <td>0</td>\n",
       "      <td>21</td>\n",
       "      <td>21</td>\n",
       "      <td>21</td>\n",
       "      <td>21</td>\n",
       "      <td>21</td>\n",
       "      <td>21</td>\n",
       "      <td>21</td>\n",
       "      <td>...</td>\n",
       "      <td>21</td>\n",
       "      <td>21</td>\n",
       "      <td>21</td>\n",
       "      <td>21</td>\n",
       "      <td>21</td>\n",
       "      <td>0</td>\n",
       "      <td>0</td>\n",
       "      <td>21</td>\n",
       "      <td>21</td>\n",
       "      <td>21</td>\n",
       "    </tr>\n",
       "    <tr>\n",
       "      <th>2019/2020</th>\n",
       "      <td>36</td>\n",
       "      <td>36</td>\n",
       "      <td>0</td>\n",
       "      <td>36</td>\n",
       "      <td>36</td>\n",
       "      <td>36</td>\n",
       "      <td>36</td>\n",
       "      <td>36</td>\n",
       "      <td>36</td>\n",
       "      <td>36</td>\n",
       "      <td>...</td>\n",
       "      <td>36</td>\n",
       "      <td>36</td>\n",
       "      <td>36</td>\n",
       "      <td>36</td>\n",
       "      <td>36</td>\n",
       "      <td>0</td>\n",
       "      <td>0</td>\n",
       "      <td>36</td>\n",
       "      <td>36</td>\n",
       "      <td>36</td>\n",
       "    </tr>\n",
       "    <tr>\n",
       "      <th>2020/2021</th>\n",
       "      <td>829</td>\n",
       "      <td>829</td>\n",
       "      <td>0</td>\n",
       "      <td>829</td>\n",
       "      <td>829</td>\n",
       "      <td>829</td>\n",
       "      <td>829</td>\n",
       "      <td>829</td>\n",
       "      <td>829</td>\n",
       "      <td>829</td>\n",
       "      <td>...</td>\n",
       "      <td>829</td>\n",
       "      <td>829</td>\n",
       "      <td>829</td>\n",
       "      <td>829</td>\n",
       "      <td>829</td>\n",
       "      <td>0</td>\n",
       "      <td>0</td>\n",
       "      <td>829</td>\n",
       "      <td>829</td>\n",
       "      <td>829</td>\n",
       "    </tr>\n",
       "    <tr>\n",
       "      <th>2021/2022</th>\n",
       "      <td>1075</td>\n",
       "      <td>1075</td>\n",
       "      <td>0</td>\n",
       "      <td>1075</td>\n",
       "      <td>1075</td>\n",
       "      <td>1075</td>\n",
       "      <td>1075</td>\n",
       "      <td>1075</td>\n",
       "      <td>1075</td>\n",
       "      <td>1075</td>\n",
       "      <td>...</td>\n",
       "      <td>1075</td>\n",
       "      <td>1075</td>\n",
       "      <td>1075</td>\n",
       "      <td>1075</td>\n",
       "      <td>1075</td>\n",
       "      <td>0</td>\n",
       "      <td>0</td>\n",
       "      <td>1075</td>\n",
       "      <td>1075</td>\n",
       "      <td>1075</td>\n",
       "    </tr>\n",
       "  </tbody>\n",
       "</table>\n",
       "<p>15 rows × 38 columns</p>\n",
       "</div>"
      ],
      "text/plain": [
       "                        monitoring_class  fonte  cultura_2  state   area  \\\n",
       "dataset_part period                                                        \n",
       "test         2017/2018                 8      8          0      8      8   \n",
       "             2018/2019                24     24          0     24     24   \n",
       "             2019/2020                28     28          0     28     28   \n",
       "             2020/2021               970    970          0    970    970   \n",
       "             2021/2022              1015   1015          0   1015   1015   \n",
       "train        2017/2018               190    190          0    190    190   \n",
       "             2018/2019               296    296          0    296    296   \n",
       "             2019/2020               531    531          0    531    531   \n",
       "             2020/2021             16035  16035          0  16035  16035   \n",
       "             2021/2022             17126  17126          0  17126  17126   \n",
       "val          2017/2018                 8      8          0      8      8   \n",
       "             2018/2019                21     21          0     21     21   \n",
       "             2019/2020                36     36          0     36     36   \n",
       "             2020/2021               829    829          0    829    829   \n",
       "             2021/2022              1075   1075          0   1075   1075   \n",
       "\n",
       "                         meso  obs_extra  eopath_location  start_season  \\\n",
       "dataset_part period                                                       \n",
       "test         2017/2018      8          8                8             8   \n",
       "             2018/2019     24         24               24            24   \n",
       "             2019/2020     28         28               28            28   \n",
       "             2020/2021    970        970              970           970   \n",
       "             2021/2022   1015       1015             1015          1015   \n",
       "train        2017/2018    190        190              190           190   \n",
       "             2018/2019    296        296              296           296   \n",
       "             2019/2020    531        531              531           531   \n",
       "             2020/2021  16035      16035            16035         16035   \n",
       "             2021/2022  17126      17126            17126         17126   \n",
       "val          2017/2018      8          8                8             8   \n",
       "             2018/2019     21         21               21            21   \n",
       "             2019/2020     36         36               36            36   \n",
       "             2020/2021    829        829              829           829   \n",
       "             2021/2022   1075       1075             1075          1075   \n",
       "\n",
       "                        end_season  ...  key_bucket  local_eopatch_path  \\\n",
       "dataset_part period                 ...                                   \n",
       "test         2017/2018           8  ...           8                   8   \n",
       "             2018/2019          24  ...          24                  24   \n",
       "             2019/2020          28  ...          28                  28   \n",
       "             2020/2021         970  ...         970                 970   \n",
       "             2021/2022        1015  ...        1015                1015   \n",
       "train        2017/2018         190  ...         190                 190   \n",
       "             2018/2019         296  ...         296                 296   \n",
       "             2019/2020         531  ...         531                 531   \n",
       "             2020/2021       16035  ...       16035               16035   \n",
       "             2021/2022       17126  ...       17126               17126   \n",
       "val          2017/2018           8  ...           8                   8   \n",
       "             2018/2019          21  ...          21                  21   \n",
       "             2019/2020          36  ...          36                  36   \n",
       "             2020/2021         829  ...         829                 829   \n",
       "             2021/2022        1075  ...        1075                1075   \n",
       "\n",
       "                        total_imagens_do_intervalo  total_de_imagem  \\\n",
       "dataset_part period                                                   \n",
       "test         2017/2018                           8                8   \n",
       "             2018/2019                          24               24   \n",
       "             2019/2020                          28               28   \n",
       "             2020/2021                         970              970   \n",
       "             2021/2022                        1015             1015   \n",
       "train        2017/2018                         190              190   \n",
       "             2018/2019                         296              296   \n",
       "             2019/2020                         531              531   \n",
       "             2020/2021                       16035            16035   \n",
       "             2021/2022                       17126            17126   \n",
       "val          2017/2018                           8                8   \n",
       "             2018/2019                          21               21   \n",
       "             2019/2020                          36               36   \n",
       "             2020/2021                         829              829   \n",
       "             2021/2022                        1075             1075   \n",
       "\n",
       "                        status_missing_images  days_gap  dates_diff  \\\n",
       "dataset_part period                                                   \n",
       "test         2017/2018                      8         0           0   \n",
       "             2018/2019                     24         0           0   \n",
       "             2019/2020                     28         0           0   \n",
       "             2020/2021                    970         0           0   \n",
       "             2021/2022                   1015         0           0   \n",
       "train        2017/2018                    190         0           0   \n",
       "             2018/2019                    296         0           0   \n",
       "             2019/2020                    531         0           0   \n",
       "             2020/2021                  16035         0           0   \n",
       "             2021/2022                  17126         0           0   \n",
       "val          2017/2018                      8         0           0   \n",
       "             2018/2019                     21         0           0   \n",
       "             2019/2020                     36         0           0   \n",
       "             2020/2021                    829         0           0   \n",
       "             2021/2022                   1075         0           0   \n",
       "\n",
       "                        mean_dates_diff  status_series_missing  geometry  \n",
       "dataset_part period                                                       \n",
       "test         2017/2018                8                      8         8  \n",
       "             2018/2019               24                     24        24  \n",
       "             2019/2020               28                     28        28  \n",
       "             2020/2021              970                    970       970  \n",
       "             2021/2022             1015                   1015      1015  \n",
       "train        2017/2018              190                    190       190  \n",
       "             2018/2019              296                    296       296  \n",
       "             2019/2020              531                    531       531  \n",
       "             2020/2021            16035                  16035     16035  \n",
       "             2021/2022            17126                  17126     17126  \n",
       "val          2017/2018                8                      8         8  \n",
       "             2018/2019               21                     21        21  \n",
       "             2019/2020               36                     36        36  \n",
       "             2020/2021              829                    829       829  \n",
       "             2021/2022             1075                   1075      1075  \n",
       "\n",
       "[15 rows x 38 columns]"
      ]
     },
     "execution_count": 19,
     "metadata": {},
     "output_type": "execute_result"
    }
   ],
   "source": [
    "df.groupby(['dataset_part', 'period']).count()"
   ]
  },
  {
   "cell_type": "code",
   "execution_count": null,
   "id": "2dcc7eab-17b4-4811-8f94-e143c45c63fc",
   "metadata": {},
   "outputs": [],
   "source": []
  },
  {
   "cell_type": "markdown",
   "id": "f344e5e7-617e-4673-95ef-d8f969ccaf4d",
   "metadata": {},
   "source": [
    "## 2. Separe train, test and val"
   ]
  },
  {
   "cell_type": "code",
   "execution_count": 9,
   "id": "31417521-425a-4f0c-996d-c3c9722b6e80",
   "metadata": {},
   "outputs": [],
   "source": [
    "train_data = df[df['dataset_part']=='train'].reset_index(drop=True).iloc[:1000]\n",
    "val_data = df[df['dataset_part']=='val'].reset_index(drop=True).iloc[:100]\n",
    "test_data = df[df['dataset_part']=='test']"
   ]
  },
  {
   "cell_type": "code",
   "execution_count": 10,
   "id": "cb3492cc-d54d-419a-a0db-5faf34a5ea2e",
   "metadata": {},
   "outputs": [
    {
     "name": "stdout",
     "output_type": "stream",
     "text": [
      "train_shape: (1000, 41)\n",
      "val_shape: (100, 41)\n",
      "test_shape: (3636, 41)\n"
     ]
    }
   ],
   "source": [
    "print(f\"train_shape: {train_data.shape}\")\n",
    "print(f\"val_shape: {val_data.shape}\")\n",
    "print(f\"test_shape: {test_data.shape}\")"
   ]
  },
  {
   "attachments": {},
   "cell_type": "markdown",
   "id": "0f9883b9-634b-4d7a-874e-0bd41aa212d3",
   "metadata": {},
   "source": [
    "### 2. Tranning model\n",
    "\n",
    "Output do treinamento\n",
    "- label_enc.pkl: Objeto LabelEnconder, responsável pela transformação da variável alvo para uma representação vetorial e vice-versa.\n",
    "- minmax_scaler.pkl: Objeto TimestepMinMaxScaler, responsável pela normalização dos valores dos pixels de entrada.\n",
    "- ts_config.pkl: Dicionário contendo as informações do número de timestamps, número de features e número de classes necessárias para a reconstrução do modelo. \n",
    "- rnn_model.h5: Objeto contendo os pesos do modelo treinado"
   ]
  },
  {
   "cell_type": "code",
   "execution_count": 11,
   "id": "27f4598c-8484-4843-a787-3a6382c4afda",
   "metadata": {},
   "outputs": [],
   "source": [
    "def check_path_exists(path):\n",
    "    checked = os.path.exists(path)\n",
    "    return checked"
   ]
  },
  {
   "cell_type": "code",
   "execution_count": 12,
   "id": "499de4b8-ccde-4a15-96c1-4a7a88d26dac",
   "metadata": {},
   "outputs": [
    {
     "data": {
      "text/plain": [
       "checked_path\n",
       "False    73468\n",
       "Name: count, dtype: int64"
      ]
     },
     "execution_count": 12,
     "metadata": {},
     "output_type": "execute_result"
    }
   ],
   "source": [
    "df['checked_path'] = df['local_eopatch_path'].apply(check_path_exists)\n",
    "df['checked_path'].value_counts()"
   ]
  },
  {
   "cell_type": "code",
   "execution_count": 24,
   "id": "d2bf5f5a-574c-46a8-a8fb-37d5ac3c7107",
   "metadata": {},
   "outputs": [
    {
     "name": "stdout",
     "output_type": "stream",
     "text": [
      "['CORN', 'SOYBEAN', 'COTTON', 'RICE', 'SUGAR_CANE']\n"
     ]
    }
   ],
   "source": [
    "crop_classifier = CropClassifier(\n",
    "    eopatch_folder=EOPATCH_FOLDER,\n",
    "    model_path=OUTPUT_MODEL_PATH,\n",
    "    checkpoint_path=OUTPUT_CHECKPOINT_PATH,\n",
    ")"
   ]
  },
  {
   "cell_type": "code",
   "execution_count": null,
   "id": "ccebd438-277e-4e34-8d25-b116e26f9e9f",
   "metadata": {},
   "outputs": [],
   "source": []
  },
  {
   "cell_type": "code",
   "execution_count": 25,
   "id": "38530ba7-2836-4769-a864-3fd027bd08c4",
   "metadata": {},
   "outputs": [
    {
     "data": {
      "text/plain": [
       "EOPatch(\n",
       "  data={\n",
       "    X_DATA: numpy.ndarray(shape=(3, 50, 3, 13), dtype=float64)\n",
       "  }\n",
       "  meta_info={\n",
       "    LABELS: <class 'list'>, length=3\n",
       "    TIMESTAMP_SAMPLES: [[3, 4, 5], [4, 5, 6], [5, 6, 7]]\n",
       "  }\n",
       "  bbox=BBox(((-52.466159663200926, -32.224125), (-52.44674976809438, -32.21560099999999)), crs=CRS('4326'))\n",
       "  timestamp=[datetime.datetime(2021, 12, 3, 0, 0), ..., datetime.datetime(2022, 2, 25, 0, 0)], length=8\n",
       ")"
      ]
     },
     "execution_count": 25,
     "metadata": {},
     "output_type": "execute_result"
    }
   ],
   "source": [
    "# DEGUB crop_classifer.train\n",
    "\n",
    "eopatch = EOPatch.load(\n",
    "    os.path.join(\n",
    "        EOPATCH_FOLDER,\n",
    "        train_data.monitoring_class.values[0],\n",
    "        \"train\",\n",
    "        train_data.eopath_location.values[0],\n",
    "        \"eopatch_0_col-0_row-0\",\n",
    "    )\n",
    ")\n",
    "eopatch"
   ]
  },
  {
   "cell_type": "code",
   "execution_count": 26,
   "id": "a402328c-1c48-4c8a-9054-62742e8361af",
   "metadata": {},
   "outputs": [],
   "source": [
    "from agrilearn.crop_classification import config\n",
    "train_batch_size=8\n",
    "val_batch_size=1\n",
    "feature_num = eopatch.data[\"X_DATA\"].shape[-1]\n",
    "train_unique_labels = config.TRAINING_LABELS\n",
    "ts_sample_n=3"
   ]
  },
  {
   "cell_type": "code",
   "execution_count": 27,
   "id": "7317a3b8-6aa7-4a72-97e9-a46a1d3c2a7d",
   "metadata": {},
   "outputs": [],
   "source": [
    "model = crop_classifier._build_rnn_model(\n",
    "    feature_num, ts_sample_n, len(train_unique_labels)\n",
    "        )"
   ]
  },
  {
   "cell_type": "code",
   "execution_count": 28,
   "id": "a424e29a-8fa7-46b7-bd16-1569b8e97f6d",
   "metadata": {},
   "outputs": [
    {
     "data": {
      "text/plain": [
       "agrilearn.crop_classification.RNNModel.GRUModel"
      ]
     },
     "execution_count": 28,
     "metadata": {},
     "output_type": "execute_result"
    }
   ],
   "source": [
    "type(model)"
   ]
  },
  {
   "cell_type": "code",
   "execution_count": 32,
   "id": "b5968691-4674-458c-9bdc-c24402c86662",
   "metadata": {},
   "outputs": [
    {
     "name": "stdout",
     "output_type": "stream",
     "text": [
      "fit_generator  labels: ['CORN', 'SOYBEAN', 'COTTON', 'RICE', 'SUGAR_CANE']\n"
     ]
    },
    {
     "name": "stderr",
     "output_type": "stream",
     "text": [
      "2024-11-23 12:26:28.622133: I external/local_tsl/tsl/profiler/lib/profiler_session.cc:104] Profiler session initializing.\n",
      "2024-11-23 12:26:28.622163: I external/local_tsl/tsl/profiler/lib/profiler_session.cc:119] Profiler session started.\n",
      "2024-11-23 12:26:28.673607: I external/local_tsl/tsl/profiler/lib/profiler_session.cc:131] Profiler session tear down.\n",
      "2024-11-23 12:26:28.673713: I external/local_xla/xla/backends/profiler/gpu/cupti_tracer.cc:1364] CUPTI activity buffer flushed\n"
     ]
    }
   ],
   "source": [
    "print(\"fit_generator  labels:\", train_unique_labels)\n",
    "\"\"\"Generator to load data in batches.\"\"\"\n",
    "model._set_optimizer()\n",
    "model._set_loss()\n",
    "model._set_label_encoder(train_unique_labels)\n",
    "callbacks = model._set_callbacks()"
   ]
  },
  {
   "cell_type": "code",
   "execution_count": null,
   "id": "e6ceef1b-9fa5-405f-aca4-b07b42426ac4",
   "metadata": {},
   "outputs": [],
   "source": [
    "model.fit_generator"
   ]
  },
  {
   "cell_type": "code",
   "execution_count": null,
   "id": "98418173-9462-4d84-aea2-9dec345a0d9a",
   "metadata": {},
   "outputs": [],
   "source": [
    "# crop_classifier.train(\n",
    "#     train_df=train_gdf,\n",
    "#     val_df=val_gdf,\n",
    "#     test_df=test_gdf,\n",
    "#     train_batch_size=8,\n",
    "#     val_batch_size=1,\n",
    "# )"
   ]
  },
  {
   "cell_type": "code",
   "execution_count": 35,
   "id": "f6544892-d006-4ff8-82d5-edc9476af5d3",
   "metadata": {},
   "outputs": [
    {
     "name": "stdout",
     "output_type": "stream",
     "text": [
      "Criando o modelo\n"
     ]
    },
    {
     "data": {
      "text/plain": [
       "<Sequential name=sequential_2, built=True>"
      ]
     },
     "execution_count": 35,
     "metadata": {},
     "output_type": "execute_result"
    }
   ],
   "source": [
    "print(\"Criando o modelo\")\n",
    "model._create_model()"
   ]
  },
  {
   "cell_type": "code",
   "execution_count": 33,
   "id": "b3b15587-f16a-407f-acf7-54b94eaf1e5e",
   "metadata": {},
   "outputs": [],
   "source": [
    "crop_classifier.model"
   ]
  },
  {
   "cell_type": "code",
   "execution_count": null,
   "id": "eac4c0dc-a0e2-42fc-b4f4-18857e0c7419",
   "metadata": {},
   "outputs": [],
   "source": []
  },
  {
   "cell_type": "code",
   "execution_count": null,
   "id": "0797302f-c650-4a7d-8c99-a73faa86df1f",
   "metadata": {},
   "outputs": [],
   "source": []
  },
  {
   "cell_type": "code",
   "execution_count": null,
   "id": "f88156c6-4e16-4237-a2ec-445d78581553",
   "metadata": {},
   "outputs": [],
   "source": []
  }
 ],
 "metadata": {
  "kernelspec": {
   "display_name": "Python 3 (ipykernel)",
   "language": "python",
   "name": "python3"
  },
  "language_info": {
   "codemirror_mode": {
    "name": "ipython",
    "version": 3
   },
   "file_extension": ".py",
   "mimetype": "text/x-python",
   "name": "python",
   "nbconvert_exporter": "python",
   "pygments_lexer": "ipython3",
   "version": "3.10.12"
  }
 },
 "nbformat": 4,
 "nbformat_minor": 5
}
