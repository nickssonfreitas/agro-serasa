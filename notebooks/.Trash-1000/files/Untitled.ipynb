{
 "cells": [
  {
   "cell_type": "code",
   "execution_count": 4,
   "id": "f5b790f9-84e7-4ea4-87a5-c8876dd0c02f",
   "metadata": {
    "tags": []
   },
   "outputs": [],
   "source": [
    "import sys\n",
    "sys.path.append(\"../agrilearn/submodules/commons/\")\n",
    "sys.path.append(\"../agrilearn/submodules/crop_rnn/\")\n",
    "sys.path.append(\"../agrilearn/\")\n",
    "\n",
    "import boto3\n",
    "import geopandas as gpd\n",
    "import os\n",
    "from io import BytesIO\n",
    "import pandas as pd\n",
    "from folium import GeoJson\n",
    "import folium\n",
    "import numpy as np\n",
    "from tqdm import tqdm\n",
    "from glob import glob\n",
    "#import local modules\n",
    "import sys\n",
    "from eolearn.core import EOPatch\n",
    "\n",
    "#from agrilearn.commons.s3 import s3_utils\n",
    "#from agrilearn.crop_classification import evalutate_utils\n",
    "#from agrilearn.crop_classification import yaml_utils\n",
    "#from agrilearn.crop_classification.processing import check_input_model_eopatches_features_based_geopackage, check_processed_eopatches_features_based_geopackage"
   ]
  },
  {
   "cell_type": "code",
   "execution_count": 10,
   "id": "e65394b9-0eab-4946-9130-989b1e1013e4",
   "metadata": {
    "tags": []
   },
   "outputs": [],
   "source": []
  },
  {
   "cell_type": "code",
   "execution_count": 20,
   "id": "d44867e0-431c-4e7b-bf27-e390099e2c3b",
   "metadata": {
    "tags": []
   },
   "outputs": [],
   "source": [
    "GEOPACKAGE_PATH = [\"/home/ec2-user/nicksson-datasets/base/geopackage/raw/wheat_train_v3.gpkg\",\n",
    "                   \"/home/ec2-user/nicksson-datasets/base/geopackage/raw/wheat_val_v3.gpkg\",\n",
    "                   \"/home/ec2-user/nicksson-datasets/base/geopackage/processed/CORN_73080_SOYBEAN_29670_COTTON_1632_RICE_1172.gpkg\",\n",
    "                   \"/home/ec2-user/nicksson-datasets/base/geopackage/processed/SUGAR_CANE_35276_SOYBEAN_29670_CORN_5710_COTTON_1639_RICE_1173.gpkg\",\n",
    "                   \"/home/ec2-user/nicksson-datasets/arroz_jan_23_24/geopackage/raw/arroz_jan_670.gpkg\", \n",
    "                   \"/home/ec2-user/nicksson-datasets/algodao_2022_2023_2023_2023/geopackage/raw/algodao_jan_4751.gpkg\", \n",
    "                   \"/home/ec2-user/nicksson-datasets/from_test_to_train/geopackage/processed/SOYBEAN_1367_CORN_400_COTTON_216_RICE_62.gpkg\"]\n",
    "                   #\"/agrilearn_app/datasets/soja_2022_2023/geopackage/raw/soja_mar_66835.gpkg\"]         \n",
    "\n",
    "OUTPUT_DIR = \"/agrilearn_app/datasets/experiment_12/geopackage\"\n",
    "\n",
    "label_monitoring_class = 'monitoring_class'\n",
    "label_eopatch_path = \"eopath_location\" # 'sentinel_eopatch_current' #eopath_location"
   ]
  },
  {
   "cell_type": "code",
   "execution_count": 21,
   "id": "1ae60d95-88c0-470c-b8d0-5739a337b3c4",
   "metadata": {
    "tags": []
   },
   "outputs": [
    {
     "name": "stdout",
     "output_type": "stream",
     "text": [
      "Dataset final possui 192173 linhas\n"
     ]
    }
   ],
   "source": [
    "gdfs = []\n",
    "\n",
    "# Lê cada Geopackage e adiciona o GeoDataFrame à lista\n",
    "for path in GEOPACKAGE_PATH:\n",
    "    print(path)\n",
    "    gdf = gpd.read_file(path)\n",
    "    gdf['dataset_source'] = path  # Adiciona a coluna de origem\n",
    "    gdfs.append(gdf)\n",
    "\n",
    "# Concatena todos os GeoDataFrames em um único GeoDataFrame\n",
    "if gdfs:\n",
    "    df = gpd.GeoDataFrame(pd.concat(gdfs, ignore_index=True))\n",
    "    print(f\"Dataset final possui {df.shape[0]} linhas\")\n",
    "    df.head()\n",
    "else:\n",
    "    print(\"Nenhum GeoDataFrame válido encontrado.\")"
   ]
  },
  {
   "cell_type": "code",
   "execution_count": 22,
   "id": "ad8d3142-ebd7-4be5-95d6-0168d4def9dd",
   "metadata": {
    "tags": []
   },
   "outputs": [
    {
     "data": {
      "text/plain": [
       "/home/ec2-user/nicksson-datasets/base/geopackage/processed/CORN_73080_SOYBEAN_29670_COTTON_1632_RICE_1172.gpkg                    105554\n",
       "/home/ec2-user/nicksson-datasets/base/geopackage/processed/SUGAR_CANE_35276_SOYBEAN_29670_CORN_5710_COTTON_1639_RICE_1173.gpkg     73468\n",
       "/home/ec2-user/nicksson-datasets/algodao_2022_2023_2023_2023/geopackage/raw/algodao_jan_4751.gpkg                                   4751\n",
       "/home/ec2-user/nicksson-datasets/base/geopackage/raw/wheat_train_v3.gpkg                                                            2994\n",
       "/home/ec2-user/nicksson-datasets/base/geopackage/raw/wheat_val_v3.gpkg                                                              2691\n",
       "/home/ec2-user/nicksson-datasets/from_test_to_train/geopackage/processed/SOYBEAN_1367_CORN_400_COTTON_216_RICE_62.gpkg              2045\n",
       "/home/ec2-user/nicksson-datasets/arroz_jan_23_24/geopackage/raw/arroz_jan_670.gpkg                                                   670\n",
       "Name: dataset_source, dtype: int64"
      ]
     },
     "execution_count": 22,
     "metadata": {},
     "output_type": "execute_result"
    }
   ],
   "source": [
    "df['dataset_source'].value_counts()"
   ]
  },
  {
   "cell_type": "code",
   "execution_count": null,
   "id": "20d443ad-c77e-47d9-ba2d-e667ce4ac4ef",
   "metadata": {
    "tags": []
   },
   "outputs": [],
   "source": [
    "# Combinar todos os GeoDataFrames em um único\n",
    "df = gpd.GeoDataFrame(pd.concat(geodfs, ignore_index=True))"
   ]
  },
  {
   "cell_type": "code",
   "execution_count": null,
   "id": "c210f4e6-2e75-4b47-93bc-c5b48d80d826",
   "metadata": {
    "tags": []
   },
   "outputs": [],
   "source": [
    "list(df.columns)"
   ]
  },
  {
   "cell_type": "code",
   "execution_count": null,
   "id": "1577bc4b-f8ae-4b2f-9232-b5f42f71c7ae",
   "metadata": {
    "tags": []
   },
   "outputs": [],
   "source": [
    "df['monitoring_class'].value_counts()"
   ]
  },
  {
   "cell_type": "code",
   "execution_count": null,
   "id": "47ebc2bc-5de8-4d82-bf51-ce94f0c0f5f5",
   "metadata": {},
   "outputs": [],
   "source": [
    "df"
   ]
  },
  {
   "cell_type": "code",
   "execution_count": null,
   "id": "d5a1da15-22cf-425c-8220-0be83806a205",
   "metadata": {},
   "outputs": [],
   "source": []
  }
 ],
 "metadata": {
  "kernelspec": {
   "display_name": "Python 3 (ipykernel)",
   "language": "python",
   "name": "python3"
  },
  "language_info": {
   "codemirror_mode": {
    "name": "ipython",
    "version": 3
   },
   "file_extension": ".py",
   "mimetype": "text/x-python",
   "name": "python",
   "nbconvert_exporter": "python",
   "pygments_lexer": "ipython3",
   "version": "3.7.16"
  }
 },
 "nbformat": 4,
 "nbformat_minor": 5
}
