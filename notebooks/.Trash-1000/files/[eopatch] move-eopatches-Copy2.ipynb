{
 "cells": [
  {
   "cell_type": "code",
   "execution_count": 1,
   "id": "576fd74f-2e60-4afc-813e-14c723b6f8e3",
   "metadata": {},
   "outputs": [
    {
     "name": "stderr",
     "output_type": "stream",
     "text": [
      "2025-04-19 00:48:04.942502: I tensorflow/core/util/port.cc:153] oneDNN custom operations are on. You may see slightly different numerical results due to floating-point round-off errors from different computation orders. To turn them off, set the environment variable `TF_ENABLE_ONEDNN_OPTS=0`.\n",
      "2025-04-19 00:48:04.958466: E external/local_xla/xla/stream_executor/cuda/cuda_fft.cc:477] Unable to register cuFFT factory: Attempting to register factory for plugin cuFFT when one has already been registered\n",
      "WARNING: All log messages before absl::InitializeLog() is called are written to STDERR\n",
      "E0000 00:00:1745023684.979178 3052432 cuda_dnn.cc:8310] Unable to register cuDNN factory: Attempting to register factory for plugin cuDNN when one has already been registered\n",
      "E0000 00:00:1745023684.985172 3052432 cuda_blas.cc:1418] Unable to register cuBLAS factory: Attempting to register factory for plugin cuBLAS when one has already been registered\n",
      "2025-04-19 00:48:05.005166: I tensorflow/core/platform/cpu_feature_guard.cc:210] This TensorFlow binary is optimized to use available CPU instructions in performance-critical operations.\n",
      "To enable the following instructions: AVX2 AVX512F AVX512_VNNI FMA, in other operations, rebuild TensorFlow with the appropriate compiler flags.\n"
     ]
    }
   ],
   "source": [
    "import sys\n",
    "sys.path.append(\"../agrilearn/submodules/commons/\")\n",
    "from agrilearn.commons.s3 import s3_utils\n",
    "from agrilearn.crop_classification import evaluate_utils, yaml_utils, processing\n",
    "import geopandas as gpd\n",
    "import os\n",
    "import pandas as pd"
   ]
  },
  {
   "cell_type": "markdown",
   "id": "85e6f0ff-bf66-404a-ace7-fe1d5f5722d0",
   "metadata": {},
   "source": [
    "## 1. Define Variables and Read Data"
   ]
  },
  {
   "cell_type": "code",
   "execution_count": 2,
   "id": "18f53df5-37bd-4df7-bb4a-69f6bd5b9df3",
   "metadata": {},
   "outputs": [],
   "source": [
    "MAIN_PATH = \"/agrilearn_app/datasets/SOYBEAN/2022_2023/\"\n",
    "GEOPACKAGE_RAW_PATH = os.path.join(MAIN_PATH, \"geopackage/raw/SOYBEAN_66835.gpkg\")\n",
    "\n",
    "NEW_EOPATCH_PATH_PROCESSED = os.path.join(MAIN_PATH, \"eopatch/processed/\")\n",
    "NEW_EOPATCH_PATH_INPUT_MODEL = os.path.join(MAIN_PATH, \"eopatch/input_model/\")\n",
    "\n",
    "OLD_EOPATCH_PATH_PROCESSED = \"/agrilearn_app/datasets/SOYBEAN/eopatch/processed/\"\n",
    "OLD_EOPATCH_PATH_INPUT_MODEL = \"/agrilearn_app/datasets/SOYBEAN/eopatch/input_model/\"\n",
    "\n",
    "REPORT_PATH = os.path.join(MAIN_PATH, \"reports\")\n",
    "\n",
    "\n",
    "LABEL_EOPATCH_LOCATION = \"eopath_location\" "
   ]
  },
  {
   "cell_type": "code",
   "execution_count": 3,
   "id": "82a9b3d8-eb41-4165-8efc-a62e70d02910",
   "metadata": {},
   "outputs": [],
   "source": [
    "df = gpd.read_file(GEOPACKAGE_RAW_PATH)"
   ]
  },
  {
   "cell_type": "code",
   "execution_count": 4,
   "id": "eec6a003-3bfd-4f12-91c6-6f0c435579f3",
   "metadata": {},
   "outputs": [
    {
     "data": {
      "text/plain": [
       "(66835, 73)"
      ]
     },
     "execution_count": 4,
     "metadata": {},
     "output_type": "execute_result"
    }
   ],
   "source": [
    "df.shape"
   ]
  },
  {
   "cell_type": "code",
   "execution_count": 5,
   "id": "4436b014-847d-4738-880b-4d7cda9ec072",
   "metadata": {},
   "outputs": [
    {
     "data": {
      "text/html": [
       "<div>\n",
       "<style scoped>\n",
       "    .dataframe tbody tr th:only-of-type {\n",
       "        vertical-align: middle;\n",
       "    }\n",
       "\n",
       "    .dataframe tbody tr th {\n",
       "        vertical-align: top;\n",
       "    }\n",
       "\n",
       "    .dataframe thead th {\n",
       "        text-align: right;\n",
       "    }\n",
       "</style>\n",
       "<table border=\"1\" class=\"dataframe\">\n",
       "  <thead>\n",
       "    <tr style=\"text-align: right;\">\n",
       "      <th></th>\n",
       "      <th>monitoring_class</th>\n",
       "      <th>period</th>\n",
       "      <th>fonte</th>\n",
       "      <th>state</th>\n",
       "      <th>area</th>\n",
       "      <th>micro</th>\n",
       "      <th>eopath_location</th>\n",
       "      <th>start_season</th>\n",
       "      <th>end_season</th>\n",
       "      <th>peak_start</th>\n",
       "      <th>...</th>\n",
       "      <th>obs_emergence</th>\n",
       "      <th>obs_senescence</th>\n",
       "      <th>obs_harvest</th>\n",
       "      <th>created_by</th>\n",
       "      <th>area_id</th>\n",
       "      <th>last_date_crop_rnn</th>\n",
       "      <th>crop_distance_score_sits</th>\n",
       "      <th>crop_confidence_maha_sits</th>\n",
       "      <th>set</th>\n",
       "      <th>geometry</th>\n",
       "    </tr>\n",
       "  </thead>\n",
       "  <tbody>\n",
       "    <tr>\n",
       "      <th>0</th>\n",
       "      <td>SOYBEAN</td>\n",
       "      <td>2022/2023</td>\n",
       "      <td>Agrosatélite - Grãos Amazonia e Cerrado 2022/2023</td>\n",
       "      <td>DF</td>\n",
       "      <td>None</td>\n",
       "      <td>559.0</td>\n",
       "      <td>start_2022-10-01_end_2023-05-01_monitoring_cla...</td>\n",
       "      <td>2022-10-01</td>\n",
       "      <td>2023-05-01</td>\n",
       "      <td>2022-12-01</td>\n",
       "      <td>...</td>\n",
       "      <td>None</td>\n",
       "      <td>None</td>\n",
       "      <td>None</td>\n",
       "      <td>None</td>\n",
       "      <td>None</td>\n",
       "      <td>None</td>\n",
       "      <td>None</td>\n",
       "      <td>None</td>\n",
       "      <td>None</td>\n",
       "      <td>MULTIPOLYGON (((-47.35296 -15.69628, -47.35297...</td>\n",
       "    </tr>\n",
       "    <tr>\n",
       "      <th>1</th>\n",
       "      <td>SOYBEAN</td>\n",
       "      <td>2022/2023</td>\n",
       "      <td>Agrosatélite - Grãos Amazonia e Cerrado 2022/2023</td>\n",
       "      <td>DF</td>\n",
       "      <td>134693.4154669908</td>\n",
       "      <td>559.0</td>\n",
       "      <td>start_2022-10-01_end_2023-05-01_monitoring_cla...</td>\n",
       "      <td>2022-10-01</td>\n",
       "      <td>2023-05-01</td>\n",
       "      <td>2022-12-01</td>\n",
       "      <td>...</td>\n",
       "      <td>None</td>\n",
       "      <td>None</td>\n",
       "      <td>None</td>\n",
       "      <td>None</td>\n",
       "      <td>None</td>\n",
       "      <td>None</td>\n",
       "      <td>None</td>\n",
       "      <td>None</td>\n",
       "      <td>None</td>\n",
       "      <td>MULTIPOLYGON (((-47.64978 -15.69533, -47.64978...</td>\n",
       "    </tr>\n",
       "    <tr>\n",
       "      <th>2</th>\n",
       "      <td>SOYBEAN</td>\n",
       "      <td>2022/2023</td>\n",
       "      <td>Agrosatélite - Grãos Amazonia e Cerrado 2022/2023</td>\n",
       "      <td>DF</td>\n",
       "      <td>129433.0580092196</td>\n",
       "      <td>559.0</td>\n",
       "      <td>start_2022-10-01_end_2023-05-01_monitoring_cla...</td>\n",
       "      <td>2022-10-01</td>\n",
       "      <td>2023-05-01</td>\n",
       "      <td>2022-12-01</td>\n",
       "      <td>...</td>\n",
       "      <td>None</td>\n",
       "      <td>None</td>\n",
       "      <td>None</td>\n",
       "      <td>None</td>\n",
       "      <td>None</td>\n",
       "      <td>None</td>\n",
       "      <td>None</td>\n",
       "      <td>None</td>\n",
       "      <td>None</td>\n",
       "      <td>MULTIPOLYGON (((-47.35802 -15.81954, -47.358 -...</td>\n",
       "    </tr>\n",
       "    <tr>\n",
       "      <th>3</th>\n",
       "      <td>SOYBEAN</td>\n",
       "      <td>2022/2023</td>\n",
       "      <td>Agrosatélite - Grãos Amazonia e Cerrado 2022/2023</td>\n",
       "      <td>DF</td>\n",
       "      <td>388247.6241988475</td>\n",
       "      <td>559.0</td>\n",
       "      <td>start_2022-10-01_end_2023-05-01_monitoring_cla...</td>\n",
       "      <td>2022-10-01</td>\n",
       "      <td>2023-05-01</td>\n",
       "      <td>2022-12-01</td>\n",
       "      <td>...</td>\n",
       "      <td>None</td>\n",
       "      <td>None</td>\n",
       "      <td>None</td>\n",
       "      <td>None</td>\n",
       "      <td>None</td>\n",
       "      <td>None</td>\n",
       "      <td>None</td>\n",
       "      <td>None</td>\n",
       "      <td>None</td>\n",
       "      <td>MULTIPOLYGON (((-47.52799 -15.94517, -47.52799...</td>\n",
       "    </tr>\n",
       "    <tr>\n",
       "      <th>4</th>\n",
       "      <td>SOYBEAN</td>\n",
       "      <td>2022/2023</td>\n",
       "      <td>Agrosatélite - Grãos Amazonia e Cerrado 2022/2023</td>\n",
       "      <td>DF</td>\n",
       "      <td>651343.0730417219</td>\n",
       "      <td>559.0</td>\n",
       "      <td>start_2022-10-01_end_2023-05-01_monitoring_cla...</td>\n",
       "      <td>2022-10-01</td>\n",
       "      <td>2023-05-01</td>\n",
       "      <td>2022-12-01</td>\n",
       "      <td>...</td>\n",
       "      <td>None</td>\n",
       "      <td>None</td>\n",
       "      <td>None</td>\n",
       "      <td>None</td>\n",
       "      <td>None</td>\n",
       "      <td>None</td>\n",
       "      <td>None</td>\n",
       "      <td>None</td>\n",
       "      <td>None</td>\n",
       "      <td>MULTIPOLYGON (((-47.53758 -15.91131, -47.53751...</td>\n",
       "    </tr>\n",
       "  </tbody>\n",
       "</table>\n",
       "<p>5 rows × 73 columns</p>\n",
       "</div>"
      ],
      "text/plain": [
       "  monitoring_class     period  \\\n",
       "0          SOYBEAN  2022/2023   \n",
       "1          SOYBEAN  2022/2023   \n",
       "2          SOYBEAN  2022/2023   \n",
       "3          SOYBEAN  2022/2023   \n",
       "4          SOYBEAN  2022/2023   \n",
       "\n",
       "                                               fonte state               area  \\\n",
       "0  Agrosatélite - Grãos Amazonia e Cerrado 2022/2023    DF               None   \n",
       "1  Agrosatélite - Grãos Amazonia e Cerrado 2022/2023    DF  134693.4154669908   \n",
       "2  Agrosatélite - Grãos Amazonia e Cerrado 2022/2023    DF  129433.0580092196   \n",
       "3  Agrosatélite - Grãos Amazonia e Cerrado 2022/2023    DF  388247.6241988475   \n",
       "4  Agrosatélite - Grãos Amazonia e Cerrado 2022/2023    DF  651343.0730417219   \n",
       "\n",
       "   micro                                    eopath_location start_season  \\\n",
       "0  559.0  start_2022-10-01_end_2023-05-01_monitoring_cla...   2022-10-01   \n",
       "1  559.0  start_2022-10-01_end_2023-05-01_monitoring_cla...   2022-10-01   \n",
       "2  559.0  start_2022-10-01_end_2023-05-01_monitoring_cla...   2022-10-01   \n",
       "3  559.0  start_2022-10-01_end_2023-05-01_monitoring_cla...   2022-10-01   \n",
       "4  559.0  start_2022-10-01_end_2023-05-01_monitoring_cla...   2022-10-01   \n",
       "\n",
       "  end_season peak_start  ... obs_emergence obs_senescence obs_harvest  \\\n",
       "0 2023-05-01 2022-12-01  ...          None           None        None   \n",
       "1 2023-05-01 2022-12-01  ...          None           None        None   \n",
       "2 2023-05-01 2022-12-01  ...          None           None        None   \n",
       "3 2023-05-01 2022-12-01  ...          None           None        None   \n",
       "4 2023-05-01 2022-12-01  ...          None           None        None   \n",
       "\n",
       "  created_by area_id last_date_crop_rnn crop_distance_score_sits  \\\n",
       "0       None    None               None                     None   \n",
       "1       None    None               None                     None   \n",
       "2       None    None               None                     None   \n",
       "3       None    None               None                     None   \n",
       "4       None    None               None                     None   \n",
       "\n",
       "  crop_confidence_maha_sits   set  \\\n",
       "0                      None  None   \n",
       "1                      None  None   \n",
       "2                      None  None   \n",
       "3                      None  None   \n",
       "4                      None  None   \n",
       "\n",
       "                                            geometry  \n",
       "0  MULTIPOLYGON (((-47.35296 -15.69628, -47.35297...  \n",
       "1  MULTIPOLYGON (((-47.64978 -15.69533, -47.64978...  \n",
       "2  MULTIPOLYGON (((-47.35802 -15.81954, -47.358 -...  \n",
       "3  MULTIPOLYGON (((-47.52799 -15.94517, -47.52799...  \n",
       "4  MULTIPOLYGON (((-47.53758 -15.91131, -47.53751...  \n",
       "\n",
       "[5 rows x 73 columns]"
      ]
     },
     "execution_count": 5,
     "metadata": {},
     "output_type": "execute_result"
    }
   ],
   "source": [
    "df.head()"
   ]
  },
  {
   "cell_type": "markdown",
   "id": "6548aba5-8d69-4c76-bc94-fa812572fe92",
   "metadata": {},
   "source": [
    "## 2. Processing Geopackage"
   ]
  },
  {
   "cell_type": "markdown",
   "id": "a4dcc555-4a93-4bba-9434-89bdd5705c4c",
   "metadata": {},
   "source": [
    "### 2.1 Drop Columns NaN"
   ]
  },
  {
   "cell_type": "code",
   "execution_count": 6,
   "id": "6dc7f806-31a0-4911-afa6-0bc3655a38cb",
   "metadata": {},
   "outputs": [
    {
     "name": "stdout",
     "output_type": "stream",
     "text": [
      "Removed Columns: 41, Percentage: 56.16%\n"
     ]
    }
   ],
   "source": [
    "shape_before = df.shape[1]\n",
    "df.dropna(axis=1, how='all', inplace=True)\n",
    "print(f\"Removed Columns: {shape_before - df.shape[1]}, Percentage: {(shape_before - df.shape[1]) / shape_before * 100:.2f}%\")"
   ]
  },
  {
   "cell_type": "markdown",
   "id": "8d64c9d3-82cf-480e-9880-7a3651edb678",
   "metadata": {},
   "source": [
    "### 2.2 Check NaN values"
   ]
  },
  {
   "cell_type": "code",
   "execution_count": 7,
   "id": "9e2b6e1d-4cf0-4372-a938-36526e0f53ed",
   "metadata": {},
   "outputs": [
    {
     "data": {
      "text/html": [
       "<div>\n",
       "<style scoped>\n",
       "    .dataframe tbody tr th:only-of-type {\n",
       "        vertical-align: middle;\n",
       "    }\n",
       "\n",
       "    .dataframe tbody tr th {\n",
       "        vertical-align: top;\n",
       "    }\n",
       "\n",
       "    .dataframe thead th {\n",
       "        text-align: right;\n",
       "    }\n",
       "</style>\n",
       "<table border=\"1\" class=\"dataframe\">\n",
       "  <thead>\n",
       "    <tr style=\"text-align: right;\">\n",
       "      <th></th>\n",
       "      <th>Null Count</th>\n",
       "      <th>NaN percentage</th>\n",
       "    </tr>\n",
       "  </thead>\n",
       "  <tbody>\n",
       "    <tr>\n",
       "      <th>area</th>\n",
       "      <td>1</td>\n",
       "      <td>0.001496</td>\n",
       "    </tr>\n",
       "    <tr>\n",
       "      <th>monitoring_class</th>\n",
       "      <td>0</td>\n",
       "      <td>0.000000</td>\n",
       "    </tr>\n",
       "    <tr>\n",
       "      <th>fonte</th>\n",
       "      <td>0</td>\n",
       "      <td>0.000000</td>\n",
       "    </tr>\n",
       "    <tr>\n",
       "      <th>period</th>\n",
       "      <td>0</td>\n",
       "      <td>0.000000</td>\n",
       "    </tr>\n",
       "    <tr>\n",
       "      <th>state</th>\n",
       "      <td>0</td>\n",
       "      <td>0.000000</td>\n",
       "    </tr>\n",
       "  </tbody>\n",
       "</table>\n",
       "</div>"
      ],
      "text/plain": [
       "                  Null Count  NaN percentage\n",
       "area                       1        0.001496\n",
       "monitoring_class           0        0.000000\n",
       "fonte                      0        0.000000\n",
       "period                     0        0.000000\n",
       "state                      0        0.000000"
      ]
     },
     "execution_count": 7,
     "metadata": {},
     "output_type": "execute_result"
    }
   ],
   "source": [
    "# Calcula a quantidade de registros nulos e a porcentagem de registros nulos\n",
    "df_check_NaN = pd.concat([df.isna().sum(), df.isna().sum() / df.shape[0] * 100], axis=1)\n",
    "df_check_NaN.columns = ['Null Count', 'NaN percentage']\n",
    "df_check_NaN.sort_values('NaN percentage', ascending=False, inplace=True)\n",
    "df_check_NaN.head()"
   ]
  },
  {
   "cell_type": "markdown",
   "id": "20e67071-edba-4f5a-b5d3-7057b0b6e434",
   "metadata": {},
   "source": [
    "### 2.3 Transform all Geometry to Multipolygon"
   ]
  },
  {
   "cell_type": "code",
   "execution_count": 8,
   "id": "69609852-765d-40dd-aa04-39f7fd852eec",
   "metadata": {},
   "outputs": [],
   "source": [
    "from shapely.geometry import Polygon, MultiPolygon"
   ]
  },
  {
   "cell_type": "code",
   "execution_count": 9,
   "id": "743737cd-fb15-4fe2-b338-7ad6eabac18e",
   "metadata": {},
   "outputs": [],
   "source": [
    "df['geometry'] = df['geometry'].apply(lambda geom: MultiPolygon([geom]) if isinstance(geom, Polygon) else geom)"
   ]
  },
  {
   "cell_type": "markdown",
   "id": "3ca10c52-2354-4e49-b819-260231448975",
   "metadata": {},
   "source": [
    "### 2.4 Check Duplicates"
   ]
  },
  {
   "cell_type": "code",
   "execution_count": 10,
   "id": "41edc734-fe66-4488-a1d4-1ec185d3f382",
   "metadata": {},
   "outputs": [],
   "source": [
    "df['duplicates_id'] = None\n",
    "duplicados = df[df.duplicated(subset='eopath_location', keep=False)]\n",
    "# Adicione um identificador para os duplicados\n",
    "duplicados['duplicates_id'] = duplicados.groupby('eopath_location').ngroup()\n",
    "# Combine os dados duplicados com o DataFrame original\n",
    "df.update(duplicados)\n",
    "df.sort_values('duplicates_id', inplace=True)"
   ]
  },
  {
   "cell_type": "code",
   "execution_count": 11,
   "id": "8450fe80-2dd1-4616-bbf4-81c670947505",
   "metadata": {},
   "outputs": [
    {
     "data": {
      "text/plain": [
       "(0, 33)"
      ]
     },
     "execution_count": 11,
     "metadata": {},
     "output_type": "execute_result"
    }
   ],
   "source": [
    "duplicados.shape"
   ]
  },
  {
   "cell_type": "code",
   "execution_count": 12,
   "id": "f62be976-aa0e-405a-8796-f2b652daabfc",
   "metadata": {},
   "outputs": [
    {
     "data": {
      "text/html": [
       "<div>\n",
       "<style scoped>\n",
       "    .dataframe tbody tr th:only-of-type {\n",
       "        vertical-align: middle;\n",
       "    }\n",
       "\n",
       "    .dataframe tbody tr th {\n",
       "        vertical-align: top;\n",
       "    }\n",
       "\n",
       "    .dataframe thead th {\n",
       "        text-align: right;\n",
       "    }\n",
       "</style>\n",
       "<table border=\"1\" class=\"dataframe\">\n",
       "  <thead>\n",
       "    <tr style=\"text-align: right;\">\n",
       "      <th></th>\n",
       "      <th>monitoring_class</th>\n",
       "      <th>period</th>\n",
       "      <th>fonte</th>\n",
       "      <th>state</th>\n",
       "      <th>area</th>\n",
       "      <th>micro</th>\n",
       "      <th>eopath_location</th>\n",
       "      <th>start_season</th>\n",
       "      <th>end_season</th>\n",
       "      <th>peak_start</th>\n",
       "      <th>...</th>\n",
       "      <th>sampled_date</th>\n",
       "      <th>is_valid_metrics</th>\n",
       "      <th>sos_valid</th>\n",
       "      <th>pos_valid</th>\n",
       "      <th>eos_valid</th>\n",
       "      <th>los_valid</th>\n",
       "      <th>is_valid_POS</th>\n",
       "      <th>is_valid_LOS</th>\n",
       "      <th>geometry</th>\n",
       "      <th>duplicates_id</th>\n",
       "    </tr>\n",
       "  </thead>\n",
       "  <tbody>\n",
       "  </tbody>\n",
       "</table>\n",
       "<p>0 rows × 33 columns</p>\n",
       "</div>"
      ],
      "text/plain": [
       "Empty GeoDataFrame\n",
       "Columns: [monitoring_class, period, fonte, state, area, micro, eopath_location, start_season, end_season, peak_start, peak_end, start_of_season, peak_of_season, end_of_season, length_of_season, start_of_cycle, end_of_cycle, length_of_cycle, dataset_source, planting_start, planting_end, is_valid, set_type, sampled_date, is_valid_metrics, sos_valid, pos_valid, eos_valid, los_valid, is_valid_POS, is_valid_LOS, geometry, duplicates_id]\n",
       "Index: []\n",
       "\n",
       "[0 rows x 33 columns]"
      ]
     },
     "execution_count": 12,
     "metadata": {},
     "output_type": "execute_result"
    }
   ],
   "source": [
    "df[df['duplicates_id']==0]"
   ]
  },
  {
   "cell_type": "code",
   "execution_count": 13,
   "id": "087476aa-f0aa-47a2-9db9-a955b0e50ef0",
   "metadata": {},
   "outputs": [
    {
     "name": "stdout",
     "output_type": "stream",
     "text": [
      "Removed records: 0, Percentage: 0.00%\n"
     ]
    }
   ],
   "source": [
    "shape_before = df.shape[0]\n",
    "df.drop_duplicates(subset=['geometry', 'period'], inplace=True)\n",
    "print(f\"Removed records: {shape_before - df.shape[0]}, Percentage: {(shape_before - df.shape[0]) / shape_before * 100:.2f}%\")"
   ]
  },
  {
   "cell_type": "markdown",
   "id": "5f5611ac-de51-47b7-b41a-0ab55eb7c676",
   "metadata": {},
   "source": [
    "### 2.5 feature engineering"
   ]
  },
  {
   "cell_type": "code",
   "execution_count": 14,
   "id": "527dbe7f-0ae7-4c67-b8f5-52ff4749fb76",
   "metadata": {},
   "outputs": [],
   "source": [
    "df['safra'] = df['period'].apply(lambda x: 'safrinha' if x.split('/')[0] == x.split('/')[1] else 'safra')"
   ]
  },
  {
   "cell_type": "code",
   "execution_count": 15,
   "id": "35cde317-adab-413a-bf94-842cc7f5933d",
   "metadata": {},
   "outputs": [
    {
     "data": {
      "text/plain": [
       "safra\n",
       "safra    66835\n",
       "Name: count, dtype: int64"
      ]
     },
     "execution_count": 15,
     "metadata": {},
     "output_type": "execute_result"
    }
   ],
   "source": [
    "df['safra'].value_counts()"
   ]
  },
  {
   "cell_type": "markdown",
   "id": "aba321ba-2579-45be-95bd-6bd1475710c0",
   "metadata": {},
   "source": [
    "## 3. Move eopatch to other"
   ]
  },
  {
   "cell_type": "markdown",
   "id": "33cfdde7-e234-4c07-95b9-3792d19b0028",
   "metadata": {},
   "source": [
    "#### A) PROCESSED"
   ]
  },
  {
   "cell_type": "code",
   "execution_count": 16,
   "id": "234a640f-6bb2-42e5-b72f-769cc9b70dee",
   "metadata": {},
   "outputs": [
    {
     "name": "stderr",
     "output_type": "stream",
     "text": [
      "2025-04-19 00:48:53,052 - INFO - Iniciando a execução da função 'check_load_eopatch_and_change_eopatch_dir'\n"
     ]
    },
    {
     "data": {
      "application/vnd.jupyter.widget-view+json": {
       "model_id": "ae90bf38cd064cf5ad5a7889b7e9a69b",
       "version_major": 2,
       "version_minor": 0
      },
      "text/plain": [
       "  0%|          | 0/66835 [00:00<?, ?it/s]"
      ]
     },
     "metadata": {},
     "output_type": "display_data"
    },
    {
     "name": "stderr",
     "output_type": "stream",
     "text": [
      "2025-04-19 03:13:53,885 - INFO - Tempo de execução da função 'check_load_eopatch_and_change_eopatch_dir': 8700.83 segundos\n"
     ]
    }
   ],
   "source": [
    "df_results_processed = processing.check_load_eopatch_and_change_eopatch_dir(df,\n",
    "                                        eopatch_path=OLD_EOPATCH_PATH_PROCESSED,\n",
    "                                        new_eopatch_path=NEW_EOPATCH_PATH_PROCESSED,\n",
    "                                        label_monitoring_class='monitoring_class',\n",
    "                                        label_eopatch_path='eopath_location')"
   ]
  },
  {
   "cell_type": "code",
   "execution_count": 17,
   "id": "fa4cc701-4d60-459f-af24-7ec11ae016a7",
   "metadata": {},
   "outputs": [
    {
     "data": {
      "text/html": [
       "<div>\n",
       "<style scoped>\n",
       "    .dataframe tbody tr th:only-of-type {\n",
       "        vertical-align: middle;\n",
       "    }\n",
       "\n",
       "    .dataframe tbody tr th {\n",
       "        vertical-align: top;\n",
       "    }\n",
       "\n",
       "    .dataframe thead th {\n",
       "        text-align: right;\n",
       "    }\n",
       "</style>\n",
       "<table border=\"1\" class=\"dataframe\">\n",
       "  <thead>\n",
       "    <tr style=\"text-align: right;\">\n",
       "      <th></th>\n",
       "      <th>miss_geopackage</th>\n",
       "      <th>error_processed</th>\n",
       "      <th>rsync_output</th>\n",
       "    </tr>\n",
       "  </thead>\n",
       "  <tbody>\n",
       "    <tr>\n",
       "      <th>0</th>\n",
       "      <td>start_2022-10-01_end_2023-05-01_monitoring_cla...</td>\n",
       "      <td>None</td>\n",
       "      <td></td>\n",
       "    </tr>\n",
       "    <tr>\n",
       "      <th>1</th>\n",
       "      <td>start_2022-10-01_end_2023-05-01_monitoring_cla...</td>\n",
       "      <td>None</td>\n",
       "      <td></td>\n",
       "    </tr>\n",
       "    <tr>\n",
       "      <th>2</th>\n",
       "      <td>start_2022-10-01_end_2023-05-01_monitoring_cla...</td>\n",
       "      <td>None</td>\n",
       "      <td></td>\n",
       "    </tr>\n",
       "    <tr>\n",
       "      <th>3</th>\n",
       "      <td>start_2022-10-01_end_2023-05-01_monitoring_cla...</td>\n",
       "      <td>None</td>\n",
       "      <td></td>\n",
       "    </tr>\n",
       "    <tr>\n",
       "      <th>4</th>\n",
       "      <td>start_2022-10-01_end_2023-05-01_monitoring_cla...</td>\n",
       "      <td>None</td>\n",
       "      <td></td>\n",
       "    </tr>\n",
       "    <tr>\n",
       "      <th>...</th>\n",
       "      <td>...</td>\n",
       "      <td>...</td>\n",
       "      <td>...</td>\n",
       "    </tr>\n",
       "    <tr>\n",
       "      <th>66830</th>\n",
       "      <td>start_2022-09-01_end_2023-06-01_monitoring_cla...</td>\n",
       "      <td>None</td>\n",
       "      <td></td>\n",
       "    </tr>\n",
       "    <tr>\n",
       "      <th>66831</th>\n",
       "      <td>start_2022-09-01_end_2023-06-01_monitoring_cla...</td>\n",
       "      <td>None</td>\n",
       "      <td></td>\n",
       "    </tr>\n",
       "    <tr>\n",
       "      <th>66832</th>\n",
       "      <td>start_2022-09-01_end_2023-06-01_monitoring_cla...</td>\n",
       "      <td>None</td>\n",
       "      <td></td>\n",
       "    </tr>\n",
       "    <tr>\n",
       "      <th>66833</th>\n",
       "      <td>start_2022-09-01_end_2023-06-01_monitoring_cla...</td>\n",
       "      <td>None</td>\n",
       "      <td></td>\n",
       "    </tr>\n",
       "    <tr>\n",
       "      <th>66834</th>\n",
       "      <td>start_2022-09-01_end_2023-06-01_monitoring_cla...</td>\n",
       "      <td>None</td>\n",
       "      <td></td>\n",
       "    </tr>\n",
       "  </tbody>\n",
       "</table>\n",
       "<p>66835 rows × 3 columns</p>\n",
       "</div>"
      ],
      "text/plain": [
       "                                         miss_geopackage error_processed  \\\n",
       "0      start_2022-10-01_end_2023-05-01_monitoring_cla...            None   \n",
       "1      start_2022-10-01_end_2023-05-01_monitoring_cla...            None   \n",
       "2      start_2022-10-01_end_2023-05-01_monitoring_cla...            None   \n",
       "3      start_2022-10-01_end_2023-05-01_monitoring_cla...            None   \n",
       "4      start_2022-10-01_end_2023-05-01_monitoring_cla...            None   \n",
       "...                                                  ...             ...   \n",
       "66830  start_2022-09-01_end_2023-06-01_monitoring_cla...            None   \n",
       "66831  start_2022-09-01_end_2023-06-01_monitoring_cla...            None   \n",
       "66832  start_2022-09-01_end_2023-06-01_monitoring_cla...            None   \n",
       "66833  start_2022-09-01_end_2023-06-01_monitoring_cla...            None   \n",
       "66834  start_2022-09-01_end_2023-06-01_monitoring_cla...            None   \n",
       "\n",
       "      rsync_output  \n",
       "0                   \n",
       "1                   \n",
       "2                   \n",
       "3                   \n",
       "4                   \n",
       "...            ...  \n",
       "66830               \n",
       "66831               \n",
       "66832               \n",
       "66833               \n",
       "66834               \n",
       "\n",
       "[66835 rows x 3 columns]"
      ]
     },
     "execution_count": 17,
     "metadata": {},
     "output_type": "execute_result"
    }
   ],
   "source": [
    "df_results_processed"
   ]
  },
  {
   "cell_type": "markdown",
   "id": "37c40296-5ab1-4d0f-8eff-ae2ad54a8e96",
   "metadata": {},
   "source": [
    "#### B) INPUT_MODEL"
   ]
  },
  {
   "cell_type": "code",
   "execution_count": 18,
   "id": "73654355-4a9e-4684-999c-c964e0c052fc",
   "metadata": {},
   "outputs": [
    {
     "name": "stderr",
     "output_type": "stream",
     "text": [
      "2025-04-19 03:13:53,922 - INFO - Iniciando a execução da função 'check_load_eopatch_and_change_eopatch_dir'\n"
     ]
    },
    {
     "data": {
      "application/vnd.jupyter.widget-view+json": {
       "model_id": "4d3fd446dc9b4f49b0b539440e10dede",
       "version_major": 2,
       "version_minor": 0
      },
      "text/plain": [
       "  0%|          | 0/66835 [00:00<?, ?it/s]"
      ]
     },
     "metadata": {},
     "output_type": "display_data"
    },
    {
     "name": "stderr",
     "output_type": "stream",
     "text": [
      "2025-04-19 04:10:47,423 - INFO - Tempo de execução da função 'check_load_eopatch_and_change_eopatch_dir': 3413.50 segundos\n"
     ]
    }
   ],
   "source": [
    "df_results_input = processing.check_load_eopatch_and_change_eopatch_dir(df,\n",
    "                                        eopatch_path=OLD_EOPATCH_PATH_INPUT_MODEL,\n",
    "                                        new_eopatch_path=NEW_EOPATCH_PATH_INPUT_MODEL,\n",
    "                                        label_monitoring_class='monitoring_class',\n",
    "                                        label_eopatch_path='eopath_location')"
   ]
  },
  {
   "cell_type": "code",
   "execution_count": 19,
   "id": "8f130b30-06dc-49c8-b601-9332c705899f",
   "metadata": {},
   "outputs": [
    {
     "data": {
      "text/plain": [
       "66835"
      ]
     },
     "execution_count": 19,
     "metadata": {},
     "output_type": "execute_result"
    }
   ],
   "source": [
    "df_results_input['miss_geopackage'].nunique()"
   ]
  },
  {
   "cell_type": "code",
   "execution_count": 20,
   "id": "950b1a17-81e8-4d21-9e51-9698d8a52e8e",
   "metadata": {},
   "outputs": [
    {
     "data": {
      "text/plain": [
       "error_processed\n",
       "EOPatch not found    1234\n",
       "Name: count, dtype: int64"
      ]
     },
     "execution_count": 20,
     "metadata": {},
     "output_type": "execute_result"
    }
   ],
   "source": [
    "df_results_input['error_processed'].value_counts()"
   ]
  },
  {
   "cell_type": "markdown",
   "id": "db436b65-8415-41d2-8f82-ea7fe81f5024",
   "metadata": {},
   "source": [
    "## 4. Check processed eopatch"
   ]
  },
  {
   "cell_type": "code",
   "execution_count": 21,
   "id": "9622f2ca-a00d-42e7-8308-5178f16b7a12",
   "metadata": {},
   "outputs": [
    {
     "data": {
      "text/plain": [
       "'SOYBEAN_66835'"
      ]
     },
     "execution_count": 21,
     "metadata": {},
     "output_type": "execute_result"
    }
   ],
   "source": [
    "string_name = processing.get_geopackage_name(df)\n",
    "string_name"
   ]
  },
  {
   "cell_type": "markdown",
   "id": "f451415c-7e9b-4693-a24e-dc5c1dd8d7cc",
   "metadata": {},
   "source": [
    "#### A) PROCESSED"
   ]
  },
  {
   "cell_type": "code",
   "execution_count": 22,
   "id": "2b34e0cb-568d-4fc3-a275-6eaab5483621",
   "metadata": {},
   "outputs": [
    {
     "name": "stderr",
     "output_type": "stream",
     "text": [
      "2025-04-19 04:10:47,496 - INFO - Iniciando a execução da função 'check_processed_eopatches_features_based_geopackage'\n"
     ]
    },
    {
     "data": {
      "application/vnd.jupyter.widget-view+json": {
       "model_id": "8acb1726baf549b7a009749a7a47241e",
       "version_major": 2,
       "version_minor": 0
      },
      "text/plain": [
       "  0%|          | 0/66835 [00:00<?, ?it/s]"
      ]
     },
     "metadata": {},
     "output_type": "display_data"
    },
    {
     "name": "stderr",
     "output_type": "stream",
     "text": [
      "2025-04-19 04:53:55,643 - INFO - Tempo de execução da função 'check_processed_eopatches_features_based_geopackage': 2588.15 segundos\n"
     ]
    }
   ],
   "source": [
    "df_processed, df_overview_processed = processing.check_processed_eopatches_features_based_geopackage(df, \n",
    "                                                                                         eopatch_path=NEW_EOPATCH_PATH_PROCESSED,\n",
    "                                                                                         label_eopatch_path=LABEL_EOPATCH_LOCATION)"
   ]
  },
  {
   "cell_type": "code",
   "execution_count": 23,
   "id": "38a797c8-c675-4944-adb4-a394fb369ff2",
   "metadata": {},
   "outputs": [
    {
     "data": {
      "text/html": [
       "<div>\n",
       "<style scoped>\n",
       "    .dataframe tbody tr th:only-of-type {\n",
       "        vertical-align: middle;\n",
       "    }\n",
       "\n",
       "    .dataframe tbody tr th {\n",
       "        vertical-align: top;\n",
       "    }\n",
       "\n",
       "    .dataframe thead th {\n",
       "        text-align: right;\n",
       "    }\n",
       "</style>\n",
       "<table border=\"1\" class=\"dataframe\">\n",
       "  <thead>\n",
       "    <tr style=\"text-align: right;\">\n",
       "      <th></th>\n",
       "      <th>0</th>\n",
       "    </tr>\n",
       "  </thead>\n",
       "  <tbody>\n",
       "    <tr>\n",
       "      <th>total_eopatches</th>\n",
       "      <td>66835.0</td>\n",
       "    </tr>\n",
       "    <tr>\n",
       "      <th>eopatch_processed_exists</th>\n",
       "      <td>66835.0</td>\n",
       "    </tr>\n",
       "    <tr>\n",
       "      <th>eopatches_not_exist</th>\n",
       "      <td>0.0</td>\n",
       "    </tr>\n",
       "    <tr>\n",
       "      <th>percentage_eopatches_not_exist</th>\n",
       "      <td>0.0</td>\n",
       "    </tr>\n",
       "    <tr>\n",
       "      <th>len_data_exist</th>\n",
       "      <td>66835.0</td>\n",
       "    </tr>\n",
       "    <tr>\n",
       "      <th>percentage_len_data_exist</th>\n",
       "      <td>100.0</td>\n",
       "    </tr>\n",
       "    <tr>\n",
       "      <th>len_bands_exist</th>\n",
       "      <td>66835.0</td>\n",
       "    </tr>\n",
       "    <tr>\n",
       "      <th>percentage_len_bands_exist</th>\n",
       "      <td>100.0</td>\n",
       "    </tr>\n",
       "    <tr>\n",
       "      <th>len_time_interval_exist</th>\n",
       "      <td>66835.0</td>\n",
       "    </tr>\n",
       "    <tr>\n",
       "      <th>percentage_len_time_interval_exist</th>\n",
       "      <td>100.0</td>\n",
       "    </tr>\n",
       "    <tr>\n",
       "      <th>len_timestamp_exist</th>\n",
       "      <td>66835.0</td>\n",
       "    </tr>\n",
       "    <tr>\n",
       "      <th>percentage_len_timestamp_exist</th>\n",
       "      <td>100.0</td>\n",
       "    </tr>\n",
       "  </tbody>\n",
       "</table>\n",
       "</div>"
      ],
      "text/plain": [
       "                                          0\n",
       "total_eopatches                     66835.0\n",
       "eopatch_processed_exists            66835.0\n",
       "eopatches_not_exist                     0.0\n",
       "percentage_eopatches_not_exist          0.0\n",
       "len_data_exist                      66835.0\n",
       "percentage_len_data_exist             100.0\n",
       "len_bands_exist                     66835.0\n",
       "percentage_len_bands_exist            100.0\n",
       "len_time_interval_exist             66835.0\n",
       "percentage_len_time_interval_exist    100.0\n",
       "len_timestamp_exist                 66835.0\n",
       "percentage_len_timestamp_exist        100.0"
      ]
     },
     "execution_count": 23,
     "metadata": {},
     "output_type": "execute_result"
    }
   ],
   "source": [
    "df_overview_processed"
   ]
  },
  {
   "cell_type": "code",
   "execution_count": 24,
   "id": "32da76cb-9c6c-4e3c-a415-5eb1abda2579",
   "metadata": {},
   "outputs": [
    {
     "data": {
      "text/plain": [
       "'/agrilearn_app/datasets/SOYBEAN/2022_2023/reports/overview_SOYBEAN_66835_processed.csv'"
      ]
     },
     "execution_count": 24,
     "metadata": {},
     "output_type": "execute_result"
    }
   ],
   "source": [
    "os.makedirs(REPORT_PATH, exist_ok=True)\n",
    "final_processed_report_name = f\"{REPORT_PATH}/overview_{string_name}_processed.csv\"\n",
    "df_overview_processed.to_csv(final_processed_report_name)\n",
    "final_processed_report_name"
   ]
  },
  {
   "cell_type": "code",
   "execution_count": 25,
   "id": "cda3881a-2368-4ca9-b2d4-84be291aa9cf",
   "metadata": {},
   "outputs": [
    {
     "data": {
      "text/html": [
       "<div>\n",
       "<style scoped>\n",
       "    .dataframe tbody tr th:only-of-type {\n",
       "        vertical-align: middle;\n",
       "    }\n",
       "\n",
       "    .dataframe tbody tr th {\n",
       "        vertical-align: top;\n",
       "    }\n",
       "\n",
       "    .dataframe thead th {\n",
       "        text-align: right;\n",
       "    }\n",
       "</style>\n",
       "<table border=\"1\" class=\"dataframe\">\n",
       "  <thead>\n",
       "    <tr style=\"text-align: right;\">\n",
       "      <th></th>\n",
       "      <th>eopatch_location_id</th>\n",
       "      <th>eopatch_processed_exists</th>\n",
       "      <th>len_data</th>\n",
       "      <th>len_bands</th>\n",
       "      <th>len_time_interval</th>\n",
       "      <th>len_timestamp</th>\n",
       "      <th>error_processed</th>\n",
       "    </tr>\n",
       "  </thead>\n",
       "  <tbody>\n",
       "  </tbody>\n",
       "</table>\n",
       "</div>"
      ],
      "text/plain": [
       "Empty DataFrame\n",
       "Columns: [eopatch_location_id, eopatch_processed_exists, len_data, len_bands, len_time_interval, len_timestamp, error_processed]\n",
       "Index: []"
      ]
     },
     "execution_count": 25,
     "metadata": {},
     "output_type": "execute_result"
    }
   ],
   "source": [
    "df_processed[df_processed['eopatch_processed_exists']==False]"
   ]
  },
  {
   "cell_type": "code",
   "execution_count": 26,
   "id": "75151e3a-3330-48cc-ba7c-53edeeb24f46",
   "metadata": {},
   "outputs": [
    {
     "data": {
      "text/html": [
       "<div>\n",
       "<style scoped>\n",
       "    .dataframe tbody tr th:only-of-type {\n",
       "        vertical-align: middle;\n",
       "    }\n",
       "\n",
       "    .dataframe tbody tr th {\n",
       "        vertical-align: top;\n",
       "    }\n",
       "\n",
       "    .dataframe thead th {\n",
       "        text-align: right;\n",
       "    }\n",
       "</style>\n",
       "<table border=\"1\" class=\"dataframe\">\n",
       "  <thead>\n",
       "    <tr style=\"text-align: right;\">\n",
       "      <th></th>\n",
       "      <th>eopatch_location_id</th>\n",
       "      <th>eopatch_processed_exists</th>\n",
       "      <th>len_data</th>\n",
       "      <th>len_bands</th>\n",
       "      <th>len_time_interval</th>\n",
       "      <th>len_timestamp</th>\n",
       "      <th>error_processed</th>\n",
       "    </tr>\n",
       "  </thead>\n",
       "  <tbody>\n",
       "    <tr>\n",
       "      <th>0</th>\n",
       "      <td>start_2022-10-01_end_2023-05-01_monitoring_cla...</td>\n",
       "      <td>True</td>\n",
       "      <td>4</td>\n",
       "      <td>10</td>\n",
       "      <td>2</td>\n",
       "      <td>16</td>\n",
       "      <td>None</td>\n",
       "    </tr>\n",
       "    <tr>\n",
       "      <th>1</th>\n",
       "      <td>start_2022-10-01_end_2023-05-01_monitoring_cla...</td>\n",
       "      <td>True</td>\n",
       "      <td>4</td>\n",
       "      <td>10</td>\n",
       "      <td>2</td>\n",
       "      <td>19</td>\n",
       "      <td>None</td>\n",
       "    </tr>\n",
       "    <tr>\n",
       "      <th>2</th>\n",
       "      <td>start_2022-10-01_end_2023-05-01_monitoring_cla...</td>\n",
       "      <td>True</td>\n",
       "      <td>4</td>\n",
       "      <td>10</td>\n",
       "      <td>2</td>\n",
       "      <td>17</td>\n",
       "      <td>None</td>\n",
       "    </tr>\n",
       "    <tr>\n",
       "      <th>3</th>\n",
       "      <td>start_2022-10-01_end_2023-05-01_monitoring_cla...</td>\n",
       "      <td>True</td>\n",
       "      <td>4</td>\n",
       "      <td>10</td>\n",
       "      <td>2</td>\n",
       "      <td>16</td>\n",
       "      <td>None</td>\n",
       "    </tr>\n",
       "    <tr>\n",
       "      <th>4</th>\n",
       "      <td>start_2022-10-01_end_2023-05-01_monitoring_cla...</td>\n",
       "      <td>True</td>\n",
       "      <td>4</td>\n",
       "      <td>10</td>\n",
       "      <td>2</td>\n",
       "      <td>16</td>\n",
       "      <td>None</td>\n",
       "    </tr>\n",
       "    <tr>\n",
       "      <th>...</th>\n",
       "      <td>...</td>\n",
       "      <td>...</td>\n",
       "      <td>...</td>\n",
       "      <td>...</td>\n",
       "      <td>...</td>\n",
       "      <td>...</td>\n",
       "      <td>...</td>\n",
       "    </tr>\n",
       "    <tr>\n",
       "      <th>66830</th>\n",
       "      <td>start_2022-09-01_end_2023-06-01_monitoring_cla...</td>\n",
       "      <td>True</td>\n",
       "      <td>4</td>\n",
       "      <td>10</td>\n",
       "      <td>2</td>\n",
       "      <td>30</td>\n",
       "      <td>None</td>\n",
       "    </tr>\n",
       "    <tr>\n",
       "      <th>66831</th>\n",
       "      <td>start_2022-09-01_end_2023-06-01_monitoring_cla...</td>\n",
       "      <td>True</td>\n",
       "      <td>4</td>\n",
       "      <td>10</td>\n",
       "      <td>2</td>\n",
       "      <td>23</td>\n",
       "      <td>None</td>\n",
       "    </tr>\n",
       "    <tr>\n",
       "      <th>66832</th>\n",
       "      <td>start_2022-09-01_end_2023-06-01_monitoring_cla...</td>\n",
       "      <td>True</td>\n",
       "      <td>4</td>\n",
       "      <td>10</td>\n",
       "      <td>2</td>\n",
       "      <td>24</td>\n",
       "      <td>None</td>\n",
       "    </tr>\n",
       "    <tr>\n",
       "      <th>66833</th>\n",
       "      <td>start_2022-09-01_end_2023-06-01_monitoring_cla...</td>\n",
       "      <td>True</td>\n",
       "      <td>4</td>\n",
       "      <td>10</td>\n",
       "      <td>2</td>\n",
       "      <td>22</td>\n",
       "      <td>None</td>\n",
       "    </tr>\n",
       "    <tr>\n",
       "      <th>66834</th>\n",
       "      <td>start_2022-09-01_end_2023-06-01_monitoring_cla...</td>\n",
       "      <td>True</td>\n",
       "      <td>4</td>\n",
       "      <td>10</td>\n",
       "      <td>2</td>\n",
       "      <td>29</td>\n",
       "      <td>None</td>\n",
       "    </tr>\n",
       "  </tbody>\n",
       "</table>\n",
       "<p>66835 rows × 7 columns</p>\n",
       "</div>"
      ],
      "text/plain": [
       "                                     eopatch_location_id  \\\n",
       "0      start_2022-10-01_end_2023-05-01_monitoring_cla...   \n",
       "1      start_2022-10-01_end_2023-05-01_monitoring_cla...   \n",
       "2      start_2022-10-01_end_2023-05-01_monitoring_cla...   \n",
       "3      start_2022-10-01_end_2023-05-01_monitoring_cla...   \n",
       "4      start_2022-10-01_end_2023-05-01_monitoring_cla...   \n",
       "...                                                  ...   \n",
       "66830  start_2022-09-01_end_2023-06-01_monitoring_cla...   \n",
       "66831  start_2022-09-01_end_2023-06-01_monitoring_cla...   \n",
       "66832  start_2022-09-01_end_2023-06-01_monitoring_cla...   \n",
       "66833  start_2022-09-01_end_2023-06-01_monitoring_cla...   \n",
       "66834  start_2022-09-01_end_2023-06-01_monitoring_cla...   \n",
       "\n",
       "       eopatch_processed_exists  len_data  len_bands  len_time_interval  \\\n",
       "0                          True         4         10                  2   \n",
       "1                          True         4         10                  2   \n",
       "2                          True         4         10                  2   \n",
       "3                          True         4         10                  2   \n",
       "4                          True         4         10                  2   \n",
       "...                         ...       ...        ...                ...   \n",
       "66830                      True         4         10                  2   \n",
       "66831                      True         4         10                  2   \n",
       "66832                      True         4         10                  2   \n",
       "66833                      True         4         10                  2   \n",
       "66834                      True         4         10                  2   \n",
       "\n",
       "       len_timestamp error_processed  \n",
       "0                 16            None  \n",
       "1                 19            None  \n",
       "2                 17            None  \n",
       "3                 16            None  \n",
       "4                 16            None  \n",
       "...              ...             ...  \n",
       "66830             30            None  \n",
       "66831             23            None  \n",
       "66832             24            None  \n",
       "66833             22            None  \n",
       "66834             29            None  \n",
       "\n",
       "[66835 rows x 7 columns]"
      ]
     },
     "execution_count": 26,
     "metadata": {},
     "output_type": "execute_result"
    }
   ],
   "source": [
    "df_processed[df_processed['eopatch_processed_exists']==True]"
   ]
  },
  {
   "cell_type": "markdown",
   "id": "66810c38-98b7-4498-a05c-c420571626c1",
   "metadata": {},
   "source": [
    "#### B) INPUT_MODEL"
   ]
  },
  {
   "cell_type": "code",
   "execution_count": 27,
   "id": "688d5628-5c84-484a-aa03-89e10e325779",
   "metadata": {},
   "outputs": [
    {
     "name": "stderr",
     "output_type": "stream",
     "text": [
      "2025-04-19 04:53:55,877 - INFO - Iniciando a execução da função 'check_input_model_eopatches_features_based_geopackage'\n"
     ]
    },
    {
     "data": {
      "application/vnd.jupyter.widget-view+json": {
       "model_id": "58e418a1f3374d6c85371cb29f4139c7",
       "version_major": 2,
       "version_minor": 0
      },
      "text/plain": [
       "  0%|          | 0/66835 [00:00<?, ?it/s]"
      ]
     },
     "metadata": {},
     "output_type": "display_data"
    },
    {
     "name": "stderr",
     "output_type": "stream",
     "text": [
      "2025-04-19 04:59:56,921 - INFO - Tempo de execução da função 'check_input_model_eopatches_features_based_geopackage': 361.04 segundos\n"
     ]
    }
   ],
   "source": [
    "df_input_model, df_overview_input = processing.check_input_model_eopatches_features_based_geopackage(df, \n",
    "                                                                                                     eopatch_path=NEW_EOPATCH_PATH_INPUT_MODEL,\n",
    "                                                                                                     label_eopatch_path=LABEL_EOPATCH_LOCATION)"
   ]
  },
  {
   "cell_type": "code",
   "execution_count": 28,
   "id": "9f2704de-fc6c-4735-834f-2ba68e01001d",
   "metadata": {},
   "outputs": [
    {
     "data": {
      "text/html": [
       "<div>\n",
       "<style scoped>\n",
       "    .dataframe tbody tr th:only-of-type {\n",
       "        vertical-align: middle;\n",
       "    }\n",
       "\n",
       "    .dataframe tbody tr th {\n",
       "        vertical-align: top;\n",
       "    }\n",
       "\n",
       "    .dataframe thead th {\n",
       "        text-align: right;\n",
       "    }\n",
       "</style>\n",
       "<table border=\"1\" class=\"dataframe\">\n",
       "  <thead>\n",
       "    <tr style=\"text-align: right;\">\n",
       "      <th></th>\n",
       "      <th>0</th>\n",
       "    </tr>\n",
       "  </thead>\n",
       "  <tbody>\n",
       "    <tr>\n",
       "      <th>total_eopatches</th>\n",
       "      <td>66835.00000</td>\n",
       "    </tr>\n",
       "    <tr>\n",
       "      <th>eopatch_input_model_exists</th>\n",
       "      <td>63807.00000</td>\n",
       "    </tr>\n",
       "    <tr>\n",
       "      <th>eopatches_not_exist</th>\n",
       "      <td>3028.00000</td>\n",
       "    </tr>\n",
       "    <tr>\n",
       "      <th>percentage_eopatches_not_exist</th>\n",
       "      <td>4.53056</td>\n",
       "    </tr>\n",
       "    <tr>\n",
       "      <th>classes_equivalent</th>\n",
       "      <td>0.00000</td>\n",
       "    </tr>\n",
       "    <tr>\n",
       "      <th>classes_not_equivalent</th>\n",
       "      <td>66835.00000</td>\n",
       "    </tr>\n",
       "    <tr>\n",
       "      <th>percentage_classes_equivalent</th>\n",
       "      <td>0.00000</td>\n",
       "    </tr>\n",
       "    <tr>\n",
       "      <th>percentage_classes_not_equivalent</th>\n",
       "      <td>100.00000</td>\n",
       "    </tr>\n",
       "  </tbody>\n",
       "</table>\n",
       "</div>"
      ],
      "text/plain": [
       "                                             0\n",
       "total_eopatches                    66835.00000\n",
       "eopatch_input_model_exists         63807.00000\n",
       "eopatches_not_exist                 3028.00000\n",
       "percentage_eopatches_not_exist         4.53056\n",
       "classes_equivalent                     0.00000\n",
       "classes_not_equivalent             66835.00000\n",
       "percentage_classes_equivalent          0.00000\n",
       "percentage_classes_not_equivalent    100.00000"
      ]
     },
     "execution_count": 28,
     "metadata": {},
     "output_type": "execute_result"
    }
   ],
   "source": [
    "df_overview_input"
   ]
  },
  {
   "cell_type": "code",
   "execution_count": 29,
   "id": "c8427554-01dd-4e38-98b8-3f33bafc077e",
   "metadata": {},
   "outputs": [
    {
     "data": {
      "text/html": [
       "<div>\n",
       "<style scoped>\n",
       "    .dataframe tbody tr th:only-of-type {\n",
       "        vertical-align: middle;\n",
       "    }\n",
       "\n",
       "    .dataframe tbody tr th {\n",
       "        vertical-align: top;\n",
       "    }\n",
       "\n",
       "    .dataframe thead th {\n",
       "        text-align: right;\n",
       "    }\n",
       "</style>\n",
       "<table border=\"1\" class=\"dataframe\">\n",
       "  <thead>\n",
       "    <tr style=\"text-align: right;\">\n",
       "      <th></th>\n",
       "      <th>eopatch_location_id</th>\n",
       "      <th>geopackage_class</th>\n",
       "      <th>eopatch_input_model_exists</th>\n",
       "      <th>shape_X_data</th>\n",
       "      <th>label_unique</th>\n",
       "      <th>shape_labels</th>\n",
       "      <th>shape_timestamp</th>\n",
       "      <th>error_input_model</th>\n",
       "    </tr>\n",
       "  </thead>\n",
       "  <tbody>\n",
       "    <tr>\n",
       "      <th>0</th>\n",
       "      <td>start_2022-10-01_end_2023-05-01_monitoring_cla...</td>\n",
       "      <td>SOYBEAN</td>\n",
       "      <td>True</td>\n",
       "      <td>(2, 50, 3, 13)</td>\n",
       "      <td>algodao</td>\n",
       "      <td>(2, 50)</td>\n",
       "      <td>7.0</td>\n",
       "      <td>None</td>\n",
       "    </tr>\n",
       "    <tr>\n",
       "      <th>1</th>\n",
       "      <td>start_2022-10-01_end_2023-05-01_monitoring_cla...</td>\n",
       "      <td>SOYBEAN</td>\n",
       "      <td>True</td>\n",
       "      <td>(1, 50, 3, 13)</td>\n",
       "      <td>algodao</td>\n",
       "      <td>(1, 50)</td>\n",
       "      <td>4.0</td>\n",
       "      <td>None</td>\n",
       "    </tr>\n",
       "    <tr>\n",
       "      <th>2</th>\n",
       "      <td>start_2022-10-01_end_2023-05-01_monitoring_cla...</td>\n",
       "      <td>SOYBEAN</td>\n",
       "      <td>True</td>\n",
       "      <td>(3, 50, 3, 13)</td>\n",
       "      <td>algodao</td>\n",
       "      <td>(3, 50)</td>\n",
       "      <td>7.0</td>\n",
       "      <td>None</td>\n",
       "    </tr>\n",
       "    <tr>\n",
       "      <th>3</th>\n",
       "      <td>start_2022-10-01_end_2023-05-01_monitoring_cla...</td>\n",
       "      <td>SOYBEAN</td>\n",
       "      <td>True</td>\n",
       "      <td>(3, 50, 3, 13)</td>\n",
       "      <td>algodao</td>\n",
       "      <td>(3, 50)</td>\n",
       "      <td>7.0</td>\n",
       "      <td>None</td>\n",
       "    </tr>\n",
       "    <tr>\n",
       "      <th>4</th>\n",
       "      <td>start_2022-10-01_end_2023-05-01_monitoring_cla...</td>\n",
       "      <td>SOYBEAN</td>\n",
       "      <td>True</td>\n",
       "      <td>(1, 50, 3, 13)</td>\n",
       "      <td>algodao</td>\n",
       "      <td>(1, 50)</td>\n",
       "      <td>5.0</td>\n",
       "      <td>None</td>\n",
       "    </tr>\n",
       "    <tr>\n",
       "      <th>...</th>\n",
       "      <td>...</td>\n",
       "      <td>...</td>\n",
       "      <td>...</td>\n",
       "      <td>...</td>\n",
       "      <td>...</td>\n",
       "      <td>...</td>\n",
       "      <td>...</td>\n",
       "      <td>...</td>\n",
       "    </tr>\n",
       "    <tr>\n",
       "      <th>66830</th>\n",
       "      <td>start_2022-09-01_end_2023-06-01_monitoring_cla...</td>\n",
       "      <td>SOYBEAN</td>\n",
       "      <td>True</td>\n",
       "      <td>(6, 50, 3, 13)</td>\n",
       "      <td>algodao</td>\n",
       "      <td>(6, 50)</td>\n",
       "      <td>10.0</td>\n",
       "      <td>None</td>\n",
       "    </tr>\n",
       "    <tr>\n",
       "      <th>66831</th>\n",
       "      <td>start_2022-09-01_end_2023-06-01_monitoring_cla...</td>\n",
       "      <td>SOYBEAN</td>\n",
       "      <td>True</td>\n",
       "      <td>(6, 50, 3, 13)</td>\n",
       "      <td>algodao</td>\n",
       "      <td>(6, 50)</td>\n",
       "      <td>10.0</td>\n",
       "      <td>None</td>\n",
       "    </tr>\n",
       "    <tr>\n",
       "      <th>66832</th>\n",
       "      <td>start_2022-09-01_end_2023-06-01_monitoring_cla...</td>\n",
       "      <td>SOYBEAN</td>\n",
       "      <td>True</td>\n",
       "      <td>(7, 50, 3, 13)</td>\n",
       "      <td>algodao</td>\n",
       "      <td>(7, 50)</td>\n",
       "      <td>11.0</td>\n",
       "      <td>None</td>\n",
       "    </tr>\n",
       "    <tr>\n",
       "      <th>66833</th>\n",
       "      <td>start_2022-09-01_end_2023-06-01_monitoring_cla...</td>\n",
       "      <td>SOYBEAN</td>\n",
       "      <td>True</td>\n",
       "      <td>(7, 50, 3, 13)</td>\n",
       "      <td>algodao</td>\n",
       "      <td>(7, 50)</td>\n",
       "      <td>11.0</td>\n",
       "      <td>None</td>\n",
       "    </tr>\n",
       "    <tr>\n",
       "      <th>66834</th>\n",
       "      <td>start_2022-09-01_end_2023-06-01_monitoring_cla...</td>\n",
       "      <td>SOYBEAN</td>\n",
       "      <td>True</td>\n",
       "      <td>(6, 50, 3, 13)</td>\n",
       "      <td>algodao</td>\n",
       "      <td>(6, 50)</td>\n",
       "      <td>10.0</td>\n",
       "      <td>None</td>\n",
       "    </tr>\n",
       "  </tbody>\n",
       "</table>\n",
       "<p>63807 rows × 8 columns</p>\n",
       "</div>"
      ],
      "text/plain": [
       "                                     eopatch_location_id geopackage_class  \\\n",
       "0      start_2022-10-01_end_2023-05-01_monitoring_cla...          SOYBEAN   \n",
       "1      start_2022-10-01_end_2023-05-01_monitoring_cla...          SOYBEAN   \n",
       "2      start_2022-10-01_end_2023-05-01_monitoring_cla...          SOYBEAN   \n",
       "3      start_2022-10-01_end_2023-05-01_monitoring_cla...          SOYBEAN   \n",
       "4      start_2022-10-01_end_2023-05-01_monitoring_cla...          SOYBEAN   \n",
       "...                                                  ...              ...   \n",
       "66830  start_2022-09-01_end_2023-06-01_monitoring_cla...          SOYBEAN   \n",
       "66831  start_2022-09-01_end_2023-06-01_monitoring_cla...          SOYBEAN   \n",
       "66832  start_2022-09-01_end_2023-06-01_monitoring_cla...          SOYBEAN   \n",
       "66833  start_2022-09-01_end_2023-06-01_monitoring_cla...          SOYBEAN   \n",
       "66834  start_2022-09-01_end_2023-06-01_monitoring_cla...          SOYBEAN   \n",
       "\n",
       "       eopatch_input_model_exists    shape_X_data label_unique shape_labels  \\\n",
       "0                            True  (2, 50, 3, 13)      algodao      (2, 50)   \n",
       "1                            True  (1, 50, 3, 13)      algodao      (1, 50)   \n",
       "2                            True  (3, 50, 3, 13)      algodao      (3, 50)   \n",
       "3                            True  (3, 50, 3, 13)      algodao      (3, 50)   \n",
       "4                            True  (1, 50, 3, 13)      algodao      (1, 50)   \n",
       "...                           ...             ...          ...          ...   \n",
       "66830                        True  (6, 50, 3, 13)      algodao      (6, 50)   \n",
       "66831                        True  (6, 50, 3, 13)      algodao      (6, 50)   \n",
       "66832                        True  (7, 50, 3, 13)      algodao      (7, 50)   \n",
       "66833                        True  (7, 50, 3, 13)      algodao      (7, 50)   \n",
       "66834                        True  (6, 50, 3, 13)      algodao      (6, 50)   \n",
       "\n",
       "       shape_timestamp error_input_model  \n",
       "0                  7.0              None  \n",
       "1                  4.0              None  \n",
       "2                  7.0              None  \n",
       "3                  7.0              None  \n",
       "4                  5.0              None  \n",
       "...                ...               ...  \n",
       "66830             10.0              None  \n",
       "66831             10.0              None  \n",
       "66832             11.0              None  \n",
       "66833             11.0              None  \n",
       "66834             10.0              None  \n",
       "\n",
       "[63807 rows x 8 columns]"
      ]
     },
     "execution_count": 29,
     "metadata": {},
     "output_type": "execute_result"
    }
   ],
   "source": [
    "df_input_model[(df_input_model['label_unique'].notna()) & \n",
    "                (df_input_model['geopackage_class'] != df_input_model['label_unique'])]"
   ]
  },
  {
   "cell_type": "code",
   "execution_count": 30,
   "id": "aa8360cd-8956-4fef-b499-5960cf8d2a6a",
   "metadata": {},
   "outputs": [
    {
     "data": {
      "text/plain": [
       "'/agrilearn_app/datasets/SOYBEAN/2022_2023/reports/overview_SOYBEAN_66835_input_model.csv'"
      ]
     },
     "execution_count": 30,
     "metadata": {},
     "output_type": "execute_result"
    }
   ],
   "source": [
    "os.makedirs(REPORT_PATH, exist_ok=True)\n",
    "final_processed_report_name = f\"{REPORT_PATH}/overview_{string_name}_input_model.csv\"\n",
    "df_overview_input.to_csv(final_processed_report_name)\n",
    "final_processed_report_name"
   ]
  },
  {
   "cell_type": "markdown",
   "id": "93505652-d253-4a01-9adf-cc385e8aad3a",
   "metadata": {},
   "source": [
    "## 5. Merge Data"
   ]
  },
  {
   "cell_type": "code",
   "execution_count": 31,
   "id": "ba9d3e05-de43-40c3-92f4-f1e8260bb443",
   "metadata": {},
   "outputs": [
    {
     "data": {
      "text/html": [
       "<div>\n",
       "<style scoped>\n",
       "    .dataframe tbody tr th:only-of-type {\n",
       "        vertical-align: middle;\n",
       "    }\n",
       "\n",
       "    .dataframe tbody tr th {\n",
       "        vertical-align: top;\n",
       "    }\n",
       "\n",
       "    .dataframe thead th {\n",
       "        text-align: right;\n",
       "    }\n",
       "</style>\n",
       "<table border=\"1\" class=\"dataframe\">\n",
       "  <thead>\n",
       "    <tr style=\"text-align: right;\">\n",
       "      <th></th>\n",
       "      <th>0</th>\n",
       "    </tr>\n",
       "  </thead>\n",
       "  <tbody>\n",
       "    <tr>\n",
       "      <th>total_eopatches</th>\n",
       "      <td>66835.00000</td>\n",
       "    </tr>\n",
       "    <tr>\n",
       "      <th>eopatch_input_model_exists</th>\n",
       "      <td>63807.00000</td>\n",
       "    </tr>\n",
       "    <tr>\n",
       "      <th>eopatches_not_exist</th>\n",
       "      <td>3028.00000</td>\n",
       "    </tr>\n",
       "    <tr>\n",
       "      <th>percentage_eopatches_not_exist</th>\n",
       "      <td>4.53056</td>\n",
       "    </tr>\n",
       "    <tr>\n",
       "      <th>classes_equivalent</th>\n",
       "      <td>0.00000</td>\n",
       "    </tr>\n",
       "    <tr>\n",
       "      <th>classes_not_equivalent</th>\n",
       "      <td>66835.00000</td>\n",
       "    </tr>\n",
       "    <tr>\n",
       "      <th>percentage_classes_equivalent</th>\n",
       "      <td>0.00000</td>\n",
       "    </tr>\n",
       "    <tr>\n",
       "      <th>percentage_classes_not_equivalent</th>\n",
       "      <td>100.00000</td>\n",
       "    </tr>\n",
       "  </tbody>\n",
       "</table>\n",
       "</div>"
      ],
      "text/plain": [
       "                                             0\n",
       "total_eopatches                    66835.00000\n",
       "eopatch_input_model_exists         63807.00000\n",
       "eopatches_not_exist                 3028.00000\n",
       "percentage_eopatches_not_exist         4.53056\n",
       "classes_equivalent                     0.00000\n",
       "classes_not_equivalent             66835.00000\n",
       "percentage_classes_equivalent          0.00000\n",
       "percentage_classes_not_equivalent    100.00000"
      ]
     },
     "execution_count": 31,
     "metadata": {},
     "output_type": "execute_result"
    }
   ],
   "source": [
    "df_overview_input"
   ]
  },
  {
   "cell_type": "code",
   "execution_count": 32,
   "id": "4b0de9fa-8641-42b8-a083-3f39bcacf8ec",
   "metadata": {},
   "outputs": [
    {
     "data": {
      "text/plain": [
       "(66835, 7)"
      ]
     },
     "execution_count": 32,
     "metadata": {},
     "output_type": "execute_result"
    }
   ],
   "source": [
    "df_processed.shape"
   ]
  },
  {
   "cell_type": "code",
   "execution_count": 33,
   "id": "c309e17e-1c6a-48ff-ad2f-5f45be028a99",
   "metadata": {},
   "outputs": [
    {
     "data": {
      "text/plain": [
       "(66835, 8)"
      ]
     },
     "execution_count": 33,
     "metadata": {},
     "output_type": "execute_result"
    }
   ],
   "source": [
    "df_input_model.shape"
   ]
  },
  {
   "cell_type": "code",
   "execution_count": 34,
   "id": "f43317a9-dad4-4c89-8a3b-6e015c410b67",
   "metadata": {},
   "outputs": [
    {
     "data": {
      "text/plain": [
       "(66835, 41)"
      ]
     },
     "execution_count": 34,
     "metadata": {},
     "output_type": "execute_result"
    }
   ],
   "source": [
    "# Usando pd.merge para juntar os DataFrames\n",
    "df_merged = pd.merge(df, df_processed, left_on='eopath_location', right_on='eopatch_location_id', how='left')\n",
    "df_merged.shape"
   ]
  },
  {
   "cell_type": "code",
   "execution_count": 35,
   "id": "79d28f70-57c9-44cb-9204-0fc09249fd46",
   "metadata": {},
   "outputs": [
    {
     "data": {
      "text/plain": [
       "(66835, 49)"
      ]
     },
     "execution_count": 35,
     "metadata": {},
     "output_type": "execute_result"
    }
   ],
   "source": [
    "df_full = pd.merge(df_merged, df_input_model, left_on='eopath_location', right_on='eopatch_location_id', how='left')\n",
    "df_full.shape"
   ]
  },
  {
   "cell_type": "markdown",
   "id": "77d90d29-07d4-434b-b294-cc95d097b4bb",
   "metadata": {},
   "source": [
    "## 6. Save data"
   ]
  },
  {
   "cell_type": "code",
   "execution_count": 36,
   "id": "76671d19-219b-45d3-a2b6-556029764e36",
   "metadata": {},
   "outputs": [
    {
     "data": {
      "text/plain": [
       "'/agrilearn_app/datasets/SOYBEAN/2022_2023/geopackage/processed/SOYBEAN_66835.gpkg'"
      ]
     },
     "execution_count": 36,
     "metadata": {},
     "output_type": "execute_result"
    }
   ],
   "source": [
    "result_string = processing.get_geopackage_name(df_full, label_monitoring_class='monitoring_class')\n",
    "GEOPACKAGE_PROCESSED_PATH = os.path.join(GEOPACKAGE_RAW_PATH.split('/raw/')[0]+\"/\", \"processed\", result_string+ \".gpkg\")\n",
    "GEOPACKAGE_PROCESSED_PATH"
   ]
  },
  {
   "cell_type": "code",
   "execution_count": 37,
   "id": "2612d562-f8ff-48f0-a738-1262f19e81b0",
   "metadata": {},
   "outputs": [
    {
     "name": "stderr",
     "output_type": "stream",
     "text": [
      "2025-04-19 04:59:59,852 - WARNING - Skipping field because of invalid value: key='shape_X_data', value=(2, 50, 3, 13)\n",
      "2025-04-19 04:59:59,853 - WARNING - Skipping field because of invalid value: key='shape_labels', value=(2, 50)\n",
      "2025-04-19 04:59:59,856 - WARNING - Skipping field because of invalid value: key='shape_X_data', value=(1, 50, 3, 13)\n",
      "2025-04-19 04:59:59,857 - WARNING - Skipping field because of invalid value: key='shape_labels', value=(1, 50)\n",
      "2025-04-19 04:59:59,858 - WARNING - Skipping field because of invalid value: key='shape_X_data', value=(3, 50, 3, 13)\n",
      "2025-04-19 04:59:59,858 - WARNING - Skipping field because of invalid value: key='shape_labels', value=(3, 50)\n",
      "2025-04-19 04:59:59,873 - WARNING - Skipping field because of invalid value: key='shape_X_data', value=(5, 50, 3, 13)\n",
      "2025-04-19 04:59:59,874 - WARNING - Skipping field because of invalid value: key='shape_labels', value=(5, 50)\n",
      "2025-04-19 04:59:59,899 - WARNING - Skipping field because of invalid value: key='shape_X_data', value=(4, 50, 3, 13)\n",
      "2025-04-19 04:59:59,900 - WARNING - Skipping field because of invalid value: key='shape_labels', value=(4, 50)\n",
      "2025-04-19 04:59:59,910 - WARNING - Skipping field because of invalid value: key='shape_X_data', value=(6, 50, 3, 13)\n",
      "2025-04-19 04:59:59,911 - WARNING - Skipping field because of invalid value: key='shape_labels', value=(6, 50)\n",
      "2025-04-19 04:59:59,932 - WARNING - Skipping field because of invalid value: key='shape_X_data', value=(7, 50, 3, 13)\n",
      "2025-04-19 04:59:59,932 - WARNING - Skipping field because of invalid value: key='shape_labels', value=(7, 50)\n",
      "2025-04-19 04:59:59,934 - WARNING - Skipping field because of invalid value: key='shape_X_data', value=(8, 50, 3, 13)\n",
      "2025-04-19 04:59:59,934 - WARNING - Skipping field because of invalid value: key='shape_labels', value=(8, 50)\n",
      "2025-04-19 04:59:59,975 - WARNING - Skipping field because of invalid value: key='shape_X_data', value=(9, 50, 3, 13)\n",
      "2025-04-19 04:59:59,976 - WARNING - Skipping field because of invalid value: key='shape_labels', value=(9, 50)\n",
      "2025-04-19 05:00:00,041 - WARNING - Skipping field because of invalid value: key='shape_X_data', value=(10, 50, 3, 13)\n",
      "2025-04-19 05:00:00,042 - WARNING - Skipping field because of invalid value: key='shape_labels', value=(10, 50)\n",
      "2025-04-19 05:00:04,570 - WARNING - Skipping field because of invalid value: key='shape_X_data', value=(12, 50, 3, 13)\n",
      "2025-04-19 05:00:04,571 - WARNING - Skipping field because of invalid value: key='shape_labels', value=(12, 50)\n",
      "2025-04-19 05:00:04,641 - WARNING - Skipping field because of invalid value: key='shape_X_data', value=(11, 50, 3, 13)\n",
      "2025-04-19 05:00:04,642 - WARNING - Skipping field because of invalid value: key='shape_labels', value=(11, 50)\n"
     ]
    }
   ],
   "source": [
    "df_full.to_file(GEOPACKAGE_PROCESSED_PATH, \n",
    "                driver='GPKG', \n",
    "                engine='fiona')"
   ]
  },
  {
   "cell_type": "code",
   "execution_count": null,
   "id": "a0e9c9cc-9f7b-4ce2-b2e7-ac4fa35e1bf4",
   "metadata": {},
   "outputs": [],
   "source": []
  },
  {
   "cell_type": "code",
   "execution_count": null,
   "id": "45074a65-b537-45c6-9e82-93e5725aec6c",
   "metadata": {},
   "outputs": [],
   "source": []
  }
 ],
 "metadata": {
  "kernelspec": {
   "display_name": "Python 3 (ipykernel)",
   "language": "python",
   "name": "python3"
  },
  "language_info": {
   "codemirror_mode": {
    "name": "ipython",
    "version": 3
   },
   "file_extension": ".py",
   "mimetype": "text/x-python",
   "name": "python",
   "nbconvert_exporter": "python",
   "pygments_lexer": "ipython3",
   "version": "3.10.12"
  }
 },
 "nbformat": 4,
 "nbformat_minor": 5
}
