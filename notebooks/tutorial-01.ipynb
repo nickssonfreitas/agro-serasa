{
 "cells": [
  {
   "cell_type": "code",
   "execution_count": 1,
   "id": "057206cd-1717-42c8-a63a-a3c3c1f94fb3",
   "metadata": {},
   "outputs": [],
   "source": [
    "import os\n",
    "from eolearn.core import EOPatch"
   ]
  },
  {
   "cell_type": "code",
   "execution_count": null,
   "id": "8c757541-b41a-40ce-b442-dba49514cf1f",
   "metadata": {},
   "outputs": [],
   "source": [
    "INPUT_FOLDER = os.path.join(\"..\", \"..\", \"example_data\")\n",
    "INPUT_EOPATCH = os.path.join(INPUT_FOLDER, \"TestEOPatch\")"
   ]
  },
  {
   "cell_type": "code",
   "execution_count": null,
   "id": "d46ecd91-b6bc-4037-bf1b-b6ae3824008a",
   "metadata": {},
   "outputs": [],
   "source": [
    "FILENAME = '../../eo-learn/example_data'"
   ]
  }
 ],
 "metadata": {
  "kernelspec": {
   "display_name": "Python 3 (ipykernel)",
   "language": "python",
   "name": "python3"
  },
  "language_info": {
   "codemirror_mode": {
    "name": "ipython",
    "version": 3
   },
   "file_extension": ".py",
   "mimetype": "text/x-python",
   "name": "python",
   "nbconvert_exporter": "python",
   "pygments_lexer": "ipython3",
   "version": "3.9.12"
  }
 },
 "nbformat": 4,
 "nbformat_minor": 5
}
