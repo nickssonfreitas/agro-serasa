{
 "cells": [
  {
   "cell_type": "markdown",
   "id": "84c2e07a-8694-4da6-92c1-07aa7855d152",
   "metadata": {},
   "source": [
    "# Eo-leorn:\n",
    "- **eo-learn** is a collection of open source Python packages that have been developed to seamlessly access and process **spatio-temporal image sequences** acquired by any **satellite** fleet in a **timely and automatic manner**. \n",
    "- **eo-learn is easy to use**, it’s design modular, and encourages collaboration – sharing and reusing of specific tasks in a typical EO-value-extraction workflows, such as **cloud masking**, **image co-registration**, **feature extraction**, **classification**, etc\n",
    "\n",
    "eo-learn makes extraction of valuable information from satellite imagery as easy as defining a sequence of operations to be performed on satellite imagery. Image below illustrates a processing chain that maps water in satellite imagery by thresholding the Normalised Difference Water Index in user specified region of interest.\n",
    "\n",
    "![Alt text](../image/eo-learn-illustration.webp)\n"
   ]
  },
  {
   "cell_type": "code",
   "execution_count": null,
   "id": "5df0112b-753c-4165-960f-7b29fd7a27a5",
   "metadata": {},
   "outputs": [],
   "source": [
    "import os\n",
    "from eolearn.core import EOPatch"
   ]
  },
  {
   "cell_type": "code",
   "execution_count": null,
   "id": "8c757541-b41a-40ce-b442-dba49514cf1f",
   "metadata": {},
   "outputs": [],
   "source": [
    "INPUT_FOLDER = os.path.join(\"..\", \"..\", \"example_data\")\n",
    "INPUT_EOPATCH = os.path.join(INPUT_FOLDER, \"TestEOPatch\")"
   ]
  },
  {
   "cell_type": "code",
   "execution_count": null,
   "id": "d46ecd91-b6bc-4037-bf1b-b6ae3824008a",
   "metadata": {},
   "outputs": [],
   "source": [
    "FILENAME = '../../eo-learn/example_data'"
   ]
  }
 ],
 "metadata": {
  "kernelspec": {
   "display_name": "Python 3 (ipykernel)",
   "language": "python",
   "name": "python3"
  },
  "language_info": {
   "codemirror_mode": {
    "name": "ipython",
    "version": 3
   },
   "file_extension": ".py",
   "mimetype": "text/x-python",
   "name": "python",
   "nbconvert_exporter": "python",
   "pygments_lexer": "ipython3",
   "version": "3.11.10"
  }
 },
 "nbformat": 4,
 "nbformat_minor": 5
}
