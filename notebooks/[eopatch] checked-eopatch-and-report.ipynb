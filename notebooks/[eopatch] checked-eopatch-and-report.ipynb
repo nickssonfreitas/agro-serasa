{
 "cells": [
  {
   "cell_type": "code",
   "execution_count": 1,
   "id": "576fd74f-2e60-4afc-813e-14c723b6f8e3",
   "metadata": {},
   "outputs": [
    {
     "name": "stderr",
     "output_type": "stream",
     "text": [
      "2025-04-23 12:56:10.343693: I tensorflow/core/util/port.cc:153] oneDNN custom operations are on. You may see slightly different numerical results due to floating-point round-off errors from different computation orders. To turn them off, set the environment variable `TF_ENABLE_ONEDNN_OPTS=0`.\n",
      "2025-04-23 12:56:10.902399: E external/local_xla/xla/stream_executor/cuda/cuda_fft.cc:477] Unable to register cuFFT factory: Attempting to register factory for plugin cuFFT when one has already been registered\n",
      "WARNING: All log messages before absl::InitializeLog() is called are written to STDERR\n",
      "E0000 00:00:1745412971.105759  938237 cuda_dnn.cc:8310] Unable to register cuDNN factory: Attempting to register factory for plugin cuDNN when one has already been registered\n",
      "E0000 00:00:1745412971.169378  938237 cuda_blas.cc:1418] Unable to register cuBLAS factory: Attempting to register factory for plugin cuBLAS when one has already been registered\n",
      "2025-04-23 12:56:11.687617: I tensorflow/core/platform/cpu_feature_guard.cc:210] This TensorFlow binary is optimized to use available CPU instructions in performance-critical operations.\n",
      "To enable the following instructions: AVX2 AVX512F AVX512_VNNI FMA, in other operations, rebuild TensorFlow with the appropriate compiler flags.\n"
     ]
    }
   ],
   "source": [
    "import sys\n",
    "sys.path.append(\"../agrilearn/submodules/commons/\")\n",
    "from agrilearn.commons.s3 import s3_utils\n",
    "from agrilearn.crop_classification import evaluate_utils, yaml_utils, processing\n",
    "import geopandas as gpd\n",
    "import os\n",
    "import pandas as pd"
   ]
  },
  {
   "cell_type": "markdown",
   "id": "85e6f0ff-bf66-404a-ace7-fe1d5f5722d0",
   "metadata": {},
   "source": [
    "## 1. Define Variables and Read Data"
   ]
  },
  {
   "cell_type": "code",
   "execution_count": 2,
   "id": "18f53df5-37bd-4df7-bb4a-69f6bd5b9df3",
   "metadata": {},
   "outputs": [],
   "source": [
    "MAIN_PATH = \"/agrilearn_app/output/experiment_12/data/\"\n",
    "GEOPACKAGE_RAW_PATH = os.path.join(MAIN_PATH, \"geopackage/processed/SOYBEAN_48257_CORN_33809_SUGAR_CANE_17640_WHEAT_4226_COTTON_3178_RICE_925_test.gpkg\")\n",
    "EOPATCH_PATH_PROCESSED = os.path.join(MAIN_PATH, \"eopatch/processed/\")\n",
    "REPORT_PATH = os.path.join(MAIN_PATH, \"reports\")\n",
    "\n",
    "LABEL_EOPATCH_LOCATION = \"eopath_location\" "
   ]
  },
  {
   "cell_type": "code",
   "execution_count": 3,
   "id": "82a9b3d8-eb41-4165-8efc-a62e70d02910",
   "metadata": {},
   "outputs": [],
   "source": [
    "df = gpd.read_file(GEOPACKAGE_RAW_PATH)"
   ]
  },
  {
   "cell_type": "code",
   "execution_count": 4,
   "id": "eec6a003-3bfd-4f12-91c6-6f0c435579f3",
   "metadata": {},
   "outputs": [
    {
     "data": {
      "text/plain": [
       "(108035, 36)"
      ]
     },
     "execution_count": 4,
     "metadata": {},
     "output_type": "execute_result"
    }
   ],
   "source": [
    "df.shape"
   ]
  },
  {
   "cell_type": "code",
   "execution_count": 5,
   "id": "4436b014-847d-4738-880b-4d7cda9ec072",
   "metadata": {},
   "outputs": [
    {
     "data": {
      "text/html": [
       "<div>\n",
       "<style scoped>\n",
       "    .dataframe tbody tr th:only-of-type {\n",
       "        vertical-align: middle;\n",
       "    }\n",
       "\n",
       "    .dataframe tbody tr th {\n",
       "        vertical-align: top;\n",
       "    }\n",
       "\n",
       "    .dataframe thead th {\n",
       "        text-align: right;\n",
       "    }\n",
       "</style>\n",
       "<table border=\"1\" class=\"dataframe\">\n",
       "  <thead>\n",
       "    <tr style=\"text-align: right;\">\n",
       "      <th></th>\n",
       "      <th>monitoring_class</th>\n",
       "      <th>period</th>\n",
       "      <th>fonte</th>\n",
       "      <th>state</th>\n",
       "      <th>area</th>\n",
       "      <th>micro</th>\n",
       "      <th>start_season</th>\n",
       "      <th>end_season</th>\n",
       "      <th>peak_start</th>\n",
       "      <th>peak_end</th>\n",
       "      <th>...</th>\n",
       "      <th>is_valid_POS</th>\n",
       "      <th>is_valid_LOS</th>\n",
       "      <th>set_type</th>\n",
       "      <th>sampled_date</th>\n",
       "      <th>dataset_source</th>\n",
       "      <th>dataset_part</th>\n",
       "      <th>geometry_type</th>\n",
       "      <th>safra</th>\n",
       "      <th>edf</th>\n",
       "      <th>geometry</th>\n",
       "    </tr>\n",
       "  </thead>\n",
       "  <tbody>\n",
       "    <tr>\n",
       "      <th>0</th>\n",
       "      <td>CORN</td>\n",
       "      <td>2022/2023</td>\n",
       "      <td>Agrosatélite - Grãos Sul 2022/2023</td>\n",
       "      <td>RS</td>\n",
       "      <td>None</td>\n",
       "      <td>490.0</td>\n",
       "      <td>2022-08-01</td>\n",
       "      <td>2023-07-01</td>\n",
       "      <td>2022-10-01</td>\n",
       "      <td>2023-04-01</td>\n",
       "      <td>...</td>\n",
       "      <td>True</td>\n",
       "      <td>False</td>\n",
       "      <td>train</td>\n",
       "      <td>dez_2024</td>\n",
       "      <td>/agrilearn_app/datasets/base/geopackage/proces...</td>\n",
       "      <td>test</td>\n",
       "      <td>MultiPolygon</td>\n",
       "      <td>safra</td>\n",
       "      <td>101</td>\n",
       "      <td>MULTIPOLYGON (((-5872418.582 -3472913.558, -58...</td>\n",
       "    </tr>\n",
       "    <tr>\n",
       "      <th>1</th>\n",
       "      <td>CORN</td>\n",
       "      <td>2022/2023</td>\n",
       "      <td>Agrosatélite - Grãos Sul 2022/2023</td>\n",
       "      <td>RS</td>\n",
       "      <td>184475.5792581472</td>\n",
       "      <td>491.0</td>\n",
       "      <td>2022-08-01</td>\n",
       "      <td>2023-07-01</td>\n",
       "      <td>2022-10-01</td>\n",
       "      <td>2023-04-01</td>\n",
       "      <td>...</td>\n",
       "      <td>True</td>\n",
       "      <td>False</td>\n",
       "      <td>train</td>\n",
       "      <td>dez_2024</td>\n",
       "      <td>/agrilearn_app/datasets/base/geopackage/proces...</td>\n",
       "      <td>test</td>\n",
       "      <td>MultiPolygon</td>\n",
       "      <td>safra</td>\n",
       "      <td>101</td>\n",
       "      <td>MULTIPOLYGON (((-5776678.887 -3454619.446, -57...</td>\n",
       "    </tr>\n",
       "    <tr>\n",
       "      <th>2</th>\n",
       "      <td>CORN</td>\n",
       "      <td>2022/2023</td>\n",
       "      <td>Agrosatélite - Grãos Sul 2022/2023</td>\n",
       "      <td>RS</td>\n",
       "      <td>306635.615729009</td>\n",
       "      <td>488.0</td>\n",
       "      <td>2022-08-01</td>\n",
       "      <td>2023-07-01</td>\n",
       "      <td>2022-10-01</td>\n",
       "      <td>2023-04-01</td>\n",
       "      <td>...</td>\n",
       "      <td>True</td>\n",
       "      <td>True</td>\n",
       "      <td>val</td>\n",
       "      <td>dez_2024</td>\n",
       "      <td>/agrilearn_app/datasets/base/geopackage/proces...</td>\n",
       "      <td>test</td>\n",
       "      <td>MultiPolygon</td>\n",
       "      <td>safra</td>\n",
       "      <td>101</td>\n",
       "      <td>MULTIPOLYGON (((-5990899.154 -3423069.937, -59...</td>\n",
       "    </tr>\n",
       "    <tr>\n",
       "      <th>3</th>\n",
       "      <td>CORN</td>\n",
       "      <td>2022/2023</td>\n",
       "      <td>Agrosatélite - Grãos Sul 2022/2023</td>\n",
       "      <td>RS</td>\n",
       "      <td>146966.765861118</td>\n",
       "      <td>489.0</td>\n",
       "      <td>2022-08-01</td>\n",
       "      <td>2023-07-01</td>\n",
       "      <td>2022-10-01</td>\n",
       "      <td>2023-04-01</td>\n",
       "      <td>...</td>\n",
       "      <td>True</td>\n",
       "      <td>False</td>\n",
       "      <td>train</td>\n",
       "      <td>dez_2024</td>\n",
       "      <td>/agrilearn_app/datasets/base/geopackage/proces...</td>\n",
       "      <td>test</td>\n",
       "      <td>MultiPolygon</td>\n",
       "      <td>safra</td>\n",
       "      <td>101</td>\n",
       "      <td>MULTIPOLYGON (((-5953080 -3505253.46, -5953040...</td>\n",
       "    </tr>\n",
       "    <tr>\n",
       "      <th>4</th>\n",
       "      <td>CORN</td>\n",
       "      <td>2022/2023</td>\n",
       "      <td>Agrosatélite - Grãos Sul 2022/2023</td>\n",
       "      <td>RS</td>\n",
       "      <td>84911.35149790395</td>\n",
       "      <td>500.0</td>\n",
       "      <td>2022-08-01</td>\n",
       "      <td>2023-07-01</td>\n",
       "      <td>2022-10-01</td>\n",
       "      <td>2023-04-01</td>\n",
       "      <td>...</td>\n",
       "      <td>True</td>\n",
       "      <td>True</td>\n",
       "      <td>train</td>\n",
       "      <td>dez_2024</td>\n",
       "      <td>/agrilearn_app/datasets/base/geopackage/proces...</td>\n",
       "      <td>test</td>\n",
       "      <td>MultiPolygon</td>\n",
       "      <td>safra</td>\n",
       "      <td>101</td>\n",
       "      <td>MULTIPOLYGON (((-6133728.39 -3568966.103, -613...</td>\n",
       "    </tr>\n",
       "  </tbody>\n",
       "</table>\n",
       "<p>5 rows × 36 columns</p>\n",
       "</div>"
      ],
      "text/plain": [
       "  monitoring_class     period                               fonte state  \\\n",
       "0             CORN  2022/2023  Agrosatélite - Grãos Sul 2022/2023    RS   \n",
       "1             CORN  2022/2023  Agrosatélite - Grãos Sul 2022/2023    RS   \n",
       "2             CORN  2022/2023  Agrosatélite - Grãos Sul 2022/2023    RS   \n",
       "3             CORN  2022/2023  Agrosatélite - Grãos Sul 2022/2023    RS   \n",
       "4             CORN  2022/2023  Agrosatélite - Grãos Sul 2022/2023    RS   \n",
       "\n",
       "                area  micro start_season end_season peak_start   peak_end  \\\n",
       "0               None  490.0   2022-08-01 2023-07-01 2022-10-01 2023-04-01   \n",
       "1  184475.5792581472  491.0   2022-08-01 2023-07-01 2022-10-01 2023-04-01   \n",
       "2   306635.615729009  488.0   2022-08-01 2023-07-01 2022-10-01 2023-04-01   \n",
       "3   146966.765861118  489.0   2022-08-01 2023-07-01 2022-10-01 2023-04-01   \n",
       "4  84911.35149790395  500.0   2022-08-01 2023-07-01 2022-10-01 2023-04-01   \n",
       "\n",
       "   ... is_valid_POS is_valid_LOS set_type sampled_date  \\\n",
       "0  ...         True        False    train     dez_2024   \n",
       "1  ...         True        False    train     dez_2024   \n",
       "2  ...         True         True      val     dez_2024   \n",
       "3  ...         True        False    train     dez_2024   \n",
       "4  ...         True         True    train     dez_2024   \n",
       "\n",
       "                                      dataset_source dataset_part  \\\n",
       "0  /agrilearn_app/datasets/base/geopackage/proces...         test   \n",
       "1  /agrilearn_app/datasets/base/geopackage/proces...         test   \n",
       "2  /agrilearn_app/datasets/base/geopackage/proces...         test   \n",
       "3  /agrilearn_app/datasets/base/geopackage/proces...         test   \n",
       "4  /agrilearn_app/datasets/base/geopackage/proces...         test   \n",
       "\n",
       "  geometry_type  safra  edf                                           geometry  \n",
       "0  MultiPolygon  safra  101  MULTIPOLYGON (((-5872418.582 -3472913.558, -58...  \n",
       "1  MultiPolygon  safra  101  MULTIPOLYGON (((-5776678.887 -3454619.446, -57...  \n",
       "2  MultiPolygon  safra  101  MULTIPOLYGON (((-5990899.154 -3423069.937, -59...  \n",
       "3  MultiPolygon  safra  101  MULTIPOLYGON (((-5953080 -3505253.46, -5953040...  \n",
       "4  MultiPolygon  safra  101  MULTIPOLYGON (((-6133728.39 -3568966.103, -613...  \n",
       "\n",
       "[5 rows x 36 columns]"
      ]
     },
     "execution_count": 5,
     "metadata": {},
     "output_type": "execute_result"
    }
   ],
   "source": [
    "df.head()"
   ]
  },
  {
   "cell_type": "markdown",
   "id": "6548aba5-8d69-4c76-bc94-fa812572fe92",
   "metadata": {},
   "source": [
    "## 2. Processing Geopackage"
   ]
  },
  {
   "cell_type": "markdown",
   "id": "a4dcc555-4a93-4bba-9434-89bdd5705c4c",
   "metadata": {},
   "source": [
    "### 2.1 Drop Columns NaN"
   ]
  },
  {
   "cell_type": "code",
   "execution_count": 6,
   "id": "6dc7f806-31a0-4911-afa6-0bc3655a38cb",
   "metadata": {},
   "outputs": [
    {
     "name": "stdout",
     "output_type": "stream",
     "text": [
      "Removed Columns: 0, Percentage: 0.00%\n"
     ]
    }
   ],
   "source": [
    "shape_before = df.shape[1]\n",
    "df.dropna(axis=1, how='all', inplace=True)\n",
    "print(f\"Removed Columns: {shape_before - df.shape[1]}, Percentage: {(shape_before - df.shape[1]) / shape_before * 100:.2f}%\")"
   ]
  },
  {
   "cell_type": "markdown",
   "id": "8d64c9d3-82cf-480e-9880-7a3651edb678",
   "metadata": {},
   "source": [
    "### 2.2 Check NaN values"
   ]
  },
  {
   "cell_type": "code",
   "execution_count": 7,
   "id": "9e2b6e1d-4cf0-4372-a938-36526e0f53ed",
   "metadata": {},
   "outputs": [
    {
     "data": {
      "text/html": [
       "<div>\n",
       "<style scoped>\n",
       "    .dataframe tbody tr th:only-of-type {\n",
       "        vertical-align: middle;\n",
       "    }\n",
       "\n",
       "    .dataframe tbody tr th {\n",
       "        vertical-align: top;\n",
       "    }\n",
       "\n",
       "    .dataframe thead th {\n",
       "        text-align: right;\n",
       "    }\n",
       "</style>\n",
       "<table border=\"1\" class=\"dataframe\">\n",
       "  <thead>\n",
       "    <tr style=\"text-align: right;\">\n",
       "      <th></th>\n",
       "      <th>Null Count</th>\n",
       "      <th>NaN percentage</th>\n",
       "    </tr>\n",
       "  </thead>\n",
       "  <tbody>\n",
       "    <tr>\n",
       "      <th>los_valid</th>\n",
       "      <td>41323</td>\n",
       "      <td>38.249641</td>\n",
       "    </tr>\n",
       "    <tr>\n",
       "      <th>eos_valid</th>\n",
       "      <td>41323</td>\n",
       "      <td>38.249641</td>\n",
       "    </tr>\n",
       "    <tr>\n",
       "      <th>pos_valid</th>\n",
       "      <td>41323</td>\n",
       "      <td>38.249641</td>\n",
       "    </tr>\n",
       "    <tr>\n",
       "      <th>sos_valid</th>\n",
       "      <td>41323</td>\n",
       "      <td>38.249641</td>\n",
       "    </tr>\n",
       "    <tr>\n",
       "      <th>is_valid_metrics</th>\n",
       "      <td>41323</td>\n",
       "      <td>38.249641</td>\n",
       "    </tr>\n",
       "  </tbody>\n",
       "</table>\n",
       "</div>"
      ],
      "text/plain": [
       "                  Null Count  NaN percentage\n",
       "los_valid              41323       38.249641\n",
       "eos_valid              41323       38.249641\n",
       "pos_valid              41323       38.249641\n",
       "sos_valid              41323       38.249641\n",
       "is_valid_metrics       41323       38.249641"
      ]
     },
     "execution_count": 7,
     "metadata": {},
     "output_type": "execute_result"
    }
   ],
   "source": [
    "# Calcula a quantidade de registros nulos e a porcentagem de registros nulos\n",
    "df_check_NaN = pd.concat([df.isna().sum(), df.isna().sum() / df.shape[0] * 100], axis=1)\n",
    "df_check_NaN.columns = ['Null Count', 'NaN percentage']\n",
    "df_check_NaN.sort_values('NaN percentage', ascending=False, inplace=True)\n",
    "df_check_NaN.head()"
   ]
  },
  {
   "cell_type": "markdown",
   "id": "20e67071-edba-4f5a-b5d3-7057b0b6e434",
   "metadata": {},
   "source": [
    "### 2.3 Transform all Geometry to Multipolygon"
   ]
  },
  {
   "cell_type": "code",
   "execution_count": 8,
   "id": "69609852-765d-40dd-aa04-39f7fd852eec",
   "metadata": {},
   "outputs": [],
   "source": [
    "from shapely.geometry import Polygon, MultiPolygon"
   ]
  },
  {
   "cell_type": "code",
   "execution_count": 9,
   "id": "743737cd-fb15-4fe2-b338-7ad6eabac18e",
   "metadata": {},
   "outputs": [],
   "source": [
    "df['geometry'] = df['geometry'].apply(lambda geom: MultiPolygon([geom]) if isinstance(geom, Polygon) else geom)"
   ]
  },
  {
   "cell_type": "markdown",
   "id": "3ca10c52-2354-4e49-b819-260231448975",
   "metadata": {},
   "source": [
    "### 2.4 Check Duplicates"
   ]
  },
  {
   "cell_type": "code",
   "execution_count": 14,
   "id": "41edc734-fe66-4488-a1d4-1ec185d3f382",
   "metadata": {},
   "outputs": [],
   "source": [
    "subset_duplicate = ['geometry', 'period']\n",
    "\n",
    "df['duplicates_id'] = None\n",
    "duplicados = df[df.duplicated(subset=subset_duplicate, keep=False)]\n",
    "# Adicione um identificador para os duplicados\n",
    "duplicados['duplicates_id'] = duplicados.groupby('eopath_location').ngroup()\n",
    "# Combine os dados duplicados com o DataFrame original\n",
    "df.update(duplicados)\n",
    "df.sort_values('duplicates_id', inplace=True)"
   ]
  },
  {
   "cell_type": "code",
   "execution_count": 15,
   "id": "8450fe80-2dd1-4616-bbf4-81c670947505",
   "metadata": {},
   "outputs": [
    {
     "data": {
      "text/plain": [
       "(0, 37)"
      ]
     },
     "execution_count": 15,
     "metadata": {},
     "output_type": "execute_result"
    }
   ],
   "source": [
    "duplicados.shape"
   ]
  },
  {
   "cell_type": "code",
   "execution_count": 16,
   "id": "f62be976-aa0e-405a-8796-f2b652daabfc",
   "metadata": {},
   "outputs": [
    {
     "data": {
      "text/html": [
       "<div>\n",
       "<style scoped>\n",
       "    .dataframe tbody tr th:only-of-type {\n",
       "        vertical-align: middle;\n",
       "    }\n",
       "\n",
       "    .dataframe tbody tr th {\n",
       "        vertical-align: top;\n",
       "    }\n",
       "\n",
       "    .dataframe thead th {\n",
       "        text-align: right;\n",
       "    }\n",
       "</style>\n",
       "<table border=\"1\" class=\"dataframe\">\n",
       "  <thead>\n",
       "    <tr style=\"text-align: right;\">\n",
       "      <th></th>\n",
       "      <th>monitoring_class</th>\n",
       "      <th>period</th>\n",
       "      <th>fonte</th>\n",
       "      <th>state</th>\n",
       "      <th>area</th>\n",
       "      <th>micro</th>\n",
       "      <th>start_season</th>\n",
       "      <th>end_season</th>\n",
       "      <th>peak_start</th>\n",
       "      <th>peak_end</th>\n",
       "      <th>...</th>\n",
       "      <th>is_valid_LOS</th>\n",
       "      <th>set_type</th>\n",
       "      <th>sampled_date</th>\n",
       "      <th>dataset_source</th>\n",
       "      <th>dataset_part</th>\n",
       "      <th>geometry_type</th>\n",
       "      <th>safra</th>\n",
       "      <th>edf</th>\n",
       "      <th>geometry</th>\n",
       "      <th>duplicates_id</th>\n",
       "    </tr>\n",
       "  </thead>\n",
       "  <tbody>\n",
       "  </tbody>\n",
       "</table>\n",
       "<p>0 rows × 37 columns</p>\n",
       "</div>"
      ],
      "text/plain": [
       "Empty GeoDataFrame\n",
       "Columns: [monitoring_class, period, fonte, state, area, micro, start_season, end_season, peak_start, peak_end, eopath_location, start_of_season, peak_of_season, end_of_season, length_of_season, is_valid_metrics, sos_valid, pos_valid, eos_valid, los_valid, planting_start, planting_end, start_of_cycle, end_of_cycle, length_of_cycle, is_valid, is_valid_POS, is_valid_LOS, set_type, sampled_date, dataset_source, dataset_part, geometry_type, safra, edf, geometry, duplicates_id]\n",
       "Index: []\n",
       "\n",
       "[0 rows x 37 columns]"
      ]
     },
     "execution_count": 16,
     "metadata": {},
     "output_type": "execute_result"
    }
   ],
   "source": [
    "df[df['duplicates_id']==0]"
   ]
  },
  {
   "cell_type": "code",
   "execution_count": 17,
   "id": "087476aa-f0aa-47a2-9db9-a955b0e50ef0",
   "metadata": {},
   "outputs": [
    {
     "name": "stdout",
     "output_type": "stream",
     "text": [
      "Removed records: 0, Percentage: 0.00%\n"
     ]
    }
   ],
   "source": [
    "shape_before = df.shape[0]\n",
    "df.drop_duplicates(subset=subset_duplicate, inplace=True)\n",
    "print(f\"Removed records: {shape_before - df.shape[0]}, Percentage: {(shape_before - df.shape[0]) / shape_before * 100:.2f}%\")"
   ]
  },
  {
   "cell_type": "markdown",
   "id": "5f5611ac-de51-47b7-b41a-0ab55eb7c676",
   "metadata": {},
   "source": [
    "### 2.5 feature engineering"
   ]
  },
  {
   "cell_type": "code",
   "execution_count": 18,
   "id": "527dbe7f-0ae7-4c67-b8f5-52ff4749fb76",
   "metadata": {},
   "outputs": [],
   "source": [
    "df['safra'] = df['period'].apply(lambda x: 'safrinha' if x.split('/')[0] == x.split('/')[1] else 'safra')"
   ]
  },
  {
   "cell_type": "code",
   "execution_count": 19,
   "id": "35cde317-adab-413a-bf94-842cc7f5933d",
   "metadata": {},
   "outputs": [
    {
     "data": {
      "text/plain": [
       "safra\n",
       "safra       85800\n",
       "safrinha    22235\n",
       "Name: count, dtype: int64"
      ]
     },
     "execution_count": 19,
     "metadata": {},
     "output_type": "execute_result"
    }
   ],
   "source": [
    "df['safra'].value_counts()"
   ]
  },
  {
   "cell_type": "markdown",
   "id": "db436b65-8415-41d2-8f82-ea7fe81f5024",
   "metadata": {},
   "source": [
    "## 3. Check processed eopatch"
   ]
  },
  {
   "cell_type": "code",
   "execution_count": 20,
   "id": "9622f2ca-a00d-42e7-8308-5178f16b7a12",
   "metadata": {},
   "outputs": [
    {
     "data": {
      "text/plain": [
       "'SOYBEAN_48257_CORN_33809_SUGAR_CANE_17640_WHEAT_4226_COTTON_3178_RICE_925'"
      ]
     },
     "execution_count": 20,
     "metadata": {},
     "output_type": "execute_result"
    }
   ],
   "source": [
    "string_name = processing.get_geopackage_name(df)\n",
    "string_name"
   ]
  },
  {
   "cell_type": "markdown",
   "id": "f451415c-7e9b-4693-a24e-dc5c1dd8d7cc",
   "metadata": {},
   "source": [
    "#### A) PROCESSED"
   ]
  },
  {
   "cell_type": "code",
   "execution_count": 21,
   "id": "2b34e0cb-568d-4fc3-a275-6eaab5483621",
   "metadata": {},
   "outputs": [
    {
     "name": "stderr",
     "output_type": "stream",
     "text": [
      "2025-04-23 12:58:01,107 - INFO - Iniciando a execução da função 'check_processed_eopatches_features_based_geopackage'\n"
     ]
    },
    {
     "data": {
      "application/vnd.jupyter.widget-view+json": {
       "model_id": "95ea517cf8a14230aa3d5a1b159a2fed",
       "version_major": 2,
       "version_minor": 0
      },
      "text/plain": [
       "  0%|          | 0/108035 [00:00<?, ?it/s]"
      ]
     },
     "metadata": {},
     "output_type": "display_data"
    },
    {
     "name": "stderr",
     "output_type": "stream",
     "text": [
      "2025-04-23 15:01:39,532 - INFO - Tempo de execução da função 'check_processed_eopatches_features_based_geopackage': 7418.42 segundos\n"
     ]
    }
   ],
   "source": [
    "df_processed, df_overview_processed = processing.check_processed_eopatches_features_based_geopackage(df, \n",
    "                                                                                         eopatch_path=EOPATCH_PATH_PROCESSED,\n",
    "                                                                                         label_eopatch_path=LABEL_EOPATCH_LOCATION)"
   ]
  },
  {
   "cell_type": "code",
   "execution_count": 22,
   "id": "38a797c8-c675-4944-adb4-a394fb369ff2",
   "metadata": {},
   "outputs": [
    {
     "data": {
      "text/html": [
       "<div>\n",
       "<style scoped>\n",
       "    .dataframe tbody tr th:only-of-type {\n",
       "        vertical-align: middle;\n",
       "    }\n",
       "\n",
       "    .dataframe tbody tr th {\n",
       "        vertical-align: top;\n",
       "    }\n",
       "\n",
       "    .dataframe thead th {\n",
       "        text-align: right;\n",
       "    }\n",
       "</style>\n",
       "<table border=\"1\" class=\"dataframe\">\n",
       "  <thead>\n",
       "    <tr style=\"text-align: right;\">\n",
       "      <th></th>\n",
       "      <th>0</th>\n",
       "    </tr>\n",
       "  </thead>\n",
       "  <tbody>\n",
       "    <tr>\n",
       "      <th>total_eopatches</th>\n",
       "      <td>108035.000000</td>\n",
       "    </tr>\n",
       "    <tr>\n",
       "      <th>eopatch_processed_exists</th>\n",
       "      <td>90341.000000</td>\n",
       "    </tr>\n",
       "    <tr>\n",
       "      <th>eopatches_not_exist</th>\n",
       "      <td>17694.000000</td>\n",
       "    </tr>\n",
       "    <tr>\n",
       "      <th>percentage_eopatches_not_exist</th>\n",
       "      <td>16.378026</td>\n",
       "    </tr>\n",
       "    <tr>\n",
       "      <th>len_data_exist</th>\n",
       "      <td>90341.000000</td>\n",
       "    </tr>\n",
       "    <tr>\n",
       "      <th>percentage_len_data_exist</th>\n",
       "      <td>83.621974</td>\n",
       "    </tr>\n",
       "    <tr>\n",
       "      <th>len_bands_exist</th>\n",
       "      <td>90341.000000</td>\n",
       "    </tr>\n",
       "    <tr>\n",
       "      <th>percentage_len_bands_exist</th>\n",
       "      <td>83.621974</td>\n",
       "    </tr>\n",
       "    <tr>\n",
       "      <th>len_time_interval_exist</th>\n",
       "      <td>90341.000000</td>\n",
       "    </tr>\n",
       "    <tr>\n",
       "      <th>percentage_len_time_interval_exist</th>\n",
       "      <td>83.621974</td>\n",
       "    </tr>\n",
       "    <tr>\n",
       "      <th>len_timestamp_exist</th>\n",
       "      <td>90341.000000</td>\n",
       "    </tr>\n",
       "    <tr>\n",
       "      <th>percentage_len_timestamp_exist</th>\n",
       "      <td>83.621974</td>\n",
       "    </tr>\n",
       "  </tbody>\n",
       "</table>\n",
       "</div>"
      ],
      "text/plain": [
       "                                                0\n",
       "total_eopatches                     108035.000000\n",
       "eopatch_processed_exists             90341.000000\n",
       "eopatches_not_exist                  17694.000000\n",
       "percentage_eopatches_not_exist          16.378026\n",
       "len_data_exist                       90341.000000\n",
       "percentage_len_data_exist               83.621974\n",
       "len_bands_exist                      90341.000000\n",
       "percentage_len_bands_exist              83.621974\n",
       "len_time_interval_exist              90341.000000\n",
       "percentage_len_time_interval_exist      83.621974\n",
       "len_timestamp_exist                  90341.000000\n",
       "percentage_len_timestamp_exist          83.621974"
      ]
     },
     "execution_count": 22,
     "metadata": {},
     "output_type": "execute_result"
    }
   ],
   "source": [
    "df_overview_processed"
   ]
  },
  {
   "cell_type": "code",
   "execution_count": 23,
   "id": "32da76cb-9c6c-4e3c-a415-5eb1abda2579",
   "metadata": {},
   "outputs": [
    {
     "data": {
      "text/plain": [
       "'/agrilearn_app/output/experiment_12/data/reports/overview_SOYBEAN_48257_CORN_33809_SUGAR_CANE_17640_WHEAT_4226_COTTON_3178_RICE_925_processed.csv'"
      ]
     },
     "execution_count": 23,
     "metadata": {},
     "output_type": "execute_result"
    }
   ],
   "source": [
    "os.makedirs(REPORT_PATH, exist_ok=True)\n",
    "final_processed_report_name = f\"{REPORT_PATH}/overview_{string_name}_processed.csv\"\n",
    "df_overview_processed.to_csv(final_processed_report_name)\n",
    "final_processed_report_name"
   ]
  },
  {
   "cell_type": "code",
   "execution_count": 24,
   "id": "cda3881a-2368-4ca9-b2d4-84be291aa9cf",
   "metadata": {},
   "outputs": [
    {
     "data": {
      "text/html": [
       "<div>\n",
       "<style scoped>\n",
       "    .dataframe tbody tr th:only-of-type {\n",
       "        vertical-align: middle;\n",
       "    }\n",
       "\n",
       "    .dataframe tbody tr th {\n",
       "        vertical-align: top;\n",
       "    }\n",
       "\n",
       "    .dataframe thead th {\n",
       "        text-align: right;\n",
       "    }\n",
       "</style>\n",
       "<table border=\"1\" class=\"dataframe\">\n",
       "  <thead>\n",
       "    <tr style=\"text-align: right;\">\n",
       "      <th></th>\n",
       "      <th>eopatch_location_id</th>\n",
       "      <th>eopatch_processed_exists</th>\n",
       "      <th>len_data</th>\n",
       "      <th>len_bands</th>\n",
       "      <th>len_time_interval</th>\n",
       "      <th>len_timestamp</th>\n",
       "      <th>error_processed</th>\n",
       "    </tr>\n",
       "  </thead>\n",
       "  <tbody>\n",
       "    <tr>\n",
       "      <th>17644</th>\n",
       "      <td>start_2020-04-01_end_2021-04-01_monitoring_cla...</td>\n",
       "      <td>False</td>\n",
       "      <td>NaN</td>\n",
       "      <td>NaN</td>\n",
       "      <td>NaN</td>\n",
       "      <td>NaN</td>\n",
       "      <td>'bands'</td>\n",
       "    </tr>\n",
       "    <tr>\n",
       "      <th>17645</th>\n",
       "      <td>start_2021-04-01_end_2022-04-01_monitoring_cla...</td>\n",
       "      <td>False</td>\n",
       "      <td>NaN</td>\n",
       "      <td>NaN</td>\n",
       "      <td>NaN</td>\n",
       "      <td>NaN</td>\n",
       "      <td>'bands'</td>\n",
       "    </tr>\n",
       "    <tr>\n",
       "      <th>17646</th>\n",
       "      <td>start_2021-04-01_end_2022-04-01_monitoring_cla...</td>\n",
       "      <td>False</td>\n",
       "      <td>NaN</td>\n",
       "      <td>NaN</td>\n",
       "      <td>NaN</td>\n",
       "      <td>NaN</td>\n",
       "      <td>'bands'</td>\n",
       "    </tr>\n",
       "    <tr>\n",
       "      <th>17647</th>\n",
       "      <td>start_2020-04-01_end_2021-04-01_monitoring_cla...</td>\n",
       "      <td>False</td>\n",
       "      <td>NaN</td>\n",
       "      <td>NaN</td>\n",
       "      <td>NaN</td>\n",
       "      <td>NaN</td>\n",
       "      <td>'bands'</td>\n",
       "    </tr>\n",
       "    <tr>\n",
       "      <th>17648</th>\n",
       "      <td>start_2020-04-01_end_2021-04-01_monitoring_cla...</td>\n",
       "      <td>False</td>\n",
       "      <td>NaN</td>\n",
       "      <td>NaN</td>\n",
       "      <td>NaN</td>\n",
       "      <td>NaN</td>\n",
       "      <td>'bands'</td>\n",
       "    </tr>\n",
       "    <tr>\n",
       "      <th>...</th>\n",
       "      <td>...</td>\n",
       "      <td>...</td>\n",
       "      <td>...</td>\n",
       "      <td>...</td>\n",
       "      <td>...</td>\n",
       "      <td>...</td>\n",
       "      <td>...</td>\n",
       "    </tr>\n",
       "    <tr>\n",
       "      <th>104877</th>\n",
       "      <td>start_2023-01-01_end_2023-09-01_monitoring_cla...</td>\n",
       "      <td>False</td>\n",
       "      <td>NaN</td>\n",
       "      <td>NaN</td>\n",
       "      <td>NaN</td>\n",
       "      <td>NaN</td>\n",
       "      <td>'bands'</td>\n",
       "    </tr>\n",
       "    <tr>\n",
       "      <th>104878</th>\n",
       "      <td>start_2023-01-01_end_2023-09-01_monitoring_cla...</td>\n",
       "      <td>False</td>\n",
       "      <td>NaN</td>\n",
       "      <td>NaN</td>\n",
       "      <td>NaN</td>\n",
       "      <td>NaN</td>\n",
       "      <td>'bands'</td>\n",
       "    </tr>\n",
       "    <tr>\n",
       "      <th>104879</th>\n",
       "      <td>start_2023-01-01_end_2023-09-01_monitoring_cla...</td>\n",
       "      <td>False</td>\n",
       "      <td>NaN</td>\n",
       "      <td>NaN</td>\n",
       "      <td>NaN</td>\n",
       "      <td>NaN</td>\n",
       "      <td>'bands'</td>\n",
       "    </tr>\n",
       "    <tr>\n",
       "      <th>104887</th>\n",
       "      <td>start_2023-01-01_end_2023-09-01_monitoring_cla...</td>\n",
       "      <td>False</td>\n",
       "      <td>NaN</td>\n",
       "      <td>NaN</td>\n",
       "      <td>NaN</td>\n",
       "      <td>NaN</td>\n",
       "      <td>'bands'</td>\n",
       "    </tr>\n",
       "    <tr>\n",
       "      <th>104891</th>\n",
       "      <td>start_2023-01-01_end_2023-09-01_monitoring_cla...</td>\n",
       "      <td>False</td>\n",
       "      <td>NaN</td>\n",
       "      <td>NaN</td>\n",
       "      <td>NaN</td>\n",
       "      <td>NaN</td>\n",
       "      <td>'bands'</td>\n",
       "    </tr>\n",
       "  </tbody>\n",
       "</table>\n",
       "<p>17694 rows × 7 columns</p>\n",
       "</div>"
      ],
      "text/plain": [
       "                                      eopatch_location_id  \\\n",
       "17644   start_2020-04-01_end_2021-04-01_monitoring_cla...   \n",
       "17645   start_2021-04-01_end_2022-04-01_monitoring_cla...   \n",
       "17646   start_2021-04-01_end_2022-04-01_monitoring_cla...   \n",
       "17647   start_2020-04-01_end_2021-04-01_monitoring_cla...   \n",
       "17648   start_2020-04-01_end_2021-04-01_monitoring_cla...   \n",
       "...                                                   ...   \n",
       "104877  start_2023-01-01_end_2023-09-01_monitoring_cla...   \n",
       "104878  start_2023-01-01_end_2023-09-01_monitoring_cla...   \n",
       "104879  start_2023-01-01_end_2023-09-01_monitoring_cla...   \n",
       "104887  start_2023-01-01_end_2023-09-01_monitoring_cla...   \n",
       "104891  start_2023-01-01_end_2023-09-01_monitoring_cla...   \n",
       "\n",
       "        eopatch_processed_exists  len_data  len_bands  len_time_interval  \\\n",
       "17644                      False       NaN        NaN                NaN   \n",
       "17645                      False       NaN        NaN                NaN   \n",
       "17646                      False       NaN        NaN                NaN   \n",
       "17647                      False       NaN        NaN                NaN   \n",
       "17648                      False       NaN        NaN                NaN   \n",
       "...                          ...       ...        ...                ...   \n",
       "104877                     False       NaN        NaN                NaN   \n",
       "104878                     False       NaN        NaN                NaN   \n",
       "104879                     False       NaN        NaN                NaN   \n",
       "104887                     False       NaN        NaN                NaN   \n",
       "104891                     False       NaN        NaN                NaN   \n",
       "\n",
       "        len_timestamp error_processed  \n",
       "17644             NaN         'bands'  \n",
       "17645             NaN         'bands'  \n",
       "17646             NaN         'bands'  \n",
       "17647             NaN         'bands'  \n",
       "17648             NaN         'bands'  \n",
       "...               ...             ...  \n",
       "104877            NaN         'bands'  \n",
       "104878            NaN         'bands'  \n",
       "104879            NaN         'bands'  \n",
       "104887            NaN         'bands'  \n",
       "104891            NaN         'bands'  \n",
       "\n",
       "[17694 rows x 7 columns]"
      ]
     },
     "execution_count": 24,
     "metadata": {},
     "output_type": "execute_result"
    }
   ],
   "source": [
    "df_processed[df_processed['eopatch_processed_exists']==False]"
   ]
  },
  {
   "cell_type": "code",
   "execution_count": 25,
   "id": "75151e3a-3330-48cc-ba7c-53edeeb24f46",
   "metadata": {},
   "outputs": [
    {
     "data": {
      "text/html": [
       "<div>\n",
       "<style scoped>\n",
       "    .dataframe tbody tr th:only-of-type {\n",
       "        vertical-align: middle;\n",
       "    }\n",
       "\n",
       "    .dataframe tbody tr th {\n",
       "        vertical-align: top;\n",
       "    }\n",
       "\n",
       "    .dataframe thead th {\n",
       "        text-align: right;\n",
       "    }\n",
       "</style>\n",
       "<table border=\"1\" class=\"dataframe\">\n",
       "  <thead>\n",
       "    <tr style=\"text-align: right;\">\n",
       "      <th></th>\n",
       "      <th>eopatch_location_id</th>\n",
       "      <th>eopatch_processed_exists</th>\n",
       "      <th>len_data</th>\n",
       "      <th>len_bands</th>\n",
       "      <th>len_time_interval</th>\n",
       "      <th>len_timestamp</th>\n",
       "      <th>error_processed</th>\n",
       "    </tr>\n",
       "  </thead>\n",
       "  <tbody>\n",
       "    <tr>\n",
       "      <th>0</th>\n",
       "      <td>start_2022-08-01_end_2023-07-01_monitoring_cla...</td>\n",
       "      <td>True</td>\n",
       "      <td>4.0</td>\n",
       "      <td>10.0</td>\n",
       "      <td>2.0</td>\n",
       "      <td>20.0</td>\n",
       "      <td>None</td>\n",
       "    </tr>\n",
       "    <tr>\n",
       "      <th>1</th>\n",
       "      <td>start_2022-08-01_end_2023-07-01_monitoring_cla...</td>\n",
       "      <td>True</td>\n",
       "      <td>4.0</td>\n",
       "      <td>10.0</td>\n",
       "      <td>2.0</td>\n",
       "      <td>19.0</td>\n",
       "      <td>None</td>\n",
       "    </tr>\n",
       "    <tr>\n",
       "      <th>2</th>\n",
       "      <td>start_2022-08-01_end_2023-07-01_monitoring_cla...</td>\n",
       "      <td>True</td>\n",
       "      <td>4.0</td>\n",
       "      <td>10.0</td>\n",
       "      <td>2.0</td>\n",
       "      <td>44.0</td>\n",
       "      <td>None</td>\n",
       "    </tr>\n",
       "    <tr>\n",
       "      <th>3</th>\n",
       "      <td>start_2022-08-01_end_2023-07-01_monitoring_cla...</td>\n",
       "      <td>True</td>\n",
       "      <td>4.0</td>\n",
       "      <td>10.0</td>\n",
       "      <td>2.0</td>\n",
       "      <td>23.0</td>\n",
       "      <td>None</td>\n",
       "    </tr>\n",
       "    <tr>\n",
       "      <th>4</th>\n",
       "      <td>start_2022-08-01_end_2023-07-01_monitoring_cla...</td>\n",
       "      <td>True</td>\n",
       "      <td>4.0</td>\n",
       "      <td>10.0</td>\n",
       "      <td>2.0</td>\n",
       "      <td>26.0</td>\n",
       "      <td>None</td>\n",
       "    </tr>\n",
       "    <tr>\n",
       "      <th>...</th>\n",
       "      <td>...</td>\n",
       "      <td>...</td>\n",
       "      <td>...</td>\n",
       "      <td>...</td>\n",
       "      <td>...</td>\n",
       "      <td>...</td>\n",
       "      <td>...</td>\n",
       "    </tr>\n",
       "    <tr>\n",
       "      <th>108030</th>\n",
       "      <td>start_2023-01-01_end_2023-09-01_monitoring_cla...</td>\n",
       "      <td>True</td>\n",
       "      <td>4.0</td>\n",
       "      <td>10.0</td>\n",
       "      <td>2.0</td>\n",
       "      <td>21.0</td>\n",
       "      <td>None</td>\n",
       "    </tr>\n",
       "    <tr>\n",
       "      <th>108031</th>\n",
       "      <td>start_2023-01-01_end_2023-09-01_monitoring_cla...</td>\n",
       "      <td>True</td>\n",
       "      <td>4.0</td>\n",
       "      <td>10.0</td>\n",
       "      <td>2.0</td>\n",
       "      <td>23.0</td>\n",
       "      <td>None</td>\n",
       "    </tr>\n",
       "    <tr>\n",
       "      <th>108032</th>\n",
       "      <td>start_2023-01-01_end_2023-09-01_monitoring_cla...</td>\n",
       "      <td>True</td>\n",
       "      <td>4.0</td>\n",
       "      <td>10.0</td>\n",
       "      <td>2.0</td>\n",
       "      <td>56.0</td>\n",
       "      <td>None</td>\n",
       "    </tr>\n",
       "    <tr>\n",
       "      <th>108033</th>\n",
       "      <td>start_2023-01-01_end_2023-09-01_monitoring_cla...</td>\n",
       "      <td>True</td>\n",
       "      <td>4.0</td>\n",
       "      <td>10.0</td>\n",
       "      <td>2.0</td>\n",
       "      <td>14.0</td>\n",
       "      <td>None</td>\n",
       "    </tr>\n",
       "    <tr>\n",
       "      <th>108034</th>\n",
       "      <td>start_2023-01-01_end_2023-09-01_monitoring_cla...</td>\n",
       "      <td>True</td>\n",
       "      <td>4.0</td>\n",
       "      <td>10.0</td>\n",
       "      <td>2.0</td>\n",
       "      <td>20.0</td>\n",
       "      <td>None</td>\n",
       "    </tr>\n",
       "  </tbody>\n",
       "</table>\n",
       "<p>90341 rows × 7 columns</p>\n",
       "</div>"
      ],
      "text/plain": [
       "                                      eopatch_location_id  \\\n",
       "0       start_2022-08-01_end_2023-07-01_monitoring_cla...   \n",
       "1       start_2022-08-01_end_2023-07-01_monitoring_cla...   \n",
       "2       start_2022-08-01_end_2023-07-01_monitoring_cla...   \n",
       "3       start_2022-08-01_end_2023-07-01_monitoring_cla...   \n",
       "4       start_2022-08-01_end_2023-07-01_monitoring_cla...   \n",
       "...                                                   ...   \n",
       "108030  start_2023-01-01_end_2023-09-01_monitoring_cla...   \n",
       "108031  start_2023-01-01_end_2023-09-01_monitoring_cla...   \n",
       "108032  start_2023-01-01_end_2023-09-01_monitoring_cla...   \n",
       "108033  start_2023-01-01_end_2023-09-01_monitoring_cla...   \n",
       "108034  start_2023-01-01_end_2023-09-01_monitoring_cla...   \n",
       "\n",
       "        eopatch_processed_exists  len_data  len_bands  len_time_interval  \\\n",
       "0                           True       4.0       10.0                2.0   \n",
       "1                           True       4.0       10.0                2.0   \n",
       "2                           True       4.0       10.0                2.0   \n",
       "3                           True       4.0       10.0                2.0   \n",
       "4                           True       4.0       10.0                2.0   \n",
       "...                          ...       ...        ...                ...   \n",
       "108030                      True       4.0       10.0                2.0   \n",
       "108031                      True       4.0       10.0                2.0   \n",
       "108032                      True       4.0       10.0                2.0   \n",
       "108033                      True       4.0       10.0                2.0   \n",
       "108034                      True       4.0       10.0                2.0   \n",
       "\n",
       "        len_timestamp error_processed  \n",
       "0                20.0            None  \n",
       "1                19.0            None  \n",
       "2                44.0            None  \n",
       "3                23.0            None  \n",
       "4                26.0            None  \n",
       "...               ...             ...  \n",
       "108030           21.0            None  \n",
       "108031           23.0            None  \n",
       "108032           56.0            None  \n",
       "108033           14.0            None  \n",
       "108034           20.0            None  \n",
       "\n",
       "[90341 rows x 7 columns]"
      ]
     },
     "execution_count": 25,
     "metadata": {},
     "output_type": "execute_result"
    }
   ],
   "source": [
    "df_processed[df_processed['eopatch_processed_exists']==True]"
   ]
  },
  {
   "cell_type": "markdown",
   "id": "66810c38-98b7-4498-a05c-c420571626c1",
   "metadata": {},
   "source": [
    "#### B) INPUT_MODEL"
   ]
  },
  {
   "cell_type": "code",
   "execution_count": 27,
   "id": "688d5628-5c84-484a-aa03-89e10e325779",
   "metadata": {},
   "outputs": [],
   "source": [
    "# df_input_model, df_overview_input = processing.check_input_model_eopatches_features_based_geopackage(df, \n",
    "#                                                                                                      eopatch_path=NEW_EOPATCH_PATH_INPUT_MODEL,\n",
    "#                                                                                                      label_eopatch_path=LABEL_EOPATCH_LOCATION)"
   ]
  },
  {
   "cell_type": "code",
   "execution_count": null,
   "id": "9f2704de-fc6c-4735-834f-2ba68e01001d",
   "metadata": {},
   "outputs": [],
   "source": [
    "# df_overview_input"
   ]
  },
  {
   "cell_type": "code",
   "execution_count": null,
   "id": "c8427554-01dd-4e38-98b8-3f33bafc077e",
   "metadata": {},
   "outputs": [],
   "source": [
    "# df_input_model[(df_input_model['label_unique'].notna()) & \n",
    "#                 (df_input_model['geopackage_class'] != df_input_model['label_unique'])]"
   ]
  },
  {
   "cell_type": "code",
   "execution_count": null,
   "id": "aa8360cd-8956-4fef-b499-5960cf8d2a6a",
   "metadata": {},
   "outputs": [],
   "source": [
    "# os.makedirs(REPORT_PATH, exist_ok=True)\n",
    "# final_processed_report_name = f\"{REPORT_PATH}/overview_{string_name}_input_model.csv\"\n",
    "# df_overview_input.to_csv(final_processed_report_name)\n",
    "# final_processed_report_name"
   ]
  },
  {
   "cell_type": "markdown",
   "id": "93505652-d253-4a01-9adf-cc385e8aad3a",
   "metadata": {},
   "source": [
    "## 5. Merge Data and Save"
   ]
  },
  {
   "cell_type": "markdown",
   "id": "fe5b0518-48c0-4365-804e-aec719c44cf8",
   "metadata": {},
   "source": [
    "### a) Processed Data"
   ]
  },
  {
   "cell_type": "code",
   "execution_count": 29,
   "id": "f43317a9-dad4-4c89-8a3b-6e015c410b67",
   "metadata": {},
   "outputs": [
    {
     "data": {
      "text/plain": [
       "(108035, 44)"
      ]
     },
     "execution_count": 29,
     "metadata": {},
     "output_type": "execute_result"
    }
   ],
   "source": [
    "# Usando pd.merge para juntar os DataFrames\n",
    "df_merged = pd.merge(df, \n",
    "                     df_processed, \n",
    "                     left_on=LABEL_EOPATCH_LOCATION,\n",
    "                     right_on='eopatch_location_id', \n",
    "                     how='left')\n",
    "df_merged.shape"
   ]
  },
  {
   "cell_type": "code",
   "execution_count": 32,
   "id": "8bddbaf6-4eeb-4cab-87ff-7e04e8599129",
   "metadata": {},
   "outputs": [
    {
     "data": {
      "text/plain": [
       "'/agrilearn_app/output/experiment_12/data/geopackage/processed/SOYBEAN_48257_CORN_33809_SUGAR_CANE_17640_WHEAT_4226_COTTON_3178_RICE_925_test.gpkg/processed/SOYBEAN_48257_CORN_33809_SUGAR_CANE_17640_WHEAT_4226_COTTON_3178_RICE_925.gpkg'"
      ]
     },
     "execution_count": 32,
     "metadata": {},
     "output_type": "execute_result"
    }
   ],
   "source": [
    "result_string = processing.get_geopackage_name(df_merged, label_monitoring_class='monitoring_class')\n",
    "GEOPACKAGE_PROCESSED_PATH = os.path.join(GEOPACKAGE_RAW_PATH.split('/raw/')[0]+\"/\", \"processed\", result_string+ \".gpkg\")\n",
    "GEOPACKAGE_PROCESSED_PATH"
   ]
  },
  {
   "cell_type": "code",
   "execution_count": 36,
   "id": "e2430035-056c-4b34-9b3e-0f5626491013",
   "metadata": {},
   "outputs": [
    {
     "data": {
      "text/plain": [
       "monitoring_class\n",
       "SUGAR_CANE    17640\n",
       "COTTON           54\n",
       "Name: count, dtype: int64"
      ]
     },
     "execution_count": 36,
     "metadata": {},
     "output_type": "execute_result"
    }
   ],
   "source": [
    "df_merged[df_merged['eopatch_processed_exists'] == False]['monitoring_class'].value_counts()"
   ]
  },
  {
   "cell_type": "code",
   "execution_count": null,
   "id": "f24eb087-5f90-4e07-8fb1-871fe806be7a",
   "metadata": {},
   "outputs": [],
   "source": []
  },
  {
   "cell_type": "markdown",
   "id": "7e234ae2-5f18-4209-9af9-4b7e6d5e89d8",
   "metadata": {},
   "source": [
    "### b) Input Model"
   ]
  },
  {
   "cell_type": "code",
   "execution_count": 30,
   "id": "76671d19-219b-45d3-a2b6-556029764e36",
   "metadata": {},
   "outputs": [],
   "source": [
    "# df_full = pd.merge(df_merged, df_input_model, left_on='eopath_location', right_on='eopatch_location_id', how='left')\n",
    "# df_full.shape"
   ]
  },
  {
   "cell_type": "code",
   "execution_count": 31,
   "id": "2612d562-f8ff-48f0-a738-1262f19e81b0",
   "metadata": {},
   "outputs": [],
   "source": [
    "# df_full.to_file(GEOPACKAGE_PROCESSED_PATH, \n",
    "#                 driver='GPKG', \n",
    "#                 engine='fiona')"
   ]
  },
  {
   "cell_type": "code",
   "execution_count": null,
   "id": "a0e9c9cc-9f7b-4ce2-b2e7-ac4fa35e1bf4",
   "metadata": {},
   "outputs": [],
   "source": []
  },
  {
   "cell_type": "code",
   "execution_count": null,
   "id": "45074a65-b537-45c6-9e82-93e5725aec6c",
   "metadata": {},
   "outputs": [],
   "source": []
  }
 ],
 "metadata": {
  "kernelspec": {
   "display_name": "Python 3 (ipykernel)",
   "language": "python",
   "name": "python3"
  },
  "language_info": {
   "codemirror_mode": {
    "name": "ipython",
    "version": 3
   },
   "file_extension": ".py",
   "mimetype": "text/x-python",
   "name": "python",
   "nbconvert_exporter": "python",
   "pygments_lexer": "ipython3",
   "version": "3.10.12"
  }
 },
 "nbformat": 4,
 "nbformat_minor": 5
}
