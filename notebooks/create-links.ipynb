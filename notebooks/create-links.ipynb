{
 "cells": [
  {
   "cell_type": "code",
   "execution_count": 1,
   "id": "576fd74f-2e60-4afc-813e-14c723b6f8e3",
   "metadata": {},
   "outputs": [
    {
     "name": "stderr",
     "output_type": "stream",
     "text": [
      "2025-04-21 19:34:25.601149: I tensorflow/core/util/port.cc:153] oneDNN custom operations are on. You may see slightly different numerical results due to floating-point round-off errors from different computation orders. To turn them off, set the environment variable `TF_ENABLE_ONEDNN_OPTS=0`.\n",
      "2025-04-21 19:34:25.617103: E external/local_xla/xla/stream_executor/cuda/cuda_fft.cc:477] Unable to register cuFFT factory: Attempting to register factory for plugin cuFFT when one has already been registered\n",
      "WARNING: All log messages before absl::InitializeLog() is called are written to STDERR\n",
      "E0000 00:00:1745264065.637223     495 cuda_dnn.cc:8310] Unable to register cuDNN factory: Attempting to register factory for plugin cuDNN when one has already been registered\n",
      "E0000 00:00:1745264065.643442     495 cuda_blas.cc:1418] Unable to register cuBLAS factory: Attempting to register factory for plugin cuBLAS when one has already been registered\n",
      "2025-04-21 19:34:25.663741: I tensorflow/core/platform/cpu_feature_guard.cc:210] This TensorFlow binary is optimized to use available CPU instructions in performance-critical operations.\n",
      "To enable the following instructions: AVX2 AVX512F AVX512_VNNI FMA, in other operations, rebuild TensorFlow with the appropriate compiler flags.\n"
     ]
    }
   ],
   "source": [
    "import sys\n",
    "sys.path.append(\"../agrilearn/submodules/commons/\")\n",
    "import glob\n",
    "import re\n",
    "import os\n",
    "import yaml\n",
    "import subprocess\n",
    "from pathlib import Path\n",
    "from shutil import rmtree \n",
    "from agrilearn.commons.s3 import s3_utils\n",
    "from agrilearn.crop_classification.processing import create_symlinks\n",
    "from agrilearn.crop_classification import yaml_utils"
   ]
  },
  {
   "cell_type": "code",
   "execution_count": 2,
   "id": "c47e4fee-ae50-47ad-8f54-769aff0e9e6e",
   "metadata": {},
   "outputs": [
    {
     "name": "stdout",
     "output_type": "stream",
     "text": [
      "Criando links simbólicos...\n",
      "Diretórios de entrada: ['/agrilearn_app/datasets/CORN/2020_2021/eopatch/processed/', '/agrilearn_app/datasets/CORN/2021_2022/eopatch/processed/', '/agrilearn_app/datasets/CORN/2022_2023/eopatch/processed/', '/agrilearn_app/datasets/CORN/2023_2023/eopatch/processed/', '/agrilearn_app/datasets/COTTON/2020_2021/eopatch/processed/', '/agrilearn_app/datasets/COTTON/2021_2022/eopatch/processed/', '/agrilearn_app/datasets/COTTON/2022_2023/eopatch/processed/', '/agrilearn_app/datasets/COTTON/2023_2023/eopatch/processed/', '/agrilearn_app/datasets/RICE/2017_2018/eopatch/processed/', '/agrilearn_app/datasets/RICE/2018_2019/eopatch/processed/', '/agrilearn_app/datasets/RICE/2019_2020/eopatch/processed/', '/agrilearn_app/datasets/RICE/2021_2022/eopatch/processed/', '/agrilearn_app/datasets/RICE/2023_2024/eopatch/processed/', '/agrilearn_app/datasets/SOYBEAN/2020_2021/eopatch/processed/', '/agrilearn_app/datasets/SOYBEAN/2021_2022/eopatch/processed/', '/agrilearn_app/datasets/SOYBEAN/2022_2023/eopatch/processed/', '/agrilearn_app/datasets/SUGAR_CANE/2020_2021/eopatch/processed/', '/agrilearn_app/datasets/SUGAR_CANE/2021_2022/eopatch/processed/', '/agrilearn_app/datasets/SUGAR_CANE/2022_2023/eopatch/processed/', '/agrilearn_app/datasets/WHEAT/2023_2023/eopatch/processed/']\n",
      "Diretório de links: /agrilearn_app/output/experiment_12/data/eopatch/processed/\n",
      "Modo de sobrescrita: True\n",
      "Removendo o diretório '/agrilearn_app/output/experiment_12/data/eopatch/processed' por completo...\n"
     ]
    },
    {
     "name": "stderr",
     "output_type": "stream",
     "text": [
      "2025-04-21 19:58:07,348 - INFO - Iniciando a execução da função 'count_symlinks'\n",
      "2025-04-21 19:58:07,367 - INFO - Tempo de execução da função 'count_symlinks': 0.02 segundos\n"
     ]
    },
    {
     "name": "stdout",
     "output_type": "stream",
     "text": [
      "Diretório '/agrilearn_app/output/experiment_12/data/eopatch/processed' removido.\n",
      "Diretório recriado: /agrilearn_app/output/experiment_12/data/eopatch/processed\n",
      "O diretório '/agrilearn_app/output/experiment_12/data/eopatch/processed' foi recriado vazio com sucesso.\n",
      "Contando a quantidade de links simbólicos... \n",
      "Quantidade inicial de links simbólicos em '/agrilearn_app/output/experiment_12/data/eopatch/processed': 0\n"
     ]
    },
    {
     "data": {
      "application/vnd.jupyter.widget-view+json": {
       "model_id": "79df131decb04e4193cdf16d55ebc1ed",
       "version_major": 2,
       "version_minor": 0
      },
      "text/plain": [
       "  0%|          | 0/20 [00:00<?, ?it/s]"
      ]
     },
     "metadata": {},
     "output_type": "display_data"
    },
    {
     "name": "stderr",
     "output_type": "stream",
     "text": [
      "2025-04-21 20:23:36,082 - INFO - Iniciando a execução da função 'count_symlinks'\n",
      "2025-04-21 20:28:18,825 - INFO - Tempo de execução da função 'count_symlinks': 282.74 segundos\n"
     ]
    },
    {
     "name": "stdout",
     "output_type": "stream",
     "text": [
      "Quantidade final de links simbólicos em '/agrilearn_app/output/experiment_12/data/eopatch/processed': 216010\n",
      "Total de links tentados: 216010\n",
      "Total de links criados: 216010\n",
      "Total de erros: 0\n"
     ]
    }
   ],
   "source": [
    "EOPATCH_PROCESSED = [\"/agrilearn_app/datasets/CORN/2020_2021/eopatch/processed/\",\n",
    "                     \"/agrilearn_app/datasets/CORN/2021_2022/eopatch/processed/\",\n",
    "                     \"/agrilearn_app/datasets/CORN/2022_2023/eopatch/processed/\",\n",
    "                     \"/agrilearn_app/datasets/CORN/2023_2023/eopatch/processed/\",\n",
    "                     \"/agrilearn_app/datasets/COTTON/2020_2021/eopatch/processed/\",\n",
    "                     \"/agrilearn_app/datasets/COTTON/2021_2022/eopatch/processed/\",\n",
    "                     \"/agrilearn_app/datasets/COTTON/2022_2023/eopatch/processed/\",\n",
    "                     \"/agrilearn_app/datasets/COTTON/2023_2023/eopatch/processed/\",\n",
    "                     \"/agrilearn_app/datasets/RICE/2017_2018/eopatch/processed/\",\n",
    "                     \"/agrilearn_app/datasets/RICE/2018_2019/eopatch/processed/\",\n",
    "                     \"/agrilearn_app/datasets/RICE/2019_2020/eopatch/processed/\",\n",
    "                     \"/agrilearn_app/datasets/RICE/2021_2022/eopatch/processed/\",\n",
    "                     \"/agrilearn_app/datasets/RICE/2023_2024/eopatch/processed/\",\n",
    "                     \"/agrilearn_app/datasets/SOYBEAN/2020_2021/eopatch/processed/\",\n",
    "                     \"/agrilearn_app/datasets/SOYBEAN/2021_2022/eopatch/processed/\",\n",
    "                     \"/agrilearn_app/datasets/SOYBEAN/2022_2023/eopatch/processed/\",\n",
    "                     \"/agrilearn_app/datasets/SUGAR_CANE/2020_2021/eopatch/processed/\",\n",
    "                     \"/agrilearn_app/datasets/SUGAR_CANE/2021_2022/eopatch/processed/\",\n",
    "                     \"/agrilearn_app/datasets/SUGAR_CANE/2022_2023/eopatch/processed/\",\n",
    "                     \"/agrilearn_app/datasets/WHEAT/2023_2023/eopatch/processed/\"]\n",
    "\n",
    "EOPATCH_LINKS_PROCESSED = \"/agrilearn_app/output/experiment_13/data/eopatch/processed/\"\n",
    "\n",
    "create_symlinks(EOPATCH_PROCESSED, \n",
    "                EOPATCH_LINKS_PROCESSED, \n",
    "                overwrite_links=False)"
   ]
  },
  {
   "cell_type": "code",
   "execution_count": null,
   "id": "21e58529-b231-4c9b-a1e3-014f0f85a2ac",
   "metadata": {},
   "outputs": [],
   "source": []
  },
  {
   "cell_type": "code",
   "execution_count": null,
   "id": "169306e1-8b45-47b6-9496-8b93b3c8a97c",
   "metadata": {},
   "outputs": [],
   "source": []
  },
  {
   "cell_type": "code",
   "execution_count": null,
   "id": "12895b27-bec5-45bc-a844-09c51bc54c2a",
   "metadata": {},
   "outputs": [],
   "source": []
  },
  {
   "cell_type": "code",
   "execution_count": null,
   "id": "eacca5e9-7716-4daf-a3a2-033fe529c9ad",
   "metadata": {},
   "outputs": [],
   "source": []
  },
  {
   "cell_type": "code",
   "execution_count": null,
   "id": "6f656811-d747-4b84-b042-a88b5458a8e8",
   "metadata": {},
   "outputs": [],
   "source": []
  },
  {
   "cell_type": "code",
   "execution_count": null,
   "id": "c791f1bd-adb9-49a8-aa89-51735d62c435",
   "metadata": {},
   "outputs": [],
   "source": []
  },
  {
   "cell_type": "code",
   "execution_count": null,
   "id": "18f53df5-37bd-4df7-bb4a-69f6bd5b9df3",
   "metadata": {},
   "outputs": [],
   "source": [
    "EOPATCH_INPUT_MODEL = [\"/agrilearn_app/datasets/CORN/eopatch/input_model/\",\n",
    "                             \"/agrilearn_app/datasets/SOYBEAN/eopatch/input_model/\",\n",
    "                             \"/agrilearn_app/datasets/SUGAR_CANE/eopatch/input_model/\",\n",
    "                             \"/agrilearn_app/datasets/COTTON/eopatch/input_model/\",\n",
    "                             \"/agrilearn_app/datasets/RICE/eopatch/input_model/\",\n",
    "                             \"/agrilearn_app/datasets/WHEAT/eopatch/input_model/\",\n",
    "                             \"/agrilearn_app/datasets/baselines/teste_pre_safra_2024_2025/eopatch/input_model/\"]\n",
    "\n",
    "EOPATCH_LINKS_INPUT_MODEL = \"/agrilearn_app/output/experiment_12/data/eopatch/input_model/\"\n",
    "create_symlinks(EOPATCH_INPUT_MODEL, EOPATCH_LINKS_INPUT_MODEL, overwrite_links=True)\n",
    "print(f\"Links simbólicos criados em: {EOPATCH_LINKS_INPUT_MODEL}\")"
   ]
  },
  {
   "cell_type": "code",
   "execution_count": null,
   "id": "afa5c61c-accf-4606-bb4b-52f651fd6a13",
   "metadata": {},
   "outputs": [],
   "source": []
  },
  {
   "cell_type": "code",
   "execution_count": null,
   "id": "fdff3ad0-f2fb-4469-a5c5-5424f20fbce3",
   "metadata": {},
   "outputs": [],
   "source": []
  }
 ],
 "metadata": {
  "kernelspec": {
   "display_name": "Python 3 (ipykernel)",
   "language": "python",
   "name": "python3"
  },
  "language_info": {
   "codemirror_mode": {
    "name": "ipython",
    "version": 3
   },
   "file_extension": ".py",
   "mimetype": "text/x-python",
   "name": "python",
   "nbconvert_exporter": "python",
   "pygments_lexer": "ipython3",
   "version": "3.10.12"
  }
 },
 "nbformat": 4,
 "nbformat_minor": 5
}
