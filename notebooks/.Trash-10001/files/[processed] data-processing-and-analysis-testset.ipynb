{
 "cells": [
  {
   "cell_type": "code",
   "execution_count": 1,
   "id": "6c01525f-1142-431e-a653-91d388053abd",
   "metadata": {},
   "outputs": [],
   "source": [
    "import boto3\n",
    "import geopandas as gpd\n",
    "import pandas as pd\n",
    "import folium\n",
    "import numpy as np\n",
    "from folium import GeoJson\n",
    "from io import BytesIO"
   ]
  },
  {
   "cell_type": "code",
   "execution_count": 2,
   "id": "9a5c4767-cb01-4969-8549-630c4ab903e4",
   "metadata": {},
   "outputs": [
    {
     "name": "stderr",
     "output_type": "stream",
     "text": [
      "2025-01-16 16:35:19.641895: I tensorflow/core/util/port.cc:153] oneDNN custom operations are on. You may see slightly different numerical results due to floating-point round-off errors from different computation orders. To turn them off, set the environment variable `TF_ENABLE_ONEDNN_OPTS=0`.\n",
      "2025-01-16 16:35:19.660233: E external/local_xla/xla/stream_executor/cuda/cuda_fft.cc:477] Unable to register cuFFT factory: Attempting to register factory for plugin cuFFT when one has already been registered\n",
      "WARNING: All log messages before absl::InitializeLog() is called are written to STDERR\n",
      "E0000 00:00:1737045319.680203    9880 cuda_dnn.cc:8310] Unable to register cuDNN factory: Attempting to register factory for plugin cuDNN when one has already been registered\n",
      "E0000 00:00:1737045319.686300    9880 cuda_blas.cc:1418] Unable to register cuBLAS factory: Attempting to register factory for plugin cuBLAS when one has already been registered\n",
      "2025-01-16 16:35:19.706681: I tensorflow/core/platform/cpu_feature_guard.cc:210] This TensorFlow binary is optimized to use available CPU instructions in performance-critical operations.\n",
      "To enable the following instructions: AVX2 AVX512F AVX512_VNNI FMA, in other operations, rebuild TensorFlow with the appropriate compiler flags.\n",
      "W0000 00:00:1737045323.372140    9880 gpu_device.cc:2344] Cannot dlopen some GPU libraries. Please make sure the missing libraries mentioned above are installed properly if you would like to use GPU. Follow the guide at https://www.tensorflow.org/install/gpu for how to download and setup the required libraries for your platform.\n",
      "Skipping registering GPU devices...\n"
     ]
    }
   ],
   "source": [
    "from agrilearn.crop_classification import s3_utils, str_utils\n",
    "import sys\n",
    "sys.path.append(\"/agrilearn_app/agrilearn/\")\n",
    "from agrilearn.crop_classification import evaluate_utils as eval_util\n",
    "from agrilearn.crop_classification import yaml_utils, processing"
   ]
  },
  {
   "cell_type": "markdown",
   "id": "6c7cc194-d9bd-479b-bac2-1071d374026d",
   "metadata": {},
   "source": [
    "### Global Variables"
   ]
  },
  {
   "cell_type": "code",
   "execution_count": 3,
   "id": "e1e53860-db8a-448c-87f5-6f1b02aacf01",
   "metadata": {},
   "outputs": [],
   "source": [
    "config = yaml_utils.load_config(\"/agrilearn_app/output/experiment/experiment_10.yaml\")"
   ]
  },
  {
   "cell_type": "code",
   "execution_count": 4,
   "id": "fa07bbfc-5a76-4258-b049-54d989111178",
   "metadata": {},
   "outputs": [
    {
     "data": {
      "text/plain": [
       "{'data': {'geopackage_train_data_path': '/agrilearn_app/datasets/base/geopackage/processed/SOYBEAN_29670_CORN_5710_COTTON_1639_RICE_1173.gpkg',\n",
       "  'label_dataset_part': 'dataset_part',\n",
       "  'eopatch_folder': '/agrilearn_app/datasets/base/eopatch/input_model',\n",
       "  'experiment_path': '/agrilearn_app/output/experiment_02/'},\n",
       " 'processing': {'interp_day_range': 12,\n",
       "  'ts_sample_n': 3,\n",
       "  'labels_to_use': ['CORN', 'SOYBEAN', 'COTTON', 'RICE'],\n",
       "  'translate_labels': True,\n",
       "  'score_mean': None},\n",
       " 'model': {'name': 'crop_classification',\n",
       "  'version': 'v1.4.0',\n",
       "  'parameters': {'conv_filters': 32,\n",
       "   'kernel_size': 3,\n",
       "   'lstm_layers': 2,\n",
       "   'lstm_units': 64}},\n",
       " 'train': {'learning_rate': 0.001,\n",
       "  'batch_size': 32,\n",
       "  'epochs': 300,\n",
       "  'monitor': 'val_loss',\n",
       "  'patience_early_stop': 15,\n",
       "  'decay_denom': 100,\n",
       "  'train_batch_size': 8,\n",
       "  'val_batch_size': 1,\n",
       "  'save_model_files': True,\n",
       "  'verbose': 1,\n",
       "  'shuffle': True,\n",
       "  'target': 'monitoring_class'},\n",
       " 'evaluate': {'dataset_name': 'SOYBEAN_7270_CORN_5536_COTTON_267_RICE_81_PASTURE_50_SUGAR_CANE_50_WHEAT_50',\n",
       "  'geopackage_test_data_path': '/agrilearn_app/datasets/teste_pre_safra_2024_2025/geopackage/processed/SOYBEAN_7270_CORN_5536_COTTON_267_RICE_81_PASTURE_50_SUGAR_CANE_50_WHEAT_50.gpkg',\n",
       "  'eopatch_folder': '/agrilearn_app/datasets/teste_pre_safra_2024_2025/eopatch/processed',\n",
       "  'labels_to_evaluate': ['CORN', 'SOYBEAN', 'COTTON', 'RICE'],\n",
       "  'label_true': 'monitoring_class',\n",
       "  'label_pred': 'crop_class_rnn',\n",
       "  'label_eopatch_location': 'eopath_location',\n",
       "  'dataset_part': ['test']}}"
      ]
     },
     "execution_count": 4,
     "metadata": {},
     "output_type": "execute_result"
    }
   ],
   "source": [
    "config"
   ]
  },
  {
   "cell_type": "code",
   "execution_count": null,
   "id": "6e6bfd36-0954-4f74-81f7-1303291e67f3",
   "metadata": {},
   "outputs": [],
   "source": [
    "GEOPACKAGE_PATH = config['evaluate']['geopackage_test_data_path']\n",
    "label_monitoring_class = 'monitoring_class'\n",
    "label_pred = 'crop_class_rnn'\n",
    "label_eopatch_path = 'eopath_location'\n",
    "label_los = 'length_of_season'"
   ]
  },
  {
   "cell_type": "markdown",
   "id": "a6a06923-5119-4456-ba5b-ac0c9fca3ab9",
   "metadata": {},
   "source": [
    "# 1. Read Datasets\n",
    "\n",
    "### Data description\n",
    "- monitoring_class: é a cultura de interesse dp cliente ou da amostra de treinamento (SOYBEAN, CORN)\n",
    "- period:  a safra agricola (2023/2024, 2024/2025)\n",
    "- state: é o estado do polígono\n",
    "- field_id: id do talhão\n",
    "- fonte: a origem dos dados (mapas temáticos, banco de dados)\n",
    "- area:\n",
    "- micro:\n",
    "- start_season: é a data que inicia a safra pra determinada cultura (monitoring_class) e safra (period)\n",
    "- end_season: é a data que termina a safra pra determinada cultura (monitoring_class) e safra (period)\n",
    "- peak_start: é a data que inicia o período em que pode ocorrer o pico pra determinada cultura (monitoring_class) e safra (period)\n",
    "- peak_end: é a data que termina o período em que pode ocorrer o pico pra determinada cultura (monitoring_class) e safra (period) (Obs: temos um calendário pra isso, um arquivo yaml)\n",
    "- start_of_cycle: data do inio do cultivo segundo o calendário agrícola\n",
    "- end_of_cycle: data do fim do caledário de cuiltivo segundo calendário agrícola\n",
    "- length_of_cycle:\n",
    "- start_of_season: data da emergencia da cultura\n",
    "- end_of_season: data da colheita da cultura\n",
    "- peak_of_season: data do pico vegetativo da cultura\n",
    "- length_of_season: Duração do cultivo\n",
    "- eopath_location: é caminho onde o eopatch está salvo (imagens p/ inferência)\n",
    "- geometry: é a geometria do polígono"
   ]
  },
  {
   "cell_type": "code",
   "execution_count": null,
   "id": "591f9002-d3c5-4d2e-985f-dc38afe49bb8",
   "metadata": {},
   "outputs": [],
   "source": [
    "df = gpd.read_file(GEOPACKAGE_PATH)"
   ]
  },
  {
   "cell_type": "code",
   "execution_count": null,
   "id": "463003f6-9c0c-4402-8c31-e101b716e5b4",
   "metadata": {},
   "outputs": [],
   "source": [
    "df.shape"
   ]
  },
  {
   "cell_type": "code",
   "execution_count": null,
   "id": "3a775242",
   "metadata": {},
   "outputs": [],
   "source": [
    "df.head()"
   ]
  },
  {
   "cell_type": "code",
   "execution_count": null,
   "id": "4df76743",
   "metadata": {},
   "outputs": [],
   "source": [
    "pd.concat([\n",
    "    df[label_monitoring_class].value_counts(),\n",
    "    df[label_monitoring_class].value_counts(normalize=True) * 100],\n",
    "    axis=1)"
   ]
  },
  {
   "cell_type": "code",
   "execution_count": null,
   "id": "541e946e",
   "metadata": {},
   "outputs": [],
   "source": [
    "df['state'].value_counts()"
   ]
  },
  {
   "cell_type": "code",
   "execution_count": null,
   "id": "5ef6a3c4",
   "metadata": {},
   "outputs": [],
   "source": [
    "pd.concat([\n",
    "    df['dataset_part'].value_counts(),\n",
    "    df['dataset_part'].value_counts(normalize=True)],\n",
    "    axis=1)"
   ]
  },
  {
   "cell_type": "code",
   "execution_count": null,
   "id": "e7cf256d",
   "metadata": {},
   "outputs": [],
   "source": [
    "print(f\"There are {df.shape[0]} rows and {df.shape[1]} columns\")"
   ]
  },
  {
   "cell_type": "markdown",
   "id": "b06f5432-e508-426f-b2c8-52ae8588fdd7",
   "metadata": {},
   "source": [
    "# 2. Data Processing"
   ]
  },
  {
   "cell_type": "markdown",
   "id": "8867f3bc-0592-47e6-922e-5064b2c735ab",
   "metadata": {},
   "source": [
    "### 2.1 Check NaN Values"
   ]
  },
  {
   "cell_type": "code",
   "execution_count": null,
   "id": "24c7ea81-93da-41f7-9949-6ce1d6b64d2e",
   "metadata": {},
   "outputs": [],
   "source": [
    "df.shape"
   ]
  },
  {
   "cell_type": "code",
   "execution_count": null,
   "id": "91adb8a1-643e-4159-be82-97aaa49ad659",
   "metadata": {},
   "outputs": [],
   "source": [
    "colums_to_drop = df.isna().sum().sort_values(ascending=False).iloc[0:51]\n",
    "colums_to_drop"
   ]
  },
  {
   "cell_type": "markdown",
   "id": "08878b29-e107-4669-b5cc-63c3e3ac7192",
   "metadata": {},
   "source": [
    "### 2.2 Drop Columns with NaNs Values"
   ]
  },
  {
   "cell_type": "code",
   "execution_count": null,
   "id": "e1b81b32-8e4a-4eff-be70-a25eec62b75e",
   "metadata": {},
   "outputs": [],
   "source": [
    "for c in colums_to_drop.keys():\n",
    "    if c in list(df.columns):\n",
    "        print(f\"drop colum: {c}\")\n",
    "        del df[c]"
   ]
  },
  {
   "cell_type": "code",
   "execution_count": null,
   "id": "d1466c81-8eab-4669-b462-a1c69db8094e",
   "metadata": {},
   "outputs": [],
   "source": [
    "df.shape"
   ]
  },
  {
   "cell_type": "markdown",
   "id": "b5df06b4-b8a4-44aa-b9a8-d4634596f57b",
   "metadata": {},
   "source": [
    "### 2.3 Check Duplicated"
   ]
  },
  {
   "cell_type": "code",
   "execution_count": null,
   "id": "2c942220-6677-4752-8b59-1ace0c9556ee",
   "metadata": {},
   "outputs": [],
   "source": [
    "shape_before = df.shape[0]\n",
    "idx_drop_duplicated = df[df.duplicated(subset=['period', 'geometry'])].index\n",
    "df.drop(idx_drop_duplicated, inplace=True)\n",
    "shape_after = df.shape[0]\n",
    "print(f\"{shape_before-shape_after} registros duplicados foram encontrados\")"
   ]
  },
  {
   "cell_type": "markdown",
   "id": "4c6c6948-e37f-4abe-8db9-2bbe357f9931",
   "metadata": {},
   "source": [
    "### 2.4 Data Formatation"
   ]
  },
  {
   "cell_type": "code",
   "execution_count": null,
   "id": "a68e2786-1aac-4539-ae0f-421e253b46aa",
   "metadata": {},
   "outputs": [],
   "source": [
    "list(df.columns)"
   ]
  },
  {
   "cell_type": "code",
   "execution_count": null,
   "id": "23810e38-d713-44db-b72d-0c743c3f3cb8",
   "metadata": {},
   "outputs": [],
   "source": [
    "datetime_columns = ['start_season', \n",
    "                    'end_season', \n",
    "                    'peak_start', \n",
    "                    'peak_end']\n",
    "\n",
    "for col in datetime_columns:\n",
    "    df[col] = pd.to_datetime(df[col])\n",
    "\n",
    "df[datetime_columns].info()"
   ]
  },
  {
   "cell_type": "markdown",
   "id": "b02e2fd5-9f24-4fc3-802b-dc727fc72d4e",
   "metadata": {},
   "source": [
    "### 2.5 Drop data out cicle"
   ]
  },
  {
   "cell_type": "code",
   "execution_count": null,
   "id": "1ed3301a-8baf-4faf-b982-cf6749ff1784",
   "metadata": {},
   "outputs": [],
   "source": [
    "processing.create_check_culture_cycle(df,\n",
    "                                        label_monitoring_class=label_monitoring_class,\n",
    "                                          label_los=label_los,\n",
    "                                          culture_cycles={\n",
    "                                               'COTTON': (140, 220),\n",
    "                                               'CORN': (105, 160),\n",
    "                                               'SOYBEAN': (90, 160),\n",
    "                                               'WHEAT': (100, 160),\n",
    "                                               'RICE': (100, 150),\n",
    "                                               'BEAN': (60, 100),\n",
    "                                               'SUGAR_CANE': (300, 570)\n",
    "                                          })"
   ]
  },
  {
   "cell_type": "code",
   "execution_count": null,
   "id": "be733852",
   "metadata": {},
   "outputs": [],
   "source": [
    "pd.concat([\n",
    "            df['check_los'].value_counts(),\n",
    "            df['check_los'].value_counts(normalize=True) * 100], axis=True)"
   ]
  },
  {
   "cell_type": "markdown",
   "id": "4573114f-a587-403b-89cc-246e3021d79e",
   "metadata": {},
   "source": [
    "# 3. Data Analysis"
   ]
  },
  {
   "cell_type": "markdown",
   "id": "e563f751-e706-418e-92fb-e4fe188518f0",
   "metadata": {},
   "source": [
    "### 3.1 Analysing Target y (monitoring_class)"
   ]
  },
  {
   "cell_type": "code",
   "execution_count": null,
   "id": "b4155328-4040-44be-9e27-64a220c9094f",
   "metadata": {},
   "outputs": [],
   "source": [
    "pd.concat([df[label_monitoring_class].value_counts(),\n",
    "          df[label_monitoring_class].value_counts(normalize=True)*100], axis=1)"
   ]
  },
  {
   "cell_type": "markdown",
   "id": "747031d9-7fce-42b1-ae31-1c405cd01f84",
   "metadata": {},
   "source": [
    "### 3.2 Analysing dados por estado e classes"
   ]
  },
  {
   "cell_type": "code",
   "execution_count": null,
   "id": "43441d1b-10db-4101-9ff7-858316a0fddb",
   "metadata": {},
   "outputs": [],
   "source": [
    "pd.concat([df['state'].value_counts(),\n",
    "          df['state'].value_counts(normalize=True)*100], axis=1)"
   ]
  },
  {
   "cell_type": "code",
   "execution_count": null,
   "id": "90d77f60-9f25-4e2c-b7be-e91f0a52bb6b",
   "metadata": {},
   "outputs": [],
   "source": [
    "df.groupby(['state', 'monitoring_class']).agg({'period':'count'})"
   ]
  },
  {
   "cell_type": "markdown",
   "id": "1ecf5eaf-1377-4ad5-8a56-ffab93eb93cc",
   "metadata": {},
   "source": [
    "### 3.5 Analysis of length_of_season (LOS)"
   ]
  },
  {
   "cell_type": "code",
   "execution_count": null,
   "id": "7d607721-fdf2-4e33-8d6d-d6db65822a76",
   "metadata": {},
   "outputs": [],
   "source": [
    "df.groupby(label_los).agg(omission_count=('geometry','count')).sort_values('omission_count', ascending=False)"
   ]
  },
  {
   "cell_type": "code",
   "execution_count": null,
   "id": "99958951",
   "metadata": {},
   "outputs": [],
   "source": [
    "value_counts = df['gt_class'].value_counts()\n",
    "filename = '_'.join(\n",
    "    [f\"{cls}_{count}\" for cls, count in value_counts.items()]) + \".gpkg\"\n",
    "\n",
    "OUTPUT_PATH = f\"/agrilearn_app/datasets/teste_pre_safra_2024_2025/geopackage/processed/{filename}\"\n",
    "OUTPUT_PATH"
   ]
  },
  {
   "cell_type": "code",
   "execution_count": null,
   "id": "88025615-0fb4-4a20-b04b-3d745acaf346",
   "metadata": {},
   "outputs": [],
   "source": [
    "df.to_file(OUTPUT_PATH, driver='GPKG', engine='fiona')"
   ]
  },
  {
   "cell_type": "code",
   "execution_count": null,
   "id": "01324129-c59f-48c8-99e3-58576f84c325",
   "metadata": {},
   "outputs": [],
   "source": []
  },
  {
   "cell_type": "code",
   "execution_count": null,
   "id": "fbbb6e7d-a73d-45fc-ae76-950786e57687",
   "metadata": {},
   "outputs": [],
   "source": []
  }
 ],
 "metadata": {
  "kernelspec": {
   "display_name": "Python 3 (ipykernel)",
   "language": "python",
   "name": "python3"
  },
  "language_info": {
   "codemirror_mode": {
    "name": "ipython",
    "version": 3
   },
   "file_extension": ".py",
   "mimetype": "text/x-python",
   "name": "python",
   "nbconvert_exporter": "python",
   "pygments_lexer": "ipython3",
   "version": "3.10.12"
  }
 },
 "nbformat": 4,
 "nbformat_minor": 5
}
