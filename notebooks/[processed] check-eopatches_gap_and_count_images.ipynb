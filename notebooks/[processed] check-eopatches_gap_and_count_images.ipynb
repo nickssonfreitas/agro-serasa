{
 "cells": [
  {
   "cell_type": "code",
   "execution_count": 1,
   "id": "6c01525f-1142-431e-a653-91d388053abd",
   "metadata": {},
   "outputs": [],
   "source": [
    "# Load the auto reload extension to automatically reload modules when files on disk are updated\n",
    "%load_ext autoreload\n",
    "# it will automatically be reloaded without the need to restart the kernel.\n",
    "%autoreload 2"
   ]
  },
  {
   "cell_type": "markdown",
   "id": "e283de27-738f-44bc-90bb-a2035aec8903",
   "metadata": {},
   "source": [
    "### Imports"
   ]
  },
  {
   "cell_type": "code",
   "execution_count": 2,
   "id": "90c01cd7-76da-4a5c-b0e1-31eb653cfb8a",
   "metadata": {},
   "outputs": [
    {
     "ename": "ModuleNotFoundError",
     "evalue": "No module named 'boto3'",
     "output_type": "error",
     "traceback": [
      "\u001b[0;31m---------------------------------------------------------------------------\u001b[0m",
      "\u001b[0;31mModuleNotFoundError\u001b[0m                       Traceback (most recent call last)",
      "Cell \u001b[0;32mIn[2], line 1\u001b[0m\n\u001b[0;32m----> 1\u001b[0m \u001b[38;5;28;01mimport\u001b[39;00m\u001b[38;5;250m \u001b[39m\u001b[38;5;21;01mboto3\u001b[39;00m\n\u001b[1;32m      2\u001b[0m \u001b[38;5;28;01mimport\u001b[39;00m\u001b[38;5;250m \u001b[39m\u001b[38;5;21;01mgeopandas\u001b[39;00m\u001b[38;5;250m \u001b[39m\u001b[38;5;28;01mas\u001b[39;00m\u001b[38;5;250m \u001b[39m\u001b[38;5;21;01mgpd\u001b[39;00m\n\u001b[1;32m      3\u001b[0m \u001b[38;5;28;01mfrom\u001b[39;00m\u001b[38;5;250m \u001b[39m\u001b[38;5;21;01mio\u001b[39;00m\u001b[38;5;250m \u001b[39m\u001b[38;5;28;01mimport\u001b[39;00m BytesIO\n",
      "\u001b[0;31mModuleNotFoundError\u001b[0m: No module named 'boto3'"
     ]
    }
   ],
   "source": [
    "import boto3\n",
    "import geopandas as gpd\n",
    "from io import BytesIO\n",
    "import pandas as pd\n",
    "from folium import GeoJson\n",
    "import folium\n",
    "import numpy as np\n",
    "from tqdm import tqdm\n",
    "from glob import glob\n",
    "#import local modules\n",
    "import sys\n",
    "sys.path.append(\"/agrilearn_app/agrilearn/\")\n",
    "from agrilearn.utils import s3_utils, str_utils\n",
    "from agrilearn.mvp import gpkg_utils"
   ]
  },
  {
   "cell_type": "markdown",
   "id": "6c7cc194-d9bd-479b-bac2-1071d374026d",
   "metadata": {},
   "source": [
    "### Global Variables"
   ]
  },
  {
   "cell_type": "code",
   "execution_count": null,
   "id": "6e6bfd36-0954-4f74-81f7-1303291e67f3",
   "metadata": {},
   "outputs": [],
   "source": [
    "DATASET_PATH = \"/agrilearn_app/datasets/base/geopackage/processed/CORN_73080_SOYBEAN_29670_COTTON_1632_RICE_1172.gpkg\"\n",
    "#OUTPUT_DATASET_PATH = \"/agrilearn_app/datasets/v1/geopackage/cana_fields_checked.gpkg\""
   ]
  },
  {
   "cell_type": "markdown",
   "id": "a6a06923-5119-4456-ba5b-ac0c9fca3ab9",
   "metadata": {},
   "source": [
    "# 1. Read Datasets"
   ]
  },
  {
   "cell_type": "code",
   "execution_count": null,
   "id": "591f9002-d3c5-4d2e-985f-dc38afe49bb8",
   "metadata": {},
   "outputs": [],
   "source": [
    "df = gpd.read_file(DATASET_PATH)"
   ]
  },
  {
   "cell_type": "code",
   "execution_count": null,
   "id": "c55823cb-2f6f-4e61-851c-1c2d5499d2ed",
   "metadata": {},
   "outputs": [],
   "source": [
    "df.head()"
   ]
  },
  {
   "cell_type": "code",
   "execution_count": null,
   "id": "6f7f35dc-6b62-4987-9a94-14e4d056f8a7",
   "metadata": {},
   "outputs": [],
   "source": [
    "df.shape"
   ]
  },
  {
   "cell_type": "code",
   "execution_count": null,
   "id": "f7a80423-c580-4de0-84f5-19b016803dc8",
   "metadata": {},
   "outputs": [],
   "source": [
    "df['dataset_part'].value_counts(normalize=True)*100"
   ]
  },
  {
   "cell_type": "code",
   "execution_count": null,
   "id": "05cd18a7-221b-4b7f-a73f-160577491a4f",
   "metadata": {},
   "outputs": [],
   "source": [
    "report_train_val_test = df.groupby(['monitoring_class', 'dataset_part'], as_index=False)\\\n",
    "                            .agg({'period':'count'})\\\n",
    "                            .sort_values(['monitoring_class', 'period'], ascending=[False, False])\n",
    "report_train_val_test"
   ]
  },
  {
   "cell_type": "markdown",
   "id": "82e11a64-c1b8-4cac-b156-06da62909827",
   "metadata": {},
   "source": [
    "## 2. Check Eopatches from Local Path"
   ]
  },
  {
   "cell_type": "code",
   "execution_count": null,
   "id": "a35081c8-dc99-4018-a9a5-4c5142f502a9",
   "metadata": {},
   "outputs": [],
   "source": [
    "EOPATCH_LOCAL_PATH=\"/agrilearn_app/datasets/base/eopatch/processed/**\"\n",
    "eopatches_path = [f for f in glob(EOPATCH_LOCAL_PATH, recursive=True) if f.endswith('/eopatch_0_col-0_row-0')]"
   ]
  },
  {
   "cell_type": "code",
   "execution_count": null,
   "id": "956945df-a6d0-4dee-8a5f-3af7e36475df",
   "metadata": {},
   "outputs": [],
   "source": [
    "len(eopatches_path)"
   ]
  },
  {
   "cell_type": "code",
   "execution_count": null,
   "id": "1733e43d-7962-4463-bc3f-19f48eda4a92",
   "metadata": {},
   "outputs": [],
   "source": [
    "df['local_eopatch_path'] = eopatches_path"
   ]
  },
  {
   "cell_type": "code",
   "execution_count": null,
   "id": "0352c3ee-9665-44b1-aee3-1145c61725f4",
   "metadata": {},
   "outputs": [],
   "source": [
    "df['local_eopatch_path'].str.split('/start_').str[0].value_counts()"
   ]
  },
  {
   "cell_type": "markdown",
   "id": "55d99521-55b6-4254-b04c-14a575f7b371",
   "metadata": {},
   "source": [
    "## 2.1 Check total of missing images based on frequence time"
   ]
  },
  {
   "cell_type": "code",
   "execution_count": null,
   "id": "38584302-33d2-4aef-b4b4-4b828a35793e",
   "metadata": {},
   "outputs": [],
   "source": [
    "dic_missing_images = gpkg_utils.get_number_of_missing_images(EOPATCH_IDS=df['local_eopatch_path'].values, freq='5D')"
   ]
  },
  {
   "cell_type": "code",
   "execution_count": null,
   "id": "8e65ea5e-73c9-4f89-b3ee-f241b28cb1f5",
   "metadata": {},
   "outputs": [],
   "source": [
    "df_missing_images = pd.DataFrame(dic_missing_images).T.reset_index(names='path')"
   ]
  },
  {
   "cell_type": "code",
   "execution_count": null,
   "id": "aaf31926-53e8-4605-abee-a2fb54b6c545",
   "metadata": {},
   "outputs": [],
   "source": [
    "df_missing_images['status_missing_images'].value_counts()"
   ]
  },
  {
   "cell_type": "code",
   "execution_count": null,
   "id": "407df3ec-ce3e-4e68-b724-7f127556158c",
   "metadata": {},
   "outputs": [],
   "source": [
    "df_missing_images"
   ]
  },
  {
   "cell_type": "code",
   "execution_count": null,
   "id": "a5b5d6df-0a84-4c42-91ad-e73504e5dc04",
   "metadata": {},
   "outputs": [],
   "source": [
    "df_missing_images.to_csv('/agrilearn_app/datasets/v1/csvs/get_number_of_missing_images_based_freq5D.csv', \n",
    "                 sep=';', \n",
    "                 float_format='%.2f',\n",
    "                 index=False)"
   ]
  },
  {
   "cell_type": "code",
   "execution_count": null,
   "id": "23e57aba-baf3-4854-b244-bca06e2ca0d8",
   "metadata": {},
   "outputs": [],
   "source": [
    "df_missing_images.head()"
   ]
  },
  {
   "cell_type": "code",
   "execution_count": null,
   "id": "62fcc3aa-cf38-4a27-8dd0-f93eb31fd81c",
   "metadata": {},
   "outputs": [],
   "source": [
    "df['total_imagens_do_intervalo'] = df_missing_images['total_imagens_do_intervalo']\n",
    "df['total_de_imagem'] = df_missing_images['total_de_imagem']\n",
    "df['status_missing_images'] = df_missing_images['status_missing_images']"
   ]
  },
  {
   "cell_type": "markdown",
   "id": "f2a6ab9c-c439-4630-b8ec-3c991d1d768e",
   "metadata": {},
   "source": [
    "## 2.2 Check time series missing"
   ]
  },
  {
   "cell_type": "code",
   "execution_count": null,
   "id": "5ec29bb5-6d49-48f6-95bf-71ee34c0d234",
   "metadata": {},
   "outputs": [],
   "source": [
    "dic_get_time_series_missing = gpkg_utils.get_time_series_missing(EOPATCH_IDS=df['local_eopatch_path'].values)"
   ]
  },
  {
   "cell_type": "code",
   "execution_count": null,
   "id": "ab6ee813-7372-4552-a31c-82a757241f50",
   "metadata": {},
   "outputs": [],
   "source": [
    "df_time_series_missing = pd.DataFrame(dic_get_time_series_missing).T.reset_index(names='path')\n",
    "df_time_series_missing['mean_dates_diff'] = df_time_series_missing['mean_dates_diff'].astype(\"float\")"
   ]
  },
  {
   "cell_type": "code",
   "execution_count": null,
   "id": "e8677a61-5781-49d9-8feb-23ad3d6cd67d",
   "metadata": {},
   "outputs": [],
   "source": [
    "df_time_series_missing['status_series_missing'].value_counts()"
   ]
  },
  {
   "cell_type": "code",
   "execution_count": null,
   "id": "36fda376-98f2-4163-9089-762e5dd669bc",
   "metadata": {},
   "outputs": [],
   "source": [
    "df_time_series_missing.to_csv('/agrilearn_app/datasets/v1/csvs/get_time_series_missing.csv', \n",
    "                      sep=';', \n",
    "                      index=False,\n",
    "                      float_format='%.2f')"
   ]
  },
  {
   "cell_type": "code",
   "execution_count": null,
   "id": "6083898c-4267-4729-9779-78920a6334b3",
   "metadata": {},
   "outputs": [],
   "source": [
    "df['days_gap'] = df_time_series_missing['days_gap']\n",
    "df['dates_diff'] = df_time_series_missing['dates_diff']\n",
    "df['mean_dates_diff'] = df_time_series_missing['mean_dates_diff'] \n",
    "df['status_series_missing'] = df_time_series_missing['status_series_missing']"
   ]
  },
  {
   "cell_type": "code",
   "execution_count": null,
   "id": "b4e6f91e-382e-4bf5-9c06-e373ee8534bd",
   "metadata": {},
   "outputs": [],
   "source": []
  },
  {
   "cell_type": "code",
   "execution_count": null,
   "id": "8ca9cfc1-0454-4585-bf6b-b52b641c9d8d",
   "metadata": {},
   "outputs": [],
   "source": [
    "df.sort_values('total_de_imagem', ascending=True)"
   ]
  },
  {
   "cell_type": "code",
   "execution_count": null,
   "id": "bf3583bc-bbb4-4019-b06b-ebfb02ae2a7a",
   "metadata": {},
   "outputs": [],
   "source": [
    "df.sort_values('mean_dates_diff', ascending=True)"
   ]
  },
  {
   "cell_type": "markdown",
   "id": "a34106d5-4b08-4d93-92f0-3d7f3b342e3a",
   "metadata": {},
   "source": [
    "## 3. concat files and Save new GPKG"
   ]
  },
  {
   "cell_type": "code",
   "execution_count": null,
   "id": "91d073ac-b505-4d09-8d89-58fdaed61df7",
   "metadata": {},
   "outputs": [],
   "source": [
    "OUTPUT_DATASET_PATH"
   ]
  },
  {
   "cell_type": "code",
   "execution_count": null,
   "id": "f86baf61-8943-4fe0-9d9e-a9da2fd544bd",
   "metadata": {},
   "outputs": [],
   "source": [
    "df.to_file(OUTPUT_DATASET_PATH, driver='GPKG', engine='fiona')"
   ]
  },
  {
   "cell_type": "code",
   "execution_count": null,
   "id": "82dc4fd0-269c-4dc3-942a-61e17389347f",
   "metadata": {},
   "outputs": [],
   "source": [
    "df"
   ]
  },
  {
   "cell_type": "code",
   "execution_count": null,
   "id": "2eecf40b-15f5-4f2a-94ec-1142e916119e",
   "metadata": {},
   "outputs": [],
   "source": []
  },
  {
   "cell_type": "code",
   "execution_count": null,
   "id": "c6f532d3-5d3b-4e7d-bf9a-88d2061e7f55",
   "metadata": {},
   "outputs": [],
   "source": []
  },
  {
   "cell_type": "code",
   "execution_count": null,
   "id": "61411392-b953-4e4b-b56c-c9c9f670918e",
   "metadata": {},
   "outputs": [],
   "source": []
  },
  {
   "cell_type": "code",
   "execution_count": null,
   "id": "93726e5c-8ec7-483e-b1d0-fdfc8ca994e3",
   "metadata": {},
   "outputs": [],
   "source": []
  },
  {
   "cell_type": "code",
   "execution_count": null,
   "id": "01324129-c59f-48c8-99e3-58576f84c325",
   "metadata": {},
   "outputs": [],
   "source": []
  },
  {
   "cell_type": "code",
   "execution_count": null,
   "id": "fbbb6e7d-a73d-45fc-ae76-950786e57687",
   "metadata": {},
   "outputs": [],
   "source": []
  }
 ],
 "metadata": {
  "kernelspec": {
   "display_name": "Python 3 (ipykernel)",
   "language": "python",
   "name": "python3"
  },
  "language_info": {
   "codemirror_mode": {
    "name": "ipython",
    "version": 3
   },
   "file_extension": ".py",
   "mimetype": "text/x-python",
   "name": "python",
   "nbconvert_exporter": "python",
   "pygments_lexer": "ipython3",
   "version": "3.10.12"
  }
 },
 "nbformat": 4,
 "nbformat_minor": 5
}
