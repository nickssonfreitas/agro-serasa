{
 "cells": [
  {
   "cell_type": "code",
   "execution_count": null,
   "id": "6c01525f-1142-431e-a653-91d388053abd",
   "metadata": {},
   "outputs": [],
   "source": [
    "import boto3\n",
    "import geopandas as gpd\n",
    "import pandas as pd\n",
    "import folium\n",
    "import numpy as np\n",
    "from folium import GeoJson\n",
    "from io import BytesIO"
   ]
  },
  {
   "cell_type": "code",
   "execution_count": null,
   "id": "a6b4a832-c7ef-4afa-b502-58517e601732",
   "metadata": {},
   "outputs": [],
   "source": [
    "import sys\n",
    "sys.path.append(\"/agrilearn_app/agrilearn/submodules/commons/\")"
   ]
  },
  {
   "cell_type": "code",
   "execution_count": null,
   "id": "9a5c4767-cb01-4969-8549-630c4ab903e4",
   "metadata": {},
   "outputs": [],
   "source": [
    "from agrilearn.crop_classification import evalutate_utils\n",
    "from agrilearn.crop_classification import yaml_utils\n",
    "from agrilearn.commons.s3 import s3_utils\n",
    "\n",
    "from agrilearn.crop_classification import evalutate_utils\n",
    "from agrilearn.crop_classification import yaml_utils\n",
    "from agrilearn.commons.s3 import s3_utils"
   ]
  },
  {
   "cell_type": "markdown",
   "id": "c02139fb-b81c-4310-b83a-22fad4fb4a9f",
   "metadata": {},
   "source": [
    "### Resumo da análise"
   ]
  },
  {
   "cell_type": "markdown",
   "id": "9b4a847e-018c-4cef-abd5-c1796bb30190",
   "metadata": {},
   "source": [
    "- Existem colunas duplicadas que representam a mesma variável [``start_season``, ``start_of_season``], além de [``end_season``, ``end_of_season``], [``peak_of_season``, ``peak_season``]\n",
    "- Existem dados duplicados considerando o ``eopatch_location``\n",
    "- Não existe mais a coluna ``id_talhao``?"
   ]
  },
  {
   "cell_type": "markdown",
   "id": "6c7cc194-d9bd-479b-bac2-1071d374026d",
   "metadata": {},
   "source": [
    "### Global Variables"
   ]
  },
  {
   "cell_type": "code",
   "execution_count": null,
   "id": "6e6bfd36-0954-4f74-81f7-1303291e67f3",
   "metadata": {},
   "outputs": [],
   "source": [
    "GEOPACKAGE_PATH = [\"/agrilearn_app/datasets/teste_pre_safra_2024_2025/geopackage/raw/data_merged_crop_120_06_08_2024_input_mvp.gpkg\"]\n",
    "\n",
    "label_monitoring_class = 'gt_class'\n",
    "label_eopatch_path = \"sentinel_eopatch_current\" # 'sentinel_eopatch_current' #eopath_location"
   ]
  },
  {
   "cell_type": "markdown",
   "id": "a6a06923-5119-4456-ba5b-ac0c9fca3ab9",
   "metadata": {},
   "source": [
    "# 1. Read Datasets\n",
    "\n",
    "### Data description\n",
    "- monitoring_class: é o ``conjunto`` que representa a cultura de interesse do cliente ou da amostra de treinamento (SOYBEAN, CORN)\n",
    "- period: é o ``texto`` que representa a safra agricola (2023/2024, 2024/2025)\n",
    "- fonte: é o ``texto`` da origem dos dados (mapas temáticos, banco de dados)\n",
    "- state: é o ``texto`` do estado do polígono\n",
    "- area: é o ``ponto flutuante`` da área em métros\n",
    "- micro: é o ``inteiro`` que representa a micro região\n",
    "- start_season: é o ``timestamp`` que inicia a safra pra determinada cultura (monitoring_class) e safra (period)\n",
    "- end_season: é o  ``timestamp`` que termina a safra pra determinada cultura (monitoring_class) e safra (period)\n",
    "- peak_start: é o ``timestamp`` que inicia o período em que pode ocorrer o pico pra determinada cultura (monitoring_class) e safra (period)\n",
    "- peak_end: é o ``timestamp`` que termina o período em que pode ocorrer o pico pra determinada cultura (monitoring_class) e safra (period) (Obs: temos um calendário pra isso, um arquivo yaml)\n",
    "- eopath_location: é o ``texto`` que representa o caminho onde o eopatch está salvo (imagens p/ inferência)\n",
    "- start_of_season: é o ``timestamp`` da data da emergencia da cultura\n",
    "- peak_of_season: é o ``timestamp`` da data do pico vegetativo da cultura\n",
    "- end_of_season: é o ``timestamp`` da data da colheita da cultura\n",
    "- length_of_season: é o ``inteiro`` com a duração do cultivo em dias\n",
    "- is_valid_metrics:\n",
    "- sos_valid:\n",
    "- pos_valid:\n",
    "- eos_valid:\n",
    "- los_valid:\n",
    "- planting_start: é o ``timestamp`` da data do inicio do plantio.\n",
    "- planting_end: é o ``timestamp`` da data do fim do plantio.\n",
    "- start_of_cycle: é o ``timestamp`` da data do inio do cultivo segundo o calendário agrícola\n",
    "- end_of_cycle: é o ``timestamp`` da data do fim do caledário de cultivo segundo calendário agrícola\n",
    "- length_of_cycle: é o ``inteiro`` que representa o tamanho do ciclo em dias\n",
    "- is_valid:\n",
    "- is_valid_POS:\n",
    "- is_valid_LOS:\n",
    "- set_type: é o ``conjunto`` que representar a divisão do dado entre treino, validação e teste\n",
    "- sampled_date: é o ``texto`` com a data do sample em mês e ano\n",
    "- cultura_2:\n",
    "- geometry: é a ``geometria`` do polígono "
   ]
  },
  {
   "cell_type": "code",
   "execution_count": null,
   "id": "af873c60-bb37-4253-9554-6749307e434e",
   "metadata": {},
   "outputs": [],
   "source": [
    "gdfs = []\n",
    "\n",
    "# Lê cada Geopackage e adiciona o GeoDataFrame à lista\n",
    "for path in GEOPACKAGE_PATH:\n",
    "    gdf = gpd.read_file(path)\n",
    "    gdf['dataset_source'] = path  # Adiciona a coluna de origem\n",
    "    gdfs.append(gdf)\n",
    "\n",
    "# Concatena todos os GeoDataFrames em um único GeoDataFrame\n",
    "if gdfs:\n",
    "    df = gpd.GeoDataFrame(pd.concat(gdfs, ignore_index=True))\n",
    "    print(f\"Dataset final possui {df.shape[0]} linhas\")\n",
    "    df.head()\n",
    "else:\n",
    "    print(\"Nenhum GeoDataFrame válido encontrado.\")"
   ]
  },
  {
   "cell_type": "code",
   "execution_count": null,
   "id": "6a056f97-5d33-48e7-ba22-0de9b395705d",
   "metadata": {},
   "outputs": [],
   "source": [
    "df = df[~df['set'].isin(['run_2082_mvp_5972_bb_areas_crop_120.gpkg', 'run_2082_mvp_344_teste_concordancia_crop_120.gpkg'])]"
   ]
  },
  {
   "cell_type": "code",
   "execution_count": null,
   "id": "9a3303c5-1121-4279-959a-729a4bccc2a0",
   "metadata": {},
   "outputs": [],
   "source": [
    "len(df.columns)"
   ]
  },
  {
   "cell_type": "code",
   "execution_count": null,
   "id": "9fecc00c-e297-4324-b261-6b020b4eed52",
   "metadata": {},
   "outputs": [],
   "source": [
    "df.dropna(axis=1, how='all', inplace=True)"
   ]
  },
  {
   "cell_type": "code",
   "execution_count": null,
   "id": "5b9c0806-c9de-4039-950c-8cfeef2638c1",
   "metadata": {},
   "outputs": [],
   "source": [
    "len(df.columns)"
   ]
  },
  {
   "cell_type": "code",
   "execution_count": null,
   "id": "929d7f5c-20c7-4cf4-af2c-593b8b1b946e",
   "metadata": {},
   "outputs": [],
   "source": [
    "datetime_columns = ['start_season', \n",
    "                    'end_season', \n",
    "                    'peak_start', \n",
    "                    'peak_end',\n",
    "                    'start_of_season',\n",
    "                    'peak_of_season',\n",
    "                    'end_of_season',\n",
    "                    'planting_start',\n",
    "                    'planting_end',\n",
    "                    'start_of_cycle',\n",
    "                    'end_of_cycle'                  \n",
    "                   ]\n",
    "\n",
    "    # Verifica se a coluna existe, se existir formata, senão printa mensagem\n",
    "for col in datetime_columns:\n",
    "    if col in df.columns:\n",
    "        try:\n",
    "            df[col] = pd.to_datetime(df[col])\n",
    "        except Exception as e:\n",
    "            print(f\"Erro ao formatar a coluna {col}: {e}\")\n",
    "    else:\n",
    "        print(f\"A coluna '{col}' não existe no DataFrame.\")\n",
    "        # Exibe informações das colunas datetime"
   ]
  },
  {
   "cell_type": "code",
   "execution_count": null,
   "id": "5217474e-a3f0-4301-9bd4-99ebaab7ac79",
   "metadata": {},
   "outputs": [],
   "source": [
    "df[label_monitoring_class].value_counts()"
   ]
  },
  {
   "cell_type": "code",
   "execution_count": null,
   "id": "3deaac7b",
   "metadata": {},
   "outputs": [],
   "source": [
    "df['state'].value_counts()"
   ]
  },
  {
   "cell_type": "code",
   "execution_count": null,
   "id": "f7a80423-c580-4de0-84f5-19b016803dc8",
   "metadata": {},
   "outputs": [],
   "source": [
    "print(f\"There are {df.shape[0]} rows and {df.shape[1]} columns\")"
   ]
  },
  {
   "cell_type": "code",
   "execution_count": null,
   "id": "d3d1733f-7341-4967-a0a8-c49fe3420ea1",
   "metadata": {},
   "outputs": [],
   "source": [
    "print(f\"Dados de {df['start_season'].min()} a {df['end_season'].max()}\")"
   ]
  },
  {
   "cell_type": "code",
   "execution_count": null,
   "id": "e0956b8a-b054-4784-9d32-9431ee3bd731",
   "metadata": {},
   "outputs": [],
   "source": [
    "list(df.columns)"
   ]
  },
  {
   "cell_type": "markdown",
   "id": "1c46801e-0ce6-47cf-958f-863aefbe2c02",
   "metadata": {},
   "source": [
    "# 02. Data Integration in columns"
   ]
  },
  {
   "cell_type": "code",
   "execution_count": null,
   "id": "214f2c3f-ddfb-4a55-9c9a-a349a051abe7",
   "metadata": {},
   "outputs": [],
   "source": [
    "df[['gt_class', 'monitoring_class']].sample(10)"
   ]
  },
  {
   "cell_type": "code",
   "execution_count": null,
   "id": "fd03f1b4-873d-4f0a-a0cc-df7d8ec079de",
   "metadata": {},
   "outputs": [],
   "source": [
    "df[['eopath_location', 'sentinel_eopatch_current']].sample(10)"
   ]
  },
  {
   "cell_type": "code",
   "execution_count": null,
   "id": "5cc1aee4-3a26-48d7-9937-a3eface06e34",
   "metadata": {},
   "outputs": [],
   "source": [
    "df['monitoring_class'] = df['gt_class']"
   ]
  },
  {
   "cell_type": "markdown",
   "id": "b8aea6c8-f90a-4b2a-875e-92884d0b73a4",
   "metadata": {},
   "source": [
    "# 03. Check Data Quality"
   ]
  },
  {
   "cell_type": "markdown",
   "id": "1f15bf98-39b3-4bc2-8200-45afa3de7c2d",
   "metadata": {},
   "source": [
    "## 3.1 Check NaN Values"
   ]
  },
  {
   "cell_type": "code",
   "execution_count": null,
   "id": "cb5f1de4-f666-46b0-b72a-f99ef9b58d21",
   "metadata": {},
   "outputs": [],
   "source": [
    "# Calcula a quantidade de registros nulos e a porcentagem de registros nulos\n",
    "df_check_NaN = pd.concat([df.isna().sum(), df.isna().sum() / df.shape[0] * 100], axis=1)\n",
    "df_check_NaN.columns = ['Null Count', 'NaN percentage']\n",
    "df_check_NaN.sort_values('NaN percentage', ascending=False, inplace=True)"
   ]
  },
  {
   "cell_type": "code",
   "execution_count": null,
   "id": "a8d3f9d9-4e1c-4103-a904-c007268d21c4",
   "metadata": {},
   "outputs": [],
   "source": [
    "df_check_NaN.iloc[:30]"
   ]
  },
  {
   "cell_type": "markdown",
   "id": "3b4a6f0e-4a4e-44f4-a252-766a62b4c3cc",
   "metadata": {},
   "source": [
    "## 3.2 Drop Columns"
   ]
  },
  {
   "cell_type": "code",
   "execution_count": null,
   "id": "9fe097be-1ca4-400e-8fda-2f8017c916a0",
   "metadata": {},
   "outputs": [],
   "source": [
    "# columns_to_delete = ['LOS',\n",
    "#                      'start_of_season',\n",
    "#                      'end_of_season',\n",
    "#                      'start_of_season', \n",
    "#                     ]\n",
    "# df.drop(columns=columns_to_delete, inplace=True)"
   ]
  },
  {
   "cell_type": "markdown",
   "id": "093b61a9-aef6-4148-bf91-a21149bb69bc",
   "metadata": {},
   "source": [
    "- Q1) Quais colunas são geradas por nós e quais são coletadas? \n",
    "- Q2) Qual a razão dos dados nulos?\n",
    "- Q3) Qual o melhor conjunto de colunas eu devo usar para considerar dados duplicados uma vez que o field_id não está disponível para alguns datasets?"
   ]
  },
  {
   "cell_type": "code",
   "execution_count": null,
   "id": "8f93301a-6b16-44d4-a25c-b30a8aefe01e",
   "metadata": {},
   "outputs": [],
   "source": [
    "df_check_duplicated = df[df.duplicated(subset=['geometry', 'period'], keep=False)].copy()\n",
    "df_check_duplicated['id_duplicado'] = (df_check_duplicated.groupby(['geometry', 'period']).ngroup() + 1)\n",
    "df_check_duplicated.sort_values('id_duplicado', inplace=True)\n",
    "df_check_duplicated"
   ]
  },
  {
   "cell_type": "code",
   "execution_count": null,
   "id": "b8c158bf-b1d9-49ab-960f-071863ac4be2",
   "metadata": {},
   "outputs": [],
   "source": [
    "# df_check_duplicated.to_csv('/agrilearn_app/datasets/teste_pre_safra_2024_2025/reports/report_duplicated_values_geometry_period_eopatch_location_bb_areas_and_teste_concordancia_SOYBEAN_5916_CORN_180_COTTON_51_PASTURE_50_SUGAR_CANE_50_WHEAT_50_RICE_19.csv',\n",
    "#                            sep=';',\n",
    "#                            decimal=',',\n",
    "#                            float_format='%.4f')"
   ]
  },
  {
   "cell_type": "code",
   "execution_count": null,
   "id": "9015e7ed-c71c-4cd9-9b1d-90c37b70d2c7",
   "metadata": {},
   "outputs": [],
   "source": [
    "shape_before = df.shape[0]\n",
    "df.drop_duplicates(subset=['geometry', 'period'], inplace=True)\n",
    "print(f\"Removed records: {shape_before - df.shape[0]}, Percentage: {(shape_before - df.shape[0]) / shape_before * 100:.2f}%\")"
   ]
  },
  {
   "cell_type": "markdown",
   "id": "12013ad4-de1e-425a-ac18-b98466d25d40",
   "metadata": {},
   "source": [
    "# 04. Univariate Data Analysis"
   ]
  },
  {
   "cell_type": "markdown",
   "id": "e563f751-e706-418e-92fb-e4fe188518f0",
   "metadata": {},
   "source": [
    "### 4.1 Analysing Target y ``monitoring_class``"
   ]
  },
  {
   "cell_type": "code",
   "execution_count": null,
   "id": "0ca30bb6-2079-436d-b42d-0c1770cd7efe",
   "metadata": {},
   "outputs": [],
   "source": [
    "df_check_NaN.loc['monitoring_class']"
   ]
  },
  {
   "cell_type": "code",
   "execution_count": null,
   "id": "c0df43e2-9dab-4f12-94a3-5496db0cb25f",
   "metadata": {},
   "outputs": [],
   "source": [
    "df['monitoring_class'].nunique()"
   ]
  },
  {
   "cell_type": "code",
   "execution_count": null,
   "id": "b4155328-4040-44be-9e27-64a220c9094f",
   "metadata": {},
   "outputs": [],
   "source": [
    "pd.concat([df['monitoring_class'].value_counts(),\n",
    "          df['monitoring_class'].value_counts(normalize=True)*100], axis=1)"
   ]
  },
  {
   "cell_type": "markdown",
   "id": "747031d9-7fce-42b1-ae31-1c405cd01f84",
   "metadata": {},
   "source": [
    "### 4.2 Analysing dados por ``estado``"
   ]
  },
  {
   "cell_type": "code",
   "execution_count": null,
   "id": "8868b480-c31d-460d-827b-7d754c3d4852",
   "metadata": {},
   "outputs": [],
   "source": [
    "df_check_NaN.loc['state']"
   ]
  },
  {
   "cell_type": "code",
   "execution_count": null,
   "id": "72d0e51e-bf55-43c2-9321-60f98ffdc03c",
   "metadata": {},
   "outputs": [],
   "source": [
    "df['state'].nunique()"
   ]
  },
  {
   "cell_type": "code",
   "execution_count": null,
   "id": "43441d1b-10db-4101-9ff7-858316a0fddb",
   "metadata": {},
   "outputs": [],
   "source": [
    "pd.concat([df['state'].value_counts(),\n",
    "          df['state'].value_counts(normalize=True)*100], axis=1)"
   ]
  },
  {
   "cell_type": "markdown",
   "id": "747f64bb-8380-4ace-9591-f426df77ac1e",
   "metadata": {},
   "source": [
    "### 4.3 Analysis ``period``"
   ]
  },
  {
   "cell_type": "code",
   "execution_count": null,
   "id": "1d585b69-c397-4658-97eb-2753ce50c619",
   "metadata": {},
   "outputs": [],
   "source": [
    "df_check_NaN.loc['period']"
   ]
  },
  {
   "cell_type": "code",
   "execution_count": null,
   "id": "31b7c42e-2324-4284-8489-3883abd47a14",
   "metadata": {},
   "outputs": [],
   "source": [
    "df['period'].nunique()"
   ]
  },
  {
   "cell_type": "code",
   "execution_count": null,
   "id": "00619ac3-4d1c-4b1c-b73f-5a115a2f501f",
   "metadata": {},
   "outputs": [],
   "source": [
    "pd.concat([df['period'].value_counts(),\n",
    "          df['period'].value_counts(normalize=True)*100], axis=1)"
   ]
  },
  {
   "cell_type": "markdown",
   "id": "1ecf5eaf-1377-4ad5-8a56-ffab93eb93cc",
   "metadata": {},
   "source": [
    "### 4.7 Analysis of ``length_of_season (LOS)``"
   ]
  },
  {
   "cell_type": "code",
   "execution_count": null,
   "id": "ef121fba-a949-495d-9f11-ae6abe7f6776",
   "metadata": {},
   "outputs": [],
   "source": [
    "df_check_NaN.loc['length_of_season']"
   ]
  },
  {
   "cell_type": "code",
   "execution_count": null,
   "id": "2abece50-82ff-49fd-bee7-930089f9355f",
   "metadata": {},
   "outputs": [],
   "source": [
    "df['length_of_season'] = df['length_of_season'].astype(float)"
   ]
  },
  {
   "cell_type": "code",
   "execution_count": null,
   "id": "f9b799a8-3ee0-4dd4-9a4a-82e8d8df2e8e",
   "metadata": {},
   "outputs": [],
   "source": [
    "df['length_of_season'].describe()"
   ]
  },
  {
   "cell_type": "code",
   "execution_count": null,
   "id": "cbbb4eeb-ce2c-4880-b129-93fafe5fcbc7",
   "metadata": {},
   "outputs": [],
   "source": [
    "pd.concat([df['length_of_season'].value_counts(),\n",
    "          df['length_of_season'].value_counts(normalize=True)*100], axis=1)"
   ]
  },
  {
   "cell_type": "code",
   "execution_count": null,
   "id": "ec38602b-17c2-418a-8fbc-4d17f5b55ae0",
   "metadata": {},
   "outputs": [],
   "source": [
    "df[df['length_of_season'] < 100]"
   ]
  },
  {
   "cell_type": "markdown",
   "id": "2afd610f-ac8d-4813-9d5d-d14f460cf89d",
   "metadata": {},
   "source": [
    "### 4.8 Analysis of ``area``"
   ]
  },
  {
   "cell_type": "code",
   "execution_count": null,
   "id": "6c3e109a-de7e-47ee-87b7-a09f67ae12eb",
   "metadata": {},
   "outputs": [],
   "source": [
    "df_check_NaN.loc['area']"
   ]
  },
  {
   "cell_type": "code",
   "execution_count": null,
   "id": "ee11d6d7-19ed-49b8-85ef-8f759653efb0",
   "metadata": {},
   "outputs": [],
   "source": [
    "pd.concat([df['area'].value_counts(),\n",
    "          df['area'].value_counts(normalize=True)*100], axis=1)"
   ]
  },
  {
   "cell_type": "markdown",
   "id": "3e00d791-996f-4349-91da-5c871a203770",
   "metadata": {},
   "source": [
    "### 4.10 Analysis of ``cultura_2``"
   ]
  },
  {
   "cell_type": "code",
   "execution_count": null,
   "id": "9aa7ef03-aa75-4c36-b13e-674ad5de68d7",
   "metadata": {},
   "outputs": [],
   "source": [
    "# df_check_NaN.loc['cultura_2']"
   ]
  },
  {
   "cell_type": "code",
   "execution_count": null,
   "id": "ddde00ab-e56f-4c6f-aa31-fcbc82b9cb1b",
   "metadata": {},
   "outputs": [],
   "source": [
    "# pd.concat([df['cultura_2'].value_counts(),\n",
    "#           df['cultura_2'].value_counts(normalize=True)*100], axis=1)"
   ]
  },
  {
   "cell_type": "markdown",
   "id": "b63bbeb9-142e-45b8-ba9d-666ccbf89385",
   "metadata": {},
   "source": [
    "### 4.11 Analysis of ``fonte``"
   ]
  },
  {
   "cell_type": "code",
   "execution_count": null,
   "id": "59c84b78-4ee6-429a-a4b2-106cd2308ca2",
   "metadata": {},
   "outputs": [],
   "source": [
    "df_check_NaN.loc['fonte']"
   ]
  },
  {
   "cell_type": "code",
   "execution_count": null,
   "id": "45c24be9-6d99-4690-986a-6b1f6afe86e5",
   "metadata": {},
   "outputs": [],
   "source": [
    "pd.concat([df['fonte'].value_counts(),\n",
    "          df['fonte'].value_counts(normalize=True)*100], axis=1)"
   ]
  },
  {
   "cell_type": "markdown",
   "id": "c1c9bbde-d86a-43f8-8b9b-18e0c6e7fd01",
   "metadata": {},
   "source": [
    "### 4.12 Analysis of ``eopath_location``"
   ]
  },
  {
   "cell_type": "code",
   "execution_count": null,
   "id": "348f1cc7-e599-46ff-aad8-f5fcd344aa95",
   "metadata": {},
   "outputs": [],
   "source": [
    "df_check_NaN.loc[label_eopatch_path]"
   ]
  },
  {
   "cell_type": "code",
   "execution_count": null,
   "id": "5ddc184f-9aa5-45d6-88ba-4bc9d0f0f40c",
   "metadata": {},
   "outputs": [],
   "source": [
    "df.dropna(subset=[label_eopatch_path])"
   ]
  },
  {
   "cell_type": "code",
   "execution_count": null,
   "id": "f8a86c23-d7fa-4b76-a30f-211ef87e86f0",
   "metadata": {},
   "outputs": [],
   "source": [
    "df[label_eopatch_path].nunique()"
   ]
  },
  {
   "cell_type": "code",
   "execution_count": null,
   "id": "7901bce5-3d94-476e-a3f1-288a8f8c93bc",
   "metadata": {},
   "outputs": [],
   "source": [
    "df.shape[0]"
   ]
  },
  {
   "cell_type": "code",
   "execution_count": null,
   "id": "6c61e22b-eceb-4015-b6ee-452bdd9f7efc",
   "metadata": {},
   "outputs": [],
   "source": [
    "df_check_duplicated = df[df.duplicated(subset=[label_eopatch_path], keep=False)].copy()\n",
    "df_check_duplicated['id_duplicado'] = (df_check_duplicated.groupby([label_eopatch_path]).ngroup() + 1)\n",
    "df_check_duplicated.sort_values('id_duplicado', inplace=True)\n",
    "df_check_duplicated"
   ]
  },
  {
   "cell_type": "code",
   "execution_count": null,
   "id": "f4e61f77-cbd8-4c6c-b35d-4876aa14b988",
   "metadata": {},
   "outputs": [],
   "source": [
    "# Verifica se há duplicatas na coluna especificada\n",
    "duplicates = df['eopath_location'].duplicated(keep=False)\n",
    "\n",
    "# Calcula a quantidade de dados duplicados e o percentual em relação ao dataset final\n",
    "total_rows = len(df)\n",
    "duplicate_count = duplicates.sum()\n",
    "duplicate_percentage = (duplicate_count / total_rows) * 100\n",
    "\n",
    "print(f\"Quantidade de dados duplicados: {duplicate_count}\")\n",
    "print(f\"Percentual de dados duplicados: {duplicate_percentage:.2f}%\")"
   ]
  },
  {
   "cell_type": "markdown",
   "id": "a8d20295-5ea6-44f4-81ce-c538c2d00b50",
   "metadata": {},
   "source": [
    "* **Question**: O mesmo geopackage está apontando par ao mesmo eopatch_location? *"
   ]
  },
  {
   "cell_type": "markdown",
   "id": "7e194267-43e7-42b5-8b94-678566a1bc61",
   "metadata": {},
   "source": [
    "### 4.13 Check ``start_season`` and ``end_season``"
   ]
  },
  {
   "cell_type": "code",
   "execution_count": null,
   "id": "b455d8a9-8bba-4096-9604-990eb4011196",
   "metadata": {},
   "outputs": [],
   "source": [
    "df_check_NaN.loc[['start_season', 'end_season']]"
   ]
  },
  {
   "cell_type": "code",
   "execution_count": null,
   "id": "40c8aaba-a38c-4cff-903e-083ed3b1058a",
   "metadata": {},
   "outputs": [],
   "source": [
    "df[['start_season', 'end_season']].describe()"
   ]
  },
  {
   "cell_type": "code",
   "execution_count": null,
   "id": "01a497f4-504c-4db1-8857-e9e835a25247",
   "metadata": {},
   "outputs": [],
   "source": [
    "df.groupby(df['start_season'].dt.year).agg(count=(label_monitoring_class, 'count'))"
   ]
  },
  {
   "cell_type": "code",
   "execution_count": null,
   "id": "0a64e510-a151-46f9-ac98-0b9802eab907",
   "metadata": {},
   "outputs": [],
   "source": [
    "df.groupby(df['end_season'].dt.year).agg(count=(label_monitoring_class, 'count'))"
   ]
  },
  {
   "cell_type": "code",
   "execution_count": null,
   "id": "0471b393-858a-4b0c-9cdb-897ff9cd35ef",
   "metadata": {},
   "outputs": [],
   "source": [
    "df[df['start_season'] == df['end_season']]"
   ]
  },
  {
   "cell_type": "markdown",
   "id": "1b643f9e-4f79-426b-9007-f10f4443322c",
   "metadata": {},
   "source": [
    "### 4.14 Check ``start_season`` and ``end_season``"
   ]
  },
  {
   "cell_type": "code",
   "execution_count": null,
   "id": "711d8bce-9c82-432e-967d-5fb2bdacdddf",
   "metadata": {},
   "outputs": [],
   "source": [
    "df_check_NaN.loc[['peak_start', 'peak_end']]"
   ]
  },
  {
   "cell_type": "code",
   "execution_count": null,
   "id": "11072a8b-7bc5-4e62-b8cc-50f51c1382a5",
   "metadata": {},
   "outputs": [],
   "source": [
    "df[['peak_start', 'peak_end']].describe()"
   ]
  },
  {
   "cell_type": "code",
   "execution_count": null,
   "id": "3f8e267a-90e9-42e0-8ea7-192f7d3a8d0b",
   "metadata": {},
   "outputs": [],
   "source": [
    "df[['peak_start', 'peak_end']].describe()"
   ]
  },
  {
   "cell_type": "code",
   "execution_count": null,
   "id": "739a634e-8d7c-4093-be34-486bcb2a93c7",
   "metadata": {},
   "outputs": [],
   "source": [
    "df.groupby(df['peak_start'].dt.year).agg(count=(label_monitoring_class, 'count'))"
   ]
  },
  {
   "cell_type": "code",
   "execution_count": null,
   "id": "b8a643dc-f593-4b50-8d70-7a4044cf4b77",
   "metadata": {},
   "outputs": [],
   "source": [
    "df.groupby(df['peak_end'].dt.year).agg(count=(label_monitoring_class, 'count'))"
   ]
  },
  {
   "cell_type": "code",
   "execution_count": null,
   "id": "a40d5ac9-2836-46b2-90e6-21c4a8b73a39",
   "metadata": {},
   "outputs": [],
   "source": [
    "df[df['peak_start'] == df['peak_end']]"
   ]
  },
  {
   "cell_type": "code",
   "execution_count": null,
   "id": "6458e3b9-dd11-4230-a60a-1d08b1212094",
   "metadata": {},
   "outputs": [],
   "source": [
    "df['peak_start'].dt.year.unique()"
   ]
  },
  {
   "cell_type": "code",
   "execution_count": null,
   "id": "ee9d10a6-9342-4e44-ac17-e45f1244f485",
   "metadata": {},
   "outputs": [],
   "source": [
    "df['peak_end'].dt.year.unique()"
   ]
  },
  {
   "cell_type": "code",
   "execution_count": null,
   "id": "dcda2fc1-72a6-45fa-b885-891cee4626e6",
   "metadata": {},
   "outputs": [],
   "source": [
    "df.groupby(df['peak_start'].dt.year).agg(count=(label_monitoring_class, 'count'))"
   ]
  },
  {
   "cell_type": "markdown",
   "id": "b976b948-2fcf-4c0c-9a0f-6fec1cea356f",
   "metadata": {},
   "source": [
    "### 4.15 Check ``planting_start`` and ``planting_end``"
   ]
  },
  {
   "cell_type": "code",
   "execution_count": null,
   "id": "fca80e24-2e23-4f66-9e8b-6cc1b3210eaf",
   "metadata": {},
   "outputs": [],
   "source": [
    "df_check_NaN.loc[['planting_start', 'planting_end']]"
   ]
  },
  {
   "cell_type": "code",
   "execution_count": null,
   "id": "5fb16c31-aab6-4c51-90dc-51047495c209",
   "metadata": {},
   "outputs": [],
   "source": [
    "df[['planting_start', 'planting_end']].describe()"
   ]
  },
  {
   "cell_type": "code",
   "execution_count": null,
   "id": "50f9386f-8d84-4670-ac0a-c2f84890b569",
   "metadata": {},
   "outputs": [],
   "source": [
    "df.groupby(df['planting_start'].dt.year).agg(count=(label_monitoring_class, 'count'))"
   ]
  },
  {
   "cell_type": "code",
   "execution_count": null,
   "id": "3c975116-9e30-466f-a2df-c1f6f5f0a657",
   "metadata": {},
   "outputs": [],
   "source": [
    "df.groupby(df['planting_start'].dt.year).agg(count=(label_monitoring_class, 'count'))"
   ]
  },
  {
   "cell_type": "code",
   "execution_count": null,
   "id": "465785f4-c6e3-48a9-b462-9e3b12842518",
   "metadata": {},
   "outputs": [],
   "source": [
    "df[df['planting_start'] == df['planting_end']]"
   ]
  },
  {
   "cell_type": "code",
   "execution_count": null,
   "id": "160d0bb9-d8a4-44c3-b26b-7d609bd8f492",
   "metadata": {},
   "outputs": [],
   "source": [
    "df['planting_start'].dt.year.unique()"
   ]
  },
  {
   "cell_type": "code",
   "execution_count": null,
   "id": "61e1d53a-2997-449b-ae1a-d44c7ef39245",
   "metadata": {},
   "outputs": [],
   "source": [
    "df['planting_end'].dt.year.unique()"
   ]
  },
  {
   "cell_type": "markdown",
   "id": "feb203d2-0e65-46fc-b8ad-36d1939503e1",
   "metadata": {},
   "source": [
    "# 5. Multivariate Analysis"
   ]
  },
  {
   "cell_type": "code",
   "execution_count": null,
   "id": "e044420c-d99c-45af-9019-dd2c05c1b552",
   "metadata": {},
   "outputs": [],
   "source": [
    "df[label_monitoring_class].value_counts()"
   ]
  },
  {
   "cell_type": "code",
   "execution_count": null,
   "id": "932c1c1f-12d4-47e3-966b-762d6a0e3033",
   "metadata": {},
   "outputs": [],
   "source": [
    "columns_to_group = ['period', 'state', label_monitoring_class]\n",
    "report_distribuition = df.groupby(columns_to_group).agg(count=(label_eopatch_path, 'count')).reset_index()\n",
    "\n",
    "# Calcula o percentual em relação ao total\n",
    "total_count = len(df)\n",
    "report_distribuition['percentage'] = (report_distribuition['count'] / total_count) * 100"
   ]
  },
  {
   "cell_type": "code",
   "execution_count": null,
   "id": "5a8d029c-ef77-4390-8f79-c94ec6d74d08",
   "metadata": {},
   "outputs": [],
   "source": [
    "report_distribuition"
   ]
  },
  {
   "cell_type": "code",
   "execution_count": null,
   "id": "4a559a63-03b1-49dd-8143-2cb74cb2ba81",
   "metadata": {},
   "outputs": [],
   "source": [
    "result_string = '_'.join([f\"{cls}_{count}\" for cls, count in df[label_monitoring_class].value_counts().items()])\n",
    "result_string"
   ]
  },
  {
   "cell_type": "code",
   "execution_count": null,
   "id": "160d525a-3ad0-481d-9d02-f18e66bba5d7",
   "metadata": {},
   "outputs": [],
   "source": [
    "report_distribuition.to_csv(f'/agrilearn_app/datasets/base/reports/check_distribuition_by_class_and_state_{result_string}.csv',\n",
    "    sep=';',\n",
    "    decimal=',',\n",
    "    float_format='%.2f',\n",
    ")"
   ]
  },
  {
   "cell_type": "code",
   "execution_count": null,
   "id": "65b81e88-c376-460a-818b-de8da439dbd1",
   "metadata": {},
   "outputs": [],
   "source": [
    "df.to_file(f\"/agrilearn_app/datasets/base/geopackage/processed/bb_areas_and_teste_concordancia_{result_string}.gpkg\", driver='GPKG', engine='fiona')"
   ]
  },
  {
   "cell_type": "code",
   "execution_count": null,
   "id": "003aa46c-e460-4215-8032-fbda5cb26cba",
   "metadata": {},
   "outputs": [],
   "source": []
  }
 ],
 "metadata": {
  "kernelspec": {
   "display_name": "Python 3 (ipykernel)",
   "language": "python",
   "name": "python3"
  },
  "language_info": {
   "codemirror_mode": {
    "name": "ipython",
    "version": 3
   },
   "file_extension": ".py",
   "mimetype": "text/x-python",
   "name": "python",
   "nbconvert_exporter": "python",
   "pygments_lexer": "ipython3",
   "version": "3.10.12"
  }
 },
 "nbformat": 4,
 "nbformat_minor": 5
}
