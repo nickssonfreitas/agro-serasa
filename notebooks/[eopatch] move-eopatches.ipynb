{
 "cells": [
  {
   "cell_type": "code",
   "execution_count": 34,
   "id": "576fd74f-2e60-4afc-813e-14c723b6f8e3",
   "metadata": {},
   "outputs": [],
   "source": [
    "import sys\n",
    "sys.path.append(\"../agrilearn/submodules/commons/\")\n",
    "from agrilearn.commons.s3 import s3_utils\n",
    "from agrilearn.crop_classification import evaluate_utils, yaml_utils, processing\n",
    "import geopandas as gpd\n",
    "import pandas as pd\n",
    "import os"
   ]
  },
  {
   "cell_type": "markdown",
   "id": "85e6f0ff-bf66-404a-ace7-fe1d5f5722d0",
   "metadata": {},
   "source": [
    "## 1. Define Variables and Read Data"
   ]
  },
  {
   "cell_type": "code",
   "execution_count": 41,
   "id": "18f53df5-37bd-4df7-bb4a-69f6bd5b9df3",
   "metadata": {},
   "outputs": [],
   "source": [
    "MAIN_PATH = \"/agrilearn_app/output/experiment_12/data/\"\n",
    "GEOPACKAGE_RAW_PATH = os.path.join(MAIN_PATH, \"geopackage/processed/SOYBEAN_48257_CORN_33809_SUGAR_CANE_17640_WHEAT_4226_COTTON_3178_RICE_925_test.gpkg\")\n",
    "\n",
    "NEW_EOPATCH_PATH_PROCESSED = os.path.join(MAIN_PATH, \"eopatch/processed/\")\n",
    "#NEW_EOPATCH_PATH_INPUT_MODEL = os.path.join(MAIN_PATH, \"eopatch/input_model/\")\n",
    "\n",
    "OLD_EOPATCH_PATH_PROCESSED = \"/agrilearn_app/datasets/baselines/testes_de_concordancia/eopatch/processed_v2/\"\n",
    "#OLD_EOPATCH_PATH_INPUT_MODEL = \"/agrilearn_app/datasets/SUGAR_CANE/eopatch/input_model/\"\n",
    "\n",
    "REPORT_PATH = os.path.join(MAIN_PATH, \"reports\")\n",
    "\n",
    "LABEL_EOPATCH_LOCATION = \"eopatch_location\" "
   ]
  },
  {
   "cell_type": "code",
   "execution_count": 42,
   "id": "82a9b3d8-eb41-4165-8efc-a62e70d02910",
   "metadata": {},
   "outputs": [],
   "source": [
    "df = gpd.read_file(GEOPACKAGE_RAW_PATH)"
   ]
  },
  {
   "cell_type": "code",
   "execution_count": 43,
   "id": "eec6a003-3bfd-4f12-91c6-6f0c435579f3",
   "metadata": {},
   "outputs": [
    {
     "data": {
      "text/plain": [
       "(343, 36)"
      ]
     },
     "execution_count": 43,
     "metadata": {},
     "output_type": "execute_result"
    }
   ],
   "source": [
    "df.shape"
   ]
  },
  {
   "cell_type": "code",
   "execution_count": 44,
   "id": "4436b014-847d-4738-880b-4d7cda9ec072",
   "metadata": {},
   "outputs": [
    {
     "data": {
      "text/html": [
       "<div>\n",
       "<style scoped>\n",
       "    .dataframe tbody tr th:only-of-type {\n",
       "        vertical-align: middle;\n",
       "    }\n",
       "\n",
       "    .dataframe tbody tr th {\n",
       "        vertical-align: top;\n",
       "    }\n",
       "\n",
       "    .dataframe thead th {\n",
       "        text-align: right;\n",
       "    }\n",
       "</style>\n",
       "<table border=\"1\" class=\"dataframe\">\n",
       "  <thead>\n",
       "    <tr style=\"text-align: right;\">\n",
       "      <th></th>\n",
       "      <th>interest_area_id</th>\n",
       "      <th>period</th>\n",
       "      <th>start_season</th>\n",
       "      <th>emergence_date</th>\n",
       "      <th>gt_class</th>\n",
       "      <th>end_season</th>\n",
       "      <th>monitoring_class</th>\n",
       "      <th>state</th>\n",
       "      <th>peak_start</th>\n",
       "      <th>peak_end</th>\n",
       "      <th>...</th>\n",
       "      <th>dataset_part</th>\n",
       "      <th>geopackage</th>\n",
       "      <th>geopackage_class</th>\n",
       "      <th>eopatch_processed_exists</th>\n",
       "      <th>len_data</th>\n",
       "      <th>len_bands</th>\n",
       "      <th>len_time_interval</th>\n",
       "      <th>len_timestamp</th>\n",
       "      <th>error_processed</th>\n",
       "      <th>geometry</th>\n",
       "    </tr>\n",
       "  </thead>\n",
       "  <tbody>\n",
       "    <tr>\n",
       "      <th>0</th>\n",
       "      <td>35</td>\n",
       "      <td>2020/2021</td>\n",
       "      <td>2020-10-01</td>\n",
       "      <td>None</td>\n",
       "      <td>PASTURE</td>\n",
       "      <td>2021-05-01</td>\n",
       "      <td>SOYBEAN</td>\n",
       "      <td>GO</td>\n",
       "      <td>2020-12-01</td>\n",
       "      <td>2021-02-01</td>\n",
       "      <td>...</td>\n",
       "      <td>test</td>\n",
       "      <td>start_2020-10-01_end_2021-05-01_monitoring_cla...</td>\n",
       "      <td>SOYBEAN</td>\n",
       "      <td>True</td>\n",
       "      <td>4</td>\n",
       "      <td>10</td>\n",
       "      <td>2</td>\n",
       "      <td>42</td>\n",
       "      <td>None</td>\n",
       "      <td>MULTIPOLYGON (((-47.30475 -17.01249, -47.30447...</td>\n",
       "    </tr>\n",
       "    <tr>\n",
       "      <th>1</th>\n",
       "      <td>36</td>\n",
       "      <td>2020/2021</td>\n",
       "      <td>2020-10-01</td>\n",
       "      <td>None</td>\n",
       "      <td>PASTURE</td>\n",
       "      <td>2021-05-01</td>\n",
       "      <td>SOYBEAN</td>\n",
       "      <td>GO</td>\n",
       "      <td>2020-12-01</td>\n",
       "      <td>2021-02-01</td>\n",
       "      <td>...</td>\n",
       "      <td>test</td>\n",
       "      <td>start_2020-10-01_end_2021-05-01_monitoring_cla...</td>\n",
       "      <td>SOYBEAN</td>\n",
       "      <td>True</td>\n",
       "      <td>4</td>\n",
       "      <td>10</td>\n",
       "      <td>2</td>\n",
       "      <td>42</td>\n",
       "      <td>None</td>\n",
       "      <td>MULTIPOLYGON (((-47.54068 -17.00806, -47.54041...</td>\n",
       "    </tr>\n",
       "    <tr>\n",
       "      <th>2</th>\n",
       "      <td>37</td>\n",
       "      <td>2020/2021</td>\n",
       "      <td>2020-10-01</td>\n",
       "      <td>None</td>\n",
       "      <td>PASTURE</td>\n",
       "      <td>2021-05-01</td>\n",
       "      <td>SOYBEAN</td>\n",
       "      <td>GO</td>\n",
       "      <td>2020-12-01</td>\n",
       "      <td>2021-02-01</td>\n",
       "      <td>...</td>\n",
       "      <td>test</td>\n",
       "      <td>start_2020-10-01_end_2021-05-01_monitoring_cla...</td>\n",
       "      <td>SOYBEAN</td>\n",
       "      <td>True</td>\n",
       "      <td>4</td>\n",
       "      <td>10</td>\n",
       "      <td>2</td>\n",
       "      <td>42</td>\n",
       "      <td>None</td>\n",
       "      <td>MULTIPOLYGON (((-47.26563 -16.6992, -47.26474 ...</td>\n",
       "    </tr>\n",
       "    <tr>\n",
       "      <th>3</th>\n",
       "      <td>38</td>\n",
       "      <td>2020/2021</td>\n",
       "      <td>2020-10-01</td>\n",
       "      <td>None</td>\n",
       "      <td>PASTURE</td>\n",
       "      <td>2021-05-01</td>\n",
       "      <td>SOYBEAN</td>\n",
       "      <td>MG</td>\n",
       "      <td>2020-12-01</td>\n",
       "      <td>2021-02-01</td>\n",
       "      <td>...</td>\n",
       "      <td>test</td>\n",
       "      <td>start_2020-10-01_end_2021-05-01_monitoring_cla...</td>\n",
       "      <td>SOYBEAN</td>\n",
       "      <td>True</td>\n",
       "      <td>4</td>\n",
       "      <td>10</td>\n",
       "      <td>2</td>\n",
       "      <td>42</td>\n",
       "      <td>None</td>\n",
       "      <td>MULTIPOLYGON (((-47.19169 -17.17247, -47.19154...</td>\n",
       "    </tr>\n",
       "    <tr>\n",
       "      <th>4</th>\n",
       "      <td>39</td>\n",
       "      <td>2020/2021</td>\n",
       "      <td>2020-10-01</td>\n",
       "      <td>None</td>\n",
       "      <td>PASTURE</td>\n",
       "      <td>2021-05-01</td>\n",
       "      <td>SOYBEAN</td>\n",
       "      <td>MG</td>\n",
       "      <td>2020-12-01</td>\n",
       "      <td>2021-02-01</td>\n",
       "      <td>...</td>\n",
       "      <td>test</td>\n",
       "      <td>start_2020-10-01_end_2021-05-01_monitoring_cla...</td>\n",
       "      <td>SOYBEAN</td>\n",
       "      <td>True</td>\n",
       "      <td>4</td>\n",
       "      <td>10</td>\n",
       "      <td>2</td>\n",
       "      <td>42</td>\n",
       "      <td>None</td>\n",
       "      <td>MULTIPOLYGON (((-47.09819 -17.33197, -47.09819...</td>\n",
       "    </tr>\n",
       "  </tbody>\n",
       "</table>\n",
       "<p>5 rows × 36 columns</p>\n",
       "</div>"
      ],
      "text/plain": [
       "   interest_area_id     period start_season emergence_date gt_class  \\\n",
       "0                35  2020/2021   2020-10-01           None  PASTURE   \n",
       "1                36  2020/2021   2020-10-01           None  PASTURE   \n",
       "2                37  2020/2021   2020-10-01           None  PASTURE   \n",
       "3                38  2020/2021   2020-10-01           None  PASTURE   \n",
       "4                39  2020/2021   2020-10-01           None  PASTURE   \n",
       "\n",
       "  end_season monitoring_class state peak_start   peak_end  ... dataset_part  \\\n",
       "0 2021-05-01          SOYBEAN    GO 2020-12-01 2021-02-01  ...         test   \n",
       "1 2021-05-01          SOYBEAN    GO 2020-12-01 2021-02-01  ...         test   \n",
       "2 2021-05-01          SOYBEAN    GO 2020-12-01 2021-02-01  ...         test   \n",
       "3 2021-05-01          SOYBEAN    MG 2020-12-01 2021-02-01  ...         test   \n",
       "4 2021-05-01          SOYBEAN    MG 2020-12-01 2021-02-01  ...         test   \n",
       "\n",
       "                                          geopackage geopackage_class  \\\n",
       "0  start_2020-10-01_end_2021-05-01_monitoring_cla...          SOYBEAN   \n",
       "1  start_2020-10-01_end_2021-05-01_monitoring_cla...          SOYBEAN   \n",
       "2  start_2020-10-01_end_2021-05-01_monitoring_cla...          SOYBEAN   \n",
       "3  start_2020-10-01_end_2021-05-01_monitoring_cla...          SOYBEAN   \n",
       "4  start_2020-10-01_end_2021-05-01_monitoring_cla...          SOYBEAN   \n",
       "\n",
       "  eopatch_processed_exists len_data len_bands len_time_interval len_timestamp  \\\n",
       "0                     True        4        10                 2            42   \n",
       "1                     True        4        10                 2            42   \n",
       "2                     True        4        10                 2            42   \n",
       "3                     True        4        10                 2            42   \n",
       "4                     True        4        10                 2            42   \n",
       "\n",
       "  error_processed                                           geometry  \n",
       "0            None  MULTIPOLYGON (((-47.30475 -17.01249, -47.30447...  \n",
       "1            None  MULTIPOLYGON (((-47.54068 -17.00806, -47.54041...  \n",
       "2            None  MULTIPOLYGON (((-47.26563 -16.6992, -47.26474 ...  \n",
       "3            None  MULTIPOLYGON (((-47.19169 -17.17247, -47.19154...  \n",
       "4            None  MULTIPOLYGON (((-47.09819 -17.33197, -47.09819...  \n",
       "\n",
       "[5 rows x 36 columns]"
      ]
     },
     "execution_count": 44,
     "metadata": {},
     "output_type": "execute_result"
    }
   ],
   "source": [
    "df.head()"
   ]
  },
  {
   "cell_type": "code",
   "execution_count": 45,
   "id": "664e24cf-e8ac-4646-8757-6b99a920ec31",
   "metadata": {},
   "outputs": [],
   "source": [
    "df[LABEL_EOPATCH_LOCATION] = df['eopath_location']"
   ]
  },
  {
   "cell_type": "code",
   "execution_count": 46,
   "id": "ed7b01ea-3443-4af5-ada5-a4bb13ce1821",
   "metadata": {},
   "outputs": [],
   "source": [
    "del df['eopath_location']"
   ]
  },
  {
   "cell_type": "markdown",
   "id": "6548aba5-8d69-4c76-bc94-fa812572fe92",
   "metadata": {},
   "source": [
    "## 2. Processing Geopackage"
   ]
  },
  {
   "cell_type": "markdown",
   "id": "a4dcc555-4a93-4bba-9434-89bdd5705c4c",
   "metadata": {},
   "source": [
    "### 2.1 Drop Columns NaN"
   ]
  },
  {
   "cell_type": "code",
   "execution_count": 47,
   "id": "6dc7f806-31a0-4911-afa6-0bc3655a38cb",
   "metadata": {},
   "outputs": [
    {
     "name": "stdout",
     "output_type": "stream",
     "text": [
      "Removed Columns: 1, Percentage: 2.78%\n"
     ]
    }
   ],
   "source": [
    "shape_before = df.shape[1]\n",
    "df.dropna(axis=1, how='all', inplace=True)\n",
    "print(f\"Removed Columns: {shape_before - df.shape[1]}, Percentage: {(shape_before - df.shape[1]) / shape_before * 100:.2f}%\")"
   ]
  },
  {
   "cell_type": "markdown",
   "id": "8d64c9d3-82cf-480e-9880-7a3651edb678",
   "metadata": {},
   "source": [
    "### 2.2 Check NaN values"
   ]
  },
  {
   "cell_type": "code",
   "execution_count": 48,
   "id": "9e2b6e1d-4cf0-4372-a938-36526e0f53ed",
   "metadata": {},
   "outputs": [
    {
     "data": {
      "text/html": [
       "<div>\n",
       "<style scoped>\n",
       "    .dataframe tbody tr th:only-of-type {\n",
       "        vertical-align: middle;\n",
       "    }\n",
       "\n",
       "    .dataframe tbody tr th {\n",
       "        vertical-align: top;\n",
       "    }\n",
       "\n",
       "    .dataframe thead th {\n",
       "        text-align: right;\n",
       "    }\n",
       "</style>\n",
       "<table border=\"1\" class=\"dataframe\">\n",
       "  <thead>\n",
       "    <tr style=\"text-align: right;\">\n",
       "      <th></th>\n",
       "      <th>Null Count</th>\n",
       "      <th>NaN percentage</th>\n",
       "    </tr>\n",
       "  </thead>\n",
       "  <tbody>\n",
       "    <tr>\n",
       "      <th>last_date_crop_rnn</th>\n",
       "      <td>50</td>\n",
       "      <td>14.577259</td>\n",
       "    </tr>\n",
       "    <tr>\n",
       "      <th>crop_confidence_maha_sits</th>\n",
       "      <td>50</td>\n",
       "      <td>14.577259</td>\n",
       "    </tr>\n",
       "    <tr>\n",
       "      <th>emergence_date</th>\n",
       "      <td>50</td>\n",
       "      <td>14.577259</td>\n",
       "    </tr>\n",
       "    <tr>\n",
       "      <th>crop_distance_score_sits</th>\n",
       "      <td>50</td>\n",
       "      <td>14.577259</td>\n",
       "    </tr>\n",
       "    <tr>\n",
       "      <th>start_season</th>\n",
       "      <td>0</td>\n",
       "      <td>0.000000</td>\n",
       "    </tr>\n",
       "  </tbody>\n",
       "</table>\n",
       "</div>"
      ],
      "text/plain": [
       "                           Null Count  NaN percentage\n",
       "last_date_crop_rnn                 50       14.577259\n",
       "crop_confidence_maha_sits          50       14.577259\n",
       "emergence_date                     50       14.577259\n",
       "crop_distance_score_sits           50       14.577259\n",
       "start_season                        0        0.000000"
      ]
     },
     "execution_count": 48,
     "metadata": {},
     "output_type": "execute_result"
    }
   ],
   "source": [
    "# Calcula a quantidade de registros nulos e a porcentagem de registros nulos\n",
    "df_check_NaN = pd.concat([df.isna().sum(), df.isna().sum() / df.shape[0] * 100], axis=1)\n",
    "df_check_NaN.columns = ['Null Count', 'NaN percentage']\n",
    "df_check_NaN.sort_values('NaN percentage', ascending=False, inplace=True)\n",
    "df_check_NaN.head()"
   ]
  },
  {
   "cell_type": "markdown",
   "id": "20e67071-edba-4f5a-b5d3-7057b0b6e434",
   "metadata": {},
   "source": [
    "### 2.3 Transform all Geometry to Multipolygon"
   ]
  },
  {
   "cell_type": "code",
   "execution_count": 49,
   "id": "69609852-765d-40dd-aa04-39f7fd852eec",
   "metadata": {},
   "outputs": [],
   "source": [
    "from shapely.geometry import Polygon, MultiPolygon"
   ]
  },
  {
   "cell_type": "code",
   "execution_count": 50,
   "id": "743737cd-fb15-4fe2-b338-7ad6eabac18e",
   "metadata": {},
   "outputs": [],
   "source": [
    "df['geometry'] = df['geometry'].apply(lambda geom: MultiPolygon([geom]) if isinstance(geom, Polygon) else geom)"
   ]
  },
  {
   "cell_type": "markdown",
   "id": "3ca10c52-2354-4e49-b819-260231448975",
   "metadata": {},
   "source": [
    "### 2.4 Check Duplicates"
   ]
  },
  {
   "cell_type": "code",
   "execution_count": 51,
   "id": "41edc734-fe66-4488-a1d4-1ec185d3f382",
   "metadata": {},
   "outputs": [],
   "source": [
    "subset_duplicate = ['geometry', 'period']\n",
    "df['duplicates_id'] = None\n",
    "\n",
    "duplicados = df[df.duplicated(subset=subset_duplicate, keep=False)]\n",
    "# Adicione um identificador para os duplicados\n",
    "duplicados['duplicates_id'] = duplicados.groupby(subset_duplicate).ngroup()\n",
    "# Combine os dados duplicados com o DataFrame original\n",
    "df.update(duplicados)\n",
    "df.sort_values('duplicates_id', inplace=True)"
   ]
  },
  {
   "cell_type": "code",
   "execution_count": 52,
   "id": "f62be976-aa0e-405a-8796-f2b652daabfc",
   "metadata": {},
   "outputs": [
    {
     "data": {
      "text/html": [
       "<div>\n",
       "<style scoped>\n",
       "    .dataframe tbody tr th:only-of-type {\n",
       "        vertical-align: middle;\n",
       "    }\n",
       "\n",
       "    .dataframe tbody tr th {\n",
       "        vertical-align: top;\n",
       "    }\n",
       "\n",
       "    .dataframe thead th {\n",
       "        text-align: right;\n",
       "    }\n",
       "</style>\n",
       "<table border=\"1\" class=\"dataframe\">\n",
       "  <thead>\n",
       "    <tr style=\"text-align: right;\">\n",
       "      <th></th>\n",
       "      <th>interest_area_id</th>\n",
       "      <th>period</th>\n",
       "      <th>start_season</th>\n",
       "      <th>emergence_date</th>\n",
       "      <th>gt_class</th>\n",
       "      <th>end_season</th>\n",
       "      <th>monitoring_class</th>\n",
       "      <th>state</th>\n",
       "      <th>peak_start</th>\n",
       "      <th>peak_end</th>\n",
       "      <th>...</th>\n",
       "      <th>geopackage</th>\n",
       "      <th>geopackage_class</th>\n",
       "      <th>eopatch_processed_exists</th>\n",
       "      <th>len_data</th>\n",
       "      <th>len_bands</th>\n",
       "      <th>len_time_interval</th>\n",
       "      <th>len_timestamp</th>\n",
       "      <th>geometry</th>\n",
       "      <th>eopatch_location</th>\n",
       "      <th>duplicates_id</th>\n",
       "    </tr>\n",
       "  </thead>\n",
       "  <tbody>\n",
       "  </tbody>\n",
       "</table>\n",
       "<p>0 rows × 36 columns</p>\n",
       "</div>"
      ],
      "text/plain": [
       "Empty GeoDataFrame\n",
       "Columns: [interest_area_id, period, start_season, emergence_date, gt_class, end_season, monitoring_class, state, peak_start, peak_end, sentinel_eopatch_current, obs_contour, obs_contour_score, agricultural_area, obs_farm_plot, obs_emergence, obs_senescence, obs_harvest, obs_extra, created_by, area_id, last_date_crop_rnn, crop_distance_score_sits, crop_confidence_maha_sits, set, dataset_part, geopackage, geopackage_class, eopatch_processed_exists, len_data, len_bands, len_time_interval, len_timestamp, geometry, eopatch_location, duplicates_id]\n",
       "Index: []\n",
       "\n",
       "[0 rows x 36 columns]"
      ]
     },
     "execution_count": 52,
     "metadata": {},
     "output_type": "execute_result"
    }
   ],
   "source": [
    "df[df['duplicates_id']==1]"
   ]
  },
  {
   "cell_type": "code",
   "execution_count": 53,
   "id": "087476aa-f0aa-47a2-9db9-a955b0e50ef0",
   "metadata": {},
   "outputs": [
    {
     "name": "stdout",
     "output_type": "stream",
     "text": [
      "Removed records: 0, Percentage: 0.00%\n"
     ]
    }
   ],
   "source": [
    "shape_before = df.shape[0]\n",
    "df.drop_duplicates(subset=subset_duplicate, inplace=True)\n",
    "print(f\"Removed records: {shape_before - df.shape[0]}, Percentage: {(shape_before - df.shape[0]) / shape_before * 100:.2f}%\")"
   ]
  },
  {
   "cell_type": "markdown",
   "id": "5f5611ac-de51-47b7-b41a-0ab55eb7c676",
   "metadata": {},
   "source": [
    "### 2.5 feature engineering"
   ]
  },
  {
   "cell_type": "code",
   "execution_count": 54,
   "id": "527dbe7f-0ae7-4c67-b8f5-52ff4749fb76",
   "metadata": {},
   "outputs": [],
   "source": [
    "df['safra'] = df['period'].apply(lambda x: 'safrinha' if x.split('/')[0] == x.split('/')[1] else 'safra')"
   ]
  },
  {
   "cell_type": "code",
   "execution_count": 55,
   "id": "35cde317-adab-413a-bf94-842cc7f5933d",
   "metadata": {},
   "outputs": [
    {
     "data": {
      "text/plain": [
       "safra\n",
       "safra       216\n",
       "safrinha    127\n",
       "Name: count, dtype: int64"
      ]
     },
     "execution_count": 55,
     "metadata": {},
     "output_type": "execute_result"
    }
   ],
   "source": [
    "df['safra'].value_counts()"
   ]
  },
  {
   "cell_type": "markdown",
   "id": "aba321ba-2579-45be-95bd-6bd1475710c0",
   "metadata": {},
   "source": [
    "## 3. Move eopatch to other"
   ]
  },
  {
   "cell_type": "code",
   "execution_count": 56,
   "id": "9ede90a4-d530-457b-bc4c-19e1d3ecfe5e",
   "metadata": {},
   "outputs": [
    {
     "name": "stdout",
     "output_type": "stream",
     "text": [
      "Coluna 'eopatch_processed_exists' deletada.\n",
      "Coluna 'len_data' deletada.\n",
      "Coluna 'len_bands' deletada.\n",
      "Coluna 'len_time_interval' deletada.\n",
      "Coluna 'len_timestamp' deletada.\n",
      "Coluna 'error_processed' não existe no DataFrame.\n"
     ]
    }
   ],
   "source": [
    "processing.check_and_delete_columns(df, columns_to_drop=['eopatch_processed_exists', 'len_data', 'len_bands', 'len_time_interval', 'len_timestamp', 'error_processed'])"
   ]
  },
  {
   "cell_type": "markdown",
   "id": "33cfdde7-e234-4c07-95b9-3792d19b0028",
   "metadata": {},
   "source": [
    "#### A) PROCESSED"
   ]
  },
  {
   "cell_type": "code",
   "execution_count": 57,
   "id": "234a640f-6bb2-42e5-b72f-769cc9b70dee",
   "metadata": {},
   "outputs": [
    {
     "name": "stderr",
     "output_type": "stream",
     "text": [
      "2025-04-22 23:39:27,143 - INFO - Iniciando a execução da função 'check_load_eopatch_and_change_eopatch_dir'\n"
     ]
    },
    {
     "data": {
      "application/vnd.jupyter.widget-view+json": {
       "model_id": "4b14a23cd13744c8be535e36c622f02f",
       "version_major": 2,
       "version_minor": 0
      },
      "text/plain": [
       "  0%|          | 0/343 [00:00<?, ?it/s]"
      ]
     },
     "metadata": {},
     "output_type": "display_data"
    },
    {
     "name": "stderr",
     "output_type": "stream",
     "text": [
      "2025-04-22 23:41:15,743 - INFO - Tempo de execução da função 'check_load_eopatch_and_change_eopatch_dir': 108.60 segundos\n"
     ]
    }
   ],
   "source": [
    "df_results_processed = processing.check_load_eopatch_and_change_eopatch_dir(df,\n",
    "                                        eopatch_path=OLD_EOPATCH_PATH_PROCESSED,\n",
    "                                        new_eopatch_path=NEW_EOPATCH_PATH_PROCESSED,\n",
    "                                        label_monitoring_class='monitoring_class',\n",
    "                                        label_eopatch_path=LABEL_EOPATCH_LOCATION)"
   ]
  },
  {
   "cell_type": "code",
   "execution_count": 58,
   "id": "fa4cc701-4d60-459f-af24-7ec11ae016a7",
   "metadata": {},
   "outputs": [
    {
     "data": {
      "text/html": [
       "<div>\n",
       "<style scoped>\n",
       "    .dataframe tbody tr th:only-of-type {\n",
       "        vertical-align: middle;\n",
       "    }\n",
       "\n",
       "    .dataframe tbody tr th {\n",
       "        vertical-align: top;\n",
       "    }\n",
       "\n",
       "    .dataframe thead th {\n",
       "        text-align: right;\n",
       "    }\n",
       "</style>\n",
       "<table border=\"1\" class=\"dataframe\">\n",
       "  <thead>\n",
       "    <tr style=\"text-align: right;\">\n",
       "      <th></th>\n",
       "      <th>miss_geopackage</th>\n",
       "      <th>error_processed</th>\n",
       "      <th>rsync_output</th>\n",
       "    </tr>\n",
       "  </thead>\n",
       "  <tbody>\n",
       "    <tr>\n",
       "      <th>0</th>\n",
       "      <td>start_2020-10-01_end_2021-05-01_monitoring_cla...</td>\n",
       "      <td>None</td>\n",
       "      <td></td>\n",
       "    </tr>\n",
       "    <tr>\n",
       "      <th>1</th>\n",
       "      <td>start_2020-10-01_end_2021-05-01_monitoring_cla...</td>\n",
       "      <td>None</td>\n",
       "      <td></td>\n",
       "    </tr>\n",
       "    <tr>\n",
       "      <th>2</th>\n",
       "      <td>start_2020-10-01_end_2021-05-01_monitoring_cla...</td>\n",
       "      <td>None</td>\n",
       "      <td></td>\n",
       "    </tr>\n",
       "    <tr>\n",
       "      <th>3</th>\n",
       "      <td>start_2020-10-01_end_2021-05-01_monitoring_cla...</td>\n",
       "      <td>None</td>\n",
       "      <td></td>\n",
       "    </tr>\n",
       "    <tr>\n",
       "      <th>4</th>\n",
       "      <td>start_2020-10-01_end_2021-05-01_monitoring_cla...</td>\n",
       "      <td>None</td>\n",
       "      <td></td>\n",
       "    </tr>\n",
       "    <tr>\n",
       "      <th>...</th>\n",
       "      <td>...</td>\n",
       "      <td>...</td>\n",
       "      <td>...</td>\n",
       "    </tr>\n",
       "    <tr>\n",
       "      <th>338</th>\n",
       "      <td>start_2023-02-01_end_2023-10-01_monitoring_cla...</td>\n",
       "      <td>None</td>\n",
       "      <td></td>\n",
       "    </tr>\n",
       "    <tr>\n",
       "      <th>339</th>\n",
       "      <td>start_2023-02-01_end_2023-10-01_monitoring_cla...</td>\n",
       "      <td>None</td>\n",
       "      <td></td>\n",
       "    </tr>\n",
       "    <tr>\n",
       "      <th>340</th>\n",
       "      <td>start_2023-02-01_end_2023-10-01_monitoring_cla...</td>\n",
       "      <td>None</td>\n",
       "      <td></td>\n",
       "    </tr>\n",
       "    <tr>\n",
       "      <th>341</th>\n",
       "      <td>start_2023-02-01_end_2023-10-01_monitoring_cla...</td>\n",
       "      <td>None</td>\n",
       "      <td></td>\n",
       "    </tr>\n",
       "    <tr>\n",
       "      <th>342</th>\n",
       "      <td>start_2023-02-01_end_2023-10-01_monitoring_cla...</td>\n",
       "      <td>None</td>\n",
       "      <td></td>\n",
       "    </tr>\n",
       "  </tbody>\n",
       "</table>\n",
       "<p>343 rows × 3 columns</p>\n",
       "</div>"
      ],
      "text/plain": [
       "                                       miss_geopackage error_processed  \\\n",
       "0    start_2020-10-01_end_2021-05-01_monitoring_cla...            None   \n",
       "1    start_2020-10-01_end_2021-05-01_monitoring_cla...            None   \n",
       "2    start_2020-10-01_end_2021-05-01_monitoring_cla...            None   \n",
       "3    start_2020-10-01_end_2021-05-01_monitoring_cla...            None   \n",
       "4    start_2020-10-01_end_2021-05-01_monitoring_cla...            None   \n",
       "..                                                 ...             ...   \n",
       "338  start_2023-02-01_end_2023-10-01_monitoring_cla...            None   \n",
       "339  start_2023-02-01_end_2023-10-01_monitoring_cla...            None   \n",
       "340  start_2023-02-01_end_2023-10-01_monitoring_cla...            None   \n",
       "341  start_2023-02-01_end_2023-10-01_monitoring_cla...            None   \n",
       "342  start_2023-02-01_end_2023-10-01_monitoring_cla...            None   \n",
       "\n",
       "    rsync_output  \n",
       "0                 \n",
       "1                 \n",
       "2                 \n",
       "3                 \n",
       "4                 \n",
       "..           ...  \n",
       "338               \n",
       "339               \n",
       "340               \n",
       "341               \n",
       "342               \n",
       "\n",
       "[343 rows x 3 columns]"
      ]
     },
     "execution_count": 58,
     "metadata": {},
     "output_type": "execute_result"
    }
   ],
   "source": [
    "df_results_processed"
   ]
  },
  {
   "cell_type": "markdown",
   "id": "37c40296-5ab1-4d0f-8eff-ae2ad54a8e96",
   "metadata": {},
   "source": [
    "#### B) INPUT_MODEL"
   ]
  },
  {
   "cell_type": "code",
   "execution_count": 59,
   "id": "73654355-4a9e-4684-999c-c964e0c052fc",
   "metadata": {},
   "outputs": [],
   "source": [
    "# df_results_input = processing.check_load_eopatch_and_change_eopatch_dir(df,\n",
    "#                                         eopatch_path=OLD_EOPATCH_PATH_INPUT_MODEL,\n",
    "#                                         new_eopatch_path=NEW_EOPATCH_PATH_INPUT_MODEL,\n",
    "#                                         label_monitoring_class='monitoring_class',\n",
    "#                                         label_eopatch_path='eopath_location')"
   ]
  },
  {
   "cell_type": "code",
   "execution_count": 60,
   "id": "8f130b30-06dc-49c8-b601-9332c705899f",
   "metadata": {},
   "outputs": [],
   "source": [
    "# df_results_input['miss_geopackage'].nunique()"
   ]
  },
  {
   "cell_type": "code",
   "execution_count": 61,
   "id": "950b1a17-81e8-4d21-9e51-9698d8a52e8e",
   "metadata": {},
   "outputs": [],
   "source": [
    "# df_results_input['error_processed'].value_counts()"
   ]
  },
  {
   "cell_type": "markdown",
   "id": "db436b65-8415-41d2-8f82-ea7fe81f5024",
   "metadata": {},
   "source": [
    "## 4. Check processed eopatch"
   ]
  },
  {
   "cell_type": "code",
   "execution_count": 62,
   "id": "9622f2ca-a00d-42e7-8308-5178f16b7a12",
   "metadata": {},
   "outputs": [
    {
     "data": {
      "text/plain": [
       "'SOYBEAN_216_CORN_127'"
      ]
     },
     "execution_count": 62,
     "metadata": {},
     "output_type": "execute_result"
    }
   ],
   "source": [
    "string_name = processing.get_geopackage_name(df)\n",
    "string_name"
   ]
  },
  {
   "cell_type": "code",
   "execution_count": 63,
   "id": "697a4802-decc-478d-9998-e31edf396f0c",
   "metadata": {},
   "outputs": [
    {
     "data": {
      "text/html": [
       "<div>\n",
       "<style scoped>\n",
       "    .dataframe tbody tr th:only-of-type {\n",
       "        vertical-align: middle;\n",
       "    }\n",
       "\n",
       "    .dataframe tbody tr th {\n",
       "        vertical-align: top;\n",
       "    }\n",
       "\n",
       "    .dataframe thead th {\n",
       "        text-align: right;\n",
       "    }\n",
       "</style>\n",
       "<table border=\"1\" class=\"dataframe\">\n",
       "  <thead>\n",
       "    <tr style=\"text-align: right;\">\n",
       "      <th></th>\n",
       "      <th>interest_area_id</th>\n",
       "      <th>period</th>\n",
       "      <th>start_season</th>\n",
       "      <th>emergence_date</th>\n",
       "      <th>gt_class</th>\n",
       "      <th>end_season</th>\n",
       "      <th>monitoring_class</th>\n",
       "      <th>state</th>\n",
       "      <th>peak_start</th>\n",
       "      <th>peak_end</th>\n",
       "      <th>...</th>\n",
       "      <th>crop_distance_score_sits</th>\n",
       "      <th>crop_confidence_maha_sits</th>\n",
       "      <th>set</th>\n",
       "      <th>dataset_part</th>\n",
       "      <th>geopackage</th>\n",
       "      <th>geopackage_class</th>\n",
       "      <th>geometry</th>\n",
       "      <th>eopatch_location</th>\n",
       "      <th>duplicates_id</th>\n",
       "      <th>safra</th>\n",
       "    </tr>\n",
       "  </thead>\n",
       "  <tbody>\n",
       "    <tr>\n",
       "      <th>0</th>\n",
       "      <td>35</td>\n",
       "      <td>2020/2021</td>\n",
       "      <td>2020-10-01</td>\n",
       "      <td>None</td>\n",
       "      <td>PASTURE</td>\n",
       "      <td>2021-05-01</td>\n",
       "      <td>SOYBEAN</td>\n",
       "      <td>GO</td>\n",
       "      <td>2020-12-01</td>\n",
       "      <td>2021-02-01</td>\n",
       "      <td>...</td>\n",
       "      <td>None</td>\n",
       "      <td>None</td>\n",
       "      <td>run_2082_mvp_344_teste_concordancia_crop_120.gpkg</td>\n",
       "      <td>test</td>\n",
       "      <td>start_2020-10-01_end_2021-05-01_monitoring_cla...</td>\n",
       "      <td>SOYBEAN</td>\n",
       "      <td>MULTIPOLYGON (((-47.30475 -17.01249, -47.30447...</td>\n",
       "      <td>start_2020-10-01_end_2021-05-01_monitoring_cla...</td>\n",
       "      <td>None</td>\n",
       "      <td>safra</td>\n",
       "    </tr>\n",
       "    <tr>\n",
       "      <th>1</th>\n",
       "      <td>36</td>\n",
       "      <td>2020/2021</td>\n",
       "      <td>2020-10-01</td>\n",
       "      <td>None</td>\n",
       "      <td>PASTURE</td>\n",
       "      <td>2021-05-01</td>\n",
       "      <td>SOYBEAN</td>\n",
       "      <td>GO</td>\n",
       "      <td>2020-12-01</td>\n",
       "      <td>2021-02-01</td>\n",
       "      <td>...</td>\n",
       "      <td>None</td>\n",
       "      <td>None</td>\n",
       "      <td>run_2082_mvp_344_teste_concordancia_crop_120.gpkg</td>\n",
       "      <td>test</td>\n",
       "      <td>start_2020-10-01_end_2021-05-01_monitoring_cla...</td>\n",
       "      <td>SOYBEAN</td>\n",
       "      <td>MULTIPOLYGON (((-47.54068 -17.00806, -47.54041...</td>\n",
       "      <td>start_2020-10-01_end_2021-05-01_monitoring_cla...</td>\n",
       "      <td>None</td>\n",
       "      <td>safra</td>\n",
       "    </tr>\n",
       "    <tr>\n",
       "      <th>2</th>\n",
       "      <td>37</td>\n",
       "      <td>2020/2021</td>\n",
       "      <td>2020-10-01</td>\n",
       "      <td>None</td>\n",
       "      <td>PASTURE</td>\n",
       "      <td>2021-05-01</td>\n",
       "      <td>SOYBEAN</td>\n",
       "      <td>GO</td>\n",
       "      <td>2020-12-01</td>\n",
       "      <td>2021-02-01</td>\n",
       "      <td>...</td>\n",
       "      <td>None</td>\n",
       "      <td>None</td>\n",
       "      <td>run_2082_mvp_344_teste_concordancia_crop_120.gpkg</td>\n",
       "      <td>test</td>\n",
       "      <td>start_2020-10-01_end_2021-05-01_monitoring_cla...</td>\n",
       "      <td>SOYBEAN</td>\n",
       "      <td>MULTIPOLYGON (((-47.26563 -16.6992, -47.26474 ...</td>\n",
       "      <td>start_2020-10-01_end_2021-05-01_monitoring_cla...</td>\n",
       "      <td>None</td>\n",
       "      <td>safra</td>\n",
       "    </tr>\n",
       "    <tr>\n",
       "      <th>3</th>\n",
       "      <td>38</td>\n",
       "      <td>2020/2021</td>\n",
       "      <td>2020-10-01</td>\n",
       "      <td>None</td>\n",
       "      <td>PASTURE</td>\n",
       "      <td>2021-05-01</td>\n",
       "      <td>SOYBEAN</td>\n",
       "      <td>MG</td>\n",
       "      <td>2020-12-01</td>\n",
       "      <td>2021-02-01</td>\n",
       "      <td>...</td>\n",
       "      <td>None</td>\n",
       "      <td>None</td>\n",
       "      <td>run_2082_mvp_344_teste_concordancia_crop_120.gpkg</td>\n",
       "      <td>test</td>\n",
       "      <td>start_2020-10-01_end_2021-05-01_monitoring_cla...</td>\n",
       "      <td>SOYBEAN</td>\n",
       "      <td>MULTIPOLYGON (((-47.19169 -17.17247, -47.19154...</td>\n",
       "      <td>start_2020-10-01_end_2021-05-01_monitoring_cla...</td>\n",
       "      <td>None</td>\n",
       "      <td>safra</td>\n",
       "    </tr>\n",
       "    <tr>\n",
       "      <th>4</th>\n",
       "      <td>39</td>\n",
       "      <td>2020/2021</td>\n",
       "      <td>2020-10-01</td>\n",
       "      <td>None</td>\n",
       "      <td>PASTURE</td>\n",
       "      <td>2021-05-01</td>\n",
       "      <td>SOYBEAN</td>\n",
       "      <td>MG</td>\n",
       "      <td>2020-12-01</td>\n",
       "      <td>2021-02-01</td>\n",
       "      <td>...</td>\n",
       "      <td>None</td>\n",
       "      <td>None</td>\n",
       "      <td>run_2082_mvp_344_teste_concordancia_crop_120.gpkg</td>\n",
       "      <td>test</td>\n",
       "      <td>start_2020-10-01_end_2021-05-01_monitoring_cla...</td>\n",
       "      <td>SOYBEAN</td>\n",
       "      <td>MULTIPOLYGON (((-47.09819 -17.33197, -47.09819...</td>\n",
       "      <td>start_2020-10-01_end_2021-05-01_monitoring_cla...</td>\n",
       "      <td>None</td>\n",
       "      <td>safra</td>\n",
       "    </tr>\n",
       "  </tbody>\n",
       "</table>\n",
       "<p>5 rows × 32 columns</p>\n",
       "</div>"
      ],
      "text/plain": [
       "   interest_area_id     period start_season emergence_date gt_class  \\\n",
       "0                35  2020/2021   2020-10-01           None  PASTURE   \n",
       "1                36  2020/2021   2020-10-01           None  PASTURE   \n",
       "2                37  2020/2021   2020-10-01           None  PASTURE   \n",
       "3                38  2020/2021   2020-10-01           None  PASTURE   \n",
       "4                39  2020/2021   2020-10-01           None  PASTURE   \n",
       "\n",
       "  end_season monitoring_class state peak_start   peak_end  ...  \\\n",
       "0 2021-05-01          SOYBEAN    GO 2020-12-01 2021-02-01  ...   \n",
       "1 2021-05-01          SOYBEAN    GO 2020-12-01 2021-02-01  ...   \n",
       "2 2021-05-01          SOYBEAN    GO 2020-12-01 2021-02-01  ...   \n",
       "3 2021-05-01          SOYBEAN    MG 2020-12-01 2021-02-01  ...   \n",
       "4 2021-05-01          SOYBEAN    MG 2020-12-01 2021-02-01  ...   \n",
       "\n",
       "  crop_distance_score_sits crop_confidence_maha_sits  \\\n",
       "0                     None                      None   \n",
       "1                     None                      None   \n",
       "2                     None                      None   \n",
       "3                     None                      None   \n",
       "4                     None                      None   \n",
       "\n",
       "                                                 set dataset_part  \\\n",
       "0  run_2082_mvp_344_teste_concordancia_crop_120.gpkg         test   \n",
       "1  run_2082_mvp_344_teste_concordancia_crop_120.gpkg         test   \n",
       "2  run_2082_mvp_344_teste_concordancia_crop_120.gpkg         test   \n",
       "3  run_2082_mvp_344_teste_concordancia_crop_120.gpkg         test   \n",
       "4  run_2082_mvp_344_teste_concordancia_crop_120.gpkg         test   \n",
       "\n",
       "                                          geopackage geopackage_class  \\\n",
       "0  start_2020-10-01_end_2021-05-01_monitoring_cla...          SOYBEAN   \n",
       "1  start_2020-10-01_end_2021-05-01_monitoring_cla...          SOYBEAN   \n",
       "2  start_2020-10-01_end_2021-05-01_monitoring_cla...          SOYBEAN   \n",
       "3  start_2020-10-01_end_2021-05-01_monitoring_cla...          SOYBEAN   \n",
       "4  start_2020-10-01_end_2021-05-01_monitoring_cla...          SOYBEAN   \n",
       "\n",
       "                                            geometry  \\\n",
       "0  MULTIPOLYGON (((-47.30475 -17.01249, -47.30447...   \n",
       "1  MULTIPOLYGON (((-47.54068 -17.00806, -47.54041...   \n",
       "2  MULTIPOLYGON (((-47.26563 -16.6992, -47.26474 ...   \n",
       "3  MULTIPOLYGON (((-47.19169 -17.17247, -47.19154...   \n",
       "4  MULTIPOLYGON (((-47.09819 -17.33197, -47.09819...   \n",
       "\n",
       "                                    eopatch_location duplicates_id  safra  \n",
       "0  start_2020-10-01_end_2021-05-01_monitoring_cla...          None  safra  \n",
       "1  start_2020-10-01_end_2021-05-01_monitoring_cla...          None  safra  \n",
       "2  start_2020-10-01_end_2021-05-01_monitoring_cla...          None  safra  \n",
       "3  start_2020-10-01_end_2021-05-01_monitoring_cla...          None  safra  \n",
       "4  start_2020-10-01_end_2021-05-01_monitoring_cla...          None  safra  \n",
       "\n",
       "[5 rows x 32 columns]"
      ]
     },
     "execution_count": 63,
     "metadata": {},
     "output_type": "execute_result"
    }
   ],
   "source": [
    "df.head()"
   ]
  },
  {
   "cell_type": "markdown",
   "id": "f451415c-7e9b-4693-a24e-dc5c1dd8d7cc",
   "metadata": {},
   "source": [
    "#### A) PROCESSED"
   ]
  },
  {
   "cell_type": "code",
   "execution_count": 64,
   "id": "2b34e0cb-568d-4fc3-a275-6eaab5483621",
   "metadata": {},
   "outputs": [
    {
     "name": "stderr",
     "output_type": "stream",
     "text": [
      "2025-04-22 23:41:15,924 - INFO - Iniciando a execução da função 'check_processed_eopatches_features_based_geopackage'\n"
     ]
    },
    {
     "data": {
      "application/vnd.jupyter.widget-view+json": {
       "model_id": "48567763702c4732b4cc02daaa5121fd",
       "version_major": 2,
       "version_minor": 0
      },
      "text/plain": [
       "  0%|          | 0/343 [00:00<?, ?it/s]"
      ]
     },
     "metadata": {},
     "output_type": "display_data"
    },
    {
     "name": "stderr",
     "output_type": "stream",
     "text": [
      "2025-04-22 23:41:21,012 - INFO - Tempo de execução da função 'check_processed_eopatches_features_based_geopackage': 5.09 segundos\n"
     ]
    }
   ],
   "source": [
    "df_processed, df_overview_processed = processing.check_processed_eopatches_features_based_geopackage(df, \n",
    "                                                                                         eopatch_path=NEW_EOPATCH_PATH_PROCESSED,\n",
    "                                                                                         label_eopatch_path=LABEL_EOPATCH_LOCATION)"
   ]
  },
  {
   "cell_type": "code",
   "execution_count": 65,
   "id": "38a797c8-c675-4944-adb4-a394fb369ff2",
   "metadata": {},
   "outputs": [
    {
     "data": {
      "text/html": [
       "<div>\n",
       "<style scoped>\n",
       "    .dataframe tbody tr th:only-of-type {\n",
       "        vertical-align: middle;\n",
       "    }\n",
       "\n",
       "    .dataframe tbody tr th {\n",
       "        vertical-align: top;\n",
       "    }\n",
       "\n",
       "    .dataframe thead th {\n",
       "        text-align: right;\n",
       "    }\n",
       "</style>\n",
       "<table border=\"1\" class=\"dataframe\">\n",
       "  <thead>\n",
       "    <tr style=\"text-align: right;\">\n",
       "      <th></th>\n",
       "      <th>0</th>\n",
       "    </tr>\n",
       "  </thead>\n",
       "  <tbody>\n",
       "    <tr>\n",
       "      <th>total_eopatches</th>\n",
       "      <td>343.0</td>\n",
       "    </tr>\n",
       "    <tr>\n",
       "      <th>eopatch_processed_exists</th>\n",
       "      <td>343.0</td>\n",
       "    </tr>\n",
       "    <tr>\n",
       "      <th>eopatches_not_exist</th>\n",
       "      <td>0.0</td>\n",
       "    </tr>\n",
       "    <tr>\n",
       "      <th>percentage_eopatches_not_exist</th>\n",
       "      <td>0.0</td>\n",
       "    </tr>\n",
       "    <tr>\n",
       "      <th>len_data_exist</th>\n",
       "      <td>343.0</td>\n",
       "    </tr>\n",
       "    <tr>\n",
       "      <th>percentage_len_data_exist</th>\n",
       "      <td>100.0</td>\n",
       "    </tr>\n",
       "    <tr>\n",
       "      <th>len_bands_exist</th>\n",
       "      <td>343.0</td>\n",
       "    </tr>\n",
       "    <tr>\n",
       "      <th>percentage_len_bands_exist</th>\n",
       "      <td>100.0</td>\n",
       "    </tr>\n",
       "    <tr>\n",
       "      <th>len_time_interval_exist</th>\n",
       "      <td>343.0</td>\n",
       "    </tr>\n",
       "    <tr>\n",
       "      <th>percentage_len_time_interval_exist</th>\n",
       "      <td>100.0</td>\n",
       "    </tr>\n",
       "    <tr>\n",
       "      <th>len_timestamp_exist</th>\n",
       "      <td>343.0</td>\n",
       "    </tr>\n",
       "    <tr>\n",
       "      <th>percentage_len_timestamp_exist</th>\n",
       "      <td>100.0</td>\n",
       "    </tr>\n",
       "  </tbody>\n",
       "</table>\n",
       "</div>"
      ],
      "text/plain": [
       "                                        0\n",
       "total_eopatches                     343.0\n",
       "eopatch_processed_exists            343.0\n",
       "eopatches_not_exist                   0.0\n",
       "percentage_eopatches_not_exist        0.0\n",
       "len_data_exist                      343.0\n",
       "percentage_len_data_exist           100.0\n",
       "len_bands_exist                     343.0\n",
       "percentage_len_bands_exist          100.0\n",
       "len_time_interval_exist             343.0\n",
       "percentage_len_time_interval_exist  100.0\n",
       "len_timestamp_exist                 343.0\n",
       "percentage_len_timestamp_exist      100.0"
      ]
     },
     "execution_count": 65,
     "metadata": {},
     "output_type": "execute_result"
    }
   ],
   "source": [
    "df_overview_processed"
   ]
  },
  {
   "cell_type": "code",
   "execution_count": 66,
   "id": "32da76cb-9c6c-4e3c-a415-5eb1abda2579",
   "metadata": {},
   "outputs": [
    {
     "data": {
      "text/plain": [
       "'/agrilearn_app/datasets/baselines/testes_de_concordancia/reports/overview_SOYBEAN_216_CORN_127_processed.csv'"
      ]
     },
     "execution_count": 66,
     "metadata": {},
     "output_type": "execute_result"
    }
   ],
   "source": [
    "os.makedirs(REPORT_PATH, exist_ok=True)\n",
    "final_processed_report_name = f\"{REPORT_PATH}/overview_{string_name}_processed.csv\"\n",
    "df_overview_processed.to_csv(final_processed_report_name)\n",
    "final_processed_report_name"
   ]
  },
  {
   "cell_type": "code",
   "execution_count": 67,
   "id": "cda3881a-2368-4ca9-b2d4-84be291aa9cf",
   "metadata": {},
   "outputs": [
    {
     "data": {
      "text/html": [
       "<div>\n",
       "<style scoped>\n",
       "    .dataframe tbody tr th:only-of-type {\n",
       "        vertical-align: middle;\n",
       "    }\n",
       "\n",
       "    .dataframe tbody tr th {\n",
       "        vertical-align: top;\n",
       "    }\n",
       "\n",
       "    .dataframe thead th {\n",
       "        text-align: right;\n",
       "    }\n",
       "</style>\n",
       "<table border=\"1\" class=\"dataframe\">\n",
       "  <thead>\n",
       "    <tr style=\"text-align: right;\">\n",
       "      <th></th>\n",
       "      <th>eopatch_location_id</th>\n",
       "      <th>eopatch_processed_exists</th>\n",
       "      <th>len_data</th>\n",
       "      <th>len_bands</th>\n",
       "      <th>len_time_interval</th>\n",
       "      <th>len_timestamp</th>\n",
       "      <th>error_processed</th>\n",
       "    </tr>\n",
       "  </thead>\n",
       "  <tbody>\n",
       "  </tbody>\n",
       "</table>\n",
       "</div>"
      ],
      "text/plain": [
       "Empty DataFrame\n",
       "Columns: [eopatch_location_id, eopatch_processed_exists, len_data, len_bands, len_time_interval, len_timestamp, error_processed]\n",
       "Index: []"
      ]
     },
     "execution_count": 67,
     "metadata": {},
     "output_type": "execute_result"
    }
   ],
   "source": [
    "df_processed[df_processed['eopatch_processed_exists']==False]"
   ]
  },
  {
   "cell_type": "code",
   "execution_count": 68,
   "id": "75151e3a-3330-48cc-ba7c-53edeeb24f46",
   "metadata": {},
   "outputs": [
    {
     "data": {
      "text/html": [
       "<div>\n",
       "<style scoped>\n",
       "    .dataframe tbody tr th:only-of-type {\n",
       "        vertical-align: middle;\n",
       "    }\n",
       "\n",
       "    .dataframe tbody tr th {\n",
       "        vertical-align: top;\n",
       "    }\n",
       "\n",
       "    .dataframe thead th {\n",
       "        text-align: right;\n",
       "    }\n",
       "</style>\n",
       "<table border=\"1\" class=\"dataframe\">\n",
       "  <thead>\n",
       "    <tr style=\"text-align: right;\">\n",
       "      <th></th>\n",
       "      <th>eopatch_location_id</th>\n",
       "      <th>eopatch_processed_exists</th>\n",
       "      <th>len_data</th>\n",
       "      <th>len_bands</th>\n",
       "      <th>len_time_interval</th>\n",
       "      <th>len_timestamp</th>\n",
       "      <th>error_processed</th>\n",
       "    </tr>\n",
       "  </thead>\n",
       "  <tbody>\n",
       "    <tr>\n",
       "      <th>0</th>\n",
       "      <td>start_2020-10-01_end_2021-05-01_monitoring_cla...</td>\n",
       "      <td>True</td>\n",
       "      <td>4</td>\n",
       "      <td>10</td>\n",
       "      <td>2</td>\n",
       "      <td>42</td>\n",
       "      <td>None</td>\n",
       "    </tr>\n",
       "    <tr>\n",
       "      <th>1</th>\n",
       "      <td>start_2020-10-01_end_2021-05-01_monitoring_cla...</td>\n",
       "      <td>True</td>\n",
       "      <td>4</td>\n",
       "      <td>10</td>\n",
       "      <td>2</td>\n",
       "      <td>42</td>\n",
       "      <td>None</td>\n",
       "    </tr>\n",
       "    <tr>\n",
       "      <th>2</th>\n",
       "      <td>start_2020-10-01_end_2021-05-01_monitoring_cla...</td>\n",
       "      <td>True</td>\n",
       "      <td>4</td>\n",
       "      <td>10</td>\n",
       "      <td>2</td>\n",
       "      <td>42</td>\n",
       "      <td>None</td>\n",
       "    </tr>\n",
       "    <tr>\n",
       "      <th>3</th>\n",
       "      <td>start_2020-10-01_end_2021-05-01_monitoring_cla...</td>\n",
       "      <td>True</td>\n",
       "      <td>4</td>\n",
       "      <td>10</td>\n",
       "      <td>2</td>\n",
       "      <td>42</td>\n",
       "      <td>None</td>\n",
       "    </tr>\n",
       "    <tr>\n",
       "      <th>4</th>\n",
       "      <td>start_2020-10-01_end_2021-05-01_monitoring_cla...</td>\n",
       "      <td>True</td>\n",
       "      <td>4</td>\n",
       "      <td>10</td>\n",
       "      <td>2</td>\n",
       "      <td>42</td>\n",
       "      <td>None</td>\n",
       "    </tr>\n",
       "    <tr>\n",
       "      <th>...</th>\n",
       "      <td>...</td>\n",
       "      <td>...</td>\n",
       "      <td>...</td>\n",
       "      <td>...</td>\n",
       "      <td>...</td>\n",
       "      <td>...</td>\n",
       "      <td>...</td>\n",
       "    </tr>\n",
       "    <tr>\n",
       "      <th>338</th>\n",
       "      <td>start_2023-02-01_end_2023-10-01_monitoring_cla...</td>\n",
       "      <td>True</td>\n",
       "      <td>4</td>\n",
       "      <td>10</td>\n",
       "      <td>2</td>\n",
       "      <td>41</td>\n",
       "      <td>None</td>\n",
       "    </tr>\n",
       "    <tr>\n",
       "      <th>339</th>\n",
       "      <td>start_2023-02-01_end_2023-10-01_monitoring_cla...</td>\n",
       "      <td>True</td>\n",
       "      <td>4</td>\n",
       "      <td>10</td>\n",
       "      <td>2</td>\n",
       "      <td>43</td>\n",
       "      <td>None</td>\n",
       "    </tr>\n",
       "    <tr>\n",
       "      <th>340</th>\n",
       "      <td>start_2023-02-01_end_2023-10-01_monitoring_cla...</td>\n",
       "      <td>True</td>\n",
       "      <td>4</td>\n",
       "      <td>10</td>\n",
       "      <td>2</td>\n",
       "      <td>41</td>\n",
       "      <td>None</td>\n",
       "    </tr>\n",
       "    <tr>\n",
       "      <th>341</th>\n",
       "      <td>start_2023-02-01_end_2023-10-01_monitoring_cla...</td>\n",
       "      <td>True</td>\n",
       "      <td>4</td>\n",
       "      <td>10</td>\n",
       "      <td>2</td>\n",
       "      <td>43</td>\n",
       "      <td>None</td>\n",
       "    </tr>\n",
       "    <tr>\n",
       "      <th>342</th>\n",
       "      <td>start_2023-02-01_end_2023-10-01_monitoring_cla...</td>\n",
       "      <td>True</td>\n",
       "      <td>4</td>\n",
       "      <td>10</td>\n",
       "      <td>2</td>\n",
       "      <td>41</td>\n",
       "      <td>None</td>\n",
       "    </tr>\n",
       "  </tbody>\n",
       "</table>\n",
       "<p>343 rows × 7 columns</p>\n",
       "</div>"
      ],
      "text/plain": [
       "                                   eopatch_location_id  \\\n",
       "0    start_2020-10-01_end_2021-05-01_monitoring_cla...   \n",
       "1    start_2020-10-01_end_2021-05-01_monitoring_cla...   \n",
       "2    start_2020-10-01_end_2021-05-01_monitoring_cla...   \n",
       "3    start_2020-10-01_end_2021-05-01_monitoring_cla...   \n",
       "4    start_2020-10-01_end_2021-05-01_monitoring_cla...   \n",
       "..                                                 ...   \n",
       "338  start_2023-02-01_end_2023-10-01_monitoring_cla...   \n",
       "339  start_2023-02-01_end_2023-10-01_monitoring_cla...   \n",
       "340  start_2023-02-01_end_2023-10-01_monitoring_cla...   \n",
       "341  start_2023-02-01_end_2023-10-01_monitoring_cla...   \n",
       "342  start_2023-02-01_end_2023-10-01_monitoring_cla...   \n",
       "\n",
       "     eopatch_processed_exists  len_data  len_bands  len_time_interval  \\\n",
       "0                        True         4         10                  2   \n",
       "1                        True         4         10                  2   \n",
       "2                        True         4         10                  2   \n",
       "3                        True         4         10                  2   \n",
       "4                        True         4         10                  2   \n",
       "..                        ...       ...        ...                ...   \n",
       "338                      True         4         10                  2   \n",
       "339                      True         4         10                  2   \n",
       "340                      True         4         10                  2   \n",
       "341                      True         4         10                  2   \n",
       "342                      True         4         10                  2   \n",
       "\n",
       "     len_timestamp error_processed  \n",
       "0               42            None  \n",
       "1               42            None  \n",
       "2               42            None  \n",
       "3               42            None  \n",
       "4               42            None  \n",
       "..             ...             ...  \n",
       "338             41            None  \n",
       "339             43            None  \n",
       "340             41            None  \n",
       "341             43            None  \n",
       "342             41            None  \n",
       "\n",
       "[343 rows x 7 columns]"
      ]
     },
     "execution_count": 68,
     "metadata": {},
     "output_type": "execute_result"
    }
   ],
   "source": [
    "df_processed[df_processed['eopatch_processed_exists']==True]"
   ]
  },
  {
   "cell_type": "markdown",
   "id": "66810c38-98b7-4498-a05c-c420571626c1",
   "metadata": {},
   "source": [
    "#### B) INPUT_MODEL"
   ]
  },
  {
   "cell_type": "code",
   "execution_count": 69,
   "id": "688d5628-5c84-484a-aa03-89e10e325779",
   "metadata": {},
   "outputs": [],
   "source": [
    "# df_input_model, df_overview_input = processing.check_input_model_eopatches_features_based_geopackage(df, \n",
    "#                                                                                                      eopatch_path=NEW_EOPATCH_PATH_INPUT_MODEL,\n",
    "#                                                                                                      label_eopatch_path=LABEL_EOPATCH_LOCATION)"
   ]
  },
  {
   "cell_type": "code",
   "execution_count": 70,
   "id": "9f2704de-fc6c-4735-834f-2ba68e01001d",
   "metadata": {},
   "outputs": [],
   "source": [
    "# df_overview_input"
   ]
  },
  {
   "cell_type": "code",
   "execution_count": 71,
   "id": "c8427554-01dd-4e38-98b8-3f33bafc077e",
   "metadata": {},
   "outputs": [],
   "source": [
    "# df_input_model[(df_input_model['label_unique'].notna()) & \n",
    "#                 (df_input_model['geopackage_class'] != df_input_model['label_unique'])]"
   ]
  },
  {
   "cell_type": "code",
   "execution_count": 72,
   "id": "aa8360cd-8956-4fef-b499-5960cf8d2a6a",
   "metadata": {},
   "outputs": [],
   "source": [
    "# os.makedirs(REPORT_PATH, exist_ok=True)\n",
    "# final_processed_report_name = f\"{REPORT_PATH}/overview_{string_name}_input_model.csv\"\n",
    "# df_overview_input.to_csv(final_processed_report_name)\n",
    "# final_processed_report_name"
   ]
  },
  {
   "cell_type": "markdown",
   "id": "93505652-d253-4a01-9adf-cc385e8aad3a",
   "metadata": {},
   "source": [
    "## 5. Merge Data"
   ]
  },
  {
   "cell_type": "code",
   "execution_count": 73,
   "id": "4b0de9fa-8641-42b8-a083-3f39bcacf8ec",
   "metadata": {},
   "outputs": [
    {
     "data": {
      "text/plain": [
       "(343, 7)"
      ]
     },
     "execution_count": 73,
     "metadata": {},
     "output_type": "execute_result"
    }
   ],
   "source": [
    "df_processed.shape"
   ]
  },
  {
   "cell_type": "code",
   "execution_count": 74,
   "id": "c309e17e-1c6a-48ff-ad2f-5f45be028a99",
   "metadata": {},
   "outputs": [],
   "source": [
    "#df_input_model.shape"
   ]
  },
  {
   "cell_type": "code",
   "execution_count": 75,
   "id": "f43317a9-dad4-4c89-8a3b-6e015c410b67",
   "metadata": {},
   "outputs": [
    {
     "data": {
      "text/plain": [
       "(343, 39)"
      ]
     },
     "execution_count": 75,
     "metadata": {},
     "output_type": "execute_result"
    }
   ],
   "source": [
    "# Usando pd.merge para juntar os DataFrames\n",
    "df_merged = pd.merge(df, df_processed, \n",
    "                     left_on=LABEL_EOPATCH_LOCATION, \n",
    "                     right_on='eopatch_location_id', \n",
    "                     how='left')\n",
    "df_merged.shape"
   ]
  },
  {
   "cell_type": "code",
   "execution_count": 76,
   "id": "04e97234-0398-413d-8e5f-8144575c1c0f",
   "metadata": {},
   "outputs": [
    {
     "data": {
      "text/html": [
       "<div>\n",
       "<style scoped>\n",
       "    .dataframe tbody tr th:only-of-type {\n",
       "        vertical-align: middle;\n",
       "    }\n",
       "\n",
       "    .dataframe tbody tr th {\n",
       "        vertical-align: top;\n",
       "    }\n",
       "\n",
       "    .dataframe thead th {\n",
       "        text-align: right;\n",
       "    }\n",
       "</style>\n",
       "<table border=\"1\" class=\"dataframe\">\n",
       "  <thead>\n",
       "    <tr style=\"text-align: right;\">\n",
       "      <th></th>\n",
       "      <th>interest_area_id</th>\n",
       "      <th>period</th>\n",
       "      <th>start_season</th>\n",
       "      <th>emergence_date</th>\n",
       "      <th>gt_class</th>\n",
       "      <th>end_season</th>\n",
       "      <th>monitoring_class</th>\n",
       "      <th>state</th>\n",
       "      <th>peak_start</th>\n",
       "      <th>peak_end</th>\n",
       "      <th>...</th>\n",
       "      <th>eopatch_location</th>\n",
       "      <th>duplicates_id</th>\n",
       "      <th>safra</th>\n",
       "      <th>eopatch_location_id</th>\n",
       "      <th>eopatch_processed_exists</th>\n",
       "      <th>len_data</th>\n",
       "      <th>len_bands</th>\n",
       "      <th>len_time_interval</th>\n",
       "      <th>len_timestamp</th>\n",
       "      <th>error_processed</th>\n",
       "    </tr>\n",
       "  </thead>\n",
       "  <tbody>\n",
       "  </tbody>\n",
       "</table>\n",
       "<p>0 rows × 39 columns</p>\n",
       "</div>"
      ],
      "text/plain": [
       "Empty GeoDataFrame\n",
       "Columns: [interest_area_id, period, start_season, emergence_date, gt_class, end_season, monitoring_class, state, peak_start, peak_end, sentinel_eopatch_current, obs_contour, obs_contour_score, agricultural_area, obs_farm_plot, obs_emergence, obs_senescence, obs_harvest, obs_extra, created_by, area_id, last_date_crop_rnn, crop_distance_score_sits, crop_confidence_maha_sits, set, dataset_part, geopackage, geopackage_class, geometry, eopatch_location, duplicates_id, safra, eopatch_location_id, eopatch_processed_exists, len_data, len_bands, len_time_interval, len_timestamp, error_processed]\n",
       "Index: []\n",
       "\n",
       "[0 rows x 39 columns]"
      ]
     },
     "execution_count": 76,
     "metadata": {},
     "output_type": "execute_result"
    }
   ],
   "source": [
    "df_merged[df_merged['eopatch_processed_exists']==False]"
   ]
  },
  {
   "cell_type": "code",
   "execution_count": 77,
   "id": "79d28f70-57c9-44cb-9204-0fc09249fd46",
   "metadata": {},
   "outputs": [],
   "source": [
    "# df_full = pd.merge(df_merged, \n",
    "#                    df_input_model, \n",
    "#                    left_on=LABEL_EOPATCH_LOCATION, \n",
    "#                    right_on='eopatch_location_id', how='left')\n",
    "# df_full.shape"
   ]
  },
  {
   "cell_type": "markdown",
   "id": "77d90d29-07d4-434b-b294-cc95d097b4bb",
   "metadata": {},
   "source": [
    "## 6. Save data"
   ]
  },
  {
   "cell_type": "code",
   "execution_count": 78,
   "id": "76671d19-219b-45d3-a2b6-556029764e36",
   "metadata": {},
   "outputs": [
    {
     "data": {
      "text/plain": [
       "'/agrilearn_app/datasets/baselines/testes_de_concordancia/geopackage/processed/SOYBEAN_216_CORN_127_.gpkg'"
      ]
     },
     "execution_count": 78,
     "metadata": {},
     "output_type": "execute_result"
    }
   ],
   "source": [
    "result_string = processing.get_geopackage_name(df_merged, label_monitoring_class='monitoring_class')\n",
    "GEOPACKAGE_PROCESSED_PATH = os.path.join(GEOPACKAGE_RAW_PATH.split('/raw/')[0]+\"/\", \"processed\", result_string+ \"_.gpkg\")\n",
    "GEOPACKAGE_PROCESSED_PATH"
   ]
  },
  {
   "cell_type": "code",
   "execution_count": 79,
   "id": "94367617-0459-4b96-852b-b69d07dec0ce",
   "metadata": {},
   "outputs": [],
   "source": [
    "df_merged.to_file(GEOPACKAGE_PROCESSED_PATH, \n",
    "                driver='GPKG', \n",
    "                engine='fiona')"
   ]
  },
  {
   "cell_type": "markdown",
   "id": "c2a5ca7a-bbcd-49c7-b3be-2cacfedebdb3",
   "metadata": {},
   "source": [
    "## df_full.to_file(GEOPACKAGE_PROCESSED_PATH, \n",
    "#                 driver='GPKG', \n",
    "#                 engine='fiona')"
   ]
  },
  {
   "cell_type": "code",
   "execution_count": null,
   "id": "a0e9c9cc-9f7b-4ce2-b2e7-ac4fa35e1bf4",
   "metadata": {},
   "outputs": [],
   "source": []
  },
  {
   "cell_type": "code",
   "execution_count": null,
   "id": "45074a65-b537-45c6-9e82-93e5725aec6c",
   "metadata": {},
   "outputs": [],
   "source": []
  }
 ],
 "metadata": {
  "kernelspec": {
   "display_name": "Python 3 (ipykernel)",
   "language": "python",
   "name": "python3"
  },
  "language_info": {
   "codemirror_mode": {
    "name": "ipython",
    "version": 3
   },
   "file_extension": ".py",
   "mimetype": "text/x-python",
   "name": "python",
   "nbconvert_exporter": "python",
   "pygments_lexer": "ipython3",
   "version": "3.10.12"
  }
 },
 "nbformat": 4,
 "nbformat_minor": 5
}
