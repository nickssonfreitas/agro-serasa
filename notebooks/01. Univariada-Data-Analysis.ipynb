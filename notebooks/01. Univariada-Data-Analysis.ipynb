{
 "cells": [
  {
   "cell_type": "code",
   "execution_count": 1,
   "id": "6c01525f-1142-431e-a653-91d388053abd",
   "metadata": {},
   "outputs": [],
   "source": [
    "import boto3\n",
    "import geopandas as gpd\n",
    "import pandas as pd\n",
    "import folium\n",
    "import numpy as np\n",
    "from folium import GeoJson\n",
    "from io import BytesIO"
   ]
  },
  {
   "cell_type": "code",
   "execution_count": 2,
   "id": "a6b4a832-c7ef-4afa-b502-58517e601732",
   "metadata": {},
   "outputs": [],
   "source": [
    "import sys\n",
    "sys.path.append(\"/agrilearn_app/agrilearn/submodules/commons/\")"
   ]
  },
  {
   "cell_type": "code",
   "execution_count": 3,
   "id": "9a5c4767-cb01-4969-8549-630c4ab903e4",
   "metadata": {},
   "outputs": [
    {
     "name": "stderr",
     "output_type": "stream",
     "text": [
      "2025-03-05 13:18:03.117219: I tensorflow/core/util/port.cc:153] oneDNN custom operations are on. You may see slightly different numerical results due to floating-point round-off errors from different computation orders. To turn them off, set the environment variable `TF_ENABLE_ONEDNN_OPTS=0`.\n",
      "2025-03-05 13:18:03.134142: E external/local_xla/xla/stream_executor/cuda/cuda_fft.cc:477] Unable to register cuFFT factory: Attempting to register factory for plugin cuFFT when one has already been registered\n",
      "WARNING: All log messages before absl::InitializeLog() is called are written to STDERR\n",
      "E0000 00:00:1741180683.153453    9378 cuda_dnn.cc:8310] Unable to register cuDNN factory: Attempting to register factory for plugin cuDNN when one has already been registered\n",
      "E0000 00:00:1741180683.159351    9378 cuda_blas.cc:1418] Unable to register cuBLAS factory: Attempting to register factory for plugin cuBLAS when one has already been registered\n",
      "2025-03-05 13:18:03.178929: I tensorflow/core/platform/cpu_feature_guard.cc:210] This TensorFlow binary is optimized to use available CPU instructions in performance-critical operations.\n",
      "To enable the following instructions: AVX2 AVX512F AVX512_VNNI FMA, in other operations, rebuild TensorFlow with the appropriate compiler flags.\n"
     ]
    }
   ],
   "source": [
    "from agrilearn.crop_classification import evalutate_utils\n",
    "from agrilearn.crop_classification import yaml_utils\n",
    "from agrilearn.commons.s3 import s3_utils\n",
    "\n",
    "from agrilearn.crop_classification import evalutate_utils\n",
    "from agrilearn.crop_classification import yaml_utils\n",
    "from agrilearn.commons.s3 import s3_utils"
   ]
  },
  {
   "cell_type": "markdown",
   "id": "c02139fb-b81c-4310-b83a-22fad4fb4a9f",
   "metadata": {},
   "source": [
    "### Resumo da análise"
   ]
  },
  {
   "cell_type": "markdown",
   "id": "9b4a847e-018c-4cef-abd5-c1796bb30190",
   "metadata": {},
   "source": [
    "- Existem colunas duplicadas que representam a mesma variável [``start_season``, ``start_of_season``], além de [``end_season``, ``end_of_season``], [``peak_of_season``, ``peak_season``]\n",
    "- Existem dados duplicados considerando o ``eopatch_location``\n",
    "- Não existe mais a coluna ``id_talhao``?"
   ]
  },
  {
   "cell_type": "markdown",
   "id": "6c7cc194-d9bd-479b-bac2-1071d374026d",
   "metadata": {},
   "source": [
    "### Global Variables"
   ]
  },
  {
   "cell_type": "code",
   "execution_count": 5,
   "id": "6e6bfd36-0954-4f74-81f7-1303291e67f3",
   "metadata": {},
   "outputs": [],
   "source": [
    "GEOPACKAGE_PATH = [\"/agrilearn_app/datasets/arroz_jan_23_24/geopackage/raw/arroz_jan_670.gpkg\", \n",
    "                   \"/agrilearn_app/datasets/algodao_2022_2023_2023_2023/geopackage/raw/algodao_jan_4751.gpkg\", \n",
    "                   \"/agrilearn_app/datasets/base/geopackage/processed/CORN_73080_SOYBEAN_29670_COTTON_1632_RICE_1172.gpkg\",\n",
    "                   \"/agrilearn_app/datasets/base/geopackage/processed/SUGAR_CANE_35276_SOYBEAN_29670_CORN_5710_COTTON_1639_RICE_1173.gpkg\"]\n",
    "\n",
    "label_monitoring_class = 'monitoring_class'\n",
    "label_eopatch_path = \"eopath_location\" # 'sentinel_eopatch_current' #eopath_location"
   ]
  },
  {
   "cell_type": "markdown",
   "id": "a6a06923-5119-4456-ba5b-ac0c9fca3ab9",
   "metadata": {},
   "source": [
    "# 1. Read Datasets\n",
    "\n",
    "### Data description\n",
    "- monitoring_class: é o ``conjunto`` que representa a cultura de interesse do cliente ou da amostra de treinamento (SOYBEAN, CORN)\n",
    "- period: é o ``texto`` que representa a safra agricola (2023/2024, 2024/2025)\n",
    "- fonte: é o ``texto`` da origem dos dados (mapas temáticos, banco de dados)\n",
    "- state: é o ``texto`` do estado do polígono\n",
    "- area: é o ``ponto flutuante`` da área em métros\n",
    "- micro: é o ``inteiro`` que representa a micro região\n",
    "- start_season: é o ``timestamp`` que inicia a safra pra determinada cultura (monitoring_class) e safra (period)\n",
    "- end_season: é o  ``timestamp`` que termina a safra pra determinada cultura (monitoring_class) e safra (period)\n",
    "- peak_start: é o ``timestamp`` que inicia o período em que pode ocorrer o pico pra determinada cultura (monitoring_class) e safra (period)\n",
    "- peak_end: é o ``timestamp`` que termina o período em que pode ocorrer o pico pra determinada cultura (monitoring_class) e safra (period) (Obs: temos um calendário pra isso, um arquivo yaml)\n",
    "- eopath_location: é o ``texto`` que representa o caminho onde o eopatch está salvo (imagens p/ inferência)\n",
    "- start_of_season: é o ``timestamp`` da data da emergencia da cultura\n",
    "- peak_of_season: é o ``timestamp`` da data do pico vegetativo da cultura\n",
    "- end_of_season: é o ``timestamp`` da data da colheita da cultura\n",
    "- length_of_season: é o ``inteiro`` com a duração do cultivo em dias\n",
    "- is_valid_metrics:\n",
    "- sos_valid:\n",
    "- pos_valid:\n",
    "- eos_valid:\n",
    "- los_valid:\n",
    "- planting_start: é o ``timestamp`` da data do inicio do plantio.\n",
    "- planting_end: é o ``timestamp`` da data do fim do plantio.\n",
    "- start_of_cycle: é o ``timestamp`` da data do inio do cultivo segundo o calendário agrícola\n",
    "- end_of_cycle: é o ``timestamp`` da data do fim do caledário de cultivo segundo calendário agrícola\n",
    "- length_of_cycle: é o ``inteiro`` que representa o tamanho do ciclo em dias\n",
    "- is_valid:\n",
    "- is_valid_POS:\n",
    "- is_valid_LOS:\n",
    "- set_type: é o ``conjunto`` que representar a divisão do dado entre treino, validação e teste\n",
    "- sampled_date: é o ``texto`` com a data do sample em mês e ano\n",
    "- cultura_2:\n",
    "- geometry: é a ``geometria`` do polígono "
   ]
  },
  {
   "cell_type": "code",
   "execution_count": 14,
   "id": "af873c60-bb37-4253-9554-6749307e434e",
   "metadata": {},
   "outputs": [
    {
     "name": "stderr",
     "output_type": "stream",
     "text": [
      "/tmp/ipykernel_9378/3463459671.py:10: FutureWarning: The behavior of DataFrame concatenation with empty or all-NA entries is deprecated. In a future version, this will no longer exclude empty or all-NA columns when determining the result dtypes. To retain the old behavior, exclude the relevant entries before the concat operation.\n",
      "  df = gpd.GeoDataFrame(pd.concat(gdfs, ignore_index=True))\n"
     ]
    },
    {
     "name": "stdout",
     "output_type": "stream",
     "text": [
      "Dataset final possui 184443 linhas\n"
     ]
    }
   ],
   "source": [
    "gdfs = []\n",
    "\n",
    "# Lê cada Geopackage e adiciona o GeoDataFrame à lista\n",
    "for path in GEOPACKAGE_PATH:\n",
    "    gdf = gpd.read_file(path)\n",
    "    gdfs.append(gdf)\n",
    "\n",
    "# Concatena todos os GeoDataFrames em um único GeoDataFrame\n",
    "if gdfs:\n",
    "    df = gpd.GeoDataFrame(pd.concat(gdfs, ignore_index=True))\n",
    "    print(f\"Dataset final possui {df.shape[0]} linhas\")\n",
    "    df.head()\n",
    "else:\n",
    "    print(\"Nenhum GeoDataFrame válido encontrado.\")"
   ]
  },
  {
   "cell_type": "code",
   "execution_count": 7,
   "id": "d996224c-0b52-40ae-b8e8-c38b26b7610f",
   "metadata": {},
   "outputs": [
    {
     "data": {
      "text/html": [
       "<div>\n",
       "<style scoped>\n",
       "    .dataframe tbody tr th:only-of-type {\n",
       "        vertical-align: middle;\n",
       "    }\n",
       "\n",
       "    .dataframe tbody tr th {\n",
       "        vertical-align: top;\n",
       "    }\n",
       "\n",
       "    .dataframe thead th {\n",
       "        text-align: right;\n",
       "    }\n",
       "</style>\n",
       "<table border=\"1\" class=\"dataframe\">\n",
       "  <thead>\n",
       "    <tr style=\"text-align: right;\">\n",
       "      <th></th>\n",
       "      <th>monitoring_class</th>\n",
       "      <th>period</th>\n",
       "      <th>fonte</th>\n",
       "      <th>state</th>\n",
       "      <th>area</th>\n",
       "      <th>micro</th>\n",
       "      <th>start_season</th>\n",
       "      <th>end_season</th>\n",
       "      <th>peak_start</th>\n",
       "      <th>peak_end</th>\n",
       "      <th>...</th>\n",
       "      <th>key_bucket</th>\n",
       "      <th>local_eopatch_path</th>\n",
       "      <th>total_imagens_do_intervalo</th>\n",
       "      <th>total_de_imagem</th>\n",
       "      <th>status_missing_images</th>\n",
       "      <th>days_gap</th>\n",
       "      <th>dates_diff</th>\n",
       "      <th>mean_dates_diff</th>\n",
       "      <th>status_series_missing</th>\n",
       "      <th>monitoring_class_path</th>\n",
       "    </tr>\n",
       "  </thead>\n",
       "  <tbody>\n",
       "    <tr>\n",
       "      <th>0</th>\n",
       "      <td>RICE</td>\n",
       "      <td>2023/2024</td>\n",
       "      <td>Conab - Arroz Irrigado 2022/2023</td>\n",
       "      <td>TO</td>\n",
       "      <td>5.956645e+04</td>\n",
       "      <td>59.0</td>\n",
       "      <td>2023-10-01</td>\n",
       "      <td>2024-06-01</td>\n",
       "      <td>2023-12-01</td>\n",
       "      <td>2024-03-01</td>\n",
       "      <td>...</td>\n",
       "      <td>NaN</td>\n",
       "      <td>NaN</td>\n",
       "      <td>NaN</td>\n",
       "      <td>NaN</td>\n",
       "      <td>NaN</td>\n",
       "      <td>NaN</td>\n",
       "      <td>NaN</td>\n",
       "      <td>NaN</td>\n",
       "      <td>NaN</td>\n",
       "      <td>NaN</td>\n",
       "    </tr>\n",
       "    <tr>\n",
       "      <th>1</th>\n",
       "      <td>RICE</td>\n",
       "      <td>2023/2024</td>\n",
       "      <td>Conab - Arroz Irrigado 2022/2023</td>\n",
       "      <td>TO</td>\n",
       "      <td>5.129706e+04</td>\n",
       "      <td>59.0</td>\n",
       "      <td>2023-10-01</td>\n",
       "      <td>2024-06-01</td>\n",
       "      <td>2023-12-01</td>\n",
       "      <td>2024-03-01</td>\n",
       "      <td>...</td>\n",
       "      <td>NaN</td>\n",
       "      <td>NaN</td>\n",
       "      <td>NaN</td>\n",
       "      <td>NaN</td>\n",
       "      <td>NaN</td>\n",
       "      <td>NaN</td>\n",
       "      <td>NaN</td>\n",
       "      <td>NaN</td>\n",
       "      <td>NaN</td>\n",
       "      <td>NaN</td>\n",
       "    </tr>\n",
       "    <tr>\n",
       "      <th>2</th>\n",
       "      <td>RICE</td>\n",
       "      <td>2023/2024</td>\n",
       "      <td>Conab - Arroz Irrigado 2022/2023</td>\n",
       "      <td>TO</td>\n",
       "      <td>2.276749e+05</td>\n",
       "      <td>59.0</td>\n",
       "      <td>2023-10-01</td>\n",
       "      <td>2024-06-01</td>\n",
       "      <td>2023-12-01</td>\n",
       "      <td>2024-03-01</td>\n",
       "      <td>...</td>\n",
       "      <td>NaN</td>\n",
       "      <td>NaN</td>\n",
       "      <td>NaN</td>\n",
       "      <td>NaN</td>\n",
       "      <td>NaN</td>\n",
       "      <td>NaN</td>\n",
       "      <td>NaN</td>\n",
       "      <td>NaN</td>\n",
       "      <td>NaN</td>\n",
       "      <td>NaN</td>\n",
       "    </tr>\n",
       "    <tr>\n",
       "      <th>3</th>\n",
       "      <td>RICE</td>\n",
       "      <td>2023/2024</td>\n",
       "      <td>Conab - Arroz Irrigado 2022/2023</td>\n",
       "      <td>TO</td>\n",
       "      <td>4.278957e+05</td>\n",
       "      <td>59.0</td>\n",
       "      <td>2023-10-01</td>\n",
       "      <td>2024-06-01</td>\n",
       "      <td>2023-12-01</td>\n",
       "      <td>2024-03-01</td>\n",
       "      <td>...</td>\n",
       "      <td>NaN</td>\n",
       "      <td>NaN</td>\n",
       "      <td>NaN</td>\n",
       "      <td>NaN</td>\n",
       "      <td>NaN</td>\n",
       "      <td>NaN</td>\n",
       "      <td>NaN</td>\n",
       "      <td>NaN</td>\n",
       "      <td>NaN</td>\n",
       "      <td>NaN</td>\n",
       "    </tr>\n",
       "    <tr>\n",
       "      <th>4</th>\n",
       "      <td>RICE</td>\n",
       "      <td>2023/2024</td>\n",
       "      <td>Conab - Arroz Irrigado 2022/2023</td>\n",
       "      <td>TO</td>\n",
       "      <td>1.113927e+06</td>\n",
       "      <td>59.0</td>\n",
       "      <td>2023-10-01</td>\n",
       "      <td>2024-06-01</td>\n",
       "      <td>2023-12-01</td>\n",
       "      <td>2024-03-01</td>\n",
       "      <td>...</td>\n",
       "      <td>NaN</td>\n",
       "      <td>NaN</td>\n",
       "      <td>NaN</td>\n",
       "      <td>NaN</td>\n",
       "      <td>NaN</td>\n",
       "      <td>NaN</td>\n",
       "      <td>NaN</td>\n",
       "      <td>NaN</td>\n",
       "      <td>NaN</td>\n",
       "      <td>NaN</td>\n",
       "    </tr>\n",
       "  </tbody>\n",
       "</table>\n",
       "<p>5 rows × 55 columns</p>\n",
       "</div>"
      ],
      "text/plain": [
       "  monitoring_class     period                             fonte state  \\\n",
       "0             RICE  2023/2024  Conab - Arroz Irrigado 2022/2023    TO   \n",
       "1             RICE  2023/2024  Conab - Arroz Irrigado 2022/2023    TO   \n",
       "2             RICE  2023/2024  Conab - Arroz Irrigado 2022/2023    TO   \n",
       "3             RICE  2023/2024  Conab - Arroz Irrigado 2022/2023    TO   \n",
       "4             RICE  2023/2024  Conab - Arroz Irrigado 2022/2023    TO   \n",
       "\n",
       "           area  micro start_season  end_season  peak_start    peak_end  ...  \\\n",
       "0  5.956645e+04   59.0   2023-10-01  2024-06-01  2023-12-01  2024-03-01  ...   \n",
       "1  5.129706e+04   59.0   2023-10-01  2024-06-01  2023-12-01  2024-03-01  ...   \n",
       "2  2.276749e+05   59.0   2023-10-01  2024-06-01  2023-12-01  2024-03-01  ...   \n",
       "3  4.278957e+05   59.0   2023-10-01  2024-06-01  2023-12-01  2024-03-01  ...   \n",
       "4  1.113927e+06   59.0   2023-10-01  2024-06-01  2023-12-01  2024-03-01  ...   \n",
       "\n",
       "  key_bucket local_eopatch_path total_imagens_do_intervalo total_de_imagem  \\\n",
       "0        NaN                NaN                        NaN             NaN   \n",
       "1        NaN                NaN                        NaN             NaN   \n",
       "2        NaN                NaN                        NaN             NaN   \n",
       "3        NaN                NaN                        NaN             NaN   \n",
       "4        NaN                NaN                        NaN             NaN   \n",
       "\n",
       "  status_missing_images days_gap dates_diff mean_dates_diff  \\\n",
       "0                   NaN      NaN        NaN             NaN   \n",
       "1                   NaN      NaN        NaN             NaN   \n",
       "2                   NaN      NaN        NaN             NaN   \n",
       "3                   NaN      NaN        NaN             NaN   \n",
       "4                   NaN      NaN        NaN             NaN   \n",
       "\n",
       "  status_series_missing monitoring_class_path  \n",
       "0                   NaN                   NaN  \n",
       "1                   NaN                   NaN  \n",
       "2                   NaN                   NaN  \n",
       "3                   NaN                   NaN  \n",
       "4                   NaN                   NaN  \n",
       "\n",
       "[5 rows x 55 columns]"
      ]
     },
     "execution_count": 7,
     "metadata": {},
     "output_type": "execute_result"
    }
   ],
   "source": [
    "df.head()"
   ]
  },
  {
   "cell_type": "code",
   "execution_count": null,
   "id": "40eca610-2367-47bb-8cbd-c425206b6013",
   "metadata": {},
   "outputs": [],
   "source": [
    "df['start_of_season'].sample()"
   ]
  },
  {
   "cell_type": "code",
   "execution_count": 9,
   "id": "929d7f5c-20c7-4cf4-af2c-593b8b1b946e",
   "metadata": {},
   "outputs": [
    {
     "name": "stdout",
     "output_type": "stream",
     "text": [
      "Erro ao formatar a coluna start_of_season: unconverted data remains when parsing with format \"%Y-%m-%d\": \"T00:00:00.000\", at position 242. You might want to try:\n",
      "    - passing `format` if your strings have a consistent format;\n",
      "    - passing `format='ISO8601'` if your strings are all ISO8601 but not necessarily in exactly the same format;\n",
      "    - passing `format='mixed'`, and the format will be inferred for each element individually. You might want to use `dayfirst` alongside this.\n",
      "Erro ao formatar a coluna end_of_season: unconverted data remains when parsing with format \"%Y-%m-%d\": \"T00:00:00.000\", at position 198. You might want to try:\n",
      "    - passing `format` if your strings have a consistent format;\n",
      "    - passing `format='ISO8601'` if your strings are all ISO8601 but not necessarily in exactly the same format;\n",
      "    - passing `format='mixed'`, and the format will be inferred for each element individually. You might want to use `dayfirst` alongside this.\n",
      "<class 'pandas.core.frame.DataFrame'>\n",
      "RangeIndex: 184443 entries, 0 to 184442\n",
      "Data columns (total 11 columns):\n",
      " #   Column           Non-Null Count   Dtype         \n",
      "---  ------           --------------   -----         \n",
      " 0   start_season     184443 non-null  datetime64[ns]\n",
      " 1   end_season       184443 non-null  datetime64[ns]\n",
      " 2   peak_start       184443 non-null  datetime64[ns]\n",
      " 3   peak_end         184443 non-null  datetime64[ns]\n",
      " 4   start_of_season  149167 non-null  object        \n",
      " 5   peak_of_season   67304 non-null   datetime64[ns]\n",
      " 6   end_of_season    149167 non-null  object        \n",
      " 7   planting_start   149167 non-null  datetime64[ns]\n",
      " 8   planting_end     149167 non-null  datetime64[ns]\n",
      " 9   start_of_cycle   67264 non-null   datetime64[ns]\n",
      " 10  end_of_cycle     67264 non-null   datetime64[ns]\n",
      "dtypes: datetime64[ns](9), object(2)\n",
      "memory usage: 15.5+ MB\n"
     ]
    }
   ],
   "source": [
    "datetime_columns = ['start_season', \n",
    "                    'end_season', \n",
    "                    'peak_start', \n",
    "                    'peak_end',\n",
    "                    'start_of_season',\n",
    "                    'peak_of_season',\n",
    "                    'end_of_season',\n",
    "                    'planting_start',\n",
    "                    'planting_end',\n",
    "                    'start_of_cycle',\n",
    "                    'end_of_cycle'                  \n",
    "                   ]\n",
    "\n",
    "    # Verifica se a coluna existe, se existir formata, senão printa mensagem\n",
    "for col in datetime_columns:\n",
    "    if col in df.columns:\n",
    "        try:\n",
    "            df[col] = pd.to_datetime(df[col])\n",
    "        except Exception as e:\n",
    "            print(f\"Erro ao formatar a coluna {col}: {e}\")\n",
    "    else:\n",
    "        print(f\"A coluna '{col}' não existe no DataFrame.\")\n",
    "\n",
    "# Exibe informações das colunas datetime\n",
    "df[datetime_columns].info()"
   ]
  },
  {
   "cell_type": "code",
   "execution_count": 15,
   "id": "21abb1fc-9c60-485b-9edb-4f4e63ccb673",
   "metadata": {},
   "outputs": [
    {
     "data": {
      "text/html": [
       "<div>\n",
       "<style scoped>\n",
       "    .dataframe tbody tr th:only-of-type {\n",
       "        vertical-align: middle;\n",
       "    }\n",
       "\n",
       "    .dataframe tbody tr th {\n",
       "        vertical-align: top;\n",
       "    }\n",
       "\n",
       "    .dataframe thead th {\n",
       "        text-align: right;\n",
       "    }\n",
       "</style>\n",
       "<table border=\"1\" class=\"dataframe\">\n",
       "  <thead>\n",
       "    <tr style=\"text-align: right;\">\n",
       "      <th></th>\n",
       "      <th>start_season</th>\n",
       "      <th>start_of_season</th>\n",
       "    </tr>\n",
       "  </thead>\n",
       "  <tbody>\n",
       "    <tr>\n",
       "      <th>88974</th>\n",
       "      <td>2020-09-01 00:00:00</td>\n",
       "      <td>2020/12/02 00:00:00</td>\n",
       "    </tr>\n",
       "    <tr>\n",
       "      <th>108358</th>\n",
       "      <td>2020-12-01 00:00:00</td>\n",
       "      <td>2021/02/10 00:00:00</td>\n",
       "    </tr>\n",
       "    <tr>\n",
       "      <th>47403</th>\n",
       "      <td>2023-01-01 00:00:00</td>\n",
       "      <td>2023-03-11</td>\n",
       "    </tr>\n",
       "    <tr>\n",
       "      <th>67427</th>\n",
       "      <td>2023-01-01 00:00:00</td>\n",
       "      <td>2023-04-01</td>\n",
       "    </tr>\n",
       "    <tr>\n",
       "      <th>28014</th>\n",
       "      <td>2022-08-01 00:00:00</td>\n",
       "      <td>2022-10-17</td>\n",
       "    </tr>\n",
       "    <tr>\n",
       "      <th>117920</th>\n",
       "      <td>2020-10-01</td>\n",
       "      <td>2020-11-24 00:00:00</td>\n",
       "    </tr>\n",
       "    <tr>\n",
       "      <th>160661</th>\n",
       "      <td>2020-04-01</td>\n",
       "      <td>NaT</td>\n",
       "    </tr>\n",
       "    <tr>\n",
       "      <th>65132</th>\n",
       "      <td>2023-01-01 00:00:00</td>\n",
       "      <td>2023-03-16</td>\n",
       "    </tr>\n",
       "    <tr>\n",
       "      <th>45975</th>\n",
       "      <td>2023-01-01 00:00:00</td>\n",
       "      <td>2023-04-13</td>\n",
       "    </tr>\n",
       "    <tr>\n",
       "      <th>63465</th>\n",
       "      <td>2023-01-01 00:00:00</td>\n",
       "      <td>2023-01-27</td>\n",
       "    </tr>\n",
       "  </tbody>\n",
       "</table>\n",
       "</div>"
      ],
      "text/plain": [
       "               start_season      start_of_season\n",
       "88974   2020-09-01 00:00:00  2020/12/02 00:00:00\n",
       "108358  2020-12-01 00:00:00  2021/02/10 00:00:00\n",
       "47403   2023-01-01 00:00:00           2023-03-11\n",
       "67427   2023-01-01 00:00:00           2023-04-01\n",
       "28014   2022-08-01 00:00:00           2022-10-17\n",
       "117920           2020-10-01  2020-11-24 00:00:00\n",
       "160661           2020-04-01                  NaT\n",
       "65132   2023-01-01 00:00:00           2023-03-16\n",
       "45975   2023-01-01 00:00:00           2023-04-13\n",
       "63465   2023-01-01 00:00:00           2023-01-27"
      ]
     },
     "execution_count": 15,
     "metadata": {},
     "output_type": "execute_result"
    }
   ],
   "source": [
    "df[['start_season', 'start_of_season']].sample(10)"
   ]
  },
  {
   "cell_type": "code",
   "execution_count": 16,
   "id": "5217474e-a3f0-4301-9bd4-99ebaab7ac79",
   "metadata": {},
   "outputs": [
    {
     "data": {
      "text/plain": [
       "monitoring_class\n",
       "CORN          78790\n",
       "SOYBEAN       59340\n",
       "SUGAR_CANE    35276\n",
       "COTTON         8022\n",
       "RICE           3015\n",
       "Name: count, dtype: int64"
      ]
     },
     "execution_count": 16,
     "metadata": {},
     "output_type": "execute_result"
    }
   ],
   "source": [
    "df['monitoring_class'].value_counts()"
   ]
  },
  {
   "cell_type": "code",
   "execution_count": 17,
   "id": "3deaac7b",
   "metadata": {},
   "outputs": [
    {
     "data": {
      "text/plain": [
       "state\n",
       "SP    29078\n",
       "PR    29073\n",
       "MG    26586\n",
       "MT    24678\n",
       "GO    17216\n",
       "RS    12768\n",
       "MS    12085\n",
       "TO     6604\n",
       "MA     5466\n",
       "SC     4526\n",
       "BA     3884\n",
       "RO     3826\n",
       "PA     3632\n",
       "PI     3521\n",
       "DF      745\n",
       "RR      561\n",
       "AC      116\n",
       "AP       78\n",
       "Name: count, dtype: int64"
      ]
     },
     "execution_count": 17,
     "metadata": {},
     "output_type": "execute_result"
    }
   ],
   "source": [
    "df['state'].value_counts()"
   ]
  },
  {
   "cell_type": "code",
   "execution_count": 18,
   "id": "f7a80423-c580-4de0-84f5-19b016803dc8",
   "metadata": {},
   "outputs": [
    {
     "name": "stdout",
     "output_type": "stream",
     "text": [
      "There are 184443 rows and 55 columns\n"
     ]
    }
   ],
   "source": [
    "print(f\"There are {df.shape[0]} rows and {df.shape[1]} columns\")"
   ]
  },
  {
   "cell_type": "code",
   "execution_count": 24,
   "id": "0849d90d-89f4-48b8-8b82-849d8c569dbe",
   "metadata": {},
   "outputs": [
    {
     "data": {
      "text/plain": [
       "dtype('O')"
      ]
     },
     "execution_count": 24,
     "metadata": {},
     "output_type": "execute_result"
    }
   ],
   "source": [
    "df['start_season'].dtype"
   ]
  },
  {
   "cell_type": "code",
   "execution_count": 19,
   "id": "d3d1733f-7341-4967-a0a8-c49fe3420ea1",
   "metadata": {},
   "outputs": [
    {
     "ename": "TypeError",
     "evalue": "'<=' not supported between instances of 'str' and 'Timestamp'",
     "output_type": "error",
     "traceback": [
      "\u001b[0;31m---------------------------------------------------------------------------\u001b[0m",
      "\u001b[0;31mTypeError\u001b[0m                                 Traceback (most recent call last)",
      "\u001b[0;32m/tmp/ipykernel_9378/1619476232.py\u001b[0m in \u001b[0;36m<cell line: 1>\u001b[0;34m()\u001b[0m\n\u001b[0;32m----> 1\u001b[0;31m \u001b[0mprint\u001b[0m\u001b[0;34m(\u001b[0m\u001b[0;34mf\"Dados de {df['start_season'].min()} a {df['end_season'].max()}\"\u001b[0m\u001b[0;34m)\u001b[0m\u001b[0;34m\u001b[0m\u001b[0;34m\u001b[0m\u001b[0m\n\u001b[0m",
      "\u001b[0;32m~/.local/lib/python3.10/site-packages/pandas/core/series.py\u001b[0m in \u001b[0;36mmin\u001b[0;34m(self, axis, skipna, numeric_only, **kwargs)\u001b[0m\n\u001b[1;32m   6505\u001b[0m         \u001b[0;34m**\u001b[0m\u001b[0mkwargs\u001b[0m\u001b[0;34m,\u001b[0m\u001b[0;34m\u001b[0m\u001b[0;34m\u001b[0m\u001b[0m\n\u001b[1;32m   6506\u001b[0m     ):\n\u001b[0;32m-> 6507\u001b[0;31m         \u001b[0;32mreturn\u001b[0m \u001b[0mNDFrame\u001b[0m\u001b[0;34m.\u001b[0m\u001b[0mmin\u001b[0m\u001b[0;34m(\u001b[0m\u001b[0mself\u001b[0m\u001b[0;34m,\u001b[0m \u001b[0maxis\u001b[0m\u001b[0;34m,\u001b[0m \u001b[0mskipna\u001b[0m\u001b[0;34m,\u001b[0m \u001b[0mnumeric_only\u001b[0m\u001b[0;34m,\u001b[0m \u001b[0;34m**\u001b[0m\u001b[0mkwargs\u001b[0m\u001b[0;34m)\u001b[0m\u001b[0;34m\u001b[0m\u001b[0;34m\u001b[0m\u001b[0m\n\u001b[0m\u001b[1;32m   6508\u001b[0m \u001b[0;34m\u001b[0m\u001b[0m\n\u001b[1;32m   6509\u001b[0m     \u001b[0;34m@\u001b[0m\u001b[0mdoc\u001b[0m\u001b[0;34m(\u001b[0m\u001b[0mmake_doc\u001b[0m\u001b[0;34m(\u001b[0m\u001b[0;34m\"max\"\u001b[0m\u001b[0;34m,\u001b[0m \u001b[0mndim\u001b[0m\u001b[0;34m=\u001b[0m\u001b[0;36m1\u001b[0m\u001b[0;34m)\u001b[0m\u001b[0;34m)\u001b[0m\u001b[0;34m\u001b[0m\u001b[0;34m\u001b[0m\u001b[0m\n",
      "\u001b[0;32m~/.local/lib/python3.10/site-packages/pandas/core/generic.py\u001b[0m in \u001b[0;36mmin\u001b[0;34m(self, axis, skipna, numeric_only, **kwargs)\u001b[0m\n\u001b[1;32m  12386\u001b[0m         \u001b[0;34m**\u001b[0m\u001b[0mkwargs\u001b[0m\u001b[0;34m,\u001b[0m\u001b[0;34m\u001b[0m\u001b[0;34m\u001b[0m\u001b[0m\n\u001b[1;32m  12387\u001b[0m     ):\n\u001b[0;32m> 12388\u001b[0;31m         return self._stat_function(\n\u001b[0m\u001b[1;32m  12389\u001b[0m             \u001b[0;34m\"min\"\u001b[0m\u001b[0;34m,\u001b[0m\u001b[0;34m\u001b[0m\u001b[0;34m\u001b[0m\u001b[0m\n\u001b[1;32m  12390\u001b[0m             \u001b[0mnanops\u001b[0m\u001b[0;34m.\u001b[0m\u001b[0mnanmin\u001b[0m\u001b[0;34m,\u001b[0m\u001b[0;34m\u001b[0m\u001b[0;34m\u001b[0m\u001b[0m\n",
      "\u001b[0;32m~/.local/lib/python3.10/site-packages/pandas/core/generic.py\u001b[0m in \u001b[0;36m_stat_function\u001b[0;34m(self, name, func, axis, skipna, numeric_only, **kwargs)\u001b[0m\n\u001b[1;32m  12375\u001b[0m         \u001b[0mvalidate_bool_kwarg\u001b[0m\u001b[0;34m(\u001b[0m\u001b[0mskipna\u001b[0m\u001b[0;34m,\u001b[0m \u001b[0;34m\"skipna\"\u001b[0m\u001b[0;34m,\u001b[0m \u001b[0mnone_allowed\u001b[0m\u001b[0;34m=\u001b[0m\u001b[0;32mFalse\u001b[0m\u001b[0;34m)\u001b[0m\u001b[0;34m\u001b[0m\u001b[0;34m\u001b[0m\u001b[0m\n\u001b[1;32m  12376\u001b[0m \u001b[0;34m\u001b[0m\u001b[0m\n\u001b[0;32m> 12377\u001b[0;31m         return self._reduce(\n\u001b[0m\u001b[1;32m  12378\u001b[0m             \u001b[0mfunc\u001b[0m\u001b[0;34m,\u001b[0m \u001b[0mname\u001b[0m\u001b[0;34m=\u001b[0m\u001b[0mname\u001b[0m\u001b[0;34m,\u001b[0m \u001b[0maxis\u001b[0m\u001b[0;34m=\u001b[0m\u001b[0maxis\u001b[0m\u001b[0;34m,\u001b[0m \u001b[0mskipna\u001b[0m\u001b[0;34m=\u001b[0m\u001b[0mskipna\u001b[0m\u001b[0;34m,\u001b[0m \u001b[0mnumeric_only\u001b[0m\u001b[0;34m=\u001b[0m\u001b[0mnumeric_only\u001b[0m\u001b[0;34m\u001b[0m\u001b[0;34m\u001b[0m\u001b[0m\n\u001b[1;32m  12379\u001b[0m         )\n",
      "\u001b[0;32m~/.local/lib/python3.10/site-packages/pandas/core/series.py\u001b[0m in \u001b[0;36m_reduce\u001b[0;34m(self, op, name, axis, skipna, numeric_only, filter_type, **kwds)\u001b[0m\n\u001b[1;32m   6455\u001b[0m                     \u001b[0;34m\"with non-numeric dtypes.\"\u001b[0m\u001b[0;34m\u001b[0m\u001b[0;34m\u001b[0m\u001b[0m\n\u001b[1;32m   6456\u001b[0m                 )\n\u001b[0;32m-> 6457\u001b[0;31m             \u001b[0;32mreturn\u001b[0m \u001b[0mop\u001b[0m\u001b[0;34m(\u001b[0m\u001b[0mdelegate\u001b[0m\u001b[0;34m,\u001b[0m \u001b[0mskipna\u001b[0m\u001b[0;34m=\u001b[0m\u001b[0mskipna\u001b[0m\u001b[0;34m,\u001b[0m \u001b[0;34m**\u001b[0m\u001b[0mkwds\u001b[0m\u001b[0;34m)\u001b[0m\u001b[0;34m\u001b[0m\u001b[0;34m\u001b[0m\u001b[0m\n\u001b[0m\u001b[1;32m   6458\u001b[0m \u001b[0;34m\u001b[0m\u001b[0m\n\u001b[1;32m   6459\u001b[0m     \u001b[0;34m@\u001b[0m\u001b[0mAppender\u001b[0m\u001b[0;34m(\u001b[0m\u001b[0mmake_doc\u001b[0m\u001b[0;34m(\u001b[0m\u001b[0;34m\"any\"\u001b[0m\u001b[0;34m,\u001b[0m \u001b[0mndim\u001b[0m\u001b[0;34m=\u001b[0m\u001b[0;36m1\u001b[0m\u001b[0;34m)\u001b[0m\u001b[0;34m)\u001b[0m\u001b[0;34m\u001b[0m\u001b[0;34m\u001b[0m\u001b[0m\n",
      "\u001b[0;32m~/.local/lib/python3.10/site-packages/pandas/core/nanops.py\u001b[0m in \u001b[0;36mf\u001b[0;34m(values, axis, skipna, **kwds)\u001b[0m\n\u001b[1;32m    145\u001b[0m                     \u001b[0mresult\u001b[0m \u001b[0;34m=\u001b[0m \u001b[0malt\u001b[0m\u001b[0;34m(\u001b[0m\u001b[0mvalues\u001b[0m\u001b[0;34m,\u001b[0m \u001b[0maxis\u001b[0m\u001b[0;34m=\u001b[0m\u001b[0maxis\u001b[0m\u001b[0;34m,\u001b[0m \u001b[0mskipna\u001b[0m\u001b[0;34m=\u001b[0m\u001b[0mskipna\u001b[0m\u001b[0;34m,\u001b[0m \u001b[0;34m**\u001b[0m\u001b[0mkwds\u001b[0m\u001b[0;34m)\u001b[0m\u001b[0;34m\u001b[0m\u001b[0;34m\u001b[0m\u001b[0m\n\u001b[1;32m    146\u001b[0m             \u001b[0;32melse\u001b[0m\u001b[0;34m:\u001b[0m\u001b[0;34m\u001b[0m\u001b[0;34m\u001b[0m\u001b[0m\n\u001b[0;32m--> 147\u001b[0;31m                 \u001b[0mresult\u001b[0m \u001b[0;34m=\u001b[0m \u001b[0malt\u001b[0m\u001b[0;34m(\u001b[0m\u001b[0mvalues\u001b[0m\u001b[0;34m,\u001b[0m \u001b[0maxis\u001b[0m\u001b[0;34m=\u001b[0m\u001b[0maxis\u001b[0m\u001b[0;34m,\u001b[0m \u001b[0mskipna\u001b[0m\u001b[0;34m=\u001b[0m\u001b[0mskipna\u001b[0m\u001b[0;34m,\u001b[0m \u001b[0;34m**\u001b[0m\u001b[0mkwds\u001b[0m\u001b[0;34m)\u001b[0m\u001b[0;34m\u001b[0m\u001b[0;34m\u001b[0m\u001b[0m\n\u001b[0m\u001b[1;32m    148\u001b[0m \u001b[0;34m\u001b[0m\u001b[0m\n\u001b[1;32m    149\u001b[0m             \u001b[0;32mreturn\u001b[0m \u001b[0mresult\u001b[0m\u001b[0;34m\u001b[0m\u001b[0;34m\u001b[0m\u001b[0m\n",
      "\u001b[0;32m~/.local/lib/python3.10/site-packages/pandas/core/nanops.py\u001b[0m in \u001b[0;36mnew_func\u001b[0;34m(values, axis, skipna, mask, **kwargs)\u001b[0m\n\u001b[1;32m    402\u001b[0m             \u001b[0mmask\u001b[0m \u001b[0;34m=\u001b[0m \u001b[0misna\u001b[0m\u001b[0;34m(\u001b[0m\u001b[0mvalues\u001b[0m\u001b[0;34m)\u001b[0m\u001b[0;34m\u001b[0m\u001b[0;34m\u001b[0m\u001b[0m\n\u001b[1;32m    403\u001b[0m \u001b[0;34m\u001b[0m\u001b[0m\n\u001b[0;32m--> 404\u001b[0;31m         \u001b[0mresult\u001b[0m \u001b[0;34m=\u001b[0m \u001b[0mfunc\u001b[0m\u001b[0;34m(\u001b[0m\u001b[0mvalues\u001b[0m\u001b[0;34m,\u001b[0m \u001b[0maxis\u001b[0m\u001b[0;34m=\u001b[0m\u001b[0maxis\u001b[0m\u001b[0;34m,\u001b[0m \u001b[0mskipna\u001b[0m\u001b[0;34m=\u001b[0m\u001b[0mskipna\u001b[0m\u001b[0;34m,\u001b[0m \u001b[0mmask\u001b[0m\u001b[0;34m=\u001b[0m\u001b[0mmask\u001b[0m\u001b[0;34m,\u001b[0m \u001b[0;34m**\u001b[0m\u001b[0mkwargs\u001b[0m\u001b[0;34m)\u001b[0m\u001b[0;34m\u001b[0m\u001b[0;34m\u001b[0m\u001b[0m\n\u001b[0m\u001b[1;32m    405\u001b[0m \u001b[0;34m\u001b[0m\u001b[0m\n\u001b[1;32m    406\u001b[0m         \u001b[0;32mif\u001b[0m \u001b[0mdatetimelike\u001b[0m\u001b[0;34m:\u001b[0m\u001b[0;34m\u001b[0m\u001b[0;34m\u001b[0m\u001b[0m\n",
      "\u001b[0;32m~/.local/lib/python3.10/site-packages/pandas/core/nanops.py\u001b[0m in \u001b[0;36mreduction\u001b[0;34m(values, axis, skipna, mask)\u001b[0m\n\u001b[1;32m   1096\u001b[0m             \u001b[0mvalues\u001b[0m\u001b[0;34m,\u001b[0m \u001b[0mskipna\u001b[0m\u001b[0;34m,\u001b[0m \u001b[0mfill_value_typ\u001b[0m\u001b[0;34m=\u001b[0m\u001b[0mfill_value_typ\u001b[0m\u001b[0;34m,\u001b[0m \u001b[0mmask\u001b[0m\u001b[0;34m=\u001b[0m\u001b[0mmask\u001b[0m\u001b[0;34m\u001b[0m\u001b[0;34m\u001b[0m\u001b[0m\n\u001b[1;32m   1097\u001b[0m         )\n\u001b[0;32m-> 1098\u001b[0;31m         \u001b[0mresult\u001b[0m \u001b[0;34m=\u001b[0m \u001b[0mgetattr\u001b[0m\u001b[0;34m(\u001b[0m\u001b[0mvalues\u001b[0m\u001b[0;34m,\u001b[0m \u001b[0mmeth\u001b[0m\u001b[0;34m)\u001b[0m\u001b[0;34m(\u001b[0m\u001b[0maxis\u001b[0m\u001b[0;34m)\u001b[0m\u001b[0;34m\u001b[0m\u001b[0;34m\u001b[0m\u001b[0m\n\u001b[0m\u001b[1;32m   1099\u001b[0m         \u001b[0mresult\u001b[0m \u001b[0;34m=\u001b[0m \u001b[0m_maybe_null_out\u001b[0m\u001b[0;34m(\u001b[0m\u001b[0mresult\u001b[0m\u001b[0;34m,\u001b[0m \u001b[0maxis\u001b[0m\u001b[0;34m,\u001b[0m \u001b[0mmask\u001b[0m\u001b[0;34m,\u001b[0m \u001b[0mvalues\u001b[0m\u001b[0;34m.\u001b[0m\u001b[0mshape\u001b[0m\u001b[0;34m)\u001b[0m\u001b[0;34m\u001b[0m\u001b[0;34m\u001b[0m\u001b[0m\n\u001b[1;32m   1100\u001b[0m         \u001b[0;32mreturn\u001b[0m \u001b[0mresult\u001b[0m\u001b[0;34m\u001b[0m\u001b[0;34m\u001b[0m\u001b[0m\n",
      "\u001b[0;32m~/.local/lib/python3.10/site-packages/numpy/core/_methods.py\u001b[0m in \u001b[0;36m_amin\u001b[0;34m(a, axis, out, keepdims, initial, where)\u001b[0m\n\u001b[1;32m     43\u001b[0m def _amin(a, axis=None, out=None, keepdims=False,\n\u001b[1;32m     44\u001b[0m           initial=_NoValue, where=True):\n\u001b[0;32m---> 45\u001b[0;31m     \u001b[0;32mreturn\u001b[0m \u001b[0mumr_minimum\u001b[0m\u001b[0;34m(\u001b[0m\u001b[0ma\u001b[0m\u001b[0;34m,\u001b[0m \u001b[0maxis\u001b[0m\u001b[0;34m,\u001b[0m \u001b[0;32mNone\u001b[0m\u001b[0;34m,\u001b[0m \u001b[0mout\u001b[0m\u001b[0;34m,\u001b[0m \u001b[0mkeepdims\u001b[0m\u001b[0;34m,\u001b[0m \u001b[0minitial\u001b[0m\u001b[0;34m,\u001b[0m \u001b[0mwhere\u001b[0m\u001b[0;34m)\u001b[0m\u001b[0;34m\u001b[0m\u001b[0;34m\u001b[0m\u001b[0m\n\u001b[0m\u001b[1;32m     46\u001b[0m \u001b[0;34m\u001b[0m\u001b[0m\n\u001b[1;32m     47\u001b[0m def _sum(a, axis=None, dtype=None, out=None, keepdims=False,\n",
      "\u001b[0;31mTypeError\u001b[0m: '<=' not supported between instances of 'str' and 'Timestamp'"
     ]
    }
   ],
   "source": [
    "print(f\"Dados de {df['start_season'].min()} a {df['end_season'].max()}\")"
   ]
  },
  {
   "cell_type": "code",
   "execution_count": null,
   "id": "e0956b8a-b054-4784-9d32-9431ee3bd731",
   "metadata": {},
   "outputs": [],
   "source": [
    "list(df.columns)"
   ]
  },
  {
   "cell_type": "markdown",
   "id": "4573114f-a587-403b-89cc-246e3021d79e",
   "metadata": {},
   "source": [
    "# 2. Univariate Data Analysis"
   ]
  },
  {
   "cell_type": "code",
   "execution_count": null,
   "id": "cb5f1de4-f666-46b0-b72a-f99ef9b58d21",
   "metadata": {},
   "outputs": [],
   "source": [
    "#check NAN values\n",
    "df.isna().sum()"
   ]
  },
  {
   "cell_type": "markdown",
   "id": "e563f751-e706-418e-92fb-e4fe188518f0",
   "metadata": {},
   "source": [
    "### 2.1 Analysing Target y ``monitoring_class``"
   ]
  },
  {
   "cell_type": "code",
   "execution_count": null,
   "id": "c0df43e2-9dab-4f12-94a3-5496db0cb25f",
   "metadata": {},
   "outputs": [],
   "source": [
    "df['monitoring_class'].nunique()"
   ]
  },
  {
   "cell_type": "code",
   "execution_count": null,
   "id": "b4155328-4040-44be-9e27-64a220c9094f",
   "metadata": {},
   "outputs": [],
   "source": [
    "pd.concat([df['monitoring_class'].value_counts(),\n",
    "          df['monitoring_class'].value_counts(normalize=True)*100], axis=1)"
   ]
  },
  {
   "cell_type": "markdown",
   "id": "747031d9-7fce-42b1-ae31-1c405cd01f84",
   "metadata": {},
   "source": [
    "### 2.2 Analysing dados por ``estado``"
   ]
  },
  {
   "cell_type": "code",
   "execution_count": null,
   "id": "72d0e51e-bf55-43c2-9321-60f98ffdc03c",
   "metadata": {},
   "outputs": [],
   "source": [
    "df['state'].nunique()"
   ]
  },
  {
   "cell_type": "code",
   "execution_count": null,
   "id": "43441d1b-10db-4101-9ff7-858316a0fddb",
   "metadata": {},
   "outputs": [],
   "source": [
    "pd.concat([df['state'].value_counts(),\n",
    "          df['state'].value_counts(normalize=True)*100], axis=1)"
   ]
  },
  {
   "cell_type": "markdown",
   "id": "747f64bb-8380-4ace-9591-f426df77ac1e",
   "metadata": {},
   "source": [
    "### 2.3 Analysis ``period``"
   ]
  },
  {
   "cell_type": "code",
   "execution_count": null,
   "id": "31b7c42e-2324-4284-8489-3883abd47a14",
   "metadata": {},
   "outputs": [],
   "source": [
    "df['period'].nunique()"
   ]
  },
  {
   "cell_type": "code",
   "execution_count": null,
   "id": "00619ac3-4d1c-4b1c-b73f-5a115a2f501f",
   "metadata": {},
   "outputs": [],
   "source": [
    "pd.concat([df['period'].value_counts(),\n",
    "          df['period'].value_counts(normalize=True)*100], axis=1)"
   ]
  },
  {
   "cell_type": "markdown",
   "id": "773295e4-7101-481b-87a4-7357974ddc8e",
   "metadata": {},
   "source": [
    "### 2.4 Analysis ``micro``"
   ]
  },
  {
   "cell_type": "code",
   "execution_count": null,
   "id": "3a26d3d5-501f-4297-bb74-3d14390dc808",
   "metadata": {},
   "outputs": [],
   "source": [
    "df['micro'] = df['micro'].astype(int)"
   ]
  },
  {
   "cell_type": "code",
   "execution_count": null,
   "id": "56d41f78-ae31-4f62-aff0-29973a8547da",
   "metadata": {},
   "outputs": [],
   "source": [
    "df['micro'].nunique()"
   ]
  },
  {
   "cell_type": "code",
   "execution_count": null,
   "id": "5c27fd0e-5f1d-4302-b250-50b3920e49d8",
   "metadata": {},
   "outputs": [],
   "source": [
    "pd.concat([df['micro'].value_counts(),\n",
    "          df['micro'].value_counts(normalize=True)*100], axis=1)"
   ]
  },
  {
   "cell_type": "markdown",
   "id": "a389ca6c-55e1-4caf-8a8c-022d3d6845d7",
   "metadata": {},
   "source": [
    "### 2.5 Analysis ``sampled_date``"
   ]
  },
  {
   "cell_type": "code",
   "execution_count": null,
   "id": "9fe2216a-3b04-4976-bd2f-dd43a216d6b1",
   "metadata": {},
   "outputs": [],
   "source": [
    "df['sampled_date'].nunique()"
   ]
  },
  {
   "cell_type": "code",
   "execution_count": null,
   "id": "fb1ad1f2-b06c-4ac5-ae4d-53f72c303e54",
   "metadata": {},
   "outputs": [],
   "source": [
    "pd.concat([df['sampled_date'].value_counts(),\n",
    "          df['sampled_date'].value_counts(normalize=True)*100], axis=1)"
   ]
  },
  {
   "cell_type": "markdown",
   "id": "d9f73f00-c3a0-495b-b1ed-8c9fc989ded2",
   "metadata": {},
   "source": [
    "### 2.6 Analysis ``set_type``"
   ]
  },
  {
   "cell_type": "code",
   "execution_count": null,
   "id": "76bf468f-3ab0-409d-bee2-bc5be03790b9",
   "metadata": {},
   "outputs": [],
   "source": [
    "pd.concat([df['set_type'].value_counts(),\n",
    "          df['set_type'].value_counts(normalize=True)*100], axis=1)"
   ]
  },
  {
   "cell_type": "markdown",
   "id": "1ecf5eaf-1377-4ad5-8a56-ffab93eb93cc",
   "metadata": {},
   "source": [
    "### 2.7 Analysis of ``length_of_season (LOS)``"
   ]
  },
  {
   "cell_type": "code",
   "execution_count": null,
   "id": "2abece50-82ff-49fd-bee7-930089f9355f",
   "metadata": {},
   "outputs": [],
   "source": [
    "df['length_of_season'] = df['length_of_season'].astype(int)"
   ]
  },
  {
   "cell_type": "code",
   "execution_count": null,
   "id": "f9b799a8-3ee0-4dd4-9a4a-82e8d8df2e8e",
   "metadata": {},
   "outputs": [],
   "source": [
    "df['length_of_season'].describe()"
   ]
  },
  {
   "cell_type": "code",
   "execution_count": null,
   "id": "cbbb4eeb-ce2c-4880-b129-93fafe5fcbc7",
   "metadata": {},
   "outputs": [],
   "source": [
    "pd.concat([df['length_of_season'].value_counts(),\n",
    "          df['length_of_season'].value_counts(normalize=True)*100], axis=1)"
   ]
  },
  {
   "cell_type": "code",
   "execution_count": null,
   "id": "ec38602b-17c2-418a-8fbc-4d17f5b55ae0",
   "metadata": {},
   "outputs": [],
   "source": [
    "df[df['length_of_season'] < 100]"
   ]
  },
  {
   "cell_type": "markdown",
   "id": "2afd610f-ac8d-4813-9d5d-d14f460cf89d",
   "metadata": {},
   "source": [
    "### 2.8 Analysis of ``area``"
   ]
  },
  {
   "cell_type": "code",
   "execution_count": null,
   "id": "ee11d6d7-19ed-49b8-85ef-8f759653efb0",
   "metadata": {},
   "outputs": [],
   "source": [
    "pd.concat([df['area'].value_counts(),\n",
    "          df['area'].value_counts(normalize=True)*100], axis=1)"
   ]
  },
  {
   "cell_type": "markdown",
   "id": "25f951c2-0e6f-4004-97e2-8134d9de6cf2",
   "metadata": {},
   "source": [
    "### 2.9 Analysis of ``length_of_cycle (LOC)``"
   ]
  },
  {
   "cell_type": "code",
   "execution_count": null,
   "id": "03a870ab-9136-4544-94c0-454718afcc76",
   "metadata": {},
   "outputs": [],
   "source": [
    "df['length_of_cycle'] = df['length_of_cycle'].astype(int)"
   ]
  },
  {
   "cell_type": "code",
   "execution_count": null,
   "id": "51b28b84-ba5b-4ca0-987c-3f8e6d609f4e",
   "metadata": {},
   "outputs": [],
   "source": [
    "df['length_of_cycle'].describe()"
   ]
  },
  {
   "cell_type": "code",
   "execution_count": null,
   "id": "82228074-dc0f-44ef-8bd5-7867ab4550f0",
   "metadata": {},
   "outputs": [],
   "source": [
    "pd.concat([df['length_of_cycle'].value_counts(),\n",
    "          df['length_of_cycle'].value_counts(normalize=True)*100], axis=1)"
   ]
  },
  {
   "cell_type": "markdown",
   "id": "3e00d791-996f-4349-91da-5c871a203770",
   "metadata": {},
   "source": [
    "### 2.10 Analysis of ``cultura_2``"
   ]
  },
  {
   "cell_type": "code",
   "execution_count": null,
   "id": "9aa7ef03-aa75-4c36-b13e-674ad5de68d7",
   "metadata": {},
   "outputs": [],
   "source": [
    "#df['cultura_2'].unique()"
   ]
  },
  {
   "cell_type": "code",
   "execution_count": null,
   "id": "ddde00ab-e56f-4c6f-aa31-fcbc82b9cb1b",
   "metadata": {},
   "outputs": [],
   "source": [
    "# pd.concat([df['cultura_2'].value_counts(),\n",
    "#           df['cultura_2'].value_counts(normalize=True)*100], axis=1)"
   ]
  },
  {
   "cell_type": "markdown",
   "id": "b63bbeb9-142e-45b8-ba9d-666ccbf89385",
   "metadata": {},
   "source": [
    "### 2.11 Analysis of ``fonte``"
   ]
  },
  {
   "cell_type": "code",
   "execution_count": null,
   "id": "45c24be9-6d99-4690-986a-6b1f6afe86e5",
   "metadata": {},
   "outputs": [],
   "source": [
    "pd.concat([df['fonte'].value_counts(),\n",
    "          df['fonte'].value_counts(normalize=True)*100], axis=1)"
   ]
  },
  {
   "cell_type": "markdown",
   "id": "c1c9bbde-d86a-43f8-8b9b-18e0c6e7fd01",
   "metadata": {},
   "source": [
    "### 2.12 Analysis of ``eopath_location``"
   ]
  },
  {
   "cell_type": "code",
   "execution_count": null,
   "id": "f8a86c23-d7fa-4b76-a30f-211ef87e86f0",
   "metadata": {},
   "outputs": [],
   "source": [
    "df['eopath_location'].nunique()"
   ]
  },
  {
   "cell_type": "code",
   "execution_count": null,
   "id": "7901bce5-3d94-476e-a3f1-288a8f8c93bc",
   "metadata": {},
   "outputs": [],
   "source": [
    "df.shape[0]"
   ]
  },
  {
   "cell_type": "code",
   "execution_count": null,
   "id": "6c61e22b-eceb-4015-b6ee-452bdd9f7efc",
   "metadata": {},
   "outputs": [],
   "source": [
    "df[df['eopath_location'].duplicated()]['eopath_location']"
   ]
  },
  {
   "cell_type": "code",
   "execution_count": null,
   "id": "25314c53-f591-4997-a4bb-102fbf07e309",
   "metadata": {},
   "outputs": [],
   "source": [
    "# df[df['eopath_location'].duplicated()]['eopath_location'].iloc[0]"
   ]
  },
  {
   "cell_type": "markdown",
   "id": "7e194267-43e7-42b5-8b94-678566a1bc61",
   "metadata": {},
   "source": [
    "### 2.13 Check ``start_season`` and ``end_season``"
   ]
  },
  {
   "cell_type": "code",
   "execution_count": null,
   "id": "40c8aaba-a38c-4cff-903e-083ed3b1058a",
   "metadata": {},
   "outputs": [],
   "source": [
    "df[['start_season', 'end_season']].describe()"
   ]
  },
  {
   "cell_type": "code",
   "execution_count": null,
   "id": "0471b393-858a-4b0c-9cdb-897ff9cd35ef",
   "metadata": {},
   "outputs": [],
   "source": [
    "df[df['start_season'] == df['end_season']]"
   ]
  },
  {
   "cell_type": "code",
   "execution_count": null,
   "id": "c23a3111-8bfb-4bc6-9d3b-43dbfb323873",
   "metadata": {},
   "outputs": [],
   "source": [
    "df['start_season'].dt.year.unique()"
   ]
  },
  {
   "cell_type": "code",
   "execution_count": null,
   "id": "c4d2fa8e-f1c9-40fa-9c01-53b61145e352",
   "metadata": {},
   "outputs": [],
   "source": [
    "df['end_season'].dt.year.unique()"
   ]
  },
  {
   "cell_type": "code",
   "execution_count": null,
   "id": "a4a87f7d-d5b5-4c1b-a35e-0ef119f1541b",
   "metadata": {},
   "outputs": [],
   "source": [
    "df['start_of_season'].dt.year.unique()"
   ]
  },
  {
   "cell_type": "code",
   "execution_count": null,
   "id": "9d6f6ab4-fd5c-4286-90cd-a01a478296f5",
   "metadata": {},
   "outputs": [],
   "source": [
    "df['end_of_season'].dt.year.unique()"
   ]
  },
  {
   "cell_type": "markdown",
   "id": "1b643f9e-4f79-426b-9007-f10f4443322c",
   "metadata": {},
   "source": [
    "### 2.14 Check ``start_season`` and ``end_season``"
   ]
  },
  {
   "cell_type": "code",
   "execution_count": null,
   "id": "3f8e267a-90e9-42e0-8ea7-192f7d3a8d0b",
   "metadata": {},
   "outputs": [],
   "source": [
    "df[['peak_start', 'peak_end']].describe()"
   ]
  },
  {
   "cell_type": "code",
   "execution_count": null,
   "id": "a40d5ac9-2836-46b2-90e6-21c4a8b73a39",
   "metadata": {},
   "outputs": [],
   "source": [
    "df[df['peak_start'] == df['peak_end']]"
   ]
  },
  {
   "cell_type": "code",
   "execution_count": null,
   "id": "6458e3b9-dd11-4230-a60a-1d08b1212094",
   "metadata": {},
   "outputs": [],
   "source": [
    "df['peak_start'].dt.year.unique()"
   ]
  },
  {
   "cell_type": "code",
   "execution_count": null,
   "id": "ee9d10a6-9342-4e44-ac17-e45f1244f485",
   "metadata": {},
   "outputs": [],
   "source": [
    "df['peak_end'].dt.year.unique()"
   ]
  },
  {
   "cell_type": "markdown",
   "id": "b976b948-2fcf-4c0c-9a0f-6fec1cea356f",
   "metadata": {},
   "source": [
    "### 2.15 Check ``planting_start`` and ``planting_end``"
   ]
  },
  {
   "cell_type": "code",
   "execution_count": null,
   "id": "ddf2e754-ba60-4923-839d-a04193ecaf7f",
   "metadata": {},
   "outputs": [],
   "source": [
    "df[['planting_start', 'planting_end']].describe()"
   ]
  },
  {
   "cell_type": "code",
   "execution_count": null,
   "id": "465785f4-c6e3-48a9-b462-9e3b12842518",
   "metadata": {},
   "outputs": [],
   "source": [
    "df[df['planting_start'] == df['planting_end']]"
   ]
  },
  {
   "cell_type": "code",
   "execution_count": null,
   "id": "160d0bb9-d8a4-44c3-b26b-7d609bd8f492",
   "metadata": {},
   "outputs": [],
   "source": [
    "df['planting_start'].dt.year.unique()"
   ]
  },
  {
   "cell_type": "code",
   "execution_count": null,
   "id": "61e1d53a-2997-449b-ae1a-d44c7ef39245",
   "metadata": {},
   "outputs": [],
   "source": [
    "df['planting_end'].dt.year.unique()"
   ]
  },
  {
   "cell_type": "code",
   "execution_count": null,
   "id": "620e5686-71c4-4292-a3c6-84d21fadcaa8",
   "metadata": {},
   "outputs": [],
   "source": []
  },
  {
   "cell_type": "markdown",
   "id": "34456a06-ced0-4b2c-a19f-7c2d9c6488d5",
   "metadata": {},
   "source": [
    "# 3. Process and transform data"
   ]
  },
  {
   "cell_type": "code",
   "execution_count": null,
   "id": "453b26cf-992f-4509-970d-a525c2dc0514",
   "metadata": {},
   "outputs": [],
   "source": []
  }
 ],
 "metadata": {
  "kernelspec": {
   "display_name": "Python 3 (ipykernel)",
   "language": "python",
   "name": "python3"
  },
  "language_info": {
   "codemirror_mode": {
    "name": "ipython",
    "version": 3
   },
   "file_extension": ".py",
   "mimetype": "text/x-python",
   "name": "python",
   "nbconvert_exporter": "python",
   "pygments_lexer": "ipython3",
   "version": "3.10.12"
  }
 },
 "nbformat": 4,
 "nbformat_minor": 5
}
