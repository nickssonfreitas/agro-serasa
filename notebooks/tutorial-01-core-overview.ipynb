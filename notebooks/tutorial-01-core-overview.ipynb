{
 "cells": [
  {
   "cell_type": "markdown",
   "id": "84c2e07a-8694-4da6-92c1-07aa7855d152",
   "metadata": {},
   "source": [
    "# Eo-leorn:\n",
    "- **eo-learn** is a collection of open source Python packages that have been developed to seamlessly access and process **spatio-temporal image sequences** acquired by any **satellite** fleet in a **timely and automatic manner**. \n",
    "- **eo-learn is easy to use**, it’s design modular, and encourages collaboration – sharing and reusing of specific tasks in a typical EO-value-extraction workflows, such as **cloud masking**, **image co-registration**, **feature extraction**, **classification**, etc\n",
    "\n",
    "eo-learn makes extraction of valuable information from satellite imagery as easy as defining a sequence of operations to be performed on satellite imagery. Image below illustrates a processing chain that maps water in satellite imagery by thresholding the Normalised Difference Water Index in user specified region of interest.\n",
    "\n",
    "![Alt text](../image/eo-learn-illustration.webp)\n",
    "\n",
    "###  oe-learn modules:\n",
    "\n",
    "- **core** - The main module which implements basic building blocks (EOPatch, EOTask and EOWorkflow) and commonly used functionalities.\n",
    "\n",
    "- **coregistration** - Tasks which deal with image co-registration.\n",
    "\n",
    "- **features** - A collection of utilities for extracting data properties and feature manipulation.\n",
    "\n",
    "- **geometry** - Geometry-related tasks used for transformation and conversion between vector and raster data.\n",
    "\n",
    "- **io** - Input/output tasks that deal with obtaining data from Sentinel Hub services or saving and loading data locally.\n",
    "\n",
    "- **mask** - Tasks used for masking of data and calculation of cloud/snow/other masks.\n",
    "\n",
    "- **ml-tools** - Various tools that can be used before or after the machine learning process.\n",
    "\n",
    "- **visualization** - Visualization tools for the core elements of eo-learn.\n",
    "\n",
    "### Important Links\n",
    "- [eo-learn documentation](https://eo-learn.readthedocs.io/en/latest/)\n",
    "- [Core Overview](https://eo-learn.readthedocs.io/en/latest/examples/core/CoreOverview.html)"
   ]
  },
  {
   "cell_type": "markdown",
   "id": "bf660bab-cf95-4e80-a968-c98dae1e7012",
   "metadata": {},
   "source": [
    "### Set variables and project setup"
   ]
  },
  {
   "cell_type": "code",
   "execution_count": 1,
   "id": "5df0112b-753c-4165-960f-7b29fd7a27a5",
   "metadata": {},
   "outputs": [],
   "source": [
    "# Load the autoreload extension to automatically reload modules when files on disk are updated\n",
    "%load_ext autoreload\n",
    "# it will automatically be reloaded without the need to restart the kernel.\n",
    "%autoreload 2\n",
    "\n",
    "import os\n",
    "from dotenv import load_dotenv\n",
    "import sys"
   ]
  },
  {
   "cell_type": "code",
   "execution_count": 3,
   "id": "ed1c2e2c-6ee0-4713-9771-30ce9eaa338f",
   "metadata": {},
   "outputs": [],
   "source": [
    "# Load environment variables from the .env file in the current directory\n",
    "load_dotenv()\n",
    "# Fetch the project directory path from the .env file using the variable 'PROJECT_DIR'\n",
    "PROJECT_PATH = os.getenv('PROJECT_PATH')\n",
    "DATASETS_PATH = os.getenv('DATASETS_PATH')"
   ]
  },
  {
   "cell_type": "code",
   "execution_count": 4,
   "id": "50298838-7404-4c7f-94f5-7c5b515d10de",
   "metadata": {},
   "outputs": [],
   "source": [
    "sys.path.append(PROJECT_PATH)"
   ]
  },
  {
   "cell_type": "markdown",
   "id": "f238607b-7889-4189-88c7-c17ea1fc0350",
   "metadata": {},
   "source": [
    "## 1. Read Data using EOPatch\n",
    "\n",
    "![Alt text](../image/eopatch.webp)\n",
    "\n",
    "- The first basic object in the package is a data container, called EOPatch.\n",
    "- The EOPatch can contain data (of the same location) for multiple times. If the EOPatch contains multiple collections of temporal data, they must have the same temporal axis (the images must correspond to the same time-points).\n",
    "- There is no limit to how much data a single EOPatch can store, but typically it shouldn’t be more than the size of your RAM."
   ]
  },
  {
   "cell_type": "code",
   "execution_count": 1,
   "id": "6e9e1c73-7c92-404c-814a-f7eb7a12115d",
   "metadata": {},
   "outputs": [
    {
     "ename": "ModuleNotFoundError",
     "evalue": "No module named 'eolearn'",
     "output_type": "error",
     "traceback": [
      "\u001b[0;31m---------------------------------------------------------------------------\u001b[0m",
      "\u001b[0;31mModuleNotFoundError\u001b[0m                       Traceback (most recent call last)",
      "Cell \u001b[0;32mIn[1], line 2\u001b[0m\n\u001b[1;32m      1\u001b[0m \u001b[38;5;28;01mimport\u001b[39;00m \u001b[38;5;21;01mos\u001b[39;00m\n\u001b[0;32m----> 2\u001b[0m \u001b[38;5;28;01mfrom\u001b[39;00m \u001b[38;5;21;01meolearn\u001b[39;00m\u001b[38;5;21;01m.\u001b[39;00m\u001b[38;5;21;01mcore\u001b[39;00m \u001b[38;5;28;01mimport\u001b[39;00m EOPatch\n",
      "\u001b[0;31mModuleNotFoundError\u001b[0m: No module named 'eolearn'"
     ]
    }
   ],
   "source": [
    "import os\n",
    "from eolearn.core import EOPatch"
   ]
  },
  {
   "cell_type": "code",
   "execution_count": 7,
   "id": "8c757541-b41a-40ce-b442-dba49514cf1f",
   "metadata": {},
   "outputs": [],
   "source": [
    "INPUT_TestEOPatch = os.path.join(DATASETS_PATH, \"example_data\", \"TestEOPatch\")"
   ]
  },
  {
   "cell_type": "code",
   "execution_count": 9,
   "id": "8fdbf635-b282-47c5-a24f-f92d54c924ea",
   "metadata": {},
   "outputs": [
    {
     "data": {
      "text/plain": [
       "'/home/nicksson/Git/agro-serasa/data/example_data/TestEOPatch'"
      ]
     },
     "execution_count": 9,
     "metadata": {},
     "output_type": "execute_result"
    }
   ],
   "source": [
    "INPUT_TestEOPatch"
   ]
  },
  {
   "cell_type": "code",
   "execution_count": 10,
   "id": "fac3f101-235f-48fa-89cf-91214f4d5074",
   "metadata": {},
   "outputs": [],
   "source": [
    "eopatch = EOPatch.load(path=INPUT_TestEOPatch, \n",
    "                       lazy_loading=False  # Set this parameter to True to load data in memory only when first needed\n",
    "                      )"
   ]
  },
  {
   "cell_type": "code",
   "execution_count": 11,
   "id": "d0a89231-0354-4011-9dfe-129952c709dd",
   "metadata": {},
   "outputs": [
    {
     "data": {
      "text/plain": [
       "EOPatch(\n",
       "  bbox=BBox(((465181.0522318204, 5079244.8912012065), (466180.53145382757, 5080254.63349641)), crs=CRS('32633'))\n",
       "  timestamps=[2015-07-11 10:00:08, ...]<length=68>\n",
       "  mask_timeless={\n",
       "    LULC: numpy.ndarray(shape=(101, 100, 1), dtype=uint16)\n",
       "    RANDOM_UINT8: numpy.ndarray(shape=(101, 100, 13), dtype=uint8)\n",
       "    VALID_COUNT: numpy.ndarray(shape=(101, 100, 1), dtype=int64)\n",
       "  }\n",
       "  scalar={\n",
       "    CLOUD_COVERAGE: numpy.ndarray(shape=(68, 1), dtype=float16)\n",
       "  }\n",
       "  label={\n",
       "    IS_CLOUDLESS: numpy.ndarray(shape=(68, 1), dtype=bool)\n",
       "    RANDOM_DIGIT: numpy.ndarray(shape=(68, 2), dtype=int8)\n",
       "  }\n",
       "  data_timeless={\n",
       "    DEM: numpy.ndarray(shape=(101, 100, 1), dtype=float32)\n",
       "    MAX_NDVI: numpy.ndarray(shape=(101, 100, 1), dtype=float64)\n",
       "  }\n",
       "  data={\n",
       "    BANDS-S2-L1C: numpy.ndarray(shape=(68, 101, 100, 13), dtype=float32)\n",
       "    CLP: numpy.ndarray(shape=(68, 101, 100, 1), dtype=float32)\n",
       "    CLP_MULTI: numpy.ndarray(shape=(68, 101, 100, 1), dtype=float32)\n",
       "    CLP_S2C: numpy.ndarray(shape=(68, 101, 100, 1), dtype=float32)\n",
       "    NDVI: numpy.ndarray(shape=(68, 101, 100, 1), dtype=float32)\n",
       "  }\n",
       "  meta_info={\n",
       "    maxcc: 0.8\n",
       "    service_type: wcs\n",
       "    size_x: 10m\n",
       "    size_y: 10m\n",
       "  }\n",
       "  mask={\n",
       "    CLM: numpy.ndarray(shape=(68, 101, 100, 1), dtype=uint8)\n",
       "    CLM_INTERSSIM: numpy.ndarray(shape=(68, 101, 100, 1), dtype=bool)\n",
       "    CLM_MULTI: numpy.ndarray(shape=(68, 101, 100, 1), dtype=bool)\n",
       "    CLM_S2C: numpy.ndarray(shape=(68, 101, 100, 1), dtype=bool)\n",
       "    IS_DATA: numpy.ndarray(shape=(68, 101, 100, 1), dtype=uint8)\n",
       "    IS_VALID: numpy.ndarray(shape=(68, 101, 100, 1), dtype=bool)\n",
       "  }\n",
       "  scalar_timeless={\n",
       "    LULC_PERCENTAGE: numpy.ndarray(shape=(6,), dtype=float64)\n",
       "  }\n",
       "  vector_timeless={\n",
       "    LULC: geopandas.GeoDataFrame(columns=['index', 'RABA_ID', 'AREA', 'DATE', 'LULC_ID', 'LULC_NAME', 'geometry'], length=88, crs=EPSG:32633)\n",
       "  }\n",
       "  label_timeless={\n",
       "    LULC_COUNTS: numpy.ndarray(shape=(6,), dtype=int32)\n",
       "  }\n",
       "  vector={\n",
       "    CLM_VECTOR: geopandas.GeoDataFrame(columns=['TIMESTAMP', 'VALUE', 'geometry'], length=55, crs=EPSG:32633)\n",
       "  }\n",
       ")"
      ]
     },
     "execution_count": 11,
     "metadata": {},
     "output_type": "execute_result"
    }
   ],
   "source": [
    "eopatch"
   ]
  },
  {
   "cell_type": "markdown",
   "id": "2667c889-7ade-4c42-a32d-474b06e8daf7",
   "metadata": {},
   "source": [
    "## 2. Acessing a feature in the EOPatch\n",
    "\n",
    "#### 2.1 There are multiple ways how to access a feature in the EOPatch"
   ]
  },
  {
   "cell_type": "code",
   "execution_count": 12,
   "id": "351014d9-47ce-4e8a-b7f5-575366e6eb6f",
   "metadata": {},
   "outputs": [],
   "source": [
    "from eolearn.core import FeatureType"
   ]
  },
  {
   "cell_type": "code",
   "execution_count": 13,
   "id": "d0de198a-2e1c-4940-8533-bd6cda035a01",
   "metadata": {},
   "outputs": [
    {
     "data": {
      "text/plain": [
       "(numpy.ndarray, (68, 101, 100, 13))"
      ]
     },
     "execution_count": 13,
     "metadata": {},
     "output_type": "execute_result"
    }
   ],
   "source": [
    "# All of these access the same feature:\n",
    "bands = eopatch.data[\"BANDS-S2-L1C\"]\n",
    "type(bands), bands.shape"
   ]
  },
  {
   "cell_type": "code",
   "execution_count": 14,
   "id": "43c35f3f-019f-47cc-891f-685b0b99655c",
   "metadata": {},
   "outputs": [
    {
     "data": {
      "text/plain": [
       "(numpy.ndarray, (68, 101, 100, 13))"
      ]
     },
     "execution_count": 14,
     "metadata": {},
     "output_type": "execute_result"
    }
   ],
   "source": [
    "bands = eopatch[FeatureType.DATA][\"BANDS-S2-L1C\"]\n",
    "type(bands), bands.shape"
   ]
  },
  {
   "cell_type": "code",
   "execution_count": 15,
   "id": "9b508012-f20e-45d7-8bba-e0584524c769",
   "metadata": {},
   "outputs": [
    {
     "data": {
      "text/plain": [
       "(numpy.ndarray, (68, 101, 100, 13))"
      ]
     },
     "execution_count": 15,
     "metadata": {},
     "output_type": "execute_result"
    }
   ],
   "source": [
    "bands = eopatch[(FeatureType.DATA, \"BANDS-S2-L1C\")]\n",
    "type(bands), bands.shape"
   ]
  },
  {
   "cell_type": "code",
   "execution_count": 16,
   "id": "da65a8e5-8d16-4975-a957-1b1423e6d5f3",
   "metadata": {},
   "outputs": [
    {
     "data": {
      "text/plain": [
       "(numpy.ndarray, (68, 101, 100, 13))"
      ]
     },
     "execution_count": 16,
     "metadata": {},
     "output_type": "execute_result"
    }
   ],
   "source": [
    "bands = eopatch[FeatureType.DATA, \"BANDS-S2-L1C\"]\n",
    "type(bands), bands.shape"
   ]
  },
  {
   "cell_type": "markdown",
   "id": "e5027bec-7077-47fb-a1d7-a58c7caf3aa8",
   "metadata": {},
   "source": [
    "#### 2.2 Vector features are handled by geopandas"
   ]
  },
  {
   "cell_type": "code",
   "execution_count": 17,
   "id": "5e561883-642d-42ea-9a83-0ee8090d4d7d",
   "metadata": {},
   "outputs": [
    {
     "data": {
      "text/html": [
       "<div>\n",
       "<style scoped>\n",
       "    .dataframe tbody tr th:only-of-type {\n",
       "        vertical-align: middle;\n",
       "    }\n",
       "\n",
       "    .dataframe tbody tr th {\n",
       "        vertical-align: top;\n",
       "    }\n",
       "\n",
       "    .dataframe thead th {\n",
       "        text-align: right;\n",
       "    }\n",
       "</style>\n",
       "<table border=\"1\" class=\"dataframe\">\n",
       "  <thead>\n",
       "    <tr style=\"text-align: right;\">\n",
       "      <th></th>\n",
       "      <th>TIMESTAMP</th>\n",
       "      <th>VALUE</th>\n",
       "      <th>geometry</th>\n",
       "    </tr>\n",
       "  </thead>\n",
       "  <tbody>\n",
       "    <tr>\n",
       "      <th>0</th>\n",
       "      <td>2015-07-31 10:00:09</td>\n",
       "      <td>1.0</td>\n",
       "      <td>POLYGON ((465181.052 5080254.633, 465181.052 5...</td>\n",
       "    </tr>\n",
       "    <tr>\n",
       "      <th>1</th>\n",
       "      <td>2015-08-20 10:07:28</td>\n",
       "      <td>1.0</td>\n",
       "      <td>POLYGON ((465181.052 5080254.633, 465181.052 5...</td>\n",
       "    </tr>\n",
       "    <tr>\n",
       "      <th>2</th>\n",
       "      <td>2015-09-19 10:05:43</td>\n",
       "      <td>1.0</td>\n",
       "      <td>POLYGON ((465181.052 5080254.633, 465181.052 5...</td>\n",
       "    </tr>\n",
       "    <tr>\n",
       "      <th>3</th>\n",
       "      <td>2015-09-29 10:06:33</td>\n",
       "      <td>1.0</td>\n",
       "      <td>POLYGON ((465181.052 5080254.633, 465181.052 5...</td>\n",
       "    </tr>\n",
       "    <tr>\n",
       "      <th>4</th>\n",
       "      <td>2015-12-08 10:04:09</td>\n",
       "      <td>1.0</td>\n",
       "      <td>POLYGON ((465181.052 5080254.633, 465181.052 5...</td>\n",
       "    </tr>\n",
       "  </tbody>\n",
       "</table>\n",
       "</div>"
      ],
      "text/plain": [
       "            TIMESTAMP  VALUE  \\\n",
       "0 2015-07-31 10:00:09    1.0   \n",
       "1 2015-08-20 10:07:28    1.0   \n",
       "2 2015-09-19 10:05:43    1.0   \n",
       "3 2015-09-29 10:06:33    1.0   \n",
       "4 2015-12-08 10:04:09    1.0   \n",
       "\n",
       "                                            geometry  \n",
       "0  POLYGON ((465181.052 5080254.633, 465181.052 5...  \n",
       "1  POLYGON ((465181.052 5080254.633, 465181.052 5...  \n",
       "2  POLYGON ((465181.052 5080254.633, 465181.052 5...  \n",
       "3  POLYGON ((465181.052 5080254.633, 465181.052 5...  \n",
       "4  POLYGON ((465181.052 5080254.633, 465181.052 5...  "
      ]
     },
     "execution_count": 17,
     "metadata": {},
     "output_type": "execute_result"
    }
   ],
   "source": [
    "eopatch[FeatureType.VECTOR, \"CLM_VECTOR\"].head()"
   ]
  },
  {
   "cell_type": "code",
   "execution_count": 18,
   "id": "c6b5e688-a2b4-4ca9-ab74-c6a085b93182",
   "metadata": {},
   "outputs": [
    {
     "name": "stdout",
     "output_type": "stream",
     "text": [
      "[datetime.datetime(2015, 7, 11, 10, 0, 8), datetime.datetime(2015, 7, 31, 10, 0, 9), datetime.datetime(2015, 8, 20, 10, 7, 28), datetime.datetime(2015, 8, 30, 10, 5, 47), datetime.datetime(2015, 9, 9, 10, 0, 17)]\n",
      "BBox(((465181.0522318204, 5079244.8912012065), (466180.53145382757, 5080254.63349641)), crs=CRS('32633'))\n"
     ]
    },
    {
     "data": {
      "image/svg+xml": [
       "<svg xmlns=\"http://www.w3.org/2000/svg\" xmlns:xlink=\"http://www.w3.org/1999/xlink\" width=\"300\" height=\"300\" viewBox=\"465140.6625400123 5079204.501509398 1080.2586056234431 1090.5216788202524\" preserveAspectRatio=\"xMinYMin meet\"><g transform=\"matrix(1,0,0,-1,0,10159499.524697617)\"><path fill-rule=\"evenodd\" fill=\"#66cc99\" stroke=\"#555555\" stroke-width=\"7.27014452546835\" opacity=\"0.6\" d=\"M 465181.0522318204,5079244.8912012065 L 465181.0522318204,5080254.63349641 L 466180.53145382757,5080254.63349641 L 466180.53145382757,5079244.8912012065 L 465181.0522318204,5079244.8912012065 z\" /></g></svg>"
      ],
      "text/plain": [
       "<POLYGON ((465181.052 5079244.891, 465181.052 5080254.633, 466180.531 508025...>"
      ]
     },
     "execution_count": 18,
     "metadata": {},
     "output_type": "execute_result"
    }
   ],
   "source": [
    "print(eopatch.timestamps[:5])\n",
    "print(repr(eopatch.bbox))\n",
    "\n",
    "eopatch.bbox.geometry  # draws the shape of BBox"
   ]
  },
  {
   "cell_type": "code",
   "execution_count": 19,
   "id": "0ce545fa-192c-4330-bcd8-c19ca4b0f57f",
   "metadata": {},
   "outputs": [
    {
     "data": {
      "text/plain": [
       "[(<FeatureType.DATA: 'data'>, 'CLP_MULTI'),\n",
       " (<FeatureType.DATA: 'data'>, 'CLP_S2C'),\n",
       " (<FeatureType.DATA: 'data'>, 'CLP'),\n",
       " (<FeatureType.DATA: 'data'>, 'BANDS-S2-L1C'),\n",
       " (<FeatureType.DATA: 'data'>, 'NDVI'),\n",
       " (<FeatureType.MASK: 'mask'>, 'CLM_S2C'),\n",
       " (<FeatureType.MASK: 'mask'>, 'IS_VALID'),\n",
       " (<FeatureType.MASK: 'mask'>, 'CLM_MULTI'),\n",
       " (<FeatureType.MASK: 'mask'>, 'CLM'),\n",
       " (<FeatureType.MASK: 'mask'>, 'CLM_INTERSSIM'),\n",
       " (<FeatureType.MASK: 'mask'>, 'IS_DATA'),\n",
       " (<FeatureType.SCALAR: 'scalar'>, 'CLOUD_COVERAGE'),\n",
       " (<FeatureType.LABEL: 'label'>, 'RANDOM_DIGIT'),\n",
       " (<FeatureType.LABEL: 'label'>, 'IS_CLOUDLESS'),\n",
       " (<FeatureType.VECTOR: 'vector'>, 'CLM_VECTOR'),\n",
       " (<FeatureType.DATA_TIMELESS: 'data_timeless'>, 'MAX_NDVI'),\n",
       " (<FeatureType.DATA_TIMELESS: 'data_timeless'>, 'DEM'),\n",
       " (<FeatureType.MASK_TIMELESS: 'mask_timeless'>, 'RANDOM_UINT8'),\n",
       " (<FeatureType.MASK_TIMELESS: 'mask_timeless'>, 'LULC'),\n",
       " (<FeatureType.MASK_TIMELESS: 'mask_timeless'>, 'VALID_COUNT'),\n",
       " (<FeatureType.SCALAR_TIMELESS: 'scalar_timeless'>, 'LULC_PERCENTAGE'),\n",
       " (<FeatureType.LABEL_TIMELESS: 'label_timeless'>, 'LULC_COUNTS'),\n",
       " (<FeatureType.VECTOR_TIMELESS: 'vector_timeless'>, 'LULC'),\n",
       " (<FeatureType.META_INFO: 'meta_info'>, 'size_y'),\n",
       " (<FeatureType.META_INFO: 'meta_info'>, 'maxcc'),\n",
       " (<FeatureType.META_INFO: 'meta_info'>, 'size_x'),\n",
       " (<FeatureType.META_INFO: 'meta_info'>, 'service_type')]"
      ]
     },
     "execution_count": 19,
     "metadata": {},
     "output_type": "execute_result"
    }
   ],
   "source": [
    "eopatch.get_features()"
   ]
  },
  {
   "cell_type": "markdown",
   "id": "b8989010-357d-468a-88d0-c6f048c88928",
   "metadata": {},
   "source": [
    "## 3.  Create, Update, Delete and Save EOPatch"
   ]
  },
  {
   "cell_type": "code",
   "execution_count": 20,
   "id": "0204e773-de9e-45b3-a909-8bc75dc7b641",
   "metadata": {},
   "outputs": [],
   "source": [
    "import numpy as np\n",
    "from sentinelhub import CRS, BBox"
   ]
  },
  {
   "cell_type": "markdown",
   "id": "393ac089-2aec-44b1-a4fa-09b39dbf2eb5",
   "metadata": {},
   "source": [
    "#### 3.1 Creating a new EOPatch"
   ]
  },
  {
   "cell_type": "code",
   "execution_count": 21,
   "id": "efcf8c99-b1ca-4018-8a43-b8a722e95614",
   "metadata": {},
   "outputs": [],
   "source": [
    "# Since EOPatch represents geolocated data, it should always have a bounding box\n",
    "new_eopatch = EOPatch(bbox=BBox((0, 0, 1, 1), CRS.WGS84))"
   ]
  },
  {
   "cell_type": "code",
   "execution_count": 22,
   "id": "e30792ad-5819-4c23-b6eb-2c89133ae372",
   "metadata": {},
   "outputs": [],
   "source": [
    "new_eopatch[FeatureType.MASK_TIMELESS, \"NEW_MASK\"] = np.zeros((68, 10, 13), dtype=np.uint8)"
   ]
  },
  {
   "cell_type": "code",
   "execution_count": 23,
   "id": "9715afd9-693c-4a13-bb1e-66075abf0f54",
   "metadata": {},
   "outputs": [],
   "source": [
    "# If temporal features are added to an EOPatch that does not have timestamps (or if the dimensions do not match),\n",
    "# the user is warned that the EOPatch is temporall ill-defined\n",
    "new_eopatch.timestamps = eopatch.timestamps\n",
    "new_eopatch[FeatureType.DATA, \"BANDS\"] = eopatch[FeatureType.DATA, \"BANDS-S2-L1C\"]"
   ]
  },
  {
   "cell_type": "code",
   "execution_count": 24,
   "id": "747d4dd3-e4bf-48f5-9e49-7f587f43b783",
   "metadata": {},
   "outputs": [
    {
     "data": {
      "text/plain": [
       "EOPatch(\n",
       "  bbox=BBox(((0.0, 0.0), (1.0, 1.0)), crs=CRS('4326'))\n",
       "  timestamps=[2015-07-11 10:00:08, ...]<length=68>\n",
       "  mask_timeless={\n",
       "    NEW_MASK: numpy.ndarray(shape=(68, 10, 13), dtype=uint8)\n",
       "  }\n",
       "  data={\n",
       "    BANDS: numpy.ndarray(shape=(68, 101, 100, 13), dtype=float32)\n",
       "  }\n",
       ")"
      ]
     },
     "execution_count": 24,
     "metadata": {},
     "output_type": "execute_result"
    }
   ],
   "source": [
    "# The following wouldn't work as there are restrictions to what kind of data can be stored in each feature type\n",
    "# new_eopatch[FeatureType.MASK, 'NEW_MASK'] = np.zeros((10, 10, 13), dtype=np.uint8)\n",
    "# new_eopatch[FeatureType.VECTOR, 'NEW_MASK'] = np.zeros((10, 10, 13), dtype=np.uint8)\n",
    "new_eopatch"
   ]
  },
  {
   "cell_type": "markdown",
   "id": "91298a62-e585-487b-befa-31780a1ad987",
   "metadata": {},
   "source": [
    "#### 3.2 Deleting the new EOPatch"
   ]
  },
  {
   "cell_type": "code",
   "execution_count": 25,
   "id": "6f5c75ce-b297-4090-8dd1-0682588ad893",
   "metadata": {},
   "outputs": [],
   "source": [
    "del new_eopatch[FeatureType.MASK_TIMELESS, \"NEW_MASK\"]"
   ]
  },
  {
   "cell_type": "code",
   "execution_count": 26,
   "id": "486cad84-66a9-4959-b586-1629b034bb71",
   "metadata": {},
   "outputs": [
    {
     "data": {
      "text/plain": [
       "EOPatch(\n",
       "  bbox=BBox(((0.0, 0.0), (1.0, 1.0)), crs=CRS('4326'))\n",
       "  timestamps=[2015-07-11 10:00:08, ...]<length=68>\n",
       "  data={\n",
       "    BANDS: numpy.ndarray(shape=(68, 101, 100, 13), dtype=float32)\n",
       "  }\n",
       ")"
      ]
     },
     "execution_count": 26,
     "metadata": {},
     "output_type": "execute_result"
    }
   ],
   "source": [
    "new_eopatch"
   ]
  },
  {
   "cell_type": "markdown",
   "id": "5419ce9b-0c25-412e-8a34-43c470dd97cf",
   "metadata": {},
   "source": [
    "#### 3.3 Save or update a EOPatch"
   ]
  },
  {
   "cell_type": "code",
   "execution_count": 27,
   "id": "f9ae554f-6c60-498e-93af-c2ec2e7c222d",
   "metadata": {},
   "outputs": [],
   "source": [
    "from eolearn.core import OverwritePermission"
   ]
  },
  {
   "cell_type": "code",
   "execution_count": 29,
   "id": "6fa9d40e-1d23-4e28-8232-9b56cb56d9e3",
   "metadata": {},
   "outputs": [
    {
     "data": {
      "text/plain": [
       "'/home/nicksson/Git/agro-serasa/data/outputs'"
      ]
     },
     "execution_count": 29,
     "metadata": {},
     "output_type": "execute_result"
    }
   ],
   "source": [
    "OUTPUT_FOLDER = os.path.join(DATASETS_PATH, \"outputs\")\n",
    "OUTPUT_FOLDER"
   ]
  },
  {
   "cell_type": "code",
   "execution_count": 30,
   "id": "2a9ae78b-05ce-4be5-b157-b9501e96c470",
   "metadata": {},
   "outputs": [],
   "source": [
    "os.makedirs(OUTPUT_FOLDER, \n",
    "            exist_ok=True)\n",
    "NEW_EOPATCH_PATH = os.path.join(OUTPUT_FOLDER, \n",
    "                                \"NewEOPatch\")\n",
    "new_eopatch.save(NEW_EOPATCH_PATH, \n",
    "                 overwrite_permission=OverwritePermission.OVERWRITE_FEATURES)"
   ]
  },
  {
   "cell_type": "markdown",
   "id": "df83c50b-cbb9-498b-84ad-441de5f3abd3",
   "metadata": {},
   "source": [
    "#### 3.4 Loading the EOPatch on disk"
   ]
  },
  {
   "cell_type": "code",
   "execution_count": 31,
   "id": "36653b9b-c682-4000-a45b-0514252c88e4",
   "metadata": {},
   "outputs": [],
   "source": [
    "loaded_eopatch = EOPatch.load(NEW_EOPATCH_PATH)"
   ]
  },
  {
   "cell_type": "code",
   "execution_count": 32,
   "id": "ee4c11c2-35b9-4c60-b0f2-f5da8e5c3488",
   "metadata": {},
   "outputs": [
    {
     "data": {
      "text/plain": [
       "True"
      ]
     },
     "execution_count": 32,
     "metadata": {},
     "output_type": "execute_result"
    }
   ],
   "source": [
    "# compare eopatch with original\n",
    "new_eopatch == loaded_eopatch"
   ]
  },
  {
   "cell_type": "markdown",
   "id": "0c73b762-a3fd-4245-a073-9705215085e8",
   "metadata": {},
   "source": [
    "#### 3.5 Copy a EOPatch"
   ]
  },
  {
   "cell_type": "code",
   "execution_count": 33,
   "id": "f2e68937-ac01-4a69-a01d-ff701b3d1a9d",
   "metadata": {},
   "outputs": [
    {
     "data": {
      "text/plain": [
       "EOPatch(\n",
       "  bbox=BBox(((0.0, 0.0), (1.0, 1.0)), crs=CRS('4326'))\n",
       "  timestamps=[2015-07-11 10:00:08, ...]<length=68>\n",
       "  data={\n",
       "    BANDS: numpy.ndarray(shape=(68, 101, 100, 13), dtype=float32)\n",
       "  }\n",
       ")"
      ]
     },
     "execution_count": 33,
     "metadata": {},
     "output_type": "execute_result"
    }
   ],
   "source": [
    "new_eopatch.copy()"
   ]
  },
  {
   "cell_type": "code",
   "execution_count": 34,
   "id": "949457d4-39c8-4c0e-afe0-e3467dd5dc84",
   "metadata": {},
   "outputs": [
    {
     "data": {
      "text/plain": [
       "EOPatch(\n",
       "  bbox=BBox(((0.0, 0.0), (1.0, 1.0)), crs=CRS('4326'))\n",
       "  timestamps=[2015-07-11 10:00:08, ...]<length=68>\n",
       "  data={\n",
       "    BANDS: numpy.ndarray(shape=(68, 101, 100, 13), dtype=float32)\n",
       "  }\n",
       ")"
      ]
     },
     "execution_count": 34,
     "metadata": {},
     "output_type": "execute_result"
    }
   ],
   "source": [
    "new_eopatch.copy(deep=True)"
   ]
  },
  {
   "cell_type": "markdown",
   "id": "99466215-cf86-4cc8-8ca7-7695a5ebe077",
   "metadata": {},
   "source": [
    "## 4. EOTask\n",
    "- The next core object is EOTask, which is a single well-defined operation on one or more EOPatch objects.\n",
    "- [EOTask list](https://eo-learn.readthedocs.io/en/latest/eotasks.html)"
   ]
  },
  {
   "cell_type": "markdown",
   "id": "e5bdabad-6e93-4f4e-9467-ea51f35912d3",
   "metadata": {},
   "source": [
    "#### 4.1 Create a new EOTask\n",
    "We can create a new EOTask by creating a class that inherits from the abstract EOTask class:"
   ]
  },
  {
   "cell_type": "code",
   "execution_count": 35,
   "id": "98f8f7a3-9b39-42b3-a8aa-52c84c6ea074",
   "metadata": {},
   "outputs": [],
   "source": [
    "from eolearn.core import EOTask\n",
    "from typing import Any, Tuple"
   ]
  },
  {
   "cell_type": "code",
   "execution_count": 36,
   "id": "ef9e6e9b-8335-4c24-9016-6a3630be0d52",
   "metadata": {},
   "outputs": [],
   "source": [
    "class FooTask(EOTask):\n",
    "\n",
    "    def __init__(self, foo_param):\n",
    "        \"\"\" Task-specific parameters\n",
    "        \"\"\"\n",
    "        self.foo_param = foo_param\n",
    "\n",
    "    def execute(self, eopatch, *, patch_specific_param):\n",
    "\n",
    "        # Do what foo does on EOPatch and return it\n",
    "\n",
    "        return eopatch"
   ]
  },
  {
   "cell_type": "code",
   "execution_count": 37,
   "id": "f54b1f84-7218-4434-9f74-e137fea2c273",
   "metadata": {},
   "outputs": [],
   "source": [
    "class AddFeatureTask(EOTask):\n",
    "    \"\"\"Adds a feature to the given EOPatch.\n",
    "\n",
    "    :param feature: Feature to be added\n",
    "    :type feature: (FeatureType, feature_name) or FeatureType\n",
    "    \"\"\"\n",
    "\n",
    "    def __init__(self, feature: Tuple[FeatureType, str]):\n",
    "        self.feature = feature\n",
    "\n",
    "    def execute(self, eopatch: EOPatch, *, data: Any) -> EOPatch:\n",
    "        \"\"\"Returns the EOPatch with added features.\n",
    "\n",
    "        :param eopatch: input EOPatch\n",
    "        :param data: data to be added to the feature\n",
    "        :return: input EOPatch with the specified feature\n",
    "        \"\"\"\n",
    "        eopatch[self.feature] = data\n",
    "\n",
    "        return eopatch"
   ]
  },
  {
   "cell_type": "code",
   "execution_count": 38,
   "id": "bf04e0bd-8ff1-4a3d-ab41-56bd608de347",
   "metadata": {},
   "outputs": [
    {
     "data": {
      "text/plain": [
       "EOPatch(\n",
       "  bbox=BBox(((0.0, 0.0), (1.0, 1.0)), crs=CRS('4326'))\n",
       "  timestamps=[2017-01-01 00:00:00, ...]<length=5>\n",
       "  data={\n",
       "    NEW_BANDS: numpy.ndarray(shape=(5, 100, 100, 13), dtype=float64)\n",
       "  }\n",
       ")"
      ]
     },
     "execution_count": 38,
     "metadata": {},
     "output_type": "execute_result"
    }
   ],
   "source": [
    "eopatch = EOPatch(bbox=BBox((0, 0, 1, 1), CRS.WGS84), timestamps=[f\"2017-0{i}-01\" for i in range(1, 6)])\n",
    "\n",
    "add_feature_task = AddFeatureTask((FeatureType.DATA, \"NEW_BANDS\"))\n",
    "\n",
    "data = np.zeros((5, 100, 100, 13))\n",
    "\n",
    "eopatch = add_feature_task.execute(eopatch, data=data)\n",
    "\n",
    "eopatch"
   ]
  },
  {
   "cell_type": "markdown",
   "id": "f090d76a-9833-4865-9800-52c732475fd2",
   "metadata": {},
   "source": [
    "## 5. EONode and EOWorkflow\n",
    "**EOTasks** can be joined together into an acyclic processing graph called **EOWorkflow**. Since eo-learn 1.0 these tasks first have to be wrapped into instances of EONode class"
   ]
  },
  {
   "cell_type": "code",
   "execution_count": 39,
   "id": "fbac5784-5bdc-40ad-8937-fcb57e4e7292",
   "metadata": {},
   "outputs": [],
   "source": [
    "from eolearn.core import EONode, EOWorkflow, LoadTask, SaveTask"
   ]
  },
  {
   "cell_type": "code",
   "execution_count": 40,
   "id": "82f29df3-6162-4702-919f-36a6e755a219",
   "metadata": {},
   "outputs": [],
   "source": [
    "new_feature = FeatureType.LABEL, \"NEW_LABEL\""
   ]
  },
  {
   "cell_type": "code",
   "execution_count": 43,
   "id": "c084065f-ab10-42b1-930a-70263ef5c09a",
   "metadata": {},
   "outputs": [
    {
     "data": {
      "text/plain": [
       "'/home/nicksson/Git/agro-serasa/data/example_data'"
      ]
     },
     "execution_count": 43,
     "metadata": {},
     "output_type": "execute_result"
    }
   ],
   "source": [
    "INPUT_EOPATCH = os.path.join(DATASETS_PATH, \"example_data\")\n",
    "INPUT_EOPATCH"
   ]
  },
  {
   "cell_type": "code",
   "execution_count": 44,
   "id": "0365a3d3-c0b1-462a-92ab-47932f32e0a2",
   "metadata": {},
   "outputs": [],
   "source": [
    "load_task = LoadTask(path=INPUT_EOPATCH)\n",
    "add_feature_task = AddFeatureTask(new_feature)\n",
    "save_task = SaveTask(path=OUTPUT_FOLDER, \n",
    "                     overwrite_permission=OverwritePermission.OVERWRITE_FEATURES)"
   ]
  },
  {
   "cell_type": "code",
   "execution_count": 45,
   "id": "791b629c-1b07-4c07-8112-e992d0346d98",
   "metadata": {},
   "outputs": [],
   "source": [
    "# Each EONode object defines dependecies to other EONode objects:\n",
    "load_node = EONode(load_task, inputs=[], name=\"Load EOPatch\")\n",
    "add_feature_node = EONode(add_feature_task, inputs=[load_node], name=\"Add a new feature\")\n",
    "save_node = EONode(save_task, inputs=[add_feature_node], name=\"Save EOPatch\")"
   ]
  },
  {
   "cell_type": "code",
   "execution_count": 46,
   "id": "7d91f219-737d-40f3-a6fc-99a9d8e86b65",
   "metadata": {},
   "outputs": [],
   "source": [
    "workflow = EOWorkflow([load_node, add_feature_node, save_node])\n",
    "# or \n",
    "# workflow = EOWorkflow.from_endnodes(save_node)"
   ]
  },
  {
   "cell_type": "code",
   "execution_count": 47,
   "id": "600ad99b-e060-412f-9490-894b2202d806",
   "metadata": {},
   "outputs": [
    {
     "data": {
      "text/plain": [
       "<eolearn.core.eoworkflow.EOWorkflow at 0x7f158099d950>"
      ]
     },
     "execution_count": 47,
     "metadata": {},
     "output_type": "execute_result"
    }
   ],
   "source": [
    "workflow"
   ]
  },
  {
   "cell_type": "code",
   "execution_count": 48,
   "id": "57133dd1-2b7e-428e-8e14-b5dfeba25cc9",
   "metadata": {},
   "outputs": [
    {
     "data": {
      "image/svg+xml": [
       "<?xml version=\"1.0\" encoding=\"UTF-8\" standalone=\"no\"?>\n",
       "<!DOCTYPE svg PUBLIC \"-//W3C//DTD SVG 1.1//EN\"\n",
       " \"http://www.w3.org/Graphics/SVG/1.1/DTD/svg11.dtd\">\n",
       "<!-- Generated by graphviz version 2.43.0 (0)\n",
       " -->\n",
       "<!-- Title: %3 Pages: 1 -->\n",
       "<svg width=\"575pt\" height=\"44pt\"\n",
       " viewBox=\"0.00 0.00 575.26 44.00\" xmlns=\"http://www.w3.org/2000/svg\" xmlns:xlink=\"http://www.w3.org/1999/xlink\">\n",
       "<g id=\"graph0\" class=\"graph\" transform=\"scale(1 1) rotate(0) translate(4 40)\">\n",
       "<title>%3</title>\n",
       "<polygon fill=\"white\" stroke=\"transparent\" points=\"-4,4 -4,-40 571.26,-40 571.26,4 -4,4\"/>\n",
       "<!-- Load EOPatch -->\n",
       "<g id=\"node1\" class=\"node\">\n",
       "<title>Load EOPatch</title>\n",
       "<ellipse fill=\"none\" stroke=\"black\" cx=\"76.04\" cy=\"-18\" rx=\"76.09\" ry=\"18\"/>\n",
       "<text text-anchor=\"middle\" x=\"76.04\" y=\"-14.3\" font-family=\"Times,serif\" font-size=\"14.00\">Load EOPatch</text>\n",
       "</g>\n",
       "<!-- Add a new feature -->\n",
       "<g id=\"node2\" class=\"node\">\n",
       "<title>Add a new feature</title>\n",
       "<ellipse fill=\"none\" stroke=\"black\" cx=\"283.63\" cy=\"-18\" rx=\"95.58\" ry=\"18\"/>\n",
       "<text text-anchor=\"middle\" x=\"283.63\" y=\"-14.3\" font-family=\"Times,serif\" font-size=\"14.00\">Add a new feature</text>\n",
       "</g>\n",
       "<!-- Load EOPatch&#45;&gt;Add a new feature -->\n",
       "<g id=\"edge1\" class=\"edge\">\n",
       "<title>Load EOPatch&#45;&gt;Add a new feature</title>\n",
       "<path fill=\"none\" stroke=\"black\" d=\"M152.14,-18C160.46,-18 169.05,-18 177.66,-18\"/>\n",
       "<polygon fill=\"black\" stroke=\"black\" points=\"177.76,-21.5 187.76,-18 177.76,-14.5 177.76,-21.5\"/>\n",
       "</g>\n",
       "<!-- Save EOPatch -->\n",
       "<g id=\"node3\" class=\"node\">\n",
       "<title>Save EOPatch</title>\n",
       "<ellipse fill=\"none\" stroke=\"black\" cx=\"491.21\" cy=\"-18\" rx=\"76.09\" ry=\"18\"/>\n",
       "<text text-anchor=\"middle\" x=\"491.21\" y=\"-14.3\" font-family=\"Times,serif\" font-size=\"14.00\">Save EOPatch</text>\n",
       "</g>\n",
       "<!-- Add a new feature&#45;&gt;Save EOPatch -->\n",
       "<g id=\"edge2\" class=\"edge\">\n",
       "<title>Add a new feature&#45;&gt;Save EOPatch</title>\n",
       "<path fill=\"none\" stroke=\"black\" d=\"M379.3,-18C387.84,-18 396.45,-18 404.91,-18\"/>\n",
       "<polygon fill=\"black\" stroke=\"black\" points=\"405.12,-21.5 415.12,-18 405.12,-14.5 405.12,-21.5\"/>\n",
       "</g>\n",
       "</g>\n",
       "</svg>\n"
      ],
      "text/plain": [
       "<graphviz.graphs.Digraph at 0x7f1580a83f90>"
      ]
     },
     "execution_count": 48,
     "metadata": {},
     "output_type": "execute_result"
    }
   ],
   "source": [
    "workflow.dependency_graph()\n",
    "# if error use \"!pip install eo-learn[VISUALIZATION]\" to install visualization dependences"
   ]
  },
  {
   "cell_type": "code",
   "execution_count": 50,
   "id": "f69eb285-9149-47f2-91b9-5f27e6fa441c",
   "metadata": {},
   "outputs": [
    {
     "data": {
      "text/plain": [
       "WorkflowResults(outputs={}, start_time=datetime.datetime(2024, 9, 22, 11, 45, 58, 711174), end_time=datetime.datetime(2024, 9, 22, 11, 45, 59, 83891), stats={'LoadTask-49afb55578f111ef8319-0578f5f287bc': NodeStats(node_uid='LoadTask-49afb55578f111ef8319-0578f5f287bc', node_name='Load EOPatch', start_time=datetime.datetime(2024, 9, 22, 11, 45, 58, 711209), end_time=datetime.datetime(2024, 9, 22, 11, 45, 58, 772048), exception_info=None), 'AddFeatureTask-49afb89f78f111efa617-49b318fc4372': NodeStats(node_uid='AddFeatureTask-49afb89f78f111efa617-49b318fc4372', node_name='Add a new feature', start_time=datetime.datetime(2024, 9, 22, 11, 45, 58, 774037), end_time=datetime.datetime(2024, 9, 22, 11, 45, 58, 774085), exception_info=None), 'SaveTask-49afbaed78f111efb909-5559a9c806a6': NodeStats(node_uid='SaveTask-49afbaed78f111efb909-5559a9c806a6', node_name='Save EOPatch', start_time=datetime.datetime(2024, 9, 22, 11, 45, 58, 775287), end_time=datetime.datetime(2024, 9, 22, 11, 45, 59, 82969), exception_info=None)}, error_node_uid=None)"
      ]
     },
     "execution_count": 50,
     "metadata": {},
     "output_type": "execute_result"
    }
   ],
   "source": [
    "results = workflow.execute(\n",
    "    {\n",
    "        load_node: {\"eopatch_folder\": \"TestEOPatch\"},\n",
    "        add_feature_node: {\"data\": np.zeros((68, 3), dtype=np.uint8)},\n",
    "        save_node: {\"eopatch_folder\": \"WorkflowEOPatch\"},\n",
    "    }\n",
    ")\n",
    "\n",
    "results"
   ]
  },
  {
   "cell_type": "markdown",
   "id": "b01f9156-02b4-44bc-b8a2-2272ff9382a3",
   "metadata": {},
   "source": [
    "## 6. EOExecutor\n",
    "**EOExecutor** handles the execution and monitoring of EOWorkflows. It enables executing a workflow multiple times and in parallel. At the end, it generates a report containing the summary of the workflow’s execution process."
   ]
  },
  {
   "cell_type": "code",
   "execution_count": 51,
   "id": "b86b471a-8bc6-4b9f-b1dc-d13f325bea2b",
   "metadata": {},
   "outputs": [],
   "source": [
    "from eolearn.core import EOExecutor"
   ]
  },
  {
   "cell_type": "code",
   "execution_count": 56,
   "id": "fb374ef6-bbd4-43d1-b04f-4afe23e5cb10",
   "metadata": {},
   "outputs": [],
   "source": [
    "execution_args = [  # EOWorkflow will be executed for each of these 5 dictionaries:\n",
    "    {\n",
    "        load_node: {\"eopatch_folder\": \"TestEOPatch\"},\n",
    "        add_feature_node: {\"data\": idx * np.ones((10, 3), dtype=np.uint8)},\n",
    "        save_node: {\"eopatch_folder\": f\"ResultEOPatch{idx}\"},\n",
    "    }\n",
    "    for idx in range(5)\n",
    "]"
   ]
  },
  {
   "cell_type": "code",
   "execution_count": 57,
   "id": "38f874f7-2441-4886-ae4e-0ea270fba85d",
   "metadata": {},
   "outputs": [],
   "source": [
    "executor = EOExecutor(workflow, execution_args, save_logs=True, logs_folder=OUTPUT_FOLDER)"
   ]
  },
  {
   "cell_type": "code",
   "execution_count": 58,
   "id": "9282cf01-6443-450e-8363-678bb8012760",
   "metadata": {},
   "outputs": [
    {
     "data": {
      "application/vnd.jupyter.widget-view+json": {
       "model_id": "aa0bae18802045478f120853cd0c71c6",
       "version_major": 2,
       "version_minor": 0
      },
      "text/plain": [
       "  0%|          | 0/5 [00:00<?, ?it/s]"
      ]
     },
     "metadata": {},
     "output_type": "display_data"
    },
    {
     "name": "stderr",
     "output_type": "stream",
     "text": [
      "/tmp/ipykernel_25023/1749671361.py:18: TemporalDimensionWarning: Missmatch in temporal dimensions when adding (<FeatureType.LABEL: 'label'>, 'NEW_LABEL'): EOPatch has 68 timestamps while the value has a temporal size of 10.\n",
      "  eopatch[self.feature] = data\n",
      "/tmp/ipykernel_25023/1749671361.py:18: TemporalDimensionWarning: Missmatch in temporal dimensions when adding (<FeatureType.LABEL: 'label'>, 'NEW_LABEL'): EOPatch has 68 timestamps while the value has a temporal size of 10.\n",
      "  eopatch[self.feature] = data\n",
      "/tmp/ipykernel_25023/1749671361.py:18: TemporalDimensionWarning: Missmatch in temporal dimensions when adding (<FeatureType.LABEL: 'label'>, 'NEW_LABEL'): EOPatch has 68 timestamps while the value has a temporal size of 10.\n",
      "  eopatch[self.feature] = data\n",
      "/home/nicksson/Git/agro-serasa/.venv/lib/python3.11/site-packages/eolearn/core/eodata.py:577: TemporalDimensionWarning: Missmatch in temporal dimensions when adding (<FeatureType.LABEL: 'label'>, 'NEW_LABEL'): EOPatch has 68 timestamps while the value has a temporal size of 10.\n",
      "  return self.__copy__(features=features, copy_timestamps=copy_timestamps)\n",
      "/home/nicksson/Git/agro-serasa/.venv/lib/python3.11/site-packages/eolearn/core/eodata.py:577: TemporalDimensionWarning: Missmatch in temporal dimensions when adding (<FeatureType.LABEL: 'label'>, 'NEW_LABEL'): EOPatch has 68 timestamps while the value has a temporal size of 10.\n",
      "  return self.__copy__(features=features, copy_timestamps=copy_timestamps)\n",
      "/home/nicksson/Git/agro-serasa/.venv/lib/python3.11/site-packages/eolearn/core/eodata.py:577: TemporalDimensionWarning: Missmatch in temporal dimensions when adding (<FeatureType.LABEL: 'label'>, 'NEW_LABEL'): EOPatch has 68 timestamps while the value has a temporal size of 10.\n",
      "  return self.__copy__(features=features, copy_timestamps=copy_timestamps)\n",
      "/tmp/ipykernel_25023/1749671361.py:18: TemporalDimensionWarning: Missmatch in temporal dimensions when adding (<FeatureType.LABEL: 'label'>, 'NEW_LABEL'): EOPatch has 68 timestamps while the value has a temporal size of 10.\n",
      "  eopatch[self.feature] = data\n",
      "/tmp/ipykernel_25023/1749671361.py:18: TemporalDimensionWarning: Missmatch in temporal dimensions when adding (<FeatureType.LABEL: 'label'>, 'NEW_LABEL'): EOPatch has 68 timestamps while the value has a temporal size of 10.\n",
      "  eopatch[self.feature] = data\n",
      "/home/nicksson/Git/agro-serasa/.venv/lib/python3.11/site-packages/eolearn/core/eodata.py:577: TemporalDimensionWarning: Missmatch in temporal dimensions when adding (<FeatureType.LABEL: 'label'>, 'NEW_LABEL'): EOPatch has 68 timestamps while the value has a temporal size of 10.\n",
      "  return self.__copy__(features=features, copy_timestamps=copy_timestamps)\n",
      "/home/nicksson/Git/agro-serasa/.venv/lib/python3.11/site-packages/eolearn/core/eodata.py:577: TemporalDimensionWarning: Missmatch in temporal dimensions when adding (<FeatureType.LABEL: 'label'>, 'NEW_LABEL'): EOPatch has 68 timestamps while the value has a temporal size of 10.\n",
      "  return self.__copy__(features=features, copy_timestamps=copy_timestamps)\n"
     ]
    }
   ],
   "source": [
    "results = executor.run(workers=3)  # The execution will use at most 3 parallel processes"
   ]
  },
  {
   "cell_type": "code",
   "execution_count": 59,
   "id": "753526d2-95bb-40b7-a41f-e8cfd6103177",
   "metadata": {},
   "outputs": [
    {
     "name": "stdout",
     "output_type": "stream",
     "text": [
      "Report was saved to location: /home/nicksson/Git/agro-serasa/data/outputs/eoexecution-report-2024_09_22-11_47_36/report.html\n"
     ]
    }
   ],
   "source": [
    "executor.make_report()\n",
    "print(f\"Report was saved to location: {executor.get_report_path()}\")"
   ]
  },
  {
   "cell_type": "code",
   "execution_count": null,
   "id": "f8955c9a-a518-4e6b-9a3f-68c50e1edb81",
   "metadata": {},
   "outputs": [],
   "source": []
  },
  {
   "cell_type": "code",
   "execution_count": null,
   "id": "6be9652d-743e-46a4-97f1-2587e2738ba4",
   "metadata": {},
   "outputs": [],
   "source": []
  }
 ],
 "metadata": {
  "kernelspec": {
   "display_name": "Python 3 (ipykernel)",
   "language": "python",
   "name": "python3"
  },
  "language_info": {
   "codemirror_mode": {
    "name": "ipython",
    "version": 3
   },
   "file_extension": ".py",
   "mimetype": "text/x-python",
   "name": "python",
   "nbconvert_exporter": "python",
   "pygments_lexer": "ipython3",
   "version": "3.12.5"
  }
 },
 "nbformat": 4,
 "nbformat_minor": 5
}
